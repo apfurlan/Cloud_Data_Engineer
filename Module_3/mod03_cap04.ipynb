{
  "cells": [
    {
      "cell_type": "markdown",
      "metadata": {
        "id": "ZYQOAaUMcZaK"
      },
      "source": [
        "# **Módulo 3 - Manipulando dados com Spark - Parte I**\n",
        "\n",
        "## **Importando bibliotecas do Spark**"
      ]
    },
    {
      "cell_type": "code",
      "execution_count": 1,
      "metadata": {
        "id": "-UnIpb1plxFh"
      },
      "outputs": [],
      "source": [
        "%%bash\n",
        "\n",
        "# Instal Java\n",
        "apt-get install openjdk-8-jdk-headless -qq > /dev/null\n",
        "\n",
        "# Install PySpark\n",
        "pip install -q pyspark"
      ]
    },
    {
      "cell_type": "code",
      "execution_count": 2,
      "metadata": {
        "id": "_w5Uk758dqZv"
      },
      "outputs": [],
      "source": [
        "import os\n",
        "os.environ['JAVA_HOME'] = '/usr/lib/jvm/java-8-openjdk-amd64'\n",
        "\n",
        "from pyspark.sql import SparkSession\n",
        "\n",
        "spark = SparkSession.builder.master(\"local[*]\").getOrCreate()"
      ]
    },
    {
      "cell_type": "markdown",
      "metadata": {
        "id": "8skAk9tlAFqr"
      },
      "source": [
        "**OBS :** A preparação do ambiente não é igual ao da aula porque estou fazendo \n",
        "o exercício no Google Colab. "
      ]
    },
    {
      "cell_type": "code",
      "execution_count": null,
      "metadata": {
        "id": "rcGWi-Is_bwi"
      },
      "outputs": [],
      "source": [
        "df = spark.createDataFrame([('Fulano','1'),\n",
        "                            ('Ciclano','2')], \n",
        "                           schema='nome STRING, id STRING')"
      ]
    },
    {
      "cell_type": "code",
      "execution_count": null,
      "metadata": {
        "colab": {
          "base_uri": "https://localhost:8080/"
        },
        "id": "XOzcRlzV_-7j",
        "outputId": "52b2bf41-e662-4b84-8770-68e7c3150dd7"
      },
      "outputs": [
        {
          "name": "stdout",
          "output_type": "stream",
          "text": [
            "+-------+---+\n",
            "|   nome| id|\n",
            "+-------+---+\n",
            "| Fulano|  1|\n",
            "|Ciclano|  2|\n",
            "+-------+---+\n",
            "\n"
          ]
        }
      ],
      "source": [
        "df.show()"
      ]
    },
    {
      "cell_type": "markdown",
      "metadata": {
        "id": "SiQRcC1kPpPg"
      },
      "source": [
        "## **Acessando os Tipos do Spark**"
      ]
    },
    {
      "cell_type": "code",
      "execution_count": 3,
      "metadata": {
        "id": "sU0NoVPTBI4H"
      },
      "outputs": [],
      "source": [
        "from pyspark.sql.types import *\n",
        "from pyspark.sql.functions import col"
      ]
    },
    {
      "cell_type": "code",
      "execution_count": null,
      "metadata": {
        "id": "-jY0eugiPvE9"
      },
      "outputs": [],
      "source": [
        "int_type = IntegerType()"
      ]
    },
    {
      "cell_type": "code",
      "execution_count": null,
      "metadata": {
        "id": "u5-jdi2BPzMm"
      },
      "outputs": [],
      "source": [
        "array_type = ArrayType(IntegerType())"
      ]
    },
    {
      "cell_type": "code",
      "execution_count": null,
      "metadata": {
        "colab": {
          "base_uri": "https://localhost:8080/"
        },
        "id": "WwfLTywOP6tO",
        "outputId": "52e6a278-5067-4a72-e215-ebda0eb5971a"
      },
      "outputs": [
        {
          "data": {
            "text/plain": [
              "ArrayType(IntegerType,true)"
            ]
          },
          "execution_count": 8,
          "metadata": {},
          "output_type": "execute_result"
        }
      ],
      "source": [
        "array_type"
      ]
    },
    {
      "cell_type": "markdown",
      "metadata": {
        "id": "t9qd-9OvPh7_"
      },
      "source": [
        "## **Convertendo os tipos de Colunas**"
      ]
    },
    {
      "cell_type": "code",
      "execution_count": null,
      "metadata": {
        "colab": {
          "base_uri": "https://localhost:8080/"
        },
        "id": "Va-9KbQOPgXy",
        "outputId": "1bed3d4c-61bf-4c9e-b1bf-f725a93c36b5"
      },
      "outputs": [
        {
          "data": {
            "text/plain": [
              "[('nome', 'string'), ('id', 'string')]"
            ]
          },
          "execution_count": 9,
          "metadata": {},
          "output_type": "execute_result"
        }
      ],
      "source": [
        "df.dtypes"
      ]
    },
    {
      "cell_type": "code",
      "execution_count": null,
      "metadata": {
        "colab": {
          "base_uri": "https://localhost:8080/"
        },
        "id": "WWe0QTr6QHKn",
        "outputId": "c8aa832b-7e33-4f3c-e341-53d74ada788b"
      },
      "outputs": [
        {
          "data": {
            "text/plain": [
              "DataFrame[nome: string, id: int]"
            ]
          },
          "execution_count": 10,
          "metadata": {},
          "output_type": "execute_result"
        }
      ],
      "source": [
        "df.select('nome',col('id').cast(IntegerType()))"
      ]
    },
    {
      "cell_type": "code",
      "execution_count": null,
      "metadata": {
        "colab": {
          "base_uri": "https://localhost:8080/"
        },
        "id": "OUrwbs5yRmxP",
        "outputId": "e345dfca-94f9-4592-a268-783b1117520e"
      },
      "outputs": [
        {
          "name": "stdout",
          "output_type": "stream",
          "text": [
            "+-------+---+\n",
            "|   nome| id|\n",
            "+-------+---+\n",
            "| Fulano|  1|\n",
            "|Ciclano|  2|\n",
            "+-------+---+\n",
            "\n"
          ]
        }
      ],
      "source": [
        "df.show()"
      ]
    },
    {
      "cell_type": "code",
      "execution_count": null,
      "metadata": {
        "colab": {
          "base_uri": "https://localhost:8080/"
        },
        "id": "ig6ppuTXRYmH",
        "outputId": "10c0bc48-3130-4d54-869d-7070f2ce373a"
      },
      "outputs": [
        {
          "data": {
            "text/plain": [
              "DataFrame[nome: string, id: int]"
            ]
          },
          "execution_count": 12,
          "metadata": {},
          "output_type": "execute_result"
        }
      ],
      "source": [
        "df.select('nome',col('id').cast('int'))"
      ]
    },
    {
      "cell_type": "code",
      "execution_count": null,
      "metadata": {
        "colab": {
          "base_uri": "https://localhost:8080/"
        },
        "id": "-Nvb5PjbRijA",
        "outputId": "ef4d7d05-286f-4fb5-f14c-80d05ea92356"
      },
      "outputs": [
        {
          "name": "stdout",
          "output_type": "stream",
          "text": [
            "+-------+---+\n",
            "|   nome| id|\n",
            "+-------+---+\n",
            "| Fulano|  1|\n",
            "|Ciclano|  2|\n",
            "+-------+---+\n",
            "\n"
          ]
        }
      ],
      "source": [
        "df.show()"
      ]
    },
    {
      "cell_type": "markdown",
      "metadata": {
        "id": "iaYo-SYpTbKq"
      },
      "source": [
        "## **Schema e Criação de DataFrames**\n",
        "\n",
        "Um schema no Spark é uma especificação de tipos de colunas de um DataFrame. Eles são usadaos na leitura de dados externos e criação de DataFrames, e podem\n",
        "ser passados diretamente no Spark ou podem ser inferidos. Passar um schema na \n",
        "leitura traz benefícios interessantes como : \n",
        "\n",
        "  - Evita que o Spark faça inferência de tipos, o que é custoso e demorado \n",
        "  dependendo do tamanho do arquivo, laém de propenso a erros; \n",
        "  - Permite que usuário identifique erros nos dados logo na leitura, caso \n",
        "  não sigam o schema especificado. "
      ]
    },
    {
      "cell_type": "code",
      "execution_count": null,
      "metadata": {
        "id": "7blgQfXFTWYQ"
      },
      "outputs": [],
      "source": [
        "df = spark.createDataFrame([('Fulano'  ,1),\n",
        "                            ('Ciclano' ,2),\n",
        "                            ('Beltrano',3),\n",
        "                            ('Deltrano',4)], \n",
        "                            schema=['nome','id'])"
      ]
    },
    {
      "cell_type": "code",
      "execution_count": null,
      "metadata": {
        "colab": {
          "base_uri": "https://localhost:8080/"
        },
        "id": "NZGXtlagBI4h",
        "outputId": "b4cd1f6d-3d95-460f-871f-fbd19d4f42d7"
      },
      "outputs": [
        {
          "name": "stdout",
          "output_type": "stream",
          "text": [
            "+--------+---+\n",
            "|    nome| id|\n",
            "+--------+---+\n",
            "|  Fulano|  1|\n",
            "| Ciclano|  2|\n",
            "|Beltrano|  3|\n",
            "|Deltrano|  4|\n",
            "+--------+---+\n",
            "\n"
          ]
        }
      ],
      "source": [
        "df.show()"
      ]
    },
    {
      "cell_type": "code",
      "execution_count": null,
      "metadata": {
        "colab": {
          "base_uri": "https://localhost:8080/"
        },
        "id": "_vpIewuFCgwp",
        "outputId": "2bbb441f-e56d-40c8-99e6-415cdde2b2a4"
      },
      "outputs": [
        {
          "data": {
            "text/plain": [
              "[('nome', 'string'), ('id', 'bigint')]"
            ]
          },
          "execution_count": 16,
          "metadata": {},
          "output_type": "execute_result"
        }
      ],
      "source": [
        "df.dtypes"
      ]
    },
    {
      "cell_type": "markdown",
      "metadata": {
        "id": "f0IOIeAIDa98"
      },
      "source": [
        "## **Criando schemas programaticamente**"
      ]
    },
    {
      "cell_type": "code",
      "execution_count": null,
      "metadata": {
        "id": "5YIDaDTxDXZA"
      },
      "outputs": [],
      "source": [
        "schema = \\\n",
        "  StructType([\n",
        "    StructField('nome',StringType()),\n",
        "    StructField('id'  ,IntegerType())\n",
        "  ])"
      ]
    },
    {
      "cell_type": "code",
      "execution_count": null,
      "metadata": {
        "id": "uIQbagUbEnDI"
      },
      "outputs": [],
      "source": [
        "df = spark.createDataFrame([('Fulano'  ,1),\n",
        "                            ('Ciclano' ,2),\n",
        "                            ('Beltrano',3),\n",
        "                            ('Deltrano',4)], \n",
        "                            schema=schema)"
      ]
    },
    {
      "cell_type": "code",
      "execution_count": null,
      "metadata": {
        "colab": {
          "base_uri": "https://localhost:8080/"
        },
        "id": "s-4udmByErA-",
        "outputId": "38a23fe5-5d39-4097-d6ba-45cb45d3edd8"
      },
      "outputs": [
        {
          "name": "stdout",
          "output_type": "stream",
          "text": [
            "+--------+---+\n",
            "|    nome| id|\n",
            "+--------+---+\n",
            "|  Fulano|  1|\n",
            "| Ciclano|  2|\n",
            "|Beltrano|  3|\n",
            "|Deltrano|  4|\n",
            "+--------+---+\n",
            "\n"
          ]
        }
      ],
      "source": [
        "df.show()"
      ]
    },
    {
      "cell_type": "code",
      "execution_count": null,
      "metadata": {
        "colab": {
          "base_uri": "https://localhost:8080/"
        },
        "id": "zyY_cKXaEuLA",
        "outputId": "a05de92c-3ef1-49bf-8f0e-72d05c4139a1"
      },
      "outputs": [
        {
          "data": {
            "text/plain": [
              "[('nome', 'string'), ('id', 'int')]"
            ]
          },
          "execution_count": 20,
          "metadata": {},
          "output_type": "execute_result"
        }
      ],
      "source": [
        "df.dtypes"
      ]
    },
    {
      "cell_type": "markdown",
      "metadata": {
        "id": "lWF-8DZcFV1i"
      },
      "source": [
        "## **Criando schemas com DDL**"
      ]
    },
    {
      "cell_type": "code",
      "execution_count": null,
      "metadata": {
        "id": "NN2q2UkuFyX5"
      },
      "outputs": [],
      "source": [
        "schema = 'nome STRING, id INT' "
      ]
    },
    {
      "cell_type": "code",
      "execution_count": null,
      "metadata": {
        "id": "HsVGAtCSF7t5"
      },
      "outputs": [],
      "source": [
        "df = spark.createDataFrame([('Fulano'  ,1),\n",
        "                            ('Ciclano' ,2),\n",
        "                            ('Beltrano',3),\n",
        "                            ('Deltrano',4)], \n",
        "                            schema=schema)"
      ]
    },
    {
      "cell_type": "code",
      "execution_count": null,
      "metadata": {
        "colab": {
          "base_uri": "https://localhost:8080/"
        },
        "id": "RhudxUSZGASS",
        "outputId": "3fc6cd70-f340-4169-a521-f34fcb992638"
      },
      "outputs": [
        {
          "name": "stdout",
          "output_type": "stream",
          "text": [
            "+--------+---+\n",
            "|    nome| id|\n",
            "+--------+---+\n",
            "|  Fulano|  1|\n",
            "| Ciclano|  2|\n",
            "|Beltrano|  3|\n",
            "|Deltrano|  4|\n",
            "+--------+---+\n",
            "\n"
          ]
        }
      ],
      "source": [
        "df.show()"
      ]
    },
    {
      "cell_type": "code",
      "execution_count": null,
      "metadata": {
        "colab": {
          "base_uri": "https://localhost:8080/"
        },
        "id": "_vJqFLmwGCZo",
        "outputId": "5810de75-5e2f-459f-f97f-63472ece93ef"
      },
      "outputs": [
        {
          "data": {
            "text/plain": [
              "[('nome', 'string'), ('id', 'int')]"
            ]
          },
          "execution_count": 24,
          "metadata": {},
          "output_type": "execute_result"
        }
      ],
      "source": [
        "df.dtypes"
      ]
    },
    {
      "cell_type": "markdown",
      "metadata": {
        "id": "husCstajGxVV"
      },
      "source": [
        "## **Criando DataFrames**"
      ]
    },
    {
      "cell_type": "code",
      "execution_count": null,
      "metadata": {
        "id": "SuHaW4CUG2S3"
      },
      "outputs": [],
      "source": [
        "data = [('Fulano'  ,1),\n",
        "        ('Ciclano' ,2),\n",
        "        ('Beltrano',3),\n",
        "        ('Deltrano',4)]"
      ]
    },
    {
      "cell_type": "code",
      "execution_count": null,
      "metadata": {
        "id": "ZcljhesaIRP7"
      },
      "outputs": [],
      "source": [
        "schema = 'nome STRING, id INT' "
      ]
    },
    {
      "cell_type": "code",
      "execution_count": null,
      "metadata": {
        "id": "3kkhykYPG_oL"
      },
      "outputs": [],
      "source": [
        "df = spark.createDataFrame(data,schema=schema)"
      ]
    },
    {
      "cell_type": "code",
      "execution_count": null,
      "metadata": {
        "colab": {
          "base_uri": "https://localhost:8080/"
        },
        "id": "6Ixy6n8LHPx5",
        "outputId": "0ae1b4e7-597f-4980-a4d6-f13e359320bf"
      },
      "outputs": [
        {
          "data": {
            "text/plain": [
              "[('nome', 'string'), ('id', 'int')]"
            ]
          },
          "execution_count": 28,
          "metadata": {},
          "output_type": "execute_result"
        }
      ],
      "source": [
        "df.dtypes"
      ]
    },
    {
      "cell_type": "code",
      "execution_count": null,
      "metadata": {
        "colab": {
          "base_uri": "https://localhost:8080/"
        },
        "id": "3Qg3Dn2RIELo",
        "outputId": "7a6f4831-f38b-4786-a328-a1909ff0ce90"
      },
      "outputs": [
        {
          "name": "stdout",
          "output_type": "stream",
          "text": [
            "root\n",
            " |-- nome: string (nullable = true)\n",
            " |-- id: integer (nullable = true)\n",
            "\n"
          ]
        }
      ],
      "source": [
        "df.printSchema()"
      ]
    },
    {
      "cell_type": "code",
      "execution_count": null,
      "metadata": {
        "colab": {
          "base_uri": "https://localhost:8080/"
        },
        "id": "8pbM_FQoIIdH",
        "outputId": "c5b5ce2b-3765-485a-8d77-71dd70f1e933"
      },
      "outputs": [
        {
          "name": "stdout",
          "output_type": "stream",
          "text": [
            "+---+\n",
            "| id|\n",
            "+---+\n",
            "|  0|\n",
            "|  1|\n",
            "|  2|\n",
            "|  3|\n",
            "|  4|\n",
            "|  5|\n",
            "|  6|\n",
            "|  7|\n",
            "|  8|\n",
            "|  9|\n",
            "| 10|\n",
            "| 11|\n",
            "| 12|\n",
            "| 13|\n",
            "| 14|\n",
            "| 15|\n",
            "| 16|\n",
            "| 17|\n",
            "| 18|\n",
            "| 19|\n",
            "+---+\n",
            "only showing top 20 rows\n",
            "\n"
          ]
        }
      ],
      "source": [
        "spark.range(100).show()"
      ]
    },
    {
      "cell_type": "markdown",
      "metadata": {
        "id": "5qg_kW12KrzM"
      },
      "source": [
        "## **Leitura e Escrita de Dados**"
      ]
    },
    {
      "cell_type": "code",
      "execution_count": null,
      "metadata": {
        "id": "6BX9gGlMOTXa"
      },
      "outputs": [],
      "source": [
        "link_tab = '/content/drive/MyDrive/igti_bootcamps/eng_dados_cloud/mod3/tab_cnae.csv'"
      ]
    },
    {
      "cell_type": "markdown",
      "metadata": {
        "id": "wh2RsPm9Orgv"
      },
      "source": [
        "### **DataFrameReader**\n",
        "\n",
        "      `spark.read.format(format).option(args).load(file_path)`\n",
        "\n",
        "### **DataFrameWriter**\n",
        "\n",
        "      `spark.write.format(format).option(args).load(file_path)`\n",
        "\n",
        "### **Lendo e Escrevendo CSV**\n",
        "Opções mais comuns : \n",
        "  - header\n",
        "  - inferSchema\n",
        "  - sep\n",
        "  - encoding"
      ]
    },
    {
      "cell_type": "code",
      "execution_count": null,
      "metadata": {
        "id": "CpsxO-pKIwpo"
      },
      "outputs": [],
      "source": [
        "#df = spark.read.format('csv').load(link_tab)\n",
        "df = spark.read.csv(link_tab,sep=',',header=True)"
      ]
    },
    {
      "cell_type": "code",
      "execution_count": null,
      "metadata": {
        "colab": {
          "base_uri": "https://localhost:8080/"
        },
        "id": "nzB9qGuIRzIR",
        "outputId": "f33d1170-6b3f-4b29-c4c9-c353efb8224f"
      },
      "outputs": [
        {
          "name": "stdout",
          "output_type": "stream",
          "text": [
            "+------+--------------------+---------+-----------+\n",
            "|  CNAE|           DESCRIÇÃO|CÓD.SETOR| NOME SETOR|\n",
            "+------+--------------------+---------+-----------+\n",
            "|111301|    Cultivo de arroz|        1|AGRICULTURA|\n",
            "|111302|    Cultivo de milho|        1|AGRICULTURA|\n",
            "|111303|    Cultivo de trigo|        1|AGRICULTURA|\n",
            "|111399|Cultivo de outros...|        1|AGRICULTURA|\n",
            "|112101|Cultivo de algodã...|        1|AGRICULTURA|\n",
            "+------+--------------------+---------+-----------+\n",
            "\n"
          ]
        }
      ],
      "source": [
        "df.limit(5).show()"
      ]
    },
    {
      "cell_type": "markdown",
      "metadata": {
        "id": "PeQYhy08SnZQ"
      },
      "source": [
        "## **Definindo o schema**"
      ]
    },
    {
      "cell_type": "code",
      "execution_count": null,
      "metadata": {
        "id": "45I0vDwbSmPG"
      },
      "outputs": [],
      "source": [
        "schema = 'cod_cnae STRING, descricao STRING, cod_setor INT, nome_setor STRING '"
      ]
    },
    {
      "cell_type": "code",
      "execution_count": null,
      "metadata": {
        "id": "oOWwilsuTEXd"
      },
      "outputs": [],
      "source": [
        "df = spark.read.csv(link_tab,sep=',',header=True, schema=schema)"
      ]
    },
    {
      "cell_type": "code",
      "execution_count": null,
      "metadata": {
        "colab": {
          "base_uri": "https://localhost:8080/"
        },
        "id": "CKCUSC11UjL8",
        "outputId": "0de3e0c2-1c91-4d00-9379-f94dbad350f3"
      },
      "outputs": [
        {
          "data": {
            "text/plain": [
              "[('cod_cnae', 'string'),\n",
              " ('descricao', 'string'),\n",
              " ('cod_setor', 'int'),\n",
              " ('nome_setor', 'string')]"
            ]
          },
          "execution_count": 36,
          "metadata": {},
          "output_type": "execute_result"
        }
      ],
      "source": [
        "df.dtypes"
      ]
    },
    {
      "cell_type": "markdown",
      "metadata": {
        "id": "pwSdM89kUv1O"
      },
      "source": [
        "outra forma de fazer seria"
      ]
    },
    {
      "cell_type": "code",
      "execution_count": null,
      "metadata": {
        "colab": {
          "base_uri": "https://localhost:8080/"
        },
        "id": "j5Eevu8lU0LF",
        "outputId": "e64fb049-5f15-42f0-b502-962bc51c858a"
      },
      "outputs": [
        {
          "name": "stdout",
          "output_type": "stream",
          "text": [
            "+--------+--------------------+---------+-----------+\n",
            "|cod_cnae|           descricao|cod_setor| nome_setor|\n",
            "+--------+--------------------+---------+-----------+\n",
            "|  111301|    Cultivo de arroz|        1|AGRICULTURA|\n",
            "|  111302|    Cultivo de milho|        1|AGRICULTURA|\n",
            "|  111303|    Cultivo de trigo|        1|AGRICULTURA|\n",
            "|  111399|Cultivo de outros...|        1|AGRICULTURA|\n",
            "|  112101|Cultivo de algodã...|        1|AGRICULTURA|\n",
            "+--------+--------------------+---------+-----------+\n",
            "\n"
          ]
        }
      ],
      "source": [
        "df = (\n",
        "    spark.read\n",
        "    .format('csv')\n",
        "    .option('header','true')\n",
        "    .option('sep',',')\n",
        "    .schema(schema)\n",
        "    .load(link_tab)\n",
        "    )\n",
        "\n",
        "df.limit(5).show()"
      ]
    },
    {
      "cell_type": "code",
      "execution_count": null,
      "metadata": {
        "colab": {
          "base_uri": "https://localhost:8080/"
        },
        "id": "egPhxkJXVOs6",
        "outputId": "f814b740-8ad3-4a69-a0ab-b737b4f35495"
      },
      "outputs": [
        {
          "name": "stdout",
          "output_type": "stream",
          "text": [
            "+--------+--------------------+---------+-----------+\n",
            "|cod_cnae|           descricao|cod_setor| nome_setor|\n",
            "+--------+--------------------+---------+-----------+\n",
            "|  111301|    Cultivo de arroz|        1|AGRICULTURA|\n",
            "|  111302|    Cultivo de milho|        1|AGRICULTURA|\n",
            "|  111303|    Cultivo de trigo|        1|AGRICULTURA|\n",
            "|  111399|Cultivo de outros...|        1|AGRICULTURA|\n",
            "|  112101|Cultivo de algodã...|        1|AGRICULTURA|\n",
            "+--------+--------------------+---------+-----------+\n",
            "only showing top 5 rows\n",
            "\n"
          ]
        }
      ],
      "source": [
        "df = (\n",
        "    spark.read\n",
        "    .format('csv')\n",
        "    .options(header=True,sep=',')  \n",
        "    .schema(schema)\n",
        "    .load(link_tab)\n",
        ")\n",
        "df.show(5)"
      ]
    },
    {
      "cell_type": "markdown",
      "metadata": {
        "id": "nUtfDfgXWatV"
      },
      "source": [
        "**OBS :** Utilizando o método \"options\" podemos parametrizar melhor nossa função\n",
        " usando um dicionário"
      ]
    },
    {
      "cell_type": "code",
      "execution_count": null,
      "metadata": {
        "colab": {
          "base_uri": "https://localhost:8080/"
        },
        "id": "gsLFLB6xWG2N",
        "outputId": "4b9f32c9-1558-44d9-c3e6-ac871f73b00e"
      },
      "outputs": [
        {
          "name": "stdout",
          "output_type": "stream",
          "text": [
            "+--------+--------------------+---------+-----------+\n",
            "|cod_cnae|           descricao|cod_setor| nome_setor|\n",
            "+--------+--------------------+---------+-----------+\n",
            "|  111301|    Cultivo de arroz|        1|AGRICULTURA|\n",
            "|  111302|    Cultivo de milho|        1|AGRICULTURA|\n",
            "|  111303|    Cultivo de trigo|        1|AGRICULTURA|\n",
            "|  111399|Cultivo de outros...|        1|AGRICULTURA|\n",
            "|  112101|Cultivo de algodã...|        1|AGRICULTURA|\n",
            "+--------+--------------------+---------+-----------+\n",
            "only showing top 5 rows\n",
            "\n"
          ]
        }
      ],
      "source": [
        "options_dict = {\n",
        "    'sep' : ',' , \n",
        "    'header' : 'True'\n",
        "}\n",
        "\n",
        "df = (\n",
        "      spark.read\n",
        "    .format('csv')\n",
        "    .options(**options_dict)  \n",
        "    .schema(schema)\n",
        "    .load(link_tab)\n",
        ")\n",
        "df.show(5)"
      ]
    },
    {
      "cell_type": "code",
      "execution_count": null,
      "metadata": {
        "colab": {
          "base_uri": "https://localhost:8080/"
        },
        "id": "XWFonWIFWFqZ",
        "outputId": "a23a1f38-a2bb-4e35-a236-b8359d1d7ef6"
      },
      "outputs": [
        {
          "name": "stdout",
          "output_type": "stream",
          "text": [
            "root\n",
            " |-- cod_cnae: string (nullable = true)\n",
            " |-- descricao: string (nullable = true)\n",
            " |-- cod_setor: integer (nullable = true)\n",
            " |-- nome_setor: string (nullable = true)\n",
            "\n"
          ]
        }
      ],
      "source": [
        "df.printSchema()"
      ]
    },
    {
      "cell_type": "code",
      "execution_count": null,
      "metadata": {
        "id": "le_8x-efaV61"
      },
      "outputs": [],
      "source": [
        "schema = 'cod_cnae INT, descricao STRING, cod_setor INT, nome_setor STRING '"
      ]
    },
    {
      "cell_type": "code",
      "execution_count": null,
      "metadata": {
        "colab": {
          "base_uri": "https://localhost:8080/"
        },
        "id": "jJ7CSqVCasAw",
        "outputId": "4b9686d1-cb37-42ba-eb3e-31db08a1e6c5"
      },
      "outputs": [
        {
          "name": "stdout",
          "output_type": "stream",
          "text": [
            "+--------+--------------------+---------+-----------+\n",
            "|cod_cnae|           descricao|cod_setor| nome_setor|\n",
            "+--------+--------------------+---------+-----------+\n",
            "|  111301|    Cultivo de arroz|        1|AGRICULTURA|\n",
            "|  111302|    Cultivo de milho|        1|AGRICULTURA|\n",
            "|  111303|    Cultivo de trigo|        1|AGRICULTURA|\n",
            "|  111399|Cultivo de outros...|        1|AGRICULTURA|\n",
            "|  112101|Cultivo de algodã...|        1|AGRICULTURA|\n",
            "+--------+--------------------+---------+-----------+\n",
            "only showing top 5 rows\n",
            "\n"
          ]
        }
      ],
      "source": [
        "options_dict = {\n",
        "    'sep' : ',' , \n",
        "    'header' : 'True'\n",
        "}\n",
        "\n",
        "df = (\n",
        "      spark.read\n",
        "    .format('csv')\n",
        "    .options(**options_dict)  \n",
        "    .schema(schema)\n",
        "    .load(link_tab)\n",
        ")\n",
        "df.show(5)"
      ]
    },
    {
      "cell_type": "code",
      "execution_count": null,
      "metadata": {
        "colab": {
          "base_uri": "https://localhost:8080/"
        },
        "id": "ItbH1E0Uaund",
        "outputId": "ff53f857-1158-4176-a5ab-5a4ebdbaf463"
      },
      "outputs": [
        {
          "name": "stdout",
          "output_type": "stream",
          "text": [
            "root\n",
            " |-- cod_cnae: integer (nullable = true)\n",
            " |-- descricao: string (nullable = true)\n",
            " |-- cod_setor: integer (nullable = true)\n",
            " |-- nome_setor: string (nullable = true)\n",
            "\n"
          ]
        }
      ],
      "source": [
        "df.printSchema()"
      ]
    },
    {
      "cell_type": "code",
      "execution_count": null,
      "metadata": {
        "id": "hW2evH4Pa8X5"
      },
      "outputs": [],
      "source": [
        "path_save = '/content/drive/MyDrive/igti_bootcamps/eng_dados_cloud/mod3/'"
      ]
    },
    {
      "cell_type": "code",
      "execution_count": null,
      "metadata": {
        "id": "h1jPwXbOaxh1"
      },
      "outputs": [],
      "source": [
        "#df.write.format('csv').save(path_save + 'df_cnae_teste',header=True)"
      ]
    },
    {
      "cell_type": "code",
      "execution_count": null,
      "metadata": {
        "colab": {
          "base_uri": "https://localhost:8080/"
        },
        "id": "ak-adfrrbZea",
        "outputId": "c242944f-974c-48e8-fdab-f03b316c126d"
      },
      "outputs": [
        {
          "name": "stdout",
          "output_type": "stream",
          "text": [
            "root\n",
            " |-- cod_cnae: string (nullable = true)\n",
            " |-- descricao: string (nullable = true)\n",
            " |-- cod_setor: string (nullable = true)\n",
            " |-- nome_setor: string (nullable = true)\n",
            "\n"
          ]
        }
      ],
      "source": [
        "spark.read.format('csv').load(path_save + 'df_cnae_teste',header=True).printSchema()"
      ]
    },
    {
      "cell_type": "code",
      "execution_count": null,
      "metadata": {
        "id": "vAcKHd-ncUO4"
      },
      "outputs": [],
      "source": [
        "df.toPandas().to_csv(\n",
        "    path_save + 'df_cnae_teste.csv',\n",
        "    index=False, header=True\n",
        "    )"
      ]
    },
    {
      "cell_type": "markdown",
      "metadata": {
        "id": "JlTK8cUTDLIk"
      },
      "source": [
        "# **Aula 3.4.2 -** Leitura e escrita de dados - Parte II"
      ]
    },
    {
      "cell_type": "markdown",
      "metadata": {
        "id": "13hLby6vbrCP"
      },
      "source": [
        "## **Lendo e Escrevendo JSON**"
      ]
    },
    {
      "cell_type": "code",
      "execution_count": null,
      "metadata": {
        "id": "L30rJvoibpgo"
      },
      "outputs": [],
      "source": [
        "df.write.format('json') \\\n",
        "  .mode('overwrite')  \\\n",
        "  .save(path_save + 'df_cnae_teste.json')"
      ]
    },
    {
      "cell_type": "code",
      "execution_count": null,
      "metadata": {
        "id": "7_Lh3EpJ8Vm5"
      },
      "outputs": [],
      "source": [
        "df_json = spark.read.format('json') \\\n",
        "  .load(path_save + 'df_cnae_teste.json')"
      ]
    },
    {
      "cell_type": "code",
      "execution_count": null,
      "metadata": {
        "colab": {
          "base_uri": "https://localhost:8080/"
        },
        "id": "yrbUBVq78tah",
        "outputId": "70110e58-bb40-48d7-9ddd-519eface2a48"
      },
      "outputs": [
        {
          "name": "stdout",
          "output_type": "stream",
          "text": [
            "+--------+---------+--------------------+-----------+\n",
            "|cod_cnae|cod_setor|           descricao| nome_setor|\n",
            "+--------+---------+--------------------+-----------+\n",
            "|  111301|        1|    Cultivo de arroz|AGRICULTURA|\n",
            "|  111302|        1|    Cultivo de milho|AGRICULTURA|\n",
            "|  111303|        1|    Cultivo de trigo|AGRICULTURA|\n",
            "|  111399|        1|Cultivo de outros...|AGRICULTURA|\n",
            "|  112101|        1|Cultivo de algodã...|AGRICULTURA|\n",
            "|  112102|        1|     Cultivo de juta|AGRICULTURA|\n",
            "|  112199|        1|Cultivo de outras...|AGRICULTURA|\n",
            "|  113000|        1|Cultivo de cana-d...|AGRICULTURA|\n",
            "|  114800|        1|     Cultivo de fumo|AGRICULTURA|\n",
            "|  115600|        1|     Cultivo de soja|AGRICULTURA|\n",
            "|  116401|        1| Cultivo de amendoim|AGRICULTURA|\n",
            "|  116402|        1| Cultivo de girassol|AGRICULTURA|\n",
            "|  116403|        1|   Cultivo de mamona|AGRICULTURA|\n",
            "|  116499|        1|Cultivo de outras...|AGRICULTURA|\n",
            "|  119901|        1|  Cultivo de abacaxi|AGRICULTURA|\n",
            "|  119902|        1|     Cultivo de alho|AGRICULTURA|\n",
            "|  119903|        1|Cultivo de batata...|AGRICULTURA|\n",
            "|  119904|        1|   Cultivo de cebola|AGRICULTURA|\n",
            "|  119905|        1|   Cultivo de feijão|AGRICULTURA|\n",
            "|  119906|        1| Cultivo de mandioca|AGRICULTURA|\n",
            "+--------+---------+--------------------+-----------+\n",
            "only showing top 20 rows\n",
            "\n"
          ]
        }
      ],
      "source": [
        "df_json.show()"
      ]
    },
    {
      "cell_type": "code",
      "execution_count": null,
      "metadata": {
        "colab": {
          "base_uri": "https://localhost:8080/"
        },
        "id": "pyisu7OP8xeR",
        "outputId": "0879601f-6e33-4321-de13-d2a161b22075"
      },
      "outputs": [
        {
          "name": "stdout",
          "output_type": "stream",
          "text": [
            "root\n",
            " |-- cod_cnae: long (nullable = true)\n",
            " |-- cod_setor: long (nullable = true)\n",
            " |-- descricao: string (nullable = true)\n",
            " |-- nome_setor: string (nullable = true)\n",
            "\n"
          ]
        }
      ],
      "source": [
        "df_json.printSchema()"
      ]
    },
    {
      "cell_type": "markdown",
      "metadata": {
        "id": "aXQSIJA587i7"
      },
      "source": [
        "## **Lendo e Escrevendo ORC**\n",
        "\n"
      ]
    },
    {
      "cell_type": "code",
      "execution_count": null,
      "metadata": {
        "id": "K9juI3Q68_1o"
      },
      "outputs": [],
      "source": [
        "df.write.format('orc') \\\n",
        "  .mode('overwrite') \\\n",
        "  .save(path_save + 'df_cnae_teste.orc')"
      ]
    },
    {
      "cell_type": "code",
      "execution_count": null,
      "metadata": {
        "id": "xAOK40KF-x_U"
      },
      "outputs": [],
      "source": [
        "df_orc = spark.read.format('orc').load(path_save + 'df_cnae_teste.orc')"
      ]
    },
    {
      "cell_type": "code",
      "execution_count": null,
      "metadata": {
        "colab": {
          "base_uri": "https://localhost:8080/"
        },
        "id": "6A1UtGyt_FXs",
        "outputId": "4d81bd92-f470-4254-f580-497ae3ede1a8"
      },
      "outputs": [
        {
          "name": "stdout",
          "output_type": "stream",
          "text": [
            "+--------+--------------------+---------+-----------+\n",
            "|cod_cnae|           descricao|cod_setor| nome_setor|\n",
            "+--------+--------------------+---------+-----------+\n",
            "|  111301|    Cultivo de arroz|        1|AGRICULTURA|\n",
            "|  111302|    Cultivo de milho|        1|AGRICULTURA|\n",
            "|  111303|    Cultivo de trigo|        1|AGRICULTURA|\n",
            "|  111399|Cultivo de outros...|        1|AGRICULTURA|\n",
            "|  112101|Cultivo de algodã...|        1|AGRICULTURA|\n",
            "+--------+--------------------+---------+-----------+\n",
            "only showing top 5 rows\n",
            "\n"
          ]
        }
      ],
      "source": [
        "df_orc.show(5)"
      ]
    },
    {
      "cell_type": "code",
      "execution_count": null,
      "metadata": {
        "colab": {
          "base_uri": "https://localhost:8080/"
        },
        "id": "kUlupl80-9fO",
        "outputId": "ba2c9171-bd5d-4a72-e2f8-14f84d574962"
      },
      "outputs": [
        {
          "name": "stdout",
          "output_type": "stream",
          "text": [
            "root\n",
            " |-- cod_cnae: integer (nullable = true)\n",
            " |-- descricao: string (nullable = true)\n",
            " |-- cod_setor: integer (nullable = true)\n",
            " |-- nome_setor: string (nullable = true)\n",
            "\n"
          ]
        }
      ],
      "source": [
        "df_orc.printSchema()"
      ]
    },
    {
      "cell_type": "markdown",
      "metadata": {
        "id": "Yk79I1Q19Tqa"
      },
      "source": [
        "## **Lendo e Escrevendo Parquet**\n",
        "\n",
        "  - Armazenamento colunar, em contraste com o CSV, que armazena baseado nas linhas. Assim, quando uma query é realizada é possível ignorar os dados não relevantes de maneira rápida e fácil, resultando em operações bem mais eficientes; \n",
        "  - Preservação de metadados, incluindo os tipos das colunas, o que garante eficiência e praticidade na escrita e leitura (não é necessário especificar schemas para arquivos parquet);\n",
        "  - Suporte a dados estruturados de forma aninhada, como listas;\n",
        "  - Otimizado para processar dados particionados com volume na casa dos gigabytes para cada arquivo;\n",
        "  - Compressão de dados na escrita, de forma a ocupar menos espaço;\n",
        "  - Integração com ferramentas como AWS athena, Amazon Redshift Spectrum, Google Big Query e Google Dataproc. "
      ]
    },
    {
      "cell_type": "code",
      "execution_count": null,
      "metadata": {
        "id": "kPPt_eH7_nl4"
      },
      "outputs": [],
      "source": [
        "df.write.format('parquet') \\\n",
        "  .mode('overwrite') \\\n",
        "  .save(path_save + 'df_cnae_teste.pq')"
      ]
    },
    {
      "cell_type": "code",
      "execution_count": null,
      "metadata": {
        "id": "-EJoZHCF_vYq"
      },
      "outputs": [],
      "source": [
        "df_parquet = spark.read.format('parquet').load(path_save + 'df_cnae_teste.pq')"
      ]
    },
    {
      "cell_type": "code",
      "execution_count": null,
      "metadata": {
        "colab": {
          "base_uri": "https://localhost:8080/"
        },
        "id": "Qo_GC2ZEACzh",
        "outputId": "259daac5-305b-4818-f8a2-542dde4d71ba"
      },
      "outputs": [
        {
          "name": "stdout",
          "output_type": "stream",
          "text": [
            "+--------+--------------------+---------+-----------+\n",
            "|cod_cnae|           descricao|cod_setor| nome_setor|\n",
            "+--------+--------------------+---------+-----------+\n",
            "|  111301|    Cultivo de arroz|        1|AGRICULTURA|\n",
            "|  111302|    Cultivo de milho|        1|AGRICULTURA|\n",
            "|  111303|    Cultivo de trigo|        1|AGRICULTURA|\n",
            "|  111399|Cultivo de outros...|        1|AGRICULTURA|\n",
            "|  112101|Cultivo de algodã...|        1|AGRICULTURA|\n",
            "+--------+--------------------+---------+-----------+\n",
            "only showing top 5 rows\n",
            "\n"
          ]
        }
      ],
      "source": [
        "df_parquet.show(5)"
      ]
    },
    {
      "cell_type": "code",
      "execution_count": null,
      "metadata": {
        "colab": {
          "base_uri": "https://localhost:8080/"
        },
        "id": "6-x8p_VfBKqn",
        "outputId": "c70972a0-fa60-4b14-da36-f6bb54dc773d"
      },
      "outputs": [
        {
          "name": "stdout",
          "output_type": "stream",
          "text": [
            "root\n",
            " |-- cod_cnae: integer (nullable = true)\n",
            " |-- descricao: string (nullable = true)\n",
            " |-- cod_setor: integer (nullable = true)\n",
            " |-- nome_setor: string (nullable = true)\n",
            "\n"
          ]
        }
      ],
      "source": [
        "df_parquet.printSchema()"
      ]
    },
    {
      "cell_type": "markdown",
      "metadata": {
        "id": "MKRXHeNiBRke"
      },
      "source": [
        "mode : \n",
        "  \n",
        "  - append : arquivos empilhados aos já existentes\n",
        "  - ignore : retorna um erro silencioso\n",
        "  - overwrite : sobrescreve os dados já exsitentes\n",
        "  -  error (default) : retorne erro se já existem dados"
      ]
    },
    {
      "cell_type": "code",
      "execution_count": null,
      "metadata": {
        "id": "-u4Enx7iBPhP"
      },
      "outputs": [],
      "source": [
        "df.write.format('parquet').save(path_save + 'df_cnae_teste.pq', \n",
        "                                mode='overwrite'\n",
        "                                )"
      ]
    },
    {
      "cell_type": "markdown",
      "metadata": {
        "id": "IGYlBpwWCDHj"
      },
      "source": [
        "ou"
      ]
    },
    {
      "cell_type": "code",
      "execution_count": null,
      "metadata": {
        "id": "l-AkkhGzCCsm"
      },
      "outputs": [],
      "source": [
        "df.write.format('parquet').mode('overwrite').save(path_save + 'df_cnae_teste.pq')"
      ]
    },
    {
      "cell_type": "markdown",
      "metadata": {
        "id": "LHVwZ1o2C6XF"
      },
      "source": [
        "# **Aula 3.5.1 -** Operações básicas com DataFrames - Parte I\n",
        "\n",
        "## **Manipulação dos Dados**"
      ]
    },
    {
      "cell_type": "code",
      "execution_count": 4,
      "metadata": {
        "id": "X0YdzZERC4Nm"
      },
      "outputs": [],
      "source": [
        "imdb_path = '/content/drive/MyDrive/igti_bootcamps/eng_dados_cloud/mod3/title_basics.csv'"
      ]
    },
    {
      "cell_type": "code",
      "execution_count": 5,
      "metadata": {
        "colab": {
          "base_uri": "https://localhost:8080/"
        },
        "id": "YONEC-anKxI1",
        "outputId": "3ae70c9a-b405-4923-bc09-d6f56bfb0067"
      },
      "outputs": [
        {
          "output_type": "stream",
          "name": "stdout",
          "text": [
            "+---------+---------+--------------------+--------------------+-------+---------+-------+--------------+--------------------+\n",
            "|   tconst|titleType|        primaryTitle|       originalTitle|isAdult|startYear|endYear|runtimeMinutes|              genres|\n",
            "+---------+---------+--------------------+--------------------+-------+---------+-------+--------------+--------------------+\n",
            "|tt0000001|    short|          Carmencita|          Carmencita|      0|     1894|     \\N|             1|   Documentary,Short|\n",
            "|tt0000002|    short|Le clown et ses c...|Le clown et ses c...|      0|     1892|     \\N|             5|     Animation,Short|\n",
            "|tt0000003|    short|      Pauvre Pierrot|      Pauvre Pierrot|      0|     1892|     \\N|             4|Animation,Comedy,...|\n",
            "|tt0000004|    short|         Un bon bock|         Un bon bock|      0|     1892|     \\N|            12|     Animation,Short|\n",
            "|tt0000005|    short|    Blacksmith Scene|    Blacksmith Scene|      0|     1893|     \\N|             1|        Comedy,Short|\n",
            "+---------+---------+--------------------+--------------------+-------+---------+-------+--------------+--------------------+\n",
            "only showing top 5 rows\n",
            "\n"
          ]
        }
      ],
      "source": [
        "options_dict = {\n",
        "    'sep' : '\\t' , \n",
        "    'header' : 'True'\n",
        "}\n",
        "\n",
        "df_titles = (\n",
        "      spark.read\n",
        "    .format('csv')\n",
        "    .options(**options_dict)  \n",
        "    .load(imdb_path)\n",
        ")\n",
        "\n",
        "df_titles.show(5)"
      ]
    },
    {
      "cell_type": "markdown",
      "metadata": {
        "id": "Q1zDDQhoMVYX"
      },
      "source": [
        "## **Colunas e Expressões**\n",
        "\n",
        "As colunas são a principal unidade de manipulação de dados do Spark"
      ]
    },
    {
      "cell_type": "code",
      "execution_count": 6,
      "metadata": {
        "id": "97JNjP-MMUVp"
      },
      "outputs": [],
      "source": [
        "from pyspark.sql.functions import col,round"
      ]
    },
    {
      "cell_type": "code",
      "execution_count": null,
      "metadata": {
        "colab": {
          "base_uri": "https://localhost:8080/"
        },
        "id": "IiNgObEwLe8D",
        "outputId": "ca6502d8-7308-45e6-a495-3a4f1cbcad18"
      },
      "outputs": [
        {
          "output_type": "stream",
          "name": "stdout",
          "text": [
            "+---------+--------------------+--------------+--------------------+\n",
            "|   tconst|        primaryTitle|runtimeMinutes|        runtimeHours|\n",
            "+---------+--------------------+--------------+--------------------+\n",
            "|tt0000001|          Carmencita|             1|0.016666666666666666|\n",
            "|tt0000002|Le clown et ses c...|             5| 0.08333333333333333|\n",
            "|tt0000003|      Pauvre Pierrot|             4| 0.06666666666666667|\n",
            "|tt0000004|         Un bon bock|            12|                 0.2|\n",
            "|tt0000005|    Blacksmith Scene|             1|0.016666666666666666|\n",
            "+---------+--------------------+--------------+--------------------+\n",
            "only showing top 5 rows\n",
            "\n"
          ]
        }
      ],
      "source": [
        "(\n",
        "    df_titles.select('tconst','primaryTitle','runtimeMinutes',)\n",
        "    .withColumn('runtimeHours',col('runTimeMinutes').cast('int')/60)\n",
        "    .show(5)\n",
        ")"
      ]
    },
    {
      "cell_type": "code",
      "execution_count": null,
      "metadata": {
        "colab": {
          "base_uri": "https://localhost:8080/"
        },
        "id": "9Yu445bfN55l",
        "outputId": "41950000-3701-4d20-df50-af7aa8983d18"
      },
      "outputs": [
        {
          "output_type": "stream",
          "name": "stdout",
          "text": [
            "+---------+--------------------+--------------+------------+\n",
            "|   tconst|        primaryTitle|runtimeMinutes|runtimeHours|\n",
            "+---------+--------------------+--------------+------------+\n",
            "|tt0000001|          Carmencita|             1|       0.017|\n",
            "|tt0000002|Le clown et ses c...|             5|       0.083|\n",
            "|tt0000003|      Pauvre Pierrot|             4|       0.067|\n",
            "|tt0000004|         Un bon bock|            12|         0.2|\n",
            "|tt0000005|    Blacksmith Scene|             1|       0.017|\n",
            "+---------+--------------------+--------------+------------+\n",
            "only showing top 5 rows\n",
            "\n"
          ]
        }
      ],
      "source": [
        "(\n",
        "    df_titles.select('tconst','primaryTitle','runtimeMinutes',)\n",
        "    .withColumn('runtimeHours',round(col('runTimeMinutes').cast('int')/60,3))\n",
        "    .show(5)\n",
        ")"
      ]
    },
    {
      "cell_type": "code",
      "execution_count": null,
      "metadata": {
        "colab": {
          "base_uri": "https://localhost:8080/"
        },
        "id": "mpxPIn5GON9H",
        "outputId": "9da55908-5942-4ec7-9f2f-9a09e0488ac1"
      },
      "outputs": [
        {
          "output_type": "execute_result",
          "data": {
            "text/plain": [
              "Column<'runtimeMinutes'>"
            ]
          },
          "metadata": {},
          "execution_count": 16
        }
      ],
      "source": [
        "df_titles['runtimeMinutes']"
      ]
    },
    {
      "cell_type": "markdown",
      "metadata": {
        "id": "XNbd-vTLNmZp"
      },
      "source": [
        "Forma \"pandas\" de selecionar\n",
        "\n",
        "  1. df.coluna\n",
        "  2. df['coluna']"
      ]
    },
    {
      "cell_type": "code",
      "execution_count": null,
      "metadata": {
        "colab": {
          "base_uri": "https://localhost:8080/"
        },
        "id": "sSgDoHhpNla-",
        "outputId": "1022eed0-c4e6-4f7f-d6a1-4b6f4774c2b7"
      },
      "outputs": [
        {
          "output_type": "stream",
          "name": "stdout",
          "text": [
            "+---------+--------------------+--------------+------------+\n",
            "|   tconst|        primaryTitle|runtimeMinutes|runtimeHours|\n",
            "+---------+--------------------+--------------+------------+\n",
            "|tt0000001|          Carmencita|             1|       0.017|\n",
            "|tt0000002|Le clown et ses c...|             5|       0.083|\n",
            "|tt0000003|      Pauvre Pierrot|             4|       0.067|\n",
            "|tt0000004|         Un bon bock|            12|         0.2|\n",
            "|tt0000005|    Blacksmith Scene|             1|       0.017|\n",
            "+---------+--------------------+--------------+------------+\n",
            "only showing top 5 rows\n",
            "\n"
          ]
        }
      ],
      "source": [
        "(\n",
        "    df_titles.select('tconst','primaryTitle','runtimeMinutes',)\n",
        "    .withColumn('runtimeHours',round(col('runTimeMinutes').cast('int')/60,3))\n",
        "    .show(5)\n",
        ")"
      ]
    },
    {
      "cell_type": "code",
      "execution_count": null,
      "metadata": {
        "colab": {
          "base_uri": "https://localhost:8080/"
        },
        "id": "9AK-HZPDPrmL",
        "outputId": "050281df-513b-4176-d674-2b0fef1c58bc"
      },
      "outputs": [
        {
          "output_type": "stream",
          "name": "stdout",
          "text": [
            "+---------+--------------------+--------------+--------------------+\n",
            "|   tconst|        primaryTitle|runtimeMinutes|        runtimeHours|\n",
            "+---------+--------------------+--------------+--------------------+\n",
            "|tt0000001|          Carmencita|             1|0.016666666666666666|\n",
            "|tt0000002|Le clown et ses c...|             5| 0.08333333333333333|\n",
            "|tt0000003|      Pauvre Pierrot|             4| 0.06666666666666667|\n",
            "|tt0000004|         Un bon bock|            12|                 0.2|\n",
            "|tt0000005|    Blacksmith Scene|             1|0.016666666666666666|\n",
            "+---------+--------------------+--------------+--------------------+\n",
            "only showing top 5 rows\n",
            "\n"
          ]
        }
      ],
      "source": [
        "(\n",
        "    df_titles.select('tconst','primaryTitle','runtimeMinutes',)\n",
        "    .withColumn('runtimeHours',df_titles['runtimeMinutes'].cast('int')/60)\n",
        "    #.withColumn('hour_plus2',df_titles['runtimeHours'] + 2)\n",
        "    .show(5)\n",
        ")"
      ]
    },
    {
      "cell_type": "code",
      "execution_count": null,
      "metadata": {
        "colab": {
          "base_uri": "https://localhost:8080/"
        },
        "id": "8Dg_Pa59OeoV",
        "outputId": "bf677d81-875d-45f6-a050-0fcb4af3219c"
      },
      "outputs": [
        {
          "output_type": "stream",
          "name": "stdout",
          "text": [
            "+---------+--------------------+--------------+--------------------+------------------+\n",
            "|   tconst|        primaryTitle|runtimeMinutes|        runtimeHours|       hours_plus2|\n",
            "+---------+--------------------+--------------+--------------------+------------------+\n",
            "|tt0000001|          Carmencita|             1|0.016666666666666666|2.0166666666666666|\n",
            "|tt0000002|Le clown et ses c...|             5| 0.08333333333333333|2.0833333333333335|\n",
            "|tt0000003|      Pauvre Pierrot|             4| 0.06666666666666667| 2.066666666666667|\n",
            "|tt0000004|         Un bon bock|            12|                 0.2|               2.2|\n",
            "|tt0000005|    Blacksmith Scene|             1|0.016666666666666666|2.0166666666666666|\n",
            "+---------+--------------------+--------------+--------------------+------------------+\n",
            "only showing top 5 rows\n",
            "\n"
          ]
        }
      ],
      "source": [
        "(\n",
        "    df_titles.select('tconst','primaryTitle','runtimeMinutes',)\n",
        "    .withColumn('runtimeHours',col('runtimeMinutes').cast('int')/60)\n",
        "    .withColumn('hours_plus2' ,col('runtimeHours') + 2)\n",
        "    .show(5)\n",
        ")"
      ]
    },
    {
      "cell_type": "markdown",
      "metadata": {
        "id": "Z5IECVlGP20n"
      },
      "source": [
        "### **Expressões**"
      ]
    },
    {
      "cell_type": "code",
      "execution_count": 7,
      "metadata": {
        "id": "0_h36DaGP-BN"
      },
      "outputs": [],
      "source": [
        "from pyspark.sql.functions import expr"
      ]
    },
    {
      "cell_type": "code",
      "execution_count": null,
      "metadata": {
        "colab": {
          "base_uri": "https://localhost:8080/"
        },
        "id": "59700kpEQFsW",
        "outputId": "38ee88e0-df0a-491e-b292-4b598dbd76cd"
      },
      "outputs": [
        {
          "output_type": "stream",
          "name": "stdout",
          "text": [
            "+---------+--------------------+--------------+--------------------+\n",
            "|   tconst|        primaryTitle|runtimeMinutes|        runtimeHours|\n",
            "+---------+--------------------+--------------+--------------------+\n",
            "|tt0000001|          Carmencita|             1|0.016666666666666666|\n",
            "|tt0000002|Le clown et ses c...|             5| 0.08333333333333333|\n",
            "|tt0000003|      Pauvre Pierrot|             4| 0.06666666666666667|\n",
            "|tt0000004|         Un bon bock|            12|                 0.2|\n",
            "|tt0000005|    Blacksmith Scene|             1|0.016666666666666666|\n",
            "+---------+--------------------+--------------+--------------------+\n",
            "only showing top 5 rows\n",
            "\n"
          ]
        }
      ],
      "source": [
        "(\n",
        "    df_titles.select('tconst','primaryTitle','runtimeMinutes',)\n",
        "    .withColumn('runtimeHours',expr('cast(runtimeMinutes as INT)/60'))\n",
        "    .show(5)\n",
        ")"
      ]
    },
    {
      "cell_type": "code",
      "execution_count": null,
      "metadata": {
        "colab": {
          "base_uri": "https://localhost:8080/"
        },
        "id": "2i7le0oYRChf",
        "outputId": "9abc0259-c46f-4b44-ddd9-020218f66446"
      },
      "outputs": [
        {
          "output_type": "stream",
          "name": "stdout",
          "text": [
            "+---------+--------------------+--------------+------------+\n",
            "|   tconst|        primaryTitle|runtimeMinutes|runtimeHours|\n",
            "+---------+--------------------+--------------+------------+\n",
            "|tt0000001|          Carmencita|             1|       0.017|\n",
            "|tt0000002|Le clown et ses c...|             5|       0.083|\n",
            "|tt0000003|      Pauvre Pierrot|             4|       0.067|\n",
            "|tt0000004|         Un bon bock|            12|         0.2|\n",
            "|tt0000005|    Blacksmith Scene|             1|       0.017|\n",
            "+---------+--------------------+--------------+------------+\n",
            "only showing top 5 rows\n",
            "\n"
          ]
        }
      ],
      "source": [
        "(\n",
        "    df_titles.select('tconst','primaryTitle','runtimeMinutes',)\n",
        "    .withColumn('runtimeHours',expr('round(cast(runtimeMinutes as INT)/60,3)'))\n",
        "    .show(5)\n",
        ")"
      ]
    },
    {
      "cell_type": "markdown",
      "metadata": {
        "id": "M2mvlH2wRTvN"
      },
      "source": [
        "# **Aula 3.5.2 -** Operações básicas com DataFrames - Parte II\n",
        "\n",
        "## **Manipulação dos Dados**"
      ]
    },
    {
      "cell_type": "code",
      "execution_count": null,
      "metadata": {
        "colab": {
          "base_uri": "https://localhost:8080/"
        },
        "id": "fGPxWkEfRLVF",
        "outputId": "7dbc7bd3-6411-4e49-98e0-531acabe9b74"
      },
      "outputs": [
        {
          "output_type": "stream",
          "name": "stdout",
          "text": [
            "+---------+---------+--------------------+--------------------+-------+---------+-------+--------------+--------------------+\n",
            "|   tconst|titleType|        primaryTitle|       originalTitle|isAdult|startYear|endYear|runtimeMinutes|              genres|\n",
            "+---------+---------+--------------------+--------------------+-------+---------+-------+--------------+--------------------+\n",
            "|tt0000001|    short|          Carmencita|          Carmencita|      0|     1894|     \\N|             1|   Documentary,Short|\n",
            "|tt0000002|    short|Le clown et ses c...|Le clown et ses c...|      0|     1892|     \\N|             5|     Animation,Short|\n",
            "|tt0000003|    short|      Pauvre Pierrot|      Pauvre Pierrot|      0|     1892|     \\N|             4|Animation,Comedy,...|\n",
            "|tt0000004|    short|         Un bon bock|         Un bon bock|      0|     1892|     \\N|            12|     Animation,Short|\n",
            "|tt0000005|    short|    Blacksmith Scene|    Blacksmith Scene|      0|     1893|     \\N|             1|        Comedy,Short|\n",
            "+---------+---------+--------------------+--------------------+-------+---------+-------+--------------+--------------------+\n",
            "only showing top 5 rows\n",
            "\n"
          ]
        }
      ],
      "source": [
        "df_titles.show(5)"
      ]
    },
    {
      "cell_type": "code",
      "execution_count": null,
      "metadata": {
        "colab": {
          "base_uri": "https://localhost:8080/"
        },
        "id": "OM5PD0rxSiYZ",
        "outputId": "e4a99b96-f78c-49df-8ad7-4c9671254490"
      },
      "outputs": [
        {
          "output_type": "stream",
          "name": "stdout",
          "text": [
            "+---------+--------------------+--------------------+\n",
            "|   tconst|        primaryTitle|              genres|\n",
            "+---------+--------------------+--------------------+\n",
            "|tt0000001|          Carmencita|   Documentary,Short|\n",
            "|tt0000002|Le clown et ses c...|     Animation,Short|\n",
            "|tt0000003|      Pauvre Pierrot|Animation,Comedy,...|\n",
            "|tt0000004|         Un bon bock|     Animation,Short|\n",
            "|tt0000005|    Blacksmith Scene|        Comedy,Short|\n",
            "+---------+--------------------+--------------------+\n",
            "only showing top 5 rows\n",
            "\n"
          ]
        }
      ],
      "source": [
        "df_titles.select('tconst','primaryTitle','genres').show(5)"
      ]
    },
    {
      "cell_type": "code",
      "execution_count": null,
      "metadata": {
        "colab": {
          "base_uri": "https://localhost:8080/"
        },
        "id": "ccRf0O9CS2gF",
        "outputId": "ba42fa91-6fbe-4532-df2f-93134bc5f5b4"
      },
      "outputs": [
        {
          "output_type": "execute_result",
          "data": {
            "text/plain": [
              "['tconst',\n",
              " 'titleType',\n",
              " 'primaryTitle',\n",
              " 'originalTitle',\n",
              " 'isAdult',\n",
              " 'startYear',\n",
              " 'endYear',\n",
              " 'runtimeMinutes',\n",
              " 'genres']"
            ]
          },
          "metadata": {},
          "execution_count": 25
        }
      ],
      "source": [
        "df_titles.columns"
      ]
    },
    {
      "cell_type": "code",
      "execution_count": null,
      "metadata": {
        "id": "PqylwJMiTLTm"
      },
      "outputs": [],
      "source": [
        "select_cols = [c for c in df_titles.columns if c.find('Title') != -1]"
      ]
    },
    {
      "cell_type": "code",
      "execution_count": null,
      "metadata": {
        "colab": {
          "base_uri": "https://localhost:8080/"
        },
        "id": "Cc_wJkLDTbUV",
        "outputId": "c07b0002-2c0c-44d4-c522-02b394bf5767"
      },
      "outputs": [
        {
          "output_type": "stream",
          "name": "stdout",
          "text": [
            "+--------------------+--------------------+\n",
            "|        primaryTitle|       originalTitle|\n",
            "+--------------------+--------------------+\n",
            "|          Carmencita|          Carmencita|\n",
            "|Le clown et ses c...|Le clown et ses c...|\n",
            "|      Pauvre Pierrot|      Pauvre Pierrot|\n",
            "|         Un bon bock|         Un bon bock|\n",
            "|    Blacksmith Scene|    Blacksmith Scene|\n",
            "+--------------------+--------------------+\n",
            "only showing top 5 rows\n",
            "\n"
          ]
        }
      ],
      "source": [
        "df_titles.select(select_cols).show(5)"
      ]
    },
    {
      "cell_type": "code",
      "execution_count": null,
      "metadata": {
        "colab": {
          "base_uri": "https://localhost:8080/"
        },
        "id": "XYvTR8SMSv3W",
        "outputId": "4753d4d6-3731-4acf-934c-af6607db67de"
      },
      "outputs": [
        {
          "output_type": "stream",
          "name": "stdout",
          "text": [
            "+---------+--------------------+--------------------+\n",
            "|   tconst|        primaryTitle|              genres|\n",
            "+---------+--------------------+--------------------+\n",
            "|tt0000001|          Carmencita|   Documentary,Short|\n",
            "|tt0000002|Le clown et ses c...|     Animation,Short|\n",
            "|tt0000003|      Pauvre Pierrot|Animation,Comedy,...|\n",
            "|tt0000004|         Un bon bock|     Animation,Short|\n",
            "|tt0000005|    Blacksmith Scene|        Comedy,Short|\n",
            "|tt0000006|   Chinese Opium Den|               Short|\n",
            "|tt0000007|Corbett and Court...|         Short,Sport|\n",
            "|tt0000008|Edison Kinetoscop...|   Documentary,Short|\n",
            "|tt0000009|          Miss Jerry|       Romance,Short|\n",
            "|tt0000010| Leaving the Factory|   Documentary,Short|\n",
            "+---------+--------------------+--------------------+\n",
            "only showing top 10 rows\n",
            "\n"
          ]
        }
      ],
      "source": [
        "cols = ['tconst','primaryTitle','genres']\n",
        "df_titles.select(cols).show(10)"
      ]
    },
    {
      "cell_type": "code",
      "execution_count": null,
      "metadata": {
        "colab": {
          "base_uri": "https://localhost:8080/"
        },
        "id": "3YvjJhNIToSP",
        "outputId": "4d7b1318-8401-4c41-8bd7-20c8c99113b6"
      },
      "outputs": [
        {
          "output_type": "stream",
          "name": "stdout",
          "text": [
            "+---------+--------------------+--------------------+\n",
            "|   tconst|        primaryTitle|              genres|\n",
            "+---------+--------------------+--------------------+\n",
            "|tt0000001|          Carmencita|   Documentary,Short|\n",
            "|tt0000002|Le clown et ses c...|     Animation,Short|\n",
            "|tt0000003|      Pauvre Pierrot|Animation,Comedy,...|\n",
            "|tt0000004|         Un bon bock|     Animation,Short|\n",
            "|tt0000005|    Blacksmith Scene|        Comedy,Short|\n",
            "+---------+--------------------+--------------------+\n",
            "only showing top 5 rows\n",
            "\n"
          ]
        }
      ],
      "source": [
        "cols = ['primaryTitle','genres']\n",
        "df_titles.select('tconst',*cols).show(5)"
      ]
    },
    {
      "cell_type": "code",
      "execution_count": null,
      "metadata": {
        "colab": {
          "base_uri": "https://localhost:8080/"
        },
        "id": "Ew9-XQwgT7QW",
        "outputId": "22ebe421-aa42-41d3-b9c2-4964106c90c0"
      },
      "outputs": [
        {
          "output_type": "stream",
          "name": "stdout",
          "text": [
            "+---------+---------+--------------------+--------------------+-------+---------+-------+--------------+--------------------+\n",
            "|   tconst|titleType|        primaryTitle|       originalTitle|isAdult|startYear|endYear|runtimeMinutes|              genres|\n",
            "+---------+---------+--------------------+--------------------+-------+---------+-------+--------------+--------------------+\n",
            "|tt0000001|    short|          Carmencita|          Carmencita|      0|     1894|     \\N|             1|   Documentary,Short|\n",
            "|tt0000002|    short|Le clown et ses c...|Le clown et ses c...|      0|     1892|     \\N|             5|     Animation,Short|\n",
            "|tt0000003|    short|      Pauvre Pierrot|      Pauvre Pierrot|      0|     1892|     \\N|             4|Animation,Comedy,...|\n",
            "|tt0000004|    short|         Un bon bock|         Un bon bock|      0|     1892|     \\N|            12|     Animation,Short|\n",
            "|tt0000005|    short|    Blacksmith Scene|    Blacksmith Scene|      0|     1893|     \\N|             1|        Comedy,Short|\n",
            "+---------+---------+--------------------+--------------------+-------+---------+-------+--------------+--------------------+\n",
            "only showing top 5 rows\n",
            "\n"
          ]
        }
      ],
      "source": [
        "df_titles.select('*').show(5)"
      ]
    },
    {
      "cell_type": "markdown",
      "metadata": {
        "id": "escA6JCOUDrb"
      },
      "source": [
        "**Observações :**\n",
        "\n",
        "  - Podemos realizar operações sobre colunas selecionadas\n",
        "  - A ordem em que as colunas são selecionadas é a ordem em que elas vão ser inseridas no DataFrame resultante."
      ]
    },
    {
      "cell_type": "code",
      "execution_count": null,
      "metadata": {
        "colab": {
          "base_uri": "https://localhost:8080/"
        },
        "id": "dD8CE-BsUBM2",
        "outputId": "9b1af1cd-2be5-4428-890e-af43d4542e72"
      },
      "outputs": [
        {
          "output_type": "stream",
          "name": "stdout",
          "text": [
            "+---------+--------------------+--------------------+\n",
            "|   tconst|              genres|        primaryTitle|\n",
            "+---------+--------------------+--------------------+\n",
            "|tt0000001|   Documentary,Short|          CARMENCITA|\n",
            "|tt0000002|     Animation,Short|LE CLOWN ET SES C...|\n",
            "|tt0000003|Animation,Comedy,...|      PAUVRE PIERROT|\n",
            "|tt0000004|     Animation,Short|         UN BON BOCK|\n",
            "|tt0000005|        Comedy,Short|    BLACKSMITH SCENE|\n",
            "+---------+--------------------+--------------------+\n",
            "only showing top 5 rows\n",
            "\n"
          ]
        }
      ],
      "source": [
        "from pyspark.sql.functions import upper\n",
        "\n",
        "df_titles.select('tconst',\n",
        "                 'genres',\n",
        "                 upper('primaryTitle').alias('primaryTitle')).show(5)"
      ]
    },
    {
      "cell_type": "markdown",
      "metadata": {
        "id": "xpZLfuusU3ce"
      },
      "source": [
        "**Selecionando valores distintos**"
      ]
    },
    {
      "cell_type": "code",
      "execution_count": null,
      "metadata": {
        "colab": {
          "base_uri": "https://localhost:8080/"
        },
        "id": "P5c5StIeUyDi",
        "outputId": "7cc09dce-e6bd-4c54-fb96-fcbc050fa35b"
      },
      "outputs": [
        {
          "output_type": "stream",
          "name": "stdout",
          "text": [
            "+---------+\n",
            "|startYear|\n",
            "+---------+\n",
            "|     1903|\n",
            "|     1953|\n",
            "|     1897|\n",
            "|     1957|\n",
            "|     1987|\n",
            "|     1956|\n",
            "|     1936|\n",
            "|     2016|\n",
            "|     2020|\n",
            "|     2012|\n",
            "|     1958|\n",
            "|     1910|\n",
            "|     1943|\n",
            "|     1915|\n",
            "|     1972|\n",
            "|     1931|\n",
            "|     1911|\n",
            "|     1926|\n",
            "|     1938|\n",
            "|     1988|\n",
            "+---------+\n",
            "only showing top 20 rows\n",
            "\n"
          ]
        }
      ],
      "source": [
        "df_titles.select('startYear').distinct().show()"
      ]
    },
    {
      "cell_type": "code",
      "execution_count": null,
      "metadata": {
        "colab": {
          "base_uri": "https://localhost:8080/"
        },
        "id": "YT0rwPtdWrva",
        "outputId": "f67a4f5d-0c23-4636-fc81-2c8d3e27d2db"
      },
      "outputs": [
        {
          "output_type": "stream",
          "name": "stdout",
          "text": [
            "+---------+---------+--------------------+--------------------+-------+---------+-------+--------------+--------------------+\n",
            "|   tconst|titleType|        primaryTitle|       originalTitle|isAdult|startYear|endYear|runtimeMinutes|              genres|\n",
            "+---------+---------+--------------------+--------------------+-------+---------+-------+--------------+--------------------+\n",
            "|tt0000033|    short|  Horse Trick Riders|          La voltige|      0|     1895|     \\N|             1|Comedy,Documentar...|\n",
            "|tt0000132|    short|          Card Party|Une partie de cartes|      0|     1896|     \\N|             1|     Biography,Short|\n",
            "|tt0214902|    short|        The Magician|         Le magicien|      0|     1898|     \\N|             1|Fantasy,Horror,Short|\n",
            "|tt0225248|    short|Canada Vignettes:...|Canada Vignettes:...|      0|     1979|     \\N|             1|     Animation,Short|\n",
            "|tt0245776|    short|       The Biter Bit|       The Biter Bit|      0|     1899|     \\N|             1|        Comedy,Short|\n",
            "+---------+---------+--------------------+--------------------+-------+---------+-------+--------------+--------------------+\n",
            "only showing top 5 rows\n",
            "\n"
          ]
        }
      ],
      "source": [
        "df_titles.distinct().show(5)"
      ]
    },
    {
      "cell_type": "code",
      "execution_count": null,
      "metadata": {
        "colab": {
          "base_uri": "https://localhost:8080/"
        },
        "id": "0zYdvTxCXAoo",
        "outputId": "4689019d-4a34-461a-ad28-8c16b5e56295"
      },
      "outputs": [
        {
          "output_type": "execute_result",
          "data": {
            "text/plain": [
              "8328316"
            ]
          },
          "metadata": {},
          "execution_count": 34
        }
      ],
      "source": [
        "df_titles.count()"
      ]
    },
    {
      "cell_type": "code",
      "execution_count": null,
      "metadata": {
        "colab": {
          "base_uri": "https://localhost:8080/"
        },
        "id": "vYnwEs2cXclI",
        "outputId": "053458ca-304f-4617-cc5e-d67535e9bb4c"
      },
      "outputs": [
        {
          "output_type": "stream",
          "name": "stdout",
          "text": [
            "== Physical Plan ==\n",
            "AdaptiveSparkPlan (5)\n",
            "+- HashAggregate (4)\n",
            "   +- Exchange (3)\n",
            "      +- HashAggregate (2)\n",
            "         +- Scan csv  (1)\n",
            "\n",
            "\n",
            "(1) Scan csv \n",
            "Output [9]: [tconst#16, titleType#17, primaryTitle#18, originalTitle#19, isAdult#20, startYear#21, endYear#22, runtimeMinutes#23, genres#24]\n",
            "Batched: false\n",
            "Location: InMemoryFileIndex [file:/content/drive/MyDrive/igti_bootcamps/eng_dados_cloud/mod3/title_basics.csv]\n",
            "ReadSchema: struct<tconst:string,titleType:string,primaryTitle:string,originalTitle:string,isAdult:string,startYear:string,endYear:string,runtimeMinutes:string,genres:string>\n",
            "\n",
            "(2) HashAggregate\n",
            "Input [9]: [tconst#16, titleType#17, primaryTitle#18, originalTitle#19, isAdult#20, startYear#21, endYear#22, runtimeMinutes#23, genres#24]\n",
            "Keys [9]: [runtimeMinutes#23, tconst#16, titleType#17, originalTitle#19, startYear#21, endYear#22, primaryTitle#18, isAdult#20, genres#24]\n",
            "Functions: []\n",
            "Aggregate Attributes: []\n",
            "Results [9]: [runtimeMinutes#23, tconst#16, titleType#17, originalTitle#19, startYear#21, endYear#22, primaryTitle#18, isAdult#20, genres#24]\n",
            "\n",
            "(3) Exchange\n",
            "Input [9]: [runtimeMinutes#23, tconst#16, titleType#17, originalTitle#19, startYear#21, endYear#22, primaryTitle#18, isAdult#20, genres#24]\n",
            "Arguments: hashpartitioning(runtimeMinutes#23, tconst#16, titleType#17, originalTitle#19, startYear#21, endYear#22, primaryTitle#18, isAdult#20, genres#24, 200), ENSURE_REQUIREMENTS, [id=#288]\n",
            "\n",
            "(4) HashAggregate\n",
            "Input [9]: [runtimeMinutes#23, tconst#16, titleType#17, originalTitle#19, startYear#21, endYear#22, primaryTitle#18, isAdult#20, genres#24]\n",
            "Keys [9]: [runtimeMinutes#23, tconst#16, titleType#17, originalTitle#19, startYear#21, endYear#22, primaryTitle#18, isAdult#20, genres#24]\n",
            "Functions: []\n",
            "Aggregate Attributes: []\n",
            "Results [9]: [tconst#16, titleType#17, primaryTitle#18, originalTitle#19, isAdult#20, startYear#21, endYear#22, runtimeMinutes#23, genres#24]\n",
            "\n",
            "(5) AdaptiveSparkPlan\n",
            "Output [9]: [tconst#16, titleType#17, primaryTitle#18, originalTitle#19, isAdult#20, startYear#21, endYear#22, runtimeMinutes#23, genres#24]\n",
            "Arguments: isFinalPlan=false\n",
            "\n",
            "\n"
          ]
        }
      ],
      "source": [
        "df_titles.distinct().explain('formatted')"
      ]
    },
    {
      "cell_type": "markdown",
      "metadata": {
        "id": "-fX36Q2eXuUa"
      },
      "source": [
        "**Filtros**\n",
        "\n",
        "Operadores lógicos : \n",
        "   - e   : &\n",
        "   - ou  : |\n",
        "   - não : ~\n",
        "\n",
        "Para fazer o filtro, pode ser usado tanto a função `filter()` como `where()` "
      ]
    },
    {
      "cell_type": "markdown",
      "metadata": {
        "id": "Rs0sRrH7YYVP"
      },
      "source": [
        "**Filtros com uma condição**"
      ]
    },
    {
      "cell_type": "code",
      "execution_count": null,
      "metadata": {
        "colab": {
          "base_uri": "https://localhost:8080/"
        },
        "id": "c1_M-ZUhYXb-",
        "outputId": "90c2c3b2-d864-4cfe-a76f-7bb9c3374d18"
      },
      "outputs": [
        {
          "output_type": "stream",
          "name": "stdout",
          "text": [
            "+---------+---------+------------------+------------------+-------+---------+-------+--------------+------+\n",
            "|   tconst|titleType|      primaryTitle|     originalTitle|isAdult|startYear|endYear|runtimeMinutes|genres|\n",
            "+---------+---------+------------------+------------------+-------+---------+-------+--------------+------+\n",
            "|tt0000502|    movie|          Bohemios|          Bohemios|      0|     1905|     \\N|           100|    \\N|\n",
            "|tt0000591|    movie|  The Prodigal Son| L'enfant prodigue|      0|     1907|     \\N|            90| Drama|\n",
            "|tt0000615|    movie|Robbery Under Arms|Robbery Under Arms|      0|     1907|     \\N|            \\N| Drama|\n",
            "|tt0000630|    movie|            Hamlet|            Amleto|      0|     1908|     \\N|            \\N| Drama|\n",
            "|tt0000675|    movie|       Don Quijote|       Don Quijote|      0|     1908|     \\N|            \\N| Drama|\n",
            "+---------+---------+------------------+------------------+-------+---------+-------+--------------+------+\n",
            "only showing top 5 rows\n",
            "\n"
          ]
        }
      ],
      "source": [
        "(\n",
        "    df_titles.filter(col('titleType') == 'movie').show(5)\n",
        ")"
      ]
    },
    {
      "cell_type": "code",
      "execution_count": null,
      "metadata": {
        "colab": {
          "base_uri": "https://localhost:8080/"
        },
        "id": "epkcQU4KX_S1",
        "outputId": "2c417b82-352c-4975-b261-b01994fe794a"
      },
      "outputs": [
        {
          "output_type": "stream",
          "name": "stdout",
          "text": [
            "+---------+---------+--------------------+--------------------+-------+---------+-------+--------------+-----------------+\n",
            "|   tconst|titleType|        primaryTitle|       originalTitle|isAdult|startYear|endYear|runtimeMinutes|           genres|\n",
            "+---------+---------+--------------------+--------------------+-------+---------+-------+--------------+-----------------+\n",
            "|tt0000502|    movie|            Bohemios|            Bohemios|      0|     1905|     \\N|           100|               \\N|\n",
            "|tt0000591|    movie|    The Prodigal Son|   L'enfant prodigue|      0|     1907|     \\N|            90|            Drama|\n",
            "|tt0000615|    movie|  Robbery Under Arms|  Robbery Under Arms|      0|     1907|     \\N|            \\N|            Drama|\n",
            "|tt0000630|    movie|              Hamlet|              Amleto|      0|     1908|     \\N|            \\N|            Drama|\n",
            "|tt0000675|    movie|         Don Quijote|         Don Quijote|      0|     1908|     \\N|            \\N|            Drama|\n",
            "|tt0000679|    movie|The Fairylogue an...|The Fairylogue an...|      0|     1908|     \\N|           120|Adventure,Fantasy|\n",
            "|tt0000739|    movie|El pastorcito de ...|El pastorcito de ...|      0|     1908|     \\N|            \\N|            Drama|\n",
            "|tt0000793|    movie|       Andreas Hofer|       Andreas Hofer|      0|     1909|     \\N|            \\N|            Drama|\n",
            "|tt0000814|    movie|La bocana de Mar ...|La bocana de Mar ...|      0|     1909|     \\N|            \\N|               \\N|\n",
            "|tt0000838|    movie|  A Cultura do Cacau|  A Cultura do Cacau|      0|     1909|     \\N|            \\N|               \\N|\n",
            "|tt0000842|    movie|De Garraf a Barce...|De Garraf a Barce...|      0|     1909|     \\N|            \\N|               \\N|\n",
            "|tt0000846|    movie|Un día en Xochimilco|Un día en Xochimilco|      0|     1909|     \\N|            \\N|               \\N|\n",
            "|tt0000850|    movie|    Los dos hermanos|    Los dos hermanos|      0|     1909|     \\N|            \\N|               \\N|\n",
            "|tt0000859|    movie|Fabricación del c...|Fabricación del c...|      0|     1909|     \\N|            \\N|               \\N|\n",
            "|tt0000862|    movie|          Faldgruben|          Faldgruben|      0|     1909|     \\N|            \\N|               \\N|\n",
            "|tt0000867|    movie|     Fiesta de toros|     Fiesta de toros|      0|     1909|     \\N|            \\N|               \\N|\n",
            "|tt0000868|    movie|Fiestas de Santa ...|Fiestas de Santa ...|      0|     1909|     \\N|            \\N|               \\N|\n",
            "|tt0000869|    movie|Fiestas en La Gar...|Fiestas en La Gar...|      0|     1909|     \\N|            \\N|               \\N|\n",
            "|tt0000879|    movie|Gira política de ...|Gira política de ...|      0|     1909|     \\N|            \\N|               \\N|\n",
            "|tt0000886|    movie|Hamlet, Prince of...|              Hamlet|      0|     1910|     \\N|            \\N|            Drama|\n",
            "+---------+---------+--------------------+--------------------+-------+---------+-------+--------------+-----------------+\n",
            "only showing top 20 rows\n",
            "\n"
          ]
        }
      ],
      "source": [
        "(\n",
        "    df_titles.where(col('titleType') == 'movie').show()\n",
        ")"
      ]
    },
    {
      "cell_type": "code",
      "execution_count": null,
      "metadata": {
        "colab": {
          "base_uri": "https://localhost:8080/"
        },
        "id": "mF1y9cAUZpTV",
        "outputId": "4ccf5336-ed44-48ab-82e2-dbad55153da3"
      },
      "outputs": [
        {
          "output_type": "execute_result",
          "data": {
            "text/plain": [
              "591977"
            ]
          },
          "metadata": {},
          "execution_count": 38
        }
      ],
      "source": [
        "(\n",
        "    df_titles.where(col('titleType') == 'movie').count()\n",
        ")"
      ]
    },
    {
      "cell_type": "code",
      "execution_count": null,
      "metadata": {
        "colab": {
          "base_uri": "https://localhost:8080/"
        },
        "id": "9V_rm1vbZ1J0",
        "outputId": "78622ceb-c8ed-4846-9255-4bbdd522ba8f"
      },
      "outputs": [
        {
          "output_type": "stream",
          "name": "stdout",
          "text": [
            "+---------+---------+--------------------+--------------------+-------+---------+-------+--------------+--------------------+\n",
            "|   tconst|titleType|        primaryTitle|       originalTitle|isAdult|startYear|endYear|runtimeMinutes|              genres|\n",
            "+---------+---------+--------------------+--------------------+-------+---------+-------+--------------+--------------------+\n",
            "|tt0000591|    movie|    The Prodigal Son|   L'enfant prodigue|      0|     1907|     \\N|            90|               Drama|\n",
            "|tt0001184|    movie|Don Juan de Serra...|Don Juan de Serra...|      0|     1910|     \\N|            58|     Adventure,Drama|\n",
            "|tt0001258|    movie|The White Slave T...|Den hvide slaveha...|      0|     1910|     \\N|            45|               Drama|\n",
            "|tt0001285|    movie|   The Life of Moses|   The Life of Moses|      0|     1909|     \\N|            50|Biography,Drama,F...|\n",
            "|tt0001498|    movie|The Battle of Tra...|The Battle of Tra...|      0|     1911|     \\N|            51|                 War|\n",
            "|tt0001592|    movie|In the Prime of Life|       Ekspeditricen|      0|     1911|     \\N|            52|               Drama|\n",
            "|tt0001630|    movie|    Der fremde Vogel|    Der fremde Vogel|      0|     1911|     \\N|            45|                  \\N|\n",
            "|tt0001790|    movie|Les Misérables, P...|Les misérables - ...|      0|     1913|     \\N|            60|               Drama|\n",
            "|tt0001812|    movie|         Oedipus Rex|         Oedipus Rex|      0|     1911|     \\N|            56|               Drama|\n",
            "|tt0001892|    movie|      Den sorte drøm|      Den sorte drøm|      0|     1911|     \\N|            53|               Drama|\n",
            "|tt0001911|    movie|         Nell Gwynne|Sweet Nell of Old...|      0|     1911|     \\N|            50|Biography,Drama,H...|\n",
            "|tt0001964|    movie|       The Traitress|      Die Verräterin|      0|     1911|     \\N|            48|               Drama|\n",
            "|tt0002026|    movie|Anny - Story of a...|Anny - en gatepig...|      0|     1912|     \\N|            68|       Drama,Romance|\n",
            "|tt0002094|    movie|          Charles IV|          Charles IV|      0|     1912|     \\N|            50|                  \\N|\n",
            "|tt0002130|    movie|     Dante's Inferno|           L'Inferno|      0|     1911|     \\N|            71|Adventure,Drama,F...|\n",
            "|tt0002153|    movie|The Great Circus ...|Dødsspring til he...|      0|     1912|     \\N|            45|               Drama|\n",
            "|tt0002186|    movie|   The Flying Circus| Den flyvende cirkus|      0|     1912|     \\N|            46|               Drama|\n",
            "|tt0002199|    movie|From the Manger t...|From the Manger t...|      0|     1912|     \\N|            60|     Biography,Drama|\n",
            "|tt0002315|    movie|El lobo de la sierra|El lobo de la sierra|      0|     1912|     \\N|            76|                  \\N|\n",
            "|tt0002423|    movie|             Passion|      Madame DuBarry|      0|     1919|     \\N|            85|Biography,Drama,R...|\n",
            "+---------+---------+--------------------+--------------------+-------+---------+-------+--------------+--------------------+\n",
            "only showing top 20 rows\n",
            "\n"
          ]
        }
      ],
      "source": [
        "(\n",
        "    df_titles.filter((col('titleType') == 'movie') & (col('runTimeMinutes') <= 90)).show()\n",
        ")"
      ]
    },
    {
      "cell_type": "code",
      "execution_count": null,
      "metadata": {
        "colab": {
          "base_uri": "https://localhost:8080/"
        },
        "id": "KCYmJ85EaL3S",
        "outputId": "f9950efd-e2cc-4a54-b219-5d7da7813664"
      },
      "outputs": [
        {
          "output_type": "stream",
          "name": "stdout",
          "text": [
            "+---------+---------+--------------------+--------------------+-------+---------+-------+--------------+--------------------+\n",
            "|   tconst|titleType|        primaryTitle|       originalTitle|isAdult|startYear|endYear|runtimeMinutes|              genres|\n",
            "+---------+---------+--------------------+--------------------+-------+---------+-------+--------------+--------------------+\n",
            "|tt0000591|    movie|    The Prodigal Son|   L'enfant prodigue|      0|     1907|     \\N|            90|               Drama|\n",
            "|tt0001184|    movie|Don Juan de Serra...|Don Juan de Serra...|      0|     1910|     \\N|            58|     Adventure,Drama|\n",
            "|tt0001258|    movie|The White Slave T...|Den hvide slaveha...|      0|     1910|     \\N|            45|               Drama|\n",
            "|tt0001285|    movie|   The Life of Moses|   The Life of Moses|      0|     1909|     \\N|            50|Biography,Drama,F...|\n",
            "|tt0001498|    movie|The Battle of Tra...|The Battle of Tra...|      0|     1911|     \\N|            51|                 War|\n",
            "|tt0001592|    movie|In the Prime of Life|       Ekspeditricen|      0|     1911|     \\N|            52|               Drama|\n",
            "|tt0001630|    movie|    Der fremde Vogel|    Der fremde Vogel|      0|     1911|     \\N|            45|                  \\N|\n",
            "|tt0001790|    movie|Les Misérables, P...|Les misérables - ...|      0|     1913|     \\N|            60|               Drama|\n",
            "|tt0001812|    movie|         Oedipus Rex|         Oedipus Rex|      0|     1911|     \\N|            56|               Drama|\n",
            "|tt0001892|    movie|      Den sorte drøm|      Den sorte drøm|      0|     1911|     \\N|            53|               Drama|\n",
            "|tt0001911|    movie|         Nell Gwynne|Sweet Nell of Old...|      0|     1911|     \\N|            50|Biography,Drama,H...|\n",
            "|tt0001964|    movie|       The Traitress|      Die Verräterin|      0|     1911|     \\N|            48|               Drama|\n",
            "|tt0002026|    movie|Anny - Story of a...|Anny - en gatepig...|      0|     1912|     \\N|            68|       Drama,Romance|\n",
            "|tt0002094|    movie|          Charles IV|          Charles IV|      0|     1912|     \\N|            50|                  \\N|\n",
            "|tt0002130|    movie|     Dante's Inferno|           L'Inferno|      0|     1911|     \\N|            71|Adventure,Drama,F...|\n",
            "|tt0002153|    movie|The Great Circus ...|Dødsspring til he...|      0|     1912|     \\N|            45|               Drama|\n",
            "|tt0002186|    movie|   The Flying Circus| Den flyvende cirkus|      0|     1912|     \\N|            46|               Drama|\n",
            "|tt0002199|    movie|From the Manger t...|From the Manger t...|      0|     1912|     \\N|            60|     Biography,Drama|\n",
            "|tt0002315|    movie|El lobo de la sierra|El lobo de la sierra|      0|     1912|     \\N|            76|                  \\N|\n",
            "|tt0002423|    movie|             Passion|      Madame DuBarry|      0|     1919|     \\N|            85|Biography,Drama,R...|\n",
            "+---------+---------+--------------------+--------------------+-------+---------+-------+--------------+--------------------+\n",
            "only showing top 20 rows\n",
            "\n"
          ]
        }
      ],
      "source": [
        "(\n",
        "    df_titles.filter(((col('titleType') == 'movie') | (col('titleType') == 'tvSeries')) & (col('runtimeMinutes') <= 90)).show()\n",
        ")"
      ]
    },
    {
      "cell_type": "code",
      "execution_count": null,
      "metadata": {
        "colab": {
          "base_uri": "https://localhost:8080/"
        },
        "id": "F0inqNeJa58D",
        "outputId": "1a24d533-cf6c-4e14-fa07-4be885afcf22"
      },
      "outputs": [
        {
          "output_type": "execute_result",
          "data": {
            "text/plain": [
              "0"
            ]
          },
          "metadata": {},
          "execution_count": 41
        }
      ],
      "source": [
        "(\n",
        "df_titles.filter( ((col('titleType') == 'movie') & (col('titleType') == 'tvSeries') & (col('runtimeMinutes') <= 90)) ).count()\n",
        ")"
      ]
    },
    {
      "cell_type": "code",
      "execution_count": null,
      "metadata": {
        "colab": {
          "base_uri": "https://localhost:8080/"
        },
        "id": "z95f5JM4aoab",
        "outputId": "545cf9de-c165-49ce-d47d-6ee8a90b426e"
      },
      "outputs": [
        {
          "output_type": "execute_result",
          "data": {
            "text/plain": [
              "296182"
            ]
          },
          "metadata": {},
          "execution_count": 42
        }
      ],
      "source": [
        "(\n",
        "    df_titles.filter(((col('titleType') == 'movie') | (col('titleType') == 'tvSeries')) & (col('runtimeMinutes') <= 90)).count()\n",
        ")"
      ]
    },
    {
      "cell_type": "code",
      "execution_count": null,
      "metadata": {
        "colab": {
          "base_uri": "https://localhost:8080/"
        },
        "id": "k_oq-7Z_aw7K",
        "outputId": "ef6ef3e4-c2ec-4762-fba8-b770756200b2"
      },
      "outputs": [
        {
          "output_type": "stream",
          "name": "stdout",
          "text": [
            "+---------+---------+--------------------+--------------------+-------+---------+-------+--------------+--------------------+\n",
            "|   tconst|titleType|        primaryTitle|       originalTitle|isAdult|startYear|endYear|runtimeMinutes|              genres|\n",
            "+---------+---------+--------------------+--------------------+-------+---------+-------+--------------+--------------------+\n",
            "|tt0000591|    movie|    The Prodigal Son|   L'enfant prodigue|      0|     1907|     \\N|            90|               Drama|\n",
            "|tt0001184|    movie|Don Juan de Serra...|Don Juan de Serra...|      0|     1910|     \\N|            58|     Adventure,Drama|\n",
            "|tt0001258|    movie|The White Slave T...|Den hvide slaveha...|      0|     1910|     \\N|            45|               Drama|\n",
            "|tt0001285|    movie|   The Life of Moses|   The Life of Moses|      0|     1909|     \\N|            50|Biography,Drama,F...|\n",
            "|tt0001498|    movie|The Battle of Tra...|The Battle of Tra...|      0|     1911|     \\N|            51|                 War|\n",
            "+---------+---------+--------------------+--------------------+-------+---------+-------+--------------+--------------------+\n",
            "only showing top 5 rows\n",
            "\n"
          ]
        }
      ],
      "source": [
        "df_titles.filter((col('titleType').isin('movie','tvSeries')) & (col('runtimeMinutes') <= 90)).show(5)"
      ]
    },
    {
      "cell_type": "code",
      "execution_count": null,
      "metadata": {
        "colab": {
          "base_uri": "https://localhost:8080/"
        },
        "id": "TqSKvRuBb18s",
        "outputId": "3d47a0e3-543a-466b-c17e-eb6482f5ce00"
      },
      "outputs": [
        {
          "output_type": "execute_result",
          "data": {
            "text/plain": [
              "296182"
            ]
          },
          "metadata": {},
          "execution_count": 44
        }
      ],
      "source": [
        "(\n",
        "df_titles\n",
        ".filter(col('titleType').isin('movie','tvSeries'))\n",
        ".filter(col('runtimeMinutes') <= 90)\n",
        ".count()\n",
        ")"
      ]
    },
    {
      "cell_type": "markdown",
      "metadata": {
        "id": "YBqhjdj_cZV8"
      },
      "source": [
        "**Filtros utilizando expressões**"
      ]
    },
    {
      "cell_type": "code",
      "execution_count": null,
      "metadata": {
        "colab": {
          "base_uri": "https://localhost:8080/"
        },
        "id": "U25H4_kNcYYq",
        "outputId": "aafea65f-8f4b-4153-9f0f-08df206d133e"
      },
      "outputs": [
        {
          "output_type": "stream",
          "name": "stdout",
          "text": [
            "+---------+---------+--------------------+--------------------+-------+---------+-------+--------------+--------------------+\n",
            "|   tconst|titleType|        primaryTitle|       originalTitle|isAdult|startYear|endYear|runtimeMinutes|              genres|\n",
            "+---------+---------+--------------------+--------------------+-------+---------+-------+--------------+--------------------+\n",
            "|tt0000591|    movie|    The Prodigal Son|   L'enfant prodigue|      0|     1907|     \\N|            90|               Drama|\n",
            "|tt0001184|    movie|Don Juan de Serra...|Don Juan de Serra...|      0|     1910|     \\N|            58|     Adventure,Drama|\n",
            "|tt0001258|    movie|The White Slave T...|Den hvide slaveha...|      0|     1910|     \\N|            45|               Drama|\n",
            "|tt0001285|    movie|   The Life of Moses|   The Life of Moses|      0|     1909|     \\N|            50|Biography,Drama,F...|\n",
            "|tt0001498|    movie|The Battle of Tra...|The Battle of Tra...|      0|     1911|     \\N|            51|                 War|\n",
            "+---------+---------+--------------------+--------------------+-------+---------+-------+--------------+--------------------+\n",
            "only showing top 5 rows\n",
            "\n"
          ]
        }
      ],
      "source": [
        "(\n",
        "    df_titles\n",
        "    .filter('titleType == \"movie\"')\n",
        "    .filter('runtimeMinutes <= 90')\n",
        "    .show(5)\n",
        ")"
      ]
    },
    {
      "cell_type": "code",
      "execution_count": null,
      "metadata": {
        "colab": {
          "base_uri": "https://localhost:8080/"
        },
        "id": "I82r4_rFcpgn",
        "outputId": "6af55ffe-c8e4-4f45-f3fd-96ea9e55eeb9"
      },
      "outputs": [
        {
          "output_type": "stream",
          "name": "stdout",
          "text": [
            "+---------+---------+--------------------+--------------------+-------+---------+-------+--------------+--------------------+\n",
            "|   tconst|titleType|        primaryTitle|       originalTitle|isAdult|startYear|endYear|runtimeMinutes|              genres|\n",
            "+---------+---------+--------------------+--------------------+-------+---------+-------+--------------+--------------------+\n",
            "|tt0000591|    movie|    The Prodigal Son|   L'enfant prodigue|      0|     1907|     \\N|            90|               Drama|\n",
            "|tt0001184|    movie|Don Juan de Serra...|Don Juan de Serra...|      0|     1910|     \\N|            58|     Adventure,Drama|\n",
            "|tt0001258|    movie|The White Slave T...|Den hvide slaveha...|      0|     1910|     \\N|            45|               Drama|\n",
            "|tt0001285|    movie|   The Life of Moses|   The Life of Moses|      0|     1909|     \\N|            50|Biography,Drama,F...|\n",
            "|tt0001498|    movie|The Battle of Tra...|The Battle of Tra...|      0|     1911|     \\N|            51|                 War|\n",
            "+---------+---------+--------------------+--------------------+-------+---------+-------+--------------+--------------------+\n",
            "only showing top 5 rows\n",
            "\n"
          ]
        }
      ],
      "source": [
        "(\n",
        "    df_titles\n",
        "    .filter('titleType in (\"movie\",\"tvSeries\") and runtimeMinutes <= 90')\n",
        "    .show(5)\n",
        ")"
      ]
    },
    {
      "cell_type": "markdown",
      "metadata": {
        "id": "3IiU5I7HdWeO"
      },
      "source": [
        "**Observações**\n",
        "\n",
        "Quando nos referimos às colunas por meio da função `col()`, temos acesso à diversos métodos das colunas que podem ser utilizados para auxiliar na filtragem do DataFrame. Alguns deles são :\n",
        "\n",
        "  - `isin()` : checa se a coluna contém os valores listados na função.\n",
        "  - `contains` : utilizado para verificar se uma coluna de texto contém algum padrão especificado (não aceita regex). Aceita uma outra coluna de text.\n",
        "  - `like()` : utilizado para verificar se uma coluna de texto contém algum padrão especificado (não aceita regex). Funciona de forma similar so \"LIKE\" do SQL.\n",
        "  - `rlike()` : utilizado para verificar se uma coluna de texto contém algum padrão especificado (**aceita regex**). Funciona de forma similar ao \"RLIKE\" do SQL\n",
        "  - `startswith()` : utilizado para verificar se uma coluna de texto começa com algum padrão especificado (**aceita regex**).\n",
        "  - `endswith()` :  utilizado para verificar se uma coluna de texto termina com algum padrão especificado (**aceita regex**).\n",
        "  - `between()` : checa se os valores da coluna estão dentro do intervalo especificado. Os dois lados do intervalo são inclusivos\n",
        "  - `isNull()` : retorna True se o valor da coluna é nulo\n",
        "  - `isNotNull()` : retorna True se o valor da coluna é não nulo\n",
        "\n",
        "Outros métodos úteis :\n",
        "\n",
        "  - `alias()/name()` : usado para renomear as colunas em operações como select() e agg()\n",
        "  - `astype()/cast()` : usado para mudar o tipo das colunas. Aceita tanto um\n",
        "  string como um tipo especificado pelo módulo pyspark.sql.types\n",
        "  - `substr()` : utilizado para cortar uma string com base em índices dos caracteres.  "
      ]
    },
    {
      "cell_type": "code",
      "execution_count": null,
      "metadata": {
        "colab": {
          "base_uri": "https://localhost:8080/"
        },
        "id": "aBXE4FyQgMRe",
        "outputId": "81c72829-bb9d-4aff-b379-735a4ff98724"
      },
      "outputs": [
        {
          "output_type": "stream",
          "name": "stdout",
          "text": [
            "+---------+---------+--------------------+--------------------+-------+---------+-------+--------------+--------------------+\n",
            "|   tconst|titleType|        primaryTitle|       originalTitle|isAdult|startYear|endYear|runtimeMinutes|              genres|\n",
            "+---------+---------+--------------------+--------------------+-------+---------+-------+--------------+--------------------+\n",
            "|tt0034639|    movie|        The Avengers|   The Day Will Dawn|      0|     1942|     \\N|            98|           Drama,War|\n",
            "|tt0036194|    movie|The People's Aven...|   Narodnye mstiteli|      0|     1943|     \\N|            55|     Documentary,War|\n",
            "|tt0058651|    movie|  The Three Avengers| Gli invincibili tre|      0|     1964|     \\N|           101|Action,Adventure,...|\n",
            "|tt0069746|    movie|Avengers of the Reef|Avengers of the Reef|      0|     1973|     \\N|            84|    Adventure,Family|\n",
            "|tt0074513|    movie|The Shaolin Avengers|Fang Shi Yu yu Hu...|      0|     1976|     \\N|            97|        Action,Drama|\n",
            "+---------+---------+--------------------+--------------------+-------+---------+-------+--------------+--------------------+\n",
            "only showing top 5 rows\n",
            "\n"
          ]
        }
      ],
      "source": [
        "(\n",
        "  df_titles\n",
        " .filter(col('primaryTitle').like('%Avengers%'))\n",
        " .filter(col('titleType') == 'movie')\n",
        " .show(5)\n",
        ")"
      ]
    },
    {
      "cell_type": "code",
      "execution_count": null,
      "metadata": {
        "colab": {
          "base_uri": "https://localhost:8080/"
        },
        "id": "XbbhPITeg9u3",
        "outputId": "221cc85f-1202-4d88-ab18-3d7f8db00be9"
      },
      "outputs": [
        {
          "output_type": "stream",
          "name": "stdout",
          "text": [
            "+---------+---------+--------------------+--------------------+-------+---------+-------+--------------+--------------------+\n",
            "|   tconst|titleType|        primaryTitle|       originalTitle|isAdult|startYear|endYear|runtimeMinutes|              genres|\n",
            "+---------+---------+--------------------+--------------------+-------+---------+-------+--------------+--------------------+\n",
            "|tt0000001|    short|          Carmencita|          Carmencita|      0|     1894|     \\N|             1|   Documentary,Short|\n",
            "|tt0000002|    short|Le clown et ses c...|Le clown et ses c...|      0|     1892|     \\N|             5|     Animation,Short|\n",
            "|tt0000003|    short|      Pauvre Pierrot|      Pauvre Pierrot|      0|     1892|     \\N|             4|Animation,Comedy,...|\n",
            "|tt0000004|    short|         Un bon bock|         Un bon bock|      0|     1892|     \\N|            12|     Animation,Short|\n",
            "|tt0000005|    short|    Blacksmith Scene|    Blacksmith Scene|      0|     1893|     \\N|             1|        Comedy,Short|\n",
            "|tt0000006|    short|   Chinese Opium Den|   Chinese Opium Den|      0|     1894|     \\N|             1|               Short|\n",
            "|tt0000007|    short|Corbett and Court...|Corbett and Court...|      0|     1894|     \\N|             1|         Short,Sport|\n",
            "|tt0000008|    short|Edison Kinetoscop...|Edison Kinetoscop...|      0|     1894|     \\N|             1|   Documentary,Short|\n",
            "|tt0000009|    short|          Miss Jerry|          Miss Jerry|      0|     1894|     \\N|            40|       Romance,Short|\n",
            "|tt0000010|    short| Leaving the Factory|La sortie de l'us...|      0|     1895|     \\N|             1|   Documentary,Short|\n",
            "|tt0000011|    short|Akrobatisches Pot...|Akrobatisches Pot...|      0|     1895|     \\N|             1|   Documentary,Short|\n",
            "|tt0000012|    short|The Arrival of a ...|L'arrivée d'un tr...|      0|     1896|     \\N|             1|   Documentary,Short|\n",
            "|tt0000013|    short|The Photographica...|Le débarquement d...|      0|     1895|     \\N|             1|   Documentary,Short|\n",
            "|tt0000014|    short| The Waterer Watered|   L'arroseur arrosé|      0|     1895|     \\N|             1|        Comedy,Short|\n",
            "|tt0000015|    short| Autour d'une cabine| Autour d'une cabine|      0|     1894|     \\N|             2|     Animation,Short|\n",
            "|tt0000016|    short|Boat Leaving the ...|Barque sortant du...|      0|     1895|     \\N|             1|   Documentary,Short|\n",
            "|tt0000017|    short|Italienischer Bau...|Italienischer Bau...|      0|     1895|     \\N|             1|   Documentary,Short|\n",
            "|tt0000018|    short|Das boxende Känguruh|Das boxende Känguruh|      0|     1895|     \\N|             1|               Short|\n",
            "|tt0000019|    short|    The Clown Barber|    The Clown Barber|      0|     1898|     \\N|            \\N|        Comedy,Short|\n",
            "|tt0000020|    short|      The Derby 1895|      The Derby 1895|      0|     1895|     \\N|             1|Documentary,Short...|\n",
            "+---------+---------+--------------------+--------------------+-------+---------+-------+--------------+--------------------+\n",
            "only showing top 20 rows\n",
            "\n"
          ]
        }
      ],
      "source": [
        "(\n",
        "    df_titles.\n",
        "    withColumn('startYear',col('startYear').cast('int'))\n",
        "    .filter(col('startYear').isNotNull())\n",
        "    .show()\n",
        ")"
      ]
    },
    {
      "cell_type": "markdown",
      "metadata": {
        "id": "QN1n0flbWxHp"
      },
      "source": [
        "# **Aula 3.5.3 -** Operações básicas com DataFrames - Parte III\n",
        "\n",
        "**Ordenando o DataFrame**\n",
        "\n",
        "A ordenação do DataFrame pode ser feita utilizando funções `orderBy()` ou `sort()`. Algumas funções auxiliares importantes para serem usadas ao ordenar : \n",
        "\n",
        "  - `asc()`: ordena a coluna de forma ascendente (default)\n",
        "  - `desc()` : ordena a coluna de forma descrescente\n",
        "  - `asc_nulls_first()/desc_nulls_first()`: ordena a coluna de forma ascendente e descendente, respectivamente, mantendo os campos nulos primeiro\n",
        "  - `asc_nulls_last()/desc_nulls_last()`: ordena a coluna de forma ascendente e\n",
        "  decrescente, respectivamente, mantendo os campos nulos por último"
      ]
    },
    {
      "cell_type": "code",
      "execution_count": null,
      "metadata": {
        "colab": {
          "base_uri": "https://localhost:8080/"
        },
        "id": "rTXmprItW0kn",
        "outputId": "8ef7ca6c-e0a9-4a88-d9ac-add1be1f667d"
      },
      "outputs": [
        {
          "output_type": "stream",
          "name": "stdout",
          "text": [
            "+---------+---------+--------------------+--------------------+-------+---------+-------+--------------+--------------------+\n",
            "|   tconst|titleType|        primaryTitle|       originalTitle|isAdult|startYear|endYear|runtimeMinutes|              genres|\n",
            "+---------+---------+--------------------+--------------------+-------+---------+-------+--------------+--------------------+\n",
            "|tt0000001|    short|          Carmencita|          Carmencita|      0|     1894|     \\N|             1|   Documentary,Short|\n",
            "|tt0000002|    short|Le clown et ses c...|Le clown et ses c...|      0|     1892|     \\N|             5|     Animation,Short|\n",
            "|tt0000003|    short|      Pauvre Pierrot|      Pauvre Pierrot|      0|     1892|     \\N|             4|Animation,Comedy,...|\n",
            "|tt0000004|    short|         Un bon bock|         Un bon bock|      0|     1892|     \\N|            12|     Animation,Short|\n",
            "|tt0000005|    short|    Blacksmith Scene|    Blacksmith Scene|      0|     1893|     \\N|             1|        Comedy,Short|\n",
            "+---------+---------+--------------------+--------------------+-------+---------+-------+--------------+--------------------+\n",
            "only showing top 5 rows\n",
            "\n"
          ]
        }
      ],
      "source": [
        "df_titles.show(5)"
      ]
    },
    {
      "cell_type": "code",
      "execution_count": null,
      "metadata": {
        "colab": {
          "base_uri": "https://localhost:8080/"
        },
        "id": "fN52wVVu4fCj",
        "outputId": "dae8ce90-c4cf-4f39-9f42-aa204dc8d5b9"
      },
      "outputs": [
        {
          "output_type": "stream",
          "name": "stdout",
          "text": [
            "+----------+---------+--------------------+--------------------+-------+---------+-------+--------------+-------------+\n",
            "|    tconst|titleType|        primaryTitle|       originalTitle|isAdult|startYear|endYear|runtimeMinutes|       genres|\n",
            "+----------+---------+--------------------+--------------------+-------+---------+-------+--------------+-------------+\n",
            "|tt11112784|    movie|   Perfect Strangers|   Perfect Strangers|      0|       \\N|     \\N|            \\N| Comedy,Drama|\n",
            "|tt11113108|tvEpisode|      Episode #1.759|      Episode #1.759|      0|       \\N|     \\N|            \\N|Comedy,Family|\n",
            "|tt11112532|    movie|                Agra|                Agra|      0|       \\N|     \\N|            \\N|        Drama|\n",
            "|tt11113062|tvEpisode|      Episode #1.741|      Episode #1.741|      0|       \\N|     \\N|            \\N|Comedy,Family|\n",
            "|tt11112858|    movie|Lizards: A Pop Opera|Lizards: A Pop Opera|      0|       \\N|     \\N|            \\N|        Drama|\n",
            "|tt11113066|tvEpisode|      Episode #1.742|      Episode #1.742|      0|       \\N|     \\N|            \\N|Comedy,Family|\n",
            "|tt11111996| tvSeries|       Captain Carol|       Captain Carol|      0|       \\N|     \\N|            \\N|        Drama|\n",
            "|tt11113068|tvEpisode|      Episode #1.743|      Episode #1.743|      0|       \\N|     \\N|            \\N|Comedy,Family|\n",
            "|tt11112084|    short|Salt. Pepper. Pea...|Salt. Pepper. Pea...|      0|       \\N|     \\N|            \\N|  Crime,Short|\n",
            "|tt11113072|tvEpisode|      Episode #1.744|      Episode #1.744|      0|       \\N|     \\N|            \\N|Comedy,Family|\n",
            "| tt1111226|tvEpisode|BR549 and Stoll V...|BR549 and Stoll V...|      0|       \\N|     \\N|            \\N|        Music|\n",
            "|tt11113074|tvEpisode|      Episode #1.745|      Episode #1.745|      0|       \\N|     \\N|            \\N|Comedy,Family|\n",
            "| tt1111228|tvEpisode|Janiva Magness an...|Janiva Magness an...|      0|       \\N|     \\N|            \\N|        Music|\n",
            "|tt11113076|tvEpisode|      Episode #1.746|      Episode #1.746|      0|       \\N|     \\N|            \\N|Comedy,Family|\n",
            "| tt1111230|tvEpisode|Tony Trischka and...|Tony Trischka and...|      0|       \\N|     \\N|            \\N|        Music|\n",
            "|tt11113080|tvEpisode|      Episode #1.747|      Episode #1.747|      0|       \\N|     \\N|            \\N|Comedy,Family|\n",
            "|tt11112078|    movie|  Un día 28 de enero|  Un día 28 de enero|      0|       \\N|     \\N|            \\N|  Documentary|\n",
            "|tt11113082|tvEpisode|      Episode #1.749|      Episode #1.749|      0|       \\N|     \\N|            \\N|Comedy,Family|\n",
            "|tt11112536|    movie|        Fashion Week|        Fashion Week|      0|       \\N|     \\N|            \\N|       Comedy|\n",
            "|tt11113084|tvEpisode|      Episode #1.748|      Episode #1.748|      0|       \\N|     \\N|            \\N|Comedy,Family|\n",
            "+----------+---------+--------------------+--------------------+-------+---------+-------+--------------+-------------+\n",
            "only showing top 20 rows\n",
            "\n"
          ]
        }
      ],
      "source": [
        "df_titles.orderBy(col('startYear').cast('int')).show()"
      ]
    },
    {
      "cell_type": "code",
      "execution_count": null,
      "metadata": {
        "colab": {
          "base_uri": "https://localhost:8080/"
        },
        "id": "-dWK-Ptk99XH",
        "outputId": "b0d21edb-a364-4e76-9e37-7203f7e6bb37"
      },
      "outputs": [
        {
          "output_type": "stream",
          "name": "stdout",
          "text": [
            "+---------+---------+--------------------+--------------------+-------+---------+-------+--------------+--------------------+\n",
            "|   tconst|titleType|        primaryTitle|       originalTitle|isAdult|startYear|endYear|runtimeMinutes|              genres|\n",
            "+---------+---------+--------------------+--------------------+-------+---------+-------+--------------+--------------------+\n",
            "|tt2210499|    movie|          Birmingham|          Birmingham|      0|     1896|     \\N|            61|         Documentary|\n",
            "|tt0229676|    movie|Reproduction of t...|Reproduction of t...|      0|     1897|     \\N|            \\N|Documentary,News,...|\n",
            "|tt0236940|    movie|69th Regiment Pas...|69th Regiment Pas...|      0|     1898|     \\N|            \\N|         Documentary|\n",
            "|tt0235357|    movie|Dressing Paper Dolls|Dressing Paper Dolls|      0|     1898|     \\N|            \\N|         Documentary|\n",
            "|tt0138774|    movie|Saída dos Operári...|Saída dos Operári...|      0|     1898|     \\N|            \\N|         Documentary|\n",
            "|tt0138759|    movie|A Rua Augusta em ...|A Rua Augusta em ...|      0|     1898|     \\N|            \\N|         Documentary|\n",
            "|tt0138349|    movie|O Carnaval em Lisboa|O Carnaval em Lisboa|      0|     1898|     \\N|            \\N|         Documentary|\n",
            "|tt0221040|    movie|Buck Dance, Ute I...|Buck Dance, Ute I...|      0|     1898|     \\N|            \\N|         Documentary|\n",
            "|tt0138342|    movie|      O Campo Grande|      O Campo Grande|      0|     1898|     \\N|            \\N|         Documentary|\n",
            "|tt0230366|    movie|Jeffries-Sharkey ...|Jeffries-Sharkey ...|      0|     1899|     \\N|           135|Documentary,News,...|\n",
            "|tt0138382|    movie|O Cortejo da Proc...|O Cortejo da Proc...|      0|     1899|     \\N|            \\N|         Documentary|\n",
            "|tt0246629|    movie|   A Football Tackle|   A Football Tackle|      0|     1899|     \\N|            \\N|   Documentary,Sport|\n",
            "|tt0257347|    movie|2nd Company Gover...|2nd Company Gover...|      0|     1899|     \\N|            \\N|         Documentary|\n",
            "|tt0138568|    movie|O Lançamento ao T...|O Lançamento ao T...|      0|     1899|     \\N|            \\N|         Documentary|\n",
            "|tt0138724|    movie|A Procissão da Se...|A Procissão da Se...|      0|     1899|     \\N|            \\N|         Documentary|\n",
            "|tt0254716|    movie|Professor Billy O...|Professor Billy O...|      0|     1899|     \\N|            \\N|         Documentary|\n",
            "|tt0230765|    movie|Sharkey-McCoy Fig...|Sharkey-McCoy Fig...|      0|     1899|     \\N|            \\N|Documentary,News,...|\n",
            "|tt0266894|    movie|The Republican Na...|The Republican Na...|      0|     1900|     \\N|            53|         Documentary|\n",
            "|tt0291338|    movie|      May Day Parade|      May Day Parade|      0|     1900|     \\N|            66|    Documentary,News|\n",
            "|tt0291401|    movie|On the Advance of...|On the Advance of...|      0|     1900|     \\N|            \\N|         Documentary|\n",
            "+---------+---------+--------------------+--------------------+-------+---------+-------+--------------+--------------------+\n",
            "only showing top 20 rows\n",
            "\n"
          ]
        }
      ],
      "source": [
        "df_titles.orderBy('startYear','runtimeMinutes').filter('titleType == \"movie\"').show()"
      ]
    },
    {
      "cell_type": "code",
      "execution_count": null,
      "metadata": {
        "colab": {
          "base_uri": "https://localhost:8080/"
        },
        "id": "Y2PshGyG-pK6",
        "outputId": "4c851641-b251-4673-ccdf-ba68bbaef737"
      },
      "outputs": [
        {
          "output_type": "stream",
          "name": "stdout",
          "text": [
            "+---------+---------+--------------------+--------------------+-------+---------+-------+--------------+--------------------+\n",
            "|   tconst|titleType|        primaryTitle|       originalTitle|isAdult|startYear|endYear|runtimeMinutes|              genres|\n",
            "+---------+---------+--------------------+--------------------+-------+---------+-------+--------------+--------------------+\n",
            "|tt2210499|    movie|          Birmingham|          Birmingham|      0|     1896|     \\N|            61|         Documentary|\n",
            "|tt0229676|    movie|Reproduction of t...|Reproduction of t...|      0|     1897|     \\N|            \\N|Documentary,News,...|\n",
            "|tt0236940|    movie|69th Regiment Pas...|69th Regiment Pas...|      0|     1898|     \\N|            \\N|         Documentary|\n",
            "|tt0235357|    movie|Dressing Paper Dolls|Dressing Paper Dolls|      0|     1898|     \\N|            \\N|         Documentary|\n",
            "|tt0138349|    movie|O Carnaval em Lisboa|O Carnaval em Lisboa|      0|     1898|     \\N|            \\N|         Documentary|\n",
            "|tt0138774|    movie|Saída dos Operári...|Saída dos Operári...|      0|     1898|     \\N|            \\N|         Documentary|\n",
            "|tt0138759|    movie|A Rua Augusta em ...|A Rua Augusta em ...|      0|     1898|     \\N|            \\N|         Documentary|\n",
            "|tt0221040|    movie|Buck Dance, Ute I...|Buck Dance, Ute I...|      0|     1898|     \\N|            \\N|         Documentary|\n",
            "|tt0138342|    movie|      O Campo Grande|      O Campo Grande|      0|     1898|     \\N|            \\N|         Documentary|\n",
            "|tt0138382|    movie|O Cortejo da Proc...|O Cortejo da Proc...|      0|     1899|     \\N|            \\N|         Documentary|\n",
            "|tt0254716|    movie|Professor Billy O...|Professor Billy O...|      0|     1899|     \\N|            \\N|         Documentary|\n",
            "|tt0138568|    movie|O Lançamento ao T...|O Lançamento ao T...|      0|     1899|     \\N|            \\N|         Documentary|\n",
            "|tt0230765|    movie|Sharkey-McCoy Fig...|Sharkey-McCoy Fig...|      0|     1899|     \\N|            \\N|Documentary,News,...|\n",
            "|tt0138724|    movie|A Procissão da Se...|A Procissão da Se...|      0|     1899|     \\N|            \\N|         Documentary|\n",
            "|tt0257347|    movie|2nd Company Gover...|2nd Company Gover...|      0|     1899|     \\N|            \\N|         Documentary|\n",
            "|tt0246629|    movie|   A Football Tackle|   A Football Tackle|      0|     1899|     \\N|            \\N|   Documentary,Sport|\n",
            "|tt0230366|    movie|Jeffries-Sharkey ...|Jeffries-Sharkey ...|      0|     1899|     \\N|           135|Documentary,News,...|\n",
            "|tt0327448|    movie| At Break-Neck Speed| At Break-Neck Speed|      0|     1900|     \\N|            \\N|         Documentary|\n",
            "|tt0266332|    movie|Birdseye View of ...|Birdseye View of ...|      0|     1900|     \\N|            \\N|         Documentary|\n",
            "|tt0291199|    movie|General Bell's Ex...|General Bell's Ex...|      0|     1900|     \\N|            \\N|         Documentary|\n",
            "+---------+---------+--------------------+--------------------+-------+---------+-------+--------------+--------------------+\n",
            "only showing top 20 rows\n",
            "\n"
          ]
        }
      ],
      "source": [
        "from pyspark.sql.functions import desc\n",
        "\n",
        "df_titles.orderBy('startYear',desc('runtimeMinutes')).filter('titleType == \"movie\"').show()"
      ]
    },
    {
      "cell_type": "code",
      "execution_count": null,
      "metadata": {
        "colab": {
          "base_uri": "https://localhost:8080/"
        },
        "id": "rIUoPMt6_FBh",
        "outputId": "ff4f5685-5b84-4bbe-b3ec-7b8b605c1fff"
      },
      "outputs": [
        {
          "output_type": "stream",
          "name": "stdout",
          "text": [
            "+----------+---------+--------------------+--------------------+-------+---------+-------+--------------+--------------------+\n",
            "|    tconst|titleType|        primaryTitle|       originalTitle|isAdult|startYear|endYear|runtimeMinutes|              genres|\n",
            "+----------+---------+--------------------+--------------------+-------+---------+-------+--------------+--------------------+\n",
            "|tt11115868|    movie|        The Shinobis|        The Shinobis|      0|       \\N|     \\N|            \\N|              Action|\n",
            "|tt11116102|    movie|              Deeper|              Deeper|      0|       \\N|     \\N|            \\N|             Romance|\n",
            "|tt11116112|    movie|Untitled Elliott ...|Untitled Elliott ...|      0|       \\N|     \\N|            \\N|                  \\N|\n",
            "|tt11112784|    movie|   Perfect Strangers|   Perfect Strangers|      0|       \\N|     \\N|            \\N|        Comedy,Drama|\n",
            "|tt11116440|    movie|               Shame|               Shame|      0|       \\N|     \\N|            \\N|                  \\N|\n",
            "|tt11112072|    movie|       Hell Can Wait|       Hell Can Wait|      0|       \\N|     \\N|            \\N|              Comedy|\n",
            "|tt11116516|    movie|        Spiritwalker|        Spiritwalker|      0|       \\N|     \\N|            \\N|      Fantasy,Horror|\n",
            "|tt11112202|    movie|                Kajo|                Kajo|      0|       \\N|     \\N|            \\N|   Adventure,Romance|\n",
            "|tt11116536|    movie|           3rd Floor|           3rd Floor|      0|       \\N|     \\N|            \\N|              Horror|\n",
            "|tt11112536|    movie|        Fashion Week|        Fashion Week|      0|       \\N|     \\N|            \\N|              Comedy|\n",
            "|tt11116608|    movie| Jukdo Surfing Diary| Jukdo Surfing Diary|      0|       \\N|     \\N|            \\N|               Drama|\n",
            "|tt11112496|    movie|Tera Kya Hoga Lam...|Tera Kya Hoga Lam...|      0|       \\N|     \\N|           135|                  \\N|\n",
            "|tt11116642|    movie|          Press Play|          Press Play|      0|       \\N|     \\N|            \\N|               Music|\n",
            "|tt11114804|    movie|     Ratsasan Remake|     Ratsasan Remake|      0|       \\N|     \\N|            \\N|Action,Crime,Thri...|\n",
            "|tt11116680|    movie|Untitled Fania Re...|Untitled Fania Re...|      0|       \\N|     \\N|            \\N|                  \\N|\n",
            "|tt11114870|    movie|Untitled Coral Re...|Untitled Coral Re...|      0|       \\N|     \\N|            \\N|         Documentary|\n",
            "|tt11116716|    movie|               Raven|               Raven|      0|       \\N|     \\N|            \\N|              Action|\n",
            "|tt11112760|    movie|               Crack|               Crack|      0|       \\N|     \\N|           122|               Drama|\n",
            "|tt11116920|    movie|         Hack Attack|         Hack Attack|      0|       \\N|     \\N|            \\N|              Action|\n",
            "|tt11120738|    movie|            Chiquito|            Chiquito|      0|       \\N|     \\N|            \\N|               Drama|\n",
            "+----------+---------+--------------------+--------------------+-------+---------+-------+--------------+--------------------+\n",
            "only showing top 20 rows\n",
            "\n"
          ]
        }
      ],
      "source": [
        "df_titles.orderBy(desc('startYear')).filter('titleType == \"movie\"').show()"
      ]
    },
    {
      "cell_type": "code",
      "execution_count": null,
      "metadata": {
        "colab": {
          "base_uri": "https://localhost:8080/"
        },
        "id": "88r5tjTq45PB",
        "outputId": "2df83869-e7a3-42fd-df46-0447774c81b6"
      },
      "outputs": [
        {
          "output_type": "stream",
          "name": "stdout",
          "text": [
            "+----------+---------+--------------------+--------------------+-------+---------+-------+--------------+--------------------+\n",
            "|    tconst|titleType|        primaryTitle|       originalTitle|isAdult|startYear|endYear|runtimeMinutes|              genres|\n",
            "+----------+---------+--------------------+--------------------+-------+---------+-------+--------------+--------------------+\n",
            "|tt11116440|    movie|               Shame|               Shame|      0|     null|     \\N|            \\N|                  \\N|\n",
            "|tt11122910|    movie|       Durgo Rahasya|       Durgo Rahasya|      0|     null|     \\N|            \\N|      Drama,Thriller|\n",
            "|tt11116516|    movie|        Spiritwalker|        Spiritwalker|      0|     null|     \\N|            \\N|      Fantasy,Horror|\n",
            "|tt11112072|    movie|       Hell Can Wait|       Hell Can Wait|      0|     null|     \\N|            \\N|              Comedy|\n",
            "|tt11116536|    movie|           3rd Floor|           3rd Floor|      0|     null|     \\N|            \\N|              Horror|\n",
            "|tt11112202|    movie|                Kajo|                Kajo|      0|     null|     \\N|            \\N|   Adventure,Romance|\n",
            "|tt11116608|    movie| Jukdo Surfing Diary| Jukdo Surfing Diary|      0|     null|     \\N|            \\N|               Drama|\n",
            "|tt11112496|    movie|Tera Kya Hoga Lam...|Tera Kya Hoga Lam...|      0|     null|     \\N|           135|                  \\N|\n",
            "|tt11116642|    movie|          Press Play|          Press Play|      0|     null|     \\N|            \\N|               Music|\n",
            "|tt11112704|    movie|              Jism 3|              Jism 3|      0|     null|     \\N|           135|            Thriller|\n",
            "|tt11116680|    movie|Untitled Fania Re...|Untitled Fania Re...|      0|     null|     \\N|            \\N|                  \\N|\n",
            "|tt11112784|    movie|   Perfect Strangers|   Perfect Strangers|      0|     null|     \\N|            \\N|        Comedy,Drama|\n",
            "|tt11116716|    movie|               Raven|               Raven|      0|     null|     \\N|            \\N|              Action|\n",
            "|tt11112858|    movie|Lizards: A Pop Opera|Lizards: A Pop Opera|      0|     null|     \\N|            \\N|               Drama|\n",
            "|tt11116920|    movie|         Hack Attack|         Hack Attack|      0|     null|     \\N|            \\N|              Action|\n",
            "|tt11114804|    movie|     Ratsasan Remake|     Ratsasan Remake|      0|     null|     \\N|            \\N|Action,Crime,Thri...|\n",
            "| tt1111959|    movie|                Will|                Will|      0|     null|     \\N|            \\N|               Drama|\n",
            "|tt11114870|    movie|Untitled Coral Re...|Untitled Coral Re...|      0|     null|     \\N|            \\N|         Documentary|\n",
            "|tt11120378|    movie|The Once and Futu...|The Once and Futu...|      0|     null|     \\N|            \\N|       Comedy,Horror|\n",
            "|tt11115868|    movie|        The Shinobis|        The Shinobis|      0|     null|     \\N|            \\N|              Action|\n",
            "+----------+---------+--------------------+--------------------+-------+---------+-------+--------------+--------------------+\n",
            "only showing top 20 rows\n",
            "\n"
          ]
        }
      ],
      "source": [
        "from pyspark.sql.functions import desc\n",
        "\n",
        "(\n",
        " df_titles.withColumn('startYear' , col('startYear').cast('int'))\n",
        " .orderBy('startYear')\n",
        " .filter('titleType == \"movie\"')\n",
        " .show()\n",
        ")"
      ]
    },
    {
      "cell_type": "code",
      "execution_count": null,
      "metadata": {
        "colab": {
          "base_uri": "https://localhost:8080/"
        },
        "id": "gWaFdjO4_sEP",
        "outputId": "c8a15207-2556-460f-dbac-95496efc86ca"
      },
      "outputs": [
        {
          "output_type": "stream",
          "name": "stdout",
          "text": [
            "+----------+---------+--------------------+--------------------+-------+---------+-------+--------------+-----------------+\n",
            "|    tconst|titleType|        primaryTitle|       originalTitle|isAdult|startYear|endYear|runtimeMinutes|           genres|\n",
            "+----------+---------+--------------------+--------------------+-------+---------+-------+--------------+-----------------+\n",
            "|tt11112072|    movie|       Hell Can Wait|       Hell Can Wait|      0|     null|     \\N|            \\N|           Comedy|\n",
            "|tt11112078|    movie|  Un día 28 de enero|  Un día 28 de enero|      0|     null|     \\N|            \\N|      Documentary|\n",
            "|tt11112202|    movie|                Kajo|                Kajo|      0|     null|     \\N|            \\N|Adventure,Romance|\n",
            "|tt11112084|    short|Salt. Pepper. Pea...|Salt. Pepper. Pea...|      0|     null|     \\N|            \\N|      Crime,Short|\n",
            "|tt11112002|  tvMovie|   The most Precious|   The most Precious|      0|     null|     \\N|            \\N|            Drama|\n",
            "+----------+---------+--------------------+--------------------+-------+---------+-------+--------------+-----------------+\n",
            "only showing top 5 rows\n",
            "\n"
          ]
        }
      ],
      "source": [
        "from pyspark.sql.functions import asc_nulls_first\n",
        "\n",
        "(\n",
        "  df_titles\n",
        " .withColumn('startYear',col('startYear').cast('int'))\n",
        " .orderBy(asc_nulls_first('startYear'))\n",
        " .show(5)   \n",
        ")"
      ]
    },
    {
      "cell_type": "markdown",
      "metadata": {
        "id": "Lk4WcCfSFATh"
      },
      "source": [
        "**Renomeando Colunas**\n",
        "\n",
        "Para renomear colunas, é utilizada a função `withColumnRename()` , da seguinte forma\n",
        "\n",
        "  `df.withColumnRenamed(\"nome_antigo\",\"nome_novo\")`"
      ]
    },
    {
      "cell_type": "code",
      "execution_count": null,
      "metadata": {
        "colab": {
          "base_uri": "https://localhost:8080/"
        },
        "id": "pFwuj29kE_Wn",
        "outputId": "6a088ea1-8074-4c11-900d-d0bd97825bb4"
      },
      "outputs": [
        {
          "output_type": "stream",
          "name": "stdout",
          "text": [
            "+---------+---------+--------------------+--------------------+-------+---------+-------+--------------+--------------------+\n",
            "|   tconst|titleType|          nome_filme|       originalTitle|isAdult|startYear|endYear|runtimeMinutes|              genres|\n",
            "+---------+---------+--------------------+--------------------+-------+---------+-------+--------------+--------------------+\n",
            "|tt0000001|    short|          Carmencita|          Carmencita|      0|     1894|     \\N|             1|   Documentary,Short|\n",
            "|tt0000002|    short|Le clown et ses c...|Le clown et ses c...|      0|     1892|     \\N|             5|     Animation,Short|\n",
            "|tt0000003|    short|      Pauvre Pierrot|      Pauvre Pierrot|      0|     1892|     \\N|             4|Animation,Comedy,...|\n",
            "|tt0000004|    short|         Un bon bock|         Un bon bock|      0|     1892|     \\N|            12|     Animation,Short|\n",
            "|tt0000005|    short|    Blacksmith Scene|    Blacksmith Scene|      0|     1893|     \\N|             1|        Comedy,Short|\n",
            "+---------+---------+--------------------+--------------------+-------+---------+-------+--------------+--------------------+\n",
            "only showing top 5 rows\n",
            "\n"
          ]
        }
      ],
      "source": [
        "(\n",
        "    df_titles\n",
        "    .withColumnRenamed('primaryTitle','nome_filme')\n",
        "    .show(5)\n",
        ")"
      ]
    },
    {
      "cell_type": "code",
      "execution_count": null,
      "metadata": {
        "colab": {
          "base_uri": "https://localhost:8080/"
        },
        "id": "9tNs3DeqG5cT",
        "outputId": "dad5f9e9-2a94-47f6-d316-b72ba4f2b6cd"
      },
      "outputs": [
        {
          "output_type": "stream",
          "name": "stdout",
          "text": [
            "+--------------------+---------+---------+--------------+\n",
            "|          nome_filme|titleType|startYear|runtimeMinutes|\n",
            "+--------------------+---------+---------+--------------+\n",
            "|          Carmencita|    short|     1894|             1|\n",
            "|Le clown et ses c...|    short|     1892|             5|\n",
            "|      Pauvre Pierrot|    short|     1892|             4|\n",
            "|         Un bon bock|    short|     1892|            12|\n",
            "|    Blacksmith Scene|    short|     1893|             1|\n",
            "|   Chinese Opium Den|    short|     1894|             1|\n",
            "|Corbett and Court...|    short|     1894|             1|\n",
            "|Edison Kinetoscop...|    short|     1894|             1|\n",
            "|          Miss Jerry|    short|     1894|            40|\n",
            "| Leaving the Factory|    short|     1895|             1|\n",
            "|Akrobatisches Pot...|    short|     1895|             1|\n",
            "|The Arrival of a ...|    short|     1896|             1|\n",
            "|The Photographica...|    short|     1895|             1|\n",
            "| The Waterer Watered|    short|     1895|             1|\n",
            "| Autour d'une cabine|    short|     1894|             2|\n",
            "|Boat Leaving the ...|    short|     1895|             1|\n",
            "|Italienischer Bau...|    short|     1895|             1|\n",
            "|Das boxende Känguruh|    short|     1895|             1|\n",
            "|    The Clown Barber|    short|     1898|            \\N|\n",
            "|      The Derby 1895|    short|     1895|             1|\n",
            "+--------------------+---------+---------+--------------+\n",
            "only showing top 20 rows\n",
            "\n"
          ]
        }
      ],
      "source": [
        "(\n",
        "    df_titles\n",
        "    .withColumnRenamed('primaryTitle','nome_filme')\n",
        "    .select('nome_filme','titleType','startYear','runtimeMinutes')\n",
        "    .show()\n",
        ")"
      ]
    },
    {
      "cell_type": "code",
      "execution_count": null,
      "metadata": {
        "colab": {
          "base_uri": "https://localhost:8080/"
        },
        "id": "SSxCssPJHc5m",
        "outputId": "2a44df01-ae96-4b73-f88e-58a76fa74616"
      },
      "outputs": [
        {
          "output_type": "stream",
          "name": "stdout",
          "text": [
            "+--------------------+---------+---------+--------------+\n",
            "|          nome_filme|titleType|startYear|runtimeMinutes|\n",
            "+--------------------+---------+---------+--------------+\n",
            "|          Carmencita|    short|     1894|             1|\n",
            "|Le clown et ses c...|    short|     1892|             5|\n",
            "|      Pauvre Pierrot|    short|     1892|             4|\n",
            "|         Un bon bock|    short|     1892|            12|\n",
            "|    Blacksmith Scene|    short|     1893|             1|\n",
            "+--------------------+---------+---------+--------------+\n",
            "only showing top 5 rows\n",
            "\n"
          ]
        }
      ],
      "source": [
        "(\n",
        "    df_titles.selectExpr('primaryTitle as nome_filme', 'titleType', \n",
        "                         'startYear','runtimeMinutes').show(5)\n",
        ")"
      ]
    },
    {
      "cell_type": "code",
      "execution_count": null,
      "metadata": {
        "colab": {
          "base_uri": "https://localhost:8080/",
          "height": 206
        },
        "id": "0tWq84YeH2mB",
        "outputId": "6e8a8b65-44da-4201-af67-d94f58c64c47"
      },
      "outputs": [
        {
          "output_type": "execute_result",
          "data": {
            "text/plain": [
              "  tconst_suffx titleType_suffx      primaryTitle_suffx  \\\n",
              "0    tt0000001           short              Carmencita   \n",
              "1    tt0000002           short  Le clown et ses chiens   \n",
              "2    tt0000003           short          Pauvre Pierrot   \n",
              "3    tt0000004           short             Un bon bock   \n",
              "4    tt0000005           short        Blacksmith Scene   \n",
              "\n",
              "      originalTitle_suffx isAdult_suffx startYear_suffx endYear_suffx  \\\n",
              "0              Carmencita             0            1894            \\N   \n",
              "1  Le clown et ses chiens             0            1892            \\N   \n",
              "2          Pauvre Pierrot             0            1892            \\N   \n",
              "3             Un bon bock             0            1892            \\N   \n",
              "4        Blacksmith Scene             0            1893            \\N   \n",
              "\n",
              "  runtimeMinutes_suffx              genres_suffx  \n",
              "0                    1         Documentary,Short  \n",
              "1                    5           Animation,Short  \n",
              "2                    4  Animation,Comedy,Romance  \n",
              "3                   12           Animation,Short  \n",
              "4                    1              Comedy,Short  "
            ],
            "text/html": [
              "\n",
              "  <div id=\"df-9d88f2e1-3d16-4d16-b038-c43110fd1bd9\">\n",
              "    <div class=\"colab-df-container\">\n",
              "      <div>\n",
              "<style scoped>\n",
              "    .dataframe tbody tr th:only-of-type {\n",
              "        vertical-align: middle;\n",
              "    }\n",
              "\n",
              "    .dataframe tbody tr th {\n",
              "        vertical-align: top;\n",
              "    }\n",
              "\n",
              "    .dataframe thead th {\n",
              "        text-align: right;\n",
              "    }\n",
              "</style>\n",
              "<table border=\"1\" class=\"dataframe\">\n",
              "  <thead>\n",
              "    <tr style=\"text-align: right;\">\n",
              "      <th></th>\n",
              "      <th>tconst_suffx</th>\n",
              "      <th>titleType_suffx</th>\n",
              "      <th>primaryTitle_suffx</th>\n",
              "      <th>originalTitle_suffx</th>\n",
              "      <th>isAdult_suffx</th>\n",
              "      <th>startYear_suffx</th>\n",
              "      <th>endYear_suffx</th>\n",
              "      <th>runtimeMinutes_suffx</th>\n",
              "      <th>genres_suffx</th>\n",
              "    </tr>\n",
              "  </thead>\n",
              "  <tbody>\n",
              "    <tr>\n",
              "      <th>0</th>\n",
              "      <td>tt0000001</td>\n",
              "      <td>short</td>\n",
              "      <td>Carmencita</td>\n",
              "      <td>Carmencita</td>\n",
              "      <td>0</td>\n",
              "      <td>1894</td>\n",
              "      <td>\\N</td>\n",
              "      <td>1</td>\n",
              "      <td>Documentary,Short</td>\n",
              "    </tr>\n",
              "    <tr>\n",
              "      <th>1</th>\n",
              "      <td>tt0000002</td>\n",
              "      <td>short</td>\n",
              "      <td>Le clown et ses chiens</td>\n",
              "      <td>Le clown et ses chiens</td>\n",
              "      <td>0</td>\n",
              "      <td>1892</td>\n",
              "      <td>\\N</td>\n",
              "      <td>5</td>\n",
              "      <td>Animation,Short</td>\n",
              "    </tr>\n",
              "    <tr>\n",
              "      <th>2</th>\n",
              "      <td>tt0000003</td>\n",
              "      <td>short</td>\n",
              "      <td>Pauvre Pierrot</td>\n",
              "      <td>Pauvre Pierrot</td>\n",
              "      <td>0</td>\n",
              "      <td>1892</td>\n",
              "      <td>\\N</td>\n",
              "      <td>4</td>\n",
              "      <td>Animation,Comedy,Romance</td>\n",
              "    </tr>\n",
              "    <tr>\n",
              "      <th>3</th>\n",
              "      <td>tt0000004</td>\n",
              "      <td>short</td>\n",
              "      <td>Un bon bock</td>\n",
              "      <td>Un bon bock</td>\n",
              "      <td>0</td>\n",
              "      <td>1892</td>\n",
              "      <td>\\N</td>\n",
              "      <td>12</td>\n",
              "      <td>Animation,Short</td>\n",
              "    </tr>\n",
              "    <tr>\n",
              "      <th>4</th>\n",
              "      <td>tt0000005</td>\n",
              "      <td>short</td>\n",
              "      <td>Blacksmith Scene</td>\n",
              "      <td>Blacksmith Scene</td>\n",
              "      <td>0</td>\n",
              "      <td>1893</td>\n",
              "      <td>\\N</td>\n",
              "      <td>1</td>\n",
              "      <td>Comedy,Short</td>\n",
              "    </tr>\n",
              "  </tbody>\n",
              "</table>\n",
              "</div>\n",
              "      <button class=\"colab-df-convert\" onclick=\"convertToInteractive('df-9d88f2e1-3d16-4d16-b038-c43110fd1bd9')\"\n",
              "              title=\"Convert this dataframe to an interactive table.\"\n",
              "              style=\"display:none;\">\n",
              "        \n",
              "  <svg xmlns=\"http://www.w3.org/2000/svg\" height=\"24px\"viewBox=\"0 0 24 24\"\n",
              "       width=\"24px\">\n",
              "    <path d=\"M0 0h24v24H0V0z\" fill=\"none\"/>\n",
              "    <path d=\"M18.56 5.44l.94 2.06.94-2.06 2.06-.94-2.06-.94-.94-2.06-.94 2.06-2.06.94zm-11 1L8.5 8.5l.94-2.06 2.06-.94-2.06-.94L8.5 2.5l-.94 2.06-2.06.94zm10 10l.94 2.06.94-2.06 2.06-.94-2.06-.94-.94-2.06-.94 2.06-2.06.94z\"/><path d=\"M17.41 7.96l-1.37-1.37c-.4-.4-.92-.59-1.43-.59-.52 0-1.04.2-1.43.59L10.3 9.45l-7.72 7.72c-.78.78-.78 2.05 0 2.83L4 21.41c.39.39.9.59 1.41.59.51 0 1.02-.2 1.41-.59l7.78-7.78 2.81-2.81c.8-.78.8-2.07 0-2.86zM5.41 20L4 18.59l7.72-7.72 1.47 1.35L5.41 20z\"/>\n",
              "  </svg>\n",
              "      </button>\n",
              "      \n",
              "  <style>\n",
              "    .colab-df-container {\n",
              "      display:flex;\n",
              "      flex-wrap:wrap;\n",
              "      gap: 12px;\n",
              "    }\n",
              "\n",
              "    .colab-df-convert {\n",
              "      background-color: #E8F0FE;\n",
              "      border: none;\n",
              "      border-radius: 50%;\n",
              "      cursor: pointer;\n",
              "      display: none;\n",
              "      fill: #1967D2;\n",
              "      height: 32px;\n",
              "      padding: 0 0 0 0;\n",
              "      width: 32px;\n",
              "    }\n",
              "\n",
              "    .colab-df-convert:hover {\n",
              "      background-color: #E2EBFA;\n",
              "      box-shadow: 0px 1px 2px rgba(60, 64, 67, 0.3), 0px 1px 3px 1px rgba(60, 64, 67, 0.15);\n",
              "      fill: #174EA6;\n",
              "    }\n",
              "\n",
              "    [theme=dark] .colab-df-convert {\n",
              "      background-color: #3B4455;\n",
              "      fill: #D2E3FC;\n",
              "    }\n",
              "\n",
              "    [theme=dark] .colab-df-convert:hover {\n",
              "      background-color: #434B5C;\n",
              "      box-shadow: 0px 1px 3px 1px rgba(0, 0, 0, 0.15);\n",
              "      filter: drop-shadow(0px 1px 2px rgba(0, 0, 0, 0.3));\n",
              "      fill: #FFFFFF;\n",
              "    }\n",
              "  </style>\n",
              "\n",
              "      <script>\n",
              "        const buttonEl =\n",
              "          document.querySelector('#df-9d88f2e1-3d16-4d16-b038-c43110fd1bd9 button.colab-df-convert');\n",
              "        buttonEl.style.display =\n",
              "          google.colab.kernel.accessAllowed ? 'block' : 'none';\n",
              "\n",
              "        async function convertToInteractive(key) {\n",
              "          const element = document.querySelector('#df-9d88f2e1-3d16-4d16-b038-c43110fd1bd9');\n",
              "          const dataTable =\n",
              "            await google.colab.kernel.invokeFunction('convertToInteractive',\n",
              "                                                     [key], {});\n",
              "          if (!dataTable) return;\n",
              "\n",
              "          const docLinkHtml = 'Like what you see? Visit the ' +\n",
              "            '<a target=\"_blank\" href=https://colab.research.google.com/notebooks/data_table.ipynb>data table notebook</a>'\n",
              "            + ' to learn more about interactive tables.';\n",
              "          element.innerHTML = '';\n",
              "          dataTable['output_type'] = 'display_data';\n",
              "          await google.colab.output.renderOutput(dataTable, element);\n",
              "          const docLink = document.createElement('div');\n",
              "          docLink.innerHTML = docLinkHtml;\n",
              "          element.appendChild(docLink);\n",
              "        }\n",
              "      </script>\n",
              "    </div>\n",
              "  </div>\n",
              "  "
            ]
          },
          "metadata": {},
          "execution_count": 59
        }
      ],
      "source": [
        "df_renamed = df_titles\n",
        "for c in df_titles.columns : \n",
        "  df_renamed = df_renamed.withColumnRenamed(c,c+'_suffx')\n",
        "\n",
        "df_renamed.limit(5).toPandas()"
      ]
    },
    {
      "cell_type": "markdown",
      "metadata": {
        "id": "9PDUl0X4I0JG"
      },
      "source": [
        "**Criando e Alterando Colunas**\n",
        "\n",
        "Para criar ou alterar colunas é utilizada a função `withColumn()`, da seguinte forma : \n",
        "  - `df.withColumn(\"nome_da_coluna\", {expressão geradora da coluna})`"
      ]
    },
    {
      "cell_type": "code",
      "execution_count": null,
      "metadata": {
        "colab": {
          "base_uri": "https://localhost:8080/"
        },
        "id": "mHAtgaKHIzH5",
        "outputId": "861ca52f-a587-44fb-b2e3-93094651cc64"
      },
      "outputs": [
        {
          "output_type": "stream",
          "name": "stdout",
          "text": [
            "+---------+--------------------+--------------+--------------------+\n",
            "|   tconst|        primaryTitle|runtimeMinutes|      primaryTitle_2|\n",
            "+---------+--------------------+--------------+--------------------+\n",
            "|tt0000001|          Carmencita|             1|          CARMENCITA|\n",
            "|tt0000002|Le clown et ses c...|             5|LE CLOWN ET SES C...|\n",
            "|tt0000003|      Pauvre Pierrot|             4|      PAUVRE PIERROT|\n",
            "|tt0000004|         Un bon bock|            12|         UN BON BOCK|\n",
            "|tt0000005|    Blacksmith Scene|             1|    BLACKSMITH SCENE|\n",
            "+---------+--------------------+--------------+--------------------+\n",
            "only showing top 5 rows\n",
            "\n"
          ]
        }
      ],
      "source": [
        "from pyspark.sql.functions import upper\n",
        "\n",
        "(\n",
        "    df_titles\n",
        "    .select('tconst','primaryTitle','runtimeMinutes',)\n",
        "    .withColumn(\"primaryTitle_2\",upper('primaryTitle'))\n",
        "    .show(5)\n",
        ")"
      ]
    },
    {
      "cell_type": "markdown",
      "metadata": {
        "id": "OOcQhWReK2CB"
      },
      "source": [
        "**Criando colunas a partir de constantes**"
      ]
    },
    {
      "cell_type": "code",
      "execution_count": null,
      "metadata": {
        "colab": {
          "base_uri": "https://localhost:8080/"
        },
        "id": "6cRDc77YK1W0",
        "outputId": "ed2365f0-2e2f-40e3-d254-8f3393a713ca"
      },
      "outputs": [
        {
          "output_type": "stream",
          "name": "stdout",
          "text": [
            "+---------+--------------------+--------------+------+\n",
            "|   tconst|        primaryTitle|runtimeMinutes|  pais|\n",
            "+---------+--------------------+--------------+------+\n",
            "|tt0000001|          Carmencita|             1|Brasil|\n",
            "|tt0000002|Le clown et ses c...|             5|Brasil|\n",
            "|tt0000003|      Pauvre Pierrot|             4|Brasil|\n",
            "|tt0000004|         Un bon bock|            12|Brasil|\n",
            "|tt0000005|    Blacksmith Scene|             1|Brasil|\n",
            "+---------+--------------------+--------------+------+\n",
            "only showing top 5 rows\n",
            "\n"
          ]
        }
      ],
      "source": [
        "from pyspark.sql.functions import lit\n",
        "\n",
        "(\n",
        "    df_titles\n",
        "    .select('tconst','primaryTitle','runtimeMinutes',)\n",
        "    .withColumn('pais',lit('Brasil'))\n",
        "    .show(5)\n",
        ")"
      ]
    },
    {
      "cell_type": "markdown",
      "metadata": {
        "id": "Cd7WzeJ_LRY1"
      },
      "source": [
        "**Criando colunas condicionais**"
      ]
    },
    {
      "cell_type": "code",
      "execution_count": null,
      "metadata": {
        "colab": {
          "base_uri": "https://localhost:8080/"
        },
        "id": "nceDWdYKJzCP",
        "outputId": "153fccd5-7e0b-4f20-a0f1-5a7763e5a425"
      },
      "outputs": [
        {
          "output_type": "stream",
          "name": "stdout",
          "text": [
            "+---------+--------------------+--------------+-----------------+\n",
            "|   tconst|        primaryTitle|runtimeMinutes|categoria_runtime|\n",
            "+---------+--------------------+--------------+-----------------+\n",
            "|tt0000502|            Bohemios|           100|           normal|\n",
            "|tt0000574|The Story of the ...|            70|           normal|\n",
            "|tt0000591|    The Prodigal Son|            90|           normal|\n",
            "|tt0000679|The Fairylogue an...|           120|            longo|\n",
            "|tt0001756|Lucha por la here...|            92|           normal|\n",
            "|tt0002026|Anny - Story of a...|            68|           normal|\n",
            "|tt0002101|           Cleopatra|           100|           normal|\n",
            "|tt0002130|     Dante's Inferno|            71|           normal|\n",
            "|tt0002315|El lobo de la sierra|            76|           normal|\n",
            "|tt0002423|             Passion|            85|           normal|\n",
            "|tt0002445|          Quo Vadis?|           120|            longo|\n",
            "|tt0002452|The Independence ...|           120|            longo|\n",
            "|tt0002625|          Ana Kadova|            92|           normal|\n",
            "|tt0002646|            Atlantis|           121|            longo|\n",
            "|tt0002685|        Blodets röst|            89|           normal|\n",
            "|tt0002767|The Count of Mont...|            69|           normal|\n",
            "|tt0002820|          East Lynne|            69|           normal|\n",
            "|tt0002885|   From Dusk to Dawn|            90|           normal|\n",
            "|tt0002898|Germinal; or, The...|           150|            longo|\n",
            "|tt0002922|              Hamlet|            64|           normal|\n",
            "|tt0002973|Dr. Mawson in the...|            68|           normal|\n",
            "|tt0003014|       Ingeborg Holm|            96|           normal|\n",
            "|tt0003037|Fantomas: The Man...|            61|           normal|\n",
            "|tt0003076|   Livets konflikter|            64|           normal|\n",
            "|tt0003102|    Love Everlasting|            90|           normal|\n",
            "+---------+--------------------+--------------+-----------------+\n",
            "only showing top 25 rows\n",
            "\n"
          ]
        }
      ],
      "source": [
        "from pyspark.sql.functions import when\n",
        "\n",
        "(\n",
        "    df_titles\n",
        "    .select('tconst','primaryTitle','runtimeMinutes',)\n",
        "    .withColumn('runtimeMinutes',col('runtimeMinutes').cast('int'))\n",
        "    .withColumn(\"categoria_runtime\", when(col('runtimeMinutes') <=60,'curto')\n",
        "                                    .when((col('runtimeMinutes') > 60) & (col('runtimeMinutes') < 120),'normal')\n",
        "                                    .when(col('runtimeMinutes') >=120, 'longo')\n",
        "                                    .when(col('runtimeMinutes').isNull(), 'nulo')\n",
        "                                    .otherwise('Erro'))\n",
        "    .filter('runtimeMinutes > 60')\n",
        "    .show(25)\n",
        ")"
      ]
    },
    {
      "cell_type": "code",
      "execution_count": null,
      "metadata": {
        "colab": {
          "base_uri": "https://localhost:8080/"
        },
        "id": "xbgh_MAAMaRM",
        "outputId": "4b50bf84-bc76-4df4-c9d0-cf3bddd619c3"
      },
      "outputs": [
        {
          "output_type": "stream",
          "name": "stdout",
          "text": [
            "+---------+--------------------+--------------+-----------------+\n",
            "|   tconst|        primaryTitle|runtimeMinutes|categoria_runtime|\n",
            "+---------+--------------------+--------------+-----------------+\n",
            "|tt0000502|            Bohemios|           100|           normal|\n",
            "|tt0000574|The Story of the ...|            70|           normal|\n",
            "|tt0000591|    The Prodigal Son|            90|           normal|\n",
            "|tt0000679|The Fairylogue an...|           120|            longo|\n",
            "|tt0001756|Lucha por la here...|            92|           normal|\n",
            "|tt0002026|Anny - Story of a...|            68|           normal|\n",
            "|tt0002101|           Cleopatra|           100|           normal|\n",
            "|tt0002130|     Dante's Inferno|            71|           normal|\n",
            "|tt0002315|El lobo de la sierra|            76|           normal|\n",
            "|tt0002423|             Passion|            85|           normal|\n",
            "|tt0002445|          Quo Vadis?|           120|            longo|\n",
            "|tt0002452|The Independence ...|           120|            longo|\n",
            "|tt0002625|          Ana Kadova|            92|           normal|\n",
            "|tt0002646|            Atlantis|           121|            longo|\n",
            "|tt0002685|        Blodets röst|            89|           normal|\n",
            "|tt0002767|The Count of Mont...|            69|           normal|\n",
            "|tt0002820|          East Lynne|            69|           normal|\n",
            "|tt0002885|   From Dusk to Dawn|            90|           normal|\n",
            "|tt0002898|Germinal; or, The...|           150|            longo|\n",
            "|tt0002922|              Hamlet|            64|           normal|\n",
            "|tt0002973|Dr. Mawson in the...|            68|           normal|\n",
            "|tt0003014|       Ingeborg Holm|            96|           normal|\n",
            "|tt0003037|Fantomas: The Man...|            61|           normal|\n",
            "|tt0003076|   Livets konflikter|            64|           normal|\n",
            "|tt0003102|    Love Everlasting|            90|           normal|\n",
            "+---------+--------------------+--------------+-----------------+\n",
            "only showing top 25 rows\n",
            "\n"
          ]
        }
      ],
      "source": [
        "from pyspark.sql.functions import when,expr\n",
        "\n",
        "predicado = \"\"\"\n",
        "\n",
        "CASE WHEN runtimeMinutes <= 60 THEN 'curto'\n",
        "     WHEN runtimeMinutes > 60 AND runtimeMinutes < 120 THEN 'normal'\n",
        "     WHEN runtimeMinutes >= 120 THEN 'longo'\n",
        "     WHEN runtimeMinutes IS NULL THEN 'nulo'\n",
        "     ELSE 'Erro'\n",
        "END\n",
        "\n",
        "\"\"\"\n",
        "\n",
        "(\n",
        "    df_titles\n",
        "    .select('tconst','primaryTitle','runtimeMinutes',)\n",
        "    .withColumn('runtimeMinutes',col('runtimeMinutes').cast('int'))\n",
        "    .withColumn(\"categoria_runtime\", expr(predicado))\n",
        "    .filter('runtimeMinutes > 60')\n",
        "    .show(25)\n",
        ")"
      ]
    },
    {
      "cell_type": "markdown",
      "metadata": {
        "id": "PIpaFVSERn3I"
      },
      "source": [
        "# **Aula 3.6 -** Trabalhando com diferentes tipos de dados\n"
      ]
    },
    {
      "cell_type": "code",
      "execution_count": 8,
      "metadata": {
        "id": "G8LcYHN5Rmks"
      },
      "outputs": [],
      "source": [
        "import pyspark.sql.functions as f"
      ]
    },
    {
      "cell_type": "markdown",
      "metadata": {
        "id": "elNhD-U9M5bo"
      },
      "source": [
        "**Valores Numéricos**\n",
        "\n",
        "  - `round()` : arredonda o valor numérico\n",
        "  - `ceil` : arredonda o valor numérico para o maior inteiro mais próximo\n",
        "  - `floor()` : arredonda o valure numérico para o menor inteiro mais próximo\n",
        "  - `sqrt()` : retorna a raiz quadrada do valor\n",
        "  - `exp()` : retorna a exponencial do valor\n",
        "  - `log()` : retorna o logaritmo natual do valor\n",
        "  - `log10()` : retorna o logaritmo na base 10 do valor\n",
        "  - `greatest()` : retorna o maior valor dentre os valores das colunas. Análogo ao `max()`, mas entre colunas. \n",
        "  - `least()` : retorna o menor valor dentre os valores das colunas. Análogo ao `min()`, mas entre colunas"
      ]
    },
    {
      "cell_type": "code",
      "execution_count": null,
      "metadata": {
        "colab": {
          "base_uri": "https://localhost:8080/"
        },
        "id": "6acwb3c5M4Jb",
        "outputId": "b31a7e6c-a345-49ca-f84f-802f66094245"
      },
      "outputs": [
        {
          "output_type": "stream",
          "name": "stdout",
          "text": [
            "+---------+---------+--------------------+--------------------+-------+---------+-------+--------------+--------------------+\n",
            "|   tconst|titleType|        primaryTitle|       originalTitle|isAdult|startYear|endYear|runtimeMinutes|              genres|\n",
            "+---------+---------+--------------------+--------------------+-------+---------+-------+--------------+--------------------+\n",
            "|tt0000001|    short|          Carmencita|          Carmencita|      0|     1894|     \\N|             1|   Documentary,Short|\n",
            "|tt0000002|    short|Le clown et ses c...|Le clown et ses c...|      0|     1892|     \\N|             5|     Animation,Short|\n",
            "|tt0000003|    short|      Pauvre Pierrot|      Pauvre Pierrot|      0|     1892|     \\N|             4|Animation,Comedy,...|\n",
            "|tt0000004|    short|         Un bon bock|         Un bon bock|      0|     1892|     \\N|            12|     Animation,Short|\n",
            "|tt0000005|    short|    Blacksmith Scene|    Blacksmith Scene|      0|     1893|     \\N|             1|        Comedy,Short|\n",
            "+---------+---------+--------------------+--------------------+-------+---------+-------+--------------+--------------------+\n",
            "only showing top 5 rows\n",
            "\n"
          ]
        }
      ],
      "source": [
        "df_titles.show(5)"
      ]
    },
    {
      "cell_type": "code",
      "execution_count": null,
      "metadata": {
        "colab": {
          "base_uri": "https://localhost:8080/",
          "height": 305
        },
        "id": "VmRzmd-rOZeq",
        "outputId": "09aeecaf-9481-443d-c9bd-400155251600"
      },
      "outputs": [
        {
          "output_type": "execute_result",
          "data": {
            "text/plain": [
              "      tconst titleType            primaryTitle           originalTitle  \\\n",
              "0  tt0000001     short              Carmencita              Carmencita   \n",
              "1  tt0000002     short  Le clown et ses chiens  Le clown et ses chiens   \n",
              "2  tt0000003     short          Pauvre Pierrot          Pauvre Pierrot   \n",
              "3  tt0000004     short             Un bon bock             Un bon bock   \n",
              "4  tt0000005     short        Blacksmith Scene        Blacksmith Scene   \n",
              "\n",
              "  isAdult startYear endYear  runtimeMinutes                    genres  \\\n",
              "0       0      1894      \\N               1         Documentary,Short   \n",
              "1       0      1892      \\N               5           Animation,Short   \n",
              "2       0      1892      \\N               4  Animation,Comedy,Romance   \n",
              "3       0      1892      \\N              12           Animation,Short   \n",
              "4       0      1893      \\N               1              Comedy,Short   \n",
              "\n",
              "   random_normal  dummy_division  dummy_round  dummy_sum  dummy_sub  dummy_exp  \n",
              "0      -0.992755          -0.993    -0.992755   0.007245   1.992755   1.000000  \n",
              "1       0.431839           0.432     2.159195   5.431839   4.568161   2.003745  \n",
              "2       0.250836           0.251     1.003345   4.250836   3.749164   1.415854  \n",
              "3      -0.104760          -0.105    -1.257121  11.895240  12.104760   0.770806  \n",
              "4      -1.301178          -1.301    -1.301178  -0.301178   2.301178   1.000000  "
            ],
            "text/html": [
              "\n",
              "  <div id=\"df-23e89b28-2f3b-4476-ba58-53a3302fb16c\">\n",
              "    <div class=\"colab-df-container\">\n",
              "      <div>\n",
              "<style scoped>\n",
              "    .dataframe tbody tr th:only-of-type {\n",
              "        vertical-align: middle;\n",
              "    }\n",
              "\n",
              "    .dataframe tbody tr th {\n",
              "        vertical-align: top;\n",
              "    }\n",
              "\n",
              "    .dataframe thead th {\n",
              "        text-align: right;\n",
              "    }\n",
              "</style>\n",
              "<table border=\"1\" class=\"dataframe\">\n",
              "  <thead>\n",
              "    <tr style=\"text-align: right;\">\n",
              "      <th></th>\n",
              "      <th>tconst</th>\n",
              "      <th>titleType</th>\n",
              "      <th>primaryTitle</th>\n",
              "      <th>originalTitle</th>\n",
              "      <th>isAdult</th>\n",
              "      <th>startYear</th>\n",
              "      <th>endYear</th>\n",
              "      <th>runtimeMinutes</th>\n",
              "      <th>genres</th>\n",
              "      <th>random_normal</th>\n",
              "      <th>dummy_division</th>\n",
              "      <th>dummy_round</th>\n",
              "      <th>dummy_sum</th>\n",
              "      <th>dummy_sub</th>\n",
              "      <th>dummy_exp</th>\n",
              "    </tr>\n",
              "  </thead>\n",
              "  <tbody>\n",
              "    <tr>\n",
              "      <th>0</th>\n",
              "      <td>tt0000001</td>\n",
              "      <td>short</td>\n",
              "      <td>Carmencita</td>\n",
              "      <td>Carmencita</td>\n",
              "      <td>0</td>\n",
              "      <td>1894</td>\n",
              "      <td>\\N</td>\n",
              "      <td>1</td>\n",
              "      <td>Documentary,Short</td>\n",
              "      <td>-0.992755</td>\n",
              "      <td>-0.993</td>\n",
              "      <td>-0.992755</td>\n",
              "      <td>0.007245</td>\n",
              "      <td>1.992755</td>\n",
              "      <td>1.000000</td>\n",
              "    </tr>\n",
              "    <tr>\n",
              "      <th>1</th>\n",
              "      <td>tt0000002</td>\n",
              "      <td>short</td>\n",
              "      <td>Le clown et ses chiens</td>\n",
              "      <td>Le clown et ses chiens</td>\n",
              "      <td>0</td>\n",
              "      <td>1892</td>\n",
              "      <td>\\N</td>\n",
              "      <td>5</td>\n",
              "      <td>Animation,Short</td>\n",
              "      <td>0.431839</td>\n",
              "      <td>0.432</td>\n",
              "      <td>2.159195</td>\n",
              "      <td>5.431839</td>\n",
              "      <td>4.568161</td>\n",
              "      <td>2.003745</td>\n",
              "    </tr>\n",
              "    <tr>\n",
              "      <th>2</th>\n",
              "      <td>tt0000003</td>\n",
              "      <td>short</td>\n",
              "      <td>Pauvre Pierrot</td>\n",
              "      <td>Pauvre Pierrot</td>\n",
              "      <td>0</td>\n",
              "      <td>1892</td>\n",
              "      <td>\\N</td>\n",
              "      <td>4</td>\n",
              "      <td>Animation,Comedy,Romance</td>\n",
              "      <td>0.250836</td>\n",
              "      <td>0.251</td>\n",
              "      <td>1.003345</td>\n",
              "      <td>4.250836</td>\n",
              "      <td>3.749164</td>\n",
              "      <td>1.415854</td>\n",
              "    </tr>\n",
              "    <tr>\n",
              "      <th>3</th>\n",
              "      <td>tt0000004</td>\n",
              "      <td>short</td>\n",
              "      <td>Un bon bock</td>\n",
              "      <td>Un bon bock</td>\n",
              "      <td>0</td>\n",
              "      <td>1892</td>\n",
              "      <td>\\N</td>\n",
              "      <td>12</td>\n",
              "      <td>Animation,Short</td>\n",
              "      <td>-0.104760</td>\n",
              "      <td>-0.105</td>\n",
              "      <td>-1.257121</td>\n",
              "      <td>11.895240</td>\n",
              "      <td>12.104760</td>\n",
              "      <td>0.770806</td>\n",
              "    </tr>\n",
              "    <tr>\n",
              "      <th>4</th>\n",
              "      <td>tt0000005</td>\n",
              "      <td>short</td>\n",
              "      <td>Blacksmith Scene</td>\n",
              "      <td>Blacksmith Scene</td>\n",
              "      <td>0</td>\n",
              "      <td>1893</td>\n",
              "      <td>\\N</td>\n",
              "      <td>1</td>\n",
              "      <td>Comedy,Short</td>\n",
              "      <td>-1.301178</td>\n",
              "      <td>-1.301</td>\n",
              "      <td>-1.301178</td>\n",
              "      <td>-0.301178</td>\n",
              "      <td>2.301178</td>\n",
              "      <td>1.000000</td>\n",
              "    </tr>\n",
              "  </tbody>\n",
              "</table>\n",
              "</div>\n",
              "      <button class=\"colab-df-convert\" onclick=\"convertToInteractive('df-23e89b28-2f3b-4476-ba58-53a3302fb16c')\"\n",
              "              title=\"Convert this dataframe to an interactive table.\"\n",
              "              style=\"display:none;\">\n",
              "        \n",
              "  <svg xmlns=\"http://www.w3.org/2000/svg\" height=\"24px\"viewBox=\"0 0 24 24\"\n",
              "       width=\"24px\">\n",
              "    <path d=\"M0 0h24v24H0V0z\" fill=\"none\"/>\n",
              "    <path d=\"M18.56 5.44l.94 2.06.94-2.06 2.06-.94-2.06-.94-.94-2.06-.94 2.06-2.06.94zm-11 1L8.5 8.5l.94-2.06 2.06-.94-2.06-.94L8.5 2.5l-.94 2.06-2.06.94zm10 10l.94 2.06.94-2.06 2.06-.94-2.06-.94-.94-2.06-.94 2.06-2.06.94z\"/><path d=\"M17.41 7.96l-1.37-1.37c-.4-.4-.92-.59-1.43-.59-.52 0-1.04.2-1.43.59L10.3 9.45l-7.72 7.72c-.78.78-.78 2.05 0 2.83L4 21.41c.39.39.9.59 1.41.59.51 0 1.02-.2 1.41-.59l7.78-7.78 2.81-2.81c.8-.78.8-2.07 0-2.86zM5.41 20L4 18.59l7.72-7.72 1.47 1.35L5.41 20z\"/>\n",
              "  </svg>\n",
              "      </button>\n",
              "      \n",
              "  <style>\n",
              "    .colab-df-container {\n",
              "      display:flex;\n",
              "      flex-wrap:wrap;\n",
              "      gap: 12px;\n",
              "    }\n",
              "\n",
              "    .colab-df-convert {\n",
              "      background-color: #E8F0FE;\n",
              "      border: none;\n",
              "      border-radius: 50%;\n",
              "      cursor: pointer;\n",
              "      display: none;\n",
              "      fill: #1967D2;\n",
              "      height: 32px;\n",
              "      padding: 0 0 0 0;\n",
              "      width: 32px;\n",
              "    }\n",
              "\n",
              "    .colab-df-convert:hover {\n",
              "      background-color: #E2EBFA;\n",
              "      box-shadow: 0px 1px 2px rgba(60, 64, 67, 0.3), 0px 1px 3px 1px rgba(60, 64, 67, 0.15);\n",
              "      fill: #174EA6;\n",
              "    }\n",
              "\n",
              "    [theme=dark] .colab-df-convert {\n",
              "      background-color: #3B4455;\n",
              "      fill: #D2E3FC;\n",
              "    }\n",
              "\n",
              "    [theme=dark] .colab-df-convert:hover {\n",
              "      background-color: #434B5C;\n",
              "      box-shadow: 0px 1px 3px 1px rgba(0, 0, 0, 0.15);\n",
              "      filter: drop-shadow(0px 1px 2px rgba(0, 0, 0, 0.3));\n",
              "      fill: #FFFFFF;\n",
              "    }\n",
              "  </style>\n",
              "\n",
              "      <script>\n",
              "        const buttonEl =\n",
              "          document.querySelector('#df-23e89b28-2f3b-4476-ba58-53a3302fb16c button.colab-df-convert');\n",
              "        buttonEl.style.display =\n",
              "          google.colab.kernel.accessAllowed ? 'block' : 'none';\n",
              "\n",
              "        async function convertToInteractive(key) {\n",
              "          const element = document.querySelector('#df-23e89b28-2f3b-4476-ba58-53a3302fb16c');\n",
              "          const dataTable =\n",
              "            await google.colab.kernel.invokeFunction('convertToInteractive',\n",
              "                                                     [key], {});\n",
              "          if (!dataTable) return;\n",
              "\n",
              "          const docLinkHtml = 'Like what you see? Visit the ' +\n",
              "            '<a target=\"_blank\" href=https://colab.research.google.com/notebooks/data_table.ipynb>data table notebook</a>'\n",
              "            + ' to learn more about interactive tables.';\n",
              "          element.innerHTML = '';\n",
              "          dataTable['output_type'] = 'display_data';\n",
              "          await google.colab.output.renderOutput(dataTable, element);\n",
              "          const docLink = document.createElement('div');\n",
              "          docLink.innerHTML = docLinkHtml;\n",
              "          element.appendChild(docLink);\n",
              "        }\n",
              "      </script>\n",
              "    </div>\n",
              "  </div>\n",
              "  "
            ]
          },
          "metadata": {},
          "execution_count": 66
        }
      ],
      "source": [
        "(\n",
        "    df_titles\n",
        "    .withColumn('runtimeMinutes',f.col('runtimeMinutes').cast('int'))\n",
        "    .withColumn('random_normal',f.randn(123))\n",
        "    .withColumn('dummy_division',f.col('runtimeMinutes')/f.col('random_normal'))\n",
        "    .withColumn('dummy_division',f.round(f.col('random_normal'),3))\n",
        "    .withColumn('dummy_round',f.col('runtimeMinutes')*f.col('random_normal'))\n",
        "    .withColumn('dummy_sum',f.col('runtimeMinutes')+f.col('random_normal'))\n",
        "    .withColumn('dummy_sub',f.col('runtimeMinutes')-f.col('random_normal'))\n",
        "    .withColumn('dummy_exp',f.col('runtimeMinutes')**f.col('random_normal'))\n",
        "    .limit(5)\n",
        "    .toPandas()\n",
        ")"
      ]
    },
    {
      "cell_type": "markdown",
      "metadata": {
        "id": "wz3iC_DNK46Z"
      },
      "source": [
        "**Strings**\n",
        "\n",
        "  - `upper()` : retorna o string em letras maiúsculas\n",
        "  - `lower()` : retorna o string em letras minúsculas\n",
        "  - `initcap()` : retorna a primeira letra de cada palavra no string em letras maiúsculas\n",
        "  - `trim()` : retira os espaços em branco do início e do final do string\n",
        "  - `ltrim()/rtrim()` : retira os espaços em branco no início e do final do string, respectivamente\n",
        "  - `lpad()/rpad()` : acrescenta um carctere no início e no final do srting, respectivamente, até que string tenha um determinado comprimento\n",
        "  - `length()` : retorna o comprimento do stirng, em quantidade de caracteres\n",
        "  - `split()` : quebra o string a partir de um padrão e retorna um array com os strings resultantes\n",
        "  - `concat()` : concatena uma ou mais colunas de string\n",
        "  - `concat_ws` : concatena uma ou mais colunas de string, com um separador entre elas\n",
        "  - `regexp_extract()` : retorna um match no string a partir de um padrão regex\n",
        "  - `regex_replace()` : substitui um match no string a partir de um padrão regex com outros caracteres\n",
        "  - `substring()` : retornamos caracteres do sting que estão entre os índices especificados. Análogo a f.col().substring() "
      ]
    },
    {
      "cell_type": "code",
      "execution_count": null,
      "metadata": {
        "colab": {
          "base_uri": "https://localhost:8080/",
          "height": 206
        },
        "id": "Yv6xt05-K4E3",
        "outputId": "50fa394b-70e9-49d3-8857-0e7cd1b3ce4c"
      },
      "outputs": [
        {
          "output_type": "execute_result",
          "data": {
            "text/plain": [
              "      tconst titleType            primarytitle           originalTitle  \\\n",
              "0  tt0000001     Short              CARMENCITA              Carmencita   \n",
              "1  tt0000002     Short  LE CLOWN ET SES CHIENS  Le clown et ses chiens   \n",
              "2  tt0000003     Short          PAUVRE PIERROT          Pauvre Pierrot   \n",
              "3  tt0000004     Short             UN BON BOCK             Un bon bock   \n",
              "4  tt0000005     Short        BLACKSMITH SCENE        Blacksmith Scene   \n",
              "\n",
              "  isAdult startYear endYear runtimeMinutes                    genres  \\\n",
              "0       0      1894      \\N              1         Documentary,Short   \n",
              "1       0      1892      \\N              5           Animation,Short   \n",
              "2       0      1892      \\N              4  Animation,Comedy,Romance   \n",
              "3       0      1892      \\N             12           Animation,Short   \n",
              "4       0      1893      \\N              1              Comedy,Short   \n",
              "\n",
              "                   genres_array num_cost  \n",
              "0          [Documentary, Short]  0000001  \n",
              "1            [Animation, Short]  0000002  \n",
              "2  [Animation, Comedy, Romance]  0000003  \n",
              "3            [Animation, Short]  0000004  \n",
              "4               [Comedy, Short]  0000005  "
            ],
            "text/html": [
              "\n",
              "  <div id=\"df-734fd5e9-ed6f-4523-b098-98a9485c0be5\">\n",
              "    <div class=\"colab-df-container\">\n",
              "      <div>\n",
              "<style scoped>\n",
              "    .dataframe tbody tr th:only-of-type {\n",
              "        vertical-align: middle;\n",
              "    }\n",
              "\n",
              "    .dataframe tbody tr th {\n",
              "        vertical-align: top;\n",
              "    }\n",
              "\n",
              "    .dataframe thead th {\n",
              "        text-align: right;\n",
              "    }\n",
              "</style>\n",
              "<table border=\"1\" class=\"dataframe\">\n",
              "  <thead>\n",
              "    <tr style=\"text-align: right;\">\n",
              "      <th></th>\n",
              "      <th>tconst</th>\n",
              "      <th>titleType</th>\n",
              "      <th>primarytitle</th>\n",
              "      <th>originalTitle</th>\n",
              "      <th>isAdult</th>\n",
              "      <th>startYear</th>\n",
              "      <th>endYear</th>\n",
              "      <th>runtimeMinutes</th>\n",
              "      <th>genres</th>\n",
              "      <th>genres_array</th>\n",
              "      <th>num_cost</th>\n",
              "    </tr>\n",
              "  </thead>\n",
              "  <tbody>\n",
              "    <tr>\n",
              "      <th>0</th>\n",
              "      <td>tt0000001</td>\n",
              "      <td>Short</td>\n",
              "      <td>CARMENCITA</td>\n",
              "      <td>Carmencita</td>\n",
              "      <td>0</td>\n",
              "      <td>1894</td>\n",
              "      <td>\\N</td>\n",
              "      <td>1</td>\n",
              "      <td>Documentary,Short</td>\n",
              "      <td>[Documentary, Short]</td>\n",
              "      <td>0000001</td>\n",
              "    </tr>\n",
              "    <tr>\n",
              "      <th>1</th>\n",
              "      <td>tt0000002</td>\n",
              "      <td>Short</td>\n",
              "      <td>LE CLOWN ET SES CHIENS</td>\n",
              "      <td>Le clown et ses chiens</td>\n",
              "      <td>0</td>\n",
              "      <td>1892</td>\n",
              "      <td>\\N</td>\n",
              "      <td>5</td>\n",
              "      <td>Animation,Short</td>\n",
              "      <td>[Animation, Short]</td>\n",
              "      <td>0000002</td>\n",
              "    </tr>\n",
              "    <tr>\n",
              "      <th>2</th>\n",
              "      <td>tt0000003</td>\n",
              "      <td>Short</td>\n",
              "      <td>PAUVRE PIERROT</td>\n",
              "      <td>Pauvre Pierrot</td>\n",
              "      <td>0</td>\n",
              "      <td>1892</td>\n",
              "      <td>\\N</td>\n",
              "      <td>4</td>\n",
              "      <td>Animation,Comedy,Romance</td>\n",
              "      <td>[Animation, Comedy, Romance]</td>\n",
              "      <td>0000003</td>\n",
              "    </tr>\n",
              "    <tr>\n",
              "      <th>3</th>\n",
              "      <td>tt0000004</td>\n",
              "      <td>Short</td>\n",
              "      <td>UN BON BOCK</td>\n",
              "      <td>Un bon bock</td>\n",
              "      <td>0</td>\n",
              "      <td>1892</td>\n",
              "      <td>\\N</td>\n",
              "      <td>12</td>\n",
              "      <td>Animation,Short</td>\n",
              "      <td>[Animation, Short]</td>\n",
              "      <td>0000004</td>\n",
              "    </tr>\n",
              "    <tr>\n",
              "      <th>4</th>\n",
              "      <td>tt0000005</td>\n",
              "      <td>Short</td>\n",
              "      <td>BLACKSMITH SCENE</td>\n",
              "      <td>Blacksmith Scene</td>\n",
              "      <td>0</td>\n",
              "      <td>1893</td>\n",
              "      <td>\\N</td>\n",
              "      <td>1</td>\n",
              "      <td>Comedy,Short</td>\n",
              "      <td>[Comedy, Short]</td>\n",
              "      <td>0000005</td>\n",
              "    </tr>\n",
              "  </tbody>\n",
              "</table>\n",
              "</div>\n",
              "      <button class=\"colab-df-convert\" onclick=\"convertToInteractive('df-734fd5e9-ed6f-4523-b098-98a9485c0be5')\"\n",
              "              title=\"Convert this dataframe to an interactive table.\"\n",
              "              style=\"display:none;\">\n",
              "        \n",
              "  <svg xmlns=\"http://www.w3.org/2000/svg\" height=\"24px\"viewBox=\"0 0 24 24\"\n",
              "       width=\"24px\">\n",
              "    <path d=\"M0 0h24v24H0V0z\" fill=\"none\"/>\n",
              "    <path d=\"M18.56 5.44l.94 2.06.94-2.06 2.06-.94-2.06-.94-.94-2.06-.94 2.06-2.06.94zm-11 1L8.5 8.5l.94-2.06 2.06-.94-2.06-.94L8.5 2.5l-.94 2.06-2.06.94zm10 10l.94 2.06.94-2.06 2.06-.94-2.06-.94-.94-2.06-.94 2.06-2.06.94z\"/><path d=\"M17.41 7.96l-1.37-1.37c-.4-.4-.92-.59-1.43-.59-.52 0-1.04.2-1.43.59L10.3 9.45l-7.72 7.72c-.78.78-.78 2.05 0 2.83L4 21.41c.39.39.9.59 1.41.59.51 0 1.02-.2 1.41-.59l7.78-7.78 2.81-2.81c.8-.78.8-2.07 0-2.86zM5.41 20L4 18.59l7.72-7.72 1.47 1.35L5.41 20z\"/>\n",
              "  </svg>\n",
              "      </button>\n",
              "      \n",
              "  <style>\n",
              "    .colab-df-container {\n",
              "      display:flex;\n",
              "      flex-wrap:wrap;\n",
              "      gap: 12px;\n",
              "    }\n",
              "\n",
              "    .colab-df-convert {\n",
              "      background-color: #E8F0FE;\n",
              "      border: none;\n",
              "      border-radius: 50%;\n",
              "      cursor: pointer;\n",
              "      display: none;\n",
              "      fill: #1967D2;\n",
              "      height: 32px;\n",
              "      padding: 0 0 0 0;\n",
              "      width: 32px;\n",
              "    }\n",
              "\n",
              "    .colab-df-convert:hover {\n",
              "      background-color: #E2EBFA;\n",
              "      box-shadow: 0px 1px 2px rgba(60, 64, 67, 0.3), 0px 1px 3px 1px rgba(60, 64, 67, 0.15);\n",
              "      fill: #174EA6;\n",
              "    }\n",
              "\n",
              "    [theme=dark] .colab-df-convert {\n",
              "      background-color: #3B4455;\n",
              "      fill: #D2E3FC;\n",
              "    }\n",
              "\n",
              "    [theme=dark] .colab-df-convert:hover {\n",
              "      background-color: #434B5C;\n",
              "      box-shadow: 0px 1px 3px 1px rgba(0, 0, 0, 0.15);\n",
              "      filter: drop-shadow(0px 1px 2px rgba(0, 0, 0, 0.3));\n",
              "      fill: #FFFFFF;\n",
              "    }\n",
              "  </style>\n",
              "\n",
              "      <script>\n",
              "        const buttonEl =\n",
              "          document.querySelector('#df-734fd5e9-ed6f-4523-b098-98a9485c0be5 button.colab-df-convert');\n",
              "        buttonEl.style.display =\n",
              "          google.colab.kernel.accessAllowed ? 'block' : 'none';\n",
              "\n",
              "        async function convertToInteractive(key) {\n",
              "          const element = document.querySelector('#df-734fd5e9-ed6f-4523-b098-98a9485c0be5');\n",
              "          const dataTable =\n",
              "            await google.colab.kernel.invokeFunction('convertToInteractive',\n",
              "                                                     [key], {});\n",
              "          if (!dataTable) return;\n",
              "\n",
              "          const docLinkHtml = 'Like what you see? Visit the ' +\n",
              "            '<a target=\"_blank\" href=https://colab.research.google.com/notebooks/data_table.ipynb>data table notebook</a>'\n",
              "            + ' to learn more about interactive tables.';\n",
              "          element.innerHTML = '';\n",
              "          dataTable['output_type'] = 'display_data';\n",
              "          await google.colab.output.renderOutput(dataTable, element);\n",
              "          const docLink = document.createElement('div');\n",
              "          docLink.innerHTML = docLinkHtml;\n",
              "          element.appendChild(docLink);\n",
              "        }\n",
              "      </script>\n",
              "    </div>\n",
              "  </div>\n",
              "  "
            ]
          },
          "metadata": {},
          "execution_count": 67
        }
      ],
      "source": [
        "(\n",
        "    df_titles\n",
        "    .withColumn('primarytitle',f.upper(f.col('primaryTitle')))\n",
        "    .withColumn('titleType',f.trim(f.initcap(f.col('titleType'))))\n",
        "    .withColumn('genres_array',f.split(f.col('genres'),','))\n",
        "    .withColumn('num_cost',f.substring(f.col('tconst'),3,7))\n",
        "    .limit(5)\n",
        "    .toPandas()\n",
        ")"
      ]
    },
    {
      "cell_type": "markdown",
      "metadata": {
        "id": "217VJY-_PlLW"
      },
      "source": [
        "**Datas**\n",
        "\n",
        "  - `add_months()` : retorna a data depois de adicionar \"x\" meses\n",
        "  - `months_between()` : retorna a diferença entre duas datas em meses\n",
        "  - `date_add()` : retorna a data depois de adicionar \"x\" dias\n",
        "  - `date_sub()` : retorna a data depois de subtrair \"x\" dias\n",
        "  - `next_day` : retorna o dia seguinte de alguma data\n",
        "  - `datediff()` : retorna a diferença entre duas datas em dias\n",
        "  - `current_date` : retorna a data atual\n",
        "  - `dayofweek/dayofmonth()/dayofyear` : retorna o dia relativo à semana, ao mês e ao ano, respectivamente.\n",
        "  - `weekofyear` : retorna a semana relativa ao ano\n",
        "  - `second()/minute()/hour()` : retorna os segundos, os minutos e as horas de uma coluna de date-time, respectivamente\n",
        "  - `month()/year()` : retorna o mês e o ano de uma coluna de data, respectivamente\n",
        "  - `last_day()` : retorna o último dia do mês do qual a data considerada pertence\n",
        "  - `to_date()` : transforma a coluna no tipo data (t.DateType())\n",
        "  - `trunc()` : formata a data para a unidade especificada\n",
        "    - `year` : \"(ano)-01-01\"\n",
        "    - `month` : \"(ano)-(mes)-01\" "
      ]
    },
    {
      "cell_type": "code",
      "execution_count": null,
      "metadata": {
        "colab": {
          "base_uri": "https://localhost:8080/"
        },
        "id": "R1a2UazERpen",
        "outputId": "1fa8e297-e072-42c7-c79d-2e634069526c"
      },
      "outputs": [
        {
          "output_type": "stream",
          "name": "stdout",
          "text": [
            "+---------+----------+---+---+----------+----------+--------------+----------------+-----------------+----------------+\n",
            "|startYear|  data_ano|mes|ano|      hoje|     trunc|ultimo_dia_mes|idade_filme_dias|idade_filme_meses|idade_filme_anos|\n",
            "+---------+----------+---+---+----------+----------+--------------+----------------+-----------------+----------------+\n",
            "|     1905|1905-01-01|  1|  1|2022-05-12|1904-12-26|    1905-01-31|           42865|             1408|             117|\n",
            "|     1907|1907-01-01|  1|  1|2022-05-12|1906-12-31|    1907-01-31|           42135|             1384|             115|\n",
            "|     1907|1907-01-01|  1|  1|2022-05-12|1906-12-31|    1907-01-31|           42135|             1384|             115|\n",
            "|     1908|1908-01-01|  1|  1|2022-05-12|1907-12-30|    1908-01-31|           41770|             1372|             114|\n",
            "|     1908|1908-01-01|  1|  1|2022-05-12|1907-12-30|    1908-01-31|           41770|             1372|             114|\n",
            "+---------+----------+---+---+----------+----------+--------------+----------------+-----------------+----------------+\n",
            "only showing top 5 rows\n",
            "\n"
          ]
        }
      ],
      "source": [
        "(\n",
        "    df_titles\n",
        "    .filter('titleType = \"movie\"')\n",
        "    .withColumn('data_ano',f.to_date(f.col('startYear'),'yyyy'))\n",
        "    .withColumn('mes',f.month(f.col('data_ano')))\n",
        "    .withColumn('ano',f.dayofmonth(f.col('data_ano')))\n",
        "    .withColumn('hoje',f.current_date())\n",
        "    .withColumn('trunc',f.trunc(f.col('data_ano'),'week'))\n",
        "    .withColumn('ultimo_dia_mes',f.last_day(f.col('data_ano')))\n",
        "    .withColumn('idade_filme_dias',f.datediff(f.col('hoje'),f.col('data_ano')))\n",
        "    .withColumn('idade_filme_meses',f.floor(f.months_between(f.col('hoje'),f.col('data_ano'))))\n",
        "    .withColumn('idade_filme_anos',f.floor(f.col('idade_filme_dias')/365))\n",
        "    .select('startYear','data_ano','mes','ano','hoje','trunc',\n",
        "            'ultimo_dia_mes','idade_filme_dias','idade_filme_meses','idade_filme_anos')\n",
        "    .show(5)\n",
        ")"
      ]
    },
    {
      "cell_type": "markdown",
      "metadata": {
        "id": "DFRfYtITahbX"
      },
      "source": [
        "### **Arrays**\n",
        "\n",
        "  - `array()` : constrói um array com as colunas selecionadas\n",
        "  - `flatten()` : transforma um array de arrays em um único array\n",
        "  - `explode()` : retorna uma nova linha para cada elemento no array\n",
        "  - `size()` : retorna o número de elementos do array\n",
        "  - `sort_array()` : ordena os elementos do array, de forma crescente ou decrescente\n",
        "  - `reverse()` : reverte a ordem dos elementos de um array \n",
        "  - `array_distinct()` : remove elementos duplicados do array\n",
        "  - `array_contains()` : verifica se o array contém o elemento especificado\n",
        "  - `arrays_overlap()` : a partir de 2 colunas de arrays, verifica se elas tem algum elemento em comum, retornando True ou False\n",
        "  - `array_union()` : a partir de 2 colunas de arrays, retorna o array com os elementos unidos das duas colunas, sem duplicatas\n",
        "  - `array_except()` : a partir de 2 colunas de arrays, retorna um array com os elementos que estão em uma coluna mais não estão na outra, sem duplicatas\n",
        "  - `array_intersect()` : a partir de 2 colunas de arrays, retorna um array com os elementos que estão nas duas colunas, sem duplicatas\n",
        "  - `array_join()` : retorna um string após concaterna os elementos do array usando um delimitador especificado\n",
        "  - `array_max()/array_min()` : retorna o máximo e o mínimo valor do array, respectivamente\n",
        "  - `array_remove()` : remove elementos do array que são iguais a uma valor especificado  \n"
      ]
    },
    {
      "cell_type": "code",
      "execution_count": null,
      "metadata": {
        "colab": {
          "base_uri": "https://localhost:8080/"
        },
        "id": "-MCwZXeqagVd",
        "outputId": "24267ddb-5323-432c-afd2-117226743d66"
      },
      "outputs": [
        {
          "output_type": "stream",
          "name": "stdout",
          "text": [
            "+--------------------+-----------+-----------------+--------+------------+\n",
            "|        genres_array|first_genre|    genres_string|n_genres|genres_unico|\n",
            "+--------------------+-----------+-----------------+--------+------------+\n",
            "|                [\\N]|         \\N|               \\N|       1|          \\N|\n",
            "|             [Drama]|      Drama|            Drama|       1|       Drama|\n",
            "|             [Drama]|      Drama|            Drama|       1|       Drama|\n",
            "|             [Drama]|      Drama|            Drama|       1|       Drama|\n",
            "|             [Drama]|      Drama|            Drama|       1|       Drama|\n",
            "|[Adventure, Fantasy]|  Adventure|Adventure,Fantasy|       2|   Adventure|\n",
            "|[Adventure, Fantasy]|  Adventure|Adventure,Fantasy|       2|     Fantasy|\n",
            "|             [Drama]|      Drama|            Drama|       1|       Drama|\n",
            "|             [Drama]|      Drama|            Drama|       1|       Drama|\n",
            "|                [\\N]|         \\N|               \\N|       1|          \\N|\n",
            "|                [\\N]|         \\N|               \\N|       1|          \\N|\n",
            "|                [\\N]|         \\N|               \\N|       1|          \\N|\n",
            "|                [\\N]|         \\N|               \\N|       1|          \\N|\n",
            "|                [\\N]|         \\N|               \\N|       1|          \\N|\n",
            "|                [\\N]|         \\N|               \\N|       1|          \\N|\n",
            "|                [\\N]|         \\N|               \\N|       1|          \\N|\n",
            "|                [\\N]|         \\N|               \\N|       1|          \\N|\n",
            "|                [\\N]|         \\N|               \\N|       1|          \\N|\n",
            "|                [\\N]|         \\N|               \\N|       1|          \\N|\n",
            "|                [\\N]|         \\N|               \\N|       1|          \\N|\n",
            "+--------------------+-----------+-----------------+--------+------------+\n",
            "only showing top 20 rows\n",
            "\n"
          ]
        }
      ],
      "source": [
        "(\n",
        "    df_titles\n",
        "    .filter('titleType = \"movie\"')\n",
        "    .withColumn('genres_array',f.split(f.col('genres'), ','))\n",
        "    .withColumn('first_genre',f.col('genres_array')[0])\n",
        "    .withColumn('genres_string',f.array_join(f.col('genres_array'),','))\n",
        "    .withColumn('n_genres',f.size(f.col('genres_array')))\n",
        "    .withColumn('genres_unico',f.explode(f.col('genres_array')))\n",
        "    .select('genres_array','first_genre','genres_string','n_genres','genres_unico')\n",
        "    .show(20)\n",
        ")"
      ]
    },
    {
      "cell_type": "markdown",
      "metadata": {
        "id": "0FzOUh7ajtxM"
      },
      "source": [
        "**Nulos**\n",
        "\n",
        "  - `drop()` : retira do DataFrame as linhas com nulos, com base no que foi passado para o argumento how\n",
        "    - any (default) : retira todas as linhas com pelo menos um valor nulo nas colunas\n",
        "    - all : somente retira as linhas com todos os valores nulos nas colunas\n",
        "  - `fill()` : preenche os valores nulos no DataFrame com uma constante, passada pelo usuário\n",
        "  - `replace()` : substitui o valor (não somente os valores nulos) por algum outro passado pelo usuário  "
      ]
    },
    {
      "cell_type": "code",
      "execution_count": null,
      "metadata": {
        "colab": {
          "base_uri": "https://localhost:8080/"
        },
        "id": "_3isoJiKkfnw",
        "outputId": "63793b35-4430-4977-a568-10ab89f69f8e"
      },
      "outputs": [
        {
          "output_type": "stream",
          "name": "stdout",
          "text": [
            "+---------+---------+--------------------+--------------------+-------+---------+-------+--------------+--------------------+-------------+\n",
            "|   tconst|titleType|        primaryTitle|       originalTitle|isAdult|startYear|endYear|runtimeMinutes|              genres|coalesce_test|\n",
            "+---------+---------+--------------------+--------------------+-------+---------+-------+--------------+--------------------+-------------+\n",
            "|tt0000001|    short|          Carmencita|          Carmencita|      0|     1894|   null|             1|   Documentary,Short|         1894|\n",
            "|tt0000002|    short|Le clown et ses c...|Le clown et ses c...|      0|     1892|   null|             5|     Animation,Short|         1892|\n",
            "|tt0000003|    short|      Pauvre Pierrot|      Pauvre Pierrot|      0|     1892|   null|             4|Animation,Comedy,...|         1892|\n",
            "|tt0000004|    short|         Un bon bock|         Un bon bock|      0|     1892|   null|            12|     Animation,Short|         1892|\n",
            "|tt0000005|    short|    Blacksmith Scene|    Blacksmith Scene|      0|     1893|   null|             1|        Comedy,Short|         1893|\n",
            "+---------+---------+--------------------+--------------------+-------+---------+-------+--------------+--------------------+-------------+\n",
            "only showing top 5 rows\n",
            "\n"
          ]
        }
      ],
      "source": [
        "(\n",
        "    df_titles\n",
        "    .replace('\\\\N', None, subset=['startYear','endYear'])\n",
        "    .filter('endYear is null and startYear is not null')\n",
        "    #.na.drop(subset=['startYear'])#'0',subset=['endYear'])\n",
        "    .withColumn('coalesce_test',f.coalesce(f.col('startYear'),\n",
        "                                           f.col('startYear'),\n",
        "                                           f.lit('Sem ano')))\n",
        "    .show(5)\n",
        ")"
      ]
    },
    {
      "cell_type": "markdown",
      "metadata": {
        "id": "qBKzWEZOpha_"
      },
      "source": [
        "# **Aula 4.1 -** Manipulando dados com Spark - Parte II"
      ]
    },
    {
      "cell_type": "markdown",
      "metadata": {
        "id": "j4zuZl2hjovS"
      },
      "source": [
        "### **Agrupamento e Agregação**\n",
        "\n",
        "O agurpamento dos DataFrames é feito por meio da função **groupby()**. Essa função deve ser sucedida pela função agregação `agg()`, de pivotação `pivot()` ou `count()`. A função **agg()** aplica uma função de agregação no DataFrame. Se\n",
        "precedida por `groupby()`, realiza a agregação dentro dos grupos estabelecidos.\n",
        "Algumas das funções de agregação mais utilizadas são : \n",
        "\n",
        "- `sum()` : retorna a soma dos valores da coluna;\n",
        "- `sumDistinct()` : retorna a soma dos valores distintos da coluna;\n",
        "- `max() / min()` : retorna o mínimo e o máximo da coluna, respectivamente.\n",
        "- `avg() / mean()`: retorna a média dos valores da coluna;\n",
        "- `percentile_approx()` : retorna o percentil da coluna, com aproximação. Para\n",
        "trazer a mediana exata, usar : `percentile_approx(f.col(column),.5,lit(10000000))` \n",
        "- `stddev()` : retorna o desvio padrão dos valores da coluna\n",
        "- `count()` : retorna a contagem de linhas\n",
        "- `countDistinct` : retorna a contagem de valores distintos da coluna\n",
        "- `first() / last()` : retorna o primeiro e o último valor da coluna no agrupamento, respectivamente. Interessante de ser utilizada em conjunto com o agrupamento `ignoreNulls=True`.\n",
        "- `collect_list()`: retorna os valores do agrupamento em uma lista, com duplicações.\n",
        "- `collect_set()` : retorna os valores do agrupamento em uma lista, sem duplicações (desordenado)\n",
        "\n",
        "**obs:** O spark ignora os valores nulos para calcular as agregações, com exceção da função `count()`.\n",
        "*texto em itálico*\n",
        "---\n",
        "\n",
        "A função **pivot** é utilizada para passar valores de uma linha para as colunas, realizando uma agregação. Deve ser sucedido por uma função de agregação utilizando `agg()`. Pode utilizar qualquer umas das funções de agregação anteriores. "
      ]
    },
    {
      "cell_type": "code",
      "execution_count": null,
      "metadata": {
        "colab": {
          "base_uri": "https://localhost:8080/"
        },
        "id": "F_TS5tlsnRGA",
        "outputId": "d8907c3a-af27-4d7d-bfbf-f6dd711b6dc1"
      },
      "outputs": [
        {
          "output_type": "stream",
          "name": "stdout",
          "text": [
            "+---------+---------+--------------------+--------------------+-------+---------+-------+--------------+--------------------+\n",
            "|   tconst|titleType|        primaryTitle|       originalTitle|isAdult|startYear|endYear|runtimeMinutes|              genres|\n",
            "+---------+---------+--------------------+--------------------+-------+---------+-------+--------------+--------------------+\n",
            "|tt0000001|    short|          Carmencita|          Carmencita|      0|     1894|     \\N|             1|   Documentary,Short|\n",
            "|tt0000002|    short|Le clown et ses c...|Le clown et ses c...|      0|     1892|     \\N|             5|     Animation,Short|\n",
            "|tt0000003|    short|      Pauvre Pierrot|      Pauvre Pierrot|      0|     1892|     \\N|             4|Animation,Comedy,...|\n",
            "|tt0000004|    short|         Un bon bock|         Un bon bock|      0|     1892|     \\N|            12|     Animation,Short|\n",
            "|tt0000005|    short|    Blacksmith Scene|    Blacksmith Scene|      0|     1893|     \\N|             1|        Comedy,Short|\n",
            "|tt0000006|    short|   Chinese Opium Den|   Chinese Opium Den|      0|     1894|     \\N|             1|               Short|\n",
            "|tt0000007|    short|Corbett and Court...|Corbett and Court...|      0|     1894|     \\N|             1|         Short,Sport|\n",
            "|tt0000008|    short|Edison Kinetoscop...|Edison Kinetoscop...|      0|     1894|     \\N|             1|   Documentary,Short|\n",
            "|tt0000009|    short|          Miss Jerry|          Miss Jerry|      0|     1894|     \\N|            40|       Romance,Short|\n",
            "|tt0000010|    short| Leaving the Factory|La sortie de l'us...|      0|     1895|     \\N|             1|   Documentary,Short|\n",
            "|tt0000011|    short|Akrobatisches Pot...|Akrobatisches Pot...|      0|     1895|     \\N|             1|   Documentary,Short|\n",
            "|tt0000012|    short|The Arrival of a ...|L'arrivée d'un tr...|      0|     1896|     \\N|             1|   Documentary,Short|\n",
            "|tt0000013|    short|The Photographica...|Le débarquement d...|      0|     1895|     \\N|             1|   Documentary,Short|\n",
            "|tt0000014|    short| The Waterer Watered|   L'arroseur arrosé|      0|     1895|     \\N|             1|        Comedy,Short|\n",
            "|tt0000015|    short| Autour d'une cabine| Autour d'une cabine|      0|     1894|     \\N|             2|     Animation,Short|\n",
            "|tt0000016|    short|Boat Leaving the ...|Barque sortant du...|      0|     1895|     \\N|             1|   Documentary,Short|\n",
            "|tt0000017|    short|Italienischer Bau...|Italienischer Bau...|      0|     1895|     \\N|             1|   Documentary,Short|\n",
            "|tt0000018|    short|Das boxende Känguruh|Das boxende Känguruh|      0|     1895|     \\N|             1|               Short|\n",
            "|tt0000019|    short|    The Clown Barber|    The Clown Barber|      0|     1898|     \\N|            \\N|        Comedy,Short|\n",
            "|tt0000020|    short|      The Derby 1895|      The Derby 1895|      0|     1895|     \\N|             1|Documentary,Short...|\n",
            "+---------+---------+--------------------+--------------------+-------+---------+-------+--------------+--------------------+\n",
            "only showing top 20 rows\n",
            "\n"
          ]
        }
      ],
      "source": [
        "df_titles.show()"
      ]
    },
    {
      "cell_type": "code",
      "execution_count": null,
      "metadata": {
        "id": "vdQwufPWjnMn"
      },
      "outputs": [],
      "source": [
        "df_titles_subset = (\n",
        "    df_titles\n",
        "    .filter(\"cast(startYear as int) >= 2000\")\n",
        "    .sample(fraction = 0.5)\n",
        "    .withColumn('genre', f.split('genres',',').getItem(0))\n",
        ") "
      ]
    },
    {
      "cell_type": "code",
      "execution_count": null,
      "metadata": {
        "colab": {
          "base_uri": "https://localhost:8080/"
        },
        "id": "0yRI4w7VqYf2",
        "outputId": "b36ccb78-caa9-4f7a-e4ab-a88219535b38"
      },
      "outputs": [
        {
          "output_type": "stream",
          "name": "stdout",
          "text": [
            "+---------+---------+--------------------+--------------------+-------+---------+-------+--------------+--------------------+-----------+\n",
            "|   tconst|titleType|        primaryTitle|       originalTitle|isAdult|startYear|endYear|runtimeMinutes|              genres|      genre|\n",
            "+---------+---------+--------------------+--------------------+-------+---------+-------+--------------+--------------------+-----------+\n",
            "|tt0015414|    movie|La tierra de los ...|La tierra de los ...|      0|     2000|     \\N|            60|                  \\N|         \\N|\n",
            "|tt0035423|    movie|      Kate & Leopold|      Kate & Leopold|      0|     2001|     \\N|           118|Comedy,Fantasy,Ro...|     Comedy|\n",
            "|tt0036177|    movie|  Muhomatsu no issho|  Muhomatsu no issho|      0|     2008|     \\N|           100|    Action,Adventure|     Action|\n",
            "|tt0056840|    short|            Aufsätze|            Aufsätze|      0|     2021|     \\N|            10|               Short|      Short|\n",
            "|tt0062336|    movie|The Tango of the ...|El Tango del Viud...|      0|     2020|     \\N|            70|               Drama|      Drama|\n",
            "|tt0065047|    short|The Sun's Gonna S...|The Sun's Gonna S...|      0|     2014|     \\N|            10|Documentary,Music...|Documentary|\n",
            "|tt0065392|    movie|  Bucharest Memories|Amintiri bucurestene|      0|     2020|     \\N|            \\N|         Documentary|Documentary|\n",
            "|tt0079644|    movie|       November 1828|       November 1828|      0|     2001|     \\N|           140|           Drama,War|      Drama|\n",
            "|tt0089435|    short|               Kokoa|               Kokoa|      0|     2019|     \\N|            13|     Animation,Short|  Animation|\n",
            "|tt0100275|    movie|The Wandering Soa...|La telenovela err...|      0|     2017|     \\N|            80|Comedy,Drama,Fantasy|     Comedy|\n",
            "|tt0104988|    movie|  Neues in Wittstock|  Neues in Wittstock|      0|     2021|     \\N|           100|         Documentary|Documentary|\n",
            "|tt0108270|    short|    Symphony 92.4 FM|    Symphony 92.4 FM|      0|     2013|     \\N|            \\N|               Short|      Short|\n",
            "|tt0108549|    movie|West from North G...|West from North G...|      0|     2004|     \\N|            96|      Comedy,Mystery|     Comedy|\n",
            "|tt0110476|    movie|  Master i Margarita|  Master i Margarita|      0|     2006|     \\N|           125|       Drama,Fantasy|      Drama|\n",
            "|tt0111056| tvSeries|  Gensomaden Saiyuki|  Gensomaden Saiyuki|      0|     2000|   2001|            23|Action,Adventure,...|     Action|\n",
            "|tt0111696|    short|   Which Way Is East|   Which Way Is East|      0|     2003|     \\N|            33|   Documentary,Short|Documentary|\n",
            "|tt0112502|    movie|             Bigfoot|             Bigfoot|      0|     2017|     \\N|            \\N|     Horror,Thriller|     Horror|\n",
            "|tt0113506|    movie|Justifiable Homicide|Justifiable Homicide|      0|     2002|     \\N|            85|         Documentary|Documentary|\n",
            "|tt0113735|  tvMovie|         The Magic 7|         The Magic 7|      0|     2009|     \\N|            \\N|Adventure,Animati...|  Adventure|\n",
            "|tt0113946|    short|            Negocios|            Negocios|      0|     2001|     \\N|            17|               Short|      Short|\n",
            "+---------+---------+--------------------+--------------------+-------+---------+-------+--------------+--------------------+-----------+\n",
            "only showing top 20 rows\n",
            "\n"
          ]
        }
      ],
      "source": [
        "df_titles_subset.show()"
      ]
    },
    {
      "cell_type": "code",
      "execution_count": null,
      "metadata": {
        "colab": {
          "base_uri": "https://localhost:8080/"
        },
        "id": "InEug6iqqbJQ",
        "outputId": "7cff7917-9c8b-4067-826a-ba045b79e83d"
      },
      "outputs": [
        {
          "output_type": "stream",
          "name": "stdout",
          "text": [
            "+---------------+\n",
            "|distinct_genres|\n",
            "+---------------+\n",
            "|             28|\n",
            "+---------------+\n",
            "\n"
          ]
        }
      ],
      "source": [
        "(\n",
        "    df_titles_subset\n",
        "    .agg(f.countDistinct('genre').alias('distinct_genres'),)\n",
        "    .show()\n",
        ")"
      ]
    },
    {
      "cell_type": "code",
      "execution_count": null,
      "metadata": {
        "colab": {
          "base_uri": "https://localhost:8080/"
        },
        "id": "mUkAbDgZutbv",
        "outputId": "092193e9-8524-4fed-a053-2948e6a245cb"
      },
      "outputs": [
        {
          "output_type": "stream",
          "name": "stdout",
          "text": [
            "+--------------------+-------------------+------------------+------------------+---------------------+------------------+\n",
            "|total_runtimeMinutes|mean_runtimeMinutes|min_runtimeMinutes|min_runtimeMinutes|median_runtimeMinutes|std_runtimeMinutes|\n",
            "+--------------------+-------------------+------------------+------------------+---------------------+------------------+\n",
            "|            34124331| 40.584440482717525|                 0|             51420|                   26| 87.98492400220432|\n",
            "+--------------------+-------------------+------------------+------------------+---------------------+------------------+\n",
            "\n"
          ]
        }
      ],
      "source": [
        "(\n",
        "    df_titles_subset\n",
        "    .withColumn('runtimeMinutes', f.col('runtimeMinutes').cast('int'))\n",
        "    .agg(f.sum('runtimeMinutes').alias('total_runtimeMinutes'),\n",
        "         f.mean('runtimeMinutes').alias('mean_runtimeMinutes'),\n",
        "         f.min('runtimeMinutes').alias('min_runtimeMinutes'),\n",
        "         f.max('runtimeMinutes').alias('min_runtimeMinutes'),\n",
        "         f.percentile_approx('runtimeMinutes', 0.5, f.lit(100000000)).alias('median_runtimeMinutes'),\n",
        "         f.stddev('runtimeMinutes').alias('std_runtimeMinutes'),\n",
        "        )\n",
        "    .show()\n",
        ")"
      ]
    },
    {
      "cell_type": "code",
      "execution_count": null,
      "metadata": {
        "colab": {
          "base_uri": "https://localhost:8080/",
          "height": 206
        },
        "id": "4Xdy3cp7wycY",
        "outputId": "8ac1841a-bb65-491d-be89-8b596cee074b"
      },
      "outputs": [
        {
          "output_type": "execute_result",
          "data": {
            "text/plain": [
              "  summary      runtimeMinutes\n",
              "0   count              840823\n",
              "1    mean  40.584440482717525\n",
              "2  stddev   87.98492400220432\n",
              "3     min                   0\n",
              "4     max               51420"
            ],
            "text/html": [
              "\n",
              "  <div id=\"df-05349079-555d-48e2-bb8a-f62b13b56fbb\">\n",
              "    <div class=\"colab-df-container\">\n",
              "      <div>\n",
              "<style scoped>\n",
              "    .dataframe tbody tr th:only-of-type {\n",
              "        vertical-align: middle;\n",
              "    }\n",
              "\n",
              "    .dataframe tbody tr th {\n",
              "        vertical-align: top;\n",
              "    }\n",
              "\n",
              "    .dataframe thead th {\n",
              "        text-align: right;\n",
              "    }\n",
              "</style>\n",
              "<table border=\"1\" class=\"dataframe\">\n",
              "  <thead>\n",
              "    <tr style=\"text-align: right;\">\n",
              "      <th></th>\n",
              "      <th>summary</th>\n",
              "      <th>runtimeMinutes</th>\n",
              "    </tr>\n",
              "  </thead>\n",
              "  <tbody>\n",
              "    <tr>\n",
              "      <th>0</th>\n",
              "      <td>count</td>\n",
              "      <td>840823</td>\n",
              "    </tr>\n",
              "    <tr>\n",
              "      <th>1</th>\n",
              "      <td>mean</td>\n",
              "      <td>40.584440482717525</td>\n",
              "    </tr>\n",
              "    <tr>\n",
              "      <th>2</th>\n",
              "      <td>stddev</td>\n",
              "      <td>87.98492400220432</td>\n",
              "    </tr>\n",
              "    <tr>\n",
              "      <th>3</th>\n",
              "      <td>min</td>\n",
              "      <td>0</td>\n",
              "    </tr>\n",
              "    <tr>\n",
              "      <th>4</th>\n",
              "      <td>max</td>\n",
              "      <td>51420</td>\n",
              "    </tr>\n",
              "  </tbody>\n",
              "</table>\n",
              "</div>\n",
              "      <button class=\"colab-df-convert\" onclick=\"convertToInteractive('df-05349079-555d-48e2-bb8a-f62b13b56fbb')\"\n",
              "              title=\"Convert this dataframe to an interactive table.\"\n",
              "              style=\"display:none;\">\n",
              "        \n",
              "  <svg xmlns=\"http://www.w3.org/2000/svg\" height=\"24px\"viewBox=\"0 0 24 24\"\n",
              "       width=\"24px\">\n",
              "    <path d=\"M0 0h24v24H0V0z\" fill=\"none\"/>\n",
              "    <path d=\"M18.56 5.44l.94 2.06.94-2.06 2.06-.94-2.06-.94-.94-2.06-.94 2.06-2.06.94zm-11 1L8.5 8.5l.94-2.06 2.06-.94-2.06-.94L8.5 2.5l-.94 2.06-2.06.94zm10 10l.94 2.06.94-2.06 2.06-.94-2.06-.94-.94-2.06-.94 2.06-2.06.94z\"/><path d=\"M17.41 7.96l-1.37-1.37c-.4-.4-.92-.59-1.43-.59-.52 0-1.04.2-1.43.59L10.3 9.45l-7.72 7.72c-.78.78-.78 2.05 0 2.83L4 21.41c.39.39.9.59 1.41.59.51 0 1.02-.2 1.41-.59l7.78-7.78 2.81-2.81c.8-.78.8-2.07 0-2.86zM5.41 20L4 18.59l7.72-7.72 1.47 1.35L5.41 20z\"/>\n",
              "  </svg>\n",
              "      </button>\n",
              "      \n",
              "  <style>\n",
              "    .colab-df-container {\n",
              "      display:flex;\n",
              "      flex-wrap:wrap;\n",
              "      gap: 12px;\n",
              "    }\n",
              "\n",
              "    .colab-df-convert {\n",
              "      background-color: #E8F0FE;\n",
              "      border: none;\n",
              "      border-radius: 50%;\n",
              "      cursor: pointer;\n",
              "      display: none;\n",
              "      fill: #1967D2;\n",
              "      height: 32px;\n",
              "      padding: 0 0 0 0;\n",
              "      width: 32px;\n",
              "    }\n",
              "\n",
              "    .colab-df-convert:hover {\n",
              "      background-color: #E2EBFA;\n",
              "      box-shadow: 0px 1px 2px rgba(60, 64, 67, 0.3), 0px 1px 3px 1px rgba(60, 64, 67, 0.15);\n",
              "      fill: #174EA6;\n",
              "    }\n",
              "\n",
              "    [theme=dark] .colab-df-convert {\n",
              "      background-color: #3B4455;\n",
              "      fill: #D2E3FC;\n",
              "    }\n",
              "\n",
              "    [theme=dark] .colab-df-convert:hover {\n",
              "      background-color: #434B5C;\n",
              "      box-shadow: 0px 1px 3px 1px rgba(0, 0, 0, 0.15);\n",
              "      filter: drop-shadow(0px 1px 2px rgba(0, 0, 0, 0.3));\n",
              "      fill: #FFFFFF;\n",
              "    }\n",
              "  </style>\n",
              "\n",
              "      <script>\n",
              "        const buttonEl =\n",
              "          document.querySelector('#df-05349079-555d-48e2-bb8a-f62b13b56fbb button.colab-df-convert');\n",
              "        buttonEl.style.display =\n",
              "          google.colab.kernel.accessAllowed ? 'block' : 'none';\n",
              "\n",
              "        async function convertToInteractive(key) {\n",
              "          const element = document.querySelector('#df-05349079-555d-48e2-bb8a-f62b13b56fbb');\n",
              "          const dataTable =\n",
              "            await google.colab.kernel.invokeFunction('convertToInteractive',\n",
              "                                                     [key], {});\n",
              "          if (!dataTable) return;\n",
              "\n",
              "          const docLinkHtml = 'Like what you see? Visit the ' +\n",
              "            '<a target=\"_blank\" href=https://colab.research.google.com/notebooks/data_table.ipynb>data table notebook</a>'\n",
              "            + ' to learn more about interactive tables.';\n",
              "          element.innerHTML = '';\n",
              "          dataTable['output_type'] = 'display_data';\n",
              "          await google.colab.output.renderOutput(dataTable, element);\n",
              "          const docLink = document.createElement('div');\n",
              "          docLink.innerHTML = docLinkHtml;\n",
              "          element.appendChild(docLink);\n",
              "        }\n",
              "      </script>\n",
              "    </div>\n",
              "  </div>\n",
              "  "
            ]
          },
          "metadata": {},
          "execution_count": 76
        }
      ],
      "source": [
        "(\n",
        "  df_titles_subset\n",
        "  .withColumn('runtimeMinutes', f.col('runtimeMinutes').cast('int')).select('runtimeMinutes').describe().toPandas()\n",
        ")"
      ]
    },
    {
      "cell_type": "markdown",
      "metadata": {
        "id": "7oG2Vlvw2kIg"
      },
      "source": [
        "### **Agrupamentos**"
      ]
    },
    {
      "cell_type": "code",
      "execution_count": null,
      "metadata": {
        "colab": {
          "base_uri": "https://localhost:8080/"
        },
        "id": "2xJfK1-C2ivk",
        "outputId": "a574c671-b629-4655-f31e-186afc00927b"
      },
      "outputs": [
        {
          "output_type": "stream",
          "name": "stdout",
          "text": [
            "+---------+---------+--------------------+--------------------+-------+---------+-------+--------------+--------------------+-----------+\n",
            "|   tconst|titleType|        primaryTitle|       originalTitle|isAdult|startYear|endYear|runtimeMinutes|              genres|      genre|\n",
            "+---------+---------+--------------------+--------------------+-------+---------+-------+--------------+--------------------+-----------+\n",
            "|tt0015414|    movie|La tierra de los ...|La tierra de los ...|      0|     2000|     \\N|            60|                  \\N|         \\N|\n",
            "|tt0035423|    movie|      Kate & Leopold|      Kate & Leopold|      0|     2001|     \\N|           118|Comedy,Fantasy,Ro...|     Comedy|\n",
            "|tt0036177|    movie|  Muhomatsu no issho|  Muhomatsu no issho|      0|     2008|     \\N|           100|    Action,Adventure|     Action|\n",
            "|tt0056840|    short|            Aufsätze|            Aufsätze|      0|     2021|     \\N|            10|               Short|      Short|\n",
            "|tt0062336|    movie|The Tango of the ...|El Tango del Viud...|      0|     2020|     \\N|            70|               Drama|      Drama|\n",
            "|tt0065047|    short|The Sun's Gonna S...|The Sun's Gonna S...|      0|     2014|     \\N|            10|Documentary,Music...|Documentary|\n",
            "|tt0065392|    movie|  Bucharest Memories|Amintiri bucurestene|      0|     2020|     \\N|            \\N|         Documentary|Documentary|\n",
            "|tt0079644|    movie|       November 1828|       November 1828|      0|     2001|     \\N|           140|           Drama,War|      Drama|\n",
            "|tt0089435|    short|               Kokoa|               Kokoa|      0|     2019|     \\N|            13|     Animation,Short|  Animation|\n",
            "|tt0100275|    movie|The Wandering Soa...|La telenovela err...|      0|     2017|     \\N|            80|Comedy,Drama,Fantasy|     Comedy|\n",
            "|tt0104988|    movie|  Neues in Wittstock|  Neues in Wittstock|      0|     2021|     \\N|           100|         Documentary|Documentary|\n",
            "|tt0108270|    short|    Symphony 92.4 FM|    Symphony 92.4 FM|      0|     2013|     \\N|            \\N|               Short|      Short|\n",
            "|tt0108549|    movie|West from North G...|West from North G...|      0|     2004|     \\N|            96|      Comedy,Mystery|     Comedy|\n",
            "|tt0110476|    movie|  Master i Margarita|  Master i Margarita|      0|     2006|     \\N|           125|       Drama,Fantasy|      Drama|\n",
            "|tt0111056| tvSeries|  Gensomaden Saiyuki|  Gensomaden Saiyuki|      0|     2000|   2001|            23|Action,Adventure,...|     Action|\n",
            "|tt0111696|    short|   Which Way Is East|   Which Way Is East|      0|     2003|     \\N|            33|   Documentary,Short|Documentary|\n",
            "|tt0112502|    movie|             Bigfoot|             Bigfoot|      0|     2017|     \\N|            \\N|     Horror,Thriller|     Horror|\n",
            "|tt0113506|    movie|Justifiable Homicide|Justifiable Homicide|      0|     2002|     \\N|            85|         Documentary|Documentary|\n",
            "|tt0113735|  tvMovie|         The Magic 7|         The Magic 7|      0|     2009|     \\N|            \\N|Adventure,Animati...|  Adventure|\n",
            "|tt0113946|    short|            Negocios|            Negocios|      0|     2001|     \\N|            17|               Short|      Short|\n",
            "+---------+---------+--------------------+--------------------+-------+---------+-------+--------------+--------------------+-----------+\n",
            "only showing top 20 rows\n",
            "\n"
          ]
        }
      ],
      "source": [
        "df_titles_subset.show()"
      ]
    },
    {
      "cell_type": "code",
      "execution_count": null,
      "metadata": {
        "colab": {
          "base_uri": "https://localhost:8080/"
        },
        "id": "rw8RCCwT2xh1",
        "outputId": "98a33a97-0405-4fe3-d3a0-88fd5671f33e"
      },
      "outputs": [
        {
          "output_type": "stream",
          "name": "stdout",
          "text": [
            "+-----------+------+\n",
            "|      genre| count|\n",
            "+-----------+------+\n",
            "|     Comedy|483222|\n",
            "|      Drama|461251|\n",
            "|Documentary|242567|\n",
            "|         \\N|182687|\n",
            "|  Talk-Show|172527|\n",
            "|       News|170164|\n",
            "| Reality-TV|121215|\n",
            "|     Action|113018|\n",
            "|      Adult|110649|\n",
            "|  Animation| 86924|\n",
            "|      Music| 76637|\n",
            "|      Crime| 75005|\n",
            "|      Short| 72493|\n",
            "|  Adventure| 60987|\n",
            "|     Family| 59619|\n",
            "|  Game-Show| 59381|\n",
            "|      Sport| 39828|\n",
            "|  Biography| 30268|\n",
            "|     Horror| 30021|\n",
            "|    Romance| 28419|\n",
            "+-----------+------+\n",
            "only showing top 20 rows\n",
            "\n"
          ]
        }
      ],
      "source": [
        "(\n",
        "    df_titles_subset\n",
        "    .groupby('genre')\n",
        "    .count()\n",
        "    .orderBy(f.col('count').desc())\n",
        "    .show()\n",
        ")"
      ]
    },
    {
      "cell_type": "code",
      "execution_count": null,
      "metadata": {
        "colab": {
          "base_uri": "https://localhost:8080/"
        },
        "id": "m5vI1rG_3Nxt",
        "outputId": "a99fdf44-4ebd-49f1-c805-23cc142561f3"
      },
      "outputs": [
        {
          "output_type": "stream",
          "name": "stdout",
          "text": [
            "+-----------+-------------------+\n",
            "|      genre|mean_runtimeMinutes|\n",
            "+-----------+-------------------+\n",
            "|      Adult|  96.38374065115245|\n",
            "|        War|  82.54285714285714|\n",
            "|      Sport|  82.26542239685658|\n",
            "|   Thriller|  77.75132802124834|\n",
            "|    Western|  71.73099415204679|\n",
            "|       News|  55.72532383419689|\n",
            "|         \\N| 53.155585520174256|\n",
            "|      Crime|  49.59258324128136|\n",
            "|  Biography|  49.48170964054363|\n",
            "|  Talk-Show|  48.54595962713748|\n",
            "|Documentary|  47.87597944822568|\n",
            "|    Musical|  47.74240583232078|\n",
            "|  Game-Show|  47.26210941450096|\n",
            "|    Romance|  44.65932322876278|\n",
            "|     Action|  43.02412671578986|\n",
            "|    History|  42.76622825625795|\n",
            "|     Family|  40.60426255753452|\n",
            "|      Drama| 39.629701517105154|\n",
            "|    Mystery| 37.997517994539585|\n",
            "|  Adventure| 37.444982312418546|\n",
            "+-----------+-------------------+\n",
            "only showing top 20 rows\n",
            "\n"
          ]
        }
      ],
      "source": [
        "(\n",
        "    df_titles_subset\n",
        "    .groupby('genre')\n",
        "    .agg(f.mean('runtimeMinutes').alias('mean_runtimeMinutes'),)\n",
        "    .orderBy(f.col('mean_runtimeMinutes').desc())\n",
        "    .show()\n",
        ")"
      ]
    },
    {
      "cell_type": "code",
      "execution_count": null,
      "metadata": {
        "colab": {
          "base_uri": "https://localhost:8080/"
        },
        "id": "9LbKD00J30Qi",
        "outputId": "5953e912-a735-43ed-acc1-6cce3f2c20fc"
      },
      "outputs": [
        {
          "output_type": "stream",
          "name": "stdout",
          "text": [
            "+-----------+---------+-------------------+\n",
            "|      genre|startYear|mean_runtimeMinutes|\n",
            "+-----------+---------+-------------------+\n",
            "|        War|     2000|              113.5|\n",
            "|    Western|     2000|               95.0|\n",
            "|      Adult|     2000|  94.67576075550892|\n",
            "|   Thriller|     2000|   90.8051948051948|\n",
            "|      Sport|     2000|  88.73684210526316|\n",
            "|    Musical|     2000|  81.44186046511628|\n",
            "|    History|     2000|  76.92307692307692|\n",
            "|  Biography|     2000|  72.04102564102564|\n",
            "|  Adventure|     2000|  70.90107526881721|\n",
            "|    Mystery|     2000|  64.41379310344827|\n",
            "|       News|     2000|  63.87619047619047|\n",
            "|      Crime|     2000|  63.87202925045704|\n",
            "|     Horror|     2000|  63.62809917355372|\n",
            "|         \\N|     2000|  57.84417549167927|\n",
            "|      Drama|     2000|   53.5015197568389|\n",
            "|    Romance|     2000|              52.04|\n",
            "|Documentary|     2000| 51.834316037735846|\n",
            "|     Comedy|     2000|               50.8|\n",
            "|     Action|     2000|    49.921826625387|\n",
            "|  Talk-Show|     2000| 49.171052631578945|\n",
            "+-----------+---------+-------------------+\n",
            "only showing top 20 rows\n",
            "\n"
          ]
        }
      ],
      "source": [
        "(\n",
        "    df_titles_subset\n",
        "    .groupby('genre','startYear')\n",
        "    .agg(f.mean('runtimeMinutes').alias('mean_runtimeMinutes'),)\n",
        "    .orderBy('startYear',f.col('mean_runtimeMinutes').desc())\n",
        "    .show()\n",
        ")"
      ]
    },
    {
      "cell_type": "code",
      "execution_count": null,
      "metadata": {
        "colab": {
          "base_uri": "https://localhost:8080/"
        },
        "id": "bRNb8PPa4N6H",
        "outputId": "33b898ed-2cbe-46af-a56a-55afa4e0fce3"
      },
      "outputs": [
        {
          "output_type": "stream",
          "name": "stdout",
          "text": [
            "+-----------+---------+-------------------+\n",
            "|      genre|startYear|mean_runtimeMinutes|\n",
            "+-----------+---------+-------------------+\n",
            "|      Sport|     2021|  108.6083650190114|\n",
            "|    Western|     2021|               90.3|\n",
            "|   Thriller|     2021|   88.7081081081081|\n",
            "|        War|     2021|  74.33333333333333|\n",
            "|  Biography|     2021|  73.66771159874608|\n",
            "|      Adult|     2021|  64.97372488408037|\n",
            "|         \\N|     2021|  64.70121381886088|\n",
            "|       News|     2021|  62.99842271293375|\n",
            "|  Game-Show|     2021| 53.718333333333334|\n",
            "|     Action|     2021|  52.32767700409596|\n",
            "|  Adventure|     2021|   51.4042904290429|\n",
            "|      Crime|     2021| 49.656042496679945|\n",
            "| Reality-TV|     2021|   48.9959100204499|\n",
            "|    History|     2021|  47.26373626373626|\n",
            "|Documentary|     2021| 45.165052631578945|\n",
            "|    Mystery|     2021| 43.920731707317074|\n",
            "|    Romance|     2021| 43.464454976303315|\n",
            "|  Talk-Show|     2021| 42.887052341597794|\n",
            "|      Drama|     2021| 41.683746246246244|\n",
            "|     Family|     2021| 41.262443438914026|\n",
            "+-----------+---------+-------------------+\n",
            "only showing top 20 rows\n",
            "\n"
          ]
        }
      ],
      "source": [
        "(\n",
        "    df_titles_subset\n",
        "    .groupby('genre','startYear')\n",
        "    .agg(f.mean('runtimeMinutes').alias('mean_runtimeMinutes'),)\n",
        "    .orderBy(f.col('mean_runtimeMinutes').desc())\n",
        "    .filter('startYear = 2021')\n",
        "    .show()\n",
        ")"
      ]
    },
    {
      "cell_type": "code",
      "execution_count": null,
      "metadata": {
        "colab": {
          "base_uri": "https://localhost:8080/"
        },
        "id": "xHf781mI42t2",
        "outputId": "9f59f1e6-7da8-45c8-85f7-6429eb6e2b7b"
      },
      "outputs": [
        {
          "output_type": "stream",
          "name": "stdout",
          "text": [
            "+-----------+--------------------+\n",
            "|      genre|     title_type_list|\n",
            "+-----------+--------------------+\n",
            "|     Action|[movie, tvSeries,...|\n",
            "|      Adult|[video, movie, vi...|\n",
            "|  Adventure|[tvMovie, movie, ...|\n",
            "|  Animation|[short, short, sh...|\n",
            "|  Biography|[movie, movie, mo...|\n",
            "|     Comedy|[movie, movie, mo...|\n",
            "|      Crime|[movie, movie, mo...|\n",
            "|Documentary|[short, movie, mo...|\n",
            "|      Drama|[movie, movie, mo...|\n",
            "|     Family|[movie, movie, tv...|\n",
            "|    Fantasy|[movie, movie, vi...|\n",
            "|  Game-Show|[tvSeries, tvSeri...|\n",
            "|    History|[movie, tvSeries,...|\n",
            "|     Horror|[movie, movie, mo...|\n",
            "|      Music|[tvSeries, video,...|\n",
            "|    Musical|[movie, video, tv...|\n",
            "|    Mystery|[movie, movie, mo...|\n",
            "|       News|[tvSeries, tvSeri...|\n",
            "| Reality-TV|[tvSeries, tvSpec...|\n",
            "|    Romance|[movie, movie, mo...|\n",
            "+-----------+--------------------+\n",
            "only showing top 20 rows\n",
            "\n"
          ]
        }
      ],
      "source": [
        "(\n",
        "    df_titles_subset\n",
        "    .groupby('genre')\n",
        "    .agg(f.collect_list(f.col('titleType')).alias('title_type_list'))\n",
        "    .orderBy('genre')\n",
        "    .show()\n",
        ")"
      ]
    },
    {
      "cell_type": "code",
      "execution_count": null,
      "metadata": {
        "colab": {
          "base_uri": "https://localhost:8080/"
        },
        "id": "ldIVyb9U5sjd",
        "outputId": "9fc9812b-f43a-4877-d5f4-4ebb3b1dda66"
      },
      "outputs": [
        {
          "output_type": "stream",
          "name": "stdout",
          "text": [
            "+-----------+--------------------+------+------+\n",
            "|      genre|     title_type_list| count|     n|\n",
            "+-----------+--------------------+------+------+\n",
            "|     Action|[movie, tvSeries,...|113018|113018|\n",
            "|      Adult|[video, movie, vi...|110649|110649|\n",
            "|  Adventure|[tvMovie, movie, ...| 60987| 60987|\n",
            "|  Animation|[short, short, sh...| 86924| 86924|\n",
            "|  Biography|[movie, movie, mo...| 30268| 30268|\n",
            "|     Comedy|[movie, movie, mo...|483222|483222|\n",
            "|      Crime|[movie, movie, mo...| 75005| 75005|\n",
            "|Documentary|[short, movie, mo...|242567|242567|\n",
            "|      Drama|[movie, movie, mo...|461251|461251|\n",
            "|     Family|[movie, movie, tv...| 59619| 59619|\n",
            "|    Fantasy|[movie, movie, vi...| 14081| 14081|\n",
            "|  Game-Show|[tvSeries, tvSeri...| 59381| 59381|\n",
            "|    History|[movie, tvSeries,...|  9690|  9690|\n",
            "|     Horror|[movie, movie, mo...| 30021| 30021|\n",
            "|      Music|[tvSeries, video,...| 76637| 76637|\n",
            "|    Musical|[movie, video, tv...|  5120|  5120|\n",
            "|    Mystery|[movie, movie, mo...|  8573|  8573|\n",
            "|       News|[tvSeries, tvSeri...|170164|170164|\n",
            "| Reality-TV|[tvSeries, tvSpec...|121215|121215|\n",
            "|    Romance|[movie, movie, mo...| 28419| 28419|\n",
            "+-----------+--------------------+------+------+\n",
            "only showing top 20 rows\n",
            "\n"
          ]
        }
      ],
      "source": [
        "(\n",
        "    df_titles_subset\n",
        "    .groupby('genre')\n",
        "    .agg(f.collect_list(f.col('titleType')).alias('title_type_list'),\n",
        "         f.count(f.lit(1)).alias('count')\n",
        "         )\n",
        "    .withColumn('n',f.size(f.col('title_type_list')))\n",
        "    .orderBy('genre')\n",
        "    .show()\n",
        ")"
      ]
    },
    {
      "cell_type": "code",
      "execution_count": null,
      "metadata": {
        "colab": {
          "base_uri": "https://localhost:8080/"
        },
        "id": "_6W2tMud6uTl",
        "outputId": "baf99e23-c9ff-4c5d-a9f7-360987da2062"
      },
      "outputs": [
        {
          "output_type": "stream",
          "name": "stdout",
          "text": [
            "+-----------+--------------------+----------+---+\n",
            "|      genre|     title_type_list|n_distinct|  n|\n",
            "+-----------+--------------------+----------+---+\n",
            "|     Action|[tvSpecial, video...|        10| 10|\n",
            "|      Adult|[tvSpecial, video...|        10| 10|\n",
            "|  Adventure|[tvSpecial, video...|        10| 10|\n",
            "|  Animation|[tvSpecial, video...|        10| 10|\n",
            "|  Biography|[tvSpecial, video...|        10| 10|\n",
            "|     Comedy|[tvSpecial, video...|        10| 10|\n",
            "|      Crime|[tvSpecial, video...|        10| 10|\n",
            "|Documentary|[tvSpecial, video...|        10| 10|\n",
            "|      Drama|[tvSpecial, video...|        10| 10|\n",
            "|     Family|[tvSpecial, video...|        10| 10|\n",
            "|    Fantasy|[tvSpecial, video...|        10| 10|\n",
            "|  Game-Show|[tvSpecial, video...|         9|  9|\n",
            "|    History|[tvSpecial, video...|        10| 10|\n",
            "|     Horror|[tvSpecial, video...|        10| 10|\n",
            "|      Music|[tvSpecial, video...|        10| 10|\n",
            "|    Musical|[tvSpecial, video...|        10| 10|\n",
            "|    Mystery|[tvSpecial, video...|        10| 10|\n",
            "|       News|[tvSpecial, video...|        10| 10|\n",
            "| Reality-TV|[tvSpecial, video...|        10| 10|\n",
            "|    Romance|[tvSpecial, video...|        10| 10|\n",
            "+-----------+--------------------+----------+---+\n",
            "only showing top 20 rows\n",
            "\n"
          ]
        }
      ],
      "source": [
        "(\n",
        "    df_titles_subset\n",
        "    .groupby('genre')\n",
        "    .agg(f.collect_set(f.col('titleType')).alias('title_type_list'),\n",
        "         f.countDistinct(f.col('titleType')).alias('n_distinct')\n",
        "         )\n",
        "    .withColumn('n',f.size(f.col('title_type_list')))\n",
        "    .orderBy('genre')\n",
        "    .show()\n",
        ")"
      ]
    },
    {
      "cell_type": "code",
      "execution_count": null,
      "metadata": {
        "colab": {
          "base_uri": "https://localhost:8080/"
        },
        "id": "GAxLhhKo7lit",
        "outputId": "718329d5-c0ad-4e21-9ea7-9bd1f4e2cbf2"
      },
      "outputs": [
        {
          "output_type": "stream",
          "name": "stdout",
          "text": [
            "+-----+------------+\n",
            "|genre|tipos_filmes|\n",
            "+-----+------------+\n",
            "|Crime|       movie|\n",
            "|Crime|       movie|\n",
            "|Crime|       movie|\n",
            "|Crime|       movie|\n",
            "|Crime|       movie|\n",
            "|Crime|       movie|\n",
            "|Crime|       movie|\n",
            "|Crime|       movie|\n",
            "|Crime|       movie|\n",
            "|Crime|       movie|\n",
            "|Crime|       movie|\n",
            "|Crime|       movie|\n",
            "|Crime|       movie|\n",
            "|Crime|       movie|\n",
            "|Crime|       movie|\n",
            "|Crime|       movie|\n",
            "|Crime|       movie|\n",
            "|Crime|       movie|\n",
            "|Crime|       movie|\n",
            "|Crime|       movie|\n",
            "+-----+------------+\n",
            "only showing top 20 rows\n",
            "\n"
          ]
        }
      ],
      "source": [
        "(\n",
        "    df_titles_subset\n",
        "    .groupby('genre')\n",
        "    .agg(f.collect_list(f.col('titleType')).alias('title_type_list'),\n",
        "         f.count(f.lit(1)).alias('count')\n",
        "         )\n",
        "    .withColumn('tipos_filmes',f.explode(f.col('title_type_list')))\n",
        "    .select('genre','tipos_filmes')\n",
        "    .show()\n",
        ")"
      ]
    },
    {
      "cell_type": "markdown",
      "metadata": {
        "id": "ZbFb57rF7-XF"
      },
      "source": [
        "### **Pivotação**"
      ]
    },
    {
      "cell_type": "code",
      "execution_count": null,
      "metadata": {
        "colab": {
          "base_uri": "https://localhost:8080/"
        },
        "id": "tSUVEGNO79Cu",
        "outputId": "fba22f53-2fca-454b-bf11-5a2096df3d9d"
      },
      "outputs": [
        {
          "output_type": "stream",
          "name": "stdout",
          "text": [
            "+---------+--------------------+------+-----+---------+---------+---------+------+-----+-----------+-----+------+-------+---------+-------+------+-----+-------+-------+----+----------+-------+------+-----+-----+---------+--------+---+-------+---+\n",
            "|   tconst|        primaryTitle|Action|Adult|Adventure|Animation|Biography|Comedy|Crime|Documentary|Drama|Family|Fantasy|Game-Show|History|Horror|Music|Musical|Mystery|News|Reality-TV|Romance|Sci-Fi|Short|Sport|Talk-Show|Thriller|War|Western| \\N|\n",
            "+---------+--------------------+------+-----+---------+---------+---------+------+-----+-----------+-----+------+-------+---------+-------+------+-----+-------+-------+----+----------+-------+------+-----+-----+---------+--------+---+-------+---+\n",
            "|tt0015414|La tierra de los ...|     0|    0|        0|        0|        0|     0|    0|          0|    0|     0|      0|        0|      0|     0|    0|      0|      0|   0|         0|      0|     0|    0|    0|        0|       0|  0|      0|  1|\n",
            "|tt0035423|      Kate & Leopold|     0|    0|        0|        0|        0|     1|    0|          0|    0|     0|      1|        0|      0|     0|    0|      0|      0|   0|         0|      1|     0|    0|    0|        0|       0|  0|      0|  0|\n",
            "|tt0036177|  Muhomatsu no issho|     1|    0|        1|        0|        0|     0|    0|          0|    0|     0|      0|        0|      0|     0|    0|      0|      0|   0|         0|      0|     0|    0|    0|        0|       0|  0|      0|  0|\n",
            "|tt0056840|            Aufsätze|     0|    0|        0|        0|        0|     0|    0|          0|    0|     0|      0|        0|      0|     0|    0|      0|      0|   0|         0|      0|     0|    1|    0|        0|       0|  0|      0|  0|\n",
            "|tt0062336|The Tango of the ...|     0|    0|        0|        0|        0|     0|    0|          0|    1|     0|      0|        0|      0|     0|    0|      0|      0|   0|         0|      0|     0|    0|    0|        0|       0|  0|      0|  0|\n",
            "|tt0065047|The Sun's Gonna S...|     0|    0|        0|        0|        0|     0|    0|          1|    0|     0|      0|        0|      0|     0|    1|      0|      0|   0|         0|      0|     0|    1|    0|        0|       0|  0|      0|  0|\n",
            "|tt0065392|  Bucharest Memories|     0|    0|        0|        0|        0|     0|    0|          1|    0|     0|      0|        0|      0|     0|    0|      0|      0|   0|         0|      0|     0|    0|    0|        0|       0|  0|      0|  0|\n",
            "|tt0079644|       November 1828|     0|    0|        0|        0|        0|     0|    0|          0|    1|     0|      0|        0|      0|     0|    0|      0|      0|   0|         0|      0|     0|    0|    0|        0|       0|  1|      0|  0|\n",
            "|tt0089435|               Kokoa|     0|    0|        0|        1|        0|     0|    0|          0|    0|     0|      0|        0|      0|     0|    0|      0|      0|   0|         0|      0|     0|    1|    0|        0|       0|  0|      0|  0|\n",
            "|tt0100275|The Wandering Soa...|     0|    0|        0|        0|        0|     1|    0|          0|    1|     0|      1|        0|      0|     0|    0|      0|      0|   0|         0|      0|     0|    0|    0|        0|       0|  0|      0|  0|\n",
            "|tt0104988|  Neues in Wittstock|     0|    0|        0|        0|        0|     0|    0|          1|    0|     0|      0|        0|      0|     0|    0|      0|      0|   0|         0|      0|     0|    0|    0|        0|       0|  0|      0|  0|\n",
            "|tt0108270|    Symphony 92.4 FM|     0|    0|        0|        0|        0|     0|    0|          0|    0|     0|      0|        0|      0|     0|    0|      0|      0|   0|         0|      0|     0|    1|    0|        0|       0|  0|      0|  0|\n",
            "|tt0108549|West from North G...|     0|    0|        0|        0|        0|     1|    0|          0|    0|     0|      0|        0|      0|     0|    0|      0|      1|   0|         0|      0|     0|    0|    0|        0|       0|  0|      0|  0|\n",
            "|tt0110476|  Master i Margarita|     0|    0|        0|        0|        0|     0|    0|          0|    1|     0|      1|        0|      0|     0|    0|      0|      0|   0|         0|      0|     0|    0|    0|        0|       0|  0|      0|  0|\n",
            "|tt0111056|  Gensomaden Saiyuki|     1|    0|        1|        1|        0|     0|    0|          0|    0|     0|      0|        0|      0|     0|    0|      0|      0|   0|         0|      0|     0|    0|    0|        0|       0|  0|      0|  0|\n",
            "|tt0111696|   Which Way Is East|     0|    0|        0|        0|        0|     0|    0|          1|    0|     0|      0|        0|      0|     0|    0|      0|      0|   0|         0|      0|     0|    1|    0|        0|       0|  0|      0|  0|\n",
            "|tt0112502|             Bigfoot|     0|    0|        0|        0|        0|     0|    0|          0|    0|     0|      0|        0|      0|     1|    0|      0|      0|   0|         0|      0|     0|    0|    0|        0|       1|  0|      0|  0|\n",
            "|tt0113506|Justifiable Homicide|     0|    0|        0|        0|        0|     0|    0|          1|    0|     0|      0|        0|      0|     0|    0|      0|      0|   0|         0|      0|     0|    0|    0|        0|       0|  0|      0|  0|\n",
            "|tt0113735|         The Magic 7|     0|    0|        1|        1|        0|     0|    0|          0|    0|     1|      0|        0|      0|     0|    0|      0|      0|   0|         0|      0|     0|    0|    0|        0|       0|  0|      0|  0|\n",
            "|tt0113946|            Negocios|     0|    0|        0|        0|        0|     0|    0|          0|    0|     0|      0|        0|      0|     0|    0|      0|      0|   0|         0|      0|     0|    1|    0|        0|       0|  0|      0|  0|\n",
            "+---------+--------------------+------+-----+---------+---------+---------+------+-----+-----------+-----+------+-------+---------+-------+------+-----+-------+-------+----+----------+-------+------+-----+-----+---------+--------+---+-------+---+\n",
            "only showing top 20 rows\n",
            "\n"
          ]
        }
      ],
      "source": [
        "(\n",
        "    df_titles_subset\n",
        "    .drop('genre')\n",
        "    .withColumn('genres',f.explode(f.split(f.col('genres'), ',')))\n",
        "    .groupby('tconst','primaryTitle')\n",
        "    .pivot('genres')\n",
        "    .count()\n",
        "    .na.fill(0)\n",
        "    .orderBy('tconst')\n",
        "    .show()\n",
        ")"
      ]
    },
    {
      "cell_type": "code",
      "execution_count": null,
      "metadata": {
        "colab": {
          "base_uri": "https://localhost:8080/"
        },
        "id": "3IXOz1Dz9YcU",
        "outputId": "d68b3c2e-6f20-4963-e2e1-71f6e03ba0b6"
      },
      "outputs": [
        {
          "output_type": "stream",
          "name": "stdout",
          "text": [
            "+---------+------------------+------------------+------------------+------------------+------------------+------------------+------------------+------------------+------------------+------------------+------------------+------------------+------------------+------------------+------------------+------------------+------------------+------------------+------------------+------------------+------------------+------------------+------------------+------------------+------------------+------------------+------------------+------------------+\n",
            "|startYear|            Action|             Adult|         Adventure|         Animation|         Biography|            Comedy|             Crime|       Documentary|             Drama|            Family|           Fantasy|         Game-Show|           History|            Horror|             Music|           Musical|           Mystery|              News|        Reality-TV|           Romance|            Sci-Fi|             Short|             Sport|         Talk-Show|          Thriller|               War|           Western|                \\N|\n",
            "+---------+------------------+------------------+------------------+------------------+------------------+------------------+------------------+------------------+------------------+------------------+------------------+------------------+------------------+------------------+------------------+------------------+------------------+------------------+------------------+------------------+------------------+------------------+------------------+------------------+------------------+------------------+------------------+------------------+\n",
            "|     2000|   49.921826625387| 94.53235908141963| 47.57142857142857| 22.75136612021858| 71.83582089552239| 46.25009908838684| 66.53233830845771| 52.20607594936709|55.979651162790695| 40.65755053507729|52.549019607843135| 35.70168067226891| 63.45728643216081| 62.31884057971015| 38.09653092006033| 83.08163265306122|58.074829931972786| 57.05952380952381|40.948905109489054|  53.8849104859335| 42.73300970873787|14.009973149213655| 85.98974358974358| 48.54935622317596| 82.72815533980582| 78.66037735849056|47.529411764705884| 57.84417549167927|\n",
            "|     2001| 50.21998562185478|  96.4963768115942| 47.51928251121076| 23.54844838505383| 71.98979591836735| 43.17867132867133|61.642781875658585| 49.79683257918552|56.510227533900256| 38.08955223880597| 46.35876288659794| 40.24561403508772| 72.68617021276596| 64.86466165413533| 39.85388739946381|           63.4875| 60.88414634146341| 54.11184210526316|43.029761904761905| 51.51200480192077| 42.23270440251572|13.278929765886287|  69.5952380952381| 48.28327645051195| 77.23584905660377|  87.0340909090909| 53.68421052631579| 67.03308823529412|\n",
            "|     2002|50.241332426920465| 99.99073294018534| 38.56596409055425|22.433541017653166| 75.57286432160804|42.469151670951156| 61.90135396518375| 53.10901639344262| 56.00810580204778| 36.80583409298086| 46.01091703056768| 47.71841155234657|  62.4054054054054|  56.9792899408284|  43.9349593495935| 71.74025974025975|61.001941747572815| 52.51700680272109| 41.95811518324607|56.790645879732736| 44.27685950413223|13.671108590870428| 76.06382978723404| 51.47653429602888|  73.2247191011236|  70.7051282051282|              76.0| 63.83948863636363|\n",
            "|     2003|49.204286671131946| 102.3152520740268| 39.88905435591958| 23.33145202668035| 70.32620320855615|44.065026362038665|62.977072310405646| 50.65229020394517| 55.59029649595687| 38.30050083472454| 48.34894613583138|54.366883116883116| 62.88157894736842| 58.30054644808743| 43.28722157092614| 54.91794871794872|58.327556325823224|59.152671755725194| 43.37222222222222| 53.72321981424149|41.955631399317404|13.674904030710172| 77.77727272727273|55.174089068825914| 72.52278820375335| 74.36781609195403|             54.75| 63.41203703703704|\n",
            "|     2004| 48.92627267407841|106.15301724137932|38.474137931034484| 22.14771048744461| 62.31939163498099| 42.28462902000506|61.238434163701065|  55.4590481460985|54.275896022055925|  39.4641975308642| 40.64336917562724|45.943521594684384| 70.70411985018727|55.562396006655575| 50.74732750242954|  60.1865671641791|       60.49609375| 46.91005291005291| 42.86570247933884| 52.98867421718854| 39.39941690962099|13.818046511627907|  75.6148409893993| 53.65993265993266| 75.73755656108597| 74.69026548672566|            51.625| 67.56904761904762|\n",
            "|     2005| 48.12094395280236|105.97445449707291| 35.46196319018405| 22.65779778960295|  66.5050505050505| 40.23986120147473| 59.97865353037767| 52.56055363321799| 51.12321196358908|34.591893780573024|35.347297297297295| 49.11142857142857| 74.50145772594752| 54.35650623885918|  50.8235294117647|              62.0| 56.61822985468957|45.455813953488374|42.575980392156865| 50.72300469483568|36.142857142857146|13.468551461245236| 67.16332378223495| 54.44662921348315| 62.50253807106599| 65.06802721088435|           51.1875| 70.20044052863436|\n",
            "|     2006|              44.0|106.76130952380953|32.742415569547795|22.089071599862965|55.229729729729726| 37.84036488027366| 56.19198149575944| 50.39159739384408| 50.48421697824088| 32.57142857142857| 30.36780383795309| 49.99403578528827| 52.55776892430279| 51.08430609597925|45.100909842845326| 59.39664804469274| 57.30723606168446|43.822714681440445| 39.11810261374637| 52.29887983706721|            34.696|13.048141644717589| 67.42115027829314| 50.59136212624585|  64.5576923076923| 66.06194690265487| 40.31428571428572|60.657303370786515|\n",
            "|     2007|43.111273792093705|109.56205673758865| 36.14578163771712|22.177424805677592|  61.6656976744186| 36.32856421477866| 54.02634961439589| 49.09900588354636| 47.68153274381648|31.926989826451226|37.460023174971035| 47.83405172413793| 55.36544850498339| 51.21540312876053| 43.61661341853035| 49.66094420600859| 53.04807692307692|  44.5933147632312| 36.32155731795242| 53.34766454352442|35.342911877394634|12.934664005322688| 72.16170212765958|57.066820276497694| 62.33223684210526| 65.65128205128205|          42.96875|56.331991951710265|\n",
            "|     2008| 44.03766816143498|103.16471245114461| 36.31777378815081|21.363316936050598| 63.22171945701358|36.762627877237854|  54.0639175257732|50.194653614457835| 45.82479815455594|34.119394292370416|37.987528344671205|  46.6124031007752| 59.79111842105263|44.265822784810126|  38.5444366689993| 48.83467741935484| 51.74759615384615| 41.93150684931507|37.878835153406136| 49.36296296296296|33.099221789883266|12.931231130493122| 67.35504201680672| 53.10919540229885| 57.13085234093637| 66.12809917355372| 39.76086956521739|48.114285714285714|\n",
            "|     2009| 41.95683151718357|108.49293966623877| 36.32838773491593|20.243339831059128|48.564039408866996|33.592260793828544| 50.97803347280335| 48.54328260513827|42.098663835058844|32.766999093381685|31.936077057793344| 48.46511627906977| 52.99360341151386| 43.10663507109005|36.739989321943405| 49.00617283950617|45.775777414075286|50.436123348017624| 37.33868092691622| 45.24976986805768| 32.49042709867452|12.611991158592742| 58.96853146853147| 61.12849872773537| 54.56666666666667| 55.41884816753927| 43.41379310344828| 45.70673076923077|\n",
            "|     2010|41.264550264550266| 96.24318658280923| 34.20055452865065| 18.34833538840937| 40.44976816074188|31.405260811413285| 47.01553672316384| 46.38834512874567|39.645788336933045|36.103149878850815| 28.14481897627965|42.359635811836114| 47.45104895104895| 35.42146596858639| 30.61896243291592|48.007407407407406| 40.02330363262509|  65.9143407122233| 35.92206325301205| 43.07270628967109| 27.74604966139955|12.035714285714286|56.410216718266255| 69.89300411522633| 50.19274809160305|             56.01|36.274193548387096| 48.90813253012048|\n",
            "|     2011|41.965306778027625| 103.4524089306698| 34.64517345399698|18.178749633108307|42.252967359050444| 29.67142286968669| 47.20099255583126|48.129511964309856| 38.94083239595051|36.681057563587686| 25.98264893001735|45.254416961130744| 47.52585521081941| 33.87286202964652| 28.20878661087866|46.289693593314766|38.511979823455235|62.188081936685286| 37.05516823279782| 41.15583596214511| 26.96090534979424|11.774099387726043| 63.04900181488203| 69.68369829683698| 46.87940074906367| 59.49264705882353| 44.73033707865169|61.572555205047315|\n",
            "|     2012|36.990282131661445|108.66435432230523|30.487315410829233|  18.6376404494382| 39.79832474226804|29.552961801070307| 45.25370065789474| 50.04034961685824| 37.33756598658867| 28.38662486938349| 26.89690170940171| 44.79277864992151| 46.75429799426934|34.162108403779214|26.916854778028593| 44.14525139664804|39.308396124865446|44.709106984969054| 34.99689811500835| 40.07284382284382|26.264957264957264|11.677626097545344| 57.92764578833693| 52.00527356624917|  45.6443686006826| 53.52914798206278| 36.96774193548387| 61.61969696969697|\n",
            "|     2013| 37.38359398052523|101.44303797468355| 32.37577002053388|17.177118644067797|41.820991253644316|29.676848484848485| 45.55077452667814| 44.13013620235779| 37.43985182296744| 27.22215269086358|  24.4107905982906| 51.05492730210016|48.325752508361205|32.846708746618575|25.602735156771182|42.467320261437905|37.371139510117146|42.121261115602266| 37.12259194395797| 41.56553202894666| 25.46343229543809|11.543450292397662|60.635235732009924| 50.12333526346265|49.094074526572996| 43.13059701492537|34.549549549549546| 55.35475234270415|\n",
            "|     2014| 37.34797490017114|101.45375128468653|31.110628342245988| 17.45518134715026| 41.39061647572286|29.614924212980956| 44.36057692307692| 43.43654145365637| 36.90657102911677| 29.76128048780488|27.402366863905325| 46.92877492877493| 45.15786163522012| 32.01426772975241| 25.63678660049628| 54.12218649517685|  39.4468524251806|45.887630662020904|36.483081506703556| 41.59158297465328|25.622012578616353|11.361311689016777| 68.45042194092827| 58.67140513942045| 45.87735341581495|38.608108108108105|40.646153846153844| 48.04441624365482|\n",
            "|     2015| 39.34758155230596| 96.21641074856046| 34.66166950596252|18.313855575401888| 49.21832669322709|30.498101407192316| 44.60690455468524|44.155296727676095| 39.76453220151319|28.180889621087314| 31.01511991657977| 42.92474489795919| 48.84504132231405| 32.32970711297071| 25.86516497461929|42.554896142433236| 44.38575819672131|51.762725137039936| 36.35705546492659|44.482341318844156|28.289811320754715|11.336636373590277| 70.37488626023658| 51.28291435875586|  47.7007299270073| 47.15352697095436| 36.31958762886598|46.699078812691916|\n",
            "|     2016|40.277259475218656| 87.23072916666666|  34.7407063197026| 17.55394830448186|   51.782874617737| 29.92908997580113|           45.7424| 42.84256778480334| 39.02110914526264|29.587568555758683|33.451827242524914|41.687943262411345|44.177541729893775|  33.2006512006512| 23.11306098964327|36.306179775280896| 41.03629230014713|57.018045112781955| 36.51769124332872|45.552006783493496| 29.36861051115911|11.138232765161094|62.775187969924815| 47.78871473354232| 45.59623015873016| 51.53174603174603| 34.54205607476636| 49.18089887640449|\n",
            "|     2017| 42.40545193687231| 81.57599175682638| 35.49631901840491|18.976936149550863|49.368800721370604|31.778790087463555| 46.89957378795951| 43.85515789473684| 39.99330330686263|31.514980613323935| 34.08450024142926| 45.92221391174271| 50.34221902017291|           33.6728| 23.51525165226233|40.708010335917315| 40.97965941343425|59.021238938053095| 38.94727452923687|45.971485036702425|30.385714285714286| 11.03039181605999| 67.20969162995594| 51.93273542600897|46.326511185149926| 58.35217391304348| 42.68595041322314| 36.49915872125631|\n",
            "|     2018| 43.37322515212982| 75.83066132264528| 34.43099121706399|18.759780712683778| 51.53138075313807| 32.48202992441771|  46.5365034965035| 44.45928548439009| 39.80560172360726| 31.68477810037329|37.317887931034484| 44.69009135628953| 48.53961965134707|32.837465564738295|18.846779985635624|  40.5045871559633| 42.83925729442971| 39.71311182565202| 37.72509867657302|47.065384615384616| 29.77330508474576|11.028584036085507| 75.23247863247863| 47.65634047481181| 45.90842153704556|  51.7027027027027|37.747747747747745| 42.34089035449299|\n",
            "|     2019|45.983886561392204| 75.58356781091727| 36.25880425880426| 19.67956434508455|55.174870466321245|33.430513051305134| 46.13205025394279|  45.9200858778626| 42.33746084929711| 32.97051347229283| 36.49590723055935| 48.71625344352617|  50.7145612343298| 34.62505307855626| 16.05205728574676| 42.40416666666667|  46.4703557312253|  49.4202172096909| 41.43801881571666| 50.14020618556701|28.819432502149613|10.645256110173642| 66.39074803149606| 51.22175622542595| 49.76782077393075| 54.39877300613497| 44.42372881355932| 60.42980392156863|\n",
            "+---------+------------------+------------------+------------------+------------------+------------------+------------------+------------------+------------------+------------------+------------------+------------------+------------------+------------------+------------------+------------------+------------------+------------------+------------------+------------------+------------------+------------------+------------------+------------------+------------------+------------------+------------------+------------------+------------------+\n",
            "only showing top 20 rows\n",
            "\n"
          ]
        }
      ],
      "source": [
        "(\n",
        "    df_titles_subset\n",
        "    .drop('genre')\n",
        "    .withColumn('genres',f.explode(f.split(f.col('genres'), ',')))\n",
        "    .groupby('startYear')\n",
        "    .pivot('genres')\n",
        "    .agg(f.mean('runtimeMinutes'))\n",
        "    .na.fill(0)\n",
        "    .orderBy('startYear')\n",
        "    .show()\n",
        ")"
      ]
    },
    {
      "cell_type": "markdown",
      "metadata": {
        "id": "X4fzQ-3k-yk-"
      },
      "source": [
        "# **Aula 4.2**- Manipulando dados com Spark - Parte II"
      ]
    },
    {
      "cell_type": "markdown",
      "metadata": {
        "id": "b8MzrbhQ_Pnk"
      },
      "source": [
        "### **Window Functions**"
      ]
    },
    {
      "cell_type": "markdown",
      "metadata": {
        "id": "NkoaTMcfCAPr"
      },
      "source": [
        "Window functions são funções que realizam cálculos similares à uma agregação, mas que não resultam em um DataFrame agregado. Ao invés disso, os resultados são colocados em uma nova coluna, segundo a partição (ou agrupamento) especificado. Exemplos mais comuns:\n",
        "- `row_number`\n",
        "- `rank() / dense_rank() / percent_rank()`\n",
        "- `lag()`\n",
        "- `cume_dist()`\n",
        "- `collect_list() / collect_set()`\n",
        "\n",
        "Para usar as funções dessa forma, devemos criar uma janela (window) da \n",
        "seguinte forma:\n",
        "\n",
        "  `from pyspark.sql.window import window`\n",
        "\n",
        "  `w = windowm.partitionBy({columns}).orderBy({columns}).rowsBetween({lower},{upper})`\n",
        "  \n",
        "- `partitionBy()` : agrupamentos em que os cálculos serão realizados. É análogo\n",
        "ao `groupBy()`.\n",
        "- `orderBy()` : algumas funções como `row_number()` e `lag()` dependem da \n",
        "ordenação das linhas do agrupamento. Essa função é usada para especificar essa\n",
        "ordem. \n",
        "- `rowsBetween()` : esse método é usado para especificar janelas deslizantes. A partir dele é possível definir um intervalo de linhas, relativas à linha atual, \n",
        "em que a função vai ser aplicada. Caso isso não seja especificado, as operações\n",
        "são realizadas em todo o grupo. Muito útil para construir **médias móveis**. Os seguintes objetos ajudam na construção desse intervalo.\n",
        "- `Window.currentRow` : define a linha para qual o valre está sendo calculado como um dos limites de cálculo.\n",
        "- `Window.unboundedPreceding` : define que não há limites para as linhas anteriores à linhas para qual o valor está sendo calculado, isto é, a função irá considerar todas as linhas do grupo que já passaram. Deve ser usado no primeiro argumento (start). \n",
        "- `Window.unboundedFollowing` : define que não há limites para as linhas posteriores à linha para qual o valore está sendo calculado, isto é, a função irá considerar todas as linhas do grupo que ainda não passaram. Deve ser usado\n",
        "no segundo argumento (end). \n",
        "\n",
        "Depois disso, basta utilizar a função `over()` para indicar que aquela  função deve ser realizada na janela. Exemplo:\n",
        "\n",
        "  `df.withColumn('rn',f.row_number().over(w))`"
      ]
    },
    {
      "cell_type": "code",
      "execution_count": null,
      "metadata": {
        "id": "vJbPlYiS_OqN"
      },
      "outputs": [],
      "source": [
        "from pyspark.sql.window import Window"
      ]
    },
    {
      "cell_type": "code",
      "execution_count": null,
      "metadata": {
        "colab": {
          "base_uri": "https://localhost:8080/"
        },
        "id": "R0dYQKI--x5R",
        "outputId": "21a70775-a18b-433b-c519-6e69fa91d024"
      },
      "outputs": [
        {
          "output_type": "stream",
          "name": "stdout",
          "text": [
            "+---------+---------+--------------------+--------------------+-------+---------+-------+--------------+--------------------+\n",
            "|   tconst|titleType|        primaryTitle|       originalTitle|isAdult|startYear|endYear|runtimeMinutes|              genres|\n",
            "+---------+---------+--------------------+--------------------+-------+---------+-------+--------------+--------------------+\n",
            "|tt0000001|    short|          Carmencita|          Carmencita|      0|     1894|     \\N|             1|   Documentary,Short|\n",
            "|tt0000002|    short|Le clown et ses c...|Le clown et ses c...|      0|     1892|     \\N|             5|     Animation,Short|\n",
            "|tt0000003|    short|      Pauvre Pierrot|      Pauvre Pierrot|      0|     1892|     \\N|             4|Animation,Comedy,...|\n",
            "|tt0000004|    short|         Un bon bock|         Un bon bock|      0|     1892|     \\N|            12|     Animation,Short|\n",
            "|tt0000005|    short|    Blacksmith Scene|    Blacksmith Scene|      0|     1893|     \\N|             1|        Comedy,Short|\n",
            "+---------+---------+--------------------+--------------------+-------+---------+-------+--------------+--------------------+\n",
            "only showing top 5 rows\n",
            "\n"
          ]
        }
      ],
      "source": [
        "df_titles.show(5)"
      ]
    },
    {
      "cell_type": "code",
      "execution_count": null,
      "metadata": {
        "id": "hJ55xtTGKa8F"
      },
      "outputs": [],
      "source": [
        "df_titles_subset = (\n",
        "    df_titles\n",
        "    .filter(\"cast(startYear as int) >= 2000\")\n",
        "    .sample(fraction = 0.5)\n",
        "    .withColumn('genre', f.split('genres',',').getItem(0))\n",
        ") "
      ]
    },
    {
      "cell_type": "code",
      "execution_count": null,
      "metadata": {
        "colab": {
          "base_uri": "https://localhost:8080/"
        },
        "id": "NAjD240KI9w-",
        "outputId": "6ef653e4-920a-4ea4-b473-d04098fd523f"
      },
      "outputs": [
        {
          "output_type": "stream",
          "name": "stdout",
          "text": [
            "+----------+---------+--------------------+--------------------+-------+---------+-------+--------------+--------------------+---------+---+\n",
            "|    tconst|titleType|        primaryTitle|       originalTitle|isAdult|startYear|endYear|runtimeMinutes|              genres|    genre| rn|\n",
            "+----------+---------+--------------------+--------------------+-------+---------+-------+--------------+--------------------+---------+---+\n",
            "|tt10075380|    movie| Realm of Terracotta| Realm of Terracotta|      0|     2021|     \\N|           111|Adventure,Animati...|Adventure|284|\n",
            "|tt10084832|    movie|               Nomad|               Nomad|      0|     2021|     \\N|            \\N|Adventure,Drama,R...|Adventure|284|\n",
            "|tt10121862|tvEpisode|        Episode #1.1|        Episode #1.1|      0|     2021|     \\N|            \\N|    Adventure,Comedy|Adventure|284|\n",
            "|tt10155524|tvEpisode|Welcome to Monste...|Welcome to Monste...|      0|     2021|     \\N|            \\N|Adventure,Animati...|Adventure|284|\n",
            "|tt10155932|    movie|          Cinderella|          Cinderella|      0|     2021|     \\N|           113|Adventure,Comedy,...|Adventure|284|\n",
            "|tt10187208|    movie|A Boy Called Chri...|A Boy Called Chri...|      0|     2021|     \\N|           106|Adventure,Drama,F...|Adventure|284|\n",
            "|tt10247646|    movie|The Perfect Mistr...|The Perfect Mistr...|      0|     2021|     \\N|            \\N|Adventure,Drama,R...|Adventure|284|\n",
            "|tt10265034|    movie|                Land|                Land|      0|     2021|     \\N|            89|     Adventure,Drama|Adventure|284|\n",
            "|tt10265764|    movie|        Lucia, Lucia|        Lucia, Lucia|      0|     2021|     \\N|            \\N|Adventure,Drama,R...|Adventure|284|\n",
            "|tt10268560|    short|           Aftermath|           Aftermath|      0|     2021|     \\N|            \\N|Adventure,Drama,H...|Adventure|284|\n",
            "|tt10334438|    movie|   Becoming Cousteau|   Becoming Cousteau|      0|     2021|     \\N|            93|Adventure,Biograp...|Adventure|284|\n",
            "|tt10344410| tvSeries|               Panic|               Panic|      0|     2021|   2021|            \\N|Adventure,Crime,D...|Adventure|284|\n",
            "|tt10345676|tvEpisode|The Bash Street B...|The Bash Street B...|      0|     2021|     \\N|            \\N|Adventure,Animati...|Adventure|284|\n",
            "|tt10345684|tvEpisode|    Learning to Lose|    Learning to Lose|      0|     2021|     \\N|            \\N|Adventure,Animati...|Adventure|284|\n",
            "|tt10345688|tvEpisode|        Eco Worriers|        Eco Worriers|      0|     2021|     \\N|            \\N|Adventure,Animati...|Adventure|284|\n",
            "|tt10345694|tvEpisode|  The Artful Gnasher|  The Artful Gnasher|      0|     2021|     \\N|            \\N|Adventure,Animati...|Adventure|284|\n",
            "|tt10345696|tvEpisode|The Order of the ...|The Order of the ...|      0|     2021|     \\N|            \\N|Adventure,Animati...|Adventure|284|\n",
            "|tt10345700|tvEpisode|      JJ's Lucky Day|      JJ's Lucky Day|      0|     2021|     \\N|            \\N|Adventure,Animati...|Adventure|284|\n",
            "|tt10345704|tvEpisode|   The Hairy Wiggler|   The Hairy Wiggler|      0|     2021|     \\N|            \\N|Adventure,Animati...|Adventure|284|\n",
            "|tt10345722|tvEpisode| Failing To Register| Failing To Register|      0|     2021|     \\N|            \\N|Adventure,Animati...|Adventure|284|\n",
            "+----------+---------+--------------------+--------------------+-------+---------+-------+--------------+--------------------+---------+---+\n",
            "only showing top 20 rows\n",
            "\n"
          ]
        }
      ],
      "source": [
        "w = Window.partitionBy('genre').orderBy(f.desc('startYear'))\n",
        "\n",
        "(\n",
        "    df_titles_subset\n",
        "    .withColumn('genre',f.split('genres',',').getItem(0))\n",
        "    .withColumn('startYear', f.col('startYear').cast('int'))\n",
        "    .withColumn('rn', f.rank().over(w))\n",
        "    .filter('startYear <= 2021')\n",
        "    .show()\n",
        ")"
      ]
    },
    {
      "cell_type": "code",
      "execution_count": null,
      "metadata": {
        "colab": {
          "base_uri": "https://localhost:8080/"
        },
        "id": "CK5OQWo7RwWL",
        "outputId": "ce3f92a2-3579-4dde-e863-bc95e4af90cb"
      },
      "outputs": [
        {
          "output_type": "stream",
          "name": "stdout",
          "text": [
            "+----------+---------+--------------------+--------------------+-------+---------+-------+--------------+--------------------+---------+--------------------+\n",
            "|    tconst|titleType|        primaryTitle|       originalTitle|isAdult|startYear|endYear|runtimeMinutes|              genres|    genre|                  rn|\n",
            "+----------+---------+--------------------+--------------------+-------+---------+-------+--------------+--------------------+---------+--------------------+\n",
            "|tt10075380|    movie| Realm of Terracotta| Realm of Terracotta|      0|     2021|     \\N|           111|Adventure,Animati...|Adventure|0.004708505257553574|\n",
            "|tt10084832|    movie|               Nomad|               Nomad|      0|     2021|     \\N|            \\N|Adventure,Drama,R...|Adventure|0.004708505257553574|\n",
            "|tt10121862|tvEpisode|        Episode #1.1|        Episode #1.1|      0|     2021|     \\N|            \\N|    Adventure,Comedy|Adventure|0.004708505257553574|\n",
            "|tt10155524|tvEpisode|Welcome to Monste...|Welcome to Monste...|      0|     2021|     \\N|            \\N|Adventure,Animati...|Adventure|0.004708505257553574|\n",
            "|tt10155932|    movie|          Cinderella|          Cinderella|      0|     2021|     \\N|           113|Adventure,Comedy,...|Adventure|0.004708505257553574|\n",
            "|tt10187208|    movie|A Boy Called Chri...|A Boy Called Chri...|      0|     2021|     \\N|           106|Adventure,Drama,F...|Adventure|0.004708505257553574|\n",
            "|tt10247646|    movie|The Perfect Mistr...|The Perfect Mistr...|      0|     2021|     \\N|            \\N|Adventure,Drama,R...|Adventure|0.004708505257553574|\n",
            "|tt10265034|    movie|                Land|                Land|      0|     2021|     \\N|            89|     Adventure,Drama|Adventure|0.004708505257553574|\n",
            "|tt10265764|    movie|        Lucia, Lucia|        Lucia, Lucia|      0|     2021|     \\N|            \\N|Adventure,Drama,R...|Adventure|0.004708505257553574|\n",
            "|tt10268560|    short|           Aftermath|           Aftermath|      0|     2021|     \\N|            \\N|Adventure,Drama,H...|Adventure|0.004708505257553574|\n",
            "|tt10334438|    movie|   Becoming Cousteau|   Becoming Cousteau|      0|     2021|     \\N|            93|Adventure,Biograp...|Adventure|0.004708505257553574|\n",
            "|tt10344410| tvSeries|               Panic|               Panic|      0|     2021|   2021|            \\N|Adventure,Crime,D...|Adventure|0.004708505257553574|\n",
            "|tt10345676|tvEpisode|The Bash Street B...|The Bash Street B...|      0|     2021|     \\N|            \\N|Adventure,Animati...|Adventure|0.004708505257553574|\n",
            "|tt10345684|tvEpisode|    Learning to Lose|    Learning to Lose|      0|     2021|     \\N|            \\N|Adventure,Animati...|Adventure|0.004708505257553574|\n",
            "|tt10345688|tvEpisode|        Eco Worriers|        Eco Worriers|      0|     2021|     \\N|            \\N|Adventure,Animati...|Adventure|0.004708505257553574|\n",
            "|tt10345694|tvEpisode|  The Artful Gnasher|  The Artful Gnasher|      0|     2021|     \\N|            \\N|Adventure,Animati...|Adventure|0.004708505257553574|\n",
            "|tt10345696|tvEpisode|The Order of the ...|The Order of the ...|      0|     2021|     \\N|            \\N|Adventure,Animati...|Adventure|0.004708505257553574|\n",
            "|tt10345700|tvEpisode|      JJ's Lucky Day|      JJ's Lucky Day|      0|     2021|     \\N|            \\N|Adventure,Animati...|Adventure|0.004708505257553574|\n",
            "|tt10345704|tvEpisode|   The Hairy Wiggler|   The Hairy Wiggler|      0|     2021|     \\N|            \\N|Adventure,Animati...|Adventure|0.004708505257553574|\n",
            "|tt10345722|tvEpisode| Failing To Register| Failing To Register|      0|     2021|     \\N|            \\N|Adventure,Animati...|Adventure|0.004708505257553574|\n",
            "+----------+---------+--------------------+--------------------+-------+---------+-------+--------------+--------------------+---------+--------------------+\n",
            "only showing top 20 rows\n",
            "\n"
          ]
        }
      ],
      "source": [
        "w = Window.partitionBy('genre').orderBy(f.desc('startYear'))\n",
        "\n",
        "(\n",
        "    df_titles_subset\n",
        "    .withColumn('genre',f.split('genres',',').getItem(0))\n",
        "    .withColumn('startYear', f.col('startYear').cast('int'))\n",
        "    .withColumn('rn', f.percent_rank().over(w))\n",
        "    .filter('startYear <= 2021')\n",
        "    .show()\n",
        ")"
      ]
    },
    {
      "cell_type": "code",
      "execution_count": null,
      "metadata": {
        "colab": {
          "base_uri": "https://localhost:8080/"
        },
        "id": "UbGmAFg6R3zk",
        "outputId": "fd2e5076-18bf-4287-889a-402bf58e7b0d"
      },
      "outputs": [
        {
          "output_type": "stream",
          "name": "stdout",
          "text": [
            "+---------+---------+--------------------+--------------------+-------+---------+-------+--------------+--------------------+-----------+-------------+-----------------+--------------------+-----------+\n",
            "|   tconst|titleType|        primaryTitle|       originalTitle|isAdult|startYear|endYear|runtimeMinutes|              genres|      genre|total_minutes|     mean_minutes|    relative_minutes|lag_runtime|\n",
            "+---------+---------+--------------------+--------------------+-------+---------+-------+--------------+--------------------+-----------+-------------+-----------------+--------------------+-----------+\n",
            "|tt0102362|    movie|              Istota|              Istota|      0|     2000|     \\N|            80|       Drama,Romance|      Drama|       177555|91.33487654320987|4.505646137816451E-4|       null|\n",
            "|tt0115937|    movie|         Consequence|         Consequence|      0|     2000|     \\N|            91|               Drama|      Drama|       177555|91.33487654320987|5.125172481766213E-4|       null|\n",
            "|tt0116391|    movie|                Gang|                Gang|      0|     2000|     \\N|           152|  Action,Crime,Drama|     Action|       177555|91.33487654320987|8.560727661851257E-4|         91|\n",
            "|tt0116748|    movie|Karobaar: The Bus...|Karobaar: The Bus...|      0|     2000|     \\N|           180|       Drama,Romance|      Drama|       177555|91.33487654320987|0.001013770381008...|        152|\n",
            "|tt0118694|    movie|In the Mood for Love|    Fa yeung nin wah|      0|     2000|     \\N|            98|       Drama,Romance|      Drama|       177555|91.33487654320987|5.519416518825153E-4|       null|\n",
            "|tt0118852|    movie|      Chinese Coffee|      Chinese Coffee|      0|     2000|     \\N|            99|               Drama|      Drama|       177555|91.33487654320987|5.575737095547858E-4|         98|\n",
            "|tt0119806|    movie|      Nothing Sacred|      Nothing Sacred|      0|     2000|     \\N|            98|      Comedy,Romance|     Comedy|       177555|91.33487654320987|5.519416518825153E-4|         99|\n",
            "|tt0120263|    movie|Songs from the Se...|Sånger från andra...|      0|     2000|     \\N|            98|        Comedy,Drama|     Comedy|       177555|91.33487654320987|5.519416518825153E-4|         98|\n",
            "|tt0120454|    movie|               Vinyl|               Vinyl|      0|     2000|     \\N|           180|         Documentary|Documentary|       177555|91.33487654320987|0.001013770381008...|         98|\n",
            "|tt0120626|    movie|      April Captains|   Capitães de Abril|      0|     2000|     \\N|           123|   Drama,History,War|      Drama|       177555|91.33487654320987|6.927430936892794E-4|        180|\n",
            "|tt0120630|    movie|         Chicken Run|         Chicken Run|      0|     2000|     \\N|            84|Adventure,Animati...|  Adventure|       177555|91.33487654320987|4.730928444707274E-4|        123|\n",
            "|tt0120673|    movie|              Foiled|              Foiled|      0|     2000|     \\N|            78| Action,Drama,Sci-Fi|     Action|       177555|91.33487654320987| 4.39300498437104E-4|         84|\n",
            "|tt0120698|    movie|      The Highwayman|      The Highwayman|      0|     2000|     \\N|            94|Comedy,Drama,Thri...|     Comedy|       177555|91.33487654320987|5.294134211934331E-4|         78|\n",
            "|tt0120733|    movie|          Lion of Oz|          Lion of Oz|      0|     2000|     \\N|            74|Animation,Family,...|  Animation|       177555|91.33487654320987|4.167722677480217...|         94|\n",
            "|tt0120753|    movie|The Million Dolla...|The Million Dolla...|      0|     2000|     \\N|           122|Drama,Mystery,Thr...|      Drama|       177555|91.33487654320987|6.871110360170088E-4|         74|\n",
            "|tt0120755|    movie|Mission: Impossib...|Mission: Impossib...|      0|     2000|     \\N|           123|Action,Adventure,...|     Action|       177555|91.33487654320987|6.927430936892794E-4|        122|\n",
            "|tt0120903|    movie|               X-Men|               X-Men|      0|     2000|     \\N|           104|Action,Adventure,...|     Action|       177555|91.33487654320987|5.857339979161387E-4|        123|\n",
            "|tt0120913|    movie|          Titan A.E.|          Titan A.E.|      0|     2000|     \\N|            94|Action,Adventure,...|     Action|       177555|91.33487654320987|5.294134211934331E-4|        104|\n",
            "|tt0120917|    movie|The Emperor's New...|The Emperor's New...|      0|     2000|     \\N|            78|Adventure,Animati...|  Adventure|       177555|91.33487654320987| 4.39300498437104E-4|         94|\n",
            "|tt0123055|    movie|The Elf Who Didn'...|The Elf Who Didn'...|      0|     2000|     \\N|            90|       Comedy,Family|     Comedy|       177555|91.33487654320987|5.068851905043508E-4|         78|\n",
            "+---------+---------+--------------------+--------------------+-------+---------+-------+--------------+--------------------+-----------+-------------+-----------------+--------------------+-----------+\n",
            "only showing top 20 rows\n",
            "\n"
          ]
        }
      ],
      "source": [
        "w = Window.partitionBy('titleType','startYear').orderBy('titleType','startYear')\n",
        "\n",
        "(\n",
        "    df_titles_subset\n",
        "    .withColumn('genre',f.split('genres',',').getItem(0))\n",
        "    .withColumn('runtimeMinutes', f.col('runtimeMinutes').cast('int'))\n",
        "    .withColumn('total_minutes', f.sum(f.col('runtimeMinutes')).over(w))\n",
        "    .withColumn('mean_minutes', f.mean(f.col('runtimeMinutes')).over(w))\n",
        "    .withColumn('relative_minutes', f.col('runtimeMinutes') / f.col('total_minutes'))\n",
        "    .withColumn('lag_runtime', f.lag('runtimeMinutes').over(w))\n",
        "    .filter('runtimeMinutes is not null')\n",
        "    .show()\n",
        ")"
      ]
    },
    {
      "cell_type": "code",
      "execution_count": null,
      "metadata": {
        "colab": {
          "base_uri": "https://localhost:8080/"
        },
        "id": "sZ2_7gDIWc90",
        "outputId": "008dfd01-5a7e-441b-a67a-bceafa946755"
      },
      "outputs": [
        {
          "output_type": "stream",
          "name": "stdout",
          "text": [
            "+---------+---------+-----------------+-----------------+\n",
            "|titleType|startYear|    media_minutes|media_movel_3anos|\n",
            "+---------+---------+-----------------+-----------------+\n",
            "|    movie|     2000|91.33487654320987|           91.335|\n",
            "|    movie|     2001|91.67862481315396|           91.507|\n",
            "|    movie|     2002|90.93029739776952|           91.315|\n",
            "|    movie|     2003|90.23226072607261|           90.947|\n",
            "|    movie|     2004|89.11744583808438|           90.093|\n",
            "|    movie|     2005|89.72853368560105|           89.693|\n",
            "|    movie|     2006|89.09390243902439|           89.313|\n",
            "|    movie|     2007|89.61379700310998|           89.479|\n",
            "|    movie|     2008|88.16112594030575|           88.956|\n",
            "|    movie|     2009|87.24494623655914|            88.34|\n",
            "|    movie|     2010|87.58061985092193|           87.662|\n",
            "|    movie|     2011|90.25551641016132|            88.36|\n",
            "|    movie|     2012| 87.5018398458034|           88.446|\n",
            "|    movie|     2013|88.70692194403534|           88.821|\n",
            "|    movie|     2014|87.87416514875531|           88.028|\n",
            "|    movie|     2015|89.38143092845358|           88.654|\n",
            "|    movie|     2016|89.52731182795699|           88.928|\n",
            "|    movie|     2017|89.74812030075188|           89.552|\n",
            "|    movie|     2018|91.20829192105637|           90.161|\n",
            "|    movie|     2019|91.80938981042654|           90.922|\n",
            "+---------+---------+-----------------+-----------------+\n",
            "only showing top 20 rows\n",
            "\n"
          ]
        }
      ],
      "source": [
        "w = Window.partitionBy('titleType').orderBy('startYear').rowsBetween(-2, Window.currentRow)\n",
        "(\n",
        "    df_titles_subset\n",
        "    .withColumn('runtimeMinutes', f.col('runtimeMinutes').cast('int'))\n",
        "    .groupby('titleType','startYear')\n",
        "    .agg(f.expr('mean(runtimeMinutes) as media_minutes'))\n",
        "    .orderBy('titleType','startYear')\n",
        "    .withColumn('media_movel_3anos', f.round(f.mean('media_minutes').over(w),3))\n",
        "    .show()\n",
        ")"
      ]
    },
    {
      "cell_type": "code",
      "execution_count": null,
      "metadata": {
        "colab": {
          "base_uri": "https://localhost:8080/"
        },
        "id": "ce_zmu1VZb9d",
        "outputId": "2e2680d2-67ea-44a8-e0d2-36c581962ee4"
      },
      "outputs": [
        {
          "output_type": "execute_result",
          "data": {
            "text/plain": [
              "90.59925380855759"
            ]
          },
          "metadata": {},
          "execution_count": 95
        }
      ],
      "source": [
        "a = (90.35232168501676 + 91.40670289855072 + 90.03873684210527)/3.\n",
        "a"
      ]
    },
    {
      "cell_type": "code",
      "execution_count": null,
      "metadata": {
        "colab": {
          "base_uri": "https://localhost:8080/"
        },
        "id": "B9zF1p-yc710",
        "outputId": "dabe6144-851e-44f9-d681-9baecf6422b1"
      },
      "outputs": [
        {
          "output_type": "stream",
          "name": "stdout",
          "text": [
            "+---------+---------+-----------------+-----------------+\n",
            "|titleType|startYear|    media_minutes|media_movel_3anos|\n",
            "+---------+---------+-----------------+-----------------+\n",
            "|    movie|     2000|91.33487654320987|           91.335|\n",
            "|    movie|     2001|91.67862481315396|           91.507|\n",
            "|    movie|     2002|90.93029739776952|           91.315|\n",
            "|    movie|     2003|90.23226072607261|           91.044|\n",
            "|    movie|     2004|89.11744583808438|           90.659|\n",
            "|    movie|     2005|89.72853368560105|           90.504|\n",
            "|    movie|     2006|89.09390243902439|           90.302|\n",
            "|    movie|     2007|89.61379700310998|           90.216|\n",
            "|    movie|     2008|88.16112594030575|           89.988|\n",
            "|    movie|     2009|87.24494623655914|           89.714|\n",
            "|    movie|     2010|87.58061985092193|            89.52|\n",
            "|    movie|     2011|90.25551641016132|           89.581|\n",
            "|    movie|     2012| 87.5018398458034|           89.421|\n",
            "|    movie|     2013|88.70692194403534|            89.37|\n",
            "|    movie|     2014|87.87416514875531|            89.27|\n",
            "|    movie|     2015|89.38143092845358|           89.277|\n",
            "|    movie|     2016|89.52731182795699|           89.292|\n",
            "|    movie|     2017|89.74812030075188|           89.317|\n",
            "|    movie|     2018|91.20829192105637|           89.417|\n",
            "|    movie|     2019|91.80938981042654|           89.536|\n",
            "+---------+---------+-----------------+-----------------+\n",
            "only showing top 20 rows\n",
            "\n"
          ]
        }
      ],
      "source": [
        "# Aqui temos uma média incremental. Ela sempre pega todos os valores para trás. Diferente do \n",
        "# caso anterior. Que sempre pegava duas 3 para trás. \n",
        "w = Window.partitionBy('titleType').orderBy('startYear').rowsBetween(Window.unboundedPreceding, Window.currentRow)\n",
        "(\n",
        "    df_titles_subset\n",
        "    .withColumn('runtimeMinutes', f.col('runtimeMinutes').cast('int'))\n",
        "    .groupby('titleType','startYear')\n",
        "    .agg(f.expr('mean(runtimeMinutes) as media_minutes'))\n",
        "    .orderBy('titleType','startYear')\n",
        "    .withColumn('media_movel_3anos', f.round(f.mean('media_minutes').over(w),3))\n",
        "    .show()\n",
        ")"
      ]
    },
    {
      "cell_type": "code",
      "execution_count": null,
      "metadata": {
        "colab": {
          "base_uri": "https://localhost:8080/"
        },
        "id": "waD7DOY4d5pU",
        "outputId": "bddd375a-ffe1-4a3d-9dd0-e01615665d10"
      },
      "outputs": [
        {
          "output_type": "execute_result",
          "data": {
            "text/plain": [
              "90.5695291421496"
            ]
          },
          "metadata": {},
          "execution_count": 97
        }
      ],
      "source": [
        "(91.13144058885383 + 90.35232168501676 + 91.40670289855072 + 90.03873684210527+ 89.91844369622147)/5."
      ]
    },
    {
      "cell_type": "code",
      "execution_count": null,
      "metadata": {
        "colab": {
          "base_uri": "https://localhost:8080/"
        },
        "id": "vHEo8jNBeSIe",
        "outputId": "a601c6c1-6027-4b60-b81c-5a443e934e60"
      },
      "outputs": [
        {
          "output_type": "stream",
          "name": "stdout",
          "text": [
            "+---------+---------+--------------------+--------------------+-------+---------+-------+--------------+--------------------+-----------+--------------------+\n",
            "|   tconst|titleType|        primaryTitle|       originalTitle|isAdult|startYear|endYear|runtimeMinutes|              genres|      genre|       lista_titulos|\n",
            "+---------+---------+--------------------+--------------------+-------+---------+-------+--------------+--------------------+-----------+--------------------+\n",
            "|tt0102362|    movie|              Istota|              Istota|      0|     2000|     \\N|            80|       Drama,Romance|      Drama|[tt0179749, tt024...|\n",
            "|tt0107706|    movie|             Nothing|             Nothing|      0|     2000|     \\N|            \\N|                  \\N|         \\N|[tt0179749, tt024...|\n",
            "|tt0113086|    movie|Florentino y el d...|Florentino y el d...|      0|     2000|     \\N|            \\N|               Drama|      Drama|[tt0179749, tt024...|\n",
            "|tt0115937|    movie|         Consequence|         Consequence|      0|     2000|     \\N|            91|               Drama|      Drama|[tt0179749, tt024...|\n",
            "|tt0116391|    movie|                Gang|                Gang|      0|     2000|     \\N|           152|  Action,Crime,Drama|     Action|[tt0179749, tt024...|\n",
            "|tt0116748|    movie|Karobaar: The Bus...|Karobaar: The Bus...|      0|     2000|     \\N|           180|       Drama,Romance|      Drama|[tt0179749, tt024...|\n",
            "|tt0116847|    movie|           Leftovers|           Leftovers|      0|     2000|     \\N|            \\N|                  \\N|         \\N|[tt0179749, tt024...|\n",
            "|tt0118694|    movie|In the Mood for Love|    Fa yeung nin wah|      0|     2000|     \\N|            98|       Drama,Romance|      Drama|[tt0179749, tt024...|\n",
            "|tt0118852|    movie|      Chinese Coffee|      Chinese Coffee|      0|     2000|     \\N|            99|               Drama|      Drama|[tt0179749, tt024...|\n",
            "|tt0119806|    movie|      Nothing Sacred|      Nothing Sacred|      0|     2000|     \\N|            98|      Comedy,Romance|     Comedy|[tt0179749, tt024...|\n",
            "|tt0120263|    movie|Songs from the Se...|Sånger från andra...|      0|     2000|     \\N|            98|        Comedy,Drama|     Comedy|[tt0179749, tt024...|\n",
            "|tt0120454|    movie|               Vinyl|               Vinyl|      0|     2000|     \\N|           180|         Documentary|Documentary|[tt0179749, tt024...|\n",
            "|tt0120626|    movie|      April Captains|   Capitães de Abril|      0|     2000|     \\N|           123|   Drama,History,War|      Drama|[tt0179749, tt024...|\n",
            "|tt0120630|    movie|         Chicken Run|         Chicken Run|      0|     2000|     \\N|            84|Adventure,Animati...|  Adventure|[tt0179749, tt024...|\n",
            "|tt0120673|    movie|              Foiled|              Foiled|      0|     2000|     \\N|            78| Action,Drama,Sci-Fi|     Action|[tt0179749, tt024...|\n",
            "|tt0120698|    movie|      The Highwayman|      The Highwayman|      0|     2000|     \\N|            94|Comedy,Drama,Thri...|     Comedy|[tt0179749, tt024...|\n",
            "|tt0120733|    movie|          Lion of Oz|          Lion of Oz|      0|     2000|     \\N|            74|Animation,Family,...|  Animation|[tt0179749, tt024...|\n",
            "|tt0120753|    movie|The Million Dolla...|The Million Dolla...|      0|     2000|     \\N|           122|Drama,Mystery,Thr...|      Drama|[tt0179749, tt024...|\n",
            "|tt0120755|    movie|Mission: Impossib...|Mission: Impossib...|      0|     2000|     \\N|           123|Action,Adventure,...|     Action|[tt0179749, tt024...|\n",
            "|tt0120903|    movie|               X-Men|               X-Men|      0|     2000|     \\N|           104|Action,Adventure,...|     Action|[tt0179749, tt024...|\n",
            "+---------+---------+--------------------+--------------------+-------+---------+-------+--------------+--------------------+-----------+--------------------+\n",
            "only showing top 20 rows\n",
            "\n"
          ]
        }
      ],
      "source": [
        "w = Window.partitionBy('titleType','startYear')\n",
        "(\n",
        "    df_titles_subset\n",
        "    .withColumn('lista_titulos', f.collect_set(f.col('tconst')).over(w))\n",
        "    .show()\n",
        ")"
      ]
    },
    {
      "cell_type": "code",
      "execution_count": null,
      "metadata": {
        "id": "9UA2TBuTfLZ7"
      },
      "outputs": [],
      "source": [
        "#w = Window.partitionBy('titleType','startYear')\n",
        "#(\n",
        "#    df_titles_subset\n",
        "#    .withColumn('lista_titulos', f.collect_set(f.col('tconst')).over(w))\n",
        "#    .withColumn('titulos_distintos', f.size(f.col('lista_titulos')))\n",
        "#    .select('titleType','startYear','titulos_distintos')\n",
        "#    .orderBy(f.col('titulos_distintos').desc())\n",
        "#    .show()\n",
        "#)\n",
        "# It takes very long time"
      ]
    },
    {
      "cell_type": "code",
      "execution_count": null,
      "metadata": {
        "id": "iCe7_ncRhQ-5"
      },
      "outputs": [],
      "source": [
        "#(\n",
        "#    df_titles_subset\n",
        "#    .groupby('titleType','startYear')\n",
        "#    .agg(f.countDistinct(f.col('tconst')).alias('titulos_distintos'))\n",
        "#    .orderBy(f.col('titulos_distintos').desc())\n",
        "#    .show()\n",
        "#)"
      ]
    },
    {
      "cell_type": "markdown",
      "metadata": {
        "id": "lI14BcnNh1km"
      },
      "source": [
        "### **Usando Windows para evitar joins**\n",
        "\n",
        "**Objetivo :** Título mais recente por gênero\n",
        "\n",
        "Caminho natual :\n",
        "\n",
        "  `df1 = df_titles.goupby('genre').agg(f.max(f.col('startYear').alias('startYear')))`\n",
        "  \n",
        "  `df2 = df_titles.join(df1,['genre','startYear'])`\n",
        "\n",
        "**Alternativa :**"
      ]
    },
    {
      "cell_type": "code",
      "execution_count": null,
      "metadata": {
        "id": "c_FgwW8xiDYA"
      },
      "outputs": [],
      "source": [
        "#w = Window.partitionBy('genre')\n",
        "#(\n",
        "#    df_titles_subset\n",
        "#    .withColumn('max_data', f.max(f.col('startYear')).over(w))\n",
        "#    .filter('startYear = max_data')\n",
        "#    .show()\n",
        "#)"
      ]
    },
    {
      "cell_type": "markdown",
      "metadata": {
        "id": "4ffLIdmsc19X"
      },
      "source": [
        "# **Aula 4.3**- Manipulando dados com Spark - Parte II"
      ]
    },
    {
      "cell_type": "markdown",
      "metadata": {
        "id": "OzUlBh5MdVzk"
      },
      "source": [
        "### Tipos de Joins\n",
        "\n",
        "Os joins no pyspark são especificados pela função `join()`, da seguinte forma:\n",
        "\n",
        "`df1.join(df2,{key_columns},{join_type})`\n",
        "\n",
        "- `key_columns` : colunas que vão ser utilizadas para fazer a junção das tabelas. Pode ser especifida como\n",
        "  - Uma única string -> só uma coluna é chave, mesmos nomes nas duas tabelas. \n",
        "  - Uma lista de string ou de colunas (col()) -> mais de uma coluna é chave, mesmos nomes nas duas tabelas.\n",
        "  - Com nomes diferentes, é necessário fazer uma especificação do tipo: \n",
        "  `f.col(column1) == f.col(column2)`. Caso existam mais de uma coluna como chave, essas especificações devem ser colocadas em uma lista. \n",
        "- `join_type`: o tipo de join a ser realizado. As opções são: \n",
        "  - `inner (default)`:: INNER JOIN do SQL\n",
        "  - `outer / full / fullouter / full_outer`:: FULL_OUTER JOIN so SQL\n",
        "  - `left / left_outer / left_outer / `:: LEFT JOIN do SQL\n",
        "  - `right / rightouter / right_outer`:: RIGHT JOIN do SQL \n",
        "  - `semi / leftsemi / left_semi`:: realiza um LEFT JOIN do SQL e retorna somente as colunas do DataFrame da esquerda que também estão no DataFrame da Direita. \n",
        "  - `anti / leftanti / left_anti`:: realiza um LEFT JOIN do SQL e retorna somente as colunas do DataFrame da esquerda que não estão no DataFrame da Direita. "
      ]
    },
    {
      "cell_type": "code",
      "execution_count": null,
      "metadata": {
        "colab": {
          "base_uri": "https://localhost:8080/"
        },
        "id": "8l1BBkNRvTcx",
        "outputId": "df9b9823-ff22-4f39-cd6b-f45dc981d0a0"
      },
      "outputs": [
        {
          "output_type": "stream",
          "name": "stdout",
          "text": [
            "+---------+---------+--------------------+--------------------+-------+---------+-------+--------------+--------------------+\n",
            "|   tconst|titleType|        primaryTitle|       originalTitle|isAdult|startYear|endYear|runtimeMinutes|              genres|\n",
            "+---------+---------+--------------------+--------------------+-------+---------+-------+--------------+--------------------+\n",
            "|tt0000001|    short|          Carmencita|          Carmencita|      0|     1894|     \\N|             1|   Documentary,Short|\n",
            "|tt0000002|    short|Le clown et ses c...|Le clown et ses c...|      0|     1892|     \\N|             5|     Animation,Short|\n",
            "|tt0000003|    short|      Pauvre Pierrot|      Pauvre Pierrot|      0|     1892|     \\N|             4|Animation,Comedy,...|\n",
            "|tt0000004|    short|         Un bon bock|         Un bon bock|      0|     1892|     \\N|            12|     Animation,Short|\n",
            "|tt0000005|    short|    Blacksmith Scene|    Blacksmith Scene|      0|     1893|     \\N|             1|        Comedy,Short|\n",
            "|tt0000006|    short|   Chinese Opium Den|   Chinese Opium Den|      0|     1894|     \\N|             1|               Short|\n",
            "|tt0000007|    short|Corbett and Court...|Corbett and Court...|      0|     1894|     \\N|             1|         Short,Sport|\n",
            "|tt0000008|    short|Edison Kinetoscop...|Edison Kinetoscop...|      0|     1894|     \\N|             1|   Documentary,Short|\n",
            "|tt0000009|    short|          Miss Jerry|          Miss Jerry|      0|     1894|     \\N|            40|       Romance,Short|\n",
            "|tt0000010|    short| Leaving the Factory|La sortie de l'us...|      0|     1895|     \\N|             1|   Documentary,Short|\n",
            "|tt0000011|    short|Akrobatisches Pot...|Akrobatisches Pot...|      0|     1895|     \\N|             1|   Documentary,Short|\n",
            "|tt0000012|    short|The Arrival of a ...|L'arrivée d'un tr...|      0|     1896|     \\N|             1|   Documentary,Short|\n",
            "|tt0000013|    short|The Photographica...|Le débarquement d...|      0|     1895|     \\N|             1|   Documentary,Short|\n",
            "|tt0000014|    short| The Waterer Watered|   L'arroseur arrosé|      0|     1895|     \\N|             1|        Comedy,Short|\n",
            "|tt0000015|    short| Autour d'une cabine| Autour d'une cabine|      0|     1894|     \\N|             2|     Animation,Short|\n",
            "|tt0000016|    short|Boat Leaving the ...|Barque sortant du...|      0|     1895|     \\N|             1|   Documentary,Short|\n",
            "|tt0000017|    short|Italienischer Bau...|Italienischer Bau...|      0|     1895|     \\N|             1|   Documentary,Short|\n",
            "|tt0000018|    short|Das boxende Känguruh|Das boxende Känguruh|      0|     1895|     \\N|             1|               Short|\n",
            "|tt0000019|    short|    The Clown Barber|    The Clown Barber|      0|     1898|     \\N|            \\N|        Comedy,Short|\n",
            "|tt0000020|    short|      The Derby 1895|      The Derby 1895|      0|     1895|     \\N|             1|Documentary,Short...|\n",
            "+---------+---------+--------------------+--------------------+-------+---------+-------+--------------+--------------------+\n",
            "only showing top 20 rows\n",
            "\n"
          ]
        }
      ],
      "source": [
        "df_titles.show()"
      ]
    },
    {
      "cell_type": "code",
      "execution_count": null,
      "metadata": {
        "id": "_VPBXCVXg8ML"
      },
      "outputs": [],
      "source": [
        "imdb_path = '/content/drive/MyDrive/igti_bootcamps/eng_dados_cloud/mod3/title_ratings.tsv'"
      ]
    },
    {
      "cell_type": "code",
      "execution_count": null,
      "metadata": {
        "colab": {
          "base_uri": "https://localhost:8080/"
        },
        "id": "IYd6SWVQi76D",
        "outputId": "a7cd68ae-6ab2-4d99-83ee-2a263e8a503e"
      },
      "outputs": [
        {
          "output_type": "stream",
          "name": "stdout",
          "text": [
            "+---------+-------------+--------+\n",
            "|   tconst|averageRating|numVotes|\n",
            "+---------+-------------+--------+\n",
            "|tt0000001|          5.7|    1879|\n",
            "|tt0000002|          5.9|     248|\n",
            "|tt0000003|          6.5|    1652|\n",
            "|tt0000004|          5.8|     161|\n",
            "|tt0000005|          6.2|    2476|\n",
            "+---------+-------------+--------+\n",
            "only showing top 5 rows\n",
            "\n"
          ]
        }
      ],
      "source": [
        "options_dict = {\n",
        "    'sep' : '\\t' , \n",
        "    'header' : 'True'\n",
        "}\n",
        "\n",
        "df_ratings = (\n",
        "      spark.read\n",
        "    .format('csv')\n",
        "    .options(**options_dict)  \n",
        "    .load(imdb_path)\n",
        ")\n",
        "\n",
        "df_ratings.show(5)"
      ]
    },
    {
      "cell_type": "code",
      "execution_count": null,
      "metadata": {
        "colab": {
          "base_uri": "https://localhost:8080/"
        },
        "id": "fFfStqzGjveB",
        "outputId": "017e1000-1327-4f19-c99f-0e164c8bf7ae"
      },
      "outputs": [
        {
          "output_type": "stream",
          "name": "stdout",
          "text": [
            "+---------+---------+--------------------+--------------------+-------+---------+-------+--------------+--------------------+-------------+--------+\n",
            "|   tconst|titleType|        primaryTitle|       originalTitle|isAdult|startYear|endYear|runtimeMinutes|              genres|averageRating|numVotes|\n",
            "+---------+---------+--------------------+--------------------+-------+---------+-------+--------------+--------------------+-------------+--------+\n",
            "|tt0000008|    short|Edison Kinetoscop...|Edison Kinetoscop...|      0|     1894|     \\N|             1|   Documentary,Short|          5.4|    2017|\n",
            "|tt0000015|    short| Autour d'une cabine| Autour d'une cabine|      0|     1894|     \\N|             2|     Animation,Short|          6.2|     994|\n",
            "|tt0000019|    short|    The Clown Barber|    The Clown Barber|      0|     1898|     \\N|            \\N|        Comedy,Short|          5.2|      30|\n",
            "|tt0000051|    short|The Bohemian Enca...|Campement de bohé...|      0|     1896|     \\N|            \\N|   Documentary,Short|          3.8|      33|\n",
            "|tt0000058|    short|Cortège de tzar a...|Cortège de tzar a...|      0|     1896|     \\N|            \\N|   Documentary,Short|          4.3|      31|\n",
            "|tt0000065|    short|Dessinateur: Rein...|Dessinateur: Rein...|      0|     1896|     \\N|            \\N|               Short|          3.6|      27|\n",
            "|tt0000095|    short|The Mysterious Paper|    Le papier protée|      0|     1896|     \\N|            \\N|               Short|          4.8|      33|\n",
            "|tt0000108|    short|Rip Leaving Sleep...|Rip Leaving Sleep...|      0|     1896|     \\N|             1|         Drama,Short|          4.4|     519|\n",
            "|tt0000142|    short|Buffalo Bill and ...|Buffalo Bill and ...|      0|     1897|     \\N|            \\N|          News,Short|          4.7|      28|\n",
            "|tt0000145|    short|           En classe|           En classe|      0|     1897|     \\N|            \\N|        Comedy,Short|          3.9|      13|\n",
            "|tt0000146|    short|Le cocher de fiac...|Le cocher de fiac...|      0|     1897|     \\N|            \\N|        Comedy,Short|          5.1|      26|\n",
            "|tt0000169|    short|Slagsmål i gamla ...|Slagsmål i gamla ...|      0|     1897|     \\N|             1|               Short|          3.8|      45|\n",
            "|tt0000172|    short|     The X-Ray Fiend|     The X-Ray Fiend|      0|     1897|     \\N|             1| Comedy,Horror,Short|          6.1|     853|\n",
            "|tt0000174|    short|Výstavní párkar a...|Výstavní párkar a...|      0|     1898|     \\N|             1|        Comedy,Short|          4.6|     125|\n",
            "|tt0000175|    short|A Sea Cave Near L...|A Sea Cave Near L...|      0|     1896|     \\N|             1|   Documentary,Short|          5.0|     206|\n",
            "|tt0000186|    short|   Le cuirassé Maine|   Le cuirassé Maine|      0|     1898|     \\N|            \\N|           Short,War|          4.2|      21|\n",
            "|tt0000188|    short|        The Deserter|        The Deserter|      0|     1898|     \\N|            \\N|         Drama,Short|          4.0|      11|\n",
            "|tt0000214|    short|Tearing Down the ...|Tearing Down the ...|      0|     1898|     \\N|            \\N|           Short,War|          4.4|      92|\n",
            "|tt0000242|    short|The Sign of the C...|Le diable au couvent|      0|     1899|     \\N|             3|Fantasy,Horror,Short|          6.4|    1134|\n",
            "|tt0000264|    short|Summoning the Spi...|   Évocation spirite|      0|     1899|     \\N|             1|Fantasy,Horror,Short|          5.7|     417|\n",
            "+---------+---------+--------------------+--------------------+-------+---------+-------+--------------+--------------------+-------------+--------+\n",
            "only showing top 20 rows\n",
            "\n"
          ]
        }
      ],
      "source": [
        "(\n",
        "    df_titles\n",
        "    .join(df_ratings, 'tconst')\n",
        "    .show()\n",
        ")"
      ]
    },
    {
      "cell_type": "code",
      "execution_count": null,
      "metadata": {
        "colab": {
          "base_uri": "https://localhost:8080/"
        },
        "id": "1RM3Wm-flvsU",
        "outputId": "5a8de687-e841-4833-aeee-6e9ceadb8b39"
      },
      "outputs": [
        {
          "output_type": "execute_result",
          "data": {
            "text/plain": [
              "1227178"
            ]
          },
          "metadata": {},
          "execution_count": 106
        }
      ],
      "source": [
        "(\n",
        "    df_titles\n",
        "    .join(df_ratings, 'tconst')\n",
        "    .count()\n",
        ")"
      ]
    },
    {
      "cell_type": "code",
      "execution_count": null,
      "metadata": {
        "colab": {
          "base_uri": "https://localhost:8080/"
        },
        "id": "PHGwsrj4l9NM",
        "outputId": "c9013722-f6e5-4d94-fa39-e8cd1d2ba7ee"
      },
      "outputs": [
        {
          "output_type": "stream",
          "name": "stdout",
          "text": [
            "+---------+---------+--------------------+--------------------+-------+---------+-------+--------------+--------------------+-------------+--------+\n",
            "|   tconst|titleType|        primaryTitle|       originalTitle|isAdult|startYear|endYear|runtimeMinutes|              genres|averageRating|numVotes|\n",
            "+---------+---------+--------------------+--------------------+-------+---------+-------+--------------+--------------------+-------------+--------+\n",
            "|tt0000195|    short| Les farces de Jocko| Les farces de Jocko|      0|     1898|     \\N|            \\N|        Comedy,Short|         null|    null|\n",
            "|tt0000212|    short|Saida do Paquete ...|Saida do Paquete ...|      0|     1898|     \\N|            \\N|               Short|         null|    null|\n",
            "|tt0000221|    short|Aspectos da Praia...|Aspectos da Praia...|      0|     1899|     \\N|            \\N|   Documentary,Short|         null|    null|\n",
            "|tt0000267|    short|           L'angélus|           L'angélus|      0|     1900|     \\N|            \\N|               Short|         null|    null|\n",
            "|tt0000305|    short|          L'Habanera|          L'Habanera|      0|     1900|     \\N|            \\N|               Short|         null|    null|\n",
            "|tt0000314|    short|      Leçon de danse|      Leçon de danse|      0|     1900|     \\N|            \\N|               Short|         null|    null|\n",
            "|tt0000372|    short|     Scène d'ivresse|     Scène d'ivresse|      0|     1901|     \\N|            \\N|               Short|         null|    null|\n",
            "|tt0000395|    short|  La fiole enchantée|  La fiole enchantée|      0|     1902|     \\N|            \\N|               Short|         null|    null|\n",
            "|tt0000401|    short|Le marchand de ba...|Le marchand de ba...|      0|     1902|     \\N|            \\N|        Comedy,Short|         null|    null|\n",
            "|tt0000504|    short|Coso y Paseo de S...|Coso y Paseo de S...|      0|     1905|     \\N|            \\N|   Documentary,Short|         null|    null|\n",
            "|tt0000549|    short|En foræring til m...|En foræring til m...|      0|     1906|     \\N|            \\N|               Short|         null|    null|\n",
            "|tt0000579|    short|The Bandit Makes ...|The Bandit Makes ...|      0|     1908|     \\N|            \\N|       Short,Western|         null|    null|\n",
            "|tt0000667|    short|Corrida de toros ...|Corrida de toros ...|      0|     1908|     \\N|             9|Documentary,Short...|         null|    null|\n",
            "|tt0000688|    short|The Flower Girl o...|The Flower Girl o...|      0|     1908|     \\N|            \\N|         Drama,Short|         null|    null|\n",
            "|tt0000703|    short|      Hulda's Lovers|      Hulda's Lovers|      0|     1908|     \\N|            \\N|        Comedy,Short|         null|    null|\n",
            "|tt0000716|    short|   Lonesome Junction|   Lonesome Junction|      0|     1908|     \\N|            \\N|Comedy,Short,Western|         null|    null|\n",
            "|tt0000725|    short|        Mixed Babies|        Mixed Babies|      0|     1908|     \\N|            \\N|        Comedy,Short|         null|    null|\n",
            "|tt0000766|    short|The Stage-Struck ...|The Stage-Struck ...|      0|     1908|     \\N|            \\N|               Short|         null|    null|\n",
            "|tt0000788|    short|    The Yellow Peril|    The Yellow Peril|      0|     1908|     \\N|            \\N|        Comedy,Short|         null|    null|\n",
            "|tt0000810|    short|     The Black Sheep|     The Black Sheep|      0|     1909|     \\N|            \\N|         Drama,Short|         null|    null|\n",
            "+---------+---------+--------------------+--------------------+-------+---------+-------+--------------+--------------------+-------------+--------+\n",
            "only showing top 20 rows\n",
            "\n"
          ]
        }
      ],
      "source": [
        "(\n",
        "    df_titles\n",
        "    .join(df_ratings, 'tconst', 'left')\n",
        "    .filter('averageRating is null')\n",
        "    .show()\n",
        ")"
      ]
    },
    {
      "cell_type": "code",
      "execution_count": null,
      "metadata": {
        "colab": {
          "base_uri": "https://localhost:8080/"
        },
        "id": "0D-7zkvbmSyv",
        "outputId": "d774b0f6-754f-40b6-b641-678debbe9ae1"
      },
      "outputs": [
        {
          "output_type": "stream",
          "name": "stdout",
          "text": [
            "+---------+---------+--------------------+--------------------+-------+---------+-------+--------------+--------------------+---------+-------------+--------+\n",
            "| id_title|titleType|        primaryTitle|       originalTitle|isAdult|startYear|endYear|runtimeMinutes|              genres|   tconst|averageRating|numVotes|\n",
            "+---------+---------+--------------------+--------------------+-------+---------+-------+--------------+--------------------+---------+-------------+--------+\n",
            "|tt0000008|    short|Edison Kinetoscop...|Edison Kinetoscop...|      0|     1894|     \\N|             1|   Documentary,Short|tt0000008|          5.4|    2017|\n",
            "|tt0000015|    short| Autour d'une cabine| Autour d'une cabine|      0|     1894|     \\N|             2|     Animation,Short|tt0000015|          6.2|     994|\n",
            "|tt0000019|    short|    The Clown Barber|    The Clown Barber|      0|     1898|     \\N|            \\N|        Comedy,Short|tt0000019|          5.2|      30|\n",
            "|tt0000051|    short|The Bohemian Enca...|Campement de bohé...|      0|     1896|     \\N|            \\N|   Documentary,Short|tt0000051|          3.8|      33|\n",
            "|tt0000058|    short|Cortège de tzar a...|Cortège de tzar a...|      0|     1896|     \\N|            \\N|   Documentary,Short|tt0000058|          4.3|      31|\n",
            "|tt0000065|    short|Dessinateur: Rein...|Dessinateur: Rein...|      0|     1896|     \\N|            \\N|               Short|tt0000065|          3.6|      27|\n",
            "|tt0000095|    short|The Mysterious Paper|    Le papier protée|      0|     1896|     \\N|            \\N|               Short|tt0000095|          4.8|      33|\n",
            "|tt0000108|    short|Rip Leaving Sleep...|Rip Leaving Sleep...|      0|     1896|     \\N|             1|         Drama,Short|tt0000108|          4.4|     519|\n",
            "|tt0000142|    short|Buffalo Bill and ...|Buffalo Bill and ...|      0|     1897|     \\N|            \\N|          News,Short|tt0000142|          4.7|      28|\n",
            "|tt0000145|    short|           En classe|           En classe|      0|     1897|     \\N|            \\N|        Comedy,Short|tt0000145|          3.9|      13|\n",
            "|tt0000146|    short|Le cocher de fiac...|Le cocher de fiac...|      0|     1897|     \\N|            \\N|        Comedy,Short|tt0000146|          5.1|      26|\n",
            "|tt0000169|    short|Slagsmål i gamla ...|Slagsmål i gamla ...|      0|     1897|     \\N|             1|               Short|tt0000169|          3.8|      45|\n",
            "|tt0000172|    short|     The X-Ray Fiend|     The X-Ray Fiend|      0|     1897|     \\N|             1| Comedy,Horror,Short|tt0000172|          6.1|     853|\n",
            "|tt0000174|    short|Výstavní párkar a...|Výstavní párkar a...|      0|     1898|     \\N|             1|        Comedy,Short|tt0000174|          4.6|     125|\n",
            "|tt0000175|    short|A Sea Cave Near L...|A Sea Cave Near L...|      0|     1896|     \\N|             1|   Documentary,Short|tt0000175|          5.0|     206|\n",
            "|tt0000186|    short|   Le cuirassé Maine|   Le cuirassé Maine|      0|     1898|     \\N|            \\N|           Short,War|tt0000186|          4.2|      21|\n",
            "|tt0000188|    short|        The Deserter|        The Deserter|      0|     1898|     \\N|            \\N|         Drama,Short|tt0000188|          4.0|      11|\n",
            "|tt0000214|    short|Tearing Down the ...|Tearing Down the ...|      0|     1898|     \\N|            \\N|           Short,War|tt0000214|          4.4|      92|\n",
            "|tt0000242|    short|The Sign of the C...|Le diable au couvent|      0|     1899|     \\N|             3|Fantasy,Horror,Short|tt0000242|          6.4|    1134|\n",
            "|tt0000264|    short|Summoning the Spi...|   Évocation spirite|      0|     1899|     \\N|             1|Fantasy,Horror,Short|tt0000264|          5.7|     417|\n",
            "+---------+---------+--------------------+--------------------+-------+---------+-------+--------------+--------------------+---------+-------------+--------+\n",
            "only showing top 20 rows\n",
            "\n"
          ]
        }
      ],
      "source": [
        "(\n",
        "    df_titles\n",
        "    .withColumnRenamed('tconst','id_title')\n",
        "    .join(df_ratings, f.col('tconst') == f.col('id_title'))\n",
        "    .show()\n",
        ")"
      ]
    },
    {
      "cell_type": "code",
      "execution_count": null,
      "metadata": {
        "colab": {
          "base_uri": "https://localhost:8080/"
        },
        "id": "drxXjJfjoIGg",
        "outputId": "7ffa41d2-7c72-49ff-e641-e50e40974591"
      },
      "outputs": [
        {
          "output_type": "stream",
          "name": "stdout",
          "text": [
            "+---------+---------+--------------------+--------------------+-------+---------+-------+--------------+--------------------+---------+-------------+--------+\n",
            "| id_title|titleType|        primaryTitle|       originalTitle|isAdult|startYear|endYear|runtimeMinutes|              genres|   tconst|averageRating|numVotes|\n",
            "+---------+---------+--------------------+--------------------+-------+---------+-------+--------------+--------------------+---------+-------------+--------+\n",
            "|tt0000008|    short|Edison Kinetoscop...|Edison Kinetoscop...|      0|     1894|     \\N|             1|   Documentary,Short|tt0000008|          6.4|    2017|\n",
            "|tt0000015|    short| Autour d'une cabine| Autour d'une cabine|      0|     1894|     \\N|             2|     Animation,Short|tt0000015|          7.2|     994|\n",
            "|tt0000019|    short|    The Clown Barber|    The Clown Barber|      0|     1898|     \\N|            \\N|        Comedy,Short|tt0000019|          6.2|      30|\n",
            "|tt0000051|    short|The Bohemian Enca...|Campement de bohé...|      0|     1896|     \\N|            \\N|   Documentary,Short|tt0000051|          4.8|      33|\n",
            "|tt0000058|    short|Cortège de tzar a...|Cortège de tzar a...|      0|     1896|     \\N|            \\N|   Documentary,Short|tt0000058|          5.3|      31|\n",
            "|tt0000065|    short|Dessinateur: Rein...|Dessinateur: Rein...|      0|     1896|     \\N|            \\N|               Short|tt0000065|          4.6|      27|\n",
            "|tt0000095|    short|The Mysterious Paper|    Le papier protée|      0|     1896|     \\N|            \\N|               Short|tt0000095|          5.8|      33|\n",
            "|tt0000108|    short|Rip Leaving Sleep...|Rip Leaving Sleep...|      0|     1896|     \\N|             1|         Drama,Short|tt0000108|          5.4|     519|\n",
            "|tt0000142|    short|Buffalo Bill and ...|Buffalo Bill and ...|      0|     1897|     \\N|            \\N|          News,Short|tt0000142|          5.7|      28|\n",
            "|tt0000145|    short|           En classe|           En classe|      0|     1897|     \\N|            \\N|        Comedy,Short|tt0000145|          4.9|      13|\n",
            "|tt0000146|    short|Le cocher de fiac...|Le cocher de fiac...|      0|     1897|     \\N|            \\N|        Comedy,Short|tt0000146|          6.1|      26|\n",
            "|tt0000169|    short|Slagsmål i gamla ...|Slagsmål i gamla ...|      0|     1897|     \\N|             1|               Short|tt0000169|          4.8|      45|\n",
            "|tt0000172|    short|     The X-Ray Fiend|     The X-Ray Fiend|      0|     1897|     \\N|             1| Comedy,Horror,Short|tt0000172|          7.1|     853|\n",
            "|tt0000174|    short|Výstavní párkar a...|Výstavní párkar a...|      0|     1898|     \\N|             1|        Comedy,Short|tt0000174|          5.6|     125|\n",
            "|tt0000175|    short|A Sea Cave Near L...|A Sea Cave Near L...|      0|     1896|     \\N|             1|   Documentary,Short|tt0000175|          6.0|     206|\n",
            "|tt0000186|    short|   Le cuirassé Maine|   Le cuirassé Maine|      0|     1898|     \\N|            \\N|           Short,War|tt0000186|          5.2|      21|\n",
            "|tt0000188|    short|        The Deserter|        The Deserter|      0|     1898|     \\N|            \\N|         Drama,Short|tt0000188|          5.0|      11|\n",
            "|tt0000214|    short|Tearing Down the ...|Tearing Down the ...|      0|     1898|     \\N|            \\N|           Short,War|tt0000214|          5.4|      92|\n",
            "|tt0000242|    short|The Sign of the C...|Le diable au couvent|      0|     1899|     \\N|             3|Fantasy,Horror,Short|tt0000242|          7.4|    1134|\n",
            "|tt0000264|    short|Summoning the Spi...|   Évocation spirite|      0|     1899|     \\N|             1|Fantasy,Horror,Short|tt0000264|          6.7|     417|\n",
            "+---------+---------+--------------------+--------------------+-------+---------+-------+--------------+--------------------+---------+-------------+--------+\n",
            "only showing top 20 rows\n",
            "\n"
          ]
        }
      ],
      "source": [
        "(\n",
        "    df_titles\n",
        "    .withColumnRenamed('tconst','id_title')\n",
        "    .join(df_ratings, f.col('tconst') == f.col('id_title'))\n",
        "    .withColumn('averageRating', f.expr('averageRating + 1'))\n",
        "    .show()\n",
        ")"
      ]
    },
    {
      "cell_type": "markdown",
      "metadata": {
        "id": "BOV-6MJwpBv1"
      },
      "source": [
        "### Utilizando semi e anti join"
      ]
    },
    {
      "cell_type": "code",
      "execution_count": null,
      "metadata": {
        "colab": {
          "base_uri": "https://localhost:8080/"
        },
        "id": "-UeIpraUpxm-",
        "outputId": "9912e902-f9ad-4a87-d224-4dca2012ac1e"
      },
      "outputs": [
        {
          "output_type": "execute_result",
          "data": {
            "text/plain": [
              "1242221"
            ]
          },
          "metadata": {},
          "execution_count": 110
        }
      ],
      "source": [
        "df_ratings.select('tconst').distinct().count()"
      ]
    },
    {
      "cell_type": "code",
      "execution_count": null,
      "metadata": {
        "colab": {
          "base_uri": "https://localhost:8080/"
        },
        "id": "iU45WTSbp6p7",
        "outputId": "e82bcff7-ae05-4ca9-b6fa-ba304aec1382"
      },
      "outputs": [
        {
          "output_type": "execute_result",
          "data": {
            "text/plain": [
              "8328316"
            ]
          },
          "metadata": {},
          "execution_count": 111
        }
      ],
      "source": [
        "df_titles.select('tconst').distinct().count()"
      ]
    },
    {
      "cell_type": "code",
      "execution_count": null,
      "metadata": {
        "colab": {
          "base_uri": "https://localhost:8080/"
        },
        "id": "iROJvwprpL25",
        "outputId": "acc04893-b268-41ea-c759-5d38873f1382"
      },
      "outputs": [
        {
          "output_type": "execute_result",
          "data": {
            "text/plain": [
              "1227178"
            ]
          },
          "metadata": {},
          "execution_count": 112
        }
      ],
      "source": [
        "(\n",
        "    df_titles\n",
        "    .join(df_ratings, 'tconst','inner')\n",
        "    .distinct()\n",
        "    .count()\n",
        ")"
      ]
    },
    {
      "cell_type": "code",
      "execution_count": null,
      "metadata": {
        "colab": {
          "base_uri": "https://localhost:8080/"
        },
        "id": "7fGmcOBTsBvS",
        "outputId": "e1fa10cb-3e66-4ca4-95e4-b92c7e8a0e89"
      },
      "outputs": [
        {
          "output_type": "execute_result",
          "data": {
            "text/plain": [
              "1227178"
            ]
          },
          "metadata": {},
          "execution_count": 113
        }
      ],
      "source": [
        "(\n",
        "    df_titles\n",
        "    .join(df_ratings, 'tconst','semi')\n",
        "    .count()\n",
        ")"
      ]
    },
    {
      "cell_type": "code",
      "execution_count": null,
      "metadata": {
        "id": "aq14oIXvsFhK"
      },
      "outputs": [],
      "source": [
        "(\n",
        "    df_titles\n",
        "    .join(df_ratings, 'tconst','left_anti')\n",
        "    .count()\n",
        ")"
      ]
    },
    {
      "cell_type": "code",
      "execution_count": null,
      "metadata": {
        "id": "_pL4BN7RtDuJ"
      },
      "outputs": [],
      "source": [
        "1227178 + 7101138 == df_titles.count()"
      ]
    },
    {
      "cell_type": "markdown",
      "metadata": {
        "id": "Mbm5vlzJtXuo"
      },
      "source": [
        "### **Union** \n",
        "\n",
        "Existem três formas de unir DataFrames no pyspark:\n",
        "\n",
        "- `union() / unionAll()`: empilha os Dataframes, preservando linhas duplicadas. as colunas são unidas por posição, e por isso a ordem delas deve ser a mesma entre os dois DF's. \n",
        "- `unionByname()`: empilha os DataFrames, preservando linhas duplicadas. As colunas são unidas por nome, e por tanto não precisam estar ordenadas da mesma forma.  "
      ]
    },
    {
      "cell_type": "code",
      "execution_count": null,
      "metadata": {
        "id": "RvQxirGWtWdN"
      },
      "outputs": [],
      "source": [
        "df1 = df_titles.sample(fraction = .5)\n",
        "df2 = df_titles.join(df1, ['tconst'], 'anti')"
      ]
    },
    {
      "cell_type": "code",
      "execution_count": null,
      "metadata": {
        "colab": {
          "base_uri": "https://localhost:8080/"
        },
        "id": "wvtdeFLVuTDl",
        "outputId": "a5e05224-34a0-41c8-8646-e3757f9b6f5c"
      },
      "outputs": [
        {
          "output_type": "execute_result",
          "data": {
            "text/plain": [
              "4166563"
            ]
          },
          "metadata": {},
          "execution_count": 127
        }
      ],
      "source": [
        "df1.count()"
      ]
    },
    {
      "cell_type": "code",
      "execution_count": null,
      "metadata": {
        "colab": {
          "base_uri": "https://localhost:8080/"
        },
        "id": "xW4MbrhruUt4",
        "outputId": "214fa62a-a170-4e07-edf4-94b6b70b1344"
      },
      "outputs": [
        {
          "output_type": "execute_result",
          "data": {
            "text/plain": [
              "4161753"
            ]
          },
          "metadata": {},
          "execution_count": 128
        }
      ],
      "source": [
        "df2.count()"
      ]
    },
    {
      "cell_type": "code",
      "execution_count": null,
      "metadata": {
        "colab": {
          "base_uri": "https://localhost:8080/"
        },
        "id": "wnTCIDDRuvXL",
        "outputId": "222cb054-85fc-4812-cc3c-73204f6dbfc7"
      },
      "outputs": [
        {
          "output_type": "execute_result",
          "data": {
            "text/plain": [
              "8328316"
            ]
          },
          "metadata": {},
          "execution_count": 129
        }
      ],
      "source": [
        "df1.union(df2).count()"
      ]
    },
    {
      "cell_type": "code",
      "execution_count": null,
      "metadata": {
        "id": "cnf1SHNUvALc"
      },
      "outputs": [],
      "source": [
        "df3 = df_titles.sample(fraction = 0.05)"
      ]
    },
    {
      "cell_type": "code",
      "execution_count": null,
      "metadata": {
        "colab": {
          "base_uri": "https://localhost:8080/"
        },
        "id": "p-4PRMNzvFat",
        "outputId": "86e09350-8103-4f60-a444-fcd73e95959b"
      },
      "outputs": [
        {
          "output_type": "execute_result",
          "data": {
            "text/plain": [
              "417468"
            ]
          },
          "metadata": {},
          "execution_count": 131
        }
      ],
      "source": [
        "df3.count()"
      ]
    },
    {
      "cell_type": "code",
      "execution_count": null,
      "metadata": {
        "colab": {
          "base_uri": "https://localhost:8080/"
        },
        "id": "MfrsTBqsvMBs",
        "outputId": "76dab6ba-ea26-463e-f35e-cf9ff6b0f14d"
      },
      "outputs": [
        {
          "output_type": "execute_result",
          "data": {
            "text/plain": [
              "834936"
            ]
          },
          "metadata": {},
          "execution_count": 132
        }
      ],
      "source": [
        "df3.union(df3).count()"
      ]
    },
    {
      "cell_type": "code",
      "execution_count": null,
      "metadata": {
        "id": "v3r8jF5HvZh3"
      },
      "outputs": [],
      "source": [
        "df2 = df2.select(df2.columns[::-1])"
      ]
    },
    {
      "cell_type": "code",
      "execution_count": null,
      "metadata": {
        "colab": {
          "base_uri": "https://localhost:8080/"
        },
        "id": "u2xK5pCCvfDH",
        "outputId": "ef9acc89-6921-4f0d-a71b-d899e4ff5d35"
      },
      "outputs": [
        {
          "output_type": "stream",
          "name": "stdout",
          "text": [
            "+--------------------+---------+------------+-------------+-------+--------------------+--------------------+--------------+---------+\n",
            "|              tconst|titleType|primaryTitle|originalTitle|isAdult|           startYear|             endYear|runtimeMinutes|   genres|\n",
            "+--------------------+---------+------------+-------------+-------+--------------------+--------------------+--------------+---------+\n",
            "|       Short,Western|       \\N|          \\N|         1910|      0|A Cowboy's Vindic...|A Cowboy's Vindic...|         short|tt0001170|\n",
            "|      Crime,Thriller|       48|          \\N|         1912|      0|Zigomar contre Ni...|Zigomar contre Ni...|         movie|tt0002588|\n",
            "|                  \\N|       \\N|          \\N|         1913|      0|             Zu spät|             Zu spät|         movie|tt0002591|\n",
            "|     Adventure,Short|       \\N|          \\N|         1913|      0|The Battle for Fr...|The Battle for Fr...|         short|tt0002667|\n",
            "|Comedy,Romance,Short|       \\N|          \\N|         1913|      0|  Knights and Ladies|  Knights and Ladies|         short|tt0003043|\n",
            "|     Animation,Short|       \\N|          \\N|         1913|      0|       Mutt and Jeff|       Mutt and Jeff|         short|tt0003180|\n",
            "|      Short,Thriller|       \\N|          \\N|         1914|      0|His Country's Honour|     The Aviator Spy|         short|tt0003644|\n",
            "|         Drama,Short|       \\N|          \\N|         1914|      0|The City of Darkness|The City of Darkness|         short|tt0003776|\n",
            "|               Drama|       50|          \\N|         1915|      0|         Don Quixote|         Don Quixote|         movie|tt0005209|\n",
            "|               Drama|       \\N|          \\N|         1915|      0|    The Last Concert|    The Last Concert|         movie|tt0005605|\n",
            "|         Documentary|       \\N|          \\N|         1915|      0|Life of American ...|Life of American ...|         movie|tt0005617|\n",
            "|   Adventure,History|       50|          \\N|         1916|      0|     The Captive God|     The Captive God|         movie|tt0006489|\n",
            "|             Fantasy|       67|          \\N|         1916|      0|Hoffmanns Erzählu...|Hoffmanns Erzählu...|         movie|tt0006819|\n",
            "|               Drama|       \\N|          \\N|         1916|      0|The Making of Mad...|The Making of Mad...|         movie|tt0007011|\n",
            "|               Drama|       \\N|          \\N|         1916|      0|           Pendennis|           Pendennis|         movie|tt0007169|\n",
            "|               Drama|       \\N|          \\N|         1915|      0|Whoso Is Without Sin|Whoso Is Without Sin|         movie|tt0007565|\n",
            "|               Drama|       \\N|          \\N|         1917|      0|       Rosie O'Grady|       Rosie O'Grady|         movie|tt0008522|\n",
            "|               Drama|       \\N|          \\N|         1918|      0|      Blue-Eyed Mary|      Blue-Eyed Mary|         movie|tt0008893|\n",
            "|Documentary,Short...|       20|          \\N|         1918|      0| Our Bridge of Ships| Our Bridge of Ships|         short|tt0009461|\n",
            "|Comedy,Drama,Western|       \\N|          \\N|         1919|      0|        God's Outlaw|        God's Outlaw|         movie|tt0010179|\n",
            "+--------------------+---------+------------+-------------+-------+--------------------+--------------------+--------------+---------+\n",
            "only showing top 20 rows\n",
            "\n"
          ]
        }
      ],
      "source": [
        "df1.union(df2).filter('genres rlike \"[0-9]\"').show()"
      ]
    },
    {
      "cell_type": "code",
      "execution_count": null,
      "metadata": {
        "colab": {
          "base_uri": "https://localhost:8080/"
        },
        "id": "mYW9LuZQwYf5",
        "outputId": "f0cbee9e-f906-4d6a-ab3f-4337fc5b1bd8"
      },
      "outputs": [
        {
          "output_type": "stream",
          "name": "stdout",
          "text": [
            "+------+---------+------------+-------------+-------+---------+-------+--------------+------+\n",
            "|tconst|titleType|primaryTitle|originalTitle|isAdult|startYear|endYear|runtimeMinutes|genres|\n",
            "+------+---------+------------+-------------+-------+---------+-------+--------------+------+\n",
            "+------+---------+------------+-------------+-------+---------+-------+--------------+------+\n",
            "\n"
          ]
        }
      ],
      "source": [
        "df1.unionByName(df2).filter('genres rlike \"[0-9]\"').show()"
      ]
    },
    {
      "cell_type": "markdown",
      "source": [
        "# **Aula 4.4**- Manipulando dados com Spark - Parte II"
      ],
      "metadata": {
        "id": "4Hwv6apPeG4h"
      }
    },
    {
      "cell_type": "markdown",
      "source": [
        "## User Defined Functions (UDFs)\n",
        "\n",
        "Em algumas situações é necessário criar/alterar um coluna utilizando uma operação não implementada na biblioteca padrão. Para isso, é possível utilizar funções definidas pelo usuário (UDFs) por meio da função udf().\n",
        "\n",
        "**Importante:** As udfs não são otimizadas para serem executadas em paralelo, e por isso podem representar um gargalo na aplicação. "
      ],
      "metadata": {
        "id": "QPU75IM5elFW"
      }
    },
    {
      "cell_type": "code",
      "source": [
        "pip install unidecode"
      ],
      "metadata": {
        "colab": {
          "base_uri": "https://localhost:8080/"
        },
        "id": "z3CeBkknsLTG",
        "outputId": "b0fc5dec-da23-46e7-bfa1-15002e396f56"
      },
      "execution_count": 9,
      "outputs": [
        {
          "output_type": "stream",
          "name": "stdout",
          "text": [
            "Collecting unidecode\n",
            "  Downloading Unidecode-1.3.4-py3-none-any.whl (235 kB)\n",
            "\u001b[?25l\r\u001b[K     |█▍                              | 10 kB 32.6 MB/s eta 0:00:01\r\u001b[K     |██▉                             | 20 kB 40.5 MB/s eta 0:00:01\r\u001b[K     |████▏                           | 30 kB 43.5 MB/s eta 0:00:01\r\u001b[K     |█████▋                          | 40 kB 13.7 MB/s eta 0:00:01\r\u001b[K     |███████                         | 51 kB 13.0 MB/s eta 0:00:01\r\u001b[K     |████████▍                       | 61 kB 14.7 MB/s eta 0:00:01\r\u001b[K     |█████████▊                      | 71 kB 12.4 MB/s eta 0:00:01\r\u001b[K     |███████████▏                    | 81 kB 13.4 MB/s eta 0:00:01\r\u001b[K     |████████████▌                   | 92 kB 14.9 MB/s eta 0:00:01\r\u001b[K     |██████████████                  | 102 kB 13.4 MB/s eta 0:00:01\r\u001b[K     |███████████████▎                | 112 kB 13.4 MB/s eta 0:00:01\r\u001b[K     |████████████████▊               | 122 kB 13.4 MB/s eta 0:00:01\r\u001b[K     |██████████████████              | 133 kB 13.4 MB/s eta 0:00:01\r\u001b[K     |███████████████████▌            | 143 kB 13.4 MB/s eta 0:00:01\r\u001b[K     |████████████████████▉           | 153 kB 13.4 MB/s eta 0:00:01\r\u001b[K     |██████████████████████▎         | 163 kB 13.4 MB/s eta 0:00:01\r\u001b[K     |███████████████████████▋        | 174 kB 13.4 MB/s eta 0:00:01\r\u001b[K     |█████████████████████████       | 184 kB 13.4 MB/s eta 0:00:01\r\u001b[K     |██████████████████████████▍     | 194 kB 13.4 MB/s eta 0:00:01\r\u001b[K     |███████████████████████████▉    | 204 kB 13.4 MB/s eta 0:00:01\r\u001b[K     |█████████████████████████████▏  | 215 kB 13.4 MB/s eta 0:00:01\r\u001b[K     |██████████████████████████████▋ | 225 kB 13.4 MB/s eta 0:00:01\r\u001b[K     |████████████████████████████████| 235 kB 13.4 MB/s eta 0:00:01\r\u001b[K     |████████████████████████████████| 235 kB 13.4 MB/s \n",
            "\u001b[?25hInstalling collected packages: unidecode\n",
            "Successfully installed unidecode-1.3.4\n"
          ]
        }
      ]
    },
    {
      "cell_type": "code",
      "source": [
        "from unidecode import unidecode\n",
        "from pyspark.sql.types import StringType"
      ],
      "metadata": {
        "id": "yIp5rz_geZZh"
      },
      "execution_count": 10,
      "outputs": []
    },
    {
      "cell_type": "code",
      "source": [
        "unidecode('àáãçéõü')"
      ],
      "metadata": {
        "colab": {
          "base_uri": "https://localhost:8080/",
          "height": 35
        },
        "id": "txMINzAte2gX",
        "outputId": "3a87df27-176b-496a-deb6-006fb125ea22"
      },
      "execution_count": 11,
      "outputs": [
        {
          "output_type": "execute_result",
          "data": {
            "text/plain": [
              "'aaaceou'"
            ],
            "application/vnd.google.colaboratory.intrinsic+json": {
              "type": "string"
            }
          },
          "metadata": {},
          "execution_count": 11
        }
      ]
    },
    {
      "cell_type": "code",
      "source": [
        "def unidecode_function(string) :\n",
        "    if not string :\n",
        "      return None\n",
        "    else :\n",
        "      return unidecode(string)\n",
        "\n",
        "unidecode_udf = f.udf(unidecode_function, returnType=StringType())"
      ],
      "metadata": {
        "id": "D_nDUA7GorVa"
      },
      "execution_count": 14,
      "outputs": []
    },
    {
      "cell_type": "code",
      "source": [
        "(\n",
        "    df_titles\n",
        "    .filter(f.col('primaryTitle').rlike('à|á|ã|ç|é|õ|ü|ó'))\n",
        "    .withColumn('cleaned_string', unidecode_udf(f.col('primaryTitle')))\n",
        "    .select('primaryTitle','cleaned_string')\n",
        "    .toPandas()\n",
        "    #.show(5)\n",
        ")"
      ],
      "metadata": {
        "id": "9qIpwVuOqC_b",
        "colab": {
          "base_uri": "https://localhost:8080/",
          "height": 424
        },
        "outputId": "c1e6f619-b252-452c-ae65-b9448598e314"
      },
      "execution_count": 16,
      "outputs": [
        {
          "output_type": "execute_result",
          "data": {
            "text/plain": [
              "                                             primaryTitle  \\\n",
              "0                    Arrivée d'un train gare de Vincennes   \n",
              "1                                       Batteuse à vapeur   \n",
              "2                                       Bébé et fillettes   \n",
              "3       A Chegada do Comboio Inaugural à Estação Centr...   \n",
              "4                     Cortège de tzar allant à Versailles   \n",
              "...                                                   ...   \n",
              "190780  De la ilusión al desconcierto: cine colombiano...   \n",
              "190781                       La face cachée du mentalisme   \n",
              "190782            Développement personnel: pensez positif   \n",
              "190783                         De Volta à Era Disco Music   \n",
              "190784                     Chico Albuquerque - Revelações   \n",
              "\n",
              "                                           cleaned_string  \n",
              "0                    Arrivee d'un train gare de Vincennes  \n",
              "1                                       Batteuse a vapeur  \n",
              "2                                       Bebe et fillettes  \n",
              "3       A Chegada do Comboio Inaugural a Estacao Centr...  \n",
              "4                     Cortege de tzar allant a Versailles  \n",
              "...                                                   ...  \n",
              "190780  De la ilusion al desconcierto: cine colombiano...  \n",
              "190781                       La face cachee du mentalisme  \n",
              "190782            Developpement personnel: pensez positif  \n",
              "190783                         De Volta a Era Disco Music  \n",
              "190784                     Chico Albuquerque - Revelacoes  \n",
              "\n",
              "[190785 rows x 2 columns]"
            ],
            "text/html": [
              "\n",
              "  <div id=\"df-1b4a8545-0fad-4d99-85a8-f60a52ca9415\">\n",
              "    <div class=\"colab-df-container\">\n",
              "      <div>\n",
              "<style scoped>\n",
              "    .dataframe tbody tr th:only-of-type {\n",
              "        vertical-align: middle;\n",
              "    }\n",
              "\n",
              "    .dataframe tbody tr th {\n",
              "        vertical-align: top;\n",
              "    }\n",
              "\n",
              "    .dataframe thead th {\n",
              "        text-align: right;\n",
              "    }\n",
              "</style>\n",
              "<table border=\"1\" class=\"dataframe\">\n",
              "  <thead>\n",
              "    <tr style=\"text-align: right;\">\n",
              "      <th></th>\n",
              "      <th>primaryTitle</th>\n",
              "      <th>cleaned_string</th>\n",
              "    </tr>\n",
              "  </thead>\n",
              "  <tbody>\n",
              "    <tr>\n",
              "      <th>0</th>\n",
              "      <td>Arrivée d'un train gare de Vincennes</td>\n",
              "      <td>Arrivee d'un train gare de Vincennes</td>\n",
              "    </tr>\n",
              "    <tr>\n",
              "      <th>1</th>\n",
              "      <td>Batteuse à vapeur</td>\n",
              "      <td>Batteuse a vapeur</td>\n",
              "    </tr>\n",
              "    <tr>\n",
              "      <th>2</th>\n",
              "      <td>Bébé et fillettes</td>\n",
              "      <td>Bebe et fillettes</td>\n",
              "    </tr>\n",
              "    <tr>\n",
              "      <th>3</th>\n",
              "      <td>A Chegada do Comboio Inaugural à Estação Centr...</td>\n",
              "      <td>A Chegada do Comboio Inaugural a Estacao Centr...</td>\n",
              "    </tr>\n",
              "    <tr>\n",
              "      <th>4</th>\n",
              "      <td>Cortège de tzar allant à Versailles</td>\n",
              "      <td>Cortege de tzar allant a Versailles</td>\n",
              "    </tr>\n",
              "    <tr>\n",
              "      <th>...</th>\n",
              "      <td>...</td>\n",
              "      <td>...</td>\n",
              "    </tr>\n",
              "    <tr>\n",
              "      <th>190780</th>\n",
              "      <td>De la ilusión al desconcierto: cine colombiano...</td>\n",
              "      <td>De la ilusion al desconcierto: cine colombiano...</td>\n",
              "    </tr>\n",
              "    <tr>\n",
              "      <th>190781</th>\n",
              "      <td>La face cachée du mentalisme</td>\n",
              "      <td>La face cachee du mentalisme</td>\n",
              "    </tr>\n",
              "    <tr>\n",
              "      <th>190782</th>\n",
              "      <td>Développement personnel: pensez positif</td>\n",
              "      <td>Developpement personnel: pensez positif</td>\n",
              "    </tr>\n",
              "    <tr>\n",
              "      <th>190783</th>\n",
              "      <td>De Volta à Era Disco Music</td>\n",
              "      <td>De Volta a Era Disco Music</td>\n",
              "    </tr>\n",
              "    <tr>\n",
              "      <th>190784</th>\n",
              "      <td>Chico Albuquerque - Revelações</td>\n",
              "      <td>Chico Albuquerque - Revelacoes</td>\n",
              "    </tr>\n",
              "  </tbody>\n",
              "</table>\n",
              "<p>190785 rows × 2 columns</p>\n",
              "</div>\n",
              "      <button class=\"colab-df-convert\" onclick=\"convertToInteractive('df-1b4a8545-0fad-4d99-85a8-f60a52ca9415')\"\n",
              "              title=\"Convert this dataframe to an interactive table.\"\n",
              "              style=\"display:none;\">\n",
              "        \n",
              "  <svg xmlns=\"http://www.w3.org/2000/svg\" height=\"24px\"viewBox=\"0 0 24 24\"\n",
              "       width=\"24px\">\n",
              "    <path d=\"M0 0h24v24H0V0z\" fill=\"none\"/>\n",
              "    <path d=\"M18.56 5.44l.94 2.06.94-2.06 2.06-.94-2.06-.94-.94-2.06-.94 2.06-2.06.94zm-11 1L8.5 8.5l.94-2.06 2.06-.94-2.06-.94L8.5 2.5l-.94 2.06-2.06.94zm10 10l.94 2.06.94-2.06 2.06-.94-2.06-.94-.94-2.06-.94 2.06-2.06.94z\"/><path d=\"M17.41 7.96l-1.37-1.37c-.4-.4-.92-.59-1.43-.59-.52 0-1.04.2-1.43.59L10.3 9.45l-7.72 7.72c-.78.78-.78 2.05 0 2.83L4 21.41c.39.39.9.59 1.41.59.51 0 1.02-.2 1.41-.59l7.78-7.78 2.81-2.81c.8-.78.8-2.07 0-2.86zM5.41 20L4 18.59l7.72-7.72 1.47 1.35L5.41 20z\"/>\n",
              "  </svg>\n",
              "      </button>\n",
              "      \n",
              "  <style>\n",
              "    .colab-df-container {\n",
              "      display:flex;\n",
              "      flex-wrap:wrap;\n",
              "      gap: 12px;\n",
              "    }\n",
              "\n",
              "    .colab-df-convert {\n",
              "      background-color: #E8F0FE;\n",
              "      border: none;\n",
              "      border-radius: 50%;\n",
              "      cursor: pointer;\n",
              "      display: none;\n",
              "      fill: #1967D2;\n",
              "      height: 32px;\n",
              "      padding: 0 0 0 0;\n",
              "      width: 32px;\n",
              "    }\n",
              "\n",
              "    .colab-df-convert:hover {\n",
              "      background-color: #E2EBFA;\n",
              "      box-shadow: 0px 1px 2px rgba(60, 64, 67, 0.3), 0px 1px 3px 1px rgba(60, 64, 67, 0.15);\n",
              "      fill: #174EA6;\n",
              "    }\n",
              "\n",
              "    [theme=dark] .colab-df-convert {\n",
              "      background-color: #3B4455;\n",
              "      fill: #D2E3FC;\n",
              "    }\n",
              "\n",
              "    [theme=dark] .colab-df-convert:hover {\n",
              "      background-color: #434B5C;\n",
              "      box-shadow: 0px 1px 3px 1px rgba(0, 0, 0, 0.15);\n",
              "      filter: drop-shadow(0px 1px 2px rgba(0, 0, 0, 0.3));\n",
              "      fill: #FFFFFF;\n",
              "    }\n",
              "  </style>\n",
              "\n",
              "      <script>\n",
              "        const buttonEl =\n",
              "          document.querySelector('#df-1b4a8545-0fad-4d99-85a8-f60a52ca9415 button.colab-df-convert');\n",
              "        buttonEl.style.display =\n",
              "          google.colab.kernel.accessAllowed ? 'block' : 'none';\n",
              "\n",
              "        async function convertToInteractive(key) {\n",
              "          const element = document.querySelector('#df-1b4a8545-0fad-4d99-85a8-f60a52ca9415');\n",
              "          const dataTable =\n",
              "            await google.colab.kernel.invokeFunction('convertToInteractive',\n",
              "                                                     [key], {});\n",
              "          if (!dataTable) return;\n",
              "\n",
              "          const docLinkHtml = 'Like what you see? Visit the ' +\n",
              "            '<a target=\"_blank\" href=https://colab.research.google.com/notebooks/data_table.ipynb>data table notebook</a>'\n",
              "            + ' to learn more about interactive tables.';\n",
              "          element.innerHTML = '';\n",
              "          dataTable['output_type'] = 'display_data';\n",
              "          await google.colab.output.renderOutput(dataTable, element);\n",
              "          const docLink = document.createElement('div');\n",
              "          docLink.innerHTML = docLinkHtml;\n",
              "          element.appendChild(docLink);\n",
              "        }\n",
              "      </script>\n",
              "    </div>\n",
              "  </div>\n",
              "  "
            ]
          },
          "metadata": {},
          "execution_count": 16
        }
      ]
    },
    {
      "cell_type": "code",
      "source": [
        "del unidecode_udf"
      ],
      "metadata": {
        "id": "z7isCmEEiI9K"
      },
      "execution_count": 17,
      "outputs": []
    },
    {
      "cell_type": "code",
      "source": [
        "@f.udf(returnType=StringType()) \n",
        "def unidecode_udf(string) :\n",
        "    if not string :\n",
        "      return None\n",
        "    else :\n",
        "      return unidecode(string)"
      ],
      "metadata": {
        "id": "-WnwVNcpiW0B"
      },
      "execution_count": 21,
      "outputs": []
    },
    {
      "cell_type": "code",
      "source": [
        "(\n",
        "    df_titles\n",
        "    .filter(f.col('primaryTitle').rlike('à|á|ã|ç|é|õ|ü|ó'))\n",
        "    .withColumn('cleaned_string', unidecode_udf(f.col('primaryTitle')))\n",
        "    .select('primaryTitle','cleaned_string')\n",
        "    .limit(10)\n",
        "    .toPandas()\n",
        "    #.show(5)\n",
        ")"
      ],
      "metadata": {
        "colab": {
          "base_uri": "https://localhost:8080/",
          "height": 363
        },
        "id": "Tuwn60xYjIAW",
        "outputId": "45f1b8b8-9abc-4d89-fd0d-ba03acb40cf2"
      },
      "execution_count": 23,
      "outputs": [
        {
          "output_type": "execute_result",
          "data": {
            "text/plain": [
              "                                        primaryTitle  \\\n",
              "0               Arrivée d'un train gare de Vincennes   \n",
              "1                                  Batteuse à vapeur   \n",
              "2                                  Bébé et fillettes   \n",
              "3  A Chegada do Comboio Inaugural à Estação Centr...   \n",
              "4                Cortège de tzar allant à Versailles   \n",
              "5                        Libération des territoriaux   \n",
              "6                    Marée montante sur Brise-Larmes   \n",
              "7                       Place de l'Opéra, First View   \n",
              "8                      Place de l'Opéra, Second View   \n",
              "9                          Place du théâtre français   \n",
              "\n",
              "                                      cleaned_string  \n",
              "0               Arrivee d'un train gare de Vincennes  \n",
              "1                                  Batteuse a vapeur  \n",
              "2                                  Bebe et fillettes  \n",
              "3  A Chegada do Comboio Inaugural a Estacao Centr...  \n",
              "4                Cortege de tzar allant a Versailles  \n",
              "5                        Liberation des territoriaux  \n",
              "6                    Maree montante sur Brise-Larmes  \n",
              "7                       Place de l'Opera, First View  \n",
              "8                      Place de l'Opera, Second View  \n",
              "9                          Place du theatre francais  "
            ],
            "text/html": [
              "\n",
              "  <div id=\"df-64ff7e66-fb98-4dac-aaad-14996231b435\">\n",
              "    <div class=\"colab-df-container\">\n",
              "      <div>\n",
              "<style scoped>\n",
              "    .dataframe tbody tr th:only-of-type {\n",
              "        vertical-align: middle;\n",
              "    }\n",
              "\n",
              "    .dataframe tbody tr th {\n",
              "        vertical-align: top;\n",
              "    }\n",
              "\n",
              "    .dataframe thead th {\n",
              "        text-align: right;\n",
              "    }\n",
              "</style>\n",
              "<table border=\"1\" class=\"dataframe\">\n",
              "  <thead>\n",
              "    <tr style=\"text-align: right;\">\n",
              "      <th></th>\n",
              "      <th>primaryTitle</th>\n",
              "      <th>cleaned_string</th>\n",
              "    </tr>\n",
              "  </thead>\n",
              "  <tbody>\n",
              "    <tr>\n",
              "      <th>0</th>\n",
              "      <td>Arrivée d'un train gare de Vincennes</td>\n",
              "      <td>Arrivee d'un train gare de Vincennes</td>\n",
              "    </tr>\n",
              "    <tr>\n",
              "      <th>1</th>\n",
              "      <td>Batteuse à vapeur</td>\n",
              "      <td>Batteuse a vapeur</td>\n",
              "    </tr>\n",
              "    <tr>\n",
              "      <th>2</th>\n",
              "      <td>Bébé et fillettes</td>\n",
              "      <td>Bebe et fillettes</td>\n",
              "    </tr>\n",
              "    <tr>\n",
              "      <th>3</th>\n",
              "      <td>A Chegada do Comboio Inaugural à Estação Centr...</td>\n",
              "      <td>A Chegada do Comboio Inaugural a Estacao Centr...</td>\n",
              "    </tr>\n",
              "    <tr>\n",
              "      <th>4</th>\n",
              "      <td>Cortège de tzar allant à Versailles</td>\n",
              "      <td>Cortege de tzar allant a Versailles</td>\n",
              "    </tr>\n",
              "    <tr>\n",
              "      <th>5</th>\n",
              "      <td>Libération des territoriaux</td>\n",
              "      <td>Liberation des territoriaux</td>\n",
              "    </tr>\n",
              "    <tr>\n",
              "      <th>6</th>\n",
              "      <td>Marée montante sur Brise-Larmes</td>\n",
              "      <td>Maree montante sur Brise-Larmes</td>\n",
              "    </tr>\n",
              "    <tr>\n",
              "      <th>7</th>\n",
              "      <td>Place de l'Opéra, First View</td>\n",
              "      <td>Place de l'Opera, First View</td>\n",
              "    </tr>\n",
              "    <tr>\n",
              "      <th>8</th>\n",
              "      <td>Place de l'Opéra, Second View</td>\n",
              "      <td>Place de l'Opera, Second View</td>\n",
              "    </tr>\n",
              "    <tr>\n",
              "      <th>9</th>\n",
              "      <td>Place du théâtre français</td>\n",
              "      <td>Place du theatre francais</td>\n",
              "    </tr>\n",
              "  </tbody>\n",
              "</table>\n",
              "</div>\n",
              "      <button class=\"colab-df-convert\" onclick=\"convertToInteractive('df-64ff7e66-fb98-4dac-aaad-14996231b435')\"\n",
              "              title=\"Convert this dataframe to an interactive table.\"\n",
              "              style=\"display:none;\">\n",
              "        \n",
              "  <svg xmlns=\"http://www.w3.org/2000/svg\" height=\"24px\"viewBox=\"0 0 24 24\"\n",
              "       width=\"24px\">\n",
              "    <path d=\"M0 0h24v24H0V0z\" fill=\"none\"/>\n",
              "    <path d=\"M18.56 5.44l.94 2.06.94-2.06 2.06-.94-2.06-.94-.94-2.06-.94 2.06-2.06.94zm-11 1L8.5 8.5l.94-2.06 2.06-.94-2.06-.94L8.5 2.5l-.94 2.06-2.06.94zm10 10l.94 2.06.94-2.06 2.06-.94-2.06-.94-.94-2.06-.94 2.06-2.06.94z\"/><path d=\"M17.41 7.96l-1.37-1.37c-.4-.4-.92-.59-1.43-.59-.52 0-1.04.2-1.43.59L10.3 9.45l-7.72 7.72c-.78.78-.78 2.05 0 2.83L4 21.41c.39.39.9.59 1.41.59.51 0 1.02-.2 1.41-.59l7.78-7.78 2.81-2.81c.8-.78.8-2.07 0-2.86zM5.41 20L4 18.59l7.72-7.72 1.47 1.35L5.41 20z\"/>\n",
              "  </svg>\n",
              "      </button>\n",
              "      \n",
              "  <style>\n",
              "    .colab-df-container {\n",
              "      display:flex;\n",
              "      flex-wrap:wrap;\n",
              "      gap: 12px;\n",
              "    }\n",
              "\n",
              "    .colab-df-convert {\n",
              "      background-color: #E8F0FE;\n",
              "      border: none;\n",
              "      border-radius: 50%;\n",
              "      cursor: pointer;\n",
              "      display: none;\n",
              "      fill: #1967D2;\n",
              "      height: 32px;\n",
              "      padding: 0 0 0 0;\n",
              "      width: 32px;\n",
              "    }\n",
              "\n",
              "    .colab-df-convert:hover {\n",
              "      background-color: #E2EBFA;\n",
              "      box-shadow: 0px 1px 2px rgba(60, 64, 67, 0.3), 0px 1px 3px 1px rgba(60, 64, 67, 0.15);\n",
              "      fill: #174EA6;\n",
              "    }\n",
              "\n",
              "    [theme=dark] .colab-df-convert {\n",
              "      background-color: #3B4455;\n",
              "      fill: #D2E3FC;\n",
              "    }\n",
              "\n",
              "    [theme=dark] .colab-df-convert:hover {\n",
              "      background-color: #434B5C;\n",
              "      box-shadow: 0px 1px 3px 1px rgba(0, 0, 0, 0.15);\n",
              "      filter: drop-shadow(0px 1px 2px rgba(0, 0, 0, 0.3));\n",
              "      fill: #FFFFFF;\n",
              "    }\n",
              "  </style>\n",
              "\n",
              "      <script>\n",
              "        const buttonEl =\n",
              "          document.querySelector('#df-64ff7e66-fb98-4dac-aaad-14996231b435 button.colab-df-convert');\n",
              "        buttonEl.style.display =\n",
              "          google.colab.kernel.accessAllowed ? 'block' : 'none';\n",
              "\n",
              "        async function convertToInteractive(key) {\n",
              "          const element = document.querySelector('#df-64ff7e66-fb98-4dac-aaad-14996231b435');\n",
              "          const dataTable =\n",
              "            await google.colab.kernel.invokeFunction('convertToInteractive',\n",
              "                                                     [key], {});\n",
              "          if (!dataTable) return;\n",
              "\n",
              "          const docLinkHtml = 'Like what you see? Visit the ' +\n",
              "            '<a target=\"_blank\" href=https://colab.research.google.com/notebooks/data_table.ipynb>data table notebook</a>'\n",
              "            + ' to learn more about interactive tables.';\n",
              "          element.innerHTML = '';\n",
              "          dataTable['output_type'] = 'display_data';\n",
              "          await google.colab.output.renderOutput(dataTable, element);\n",
              "          const docLink = document.createElement('div');\n",
              "          docLink.innerHTML = docLinkHtml;\n",
              "          element.appendChild(docLink);\n",
              "        }\n",
              "      </script>\n",
              "    </div>\n",
              "  </div>\n",
              "  "
            ]
          },
          "metadata": {},
          "execution_count": 23
        }
      ]
    },
    {
      "cell_type": "markdown",
      "source": [
        "## **Criando Métodos Customizados**"
      ],
      "metadata": {
        "id": "K1MQaHZujXAI"
      }
    },
    {
      "cell_type": "markdown",
      "source": [
        "Em algumas situações, é interessante que realizemos uma operação sobre um DataFrame que não está implementada. Além disso, pode ser que seja necessário\n",
        "utilizar esse operação de forma encadeada. \n",
        "\n",
        "Para resolver esse problema, podemos utilizar o método `.transform()`. Funciona da seguinte maneira : \n",
        "\n",
        "1) Definir uma função python da seguinte forma: \n",
        "\n",
        "```\n",
        "  def f(args):\n",
        "    def _(df):\n",
        "      {operações sob o DataFrame}\n",
        "      return_df\n",
        "    return _\n",
        "```\n",
        "2) Depois de definida a função, ela pode ser chamada da seguinte forma:\n",
        "\n",
        "    df.transform(f(args))"
      ],
      "metadata": {
        "id": "4FlZVSwbjgzV"
      }
    },
    {
      "cell_type": "code",
      "source": [
        "def renamer(dict):\n",
        "  def _(df):\n",
        "    for c,n in dict.items():\n",
        "      df = df.withColumnRenamed(c,n)\n",
        "    return df\n",
        "  return _"
      ],
      "metadata": {
        "id": "I6djVxRzjU50"
      },
      "execution_count": 27,
      "outputs": []
    },
    {
      "cell_type": "code",
      "source": [
        "df_titles.limit(5).show()"
      ],
      "metadata": {
        "colab": {
          "base_uri": "https://localhost:8080/"
        },
        "id": "LWxrHgZUnFZk",
        "outputId": "99c269b6-7455-406a-bf6f-2cb81bd65d25"
      },
      "execution_count": 28,
      "outputs": [
        {
          "output_type": "stream",
          "name": "stdout",
          "text": [
            "+---------+---------+--------------------+--------------------+-------+---------+-------+--------------+--------------------+\n",
            "|   tconst|titleType|        primaryTitle|       originalTitle|isAdult|startYear|endYear|runtimeMinutes|              genres|\n",
            "+---------+---------+--------------------+--------------------+-------+---------+-------+--------------+--------------------+\n",
            "|tt0000001|    short|          Carmencita|          Carmencita|      0|     1894|     \\N|             1|   Documentary,Short|\n",
            "|tt0000002|    short|Le clown et ses c...|Le clown et ses c...|      0|     1892|     \\N|             5|     Animation,Short|\n",
            "|tt0000003|    short|      Pauvre Pierrot|      Pauvre Pierrot|      0|     1892|     \\N|             4|Animation,Comedy,...|\n",
            "|tt0000004|    short|         Un bon bock|         Un bon bock|      0|     1892|     \\N|            12|     Animation,Short|\n",
            "|tt0000005|    short|    Blacksmith Scene|    Blacksmith Scene|      0|     1893|     \\N|             1|        Comedy,Short|\n",
            "+---------+---------+--------------------+--------------------+-------+---------+-------+--------------+--------------------+\n",
            "\n"
          ]
        }
      ]
    },
    {
      "cell_type": "code",
      "source": [
        "rename_dict = {\n",
        "    \"tconst\" : \"id_title\",\n",
        "    \"titleType\" : \"tipo_title\",\n",
        "    \"primaryTitle\" : \"nome_primario\",\n",
        "    \"originalTitle\" : \"nome_original\",\n",
        "    \"isAdult\" : \"idc_adult_title\",\n",
        "    \"startYear\" : \"ano_lancamento\",\n",
        "    \"endYear\" : \"ano_encerramento\",\n",
        "    \"runtimeMinutes\" : \"duracao_minutos\",\n",
        "    \"genres\" : \"generos\",\n",
        "}\n",
        "\n",
        "(\n",
        "    df_titles\n",
        "    .transform(renamer(rename_dict))\n",
        "    .show()\n",
        ")"
      ],
      "metadata": {
        "colab": {
          "base_uri": "https://localhost:8080/"
        },
        "id": "CR4gn_yQnRd7",
        "outputId": "5ca182a0-4de0-46dc-fe69-6c5be2de0662"
      },
      "execution_count": 29,
      "outputs": [
        {
          "output_type": "stream",
          "name": "stdout",
          "text": [
            "+---------+----------+--------------------+--------------------+---------------+--------------+----------------+---------------+--------------------+\n",
            "| id_title|tipo_title|       nome_primario|       nome_original|idc_adult_title|ano_lancamento|ano_encerramento|duracao_minutos|             generos|\n",
            "+---------+----------+--------------------+--------------------+---------------+--------------+----------------+---------------+--------------------+\n",
            "|tt0000001|     short|          Carmencita|          Carmencita|              0|          1894|              \\N|              1|   Documentary,Short|\n",
            "|tt0000002|     short|Le clown et ses c...|Le clown et ses c...|              0|          1892|              \\N|              5|     Animation,Short|\n",
            "|tt0000003|     short|      Pauvre Pierrot|      Pauvre Pierrot|              0|          1892|              \\N|              4|Animation,Comedy,...|\n",
            "|tt0000004|     short|         Un bon bock|         Un bon bock|              0|          1892|              \\N|             12|     Animation,Short|\n",
            "|tt0000005|     short|    Blacksmith Scene|    Blacksmith Scene|              0|          1893|              \\N|              1|        Comedy,Short|\n",
            "|tt0000006|     short|   Chinese Opium Den|   Chinese Opium Den|              0|          1894|              \\N|              1|               Short|\n",
            "|tt0000007|     short|Corbett and Court...|Corbett and Court...|              0|          1894|              \\N|              1|         Short,Sport|\n",
            "|tt0000008|     short|Edison Kinetoscop...|Edison Kinetoscop...|              0|          1894|              \\N|              1|   Documentary,Short|\n",
            "|tt0000009|     short|          Miss Jerry|          Miss Jerry|              0|          1894|              \\N|             40|       Romance,Short|\n",
            "|tt0000010|     short| Leaving the Factory|La sortie de l'us...|              0|          1895|              \\N|              1|   Documentary,Short|\n",
            "|tt0000011|     short|Akrobatisches Pot...|Akrobatisches Pot...|              0|          1895|              \\N|              1|   Documentary,Short|\n",
            "|tt0000012|     short|The Arrival of a ...|L'arrivée d'un tr...|              0|          1896|              \\N|              1|   Documentary,Short|\n",
            "|tt0000013|     short|The Photographica...|Le débarquement d...|              0|          1895|              \\N|              1|   Documentary,Short|\n",
            "|tt0000014|     short| The Waterer Watered|   L'arroseur arrosé|              0|          1895|              \\N|              1|        Comedy,Short|\n",
            "|tt0000015|     short| Autour d'une cabine| Autour d'une cabine|              0|          1894|              \\N|              2|     Animation,Short|\n",
            "|tt0000016|     short|Boat Leaving the ...|Barque sortant du...|              0|          1895|              \\N|              1|   Documentary,Short|\n",
            "|tt0000017|     short|Italienischer Bau...|Italienischer Bau...|              0|          1895|              \\N|              1|   Documentary,Short|\n",
            "|tt0000018|     short|Das boxende Känguruh|Das boxende Känguruh|              0|          1895|              \\N|              1|               Short|\n",
            "|tt0000019|     short|    The Clown Barber|    The Clown Barber|              0|          1898|              \\N|             \\N|        Comedy,Short|\n",
            "|tt0000020|     short|      The Derby 1895|      The Derby 1895|              0|          1895|              \\N|              1|Documentary,Short...|\n",
            "+---------+----------+--------------------+--------------------+---------------+--------------+----------------+---------------+--------------------+\n",
            "only showing top 20 rows\n",
            "\n"
          ]
        }
      ]
    },
    {
      "cell_type": "code",
      "source": [
        "# metódo mais antigo\n",
        "from pyspark.sql import dataframe\n",
        "\n",
        "def transform(self, f):\n",
        "  return f(self)\n",
        "\n",
        "df_titles.transform = transform"
      ],
      "metadata": {
        "id": "eYgyYbgRol2q"
      },
      "execution_count": 31,
      "outputs": []
    }
  ],
  "metadata": {
    "colab": {
      "collapsed_sections": [],
      "name": "EDC_cap3.ipynb",
      "toc_visible": true,
      "provenance": []
    },
    "kernelspec": {
      "display_name": "Python 3",
      "name": "python3"
    },
    "language_info": {
      "name": "python"
    }
  },
  "nbformat": 4,
  "nbformat_minor": 0
}