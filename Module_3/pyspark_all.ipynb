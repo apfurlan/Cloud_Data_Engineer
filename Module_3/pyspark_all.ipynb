{
  "nbformat": 4,
  "nbformat_minor": 0,
  "metadata": {
    "colab": {
      "name": "EDC_cap3.ipynb",
      "provenance": [],
      "toc_visible": true,
      "collapsed_sections": []
    },
    "kernelspec": {
      "name": "python3",
      "display_name": "Python 3"
    },
    "language_info": {
      "name": "python"
    }
  },
  "cells": [
    {
      "cell_type": "markdown",
      "metadata": {
        "id": "ZYQOAaUMcZaK"
      },
      "source": [
        "# **Módulo 3 - Manipulando dados com Spark - Parte I**\n",
        "\n",
        "## **Importando bibliotecas do Spark**"
      ]
    },
    {
      "cell_type": "code",
      "metadata": {
        "id": "-UnIpb1plxFh"
      },
      "source": [
        "%%bash\n",
        "\n",
        "# Instal Java\n",
        "apt-get install openjdk-8-jdk-headless -qq > /dev/null\n",
        "\n",
        "# Install PySpark\n",
        "pip install -q pyspark"
      ],
      "execution_count": 1,
      "outputs": []
    },
    {
      "cell_type": "code",
      "metadata": {
        "id": "_w5Uk758dqZv"
      },
      "source": [
        "import os\n",
        "os.environ['JAVA_HOME'] = '/usr/lib/jvm/java-8-openjdk-amd64'\n",
        "\n",
        "from pyspark.sql import SparkSession\n",
        "\n",
        "spark = SparkSession.builder.master(\"local[*]\").getOrCreate()"
      ],
      "execution_count": 2,
      "outputs": []
    },
    {
      "cell_type": "markdown",
      "metadata": {
        "id": "8skAk9tlAFqr"
      },
      "source": [
        "**OBS :** A preparação do ambiente não é igual ao da aula porque estou fazendo \n",
        "o exercício no Google Colab. "
      ]
    },
    {
      "cell_type": "code",
      "metadata": {
        "id": "rcGWi-Is_bwi"
      },
      "source": [
        "df = spark.createDataFrame([('Fulano','1'),\n",
        "                            ('Ciclano','2')], \n",
        "                           schema='nome STRING, id STRING')"
      ],
      "execution_count": null,
      "outputs": []
    },
    {
      "cell_type": "code",
      "metadata": {
        "colab": {
          "base_uri": "https://localhost:8080/"
        },
        "id": "XOzcRlzV_-7j",
        "outputId": "089ae1e9-9a8f-47b4-998a-e61ebb150ed1"
      },
      "source": [
        "df.show()"
      ],
      "execution_count": null,
      "outputs": [
        {
          "output_type": "stream",
          "name": "stdout",
          "text": [
            "+-------+---+\n",
            "|   nome| id|\n",
            "+-------+---+\n",
            "| Fulano|  1|\n",
            "|Ciclano|  2|\n",
            "+-------+---+\n",
            "\n"
          ]
        }
      ]
    },
    {
      "cell_type": "markdown",
      "metadata": {
        "id": "SiQRcC1kPpPg"
      },
      "source": [
        "## **Acessando os Tipos do Spark**"
      ]
    },
    {
      "cell_type": "code",
      "metadata": {
        "id": "sU0NoVPTBI4H"
      },
      "source": [
        "from pyspark.sql.types import *\n",
        "from pyspark.sql.functions import col"
      ],
      "execution_count": null,
      "outputs": []
    },
    {
      "cell_type": "code",
      "metadata": {
        "id": "-jY0eugiPvE9"
      },
      "source": [
        "int_type = IntegerType()"
      ],
      "execution_count": null,
      "outputs": []
    },
    {
      "cell_type": "code",
      "metadata": {
        "id": "u5-jdi2BPzMm"
      },
      "source": [
        "array_type = ArrayType(IntegerType())"
      ],
      "execution_count": null,
      "outputs": []
    },
    {
      "cell_type": "code",
      "metadata": {
        "colab": {
          "base_uri": "https://localhost:8080/"
        },
        "id": "WwfLTywOP6tO",
        "outputId": "c97faefd-6f8a-4342-fbf0-fab91078c076"
      },
      "source": [
        "array_type"
      ],
      "execution_count": null,
      "outputs": [
        {
          "output_type": "execute_result",
          "data": {
            "text/plain": [
              "ArrayType(IntegerType,true)"
            ]
          },
          "metadata": {},
          "execution_count": 8
        }
      ]
    },
    {
      "cell_type": "markdown",
      "metadata": {
        "id": "t9qd-9OvPh7_"
      },
      "source": [
        "## **Convertendo os tipos de Colunas**"
      ]
    },
    {
      "cell_type": "code",
      "metadata": {
        "colab": {
          "base_uri": "https://localhost:8080/"
        },
        "id": "Va-9KbQOPgXy",
        "outputId": "8e125002-2071-47fa-976a-00f04d2f29df"
      },
      "source": [
        "df.dtypes"
      ],
      "execution_count": null,
      "outputs": [
        {
          "output_type": "execute_result",
          "data": {
            "text/plain": [
              "[('nome', 'string'), ('id', 'string')]"
            ]
          },
          "metadata": {},
          "execution_count": 9
        }
      ]
    },
    {
      "cell_type": "code",
      "metadata": {
        "colab": {
          "base_uri": "https://localhost:8080/"
        },
        "id": "WWe0QTr6QHKn",
        "outputId": "93affe82-7ed8-4413-b2f5-9adafa62fe64"
      },
      "source": [
        "df.select('nome',col('id').cast(IntegerType()))"
      ],
      "execution_count": null,
      "outputs": [
        {
          "output_type": "execute_result",
          "data": {
            "text/plain": [
              "DataFrame[nome: string, id: int]"
            ]
          },
          "metadata": {},
          "execution_count": 10
        }
      ]
    },
    {
      "cell_type": "code",
      "metadata": {
        "colab": {
          "base_uri": "https://localhost:8080/"
        },
        "id": "OUrwbs5yRmxP",
        "outputId": "cc7da13c-df6c-40e1-f323-ddf0017cb4a7"
      },
      "source": [
        "df.show()"
      ],
      "execution_count": null,
      "outputs": [
        {
          "output_type": "stream",
          "name": "stdout",
          "text": [
            "+-------+---+\n",
            "|   nome| id|\n",
            "+-------+---+\n",
            "| Fulano|  1|\n",
            "|Ciclano|  2|\n",
            "+-------+---+\n",
            "\n"
          ]
        }
      ]
    },
    {
      "cell_type": "code",
      "metadata": {
        "colab": {
          "base_uri": "https://localhost:8080/"
        },
        "id": "ig6ppuTXRYmH",
        "outputId": "cd5a5299-843f-4e30-a4f9-eebebde0e46c"
      },
      "source": [
        "df.select('nome',col('id').cast('int'))"
      ],
      "execution_count": null,
      "outputs": [
        {
          "output_type": "execute_result",
          "data": {
            "text/plain": [
              "DataFrame[nome: string, id: int]"
            ]
          },
          "metadata": {},
          "execution_count": 12
        }
      ]
    },
    {
      "cell_type": "code",
      "metadata": {
        "colab": {
          "base_uri": "https://localhost:8080/"
        },
        "id": "-Nvb5PjbRijA",
        "outputId": "186355cd-8167-4943-cdda-13003a1b023c"
      },
      "source": [
        "df.show()"
      ],
      "execution_count": null,
      "outputs": [
        {
          "output_type": "stream",
          "name": "stdout",
          "text": [
            "+-------+---+\n",
            "|   nome| id|\n",
            "+-------+---+\n",
            "| Fulano|  1|\n",
            "|Ciclano|  2|\n",
            "+-------+---+\n",
            "\n"
          ]
        }
      ]
    },
    {
      "cell_type": "markdown",
      "metadata": {
        "id": "iaYo-SYpTbKq"
      },
      "source": [
        "## **Schema e Criação de DataFrames**\n",
        "\n",
        "Um schema no Spark é uma especificação de tipos de colunas de um DataFrame. Eles são usadaos na leitura de dados externos e criação de DataFrames, e podem\n",
        "ser passados diretamente no Spark ou podem ser inferidos. Passar um schema na \n",
        "leitura traz benefícios interessantes como : \n",
        "\n",
        "  - Evita que o Spark faça inferência de tipos, o que é custoso e demorado \n",
        "  dependendo do tamanho do arquivo, laém de propenso a erros; \n",
        "  - Permite que usuário identifique erros nos dados logo na leitura, caso \n",
        "  não sigam o schema especificado. "
      ]
    },
    {
      "cell_type": "code",
      "metadata": {
        "id": "7blgQfXFTWYQ"
      },
      "source": [
        "df = spark.createDataFrame([('Fulano'  ,1),\n",
        "                            ('Ciclano' ,2),\n",
        "                            ('Beltrano',3),\n",
        "                            ('Deltrano',4)], \n",
        "                            schema=['nome','id'])"
      ],
      "execution_count": null,
      "outputs": []
    },
    {
      "cell_type": "code",
      "metadata": {
        "colab": {
          "base_uri": "https://localhost:8080/"
        },
        "id": "NZGXtlagBI4h",
        "outputId": "f792df2f-1b2a-456b-8769-a050d02f790f"
      },
      "source": [
        "df.show()"
      ],
      "execution_count": null,
      "outputs": [
        {
          "output_type": "stream",
          "name": "stdout",
          "text": [
            "+--------+---+\n",
            "|    nome| id|\n",
            "+--------+---+\n",
            "|  Fulano|  1|\n",
            "| Ciclano|  2|\n",
            "|Beltrano|  3|\n",
            "|Deltrano|  4|\n",
            "+--------+---+\n",
            "\n"
          ]
        }
      ]
    },
    {
      "cell_type": "code",
      "metadata": {
        "colab": {
          "base_uri": "https://localhost:8080/"
        },
        "id": "_vpIewuFCgwp",
        "outputId": "b22d6405-cf0f-4336-84d6-9889ebc5ee00"
      },
      "source": [
        "df.dtypes"
      ],
      "execution_count": null,
      "outputs": [
        {
          "output_type": "execute_result",
          "data": {
            "text/plain": [
              "[('nome', 'string'), ('id', 'bigint')]"
            ]
          },
          "metadata": {},
          "execution_count": 17
        }
      ]
    },
    {
      "cell_type": "markdown",
      "metadata": {
        "id": "f0IOIeAIDa98"
      },
      "source": [
        "## **Criando schemas programaticamente**"
      ]
    },
    {
      "cell_type": "code",
      "metadata": {
        "id": "5YIDaDTxDXZA"
      },
      "source": [
        "schema = \\\n",
        "  StructType([\n",
        "    StructField('nome',StringType()),\n",
        "    StructField('id'  ,IntegerType())\n",
        "  ])"
      ],
      "execution_count": null,
      "outputs": []
    },
    {
      "cell_type": "code",
      "metadata": {
        "id": "uIQbagUbEnDI"
      },
      "source": [
        "df = spark.createDataFrame([('Fulano'  ,1),\n",
        "                            ('Ciclano' ,2),\n",
        "                            ('Beltrano',3),\n",
        "                            ('Deltrano',4)], \n",
        "                            schema=schema)"
      ],
      "execution_count": null,
      "outputs": []
    },
    {
      "cell_type": "code",
      "metadata": {
        "colab": {
          "base_uri": "https://localhost:8080/"
        },
        "id": "s-4udmByErA-",
        "outputId": "58785439-6a99-43fc-f308-54fb593d71ab"
      },
      "source": [
        "df.show()"
      ],
      "execution_count": null,
      "outputs": [
        {
          "output_type": "stream",
          "name": "stdout",
          "text": [
            "+--------+---+\n",
            "|    nome| id|\n",
            "+--------+---+\n",
            "|  Fulano|  1|\n",
            "| Ciclano|  2|\n",
            "|Beltrano|  3|\n",
            "|Deltrano|  4|\n",
            "+--------+---+\n",
            "\n"
          ]
        }
      ]
    },
    {
      "cell_type": "code",
      "metadata": {
        "colab": {
          "base_uri": "https://localhost:8080/"
        },
        "id": "zyY_cKXaEuLA",
        "outputId": "42e37606-cc76-4bf8-c57b-48a2b8d8e29e"
      },
      "source": [
        "df.dtypes"
      ],
      "execution_count": null,
      "outputs": [
        {
          "output_type": "execute_result",
          "data": {
            "text/plain": [
              "[('nome', 'string'), ('id', 'int')]"
            ]
          },
          "metadata": {},
          "execution_count": 21
        }
      ]
    },
    {
      "cell_type": "markdown",
      "metadata": {
        "id": "lWF-8DZcFV1i"
      },
      "source": [
        "## **Criando schemas com DDL**"
      ]
    },
    {
      "cell_type": "code",
      "metadata": {
        "id": "NN2q2UkuFyX5"
      },
      "source": [
        "schema = 'nome STRING, id INT' "
      ],
      "execution_count": null,
      "outputs": []
    },
    {
      "cell_type": "code",
      "metadata": {
        "id": "HsVGAtCSF7t5"
      },
      "source": [
        "df = spark.createDataFrame([('Fulano'  ,1),\n",
        "                            ('Ciclano' ,2),\n",
        "                            ('Beltrano',3),\n",
        "                            ('Deltrano',4)], \n",
        "                            schema=schema)"
      ],
      "execution_count": null,
      "outputs": []
    },
    {
      "cell_type": "code",
      "metadata": {
        "colab": {
          "base_uri": "https://localhost:8080/"
        },
        "id": "RhudxUSZGASS",
        "outputId": "958b2014-fce1-4618-a91f-4042a0bc942b"
      },
      "source": [
        "df.show()"
      ],
      "execution_count": null,
      "outputs": [
        {
          "output_type": "stream",
          "name": "stdout",
          "text": [
            "+--------+---+\n",
            "|    nome| id|\n",
            "+--------+---+\n",
            "|  Fulano|  1|\n",
            "| Ciclano|  2|\n",
            "|Beltrano|  3|\n",
            "|Deltrano|  4|\n",
            "+--------+---+\n",
            "\n"
          ]
        }
      ]
    },
    {
      "cell_type": "code",
      "metadata": {
        "colab": {
          "base_uri": "https://localhost:8080/"
        },
        "id": "_vJqFLmwGCZo",
        "outputId": "2c809806-2db3-49fe-c7e7-a844b0807b3b"
      },
      "source": [
        "df.dtypes"
      ],
      "execution_count": null,
      "outputs": [
        {
          "output_type": "execute_result",
          "data": {
            "text/plain": [
              "[('nome', 'string'), ('id', 'int')]"
            ]
          },
          "metadata": {},
          "execution_count": 25
        }
      ]
    },
    {
      "cell_type": "markdown",
      "metadata": {
        "id": "husCstajGxVV"
      },
      "source": [
        "## **Criando DataFrames**"
      ]
    },
    {
      "cell_type": "code",
      "metadata": {
        "id": "SuHaW4CUG2S3"
      },
      "source": [
        "data = [('Fulano'  ,1),\n",
        "        ('Ciclano' ,2),\n",
        "        ('Beltrano',3),\n",
        "        ('Deltrano',4)]"
      ],
      "execution_count": null,
      "outputs": []
    },
    {
      "cell_type": "code",
      "metadata": {
        "id": "ZcljhesaIRP7"
      },
      "source": [
        "schema = 'nome STRING, id INT' "
      ],
      "execution_count": null,
      "outputs": []
    },
    {
      "cell_type": "code",
      "metadata": {
        "id": "3kkhykYPG_oL"
      },
      "source": [
        "df = spark.createDataFrame(data,schema=schema)"
      ],
      "execution_count": null,
      "outputs": []
    },
    {
      "cell_type": "code",
      "metadata": {
        "colab": {
          "base_uri": "https://localhost:8080/"
        },
        "id": "6Ixy6n8LHPx5",
        "outputId": "b8e8bb4e-67fc-4ec0-dd8c-1ae2a5943eb4"
      },
      "source": [
        "df.dtypes"
      ],
      "execution_count": null,
      "outputs": [
        {
          "output_type": "execute_result",
          "data": {
            "text/plain": [
              "[('nome', 'string'), ('id', 'int')]"
            ]
          },
          "metadata": {},
          "execution_count": 29
        }
      ]
    },
    {
      "cell_type": "code",
      "metadata": {
        "colab": {
          "base_uri": "https://localhost:8080/"
        },
        "id": "3Qg3Dn2RIELo",
        "outputId": "cc10c12c-34ab-46ad-a1ed-60be274770a8"
      },
      "source": [
        "df.printSchema()"
      ],
      "execution_count": null,
      "outputs": [
        {
          "output_type": "stream",
          "name": "stdout",
          "text": [
            "root\n",
            " |-- nome: string (nullable = true)\n",
            " |-- id: integer (nullable = true)\n",
            "\n"
          ]
        }
      ]
    },
    {
      "cell_type": "code",
      "metadata": {
        "colab": {
          "base_uri": "https://localhost:8080/"
        },
        "id": "8pbM_FQoIIdH",
        "outputId": "58d8ba6c-19a2-4294-e89f-977e372d489a"
      },
      "source": [
        "spark.range(100).show()"
      ],
      "execution_count": null,
      "outputs": [
        {
          "output_type": "stream",
          "name": "stdout",
          "text": [
            "+---+\n",
            "| id|\n",
            "+---+\n",
            "|  0|\n",
            "|  1|\n",
            "|  2|\n",
            "|  3|\n",
            "|  4|\n",
            "|  5|\n",
            "|  6|\n",
            "|  7|\n",
            "|  8|\n",
            "|  9|\n",
            "| 10|\n",
            "| 11|\n",
            "| 12|\n",
            "| 13|\n",
            "| 14|\n",
            "| 15|\n",
            "| 16|\n",
            "| 17|\n",
            "| 18|\n",
            "| 19|\n",
            "+---+\n",
            "only showing top 20 rows\n",
            "\n"
          ]
        }
      ]
    },
    {
      "cell_type": "markdown",
      "metadata": {
        "id": "5qg_kW12KrzM"
      },
      "source": [
        "## **Leitura e Escrita de Dados**"
      ]
    },
    {
      "cell_type": "code",
      "metadata": {
        "id": "6BX9gGlMOTXa"
      },
      "source": [
        "link_tab = '/content/drive/MyDrive/igti_bootcamps/eng_dados_cloud/mod3/tab_cnae.csv'"
      ],
      "execution_count": null,
      "outputs": []
    },
    {
      "cell_type": "markdown",
      "metadata": {
        "id": "wh2RsPm9Orgv"
      },
      "source": [
        "### **DataFrameReader**\n",
        "\n",
        "      `spark.read.format(format).option(args).load(file_path)`\n",
        "\n",
        "### **DataFrameWriter**\n",
        "\n",
        "      `spark.write.format(format).option(args).load(file_path)`\n",
        "\n",
        "### **Lendo e Escrevendo CSV**\n",
        "Opções mais comuns : \n",
        "  - header\n",
        "  - inferSchema\n",
        "  - sep\n",
        "  - encoding"
      ]
    },
    {
      "cell_type": "code",
      "metadata": {
        "id": "CpsxO-pKIwpo"
      },
      "source": [
        "#df = spark.read.format('csv').load(link_tab)\n",
        "df = spark.read.csv(link_tab,sep=',',header=True)"
      ],
      "execution_count": null,
      "outputs": []
    },
    {
      "cell_type": "code",
      "metadata": {
        "colab": {
          "base_uri": "https://localhost:8080/"
        },
        "id": "nzB9qGuIRzIR",
        "outputId": "e979ebb1-4a3e-4647-ebe0-60a144cce2d7"
      },
      "source": [
        "df.limit(5).show()"
      ],
      "execution_count": null,
      "outputs": [
        {
          "output_type": "stream",
          "name": "stdout",
          "text": [
            "+------+--------------------+---------+-----------+\n",
            "|  CNAE|           DESCRIÇÃO|CÓD.SETOR| NOME SETOR|\n",
            "+------+--------------------+---------+-----------+\n",
            "|111301|    Cultivo de arroz|        1|AGRICULTURA|\n",
            "|111302|    Cultivo de milho|        1|AGRICULTURA|\n",
            "|111303|    Cultivo de trigo|        1|AGRICULTURA|\n",
            "|111399|Cultivo de outros...|        1|AGRICULTURA|\n",
            "|112101|Cultivo de algodã...|        1|AGRICULTURA|\n",
            "+------+--------------------+---------+-----------+\n",
            "\n"
          ]
        }
      ]
    },
    {
      "cell_type": "markdown",
      "metadata": {
        "id": "PeQYhy08SnZQ"
      },
      "source": [
        "## **Definindo o schema**"
      ]
    },
    {
      "cell_type": "code",
      "metadata": {
        "id": "45I0vDwbSmPG"
      },
      "source": [
        "schema = 'cod_cnae STRING, descricao STRING, cod_setor INT, nome_setor STRING '"
      ],
      "execution_count": null,
      "outputs": []
    },
    {
      "cell_type": "code",
      "metadata": {
        "id": "oOWwilsuTEXd"
      },
      "source": [
        "df = spark.read.csv(link_tab,sep=',',header=True, schema=schema)"
      ],
      "execution_count": null,
      "outputs": []
    },
    {
      "cell_type": "code",
      "metadata": {
        "colab": {
          "base_uri": "https://localhost:8080/"
        },
        "id": "CKCUSC11UjL8",
        "outputId": "38cddac8-4e69-4143-f176-2c235defba2f"
      },
      "source": [
        "df.dtypes"
      ],
      "execution_count": null,
      "outputs": [
        {
          "output_type": "execute_result",
          "data": {
            "text/plain": [
              "[('cod_cnae', 'string'),\n",
              " ('descricao', 'string'),\n",
              " ('cod_setor', 'int'),\n",
              " ('nome_setor', 'string')]"
            ]
          },
          "metadata": {},
          "execution_count": 37
        }
      ]
    },
    {
      "cell_type": "markdown",
      "metadata": {
        "id": "pwSdM89kUv1O"
      },
      "source": [
        "outra forma de fazer seria"
      ]
    },
    {
      "cell_type": "code",
      "metadata": {
        "colab": {
          "base_uri": "https://localhost:8080/"
        },
        "id": "j5Eevu8lU0LF",
        "outputId": "c5f14f98-4d2b-4aa3-810e-5403670b6f23"
      },
      "source": [
        "df = (\n",
        "    spark.read\n",
        "    .format('csv')\n",
        "    .option('header','true')\n",
        "    .option('sep',',')\n",
        "    .schema(schema)\n",
        "    .load(link_tab)\n",
        "    )\n",
        "\n",
        "df.limit(5).show()"
      ],
      "execution_count": null,
      "outputs": [
        {
          "output_type": "stream",
          "name": "stdout",
          "text": [
            "+--------+--------------------+---------+-----------+\n",
            "|cod_cnae|           descricao|cod_setor| nome_setor|\n",
            "+--------+--------------------+---------+-----------+\n",
            "|  111301|    Cultivo de arroz|        1|AGRICULTURA|\n",
            "|  111302|    Cultivo de milho|        1|AGRICULTURA|\n",
            "|  111303|    Cultivo de trigo|        1|AGRICULTURA|\n",
            "|  111399|Cultivo de outros...|        1|AGRICULTURA|\n",
            "|  112101|Cultivo de algodã...|        1|AGRICULTURA|\n",
            "+--------+--------------------+---------+-----------+\n",
            "\n"
          ]
        }
      ]
    },
    {
      "cell_type": "code",
      "metadata": {
        "colab": {
          "base_uri": "https://localhost:8080/"
        },
        "id": "egPhxkJXVOs6",
        "outputId": "5504a2df-50f0-40d0-8d4c-96ea84a2c8a5"
      },
      "source": [
        "df = (\n",
        "    spark.read\n",
        "    .format('csv')\n",
        "    .options(header=True,sep=',')  \n",
        "    .schema(schema)\n",
        "    .load(link_tab)\n",
        ")\n",
        "df.show(5)"
      ],
      "execution_count": null,
      "outputs": [
        {
          "output_type": "stream",
          "name": "stdout",
          "text": [
            "+--------+--------------------+---------+-----------+\n",
            "|cod_cnae|           descricao|cod_setor| nome_setor|\n",
            "+--------+--------------------+---------+-----------+\n",
            "|  111301|    Cultivo de arroz|        1|AGRICULTURA|\n",
            "|  111302|    Cultivo de milho|        1|AGRICULTURA|\n",
            "|  111303|    Cultivo de trigo|        1|AGRICULTURA|\n",
            "|  111399|Cultivo de outros...|        1|AGRICULTURA|\n",
            "|  112101|Cultivo de algodã...|        1|AGRICULTURA|\n",
            "+--------+--------------------+---------+-----------+\n",
            "only showing top 5 rows\n",
            "\n"
          ]
        }
      ]
    },
    {
      "cell_type": "markdown",
      "metadata": {
        "id": "nUtfDfgXWatV"
      },
      "source": [
        "**OBS :** Utilizando o método \"options\" podemos parametrizar melhor nossa função\n",
        " usando um dicionário"
      ]
    },
    {
      "cell_type": "code",
      "metadata": {
        "colab": {
          "base_uri": "https://localhost:8080/"
        },
        "id": "gsLFLB6xWG2N",
        "outputId": "87373928-d347-444f-bd2a-b1199f9f7b30"
      },
      "source": [
        "options_dict = {\n",
        "    'sep' : ',' , \n",
        "    'header' : 'True'\n",
        "}\n",
        "\n",
        "df = (\n",
        "      spark.read\n",
        "    .format('csv')\n",
        "    .options(**options_dict)  \n",
        "    .schema(schema)\n",
        "    .load(link_tab)\n",
        ")\n",
        "df.show(5)"
      ],
      "execution_count": null,
      "outputs": [
        {
          "output_type": "stream",
          "name": "stdout",
          "text": [
            "+--------+--------------------+---------+-----------+\n",
            "|cod_cnae|           descricao|cod_setor| nome_setor|\n",
            "+--------+--------------------+---------+-----------+\n",
            "|  111301|    Cultivo de arroz|        1|AGRICULTURA|\n",
            "|  111302|    Cultivo de milho|        1|AGRICULTURA|\n",
            "|  111303|    Cultivo de trigo|        1|AGRICULTURA|\n",
            "|  111399|Cultivo de outros...|        1|AGRICULTURA|\n",
            "|  112101|Cultivo de algodã...|        1|AGRICULTURA|\n",
            "+--------+--------------------+---------+-----------+\n",
            "only showing top 5 rows\n",
            "\n"
          ]
        }
      ]
    },
    {
      "cell_type": "code",
      "metadata": {
        "colab": {
          "base_uri": "https://localhost:8080/"
        },
        "id": "XWFonWIFWFqZ",
        "outputId": "a41fc6ad-3c26-4af2-9ec1-eca9d0bc0ba9"
      },
      "source": [
        "df.printSchema()"
      ],
      "execution_count": null,
      "outputs": [
        {
          "output_type": "stream",
          "name": "stdout",
          "text": [
            "root\n",
            " |-- cod_cnae: string (nullable = true)\n",
            " |-- descricao: string (nullable = true)\n",
            " |-- cod_setor: integer (nullable = true)\n",
            " |-- nome_setor: string (nullable = true)\n",
            "\n"
          ]
        }
      ]
    },
    {
      "cell_type": "code",
      "metadata": {
        "id": "le_8x-efaV61"
      },
      "source": [
        "schema = 'cod_cnae INT, descricao STRING, cod_setor INT, nome_setor STRING '"
      ],
      "execution_count": null,
      "outputs": []
    },
    {
      "cell_type": "code",
      "metadata": {
        "colab": {
          "base_uri": "https://localhost:8080/"
        },
        "id": "jJ7CSqVCasAw",
        "outputId": "f9e642c4-84d0-4834-e02d-7d5ac0b460bb"
      },
      "source": [
        "options_dict = {\n",
        "    'sep' : ',' , \n",
        "    'header' : 'True'\n",
        "}\n",
        "\n",
        "df = (\n",
        "      spark.read\n",
        "    .format('csv')\n",
        "    .options(**options_dict)  \n",
        "    .schema(schema)\n",
        "    .load(link_tab)\n",
        ")\n",
        "df.show(5)"
      ],
      "execution_count": null,
      "outputs": [
        {
          "output_type": "stream",
          "name": "stdout",
          "text": [
            "+--------+--------------------+---------+-----------+\n",
            "|cod_cnae|           descricao|cod_setor| nome_setor|\n",
            "+--------+--------------------+---------+-----------+\n",
            "|  111301|    Cultivo de arroz|        1|AGRICULTURA|\n",
            "|  111302|    Cultivo de milho|        1|AGRICULTURA|\n",
            "|  111303|    Cultivo de trigo|        1|AGRICULTURA|\n",
            "|  111399|Cultivo de outros...|        1|AGRICULTURA|\n",
            "|  112101|Cultivo de algodã...|        1|AGRICULTURA|\n",
            "+--------+--------------------+---------+-----------+\n",
            "only showing top 5 rows\n",
            "\n"
          ]
        }
      ]
    },
    {
      "cell_type": "code",
      "metadata": {
        "colab": {
          "base_uri": "https://localhost:8080/"
        },
        "id": "ItbH1E0Uaund",
        "outputId": "17c01feb-d87b-413a-8568-09c8ac74d329"
      },
      "source": [
        "df.printSchema()"
      ],
      "execution_count": null,
      "outputs": [
        {
          "output_type": "stream",
          "name": "stdout",
          "text": [
            "root\n",
            " |-- cod_cnae: integer (nullable = true)\n",
            " |-- descricao: string (nullable = true)\n",
            " |-- cod_setor: integer (nullable = true)\n",
            " |-- nome_setor: string (nullable = true)\n",
            "\n"
          ]
        }
      ]
    },
    {
      "cell_type": "code",
      "metadata": {
        "id": "hW2evH4Pa8X5"
      },
      "source": [
        "path_save = '/content/drive/MyDrive/igti_bootcamps/eng_dados_cloud/mod3/'"
      ],
      "execution_count": null,
      "outputs": []
    },
    {
      "cell_type": "code",
      "metadata": {
        "id": "h1jPwXbOaxh1",
        "colab": {
          "base_uri": "https://localhost:8080/",
          "height": 329
        },
        "outputId": "9586cc58-eca7-4a7a-f4d2-b43a75368b58"
      },
      "source": [
        "#df.write.format('csv').save(path_save + 'df_cnae_teste',header=True)"
      ],
      "execution_count": null,
      "outputs": [
        {
          "output_type": "error",
          "ename": "AnalysisException",
          "evalue": "ignored",
          "traceback": [
            "\u001b[0;31m---------------------------------------------------------------------------\u001b[0m",
            "\u001b[0;31mAnalysisException\u001b[0m                         Traceback (most recent call last)",
            "\u001b[0;32m<ipython-input-46-964befd0edd4>\u001b[0m in \u001b[0;36m<module>\u001b[0;34m()\u001b[0m\n\u001b[0;32m----> 1\u001b[0;31m \u001b[0mdf\u001b[0m\u001b[0;34m.\u001b[0m\u001b[0mwrite\u001b[0m\u001b[0;34m.\u001b[0m\u001b[0mformat\u001b[0m\u001b[0;34m(\u001b[0m\u001b[0;34m'csv'\u001b[0m\u001b[0;34m)\u001b[0m\u001b[0;34m.\u001b[0m\u001b[0msave\u001b[0m\u001b[0;34m(\u001b[0m\u001b[0mpath_save\u001b[0m \u001b[0;34m+\u001b[0m \u001b[0;34m'df_cnae_teste'\u001b[0m\u001b[0;34m,\u001b[0m\u001b[0mheader\u001b[0m\u001b[0;34m=\u001b[0m\u001b[0;32mTrue\u001b[0m\u001b[0;34m)\u001b[0m\u001b[0;34m\u001b[0m\u001b[0;34m\u001b[0m\u001b[0m\n\u001b[0m",
            "\u001b[0;32m/usr/local/lib/python3.7/dist-packages/pyspark/sql/readwriter.py\u001b[0m in \u001b[0;36msave\u001b[0;34m(self, path, format, mode, partitionBy, **options)\u001b[0m\n\u001b[1;32m    738\u001b[0m             \u001b[0mself\u001b[0m\u001b[0;34m.\u001b[0m\u001b[0m_jwrite\u001b[0m\u001b[0;34m.\u001b[0m\u001b[0msave\u001b[0m\u001b[0;34m(\u001b[0m\u001b[0;34m)\u001b[0m\u001b[0;34m\u001b[0m\u001b[0;34m\u001b[0m\u001b[0m\n\u001b[1;32m    739\u001b[0m         \u001b[0;32melse\u001b[0m\u001b[0;34m:\u001b[0m\u001b[0;34m\u001b[0m\u001b[0;34m\u001b[0m\u001b[0m\n\u001b[0;32m--> 740\u001b[0;31m             \u001b[0mself\u001b[0m\u001b[0;34m.\u001b[0m\u001b[0m_jwrite\u001b[0m\u001b[0;34m.\u001b[0m\u001b[0msave\u001b[0m\u001b[0;34m(\u001b[0m\u001b[0mpath\u001b[0m\u001b[0;34m)\u001b[0m\u001b[0;34m\u001b[0m\u001b[0;34m\u001b[0m\u001b[0m\n\u001b[0m\u001b[1;32m    741\u001b[0m \u001b[0;34m\u001b[0m\u001b[0m\n\u001b[1;32m    742\u001b[0m     \u001b[0;34m@\u001b[0m\u001b[0msince\u001b[0m\u001b[0;34m(\u001b[0m\u001b[0;36m1.4\u001b[0m\u001b[0;34m)\u001b[0m\u001b[0;34m\u001b[0m\u001b[0;34m\u001b[0m\u001b[0m\n",
            "\u001b[0;32m/usr/local/lib/python3.7/dist-packages/py4j/java_gateway.py\u001b[0m in \u001b[0;36m__call__\u001b[0;34m(self, *args)\u001b[0m\n\u001b[1;32m   1308\u001b[0m         \u001b[0manswer\u001b[0m \u001b[0;34m=\u001b[0m \u001b[0mself\u001b[0m\u001b[0;34m.\u001b[0m\u001b[0mgateway_client\u001b[0m\u001b[0;34m.\u001b[0m\u001b[0msend_command\u001b[0m\u001b[0;34m(\u001b[0m\u001b[0mcommand\u001b[0m\u001b[0;34m)\u001b[0m\u001b[0;34m\u001b[0m\u001b[0;34m\u001b[0m\u001b[0m\n\u001b[1;32m   1309\u001b[0m         return_value = get_return_value(\n\u001b[0;32m-> 1310\u001b[0;31m             answer, self.gateway_client, self.target_id, self.name)\n\u001b[0m\u001b[1;32m   1311\u001b[0m \u001b[0;34m\u001b[0m\u001b[0m\n\u001b[1;32m   1312\u001b[0m         \u001b[0;32mfor\u001b[0m \u001b[0mtemp_arg\u001b[0m \u001b[0;32min\u001b[0m \u001b[0mtemp_args\u001b[0m\u001b[0;34m:\u001b[0m\u001b[0;34m\u001b[0m\u001b[0;34m\u001b[0m\u001b[0m\n",
            "\u001b[0;32m/usr/local/lib/python3.7/dist-packages/pyspark/sql/utils.py\u001b[0m in \u001b[0;36mdeco\u001b[0;34m(*a, **kw)\u001b[0m\n\u001b[1;32m    115\u001b[0m                 \u001b[0;31m# Hide where the exception came from that shows a non-Pythonic\u001b[0m\u001b[0;34m\u001b[0m\u001b[0;34m\u001b[0m\u001b[0;34m\u001b[0m\u001b[0m\n\u001b[1;32m    116\u001b[0m                 \u001b[0;31m# JVM exception message.\u001b[0m\u001b[0;34m\u001b[0m\u001b[0;34m\u001b[0m\u001b[0;34m\u001b[0m\u001b[0m\n\u001b[0;32m--> 117\u001b[0;31m                 \u001b[0;32mraise\u001b[0m \u001b[0mconverted\u001b[0m \u001b[0;32mfrom\u001b[0m \u001b[0;32mNone\u001b[0m\u001b[0;34m\u001b[0m\u001b[0;34m\u001b[0m\u001b[0m\n\u001b[0m\u001b[1;32m    118\u001b[0m             \u001b[0;32melse\u001b[0m\u001b[0;34m:\u001b[0m\u001b[0;34m\u001b[0m\u001b[0;34m\u001b[0m\u001b[0m\n\u001b[1;32m    119\u001b[0m                 \u001b[0;32mraise\u001b[0m\u001b[0;34m\u001b[0m\u001b[0;34m\u001b[0m\u001b[0m\n",
            "\u001b[0;31mAnalysisException\u001b[0m: path file:/content/drive/MyDrive/igti_bootcamps/eng_dados_cloud/mod3/df_cnae_teste already exists."
          ]
        }
      ]
    },
    {
      "cell_type": "code",
      "metadata": {
        "colab": {
          "base_uri": "https://localhost:8080/"
        },
        "id": "ak-adfrrbZea",
        "outputId": "776378a1-8f35-403c-d759-978e97da6008"
      },
      "source": [
        "spark.read.format('csv').load(path_save + 'df_cnae_teste',header=True).printSchema()"
      ],
      "execution_count": null,
      "outputs": [
        {
          "output_type": "stream",
          "name": "stdout",
          "text": [
            "root\n",
            " |-- cod_cnae: string (nullable = true)\n",
            " |-- descricao: string (nullable = true)\n",
            " |-- cod_setor: string (nullable = true)\n",
            " |-- nome_setor: string (nullable = true)\n",
            "\n"
          ]
        }
      ]
    },
    {
      "cell_type": "code",
      "metadata": {
        "id": "vAcKHd-ncUO4"
      },
      "source": [
        "df.toPandas().to_csv(\n",
        "    path_save + 'df_cnae_teste.csv',\n",
        "    index=False, header=True\n",
        "    )"
      ],
      "execution_count": null,
      "outputs": []
    },
    {
      "cell_type": "markdown",
      "metadata": {
        "id": "JlTK8cUTDLIk"
      },
      "source": [
        "# **Aula 3.4.2 -** Leitura e escrita de dados - Parte II"
      ]
    },
    {
      "cell_type": "markdown",
      "metadata": {
        "id": "13hLby6vbrCP"
      },
      "source": [
        "## **Lendo e Escrevendo JSON**"
      ]
    },
    {
      "cell_type": "code",
      "metadata": {
        "id": "L30rJvoibpgo"
      },
      "source": [
        "df.write.format('json') \\\n",
        "  .save(path_save + 'df_cnae_teste.json')"
      ],
      "execution_count": null,
      "outputs": []
    },
    {
      "cell_type": "code",
      "metadata": {
        "id": "7_Lh3EpJ8Vm5"
      },
      "source": [
        "df_json = spark.read.format('json') \\\n",
        "  .load(path_save + 'df_cnae_teste.json')"
      ],
      "execution_count": null,
      "outputs": []
    },
    {
      "cell_type": "code",
      "metadata": {
        "colab": {
          "base_uri": "https://localhost:8080/"
        },
        "id": "yrbUBVq78tah",
        "outputId": "087c28c9-f014-45e3-e9a4-7f33ad5cb4c2"
      },
      "source": [
        "df_json.show()"
      ],
      "execution_count": null,
      "outputs": [
        {
          "output_type": "stream",
          "name": "stdout",
          "text": [
            "+--------+---------+--------------------+-----------+\n",
            "|cod_cnae|cod_setor|           descricao| nome_setor|\n",
            "+--------+---------+--------------------+-----------+\n",
            "|  111301|        1|    Cultivo de arroz|AGRICULTURA|\n",
            "|  111302|        1|    Cultivo de milho|AGRICULTURA|\n",
            "|  111303|        1|    Cultivo de trigo|AGRICULTURA|\n",
            "|  111399|        1|Cultivo de outros...|AGRICULTURA|\n",
            "|  112101|        1|Cultivo de algodã...|AGRICULTURA|\n",
            "|  112102|        1|     Cultivo de juta|AGRICULTURA|\n",
            "|  112199|        1|Cultivo de outras...|AGRICULTURA|\n",
            "|  113000|        1|Cultivo de cana-d...|AGRICULTURA|\n",
            "|  114800|        1|     Cultivo de fumo|AGRICULTURA|\n",
            "|  115600|        1|     Cultivo de soja|AGRICULTURA|\n",
            "|  116401|        1| Cultivo de amendoim|AGRICULTURA|\n",
            "|  116402|        1| Cultivo de girassol|AGRICULTURA|\n",
            "|  116403|        1|   Cultivo de mamona|AGRICULTURA|\n",
            "|  116499|        1|Cultivo de outras...|AGRICULTURA|\n",
            "|  119901|        1|  Cultivo de abacaxi|AGRICULTURA|\n",
            "|  119902|        1|     Cultivo de alho|AGRICULTURA|\n",
            "|  119903|        1|Cultivo de batata...|AGRICULTURA|\n",
            "|  119904|        1|   Cultivo de cebola|AGRICULTURA|\n",
            "|  119905|        1|   Cultivo de feijão|AGRICULTURA|\n",
            "|  119906|        1| Cultivo de mandioca|AGRICULTURA|\n",
            "+--------+---------+--------------------+-----------+\n",
            "only showing top 20 rows\n",
            "\n"
          ]
        }
      ]
    },
    {
      "cell_type": "code",
      "metadata": {
        "colab": {
          "base_uri": "https://localhost:8080/"
        },
        "id": "pyisu7OP8xeR",
        "outputId": "7a7d87e9-89fb-4fe0-8837-fd0943b7328b"
      },
      "source": [
        "df_json.printSchema()"
      ],
      "execution_count": null,
      "outputs": [
        {
          "output_type": "stream",
          "name": "stdout",
          "text": [
            "root\n",
            " |-- cod_cnae: long (nullable = true)\n",
            " |-- cod_setor: long (nullable = true)\n",
            " |-- descricao: string (nullable = true)\n",
            " |-- nome_setor: string (nullable = true)\n",
            "\n"
          ]
        }
      ]
    },
    {
      "cell_type": "markdown",
      "metadata": {
        "id": "aXQSIJA587i7"
      },
      "source": [
        "## **Lendo e Escrevendo ORC**\n",
        "\n"
      ]
    },
    {
      "cell_type": "code",
      "metadata": {
        "id": "K9juI3Q68_1o"
      },
      "source": [
        "df.write.format('orc').save(path_save + 'df_cnae_teste.orc')"
      ],
      "execution_count": null,
      "outputs": []
    },
    {
      "cell_type": "code",
      "metadata": {
        "id": "xAOK40KF-x_U"
      },
      "source": [
        "df_orc = spark.read.format('orc').load(path_save + 'df_cnae_teste.orc')"
      ],
      "execution_count": null,
      "outputs": []
    },
    {
      "cell_type": "code",
      "metadata": {
        "colab": {
          "base_uri": "https://localhost:8080/"
        },
        "id": "6A1UtGyt_FXs",
        "outputId": "4928566a-f3af-40e3-9b69-c8574c37d596"
      },
      "source": [
        "df_orc.show(5)"
      ],
      "execution_count": null,
      "outputs": [
        {
          "output_type": "stream",
          "name": "stdout",
          "text": [
            "+--------+--------------------+---------+-----------+\n",
            "|cod_cnae|           descricao|cod_setor| nome_setor|\n",
            "+--------+--------------------+---------+-----------+\n",
            "|  111301|    Cultivo de arroz|        1|AGRICULTURA|\n",
            "|  111302|    Cultivo de milho|        1|AGRICULTURA|\n",
            "|  111303|    Cultivo de trigo|        1|AGRICULTURA|\n",
            "|  111399|Cultivo de outros...|        1|AGRICULTURA|\n",
            "|  112101|Cultivo de algodã...|        1|AGRICULTURA|\n",
            "+--------+--------------------+---------+-----------+\n",
            "only showing top 5 rows\n",
            "\n"
          ]
        }
      ]
    },
    {
      "cell_type": "code",
      "metadata": {
        "colab": {
          "base_uri": "https://localhost:8080/"
        },
        "id": "kUlupl80-9fO",
        "outputId": "f4834c51-6821-4e38-feda-00666111c3e8"
      },
      "source": [
        "df_orc.printSchema()"
      ],
      "execution_count": null,
      "outputs": [
        {
          "output_type": "stream",
          "name": "stdout",
          "text": [
            "root\n",
            " |-- cod_cnae: integer (nullable = true)\n",
            " |-- descricao: string (nullable = true)\n",
            " |-- cod_setor: integer (nullable = true)\n",
            " |-- nome_setor: string (nullable = true)\n",
            "\n"
          ]
        }
      ]
    },
    {
      "cell_type": "markdown",
      "metadata": {
        "id": "Yk79I1Q19Tqa"
      },
      "source": [
        "## **Lendo e Escrevendo Parquet**\n",
        "\n",
        "  - Armazenamento colunar, em contraste com o CSV, que armazena baseado nas linhas. Assim, quando uma query é realizada é possível ignorar os dados não relevantes de maneira rápida e fácil, resultando em operações bem mais eficientes; \n",
        "  - Preservação de metadados, incluindo os tipos das colunas, o que garante eficiência e praticidade na escrita e leitura (não é necessário especificar schemas para arquivos parquet);\n",
        "  - Suporte a dados estruturados de forma aninhada, como listas;\n",
        "  - Otimizado para processar dados particionados com volume na casa dos gigabytes para cada arquivo;\n",
        "  - Compressão de dados na escrita, de forma a ocupar menos espaço;\n",
        "  - Integração com ferramentas como AWS athena, Amazon Redshift Spectrum, Google Big Query e Google Dataproc. "
      ]
    },
    {
      "cell_type": "code",
      "metadata": {
        "id": "kPPt_eH7_nl4"
      },
      "source": [
        "df.write.format('parquet').save(path_save + 'df_cnae_teste.pq')"
      ],
      "execution_count": null,
      "outputs": []
    },
    {
      "cell_type": "code",
      "metadata": {
        "id": "-EJoZHCF_vYq"
      },
      "source": [
        "df_parquet = spark.read.format('parquet').load(path_save + 'df_cnae_teste.pq')"
      ],
      "execution_count": null,
      "outputs": []
    },
    {
      "cell_type": "code",
      "metadata": {
        "colab": {
          "base_uri": "https://localhost:8080/"
        },
        "id": "Qo_GC2ZEACzh",
        "outputId": "be8a3acb-cacf-4d77-c356-6f637fade315"
      },
      "source": [
        "df_parquet.show(5)"
      ],
      "execution_count": null,
      "outputs": [
        {
          "output_type": "stream",
          "name": "stdout",
          "text": [
            "+--------+--------------------+---------+-----------+\n",
            "|cod_cnae|           descricao|cod_setor| nome_setor|\n",
            "+--------+--------------------+---------+-----------+\n",
            "|  111301|    Cultivo de arroz|        1|AGRICULTURA|\n",
            "|  111302|    Cultivo de milho|        1|AGRICULTURA|\n",
            "|  111303|    Cultivo de trigo|        1|AGRICULTURA|\n",
            "|  111399|Cultivo de outros...|        1|AGRICULTURA|\n",
            "|  112101|Cultivo de algodã...|        1|AGRICULTURA|\n",
            "+--------+--------------------+---------+-----------+\n",
            "only showing top 5 rows\n",
            "\n"
          ]
        }
      ]
    },
    {
      "cell_type": "code",
      "metadata": {
        "colab": {
          "base_uri": "https://localhost:8080/"
        },
        "id": "6-x8p_VfBKqn",
        "outputId": "0a65b970-96f0-4a36-ada3-99f63a072dfa"
      },
      "source": [
        "df_parquet.printSchema()"
      ],
      "execution_count": null,
      "outputs": [
        {
          "output_type": "stream",
          "name": "stdout",
          "text": [
            "root\n",
            " |-- cod_cnae: integer (nullable = true)\n",
            " |-- descricao: string (nullable = true)\n",
            " |-- cod_setor: integer (nullable = true)\n",
            " |-- nome_setor: string (nullable = true)\n",
            "\n"
          ]
        }
      ]
    },
    {
      "cell_type": "markdown",
      "metadata": {
        "id": "MKRXHeNiBRke"
      },
      "source": [
        "mode : \n",
        "  \n",
        "  - append : arquivos empilhados aos já existentes\n",
        "  - ignore : retorna um erro silencioso\n",
        "  - overwrite : sobrescreve os dados já exsitentes\n",
        "  -  error (default) : retorne erro se já existem dados"
      ]
    },
    {
      "cell_type": "code",
      "metadata": {
        "id": "-u4Enx7iBPhP"
      },
      "source": [
        "df.write.format('parquet').save(path_save + 'df_cnae_teste.pq', \n",
        "                                mode='overwrite'\n",
        "                                )"
      ],
      "execution_count": null,
      "outputs": []
    },
    {
      "cell_type": "markdown",
      "metadata": {
        "id": "IGYlBpwWCDHj"
      },
      "source": [
        "ou"
      ]
    },
    {
      "cell_type": "code",
      "metadata": {
        "id": "l-AkkhGzCCsm"
      },
      "source": [
        "df.write.format('parquet').mode('overwrite').save(path_save + 'df_cnae_teste.pq')"
      ],
      "execution_count": null,
      "outputs": []
    },
    {
      "cell_type": "markdown",
      "metadata": {
        "id": "LHVwZ1o2C6XF"
      },
      "source": [
        "# **Aula 3.5.1 -** Operações básicas com DataFrames - Parte I\n",
        "\n",
        "## **Manipulação dos Dados**"
      ]
    },
    {
      "cell_type": "code",
      "metadata": {
        "id": "X0YdzZERC4Nm"
      },
      "source": [
        "imdb_path = '/content/drive/MyDrive/igti_bootcamps/eng_dados_cloud/mod3/title_basics.csv'"
      ],
      "execution_count": 3,
      "outputs": []
    },
    {
      "cell_type": "code",
      "metadata": {
        "colab": {
          "base_uri": "https://localhost:8080/"
        },
        "id": "YONEC-anKxI1",
        "outputId": "643da12c-8a46-4fa4-a73b-41a04ea1704a"
      },
      "source": [
        "options_dict = {\n",
        "    'sep' : '\\t' , \n",
        "    'header' : 'True'\n",
        "}\n",
        "\n",
        "df_titles = (\n",
        "      spark.read\n",
        "    .format('csv')\n",
        "    .options(**options_dict)  \n",
        "    .load(imdb_path)\n",
        ")\n",
        "\n",
        "df_titles.show(5)"
      ],
      "execution_count": 4,
      "outputs": [
        {
          "output_type": "stream",
          "name": "stdout",
          "text": [
            "+---------+---------+--------------------+--------------------+-------+---------+-------+--------------+--------------------+\n",
            "|   tconst|titleType|        primaryTitle|       originalTitle|isAdult|startYear|endYear|runtimeMinutes|              genres|\n",
            "+---------+---------+--------------------+--------------------+-------+---------+-------+--------------+--------------------+\n",
            "|tt0000001|    short|          Carmencita|          Carmencita|      0|     1894|     \\N|             1|   Documentary,Short|\n",
            "|tt0000002|    short|Le clown et ses c...|Le clown et ses c...|      0|     1892|     \\N|             5|     Animation,Short|\n",
            "|tt0000003|    short|      Pauvre Pierrot|      Pauvre Pierrot|      0|     1892|     \\N|             4|Animation,Comedy,...|\n",
            "|tt0000004|    short|         Un bon bock|         Un bon bock|      0|     1892|     \\N|            12|     Animation,Short|\n",
            "|tt0000005|    short|    Blacksmith Scene|    Blacksmith Scene|      0|     1893|     \\N|             1|        Comedy,Short|\n",
            "+---------+---------+--------------------+--------------------+-------+---------+-------+--------------+--------------------+\n",
            "only showing top 5 rows\n",
            "\n"
          ]
        }
      ]
    },
    {
      "cell_type": "markdown",
      "metadata": {
        "id": "Q1zDDQhoMVYX"
      },
      "source": [
        "## **Colunas e Expressões**\n",
        "\n",
        "As colunas são a principal unidade de manipulação de dados do Spark"
      ]
    },
    {
      "cell_type": "code",
      "metadata": {
        "id": "97JNjP-MMUVp"
      },
      "source": [
        "from pyspark.sql.functions import col,round"
      ],
      "execution_count": null,
      "outputs": []
    },
    {
      "cell_type": "code",
      "metadata": {
        "colab": {
          "base_uri": "https://localhost:8080/"
        },
        "id": "IiNgObEwLe8D",
        "outputId": "2a50fce6-b55b-4082-df40-45b112cf6586"
      },
      "source": [
        "(\n",
        "    df_titles.select('tconst','primaryTitle','runtimeMinutes',)\n",
        "    .withColumn('runtimeHours',col('runTimeMinutes').cast('int')/60)\n",
        "    .show(5)\n",
        ")"
      ],
      "execution_count": null,
      "outputs": [
        {
          "output_type": "stream",
          "name": "stdout",
          "text": [
            "+---------+--------------------+--------------+--------------------+\n",
            "|   tconst|        primaryTitle|runtimeMinutes|        runtimeHours|\n",
            "+---------+--------------------+--------------+--------------------+\n",
            "|tt0000001|          Carmencita|             1|0.016666666666666666|\n",
            "|tt0000002|Le clown et ses c...|             5| 0.08333333333333333|\n",
            "|tt0000003|      Pauvre Pierrot|             4| 0.06666666666666667|\n",
            "|tt0000004|         Un bon bock|            12|                 0.2|\n",
            "|tt0000005|    Blacksmith Scene|             1|0.016666666666666666|\n",
            "+---------+--------------------+--------------+--------------------+\n",
            "only showing top 5 rows\n",
            "\n"
          ]
        }
      ]
    },
    {
      "cell_type": "code",
      "metadata": {
        "colab": {
          "base_uri": "https://localhost:8080/"
        },
        "id": "9Yu445bfN55l",
        "outputId": "6a354881-184f-488e-d9aa-2567d697cba3"
      },
      "source": [
        "(\n",
        "    df_titles.select('tconst','primaryTitle','runtimeMinutes',)\n",
        "    .withColumn('runtimeHours',round(col('runTimeMinutes').cast('int')/60,3))\n",
        "    .show(5)\n",
        ")"
      ],
      "execution_count": null,
      "outputs": [
        {
          "output_type": "stream",
          "name": "stdout",
          "text": [
            "+---------+--------------------+--------------+------------+\n",
            "|   tconst|        primaryTitle|runtimeMinutes|runtimeHours|\n",
            "+---------+--------------------+--------------+------------+\n",
            "|tt0000001|          Carmencita|             1|       0.017|\n",
            "|tt0000002|Le clown et ses c...|             5|       0.083|\n",
            "|tt0000003|      Pauvre Pierrot|             4|       0.067|\n",
            "|tt0000004|         Un bon bock|            12|         0.2|\n",
            "|tt0000005|    Blacksmith Scene|             1|       0.017|\n",
            "+---------+--------------------+--------------+------------+\n",
            "only showing top 5 rows\n",
            "\n"
          ]
        }
      ]
    },
    {
      "cell_type": "code",
      "metadata": {
        "colab": {
          "base_uri": "https://localhost:8080/"
        },
        "id": "mpxPIn5GON9H",
        "outputId": "f58810cb-ee2c-4fe2-c658-1d9c206f7178"
      },
      "source": [
        "df_titles['runtimeMinutes']"
      ],
      "execution_count": null,
      "outputs": [
        {
          "output_type": "execute_result",
          "data": {
            "text/plain": [
              "Column<'runtimeMinutes'>"
            ]
          },
          "metadata": {},
          "execution_count": 39
        }
      ]
    },
    {
      "cell_type": "markdown",
      "metadata": {
        "id": "XNbd-vTLNmZp"
      },
      "source": [
        "Forma \"pandas\" de selecionar\n",
        "\n",
        "  1. df.coluna\n",
        "  2. df['coluna']"
      ]
    },
    {
      "cell_type": "code",
      "metadata": {
        "colab": {
          "base_uri": "https://localhost:8080/"
        },
        "id": "sSgDoHhpNla-",
        "outputId": "7b5834eb-5ba7-47ad-d206-adc9ca94fae9"
      },
      "source": [
        "(\n",
        "    df_titles.select('tconst','primaryTitle','runtimeMinutes',)\n",
        "    .withColumn('runtimeHours',round(col('runTimeMinutes').cast('int')/60,3))\n",
        "    .show(5)\n",
        ")"
      ],
      "execution_count": null,
      "outputs": [
        {
          "output_type": "stream",
          "name": "stdout",
          "text": [
            "+---------+--------------------+--------------+------------+\n",
            "|   tconst|        primaryTitle|runtimeMinutes|runtimeHours|\n",
            "+---------+--------------------+--------------+------------+\n",
            "|tt0000001|          Carmencita|             1|       0.017|\n",
            "|tt0000002|Le clown et ses c...|             5|       0.083|\n",
            "|tt0000003|      Pauvre Pierrot|             4|       0.067|\n",
            "|tt0000004|         Un bon bock|            12|         0.2|\n",
            "|tt0000005|    Blacksmith Scene|             1|       0.017|\n",
            "+---------+--------------------+--------------+------------+\n",
            "only showing top 5 rows\n",
            "\n"
          ]
        }
      ]
    },
    {
      "cell_type": "code",
      "metadata": {
        "colab": {
          "base_uri": "https://localhost:8080/"
        },
        "id": "9AK-HZPDPrmL",
        "outputId": "83c2b2ff-74f0-47c9-a0b2-c2d11bba71a2"
      },
      "source": [
        "(\n",
        "    df_titles.select('tconst','primaryTitle','runtimeMinutes',)\n",
        "    .withColumn('runtimeHours',df_titles['runtimeMinutes'].cast('int')/60)\n",
        "    #.withColumn('hour_plus2',df_titles['runtimeHours'] + 2)\n",
        "    .show(5)\n",
        ")"
      ],
      "execution_count": null,
      "outputs": [
        {
          "output_type": "stream",
          "name": "stdout",
          "text": [
            "+---------+--------------------+--------------+--------------------+\n",
            "|   tconst|        primaryTitle|runtimeMinutes|        runtimeHours|\n",
            "+---------+--------------------+--------------+--------------------+\n",
            "|tt0000001|          Carmencita|             1|0.016666666666666666|\n",
            "|tt0000002|Le clown et ses c...|             5| 0.08333333333333333|\n",
            "|tt0000003|      Pauvre Pierrot|             4| 0.06666666666666667|\n",
            "|tt0000004|         Un bon bock|            12|                 0.2|\n",
            "|tt0000005|    Blacksmith Scene|             1|0.016666666666666666|\n",
            "+---------+--------------------+--------------+--------------------+\n",
            "only showing top 5 rows\n",
            "\n"
          ]
        }
      ]
    },
    {
      "cell_type": "code",
      "metadata": {
        "colab": {
          "base_uri": "https://localhost:8080/"
        },
        "id": "8Dg_Pa59OeoV",
        "outputId": "a8442fa5-b54d-4829-9a8a-6981e79c00cd"
      },
      "source": [
        "(\n",
        "    df_titles.select('tconst','primaryTitle','runtimeMinutes',)\n",
        "    .withColumn('runtimeHours',col('runtimeMinutes').cast('int')/60)\n",
        "    .withColumn('hours_plus2' ,col('runtimeHours') + 2)\n",
        "    .show(5)\n",
        ")"
      ],
      "execution_count": null,
      "outputs": [
        {
          "output_type": "stream",
          "name": "stdout",
          "text": [
            "+---------+--------------------+--------------+--------------------+------------------+\n",
            "|   tconst|        primaryTitle|runtimeMinutes|        runtimeHours|       hours_plus2|\n",
            "+---------+--------------------+--------------+--------------------+------------------+\n",
            "|tt0000001|          Carmencita|             1|0.016666666666666666|2.0166666666666666|\n",
            "|tt0000002|Le clown et ses c...|             5| 0.08333333333333333|2.0833333333333335|\n",
            "|tt0000003|      Pauvre Pierrot|             4| 0.06666666666666667| 2.066666666666667|\n",
            "|tt0000004|         Un bon bock|            12|                 0.2|               2.2|\n",
            "|tt0000005|    Blacksmith Scene|             1|0.016666666666666666|2.0166666666666666|\n",
            "+---------+--------------------+--------------+--------------------+------------------+\n",
            "only showing top 5 rows\n",
            "\n"
          ]
        }
      ]
    },
    {
      "cell_type": "markdown",
      "metadata": {
        "id": "Z5IECVlGP20n"
      },
      "source": [
        "### **Expressões**"
      ]
    },
    {
      "cell_type": "code",
      "metadata": {
        "id": "0_h36DaGP-BN"
      },
      "source": [
        "from pyspark.sql.functions import expr"
      ],
      "execution_count": null,
      "outputs": []
    },
    {
      "cell_type": "code",
      "metadata": {
        "colab": {
          "base_uri": "https://localhost:8080/"
        },
        "id": "59700kpEQFsW",
        "outputId": "d7c041e0-834d-441d-c62f-799206c37260"
      },
      "source": [
        "(\n",
        "    df_titles.select('tconst','primaryTitle','runtimeMinutes',)\n",
        "    .withColumn('runtimeHours',expr('cast(runtimeMinutes as INT)/60'))\n",
        "    .show(5)\n",
        ")"
      ],
      "execution_count": null,
      "outputs": [
        {
          "output_type": "stream",
          "name": "stdout",
          "text": [
            "+---------+--------------------+--------------+--------------------+\n",
            "|   tconst|        primaryTitle|runtimeMinutes|        runtimeHours|\n",
            "+---------+--------------------+--------------+--------------------+\n",
            "|tt0000001|          Carmencita|             1|0.016666666666666666|\n",
            "|tt0000002|Le clown et ses c...|             5| 0.08333333333333333|\n",
            "|tt0000003|      Pauvre Pierrot|             4| 0.06666666666666667|\n",
            "|tt0000004|         Un bon bock|            12|                 0.2|\n",
            "|tt0000005|    Blacksmith Scene|             1|0.016666666666666666|\n",
            "+---------+--------------------+--------------+--------------------+\n",
            "only showing top 5 rows\n",
            "\n"
          ]
        }
      ]
    },
    {
      "cell_type": "code",
      "metadata": {
        "colab": {
          "base_uri": "https://localhost:8080/"
        },
        "id": "2i7le0oYRChf",
        "outputId": "159035be-900a-4549-e708-c9052c846700"
      },
      "source": [
        "(\n",
        "    df_titles.select('tconst','primaryTitle','runtimeMinutes',)\n",
        "    .withColumn('runtimeHours',expr('round(cast(runtimeMinutes as INT)/60,3)'))\n",
        "    .show(5)\n",
        ")"
      ],
      "execution_count": null,
      "outputs": [
        {
          "output_type": "stream",
          "name": "stdout",
          "text": [
            "+---------+--------------------+--------------+------------+\n",
            "|   tconst|        primaryTitle|runtimeMinutes|runtimeHours|\n",
            "+---------+--------------------+--------------+------------+\n",
            "|tt0000001|          Carmencita|             1|       0.017|\n",
            "|tt0000002|Le clown et ses c...|             5|       0.083|\n",
            "|tt0000003|      Pauvre Pierrot|             4|       0.067|\n",
            "|tt0000004|         Un bon bock|            12|         0.2|\n",
            "|tt0000005|    Blacksmith Scene|             1|       0.017|\n",
            "+---------+--------------------+--------------+------------+\n",
            "only showing top 5 rows\n",
            "\n"
          ]
        }
      ]
    },
    {
      "cell_type": "markdown",
      "metadata": {
        "id": "M2mvlH2wRTvN"
      },
      "source": [
        "# **Aula 3.5.2 -** Operações básicas com DataFrames - Parte II\n",
        "\n",
        "## **Manipulação dos Dados**"
      ]
    },
    {
      "cell_type": "code",
      "metadata": {
        "id": "fGPxWkEfRLVF",
        "colab": {
          "base_uri": "https://localhost:8080/"
        },
        "outputId": "4ff0a40d-9cb4-4ba0-f2c3-98b6db55cf37"
      },
      "source": [
        "df_titles.show(5)"
      ],
      "execution_count": null,
      "outputs": [
        {
          "output_type": "stream",
          "name": "stdout",
          "text": [
            "+---------+---------+--------------------+--------------------+-------+---------+-------+--------------+--------------------+\n",
            "|   tconst|titleType|        primaryTitle|       originalTitle|isAdult|startYear|endYear|runtimeMinutes|              genres|\n",
            "+---------+---------+--------------------+--------------------+-------+---------+-------+--------------+--------------------+\n",
            "|tt0000001|    short|          Carmencita|          Carmencita|      0|     1894|     \\N|             1|   Documentary,Short|\n",
            "|tt0000002|    short|Le clown et ses c...|Le clown et ses c...|      0|     1892|     \\N|             5|     Animation,Short|\n",
            "|tt0000003|    short|      Pauvre Pierrot|      Pauvre Pierrot|      0|     1892|     \\N|             4|Animation,Comedy,...|\n",
            "|tt0000004|    short|         Un bon bock|         Un bon bock|      0|     1892|     \\N|            12|     Animation,Short|\n",
            "|tt0000005|    short|    Blacksmith Scene|    Blacksmith Scene|      0|     1893|     \\N|             1|        Comedy,Short|\n",
            "+---------+---------+--------------------+--------------------+-------+---------+-------+--------------+--------------------+\n",
            "only showing top 5 rows\n",
            "\n"
          ]
        }
      ]
    },
    {
      "cell_type": "code",
      "metadata": {
        "colab": {
          "base_uri": "https://localhost:8080/"
        },
        "id": "OM5PD0rxSiYZ",
        "outputId": "83274212-be2c-4589-9304-cd66c3f42290"
      },
      "source": [
        "df_titles.select('tconst','primaryTitle','genres').show(5)"
      ],
      "execution_count": null,
      "outputs": [
        {
          "output_type": "stream",
          "name": "stdout",
          "text": [
            "+---------+--------------------+--------------------+\n",
            "|   tconst|        primaryTitle|              genres|\n",
            "+---------+--------------------+--------------------+\n",
            "|tt0000001|          Carmencita|   Documentary,Short|\n",
            "|tt0000002|Le clown et ses c...|     Animation,Short|\n",
            "|tt0000003|      Pauvre Pierrot|Animation,Comedy,...|\n",
            "|tt0000004|         Un bon bock|     Animation,Short|\n",
            "|tt0000005|    Blacksmith Scene|        Comedy,Short|\n",
            "+---------+--------------------+--------------------+\n",
            "only showing top 5 rows\n",
            "\n"
          ]
        }
      ]
    },
    {
      "cell_type": "code",
      "metadata": {
        "colab": {
          "base_uri": "https://localhost:8080/"
        },
        "id": "ccRf0O9CS2gF",
        "outputId": "bc6f0fdc-9c08-466d-ecf9-d91d4a5f7d4a"
      },
      "source": [
        "df_titles.columns"
      ],
      "execution_count": null,
      "outputs": [
        {
          "output_type": "execute_result",
          "data": {
            "text/plain": [
              "['tconst',\n",
              " 'titleType',\n",
              " 'primaryTitle',\n",
              " 'originalTitle',\n",
              " 'isAdult',\n",
              " 'startYear',\n",
              " 'endYear',\n",
              " 'runtimeMinutes',\n",
              " 'genres']"
            ]
          },
          "metadata": {},
          "execution_count": 64
        }
      ]
    },
    {
      "cell_type": "code",
      "metadata": {
        "id": "PqylwJMiTLTm"
      },
      "source": [
        "select_cols = [c for c in df_titles.columns if c.find('Title') != -1]"
      ],
      "execution_count": null,
      "outputs": []
    },
    {
      "cell_type": "code",
      "metadata": {
        "colab": {
          "base_uri": "https://localhost:8080/"
        },
        "id": "Cc_wJkLDTbUV",
        "outputId": "58c6f1f2-e3fc-489c-8d04-85341d6d798d"
      },
      "source": [
        "df_titles.select(select_cols).show(5)"
      ],
      "execution_count": null,
      "outputs": [
        {
          "output_type": "stream",
          "name": "stdout",
          "text": [
            "+--------------------+--------------------+\n",
            "|        primaryTitle|       originalTitle|\n",
            "+--------------------+--------------------+\n",
            "|          Carmencita|          Carmencita|\n",
            "|Le clown et ses c...|Le clown et ses c...|\n",
            "|      Pauvre Pierrot|      Pauvre Pierrot|\n",
            "|         Un bon bock|         Un bon bock|\n",
            "|    Blacksmith Scene|    Blacksmith Scene|\n",
            "+--------------------+--------------------+\n",
            "only showing top 5 rows\n",
            "\n"
          ]
        }
      ]
    },
    {
      "cell_type": "code",
      "metadata": {
        "colab": {
          "base_uri": "https://localhost:8080/"
        },
        "id": "XYvTR8SMSv3W",
        "outputId": "0989553b-5d39-4717-c400-c9b7005ff9c7"
      },
      "source": [
        "cols = ['tconst','primaryTitle','genres']\n",
        "df_titles.select(cols).show(10)"
      ],
      "execution_count": null,
      "outputs": [
        {
          "output_type": "stream",
          "name": "stdout",
          "text": [
            "+---------+--------------------+--------------------+\n",
            "|   tconst|        primaryTitle|              genres|\n",
            "+---------+--------------------+--------------------+\n",
            "|tt0000001|          Carmencita|   Documentary,Short|\n",
            "|tt0000002|Le clown et ses c...|     Animation,Short|\n",
            "|tt0000003|      Pauvre Pierrot|Animation,Comedy,...|\n",
            "|tt0000004|         Un bon bock|     Animation,Short|\n",
            "|tt0000005|    Blacksmith Scene|        Comedy,Short|\n",
            "|tt0000006|   Chinese Opium Den|               Short|\n",
            "|tt0000007|Corbett and Court...|         Short,Sport|\n",
            "|tt0000008|Edison Kinetoscop...|   Documentary,Short|\n",
            "|tt0000009|          Miss Jerry|       Romance,Short|\n",
            "|tt0000010| Leaving the Factory|   Documentary,Short|\n",
            "+---------+--------------------+--------------------+\n",
            "only showing top 10 rows\n",
            "\n"
          ]
        }
      ]
    },
    {
      "cell_type": "code",
      "metadata": {
        "colab": {
          "base_uri": "https://localhost:8080/"
        },
        "id": "3YvjJhNIToSP",
        "outputId": "3052126a-2ab6-41b6-ba0e-1f32c5272b74"
      },
      "source": [
        "cols = ['primaryTitle','genres']\n",
        "df_titles.select('tconst',*cols).show(5)"
      ],
      "execution_count": null,
      "outputs": [
        {
          "output_type": "stream",
          "name": "stdout",
          "text": [
            "+---------+--------------------+--------------------+\n",
            "|   tconst|        primaryTitle|              genres|\n",
            "+---------+--------------------+--------------------+\n",
            "|tt0000001|          Carmencita|   Documentary,Short|\n",
            "|tt0000002|Le clown et ses c...|     Animation,Short|\n",
            "|tt0000003|      Pauvre Pierrot|Animation,Comedy,...|\n",
            "|tt0000004|         Un bon bock|     Animation,Short|\n",
            "|tt0000005|    Blacksmith Scene|        Comedy,Short|\n",
            "+---------+--------------------+--------------------+\n",
            "only showing top 5 rows\n",
            "\n"
          ]
        }
      ]
    },
    {
      "cell_type": "code",
      "metadata": {
        "colab": {
          "base_uri": "https://localhost:8080/"
        },
        "id": "Ew9-XQwgT7QW",
        "outputId": "c8bebd61-6099-4694-b300-587d1b77eb92"
      },
      "source": [
        "df_titles.select('*').show(5)"
      ],
      "execution_count": null,
      "outputs": [
        {
          "output_type": "stream",
          "name": "stdout",
          "text": [
            "+---------+---------+--------------------+--------------------+-------+---------+-------+--------------+--------------------+\n",
            "|   tconst|titleType|        primaryTitle|       originalTitle|isAdult|startYear|endYear|runtimeMinutes|              genres|\n",
            "+---------+---------+--------------------+--------------------+-------+---------+-------+--------------+--------------------+\n",
            "|tt0000001|    short|          Carmencita|          Carmencita|      0|     1894|     \\N|             1|   Documentary,Short|\n",
            "|tt0000002|    short|Le clown et ses c...|Le clown et ses c...|      0|     1892|     \\N|             5|     Animation,Short|\n",
            "|tt0000003|    short|      Pauvre Pierrot|      Pauvre Pierrot|      0|     1892|     \\N|             4|Animation,Comedy,...|\n",
            "|tt0000004|    short|         Un bon bock|         Un bon bock|      0|     1892|     \\N|            12|     Animation,Short|\n",
            "|tt0000005|    short|    Blacksmith Scene|    Blacksmith Scene|      0|     1893|     \\N|             1|        Comedy,Short|\n",
            "+---------+---------+--------------------+--------------------+-------+---------+-------+--------------+--------------------+\n",
            "only showing top 5 rows\n",
            "\n"
          ]
        }
      ]
    },
    {
      "cell_type": "markdown",
      "metadata": {
        "id": "escA6JCOUDrb"
      },
      "source": [
        "**Observações :**\n",
        "\n",
        "  - Podemos realizar operações sobre colunas selecionadas\n",
        "  - A ordem em que as colunas são selecionadas é a ordem em que elas vão ser inseridas no DataFrame resultante."
      ]
    },
    {
      "cell_type": "code",
      "metadata": {
        "colab": {
          "base_uri": "https://localhost:8080/"
        },
        "id": "dD8CE-BsUBM2",
        "outputId": "69109db2-9adb-41ae-dce8-bb54e35c7c9a"
      },
      "source": [
        "from pyspark.sql.functions import upper\n",
        "\n",
        "df_titles.select('tconst',\n",
        "                 'genres',\n",
        "                 upper('primaryTitle').alias('primaryTitle')).show(5)"
      ],
      "execution_count": null,
      "outputs": [
        {
          "output_type": "stream",
          "name": "stdout",
          "text": [
            "+---------+--------------------+--------------------+\n",
            "|   tconst|              genres|        primaryTitle|\n",
            "+---------+--------------------+--------------------+\n",
            "|tt0000001|   Documentary,Short|          CARMENCITA|\n",
            "|tt0000002|     Animation,Short|LE CLOWN ET SES C...|\n",
            "|tt0000003|Animation,Comedy,...|      PAUVRE PIERROT|\n",
            "|tt0000004|     Animation,Short|         UN BON BOCK|\n",
            "|tt0000005|        Comedy,Short|    BLACKSMITH SCENE|\n",
            "+---------+--------------------+--------------------+\n",
            "only showing top 5 rows\n",
            "\n"
          ]
        }
      ]
    },
    {
      "cell_type": "markdown",
      "metadata": {
        "id": "xpZLfuusU3ce"
      },
      "source": [
        "**Selecionando valores distintos**"
      ]
    },
    {
      "cell_type": "code",
      "metadata": {
        "colab": {
          "base_uri": "https://localhost:8080/"
        },
        "id": "P5c5StIeUyDi",
        "outputId": "6a05cd8b-ee55-40dd-ec2a-9729fbaeff72"
      },
      "source": [
        "df_titles.select('startYear').distinct().show()"
      ],
      "execution_count": null,
      "outputs": [
        {
          "output_type": "stream",
          "name": "stdout",
          "text": [
            "+---------+\n",
            "|startYear|\n",
            "+---------+\n",
            "|     1903|\n",
            "|     1953|\n",
            "|     1897|\n",
            "|     1957|\n",
            "|     1987|\n",
            "|     1956|\n",
            "|     1936|\n",
            "|     2016|\n",
            "|     2020|\n",
            "|     2012|\n",
            "|     1958|\n",
            "|     1910|\n",
            "|     1943|\n",
            "|     1915|\n",
            "|     1972|\n",
            "|     1931|\n",
            "|     1911|\n",
            "|     1926|\n",
            "|     1938|\n",
            "|     1988|\n",
            "+---------+\n",
            "only showing top 20 rows\n",
            "\n"
          ]
        }
      ]
    },
    {
      "cell_type": "code",
      "metadata": {
        "colab": {
          "base_uri": "https://localhost:8080/"
        },
        "id": "YT0rwPtdWrva",
        "outputId": "9cfb3035-7608-44eb-c726-705c5e56c1ea"
      },
      "source": [
        "df_titles.distinct().show(5)"
      ],
      "execution_count": null,
      "outputs": [
        {
          "output_type": "stream",
          "name": "stdout",
          "text": [
            "+---------+---------+--------------------+--------------------+-------+---------+-------+--------------+--------------------+\n",
            "|   tconst|titleType|        primaryTitle|       originalTitle|isAdult|startYear|endYear|runtimeMinutes|              genres|\n",
            "+---------+---------+--------------------+--------------------+-------+---------+-------+--------------+--------------------+\n",
            "|tt0000033|    short|  Horse Trick Riders|          La voltige|      0|     1895|     \\N|             1|Comedy,Documentar...|\n",
            "|tt0000132|    short|          Card Party|Une partie de cartes|      0|     1896|     \\N|             1|     Biography,Short|\n",
            "|tt0214902|    short|        The Magician|         Le magicien|      0|     1898|     \\N|             1|Fantasy,Horror,Short|\n",
            "|tt0225248|    short|Canada Vignettes:...|Canada Vignettes:...|      0|     1979|     \\N|             1|     Animation,Short|\n",
            "|tt0245776|    short|       The Biter Bit|       The Biter Bit|      0|     1899|     \\N|             1|        Comedy,Short|\n",
            "+---------+---------+--------------------+--------------------+-------+---------+-------+--------------+--------------------+\n",
            "only showing top 5 rows\n",
            "\n"
          ]
        }
      ]
    },
    {
      "cell_type": "code",
      "metadata": {
        "colab": {
          "base_uri": "https://localhost:8080/"
        },
        "id": "0zYdvTxCXAoo",
        "outputId": "7c6e7228-ceca-4153-a02c-95d300768278"
      },
      "source": [
        "df_titles.count()"
      ],
      "execution_count": null,
      "outputs": [
        {
          "output_type": "execute_result",
          "data": {
            "text/plain": [
              "8328316"
            ]
          },
          "metadata": {},
          "execution_count": 73
        }
      ]
    },
    {
      "cell_type": "code",
      "metadata": {
        "colab": {
          "base_uri": "https://localhost:8080/"
        },
        "id": "vYnwEs2cXclI",
        "outputId": "588be1f6-e2f8-4cc3-edf0-67df05250bc2"
      },
      "source": [
        "df_titles.distinct().explain('formatted')"
      ],
      "execution_count": null,
      "outputs": [
        {
          "output_type": "stream",
          "name": "stdout",
          "text": [
            "== Physical Plan ==\n",
            "AdaptiveSparkPlan (5)\n",
            "+- HashAggregate (4)\n",
            "   +- Exchange (3)\n",
            "      +- HashAggregate (2)\n",
            "         +- Scan csv  (1)\n",
            "\n",
            "\n",
            "(1) Scan csv \n",
            "Output [9]: [tconst#191, titleType#192, primaryTitle#193, originalTitle#194, isAdult#195, startYear#196, endYear#197, runtimeMinutes#198, genres#199]\n",
            "Batched: false\n",
            "Location: InMemoryFileIndex [file:/content/drive/MyDrive/igti_bootcamps/eng_dados_cloud/mod3/title_basics.csv]\n",
            "ReadSchema: struct<tconst:string,titleType:string,primaryTitle:string,originalTitle:string,isAdult:string,startYear:string,endYear:string,runtimeMinutes:string,genres:string>\n",
            "\n",
            "(2) HashAggregate\n",
            "Input [9]: [tconst#191, titleType#192, primaryTitle#193, originalTitle#194, isAdult#195, startYear#196, endYear#197, runtimeMinutes#198, genres#199]\n",
            "Keys [9]: [runtimeMinutes#198, tconst#191, titleType#192, originalTitle#194, startYear#196, endYear#197, primaryTitle#193, isAdult#195, genres#199]\n",
            "Functions: []\n",
            "Aggregate Attributes: []\n",
            "Results [9]: [runtimeMinutes#198, tconst#191, titleType#192, originalTitle#194, startYear#196, endYear#197, primaryTitle#193, isAdult#195, genres#199]\n",
            "\n",
            "(3) Exchange\n",
            "Input [9]: [runtimeMinutes#198, tconst#191, titleType#192, originalTitle#194, startYear#196, endYear#197, primaryTitle#193, isAdult#195, genres#199]\n",
            "Arguments: hashpartitioning(runtimeMinutes#198, tconst#191, titleType#192, originalTitle#194, startYear#196, endYear#197, primaryTitle#193, isAdult#195, genres#199, 200), ENSURE_REQUIREMENTS, [id=#427]\n",
            "\n",
            "(4) HashAggregate\n",
            "Input [9]: [runtimeMinutes#198, tconst#191, titleType#192, originalTitle#194, startYear#196, endYear#197, primaryTitle#193, isAdult#195, genres#199]\n",
            "Keys [9]: [runtimeMinutes#198, tconst#191, titleType#192, originalTitle#194, startYear#196, endYear#197, primaryTitle#193, isAdult#195, genres#199]\n",
            "Functions: []\n",
            "Aggregate Attributes: []\n",
            "Results [9]: [tconst#191, titleType#192, primaryTitle#193, originalTitle#194, isAdult#195, startYear#196, endYear#197, runtimeMinutes#198, genres#199]\n",
            "\n",
            "(5) AdaptiveSparkPlan\n",
            "Output [9]: [tconst#191, titleType#192, primaryTitle#193, originalTitle#194, isAdult#195, startYear#196, endYear#197, runtimeMinutes#198, genres#199]\n",
            "Arguments: isFinalPlan=false\n",
            "\n",
            "\n"
          ]
        }
      ]
    },
    {
      "cell_type": "markdown",
      "metadata": {
        "id": "-fX36Q2eXuUa"
      },
      "source": [
        "**Filtros**\n",
        "\n",
        "Operadores lógicos : \n",
        "   - e   : &\n",
        "   - ou  : |\n",
        "   - não : ~\n",
        "\n",
        "Para fazer o filtro, pode ser usado tanto a função `filter()` como `where()` "
      ]
    },
    {
      "cell_type": "markdown",
      "metadata": {
        "id": "Rs0sRrH7YYVP"
      },
      "source": [
        "**Filtros com uma condição**"
      ]
    },
    {
      "cell_type": "code",
      "metadata": {
        "colab": {
          "base_uri": "https://localhost:8080/"
        },
        "id": "c1_M-ZUhYXb-",
        "outputId": "b2082b8a-3bb4-4890-bc9f-1eab0a0551a9"
      },
      "source": [
        "(\n",
        "    df_titles.filter(col('titleType') == 'movie').show(5)\n",
        ")"
      ],
      "execution_count": null,
      "outputs": [
        {
          "output_type": "stream",
          "name": "stdout",
          "text": [
            "+---------+---------+------------------+------------------+-------+---------+-------+--------------+------+\n",
            "|   tconst|titleType|      primaryTitle|     originalTitle|isAdult|startYear|endYear|runtimeMinutes|genres|\n",
            "+---------+---------+------------------+------------------+-------+---------+-------+--------------+------+\n",
            "|tt0000502|    movie|          Bohemios|          Bohemios|      0|     1905|     \\N|           100|    \\N|\n",
            "|tt0000591|    movie|  The Prodigal Son| L'enfant prodigue|      0|     1907|     \\N|            90| Drama|\n",
            "|tt0000615|    movie|Robbery Under Arms|Robbery Under Arms|      0|     1907|     \\N|            \\N| Drama|\n",
            "|tt0000630|    movie|            Hamlet|            Amleto|      0|     1908|     \\N|            \\N| Drama|\n",
            "|tt0000675|    movie|       Don Quijote|       Don Quijote|      0|     1908|     \\N|            \\N| Drama|\n",
            "+---------+---------+------------------+------------------+-------+---------+-------+--------------+------+\n",
            "only showing top 5 rows\n",
            "\n"
          ]
        }
      ]
    },
    {
      "cell_type": "code",
      "metadata": {
        "colab": {
          "base_uri": "https://localhost:8080/"
        },
        "id": "epkcQU4KX_S1",
        "outputId": "d19e6e3f-d949-49e9-ce51-2ea4d5d791d6"
      },
      "source": [
        "(\n",
        "    df_titles.where(col('titleType') == 'movie').show()\n",
        ")"
      ],
      "execution_count": null,
      "outputs": [
        {
          "output_type": "stream",
          "name": "stdout",
          "text": [
            "+---------+---------+--------------------+--------------------+-------+---------+-------+--------------+-----------------+\n",
            "|   tconst|titleType|        primaryTitle|       originalTitle|isAdult|startYear|endYear|runtimeMinutes|           genres|\n",
            "+---------+---------+--------------------+--------------------+-------+---------+-------+--------------+-----------------+\n",
            "|tt0000502|    movie|            Bohemios|            Bohemios|      0|     1905|     \\N|           100|               \\N|\n",
            "|tt0000591|    movie|    The Prodigal Son|   L'enfant prodigue|      0|     1907|     \\N|            90|            Drama|\n",
            "|tt0000615|    movie|  Robbery Under Arms|  Robbery Under Arms|      0|     1907|     \\N|            \\N|            Drama|\n",
            "|tt0000630|    movie|              Hamlet|              Amleto|      0|     1908|     \\N|            \\N|            Drama|\n",
            "|tt0000675|    movie|         Don Quijote|         Don Quijote|      0|     1908|     \\N|            \\N|            Drama|\n",
            "|tt0000679|    movie|The Fairylogue an...|The Fairylogue an...|      0|     1908|     \\N|           120|Adventure,Fantasy|\n",
            "|tt0000739|    movie|El pastorcito de ...|El pastorcito de ...|      0|     1908|     \\N|            \\N|            Drama|\n",
            "|tt0000793|    movie|       Andreas Hofer|       Andreas Hofer|      0|     1909|     \\N|            \\N|            Drama|\n",
            "|tt0000814|    movie|La bocana de Mar ...|La bocana de Mar ...|      0|     1909|     \\N|            \\N|               \\N|\n",
            "|tt0000838|    movie|  A Cultura do Cacau|  A Cultura do Cacau|      0|     1909|     \\N|            \\N|               \\N|\n",
            "|tt0000842|    movie|De Garraf a Barce...|De Garraf a Barce...|      0|     1909|     \\N|            \\N|               \\N|\n",
            "|tt0000846|    movie|Un día en Xochimilco|Un día en Xochimilco|      0|     1909|     \\N|            \\N|               \\N|\n",
            "|tt0000850|    movie|    Los dos hermanos|    Los dos hermanos|      0|     1909|     \\N|            \\N|               \\N|\n",
            "|tt0000859|    movie|Fabricación del c...|Fabricación del c...|      0|     1909|     \\N|            \\N|               \\N|\n",
            "|tt0000862|    movie|          Faldgruben|          Faldgruben|      0|     1909|     \\N|            \\N|               \\N|\n",
            "|tt0000867|    movie|     Fiesta de toros|     Fiesta de toros|      0|     1909|     \\N|            \\N|               \\N|\n",
            "|tt0000868|    movie|Fiestas de Santa ...|Fiestas de Santa ...|      0|     1909|     \\N|            \\N|               \\N|\n",
            "|tt0000869|    movie|Fiestas en La Gar...|Fiestas en La Gar...|      0|     1909|     \\N|            \\N|               \\N|\n",
            "|tt0000879|    movie|Gira política de ...|Gira política de ...|      0|     1909|     \\N|            \\N|               \\N|\n",
            "|tt0000886|    movie|Hamlet, Prince of...|              Hamlet|      0|     1910|     \\N|            \\N|            Drama|\n",
            "+---------+---------+--------------------+--------------------+-------+---------+-------+--------------+-----------------+\n",
            "only showing top 20 rows\n",
            "\n"
          ]
        }
      ]
    },
    {
      "cell_type": "code",
      "metadata": {
        "colab": {
          "base_uri": "https://localhost:8080/"
        },
        "id": "mF1y9cAUZpTV",
        "outputId": "9d5448f4-40b3-42cb-e2e4-8fd096428513"
      },
      "source": [
        "(\n",
        "    df_titles.where(col('titleType') == 'movie').count()\n",
        ")"
      ],
      "execution_count": null,
      "outputs": [
        {
          "output_type": "execute_result",
          "data": {
            "text/plain": [
              "591977"
            ]
          },
          "metadata": {},
          "execution_count": 77
        }
      ]
    },
    {
      "cell_type": "code",
      "metadata": {
        "colab": {
          "base_uri": "https://localhost:8080/"
        },
        "id": "9V_rm1vbZ1J0",
        "outputId": "7c94550b-c6e9-4e9d-9577-85fd9494ebde"
      },
      "source": [
        "(\n",
        "    df_titles.filter((col('titleType') == 'movie') & (col('runTimeMinutes') <= 90)).show()\n",
        ")"
      ],
      "execution_count": null,
      "outputs": [
        {
          "output_type": "stream",
          "name": "stdout",
          "text": [
            "+---------+---------+--------------------+--------------------+-------+---------+-------+--------------+--------------------+\n",
            "|   tconst|titleType|        primaryTitle|       originalTitle|isAdult|startYear|endYear|runtimeMinutes|              genres|\n",
            "+---------+---------+--------------------+--------------------+-------+---------+-------+--------------+--------------------+\n",
            "|tt0000591|    movie|    The Prodigal Son|   L'enfant prodigue|      0|     1907|     \\N|            90|               Drama|\n",
            "|tt0001184|    movie|Don Juan de Serra...|Don Juan de Serra...|      0|     1910|     \\N|            58|     Adventure,Drama|\n",
            "|tt0001258|    movie|The White Slave T...|Den hvide slaveha...|      0|     1910|     \\N|            45|               Drama|\n",
            "|tt0001285|    movie|   The Life of Moses|   The Life of Moses|      0|     1909|     \\N|            50|Biography,Drama,F...|\n",
            "|tt0001498|    movie|The Battle of Tra...|The Battle of Tra...|      0|     1911|     \\N|            51|                 War|\n",
            "|tt0001592|    movie|In the Prime of Life|       Ekspeditricen|      0|     1911|     \\N|            52|               Drama|\n",
            "|tt0001630|    movie|    Der fremde Vogel|    Der fremde Vogel|      0|     1911|     \\N|            45|                  \\N|\n",
            "|tt0001790|    movie|Les Misérables, P...|Les misérables - ...|      0|     1913|     \\N|            60|               Drama|\n",
            "|tt0001812|    movie|         Oedipus Rex|         Oedipus Rex|      0|     1911|     \\N|            56|               Drama|\n",
            "|tt0001892|    movie|      Den sorte drøm|      Den sorte drøm|      0|     1911|     \\N|            53|               Drama|\n",
            "|tt0001911|    movie|         Nell Gwynne|Sweet Nell of Old...|      0|     1911|     \\N|            50|Biography,Drama,H...|\n",
            "|tt0001964|    movie|       The Traitress|      Die Verräterin|      0|     1911|     \\N|            48|               Drama|\n",
            "|tt0002026|    movie|Anny - Story of a...|Anny - en gatepig...|      0|     1912|     \\N|            68|       Drama,Romance|\n",
            "|tt0002094|    movie|          Charles IV|          Charles IV|      0|     1912|     \\N|            50|                  \\N|\n",
            "|tt0002130|    movie|     Dante's Inferno|           L'Inferno|      0|     1911|     \\N|            71|Adventure,Drama,F...|\n",
            "|tt0002153|    movie|The Great Circus ...|Dødsspring til he...|      0|     1912|     \\N|            45|               Drama|\n",
            "|tt0002186|    movie|   The Flying Circus| Den flyvende cirkus|      0|     1912|     \\N|            46|               Drama|\n",
            "|tt0002199|    movie|From the Manger t...|From the Manger t...|      0|     1912|     \\N|            60|     Biography,Drama|\n",
            "|tt0002315|    movie|El lobo de la sierra|El lobo de la sierra|      0|     1912|     \\N|            76|                  \\N|\n",
            "|tt0002423|    movie|             Passion|      Madame DuBarry|      0|     1919|     \\N|            85|Biography,Drama,R...|\n",
            "+---------+---------+--------------------+--------------------+-------+---------+-------+--------------+--------------------+\n",
            "only showing top 20 rows\n",
            "\n"
          ]
        }
      ]
    },
    {
      "cell_type": "code",
      "metadata": {
        "colab": {
          "base_uri": "https://localhost:8080/"
        },
        "id": "KCYmJ85EaL3S",
        "outputId": "74ea7ca4-44f1-48d6-ced0-b50f4a0ea232"
      },
      "source": [
        "(\n",
        "    df_titles.filter(((col('titleType') == 'movie') | (col('titleType') == 'tvSeries')) & (col('runtimeMinutes') <= 90)).show()\n",
        ")"
      ],
      "execution_count": null,
      "outputs": [
        {
          "output_type": "stream",
          "name": "stdout",
          "text": [
            "+---------+---------+--------------------+--------------------+-------+---------+-------+--------------+--------------------+\n",
            "|   tconst|titleType|        primaryTitle|       originalTitle|isAdult|startYear|endYear|runtimeMinutes|              genres|\n",
            "+---------+---------+--------------------+--------------------+-------+---------+-------+--------------+--------------------+\n",
            "|tt0000591|    movie|    The Prodigal Son|   L'enfant prodigue|      0|     1907|     \\N|            90|               Drama|\n",
            "|tt0001184|    movie|Don Juan de Serra...|Don Juan de Serra...|      0|     1910|     \\N|            58|     Adventure,Drama|\n",
            "|tt0001258|    movie|The White Slave T...|Den hvide slaveha...|      0|     1910|     \\N|            45|               Drama|\n",
            "|tt0001285|    movie|   The Life of Moses|   The Life of Moses|      0|     1909|     \\N|            50|Biography,Drama,F...|\n",
            "|tt0001498|    movie|The Battle of Tra...|The Battle of Tra...|      0|     1911|     \\N|            51|                 War|\n",
            "|tt0001592|    movie|In the Prime of Life|       Ekspeditricen|      0|     1911|     \\N|            52|               Drama|\n",
            "|tt0001630|    movie|    Der fremde Vogel|    Der fremde Vogel|      0|     1911|     \\N|            45|                  \\N|\n",
            "|tt0001790|    movie|Les Misérables, P...|Les misérables - ...|      0|     1913|     \\N|            60|               Drama|\n",
            "|tt0001812|    movie|         Oedipus Rex|         Oedipus Rex|      0|     1911|     \\N|            56|               Drama|\n",
            "|tt0001892|    movie|      Den sorte drøm|      Den sorte drøm|      0|     1911|     \\N|            53|               Drama|\n",
            "|tt0001911|    movie|         Nell Gwynne|Sweet Nell of Old...|      0|     1911|     \\N|            50|Biography,Drama,H...|\n",
            "|tt0001964|    movie|       The Traitress|      Die Verräterin|      0|     1911|     \\N|            48|               Drama|\n",
            "|tt0002026|    movie|Anny - Story of a...|Anny - en gatepig...|      0|     1912|     \\N|            68|       Drama,Romance|\n",
            "|tt0002094|    movie|          Charles IV|          Charles IV|      0|     1912|     \\N|            50|                  \\N|\n",
            "|tt0002130|    movie|     Dante's Inferno|           L'Inferno|      0|     1911|     \\N|            71|Adventure,Drama,F...|\n",
            "|tt0002153|    movie|The Great Circus ...|Dødsspring til he...|      0|     1912|     \\N|            45|               Drama|\n",
            "|tt0002186|    movie|   The Flying Circus| Den flyvende cirkus|      0|     1912|     \\N|            46|               Drama|\n",
            "|tt0002199|    movie|From the Manger t...|From the Manger t...|      0|     1912|     \\N|            60|     Biography,Drama|\n",
            "|tt0002315|    movie|El lobo de la sierra|El lobo de la sierra|      0|     1912|     \\N|            76|                  \\N|\n",
            "|tt0002423|    movie|             Passion|      Madame DuBarry|      0|     1919|     \\N|            85|Biography,Drama,R...|\n",
            "+---------+---------+--------------------+--------------------+-------+---------+-------+--------------+--------------------+\n",
            "only showing top 20 rows\n",
            "\n"
          ]
        }
      ]
    },
    {
      "cell_type": "code",
      "metadata": {
        "colab": {
          "base_uri": "https://localhost:8080/"
        },
        "id": "F0inqNeJa58D",
        "outputId": "c225d435-1cd0-447a-a0c8-beef60a178ff"
      },
      "source": [
        "(\n",
        "df_titles.filter( ((col('titleType') == 'movie') & (col('titleType') == 'tvSeries') & (col('runtimeMinutes') <= 90)) ).count()\n",
        ")"
      ],
      "execution_count": null,
      "outputs": [
        {
          "output_type": "execute_result",
          "data": {
            "text/plain": [
              "0"
            ]
          },
          "metadata": {},
          "execution_count": 80
        }
      ]
    },
    {
      "cell_type": "code",
      "metadata": {
        "colab": {
          "base_uri": "https://localhost:8080/"
        },
        "id": "z95f5JM4aoab",
        "outputId": "b9a02b2c-877e-42db-f451-141b18856c16"
      },
      "source": [
        "(\n",
        "    df_titles.filter(((col('titleType') == 'movie') | (col('titleType') == 'tvSeries')) & (col('runtimeMinutes') <= 90)).count()\n",
        ")"
      ],
      "execution_count": null,
      "outputs": [
        {
          "output_type": "execute_result",
          "data": {
            "text/plain": [
              "296182"
            ]
          },
          "metadata": {},
          "execution_count": 81
        }
      ]
    },
    {
      "cell_type": "code",
      "metadata": {
        "colab": {
          "base_uri": "https://localhost:8080/"
        },
        "id": "k_oq-7Z_aw7K",
        "outputId": "e09ab264-2df7-4d5b-cb65-2b201958cef3"
      },
      "source": [
        "df_titles.filter((col('titleType').isin('movie','tvSeries')) & (col('runtimeMinutes') <= 90)).show(5)"
      ],
      "execution_count": null,
      "outputs": [
        {
          "output_type": "stream",
          "name": "stdout",
          "text": [
            "+---------+---------+--------------------+--------------------+-------+---------+-------+--------------+--------------------+\n",
            "|   tconst|titleType|        primaryTitle|       originalTitle|isAdult|startYear|endYear|runtimeMinutes|              genres|\n",
            "+---------+---------+--------------------+--------------------+-------+---------+-------+--------------+--------------------+\n",
            "|tt0000591|    movie|    The Prodigal Son|   L'enfant prodigue|      0|     1907|     \\N|            90|               Drama|\n",
            "|tt0001184|    movie|Don Juan de Serra...|Don Juan de Serra...|      0|     1910|     \\N|            58|     Adventure,Drama|\n",
            "|tt0001258|    movie|The White Slave T...|Den hvide slaveha...|      0|     1910|     \\N|            45|               Drama|\n",
            "|tt0001285|    movie|   The Life of Moses|   The Life of Moses|      0|     1909|     \\N|            50|Biography,Drama,F...|\n",
            "|tt0001498|    movie|The Battle of Tra...|The Battle of Tra...|      0|     1911|     \\N|            51|                 War|\n",
            "+---------+---------+--------------------+--------------------+-------+---------+-------+--------------+--------------------+\n",
            "only showing top 5 rows\n",
            "\n"
          ]
        }
      ]
    },
    {
      "cell_type": "code",
      "metadata": {
        "colab": {
          "base_uri": "https://localhost:8080/"
        },
        "id": "TqSKvRuBb18s",
        "outputId": "9beda566-32e6-4667-ea30-f97c02c7fc54"
      },
      "source": [
        "(\n",
        "df_titles\n",
        ".filter(col('titleType').isin('movie','tvSeries'))\n",
        ".filter(col('runtimeMinutes') <= 90)\n",
        ".count()\n",
        ")"
      ],
      "execution_count": null,
      "outputs": [
        {
          "output_type": "execute_result",
          "data": {
            "text/plain": [
              "296182"
            ]
          },
          "metadata": {},
          "execution_count": 83
        }
      ]
    },
    {
      "cell_type": "markdown",
      "metadata": {
        "id": "YBqhjdj_cZV8"
      },
      "source": [
        "**Filtros utilizando expressões**"
      ]
    },
    {
      "cell_type": "code",
      "metadata": {
        "colab": {
          "base_uri": "https://localhost:8080/"
        },
        "id": "U25H4_kNcYYq",
        "outputId": "f9e60b55-bbcc-4f56-c607-ed6ba09aeef5"
      },
      "source": [
        "(\n",
        "    df_titles\n",
        "    .filter('titleType == \"movie\"')\n",
        "    .filter('runtimeMinutes <= 90')\n",
        "    .show(5)\n",
        ")"
      ],
      "execution_count": null,
      "outputs": [
        {
          "output_type": "stream",
          "name": "stdout",
          "text": [
            "+---------+---------+--------------------+--------------------+-------+---------+-------+--------------+--------------------+\n",
            "|   tconst|titleType|        primaryTitle|       originalTitle|isAdult|startYear|endYear|runtimeMinutes|              genres|\n",
            "+---------+---------+--------------------+--------------------+-------+---------+-------+--------------+--------------------+\n",
            "|tt0000591|    movie|    The Prodigal Son|   L'enfant prodigue|      0|     1907|     \\N|            90|               Drama|\n",
            "|tt0001184|    movie|Don Juan de Serra...|Don Juan de Serra...|      0|     1910|     \\N|            58|     Adventure,Drama|\n",
            "|tt0001258|    movie|The White Slave T...|Den hvide slaveha...|      0|     1910|     \\N|            45|               Drama|\n",
            "|tt0001285|    movie|   The Life of Moses|   The Life of Moses|      0|     1909|     \\N|            50|Biography,Drama,F...|\n",
            "|tt0001498|    movie|The Battle of Tra...|The Battle of Tra...|      0|     1911|     \\N|            51|                 War|\n",
            "+---------+---------+--------------------+--------------------+-------+---------+-------+--------------+--------------------+\n",
            "only showing top 5 rows\n",
            "\n"
          ]
        }
      ]
    },
    {
      "cell_type": "code",
      "metadata": {
        "colab": {
          "base_uri": "https://localhost:8080/"
        },
        "id": "I82r4_rFcpgn",
        "outputId": "55e83b05-b547-4a57-e9c8-5a1c71bca68d"
      },
      "source": [
        "(\n",
        "    df_titles\n",
        "    .filter('titleType in (\"movie\",\"tvSeries\") and runtimeMinutes <= 90')\n",
        "    .show(5)\n",
        ")"
      ],
      "execution_count": null,
      "outputs": [
        {
          "output_type": "stream",
          "name": "stdout",
          "text": [
            "+---------+---------+--------------------+--------------------+-------+---------+-------+--------------+--------------------+\n",
            "|   tconst|titleType|        primaryTitle|       originalTitle|isAdult|startYear|endYear|runtimeMinutes|              genres|\n",
            "+---------+---------+--------------------+--------------------+-------+---------+-------+--------------+--------------------+\n",
            "|tt0000591|    movie|    The Prodigal Son|   L'enfant prodigue|      0|     1907|     \\N|            90|               Drama|\n",
            "|tt0001184|    movie|Don Juan de Serra...|Don Juan de Serra...|      0|     1910|     \\N|            58|     Adventure,Drama|\n",
            "|tt0001258|    movie|The White Slave T...|Den hvide slaveha...|      0|     1910|     \\N|            45|               Drama|\n",
            "|tt0001285|    movie|   The Life of Moses|   The Life of Moses|      0|     1909|     \\N|            50|Biography,Drama,F...|\n",
            "|tt0001498|    movie|The Battle of Tra...|The Battle of Tra...|      0|     1911|     \\N|            51|                 War|\n",
            "+---------+---------+--------------------+--------------------+-------+---------+-------+--------------+--------------------+\n",
            "only showing top 5 rows\n",
            "\n"
          ]
        }
      ]
    },
    {
      "cell_type": "markdown",
      "metadata": {
        "id": "3IiU5I7HdWeO"
      },
      "source": [
        "**Observações**\n",
        "\n",
        "Quando nos referimos às colunas por meio da função `col()`, temos acesso à diversos métodos das colunas que podem ser utilizados para auxiliar na filtragem do DataFrame. Alguns deles são :\n",
        "\n",
        "  - `isin()` : checa se a coluna contém os valores listados na função.\n",
        "  - `contains` : utilizado para verificar se uma coluna de texto contém algum padrão especificado (não aceita regex). Aceita uma outra coluna de text.\n",
        "  - `like()` : utilizado para verificar se uma coluna de texto contém algum padrão especificado (não aceita regex). Funciona de forma similar so \"LIKE\" do SQL.\n",
        "  - `rlike()` : utilizado para verificar se uma coluna de texto contém algum padrão especificado (**aceita regex**). Funciona de forma similar ao \"RLIKE\" do SQL\n",
        "  - `startswith()` : utilizado para verificar se uma coluna de texto começa com algum padrão especificado (**aceita regex**).\n",
        "  - `endswith()` :  utilizado para verificar se uma coluna de texto termina com algum padrão especificado (**aceita regex**).\n",
        "  - `between()` : checa se os valores da coluna estão dentro do intervalo especificado. Os dois lados do intervalo são inclusivos\n",
        "  - `isNull()` : retorna True se o valor da coluna é nulo\n",
        "  - `isNotNull()` : retorna True se o valor da coluna é não nulo\n",
        "\n",
        "Outros métodos úteis :\n",
        "\n",
        "  - `alias()/name()` : usado para renomear as colunas em operações como select() e agg()\n",
        "  - `astype()/cast()` : usado para mudar o tipo das colunas. Aceita tanto um\n",
        "  string como um tipo especificado pelo módulo pyspark.sql.types\n",
        "  - `substr()` : utilizado para cortar uma string com base em índices dos caracteres.  "
      ]
    },
    {
      "cell_type": "code",
      "metadata": {
        "colab": {
          "base_uri": "https://localhost:8080/"
        },
        "id": "aBXE4FyQgMRe",
        "outputId": "20585830-4df0-4281-c79a-bf39cff2b2e1"
      },
      "source": [
        "(\n",
        "  df_titles\n",
        " .filter(col('primaryTitle').like('%Avengers%'))\n",
        " .filter(col('titleType') == 'movie')\n",
        " .show(5)\n",
        ")"
      ],
      "execution_count": null,
      "outputs": [
        {
          "output_type": "stream",
          "name": "stdout",
          "text": [
            "+---------+---------+--------------------+--------------------+-------+---------+-------+--------------+--------------------+\n",
            "|   tconst|titleType|        primaryTitle|       originalTitle|isAdult|startYear|endYear|runtimeMinutes|              genres|\n",
            "+---------+---------+--------------------+--------------------+-------+---------+-------+--------------+--------------------+\n",
            "|tt0034639|    movie|        The Avengers|   The Day Will Dawn|      0|     1942|     \\N|            98|           Drama,War|\n",
            "|tt0036194|    movie|The People's Aven...|   Narodnye mstiteli|      0|     1943|     \\N|            55|     Documentary,War|\n",
            "|tt0058651|    movie|  The Three Avengers| Gli invincibili tre|      0|     1964|     \\N|           101|Action,Adventure,...|\n",
            "|tt0069746|    movie|Avengers of the Reef|Avengers of the Reef|      0|     1973|     \\N|            84|    Adventure,Family|\n",
            "|tt0074513|    movie|The Shaolin Avengers|Fang Shi Yu yu Hu...|      0|     1976|     \\N|            97|        Action,Drama|\n",
            "+---------+---------+--------------------+--------------------+-------+---------+-------+--------------+--------------------+\n",
            "only showing top 5 rows\n",
            "\n"
          ]
        }
      ]
    },
    {
      "cell_type": "code",
      "metadata": {
        "colab": {
          "base_uri": "https://localhost:8080/"
        },
        "id": "XbbhPITeg9u3",
        "outputId": "6d25e819-feab-49c3-81d9-f53c2d6f2aff"
      },
      "source": [
        "(\n",
        "    df_titles.\n",
        "    withColumn('startYear',col('startYear').cast('int'))\n",
        "    .filter(col('startYear').isNotNull())\n",
        "    .show()\n",
        ")"
      ],
      "execution_count": null,
      "outputs": [
        {
          "output_type": "stream",
          "name": "stdout",
          "text": [
            "+---------+---------+--------------------+--------------------+-------+---------+-------+--------------+--------------------+\n",
            "|   tconst|titleType|        primaryTitle|       originalTitle|isAdult|startYear|endYear|runtimeMinutes|              genres|\n",
            "+---------+---------+--------------------+--------------------+-------+---------+-------+--------------+--------------------+\n",
            "|tt0000001|    short|          Carmencita|          Carmencita|      0|     1894|     \\N|             1|   Documentary,Short|\n",
            "|tt0000002|    short|Le clown et ses c...|Le clown et ses c...|      0|     1892|     \\N|             5|     Animation,Short|\n",
            "|tt0000003|    short|      Pauvre Pierrot|      Pauvre Pierrot|      0|     1892|     \\N|             4|Animation,Comedy,...|\n",
            "|tt0000004|    short|         Un bon bock|         Un bon bock|      0|     1892|     \\N|            12|     Animation,Short|\n",
            "|tt0000005|    short|    Blacksmith Scene|    Blacksmith Scene|      0|     1893|     \\N|             1|        Comedy,Short|\n",
            "|tt0000006|    short|   Chinese Opium Den|   Chinese Opium Den|      0|     1894|     \\N|             1|               Short|\n",
            "|tt0000007|    short|Corbett and Court...|Corbett and Court...|      0|     1894|     \\N|             1|         Short,Sport|\n",
            "|tt0000008|    short|Edison Kinetoscop...|Edison Kinetoscop...|      0|     1894|     \\N|             1|   Documentary,Short|\n",
            "|tt0000009|    short|          Miss Jerry|          Miss Jerry|      0|     1894|     \\N|            40|       Romance,Short|\n",
            "|tt0000010|    short| Leaving the Factory|La sortie de l'us...|      0|     1895|     \\N|             1|   Documentary,Short|\n",
            "|tt0000011|    short|Akrobatisches Pot...|Akrobatisches Pot...|      0|     1895|     \\N|             1|   Documentary,Short|\n",
            "|tt0000012|    short|The Arrival of a ...|L'arrivée d'un tr...|      0|     1896|     \\N|             1|   Documentary,Short|\n",
            "|tt0000013|    short|The Photographica...|Le débarquement d...|      0|     1895|     \\N|             1|   Documentary,Short|\n",
            "|tt0000014|    short| The Waterer Watered|   L'arroseur arrosé|      0|     1895|     \\N|             1|        Comedy,Short|\n",
            "|tt0000015|    short| Autour d'une cabine| Autour d'une cabine|      0|     1894|     \\N|             2|     Animation,Short|\n",
            "|tt0000016|    short|Boat Leaving the ...|Barque sortant du...|      0|     1895|     \\N|             1|   Documentary,Short|\n",
            "|tt0000017|    short|Italienischer Bau...|Italienischer Bau...|      0|     1895|     \\N|             1|   Documentary,Short|\n",
            "|tt0000018|    short|Das boxende Känguruh|Das boxende Känguruh|      0|     1895|     \\N|             1|               Short|\n",
            "|tt0000019|    short|    The Clown Barber|    The Clown Barber|      0|     1898|     \\N|            \\N|        Comedy,Short|\n",
            "|tt0000020|    short|      The Derby 1895|      The Derby 1895|      0|     1895|     \\N|             1|Documentary,Short...|\n",
            "+---------+---------+--------------------+--------------------+-------+---------+-------+--------------+--------------------+\n",
            "only showing top 20 rows\n",
            "\n"
          ]
        }
      ]
    },
    {
      "cell_type": "markdown",
      "metadata": {
        "id": "QN1n0flbWxHp"
      },
      "source": [
        "# **Aula 3.5.3 -** Operações básicas com DataFrames - Parte III\n",
        "\n",
        "**Ordenando o DataFrame**\n",
        "\n",
        "A ordenação do DataFrame pode ser feita utilizando funções `orderBy()` ou `sort()`. Algumas funções auxiliares importantes para serem usadas ao ordenar : \n",
        "\n",
        "  - `asc()`: ordena a coluna de forma ascendente (default)\n",
        "  - `desc()` : ordena a coluna de forma descrescente\n",
        "  - `asc_nulls_first()/desc_nulls_first()`: ordena a coluna de forma ascendente e descendente, respectivamente, mantendo os campos nulos primeiro\n",
        "  - `asc_nulls_last()/desc_nulls_last()`: ordena a coluna de forma ascendente e\n",
        "  decrescente, respectivamente, mantendo os campos nulos por último"
      ]
    },
    {
      "cell_type": "code",
      "metadata": {
        "id": "rTXmprItW0kn",
        "colab": {
          "base_uri": "https://localhost:8080/"
        },
        "outputId": "00db4459-6d12-4756-dc43-053c2433f03e"
      },
      "source": [
        "df_titles.show(5)"
      ],
      "execution_count": null,
      "outputs": [
        {
          "output_type": "stream",
          "name": "stdout",
          "text": [
            "+---------+---------+--------------------+--------------------+-------+---------+-------+--------------+--------------------+\n",
            "|   tconst|titleType|        primaryTitle|       originalTitle|isAdult|startYear|endYear|runtimeMinutes|              genres|\n",
            "+---------+---------+--------------------+--------------------+-------+---------+-------+--------------+--------------------+\n",
            "|tt0000001|    short|          Carmencita|          Carmencita|      0|     1894|     \\N|             1|   Documentary,Short|\n",
            "|tt0000002|    short|Le clown et ses c...|Le clown et ses c...|      0|     1892|     \\N|             5|     Animation,Short|\n",
            "|tt0000003|    short|      Pauvre Pierrot|      Pauvre Pierrot|      0|     1892|     \\N|             4|Animation,Comedy,...|\n",
            "|tt0000004|    short|         Un bon bock|         Un bon bock|      0|     1892|     \\N|            12|     Animation,Short|\n",
            "|tt0000005|    short|    Blacksmith Scene|    Blacksmith Scene|      0|     1893|     \\N|             1|        Comedy,Short|\n",
            "+---------+---------+--------------------+--------------------+-------+---------+-------+--------------+--------------------+\n",
            "only showing top 5 rows\n",
            "\n"
          ]
        }
      ]
    },
    {
      "cell_type": "code",
      "metadata": {
        "colab": {
          "base_uri": "https://localhost:8080/"
        },
        "id": "fN52wVVu4fCj",
        "outputId": "7072df32-395d-4bbd-fb5a-1cb453b8db71"
      },
      "source": [
        "df_titles.orderBy(col('startYear').cast('int')).show()"
      ],
      "execution_count": null,
      "outputs": [
        {
          "output_type": "stream",
          "name": "stdout",
          "text": [
            "+----------+---------+--------------------+--------------------+-------+---------+-------+--------------+-------------+\n",
            "|    tconst|titleType|        primaryTitle|       originalTitle|isAdult|startYear|endYear|runtimeMinutes|       genres|\n",
            "+----------+---------+--------------------+--------------------+-------+---------+-------+--------------+-------------+\n",
            "|tt11112784|    movie|   Perfect Strangers|   Perfect Strangers|      0|       \\N|     \\N|            \\N| Comedy,Drama|\n",
            "|tt11113108|tvEpisode|      Episode #1.759|      Episode #1.759|      0|       \\N|     \\N|            \\N|Comedy,Family|\n",
            "|tt11112532|    movie|                Agra|                Agra|      0|       \\N|     \\N|            \\N|        Drama|\n",
            "|tt11113062|tvEpisode|      Episode #1.741|      Episode #1.741|      0|       \\N|     \\N|            \\N|Comedy,Family|\n",
            "|tt11112858|    movie|Lizards: A Pop Opera|Lizards: A Pop Opera|      0|       \\N|     \\N|            \\N|        Drama|\n",
            "|tt11113066|tvEpisode|      Episode #1.742|      Episode #1.742|      0|       \\N|     \\N|            \\N|Comedy,Family|\n",
            "|tt11111996| tvSeries|       Captain Carol|       Captain Carol|      0|       \\N|     \\N|            \\N|        Drama|\n",
            "|tt11113068|tvEpisode|      Episode #1.743|      Episode #1.743|      0|       \\N|     \\N|            \\N|Comedy,Family|\n",
            "|tt11112084|    short|Salt. Pepper. Pea...|Salt. Pepper. Pea...|      0|       \\N|     \\N|            \\N|  Crime,Short|\n",
            "|tt11113072|tvEpisode|      Episode #1.744|      Episode #1.744|      0|       \\N|     \\N|            \\N|Comedy,Family|\n",
            "| tt1111226|tvEpisode|BR549 and Stoll V...|BR549 and Stoll V...|      0|       \\N|     \\N|            \\N|        Music|\n",
            "|tt11113074|tvEpisode|      Episode #1.745|      Episode #1.745|      0|       \\N|     \\N|            \\N|Comedy,Family|\n",
            "| tt1111228|tvEpisode|Janiva Magness an...|Janiva Magness an...|      0|       \\N|     \\N|            \\N|        Music|\n",
            "|tt11113076|tvEpisode|      Episode #1.746|      Episode #1.746|      0|       \\N|     \\N|            \\N|Comedy,Family|\n",
            "| tt1111230|tvEpisode|Tony Trischka and...|Tony Trischka and...|      0|       \\N|     \\N|            \\N|        Music|\n",
            "|tt11113080|tvEpisode|      Episode #1.747|      Episode #1.747|      0|       \\N|     \\N|            \\N|Comedy,Family|\n",
            "|tt11112078|    movie|  Un día 28 de enero|  Un día 28 de enero|      0|       \\N|     \\N|            \\N|  Documentary|\n",
            "|tt11113082|tvEpisode|      Episode #1.749|      Episode #1.749|      0|       \\N|     \\N|            \\N|Comedy,Family|\n",
            "|tt11112536|    movie|        Fashion Week|        Fashion Week|      0|       \\N|     \\N|            \\N|       Comedy|\n",
            "|tt11113084|tvEpisode|      Episode #1.748|      Episode #1.748|      0|       \\N|     \\N|            \\N|Comedy,Family|\n",
            "+----------+---------+--------------------+--------------------+-------+---------+-------+--------------+-------------+\n",
            "only showing top 20 rows\n",
            "\n"
          ]
        }
      ]
    },
    {
      "cell_type": "code",
      "metadata": {
        "colab": {
          "base_uri": "https://localhost:8080/"
        },
        "id": "-dWK-Ptk99XH",
        "outputId": "df27d6a4-d15a-4a2a-e8fa-cdbedea393cb"
      },
      "source": [
        "df_titles.orderBy('startYear','runtimeMinutes').filter('titleType == \"movie\"').show()"
      ],
      "execution_count": null,
      "outputs": [
        {
          "output_type": "stream",
          "name": "stdout",
          "text": [
            "+---------+---------+--------------------+--------------------+-------+---------+-------+--------------+--------------------+\n",
            "|   tconst|titleType|        primaryTitle|       originalTitle|isAdult|startYear|endYear|runtimeMinutes|              genres|\n",
            "+---------+---------+--------------------+--------------------+-------+---------+-------+--------------+--------------------+\n",
            "|tt2210499|    movie|          Birmingham|          Birmingham|      0|     1896|     \\N|            61|         Documentary|\n",
            "|tt0229676|    movie|Reproduction of t...|Reproduction of t...|      0|     1897|     \\N|            \\N|Documentary,News,...|\n",
            "|tt0236940|    movie|69th Regiment Pas...|69th Regiment Pas...|      0|     1898|     \\N|            \\N|         Documentary|\n",
            "|tt0235357|    movie|Dressing Paper Dolls|Dressing Paper Dolls|      0|     1898|     \\N|            \\N|         Documentary|\n",
            "|tt0138774|    movie|Saída dos Operári...|Saída dos Operári...|      0|     1898|     \\N|            \\N|         Documentary|\n",
            "|tt0138759|    movie|A Rua Augusta em ...|A Rua Augusta em ...|      0|     1898|     \\N|            \\N|         Documentary|\n",
            "|tt0138349|    movie|O Carnaval em Lisboa|O Carnaval em Lisboa|      0|     1898|     \\N|            \\N|         Documentary|\n",
            "|tt0221040|    movie|Buck Dance, Ute I...|Buck Dance, Ute I...|      0|     1898|     \\N|            \\N|         Documentary|\n",
            "|tt0138342|    movie|      O Campo Grande|      O Campo Grande|      0|     1898|     \\N|            \\N|         Documentary|\n",
            "|tt0230366|    movie|Jeffries-Sharkey ...|Jeffries-Sharkey ...|      0|     1899|     \\N|           135|Documentary,News,...|\n",
            "|tt0138382|    movie|O Cortejo da Proc...|O Cortejo da Proc...|      0|     1899|     \\N|            \\N|         Documentary|\n",
            "|tt0246629|    movie|   A Football Tackle|   A Football Tackle|      0|     1899|     \\N|            \\N|   Documentary,Sport|\n",
            "|tt0257347|    movie|2nd Company Gover...|2nd Company Gover...|      0|     1899|     \\N|            \\N|         Documentary|\n",
            "|tt0138568|    movie|O Lançamento ao T...|O Lançamento ao T...|      0|     1899|     \\N|            \\N|         Documentary|\n",
            "|tt0138724|    movie|A Procissão da Se...|A Procissão da Se...|      0|     1899|     \\N|            \\N|         Documentary|\n",
            "|tt0254716|    movie|Professor Billy O...|Professor Billy O...|      0|     1899|     \\N|            \\N|         Documentary|\n",
            "|tt0230765|    movie|Sharkey-McCoy Fig...|Sharkey-McCoy Fig...|      0|     1899|     \\N|            \\N|Documentary,News,...|\n",
            "|tt0266894|    movie|The Republican Na...|The Republican Na...|      0|     1900|     \\N|            53|         Documentary|\n",
            "|tt0291338|    movie|      May Day Parade|      May Day Parade|      0|     1900|     \\N|            66|    Documentary,News|\n",
            "|tt0291401|    movie|On the Advance of...|On the Advance of...|      0|     1900|     \\N|            \\N|         Documentary|\n",
            "+---------+---------+--------------------+--------------------+-------+---------+-------+--------------+--------------------+\n",
            "only showing top 20 rows\n",
            "\n"
          ]
        }
      ]
    },
    {
      "cell_type": "code",
      "metadata": {
        "colab": {
          "base_uri": "https://localhost:8080/"
        },
        "id": "Y2PshGyG-pK6",
        "outputId": "3185f7da-de05-4287-9890-30cab1e7d740"
      },
      "source": [
        "from pyspark.sql.functions import desc\n",
        "\n",
        "df_titles.orderBy('startYear',desc('runtimeMinutes')).filter('titleType == \"movie\"').show()"
      ],
      "execution_count": null,
      "outputs": [
        {
          "output_type": "stream",
          "name": "stdout",
          "text": [
            "+---------+---------+--------------------+--------------------+-------+---------+-------+--------------+--------------------+\n",
            "|   tconst|titleType|        primaryTitle|       originalTitle|isAdult|startYear|endYear|runtimeMinutes|              genres|\n",
            "+---------+---------+--------------------+--------------------+-------+---------+-------+--------------+--------------------+\n",
            "|tt2210499|    movie|          Birmingham|          Birmingham|      0|     1896|     \\N|            61|         Documentary|\n",
            "|tt0229676|    movie|Reproduction of t...|Reproduction of t...|      0|     1897|     \\N|            \\N|Documentary,News,...|\n",
            "|tt0236940|    movie|69th Regiment Pas...|69th Regiment Pas...|      0|     1898|     \\N|            \\N|         Documentary|\n",
            "|tt0235357|    movie|Dressing Paper Dolls|Dressing Paper Dolls|      0|     1898|     \\N|            \\N|         Documentary|\n",
            "|tt0138349|    movie|O Carnaval em Lisboa|O Carnaval em Lisboa|      0|     1898|     \\N|            \\N|         Documentary|\n",
            "|tt0138774|    movie|Saída dos Operári...|Saída dos Operári...|      0|     1898|     \\N|            \\N|         Documentary|\n",
            "|tt0138759|    movie|A Rua Augusta em ...|A Rua Augusta em ...|      0|     1898|     \\N|            \\N|         Documentary|\n",
            "|tt0221040|    movie|Buck Dance, Ute I...|Buck Dance, Ute I...|      0|     1898|     \\N|            \\N|         Documentary|\n",
            "|tt0138342|    movie|      O Campo Grande|      O Campo Grande|      0|     1898|     \\N|            \\N|         Documentary|\n",
            "|tt0138382|    movie|O Cortejo da Proc...|O Cortejo da Proc...|      0|     1899|     \\N|            \\N|         Documentary|\n",
            "|tt0254716|    movie|Professor Billy O...|Professor Billy O...|      0|     1899|     \\N|            \\N|         Documentary|\n",
            "|tt0138568|    movie|O Lançamento ao T...|O Lançamento ao T...|      0|     1899|     \\N|            \\N|         Documentary|\n",
            "|tt0230765|    movie|Sharkey-McCoy Fig...|Sharkey-McCoy Fig...|      0|     1899|     \\N|            \\N|Documentary,News,...|\n",
            "|tt0138724|    movie|A Procissão da Se...|A Procissão da Se...|      0|     1899|     \\N|            \\N|         Documentary|\n",
            "|tt0257347|    movie|2nd Company Gover...|2nd Company Gover...|      0|     1899|     \\N|            \\N|         Documentary|\n",
            "|tt0246629|    movie|   A Football Tackle|   A Football Tackle|      0|     1899|     \\N|            \\N|   Documentary,Sport|\n",
            "|tt0230366|    movie|Jeffries-Sharkey ...|Jeffries-Sharkey ...|      0|     1899|     \\N|           135|Documentary,News,...|\n",
            "|tt0327448|    movie| At Break-Neck Speed| At Break-Neck Speed|      0|     1900|     \\N|            \\N|         Documentary|\n",
            "|tt0266332|    movie|Birdseye View of ...|Birdseye View of ...|      0|     1900|     \\N|            \\N|         Documentary|\n",
            "|tt0291199|    movie|General Bell's Ex...|General Bell's Ex...|      0|     1900|     \\N|            \\N|         Documentary|\n",
            "+---------+---------+--------------------+--------------------+-------+---------+-------+--------------+--------------------+\n",
            "only showing top 20 rows\n",
            "\n"
          ]
        }
      ]
    },
    {
      "cell_type": "code",
      "metadata": {
        "colab": {
          "base_uri": "https://localhost:8080/"
        },
        "id": "rIUoPMt6_FBh",
        "outputId": "3272a2f5-54bf-462b-8170-ddc567b88058"
      },
      "source": [
        "df_titles.orderBy(desc('startYear')).filter('titleType == \"movie\"').show()"
      ],
      "execution_count": null,
      "outputs": [
        {
          "output_type": "stream",
          "name": "stdout",
          "text": [
            "+----------+---------+--------------------+--------------------+-------+---------+-------+--------------+--------------------+\n",
            "|    tconst|titleType|        primaryTitle|       originalTitle|isAdult|startYear|endYear|runtimeMinutes|              genres|\n",
            "+----------+---------+--------------------+--------------------+-------+---------+-------+--------------+--------------------+\n",
            "|tt11115868|    movie|        The Shinobis|        The Shinobis|      0|       \\N|     \\N|            \\N|              Action|\n",
            "|tt11116102|    movie|              Deeper|              Deeper|      0|       \\N|     \\N|            \\N|             Romance|\n",
            "|tt11116112|    movie|Untitled Elliott ...|Untitled Elliott ...|      0|       \\N|     \\N|            \\N|                  \\N|\n",
            "|tt11112784|    movie|   Perfect Strangers|   Perfect Strangers|      0|       \\N|     \\N|            \\N|        Comedy,Drama|\n",
            "|tt11116440|    movie|               Shame|               Shame|      0|       \\N|     \\N|            \\N|                  \\N|\n",
            "|tt11112072|    movie|       Hell Can Wait|       Hell Can Wait|      0|       \\N|     \\N|            \\N|              Comedy|\n",
            "|tt11116516|    movie|        Spiritwalker|        Spiritwalker|      0|       \\N|     \\N|            \\N|      Fantasy,Horror|\n",
            "|tt11112202|    movie|                Kajo|                Kajo|      0|       \\N|     \\N|            \\N|   Adventure,Romance|\n",
            "|tt11116536|    movie|           3rd Floor|           3rd Floor|      0|       \\N|     \\N|            \\N|              Horror|\n",
            "|tt11112536|    movie|        Fashion Week|        Fashion Week|      0|       \\N|     \\N|            \\N|              Comedy|\n",
            "|tt11116608|    movie| Jukdo Surfing Diary| Jukdo Surfing Diary|      0|       \\N|     \\N|            \\N|               Drama|\n",
            "|tt11112496|    movie|Tera Kya Hoga Lam...|Tera Kya Hoga Lam...|      0|       \\N|     \\N|           135|                  \\N|\n",
            "|tt11116642|    movie|          Press Play|          Press Play|      0|       \\N|     \\N|            \\N|               Music|\n",
            "|tt11114804|    movie|     Ratsasan Remake|     Ratsasan Remake|      0|       \\N|     \\N|            \\N|Action,Crime,Thri...|\n",
            "|tt11116680|    movie|Untitled Fania Re...|Untitled Fania Re...|      0|       \\N|     \\N|            \\N|                  \\N|\n",
            "|tt11114870|    movie|Untitled Coral Re...|Untitled Coral Re...|      0|       \\N|     \\N|            \\N|         Documentary|\n",
            "|tt11116716|    movie|               Raven|               Raven|      0|       \\N|     \\N|            \\N|              Action|\n",
            "|tt11112760|    movie|               Crack|               Crack|      0|       \\N|     \\N|           122|               Drama|\n",
            "|tt11116920|    movie|         Hack Attack|         Hack Attack|      0|       \\N|     \\N|            \\N|              Action|\n",
            "|tt11120738|    movie|            Chiquito|            Chiquito|      0|       \\N|     \\N|            \\N|               Drama|\n",
            "+----------+---------+--------------------+--------------------+-------+---------+-------+--------------+--------------------+\n",
            "only showing top 20 rows\n",
            "\n"
          ]
        }
      ]
    },
    {
      "cell_type": "code",
      "metadata": {
        "colab": {
          "base_uri": "https://localhost:8080/"
        },
        "id": "88r5tjTq45PB",
        "outputId": "6d4069c6-43da-44a9-9113-b23b317df785"
      },
      "source": [
        "from pyspark.sql.functions import desc\n",
        "\n",
        "(\n",
        " df_titles.withColumn('startYear' , col('startYear').cast('int'))\n",
        " .orderBy('startYear')\n",
        " .filter('titleType == \"movie\"')\n",
        " .show()\n",
        ")"
      ],
      "execution_count": null,
      "outputs": [
        {
          "output_type": "stream",
          "name": "stdout",
          "text": [
            "+----------+---------+--------------------+--------------------+-------+---------+-------+--------------+--------------------+\n",
            "|    tconst|titleType|        primaryTitle|       originalTitle|isAdult|startYear|endYear|runtimeMinutes|              genres|\n",
            "+----------+---------+--------------------+--------------------+-------+---------+-------+--------------+--------------------+\n",
            "|tt11116440|    movie|               Shame|               Shame|      0|     null|     \\N|            \\N|                  \\N|\n",
            "|tt11122910|    movie|       Durgo Rahasya|       Durgo Rahasya|      0|     null|     \\N|            \\N|      Drama,Thriller|\n",
            "|tt11116516|    movie|        Spiritwalker|        Spiritwalker|      0|     null|     \\N|            \\N|      Fantasy,Horror|\n",
            "|tt11112072|    movie|       Hell Can Wait|       Hell Can Wait|      0|     null|     \\N|            \\N|              Comedy|\n",
            "|tt11116536|    movie|           3rd Floor|           3rd Floor|      0|     null|     \\N|            \\N|              Horror|\n",
            "|tt11112202|    movie|                Kajo|                Kajo|      0|     null|     \\N|            \\N|   Adventure,Romance|\n",
            "|tt11116608|    movie| Jukdo Surfing Diary| Jukdo Surfing Diary|      0|     null|     \\N|            \\N|               Drama|\n",
            "|tt11112496|    movie|Tera Kya Hoga Lam...|Tera Kya Hoga Lam...|      0|     null|     \\N|           135|                  \\N|\n",
            "|tt11116642|    movie|          Press Play|          Press Play|      0|     null|     \\N|            \\N|               Music|\n",
            "|tt11112704|    movie|              Jism 3|              Jism 3|      0|     null|     \\N|           135|            Thriller|\n",
            "|tt11116680|    movie|Untitled Fania Re...|Untitled Fania Re...|      0|     null|     \\N|            \\N|                  \\N|\n",
            "|tt11112784|    movie|   Perfect Strangers|   Perfect Strangers|      0|     null|     \\N|            \\N|        Comedy,Drama|\n",
            "|tt11116716|    movie|               Raven|               Raven|      0|     null|     \\N|            \\N|              Action|\n",
            "|tt11112858|    movie|Lizards: A Pop Opera|Lizards: A Pop Opera|      0|     null|     \\N|            \\N|               Drama|\n",
            "|tt11116920|    movie|         Hack Attack|         Hack Attack|      0|     null|     \\N|            \\N|              Action|\n",
            "|tt11114804|    movie|     Ratsasan Remake|     Ratsasan Remake|      0|     null|     \\N|            \\N|Action,Crime,Thri...|\n",
            "| tt1111959|    movie|                Will|                Will|      0|     null|     \\N|            \\N|               Drama|\n",
            "|tt11114870|    movie|Untitled Coral Re...|Untitled Coral Re...|      0|     null|     \\N|            \\N|         Documentary|\n",
            "|tt11120378|    movie|The Once and Futu...|The Once and Futu...|      0|     null|     \\N|            \\N|       Comedy,Horror|\n",
            "|tt11115868|    movie|        The Shinobis|        The Shinobis|      0|     null|     \\N|            \\N|              Action|\n",
            "+----------+---------+--------------------+--------------------+-------+---------+-------+--------------+--------------------+\n",
            "only showing top 20 rows\n",
            "\n"
          ]
        }
      ]
    },
    {
      "cell_type": "code",
      "metadata": {
        "colab": {
          "base_uri": "https://localhost:8080/"
        },
        "id": "gWaFdjO4_sEP",
        "outputId": "ba92a64c-fd5f-484e-af61-793c18b7d798"
      },
      "source": [
        "from pyspark.sql.functions import asc_nulls_first\n",
        "\n",
        "(\n",
        "  df_titles\n",
        " .withColumn('startYear',col('startYear').cast('int'))\n",
        " .orderBy(asc_nulls_first('startYear'))\n",
        " .show(5)   \n",
        ")"
      ],
      "execution_count": null,
      "outputs": [
        {
          "output_type": "stream",
          "name": "stdout",
          "text": [
            "+----------+---------+--------------------+--------------------+-------+---------+-------+--------------+-----------------+\n",
            "|    tconst|titleType|        primaryTitle|       originalTitle|isAdult|startYear|endYear|runtimeMinutes|           genres|\n",
            "+----------+---------+--------------------+--------------------+-------+---------+-------+--------------+-----------------+\n",
            "|tt11112072|    movie|       Hell Can Wait|       Hell Can Wait|      0|     null|     \\N|            \\N|           Comedy|\n",
            "|tt11112078|    movie|  Un día 28 de enero|  Un día 28 de enero|      0|     null|     \\N|            \\N|      Documentary|\n",
            "|tt11112202|    movie|                Kajo|                Kajo|      0|     null|     \\N|            \\N|Adventure,Romance|\n",
            "|tt11112084|    short|Salt. Pepper. Pea...|Salt. Pepper. Pea...|      0|     null|     \\N|            \\N|      Crime,Short|\n",
            "|tt11112002|  tvMovie|   The most Precious|   The most Precious|      0|     null|     \\N|            \\N|            Drama|\n",
            "+----------+---------+--------------------+--------------------+-------+---------+-------+--------------+-----------------+\n",
            "only showing top 5 rows\n",
            "\n"
          ]
        }
      ]
    },
    {
      "cell_type": "markdown",
      "metadata": {
        "id": "Lk4WcCfSFATh"
      },
      "source": [
        "**Renomeando Colunas**\n",
        "\n",
        "Para renomear colunas, é utilizada a função `withColumnRename()` , da seguinte forma\n",
        "\n",
        "  `df.withColumnRenamed(\"nome_antigo\",\"nome_novo\")`"
      ]
    },
    {
      "cell_type": "code",
      "metadata": {
        "colab": {
          "base_uri": "https://localhost:8080/"
        },
        "id": "pFwuj29kE_Wn",
        "outputId": "fb1368d8-ce7a-4d90-8091-f88505747490"
      },
      "source": [
        "(\n",
        "    df_titles\n",
        "    .withColumnRenamed('primaryTitle','nome_filme')\n",
        "    .show(5)\n",
        ")"
      ],
      "execution_count": null,
      "outputs": [
        {
          "output_type": "stream",
          "name": "stdout",
          "text": [
            "+---------+---------+--------------------+--------------------+-------+---------+-------+--------------+--------------------+\n",
            "|   tconst|titleType|          nome_filme|       originalTitle|isAdult|startYear|endYear|runtimeMinutes|              genres|\n",
            "+---------+---------+--------------------+--------------------+-------+---------+-------+--------------+--------------------+\n",
            "|tt0000001|    short|          Carmencita|          Carmencita|      0|     1894|     \\N|             1|   Documentary,Short|\n",
            "|tt0000002|    short|Le clown et ses c...|Le clown et ses c...|      0|     1892|     \\N|             5|     Animation,Short|\n",
            "|tt0000003|    short|      Pauvre Pierrot|      Pauvre Pierrot|      0|     1892|     \\N|             4|Animation,Comedy,...|\n",
            "|tt0000004|    short|         Un bon bock|         Un bon bock|      0|     1892|     \\N|            12|     Animation,Short|\n",
            "|tt0000005|    short|    Blacksmith Scene|    Blacksmith Scene|      0|     1893|     \\N|             1|        Comedy,Short|\n",
            "+---------+---------+--------------------+--------------------+-------+---------+-------+--------------+--------------------+\n",
            "only showing top 5 rows\n",
            "\n"
          ]
        }
      ]
    },
    {
      "cell_type": "code",
      "metadata": {
        "colab": {
          "base_uri": "https://localhost:8080/"
        },
        "id": "9tNs3DeqG5cT",
        "outputId": "d1cb1cb8-e836-4ced-fd4f-c9a42c24ed7d"
      },
      "source": [
        "(\n",
        "    df_titles\n",
        "    .withColumnRenamed('primaryTitle','nome_filme')\n",
        "    .select('nome_filme','titleType','startYear','runtimeMinutes')\n",
        "    .show()\n",
        ")"
      ],
      "execution_count": null,
      "outputs": [
        {
          "output_type": "stream",
          "name": "stdout",
          "text": [
            "+--------------------+---------+---------+--------------+\n",
            "|          nome_filme|titleType|startYear|runtimeMinutes|\n",
            "+--------------------+---------+---------+--------------+\n",
            "|          Carmencita|    short|     1894|             1|\n",
            "|Le clown et ses c...|    short|     1892|             5|\n",
            "|      Pauvre Pierrot|    short|     1892|             4|\n",
            "|         Un bon bock|    short|     1892|            12|\n",
            "|    Blacksmith Scene|    short|     1893|             1|\n",
            "|   Chinese Opium Den|    short|     1894|             1|\n",
            "|Corbett and Court...|    short|     1894|             1|\n",
            "|Edison Kinetoscop...|    short|     1894|             1|\n",
            "|          Miss Jerry|    short|     1894|            40|\n",
            "| Leaving the Factory|    short|     1895|             1|\n",
            "|Akrobatisches Pot...|    short|     1895|             1|\n",
            "|The Arrival of a ...|    short|     1896|             1|\n",
            "|The Photographica...|    short|     1895|             1|\n",
            "| The Waterer Watered|    short|     1895|             1|\n",
            "| Autour d'une cabine|    short|     1894|             2|\n",
            "|Boat Leaving the ...|    short|     1895|             1|\n",
            "|Italienischer Bau...|    short|     1895|             1|\n",
            "|Das boxende Känguruh|    short|     1895|             1|\n",
            "|    The Clown Barber|    short|     1898|            \\N|\n",
            "|      The Derby 1895|    short|     1895|             1|\n",
            "+--------------------+---------+---------+--------------+\n",
            "only showing top 20 rows\n",
            "\n"
          ]
        }
      ]
    },
    {
      "cell_type": "code",
      "metadata": {
        "colab": {
          "base_uri": "https://localhost:8080/"
        },
        "id": "SSxCssPJHc5m",
        "outputId": "7f4c71f4-8ab0-4a7d-a093-7909bde4f477"
      },
      "source": [
        "(\n",
        "    df_titles.selectExpr('primaryTitle as nome_filme', 'titleType', \n",
        "                         'startYear','runtimeMinutes').show(5)\n",
        ")"
      ],
      "execution_count": null,
      "outputs": [
        {
          "output_type": "stream",
          "name": "stdout",
          "text": [
            "+--------------------+---------+---------+--------------+\n",
            "|          nome_filme|titleType|startYear|runtimeMinutes|\n",
            "+--------------------+---------+---------+--------------+\n",
            "|          Carmencita|    short|     1894|             1|\n",
            "|Le clown et ses c...|    short|     1892|             5|\n",
            "|      Pauvre Pierrot|    short|     1892|             4|\n",
            "|         Un bon bock|    short|     1892|            12|\n",
            "|    Blacksmith Scene|    short|     1893|             1|\n",
            "+--------------------+---------+---------+--------------+\n",
            "only showing top 5 rows\n",
            "\n"
          ]
        }
      ]
    },
    {
      "cell_type": "code",
      "metadata": {
        "colab": {
          "base_uri": "https://localhost:8080/",
          "height": 206
        },
        "id": "0tWq84YeH2mB",
        "outputId": "05bc6f3e-6179-4b53-fd22-0cea63f6f19d"
      },
      "source": [
        "df_renamed = df_titles\n",
        "for c in df_titles.columns : \n",
        "  df_renamed = df_renamed.withColumnRenamed(c,c+'_suffx')\n",
        "\n",
        "df_renamed.limit(5).toPandas()"
      ],
      "execution_count": null,
      "outputs": [
        {
          "output_type": "execute_result",
          "data": {
            "text/plain": [
              "  tconst_suffx titleType_suffx      primaryTitle_suffx  \\\n",
              "0    tt0000001           short              Carmencita   \n",
              "1    tt0000002           short  Le clown et ses chiens   \n",
              "2    tt0000003           short          Pauvre Pierrot   \n",
              "3    tt0000004           short             Un bon bock   \n",
              "4    tt0000005           short        Blacksmith Scene   \n",
              "\n",
              "      originalTitle_suffx isAdult_suffx startYear_suffx endYear_suffx  \\\n",
              "0              Carmencita             0            1894            \\N   \n",
              "1  Le clown et ses chiens             0            1892            \\N   \n",
              "2          Pauvre Pierrot             0            1892            \\N   \n",
              "3             Un bon bock             0            1892            \\N   \n",
              "4        Blacksmith Scene             0            1893            \\N   \n",
              "\n",
              "  runtimeMinutes_suffx              genres_suffx  \n",
              "0                    1         Documentary,Short  \n",
              "1                    5           Animation,Short  \n",
              "2                    4  Animation,Comedy,Romance  \n",
              "3                   12           Animation,Short  \n",
              "4                    1              Comedy,Short  "
            ],
            "text/html": [
              "\n",
              "  <div id=\"df-fc26f17d-b904-4b70-a410-fa1eb43e3237\">\n",
              "    <div class=\"colab-df-container\">\n",
              "      <div>\n",
              "<style scoped>\n",
              "    .dataframe tbody tr th:only-of-type {\n",
              "        vertical-align: middle;\n",
              "    }\n",
              "\n",
              "    .dataframe tbody tr th {\n",
              "        vertical-align: top;\n",
              "    }\n",
              "\n",
              "    .dataframe thead th {\n",
              "        text-align: right;\n",
              "    }\n",
              "</style>\n",
              "<table border=\"1\" class=\"dataframe\">\n",
              "  <thead>\n",
              "    <tr style=\"text-align: right;\">\n",
              "      <th></th>\n",
              "      <th>tconst_suffx</th>\n",
              "      <th>titleType_suffx</th>\n",
              "      <th>primaryTitle_suffx</th>\n",
              "      <th>originalTitle_suffx</th>\n",
              "      <th>isAdult_suffx</th>\n",
              "      <th>startYear_suffx</th>\n",
              "      <th>endYear_suffx</th>\n",
              "      <th>runtimeMinutes_suffx</th>\n",
              "      <th>genres_suffx</th>\n",
              "    </tr>\n",
              "  </thead>\n",
              "  <tbody>\n",
              "    <tr>\n",
              "      <th>0</th>\n",
              "      <td>tt0000001</td>\n",
              "      <td>short</td>\n",
              "      <td>Carmencita</td>\n",
              "      <td>Carmencita</td>\n",
              "      <td>0</td>\n",
              "      <td>1894</td>\n",
              "      <td>\\N</td>\n",
              "      <td>1</td>\n",
              "      <td>Documentary,Short</td>\n",
              "    </tr>\n",
              "    <tr>\n",
              "      <th>1</th>\n",
              "      <td>tt0000002</td>\n",
              "      <td>short</td>\n",
              "      <td>Le clown et ses chiens</td>\n",
              "      <td>Le clown et ses chiens</td>\n",
              "      <td>0</td>\n",
              "      <td>1892</td>\n",
              "      <td>\\N</td>\n",
              "      <td>5</td>\n",
              "      <td>Animation,Short</td>\n",
              "    </tr>\n",
              "    <tr>\n",
              "      <th>2</th>\n",
              "      <td>tt0000003</td>\n",
              "      <td>short</td>\n",
              "      <td>Pauvre Pierrot</td>\n",
              "      <td>Pauvre Pierrot</td>\n",
              "      <td>0</td>\n",
              "      <td>1892</td>\n",
              "      <td>\\N</td>\n",
              "      <td>4</td>\n",
              "      <td>Animation,Comedy,Romance</td>\n",
              "    </tr>\n",
              "    <tr>\n",
              "      <th>3</th>\n",
              "      <td>tt0000004</td>\n",
              "      <td>short</td>\n",
              "      <td>Un bon bock</td>\n",
              "      <td>Un bon bock</td>\n",
              "      <td>0</td>\n",
              "      <td>1892</td>\n",
              "      <td>\\N</td>\n",
              "      <td>12</td>\n",
              "      <td>Animation,Short</td>\n",
              "    </tr>\n",
              "    <tr>\n",
              "      <th>4</th>\n",
              "      <td>tt0000005</td>\n",
              "      <td>short</td>\n",
              "      <td>Blacksmith Scene</td>\n",
              "      <td>Blacksmith Scene</td>\n",
              "      <td>0</td>\n",
              "      <td>1893</td>\n",
              "      <td>\\N</td>\n",
              "      <td>1</td>\n",
              "      <td>Comedy,Short</td>\n",
              "    </tr>\n",
              "  </tbody>\n",
              "</table>\n",
              "</div>\n",
              "      <button class=\"colab-df-convert\" onclick=\"convertToInteractive('df-fc26f17d-b904-4b70-a410-fa1eb43e3237')\"\n",
              "              title=\"Convert this dataframe to an interactive table.\"\n",
              "              style=\"display:none;\">\n",
              "        \n",
              "  <svg xmlns=\"http://www.w3.org/2000/svg\" height=\"24px\"viewBox=\"0 0 24 24\"\n",
              "       width=\"24px\">\n",
              "    <path d=\"M0 0h24v24H0V0z\" fill=\"none\"/>\n",
              "    <path d=\"M18.56 5.44l.94 2.06.94-2.06 2.06-.94-2.06-.94-.94-2.06-.94 2.06-2.06.94zm-11 1L8.5 8.5l.94-2.06 2.06-.94-2.06-.94L8.5 2.5l-.94 2.06-2.06.94zm10 10l.94 2.06.94-2.06 2.06-.94-2.06-.94-.94-2.06-.94 2.06-2.06.94z\"/><path d=\"M17.41 7.96l-1.37-1.37c-.4-.4-.92-.59-1.43-.59-.52 0-1.04.2-1.43.59L10.3 9.45l-7.72 7.72c-.78.78-.78 2.05 0 2.83L4 21.41c.39.39.9.59 1.41.59.51 0 1.02-.2 1.41-.59l7.78-7.78 2.81-2.81c.8-.78.8-2.07 0-2.86zM5.41 20L4 18.59l7.72-7.72 1.47 1.35L5.41 20z\"/>\n",
              "  </svg>\n",
              "      </button>\n",
              "      \n",
              "  <style>\n",
              "    .colab-df-container {\n",
              "      display:flex;\n",
              "      flex-wrap:wrap;\n",
              "      gap: 12px;\n",
              "    }\n",
              "\n",
              "    .colab-df-convert {\n",
              "      background-color: #E8F0FE;\n",
              "      border: none;\n",
              "      border-radius: 50%;\n",
              "      cursor: pointer;\n",
              "      display: none;\n",
              "      fill: #1967D2;\n",
              "      height: 32px;\n",
              "      padding: 0 0 0 0;\n",
              "      width: 32px;\n",
              "    }\n",
              "\n",
              "    .colab-df-convert:hover {\n",
              "      background-color: #E2EBFA;\n",
              "      box-shadow: 0px 1px 2px rgba(60, 64, 67, 0.3), 0px 1px 3px 1px rgba(60, 64, 67, 0.15);\n",
              "      fill: #174EA6;\n",
              "    }\n",
              "\n",
              "    [theme=dark] .colab-df-convert {\n",
              "      background-color: #3B4455;\n",
              "      fill: #D2E3FC;\n",
              "    }\n",
              "\n",
              "    [theme=dark] .colab-df-convert:hover {\n",
              "      background-color: #434B5C;\n",
              "      box-shadow: 0px 1px 3px 1px rgba(0, 0, 0, 0.15);\n",
              "      filter: drop-shadow(0px 1px 2px rgba(0, 0, 0, 0.3));\n",
              "      fill: #FFFFFF;\n",
              "    }\n",
              "  </style>\n",
              "\n",
              "      <script>\n",
              "        const buttonEl =\n",
              "          document.querySelector('#df-fc26f17d-b904-4b70-a410-fa1eb43e3237 button.colab-df-convert');\n",
              "        buttonEl.style.display =\n",
              "          google.colab.kernel.accessAllowed ? 'block' : 'none';\n",
              "\n",
              "        async function convertToInteractive(key) {\n",
              "          const element = document.querySelector('#df-fc26f17d-b904-4b70-a410-fa1eb43e3237');\n",
              "          const dataTable =\n",
              "            await google.colab.kernel.invokeFunction('convertToInteractive',\n",
              "                                                     [key], {});\n",
              "          if (!dataTable) return;\n",
              "\n",
              "          const docLinkHtml = 'Like what you see? Visit the ' +\n",
              "            '<a target=\"_blank\" href=https://colab.research.google.com/notebooks/data_table.ipynb>data table notebook</a>'\n",
              "            + ' to learn more about interactive tables.';\n",
              "          element.innerHTML = '';\n",
              "          dataTable['output_type'] = 'display_data';\n",
              "          await google.colab.output.renderOutput(dataTable, element);\n",
              "          const docLink = document.createElement('div');\n",
              "          docLink.innerHTML = docLinkHtml;\n",
              "          element.appendChild(docLink);\n",
              "        }\n",
              "      </script>\n",
              "    </div>\n",
              "  </div>\n",
              "  "
            ]
          },
          "metadata": {},
          "execution_count": 98
        }
      ]
    },
    {
      "cell_type": "markdown",
      "metadata": {
        "id": "9PDUl0X4I0JG"
      },
      "source": [
        "**Criando e Alterando Colunas**\n",
        "\n",
        "Para criar ou alterar colunas é utilizada a função `withColumn()`, da seguinte forma : \n",
        "  - `df.withColumn(\"nome_da_coluna\", {expressão geradora da coluna})`"
      ]
    },
    {
      "cell_type": "code",
      "metadata": {
        "colab": {
          "base_uri": "https://localhost:8080/"
        },
        "id": "mHAtgaKHIzH5",
        "outputId": "4dbfda45-053d-4636-effc-5013d1883bb8"
      },
      "source": [
        "from pyspark.sql.functions import upper\n",
        "\n",
        "(\n",
        "    df_titles\n",
        "    .select('tconst','primaryTitle','runtimeMinutes',)\n",
        "    .withColumn(\"primaryTitle_2\",upper('primaryTitle'))\n",
        "    .show(5)\n",
        ")"
      ],
      "execution_count": null,
      "outputs": [
        {
          "output_type": "stream",
          "name": "stdout",
          "text": [
            "+---------+--------------------+--------------+--------------------+\n",
            "|   tconst|        primaryTitle|runtimeMinutes|      primaryTitle_2|\n",
            "+---------+--------------------+--------------+--------------------+\n",
            "|tt0000001|          Carmencita|             1|          CARMENCITA|\n",
            "|tt0000002|Le clown et ses c...|             5|LE CLOWN ET SES C...|\n",
            "|tt0000003|      Pauvre Pierrot|             4|      PAUVRE PIERROT|\n",
            "|tt0000004|         Un bon bock|            12|         UN BON BOCK|\n",
            "|tt0000005|    Blacksmith Scene|             1|    BLACKSMITH SCENE|\n",
            "+---------+--------------------+--------------+--------------------+\n",
            "only showing top 5 rows\n",
            "\n"
          ]
        }
      ]
    },
    {
      "cell_type": "markdown",
      "metadata": {
        "id": "OOcQhWReK2CB"
      },
      "source": [
        "**Criando colunas a partir de constantes**"
      ]
    },
    {
      "cell_type": "code",
      "metadata": {
        "colab": {
          "base_uri": "https://localhost:8080/"
        },
        "id": "6cRDc77YK1W0",
        "outputId": "619b7651-336f-466b-ab47-a41c84864463"
      },
      "source": [
        "from pyspark.sql.functions import lit\n",
        "\n",
        "(\n",
        "    df_titles\n",
        "    .select('tconst','primaryTitle','runtimeMinutes',)\n",
        "    .withColumn('pais',lit('Brasil'))\n",
        "    .show(5)\n",
        ")"
      ],
      "execution_count": null,
      "outputs": [
        {
          "output_type": "stream",
          "name": "stdout",
          "text": [
            "+---------+--------------------+--------------+------+\n",
            "|   tconst|        primaryTitle|runtimeMinutes|  pais|\n",
            "+---------+--------------------+--------------+------+\n",
            "|tt0000001|          Carmencita|             1|Brasil|\n",
            "|tt0000002|Le clown et ses c...|             5|Brasil|\n",
            "|tt0000003|      Pauvre Pierrot|             4|Brasil|\n",
            "|tt0000004|         Un bon bock|            12|Brasil|\n",
            "|tt0000005|    Blacksmith Scene|             1|Brasil|\n",
            "+---------+--------------------+--------------+------+\n",
            "only showing top 5 rows\n",
            "\n"
          ]
        }
      ]
    },
    {
      "cell_type": "markdown",
      "metadata": {
        "id": "Cd7WzeJ_LRY1"
      },
      "source": [
        "**Criando colunas condicionais**"
      ]
    },
    {
      "cell_type": "code",
      "metadata": {
        "colab": {
          "base_uri": "https://localhost:8080/"
        },
        "id": "nceDWdYKJzCP",
        "outputId": "fe69ba1a-f4a1-41d2-a665-f609d1c7e6a9"
      },
      "source": [
        "from pyspark.sql.functions import when\n",
        "\n",
        "(\n",
        "    df_titles\n",
        "    .select('tconst','primaryTitle','runtimeMinutes',)\n",
        "    .withColumn('runtimeMinutes',col('runtimeMinutes').cast('int'))\n",
        "    .withColumn(\"categoria_runtime\", when(col('runtimeMinutes') <=60,'curto')\n",
        "                                    .when((col('runtimeMinutes') > 60) & (col('runtimeMinutes') < 120),'normal')\n",
        "                                    .when(col('runtimeMinutes') >=120, 'longo')\n",
        "                                    .when(col('runtimeMinutes').isNull(), 'nulo')\n",
        "                                    .otherwise('Erro'))\n",
        "    .filter('runtimeMinutes > 60')\n",
        "    .show(25)\n",
        ")"
      ],
      "execution_count": null,
      "outputs": [
        {
          "output_type": "stream",
          "name": "stdout",
          "text": [
            "+---------+--------------------+--------------+-----------------+\n",
            "|   tconst|        primaryTitle|runtimeMinutes|categoria_runtime|\n",
            "+---------+--------------------+--------------+-----------------+\n",
            "|tt0000502|            Bohemios|           100|           normal|\n",
            "|tt0000574|The Story of the ...|            70|           normal|\n",
            "|tt0000591|    The Prodigal Son|            90|           normal|\n",
            "|tt0000679|The Fairylogue an...|           120|            longo|\n",
            "|tt0001756|Lucha por la here...|            92|           normal|\n",
            "|tt0002026|Anny - Story of a...|            68|           normal|\n",
            "|tt0002101|           Cleopatra|           100|           normal|\n",
            "|tt0002130|     Dante's Inferno|            71|           normal|\n",
            "|tt0002315|El lobo de la sierra|            76|           normal|\n",
            "|tt0002423|             Passion|            85|           normal|\n",
            "|tt0002445|          Quo Vadis?|           120|            longo|\n",
            "|tt0002452|The Independence ...|           120|            longo|\n",
            "|tt0002625|          Ana Kadova|            92|           normal|\n",
            "|tt0002646|            Atlantis|           121|            longo|\n",
            "|tt0002685|        Blodets röst|            89|           normal|\n",
            "|tt0002767|The Count of Mont...|            69|           normal|\n",
            "|tt0002820|          East Lynne|            69|           normal|\n",
            "|tt0002885|   From Dusk to Dawn|            90|           normal|\n",
            "|tt0002898|Germinal; or, The...|           150|            longo|\n",
            "|tt0002922|              Hamlet|            64|           normal|\n",
            "|tt0002973|Dr. Mawson in the...|            68|           normal|\n",
            "|tt0003014|       Ingeborg Holm|            96|           normal|\n",
            "|tt0003037|Fantomas: The Man...|            61|           normal|\n",
            "|tt0003076|   Livets konflikter|            64|           normal|\n",
            "|tt0003102|    Love Everlasting|            90|           normal|\n",
            "+---------+--------------------+--------------+-----------------+\n",
            "only showing top 25 rows\n",
            "\n"
          ]
        }
      ]
    },
    {
      "cell_type": "code",
      "metadata": {
        "colab": {
          "base_uri": "https://localhost:8080/"
        },
        "id": "xbgh_MAAMaRM",
        "outputId": "8ca07e06-cd4d-4329-e6d3-28399f069ca6"
      },
      "source": [
        "from pyspark.sql.functions import when,expr\n",
        "\n",
        "predicado = \"\"\"\n",
        "\n",
        "CASE WHEN runtimeMinutes <= 60 THEN 'curto'\n",
        "     WHEN runtimeMinutes > 60 AND runtimeMinutes < 120 THEN 'normal'\n",
        "     WHEN runtimeMinutes >= 120 THEN 'longo'\n",
        "     WHEN runtimeMinutes IS NULL THEN 'nulo'\n",
        "     ELSE 'Erro'\n",
        "END\n",
        "\n",
        "\"\"\"\n",
        "\n",
        "(\n",
        "    df_titles\n",
        "    .select('tconst','primaryTitle','runtimeMinutes',)\n",
        "    .withColumn('runtimeMinutes',col('runtimeMinutes').cast('int'))\n",
        "    .withColumn(\"categoria_runtime\", expr(predicado))\n",
        "    .filter('runtimeMinutes > 60')\n",
        "    .show(25)\n",
        ")"
      ],
      "execution_count": null,
      "outputs": [
        {
          "output_type": "stream",
          "name": "stdout",
          "text": [
            "+---------+--------------------+--------------+-----------------+\n",
            "|   tconst|        primaryTitle|runtimeMinutes|categoria_runtime|\n",
            "+---------+--------------------+--------------+-----------------+\n",
            "|tt0000502|            Bohemios|           100|           normal|\n",
            "|tt0000574|The Story of the ...|            70|           normal|\n",
            "|tt0000591|    The Prodigal Son|            90|           normal|\n",
            "|tt0000679|The Fairylogue an...|           120|            longo|\n",
            "|tt0001756|Lucha por la here...|            92|           normal|\n",
            "|tt0002026|Anny - Story of a...|            68|           normal|\n",
            "|tt0002101|           Cleopatra|           100|           normal|\n",
            "|tt0002130|     Dante's Inferno|            71|           normal|\n",
            "|tt0002315|El lobo de la sierra|            76|           normal|\n",
            "|tt0002423|             Passion|            85|           normal|\n",
            "|tt0002445|          Quo Vadis?|           120|            longo|\n",
            "|tt0002452|The Independence ...|           120|            longo|\n",
            "|tt0002625|          Ana Kadova|            92|           normal|\n",
            "|tt0002646|            Atlantis|           121|            longo|\n",
            "|tt0002685|        Blodets röst|            89|           normal|\n",
            "|tt0002767|The Count of Mont...|            69|           normal|\n",
            "|tt0002820|          East Lynne|            69|           normal|\n",
            "|tt0002885|   From Dusk to Dawn|            90|           normal|\n",
            "|tt0002898|Germinal; or, The...|           150|            longo|\n",
            "|tt0002922|              Hamlet|            64|           normal|\n",
            "|tt0002973|Dr. Mawson in the...|            68|           normal|\n",
            "|tt0003014|       Ingeborg Holm|            96|           normal|\n",
            "|tt0003037|Fantomas: The Man...|            61|           normal|\n",
            "|tt0003076|   Livets konflikter|            64|           normal|\n",
            "|tt0003102|    Love Everlasting|            90|           normal|\n",
            "+---------+--------------------+--------------+-----------------+\n",
            "only showing top 25 rows\n",
            "\n"
          ]
        }
      ]
    },
    {
      "cell_type": "markdown",
      "metadata": {
        "id": "PIpaFVSERn3I"
      },
      "source": [
        "# **Aula 3.6 -** Trabalhando com diferentes tipos de dados\n"
      ]
    },
    {
      "cell_type": "code",
      "metadata": {
        "id": "G8LcYHN5Rmks"
      },
      "source": [
        "import pyspark.sql.functions as f"
      ],
      "execution_count": 18,
      "outputs": []
    },
    {
      "cell_type": "markdown",
      "metadata": {
        "id": "elNhD-U9M5bo"
      },
      "source": [
        "**Valores Numéricos**\n",
        "\n",
        "  - `round()` : arredonda o valor numérico\n",
        "  - `ceil` : arredonda o valor numérico para o maior inteiro mais próximo\n",
        "  - `floor()` : arredonda o valure numérico para o menor inteiro mais próximo\n",
        "  - `sqrt()` : retorna a raiz quadrada do valor\n",
        "  - `exp()` : retorna a exponencial do valor\n",
        "  - `log()` : retorna o logaritmo natual do valor\n",
        "  - `log10()` : retorna o logaritmo na base 10 do valor\n",
        "  - `greatest()` : retorna o maior valor dentre os valores das colunas. Análogo ao `max()`, mas entre colunas. \n",
        "  - `least()` : retorna o menor valor dentre os valores das colunas. Análogo ao `min()`, mas entre colunas"
      ]
    },
    {
      "cell_type": "code",
      "metadata": {
        "colab": {
          "base_uri": "https://localhost:8080/"
        },
        "id": "6acwb3c5M4Jb",
        "outputId": "1e030fa9-5015-4f90-91b4-6bc70aab9037"
      },
      "source": [
        "df_titles.show(5)"
      ],
      "execution_count": null,
      "outputs": [
        {
          "output_type": "stream",
          "name": "stdout",
          "text": [
            "+---------+---------+--------------------+--------------------+-------+---------+-------+--------------+--------------------+\n",
            "|   tconst|titleType|        primaryTitle|       originalTitle|isAdult|startYear|endYear|runtimeMinutes|              genres|\n",
            "+---------+---------+--------------------+--------------------+-------+---------+-------+--------------+--------------------+\n",
            "|tt0000001|    short|          Carmencita|          Carmencita|      0|     1894|     \\N|             1|   Documentary,Short|\n",
            "|tt0000002|    short|Le clown et ses c...|Le clown et ses c...|      0|     1892|     \\N|             5|     Animation,Short|\n",
            "|tt0000003|    short|      Pauvre Pierrot|      Pauvre Pierrot|      0|     1892|     \\N|             4|Animation,Comedy,...|\n",
            "|tt0000004|    short|         Un bon bock|         Un bon bock|      0|     1892|     \\N|            12|     Animation,Short|\n",
            "|tt0000005|    short|    Blacksmith Scene|    Blacksmith Scene|      0|     1893|     \\N|             1|        Comedy,Short|\n",
            "+---------+---------+--------------------+--------------------+-------+---------+-------+--------------+--------------------+\n",
            "only showing top 5 rows\n",
            "\n"
          ]
        }
      ]
    },
    {
      "cell_type": "code",
      "metadata": {
        "colab": {
          "base_uri": "https://localhost:8080/",
          "height": 305
        },
        "id": "VmRzmd-rOZeq",
        "outputId": "93d95e84-15dc-4ffc-a8bc-5e0f41bb8f7f"
      },
      "source": [
        "(\n",
        "    df_titles\n",
        "    .withColumn('runtimeMinutes',f.col('runtimeMinutes').cast('int'))\n",
        "    .withColumn('random_normal',f.randn(123))\n",
        "    .withColumn('dummy_division',f.col('runtimeMinutes')/f.col('random_normal'))\n",
        "    .withColumn('dummy_division',f.round(f.col('random_normal'),3))\n",
        "    .withColumn('dummy_round',f.col('runtimeMinutes')*f.col('random_normal'))\n",
        "    .withColumn('dummy_sum',f.col('runtimeMinutes')+f.col('random_normal'))\n",
        "    .withColumn('dummy_sub',f.col('runtimeMinutes')-f.col('random_normal'))\n",
        "    .withColumn('dummy_exp',f.col('runtimeMinutes')**f.col('random_normal'))\n",
        "    .limit(5)\n",
        "    .toPandas()\n",
        ")"
      ],
      "execution_count": null,
      "outputs": [
        {
          "output_type": "execute_result",
          "data": {
            "text/plain": [
              "      tconst titleType            primaryTitle           originalTitle  \\\n",
              "0  tt0000001     short              Carmencita              Carmencita   \n",
              "1  tt0000002     short  Le clown et ses chiens  Le clown et ses chiens   \n",
              "2  tt0000003     short          Pauvre Pierrot          Pauvre Pierrot   \n",
              "3  tt0000004     short             Un bon bock             Un bon bock   \n",
              "4  tt0000005     short        Blacksmith Scene        Blacksmith Scene   \n",
              "\n",
              "  isAdult startYear endYear  runtimeMinutes                    genres  \\\n",
              "0       0      1894      \\N               1         Documentary,Short   \n",
              "1       0      1892      \\N               5           Animation,Short   \n",
              "2       0      1892      \\N               4  Animation,Comedy,Romance   \n",
              "3       0      1892      \\N              12           Animation,Short   \n",
              "4       0      1893      \\N               1              Comedy,Short   \n",
              "\n",
              "   random_normal  dummy_division  dummy_round  dummy_sum  dummy_sub  dummy_exp  \n",
              "0      -0.992755          -0.993    -0.992755   0.007245   1.992755   1.000000  \n",
              "1       0.431839           0.432     2.159195   5.431839   4.568161   2.003745  \n",
              "2       0.250836           0.251     1.003345   4.250836   3.749164   1.415854  \n",
              "3      -0.104760          -0.105    -1.257121  11.895240  12.104760   0.770806  \n",
              "4      -1.301178          -1.301    -1.301178  -0.301178   2.301178   1.000000  "
            ],
            "text/html": [
              "\n",
              "  <div id=\"df-5d65307f-3402-4f2e-a566-fe74d9f50cc5\">\n",
              "    <div class=\"colab-df-container\">\n",
              "      <div>\n",
              "<style scoped>\n",
              "    .dataframe tbody tr th:only-of-type {\n",
              "        vertical-align: middle;\n",
              "    }\n",
              "\n",
              "    .dataframe tbody tr th {\n",
              "        vertical-align: top;\n",
              "    }\n",
              "\n",
              "    .dataframe thead th {\n",
              "        text-align: right;\n",
              "    }\n",
              "</style>\n",
              "<table border=\"1\" class=\"dataframe\">\n",
              "  <thead>\n",
              "    <tr style=\"text-align: right;\">\n",
              "      <th></th>\n",
              "      <th>tconst</th>\n",
              "      <th>titleType</th>\n",
              "      <th>primaryTitle</th>\n",
              "      <th>originalTitle</th>\n",
              "      <th>isAdult</th>\n",
              "      <th>startYear</th>\n",
              "      <th>endYear</th>\n",
              "      <th>runtimeMinutes</th>\n",
              "      <th>genres</th>\n",
              "      <th>random_normal</th>\n",
              "      <th>dummy_division</th>\n",
              "      <th>dummy_round</th>\n",
              "      <th>dummy_sum</th>\n",
              "      <th>dummy_sub</th>\n",
              "      <th>dummy_exp</th>\n",
              "    </tr>\n",
              "  </thead>\n",
              "  <tbody>\n",
              "    <tr>\n",
              "      <th>0</th>\n",
              "      <td>tt0000001</td>\n",
              "      <td>short</td>\n",
              "      <td>Carmencita</td>\n",
              "      <td>Carmencita</td>\n",
              "      <td>0</td>\n",
              "      <td>1894</td>\n",
              "      <td>\\N</td>\n",
              "      <td>1</td>\n",
              "      <td>Documentary,Short</td>\n",
              "      <td>-0.992755</td>\n",
              "      <td>-0.993</td>\n",
              "      <td>-0.992755</td>\n",
              "      <td>0.007245</td>\n",
              "      <td>1.992755</td>\n",
              "      <td>1.000000</td>\n",
              "    </tr>\n",
              "    <tr>\n",
              "      <th>1</th>\n",
              "      <td>tt0000002</td>\n",
              "      <td>short</td>\n",
              "      <td>Le clown et ses chiens</td>\n",
              "      <td>Le clown et ses chiens</td>\n",
              "      <td>0</td>\n",
              "      <td>1892</td>\n",
              "      <td>\\N</td>\n",
              "      <td>5</td>\n",
              "      <td>Animation,Short</td>\n",
              "      <td>0.431839</td>\n",
              "      <td>0.432</td>\n",
              "      <td>2.159195</td>\n",
              "      <td>5.431839</td>\n",
              "      <td>4.568161</td>\n",
              "      <td>2.003745</td>\n",
              "    </tr>\n",
              "    <tr>\n",
              "      <th>2</th>\n",
              "      <td>tt0000003</td>\n",
              "      <td>short</td>\n",
              "      <td>Pauvre Pierrot</td>\n",
              "      <td>Pauvre Pierrot</td>\n",
              "      <td>0</td>\n",
              "      <td>1892</td>\n",
              "      <td>\\N</td>\n",
              "      <td>4</td>\n",
              "      <td>Animation,Comedy,Romance</td>\n",
              "      <td>0.250836</td>\n",
              "      <td>0.251</td>\n",
              "      <td>1.003345</td>\n",
              "      <td>4.250836</td>\n",
              "      <td>3.749164</td>\n",
              "      <td>1.415854</td>\n",
              "    </tr>\n",
              "    <tr>\n",
              "      <th>3</th>\n",
              "      <td>tt0000004</td>\n",
              "      <td>short</td>\n",
              "      <td>Un bon bock</td>\n",
              "      <td>Un bon bock</td>\n",
              "      <td>0</td>\n",
              "      <td>1892</td>\n",
              "      <td>\\N</td>\n",
              "      <td>12</td>\n",
              "      <td>Animation,Short</td>\n",
              "      <td>-0.104760</td>\n",
              "      <td>-0.105</td>\n",
              "      <td>-1.257121</td>\n",
              "      <td>11.895240</td>\n",
              "      <td>12.104760</td>\n",
              "      <td>0.770806</td>\n",
              "    </tr>\n",
              "    <tr>\n",
              "      <th>4</th>\n",
              "      <td>tt0000005</td>\n",
              "      <td>short</td>\n",
              "      <td>Blacksmith Scene</td>\n",
              "      <td>Blacksmith Scene</td>\n",
              "      <td>0</td>\n",
              "      <td>1893</td>\n",
              "      <td>\\N</td>\n",
              "      <td>1</td>\n",
              "      <td>Comedy,Short</td>\n",
              "      <td>-1.301178</td>\n",
              "      <td>-1.301</td>\n",
              "      <td>-1.301178</td>\n",
              "      <td>-0.301178</td>\n",
              "      <td>2.301178</td>\n",
              "      <td>1.000000</td>\n",
              "    </tr>\n",
              "  </tbody>\n",
              "</table>\n",
              "</div>\n",
              "      <button class=\"colab-df-convert\" onclick=\"convertToInteractive('df-5d65307f-3402-4f2e-a566-fe74d9f50cc5')\"\n",
              "              title=\"Convert this dataframe to an interactive table.\"\n",
              "              style=\"display:none;\">\n",
              "        \n",
              "  <svg xmlns=\"http://www.w3.org/2000/svg\" height=\"24px\"viewBox=\"0 0 24 24\"\n",
              "       width=\"24px\">\n",
              "    <path d=\"M0 0h24v24H0V0z\" fill=\"none\"/>\n",
              "    <path d=\"M18.56 5.44l.94 2.06.94-2.06 2.06-.94-2.06-.94-.94-2.06-.94 2.06-2.06.94zm-11 1L8.5 8.5l.94-2.06 2.06-.94-2.06-.94L8.5 2.5l-.94 2.06-2.06.94zm10 10l.94 2.06.94-2.06 2.06-.94-2.06-.94-.94-2.06-.94 2.06-2.06.94z\"/><path d=\"M17.41 7.96l-1.37-1.37c-.4-.4-.92-.59-1.43-.59-.52 0-1.04.2-1.43.59L10.3 9.45l-7.72 7.72c-.78.78-.78 2.05 0 2.83L4 21.41c.39.39.9.59 1.41.59.51 0 1.02-.2 1.41-.59l7.78-7.78 2.81-2.81c.8-.78.8-2.07 0-2.86zM5.41 20L4 18.59l7.72-7.72 1.47 1.35L5.41 20z\"/>\n",
              "  </svg>\n",
              "      </button>\n",
              "      \n",
              "  <style>\n",
              "    .colab-df-container {\n",
              "      display:flex;\n",
              "      flex-wrap:wrap;\n",
              "      gap: 12px;\n",
              "    }\n",
              "\n",
              "    .colab-df-convert {\n",
              "      background-color: #E8F0FE;\n",
              "      border: none;\n",
              "      border-radius: 50%;\n",
              "      cursor: pointer;\n",
              "      display: none;\n",
              "      fill: #1967D2;\n",
              "      height: 32px;\n",
              "      padding: 0 0 0 0;\n",
              "      width: 32px;\n",
              "    }\n",
              "\n",
              "    .colab-df-convert:hover {\n",
              "      background-color: #E2EBFA;\n",
              "      box-shadow: 0px 1px 2px rgba(60, 64, 67, 0.3), 0px 1px 3px 1px rgba(60, 64, 67, 0.15);\n",
              "      fill: #174EA6;\n",
              "    }\n",
              "\n",
              "    [theme=dark] .colab-df-convert {\n",
              "      background-color: #3B4455;\n",
              "      fill: #D2E3FC;\n",
              "    }\n",
              "\n",
              "    [theme=dark] .colab-df-convert:hover {\n",
              "      background-color: #434B5C;\n",
              "      box-shadow: 0px 1px 3px 1px rgba(0, 0, 0, 0.15);\n",
              "      filter: drop-shadow(0px 1px 2px rgba(0, 0, 0, 0.3));\n",
              "      fill: #FFFFFF;\n",
              "    }\n",
              "  </style>\n",
              "\n",
              "      <script>\n",
              "        const buttonEl =\n",
              "          document.querySelector('#df-5d65307f-3402-4f2e-a566-fe74d9f50cc5 button.colab-df-convert');\n",
              "        buttonEl.style.display =\n",
              "          google.colab.kernel.accessAllowed ? 'block' : 'none';\n",
              "\n",
              "        async function convertToInteractive(key) {\n",
              "          const element = document.querySelector('#df-5d65307f-3402-4f2e-a566-fe74d9f50cc5');\n",
              "          const dataTable =\n",
              "            await google.colab.kernel.invokeFunction('convertToInteractive',\n",
              "                                                     [key], {});\n",
              "          if (!dataTable) return;\n",
              "\n",
              "          const docLinkHtml = 'Like what you see? Visit the ' +\n",
              "            '<a target=\"_blank\" href=https://colab.research.google.com/notebooks/data_table.ipynb>data table notebook</a>'\n",
              "            + ' to learn more about interactive tables.';\n",
              "          element.innerHTML = '';\n",
              "          dataTable['output_type'] = 'display_data';\n",
              "          await google.colab.output.renderOutput(dataTable, element);\n",
              "          const docLink = document.createElement('div');\n",
              "          docLink.innerHTML = docLinkHtml;\n",
              "          element.appendChild(docLink);\n",
              "        }\n",
              "      </script>\n",
              "    </div>\n",
              "  </div>\n",
              "  "
            ]
          },
          "metadata": {},
          "execution_count": 105
        }
      ]
    },
    {
      "cell_type": "markdown",
      "metadata": {
        "id": "wz3iC_DNK46Z"
      },
      "source": [
        "**Strings**\n",
        "\n",
        "  - `upper()` : retorna o string em letras maiúsculas\n",
        "  - `lower()` : retorna o string em letras minúsculas\n",
        "  - `initcap()` : retorna a primeira letra de cada palavra no string em letras maiúsculas\n",
        "  - `trim()` : retira os espaços em branco do início e do final do string\n",
        "  - `ltrim()/rtrim()` : retira os espaços em branco no início e do final do string, respectivamente\n",
        "  - `lpad()/rpad()` : acrescenta um carctere no início e no final do srting, respectivamente, até que string tenha um determinado comprimento\n",
        "  - `length()` : retorna o comprimento do stirng, em quantidade de caracteres\n",
        "  - `split()` : quebra o string a partir de um padrão e retorna um array com os strings resultantes\n",
        "  - `concat()` : concatena uma ou mais colunas de string\n",
        "  - `concat_ws` : concatena uma ou mais colunas de string, com um separador entre elas\n",
        "  - `regexp_extract()` : retorna um match no string a partir de um padrão regex\n",
        "  - `regex_replace()` : substitui um match no string a partir de um padrão regex com outros caracteres\n",
        "  - `substring()` : retornamos caracteres do sting que estão entre os índices especificados. Análogo a f.col().substring() "
      ]
    },
    {
      "cell_type": "code",
      "metadata": {
        "colab": {
          "base_uri": "https://localhost:8080/",
          "height": 206
        },
        "id": "Yv6xt05-K4E3",
        "outputId": "be127e97-05cb-46cb-df50-a735fe68dff8"
      },
      "source": [
        "(\n",
        "    df_titles\n",
        "    .withColumn('primarytitle',f.upper(f.col('primaryTitle')))\n",
        "    .withColumn('titleType',f.trim(f.initcap(f.col('titleType'))))\n",
        "    .withColumn('genres_array',f.split(f.col('genres'),','))\n",
        "    .withColumn('num_cost',f.substring(f.col('tconst'),3,7))\n",
        "    .limit(5)\n",
        "    .toPandas()\n",
        ")"
      ],
      "execution_count": null,
      "outputs": [
        {
          "output_type": "execute_result",
          "data": {
            "text/plain": [
              "      tconst titleType            primarytitle           originalTitle  \\\n",
              "0  tt0000001     Short              CARMENCITA              Carmencita   \n",
              "1  tt0000002     Short  LE CLOWN ET SES CHIENS  Le clown et ses chiens   \n",
              "2  tt0000003     Short          PAUVRE PIERROT          Pauvre Pierrot   \n",
              "3  tt0000004     Short             UN BON BOCK             Un bon bock   \n",
              "4  tt0000005     Short        BLACKSMITH SCENE        Blacksmith Scene   \n",
              "\n",
              "  isAdult startYear endYear runtimeMinutes                    genres  \\\n",
              "0       0      1894      \\N              1         Documentary,Short   \n",
              "1       0      1892      \\N              5           Animation,Short   \n",
              "2       0      1892      \\N              4  Animation,Comedy,Romance   \n",
              "3       0      1892      \\N             12           Animation,Short   \n",
              "4       0      1893      \\N              1              Comedy,Short   \n",
              "\n",
              "                   genres_array num_cost  \n",
              "0          [Documentary, Short]  0000001  \n",
              "1            [Animation, Short]  0000002  \n",
              "2  [Animation, Comedy, Romance]  0000003  \n",
              "3            [Animation, Short]  0000004  \n",
              "4               [Comedy, Short]  0000005  "
            ],
            "text/html": [
              "\n",
              "  <div id=\"df-ab922fbc-ff31-4a98-a864-27a2571be9a1\">\n",
              "    <div class=\"colab-df-container\">\n",
              "      <div>\n",
              "<style scoped>\n",
              "    .dataframe tbody tr th:only-of-type {\n",
              "        vertical-align: middle;\n",
              "    }\n",
              "\n",
              "    .dataframe tbody tr th {\n",
              "        vertical-align: top;\n",
              "    }\n",
              "\n",
              "    .dataframe thead th {\n",
              "        text-align: right;\n",
              "    }\n",
              "</style>\n",
              "<table border=\"1\" class=\"dataframe\">\n",
              "  <thead>\n",
              "    <tr style=\"text-align: right;\">\n",
              "      <th></th>\n",
              "      <th>tconst</th>\n",
              "      <th>titleType</th>\n",
              "      <th>primarytitle</th>\n",
              "      <th>originalTitle</th>\n",
              "      <th>isAdult</th>\n",
              "      <th>startYear</th>\n",
              "      <th>endYear</th>\n",
              "      <th>runtimeMinutes</th>\n",
              "      <th>genres</th>\n",
              "      <th>genres_array</th>\n",
              "      <th>num_cost</th>\n",
              "    </tr>\n",
              "  </thead>\n",
              "  <tbody>\n",
              "    <tr>\n",
              "      <th>0</th>\n",
              "      <td>tt0000001</td>\n",
              "      <td>Short</td>\n",
              "      <td>CARMENCITA</td>\n",
              "      <td>Carmencita</td>\n",
              "      <td>0</td>\n",
              "      <td>1894</td>\n",
              "      <td>\\N</td>\n",
              "      <td>1</td>\n",
              "      <td>Documentary,Short</td>\n",
              "      <td>[Documentary, Short]</td>\n",
              "      <td>0000001</td>\n",
              "    </tr>\n",
              "    <tr>\n",
              "      <th>1</th>\n",
              "      <td>tt0000002</td>\n",
              "      <td>Short</td>\n",
              "      <td>LE CLOWN ET SES CHIENS</td>\n",
              "      <td>Le clown et ses chiens</td>\n",
              "      <td>0</td>\n",
              "      <td>1892</td>\n",
              "      <td>\\N</td>\n",
              "      <td>5</td>\n",
              "      <td>Animation,Short</td>\n",
              "      <td>[Animation, Short]</td>\n",
              "      <td>0000002</td>\n",
              "    </tr>\n",
              "    <tr>\n",
              "      <th>2</th>\n",
              "      <td>tt0000003</td>\n",
              "      <td>Short</td>\n",
              "      <td>PAUVRE PIERROT</td>\n",
              "      <td>Pauvre Pierrot</td>\n",
              "      <td>0</td>\n",
              "      <td>1892</td>\n",
              "      <td>\\N</td>\n",
              "      <td>4</td>\n",
              "      <td>Animation,Comedy,Romance</td>\n",
              "      <td>[Animation, Comedy, Romance]</td>\n",
              "      <td>0000003</td>\n",
              "    </tr>\n",
              "    <tr>\n",
              "      <th>3</th>\n",
              "      <td>tt0000004</td>\n",
              "      <td>Short</td>\n",
              "      <td>UN BON BOCK</td>\n",
              "      <td>Un bon bock</td>\n",
              "      <td>0</td>\n",
              "      <td>1892</td>\n",
              "      <td>\\N</td>\n",
              "      <td>12</td>\n",
              "      <td>Animation,Short</td>\n",
              "      <td>[Animation, Short]</td>\n",
              "      <td>0000004</td>\n",
              "    </tr>\n",
              "    <tr>\n",
              "      <th>4</th>\n",
              "      <td>tt0000005</td>\n",
              "      <td>Short</td>\n",
              "      <td>BLACKSMITH SCENE</td>\n",
              "      <td>Blacksmith Scene</td>\n",
              "      <td>0</td>\n",
              "      <td>1893</td>\n",
              "      <td>\\N</td>\n",
              "      <td>1</td>\n",
              "      <td>Comedy,Short</td>\n",
              "      <td>[Comedy, Short]</td>\n",
              "      <td>0000005</td>\n",
              "    </tr>\n",
              "  </tbody>\n",
              "</table>\n",
              "</div>\n",
              "      <button class=\"colab-df-convert\" onclick=\"convertToInteractive('df-ab922fbc-ff31-4a98-a864-27a2571be9a1')\"\n",
              "              title=\"Convert this dataframe to an interactive table.\"\n",
              "              style=\"display:none;\">\n",
              "        \n",
              "  <svg xmlns=\"http://www.w3.org/2000/svg\" height=\"24px\"viewBox=\"0 0 24 24\"\n",
              "       width=\"24px\">\n",
              "    <path d=\"M0 0h24v24H0V0z\" fill=\"none\"/>\n",
              "    <path d=\"M18.56 5.44l.94 2.06.94-2.06 2.06-.94-2.06-.94-.94-2.06-.94 2.06-2.06.94zm-11 1L8.5 8.5l.94-2.06 2.06-.94-2.06-.94L8.5 2.5l-.94 2.06-2.06.94zm10 10l.94 2.06.94-2.06 2.06-.94-2.06-.94-.94-2.06-.94 2.06-2.06.94z\"/><path d=\"M17.41 7.96l-1.37-1.37c-.4-.4-.92-.59-1.43-.59-.52 0-1.04.2-1.43.59L10.3 9.45l-7.72 7.72c-.78.78-.78 2.05 0 2.83L4 21.41c.39.39.9.59 1.41.59.51 0 1.02-.2 1.41-.59l7.78-7.78 2.81-2.81c.8-.78.8-2.07 0-2.86zM5.41 20L4 18.59l7.72-7.72 1.47 1.35L5.41 20z\"/>\n",
              "  </svg>\n",
              "      </button>\n",
              "      \n",
              "  <style>\n",
              "    .colab-df-container {\n",
              "      display:flex;\n",
              "      flex-wrap:wrap;\n",
              "      gap: 12px;\n",
              "    }\n",
              "\n",
              "    .colab-df-convert {\n",
              "      background-color: #E8F0FE;\n",
              "      border: none;\n",
              "      border-radius: 50%;\n",
              "      cursor: pointer;\n",
              "      display: none;\n",
              "      fill: #1967D2;\n",
              "      height: 32px;\n",
              "      padding: 0 0 0 0;\n",
              "      width: 32px;\n",
              "    }\n",
              "\n",
              "    .colab-df-convert:hover {\n",
              "      background-color: #E2EBFA;\n",
              "      box-shadow: 0px 1px 2px rgba(60, 64, 67, 0.3), 0px 1px 3px 1px rgba(60, 64, 67, 0.15);\n",
              "      fill: #174EA6;\n",
              "    }\n",
              "\n",
              "    [theme=dark] .colab-df-convert {\n",
              "      background-color: #3B4455;\n",
              "      fill: #D2E3FC;\n",
              "    }\n",
              "\n",
              "    [theme=dark] .colab-df-convert:hover {\n",
              "      background-color: #434B5C;\n",
              "      box-shadow: 0px 1px 3px 1px rgba(0, 0, 0, 0.15);\n",
              "      filter: drop-shadow(0px 1px 2px rgba(0, 0, 0, 0.3));\n",
              "      fill: #FFFFFF;\n",
              "    }\n",
              "  </style>\n",
              "\n",
              "      <script>\n",
              "        const buttonEl =\n",
              "          document.querySelector('#df-ab922fbc-ff31-4a98-a864-27a2571be9a1 button.colab-df-convert');\n",
              "        buttonEl.style.display =\n",
              "          google.colab.kernel.accessAllowed ? 'block' : 'none';\n",
              "\n",
              "        async function convertToInteractive(key) {\n",
              "          const element = document.querySelector('#df-ab922fbc-ff31-4a98-a864-27a2571be9a1');\n",
              "          const dataTable =\n",
              "            await google.colab.kernel.invokeFunction('convertToInteractive',\n",
              "                                                     [key], {});\n",
              "          if (!dataTable) return;\n",
              "\n",
              "          const docLinkHtml = 'Like what you see? Visit the ' +\n",
              "            '<a target=\"_blank\" href=https://colab.research.google.com/notebooks/data_table.ipynb>data table notebook</a>'\n",
              "            + ' to learn more about interactive tables.';\n",
              "          element.innerHTML = '';\n",
              "          dataTable['output_type'] = 'display_data';\n",
              "          await google.colab.output.renderOutput(dataTable, element);\n",
              "          const docLink = document.createElement('div');\n",
              "          docLink.innerHTML = docLinkHtml;\n",
              "          element.appendChild(docLink);\n",
              "        }\n",
              "      </script>\n",
              "    </div>\n",
              "  </div>\n",
              "  "
            ]
          },
          "metadata": {},
          "execution_count": 106
        }
      ]
    },
    {
      "cell_type": "markdown",
      "metadata": {
        "id": "217VJY-_PlLW"
      },
      "source": [
        "**Datas**\n",
        "\n",
        "  - `add_months()` : retorna a data depois de adicionar \"x\" meses\n",
        "  - `months_between()` : retorna a diferença entre duas datas em meses\n",
        "  - `date_add()` : retorna a data depois de adicionar \"x\" dias\n",
        "  - `date_sub()` : retorna a data depois de subtrair \"x\" dias\n",
        "  - `next_day` : retorna o dia seguinte de alguma data\n",
        "  - `datediff()` : retorna a diferença entre duas datas em dias\n",
        "  - `current_date` : retorna a data atual\n",
        "  - `dayofweek/dayofmonth()/dayofyear` : retorna o dia relativo à semana, ao mês e ao ano, respectivamente.\n",
        "  - `weekofyear` : retorna a semana relativa ao ano\n",
        "  - `second()/minute()/hour()` : retorna os segundos, os minutos e as horas de uma coluna de date-time, respectivamente\n",
        "  - `month()/year()` : retorna o mês e o ano de uma coluna de data, respectivamente\n",
        "  - `last_day()` : retorna o último dia do mês do qual a data considerada pertence\n",
        "  - `to_date()` : transforma a coluna no tipo data (t.DateType())\n",
        "  - `trunc()` : formata a data para a unidade especificada\n",
        "    - `year` : \"(ano)-01-01\"\n",
        "    - `month` : \"(ano)-(mes)-01\" "
      ]
    },
    {
      "cell_type": "code",
      "metadata": {
        "colab": {
          "base_uri": "https://localhost:8080/"
        },
        "id": "R1a2UazERpen",
        "outputId": "207f17a9-8b64-424a-9045-de41855e1721"
      },
      "source": [
        "(\n",
        "    df_titles\n",
        "    .filter('titleType = \"movie\"')\n",
        "    .withColumn('data_ano',f.to_date(f.col('startYear'),'yyyy'))\n",
        "    .withColumn('mes',f.month(f.col('data_ano')))\n",
        "    .withColumn('ano',f.dayofmonth(f.col('data_ano')))\n",
        "    .withColumn('hoje',f.current_date())\n",
        "    .withColumn('trunc',f.trunc(f.col('data_ano'),'week'))\n",
        "    .withColumn('ultimo_dia_mes',f.last_day(f.col('data_ano')))\n",
        "    .withColumn('idade_filme_dias',f.datediff(f.col('hoje'),f.col('data_ano')))\n",
        "    .withColumn('idade_filme_meses',f.floor(f.months_between(f.col('hoje'),f.col('data_ano'))))\n",
        "    .withColumn('idade_filme_anos',f.floor(f.col('idade_filme_dias')/365))\n",
        "    .select('startYear','data_ano','mes','ano','hoje','trunc',\n",
        "            'ultimo_dia_mes','idade_filme_dias','idade_filme_meses','idade_filme_anos')\n",
        "    .show(5)\n",
        ")"
      ],
      "execution_count": null,
      "outputs": [
        {
          "output_type": "stream",
          "name": "stdout",
          "text": [
            "+---------+----------+---+---+----------+----------+--------------+----------------+-----------------+----------------+\n",
            "|startYear|  data_ano|mes|ano|      hoje|     trunc|ultimo_dia_mes|idade_filme_dias|idade_filme_meses|idade_filme_anos|\n",
            "+---------+----------+---+---+----------+----------+--------------+----------------+-----------------+----------------+\n",
            "|     1905|1905-01-01|  1|  1|2022-05-08|1904-12-26|    1905-01-31|           42861|             1408|             117|\n",
            "|     1907|1907-01-01|  1|  1|2022-05-08|1906-12-31|    1907-01-31|           42131|             1384|             115|\n",
            "|     1907|1907-01-01|  1|  1|2022-05-08|1906-12-31|    1907-01-31|           42131|             1384|             115|\n",
            "|     1908|1908-01-01|  1|  1|2022-05-08|1907-12-30|    1908-01-31|           41766|             1372|             114|\n",
            "|     1908|1908-01-01|  1|  1|2022-05-08|1907-12-30|    1908-01-31|           41766|             1372|             114|\n",
            "+---------+----------+---+---+----------+----------+--------------+----------------+-----------------+----------------+\n",
            "only showing top 5 rows\n",
            "\n"
          ]
        }
      ]
    },
    {
      "cell_type": "markdown",
      "metadata": {
        "id": "DFRfYtITahbX"
      },
      "source": [
        "### **Arrays**\n",
        "\n",
        "  - `array()` : constrói um array com as colunas selecionadas\n",
        "  - `flatten()` : transforma um array de arrays em um único array\n",
        "  - `explode()` : retorna uma nova linha para cada elemento no array\n",
        "  - `size()` : retorna o número de elementos do array\n",
        "  - `sort_array()` : ordena os elementos do array, de forma crescente ou decrescente\n",
        "  - `reverse()` : reverte a ordem dos elementos de um array \n",
        "  - `array_distinct()` : remove elementos duplicados do array\n",
        "  - `array_contains()` : verifica se o array contém o elemento especificado\n",
        "  - `arrays_overlap()` : a partir de 2 colunas de arrays, verifica se elas tem algum elemento em comum, retornando True ou False\n",
        "  - `array_union()` : a partir de 2 colunas de arrays, retorna o array com os elementos unidos das duas colunas, sem duplicatas\n",
        "  - `array_except()` : a partir de 2 colunas de arrays, retorna um array com os elementos que estão em uma coluna mais não estão na outra, sem duplicatas\n",
        "  - `array_intersect()` : a partir de 2 colunas de arrays, retorna um array com os elementos que estão nas duas colunas, sem duplicatas\n",
        "  - `array_join()` : retorna um string após concaterna os elementos do array usando um delimitador especificado\n",
        "  - `array_max()/array_min()` : retorna o máximo e o mínimo valor do array, respectivamente\n",
        "  - `array_remove()` : remove elementos do array que são iguais a uma valor especificado  \n"
      ]
    },
    {
      "cell_type": "code",
      "metadata": {
        "colab": {
          "base_uri": "https://localhost:8080/"
        },
        "id": "-MCwZXeqagVd",
        "outputId": "99259116-4d0c-4606-8e07-3b238f6352be"
      },
      "source": [
        "(\n",
        "    df_titles\n",
        "    .filter('titleType = \"movie\"')\n",
        "    .withColumn('genres_array',f.split(f.col('genres'), ','))\n",
        "    .withColumn('first_genre',f.col('genres_array')[0])\n",
        "    .withColumn('genres_string',f.array_join(f.col('genres_array'),','))\n",
        "    .withColumn('n_genres',f.size(f.col('genres_array')))\n",
        "    .withColumn('genres_unico',f.explode(f.col('genres_array')))\n",
        "    .select('genres_array','first_genre','genres_string','n_genres','genres_unico')\n",
        "    .show(20)\n",
        ")"
      ],
      "execution_count": null,
      "outputs": [
        {
          "output_type": "stream",
          "name": "stdout",
          "text": [
            "+--------------------+-----------+-----------------+--------+------------+\n",
            "|        genres_array|first_genre|    genres_string|n_genres|genres_unico|\n",
            "+--------------------+-----------+-----------------+--------+------------+\n",
            "|                [\\N]|         \\N|               \\N|       1|          \\N|\n",
            "|             [Drama]|      Drama|            Drama|       1|       Drama|\n",
            "|             [Drama]|      Drama|            Drama|       1|       Drama|\n",
            "|             [Drama]|      Drama|            Drama|       1|       Drama|\n",
            "|             [Drama]|      Drama|            Drama|       1|       Drama|\n",
            "|[Adventure, Fantasy]|  Adventure|Adventure,Fantasy|       2|   Adventure|\n",
            "|[Adventure, Fantasy]|  Adventure|Adventure,Fantasy|       2|     Fantasy|\n",
            "|             [Drama]|      Drama|            Drama|       1|       Drama|\n",
            "|             [Drama]|      Drama|            Drama|       1|       Drama|\n",
            "|                [\\N]|         \\N|               \\N|       1|          \\N|\n",
            "|                [\\N]|         \\N|               \\N|       1|          \\N|\n",
            "|                [\\N]|         \\N|               \\N|       1|          \\N|\n",
            "|                [\\N]|         \\N|               \\N|       1|          \\N|\n",
            "|                [\\N]|         \\N|               \\N|       1|          \\N|\n",
            "|                [\\N]|         \\N|               \\N|       1|          \\N|\n",
            "|                [\\N]|         \\N|               \\N|       1|          \\N|\n",
            "|                [\\N]|         \\N|               \\N|       1|          \\N|\n",
            "|                [\\N]|         \\N|               \\N|       1|          \\N|\n",
            "|                [\\N]|         \\N|               \\N|       1|          \\N|\n",
            "|                [\\N]|         \\N|               \\N|       1|          \\N|\n",
            "+--------------------+-----------+-----------------+--------+------------+\n",
            "only showing top 20 rows\n",
            "\n"
          ]
        }
      ]
    },
    {
      "cell_type": "markdown",
      "metadata": {
        "id": "0FzOUh7ajtxM"
      },
      "source": [
        "**Nulos**\n",
        "\n",
        "  - `drop()` : retira do DataFrame as linhas com nulos, com base no que foi passado para o argumento how\n",
        "    - any (default) : retira todas as linhas com pelo menos um valor nulo nas colunas\n",
        "    - all : somente retira as linhas com todos os valores nulos nas colunas\n",
        "  - `fill()` : preenche os valores nulos no DataFrame com uma constante, passada pelo usuário\n",
        "  - `replace()` : substitui o valor (não somente os valores nulos) por algum outro passado pelo usuário  "
      ]
    },
    {
      "cell_type": "code",
      "metadata": {
        "colab": {
          "base_uri": "https://localhost:8080/"
        },
        "id": "_3isoJiKkfnw",
        "outputId": "394d93ad-4056-4b4f-87f1-75153a73b329"
      },
      "source": [
        "(\n",
        "    df_titles\n",
        "    .replace('\\\\N', None, subset=['startYear','endYear'])\n",
        "    .filter('endYear is null and startYear is not null')\n",
        "    #.na.drop(subset=['startYear'])#'0',subset=['endYear'])\n",
        "    .withColumn('coalesce_test',f.coalesce(f.col('startYear'),\n",
        "                                           f.col('startYear'),\n",
        "                                           f.lit('Sem ano')))\n",
        "    .show(5)\n",
        ")"
      ],
      "execution_count": null,
      "outputs": [
        {
          "output_type": "stream",
          "name": "stdout",
          "text": [
            "+---------+---------+--------------------+--------------------+-------+---------+-------+--------------+--------------------+-------------+\n",
            "|   tconst|titleType|        primaryTitle|       originalTitle|isAdult|startYear|endYear|runtimeMinutes|              genres|coalesce_test|\n",
            "+---------+---------+--------------------+--------------------+-------+---------+-------+--------------+--------------------+-------------+\n",
            "|tt0000001|    short|          Carmencita|          Carmencita|      0|     1894|   null|             1|   Documentary,Short|         1894|\n",
            "|tt0000002|    short|Le clown et ses c...|Le clown et ses c...|      0|     1892|   null|             5|     Animation,Short|         1892|\n",
            "|tt0000003|    short|      Pauvre Pierrot|      Pauvre Pierrot|      0|     1892|   null|             4|Animation,Comedy,...|         1892|\n",
            "|tt0000004|    short|         Un bon bock|         Un bon bock|      0|     1892|   null|            12|     Animation,Short|         1892|\n",
            "|tt0000005|    short|    Blacksmith Scene|    Blacksmith Scene|      0|     1893|   null|             1|        Comedy,Short|         1893|\n",
            "+---------+---------+--------------------+--------------------+-------+---------+-------+--------------+--------------------+-------------+\n",
            "only showing top 5 rows\n",
            "\n"
          ]
        }
      ]
    },
    {
      "cell_type": "markdown",
      "metadata": {
        "id": "qBKzWEZOpha_"
      },
      "source": [
        "# **Aula 4.1 -** Manipulando dados com Spark - Parte II"
      ]
    },
    {
      "cell_type": "markdown",
      "source": [
        "### **Agrupamento e Agregação**\n",
        "\n",
        "O agurpamento dos DataFrames é feito por meio da função **groupby()**. Essa função deve ser sucedida pela função agregação `agg()`, de pivotação `pivot()` ou `count()`. A função **agg()** aplica uma função de agregação no DataFrame. Se\n",
        "precedida por `groupby()`, realiza a agregação dentro dos grupos estabelecidos.\n",
        "Algumas das funções de agregação mais utilizadas são : \n",
        "\n",
        "- `sum()` : retorna a soma dos valores da coluna;\n",
        "- `sumDistinct()` : retorna a soma dos valores distintos da coluna;\n",
        "- `max() / min()` : retorna o mínimo e o máximo da coluna, respectivamente.\n",
        "- `avg() / mean()`: retorna a média dos valores da coluna;\n",
        "- `percentile_approx()` : retorna o percentil da coluna, com aproximação. Para\n",
        "trazer a mediana exata, usar : `percentile_approx(f.col(column),.5,lit(10000000))` \n",
        "- `stddev()` : retorna o desvio padrão dos valores da coluna\n",
        "- `count()` : retorna a contagem de linhas\n",
        "- `countDistinct` : retorna a contagem de valores distintos da coluna\n",
        "- `first() / last()` : retorna o primeiro e o último valor da coluna no agrupamento, respectivamente. Interessante de ser utilizada em conjunto com o agrupamento `ignoreNulls=True`.\n",
        "- `collect_list()`: retorna os valores do agrupamento em uma lista, com duplicações.\n",
        "- `collect_set()` : retorna os valores do agrupamento em uma lista, sem duplicações (desordenado)\n",
        "\n",
        "**obs:** O spark ignora os valores nulos para calcular as agregações, com exceção da função `count()`.\n",
        "*texto em itálico*\n",
        "---\n",
        "\n",
        "A função **pivot** é utilizada para passar valores de uma linha para as colunas, realizando uma agregação. Deve ser sucedido por uma função de agregação utilizando `agg()`. Pode utilizar qualquer umas das funções de agregação anteriores. "
      ],
      "metadata": {
        "id": "j4zuZl2hjovS"
      }
    },
    {
      "cell_type": "code",
      "source": [
        "df_titles.show()"
      ],
      "metadata": {
        "colab": {
          "base_uri": "https://localhost:8080/"
        },
        "id": "F_TS5tlsnRGA",
        "outputId": "9e49b47c-5763-402f-900a-f7031f354304"
      },
      "execution_count": null,
      "outputs": [
        {
          "output_type": "stream",
          "name": "stdout",
          "text": [
            "+---------+---------+--------------------+--------------------+-------+---------+-------+--------------+--------------------+\n",
            "|   tconst|titleType|        primaryTitle|       originalTitle|isAdult|startYear|endYear|runtimeMinutes|              genres|\n",
            "+---------+---------+--------------------+--------------------+-------+---------+-------+--------------+--------------------+\n",
            "|tt0000001|    short|          Carmencita|          Carmencita|      0|     1894|     \\N|             1|   Documentary,Short|\n",
            "|tt0000002|    short|Le clown et ses c...|Le clown et ses c...|      0|     1892|     \\N|             5|     Animation,Short|\n",
            "|tt0000003|    short|      Pauvre Pierrot|      Pauvre Pierrot|      0|     1892|     \\N|             4|Animation,Comedy,...|\n",
            "|tt0000004|    short|         Un bon bock|         Un bon bock|      0|     1892|     \\N|            12|     Animation,Short|\n",
            "|tt0000005|    short|    Blacksmith Scene|    Blacksmith Scene|      0|     1893|     \\N|             1|        Comedy,Short|\n",
            "|tt0000006|    short|   Chinese Opium Den|   Chinese Opium Den|      0|     1894|     \\N|             1|               Short|\n",
            "|tt0000007|    short|Corbett and Court...|Corbett and Court...|      0|     1894|     \\N|             1|         Short,Sport|\n",
            "|tt0000008|    short|Edison Kinetoscop...|Edison Kinetoscop...|      0|     1894|     \\N|             1|   Documentary,Short|\n",
            "|tt0000009|    short|          Miss Jerry|          Miss Jerry|      0|     1894|     \\N|            40|       Romance,Short|\n",
            "|tt0000010|    short| Leaving the Factory|La sortie de l'us...|      0|     1895|     \\N|             1|   Documentary,Short|\n",
            "|tt0000011|    short|Akrobatisches Pot...|Akrobatisches Pot...|      0|     1895|     \\N|             1|   Documentary,Short|\n",
            "|tt0000012|    short|The Arrival of a ...|L'arrivée d'un tr...|      0|     1896|     \\N|             1|   Documentary,Short|\n",
            "|tt0000013|    short|The Photographica...|Le débarquement d...|      0|     1895|     \\N|             1|   Documentary,Short|\n",
            "|tt0000014|    short| The Waterer Watered|   L'arroseur arrosé|      0|     1895|     \\N|             1|        Comedy,Short|\n",
            "|tt0000015|    short| Autour d'une cabine| Autour d'une cabine|      0|     1894|     \\N|             2|     Animation,Short|\n",
            "|tt0000016|    short|Boat Leaving the ...|Barque sortant du...|      0|     1895|     \\N|             1|   Documentary,Short|\n",
            "|tt0000017|    short|Italienischer Bau...|Italienischer Bau...|      0|     1895|     \\N|             1|   Documentary,Short|\n",
            "|tt0000018|    short|Das boxende Känguruh|Das boxende Känguruh|      0|     1895|     \\N|             1|               Short|\n",
            "|tt0000019|    short|    The Clown Barber|    The Clown Barber|      0|     1898|     \\N|            \\N|        Comedy,Short|\n",
            "|tt0000020|    short|      The Derby 1895|      The Derby 1895|      0|     1895|     \\N|             1|Documentary,Short...|\n",
            "+---------+---------+--------------------+--------------------+-------+---------+-------+--------------+--------------------+\n",
            "only showing top 20 rows\n",
            "\n"
          ]
        }
      ]
    },
    {
      "cell_type": "code",
      "source": [
        "df_titles_subset = (\n",
        "    df_titles\n",
        "    .filter(\"cast(startYear as int) >= 2000\")\n",
        "    .sample(fraction = 0.5)\n",
        "    .withColumn('genre', f.split('genres',',').getItem(0))\n",
        ") "
      ],
      "metadata": {
        "id": "vdQwufPWjnMn"
      },
      "execution_count": null,
      "outputs": []
    },
    {
      "cell_type": "code",
      "source": [
        "df_titles_subset.show()"
      ],
      "metadata": {
        "colab": {
          "base_uri": "https://localhost:8080/"
        },
        "id": "0yRI4w7VqYf2",
        "outputId": "ffa20db4-817c-4ba9-b62e-e6f80cb373f6"
      },
      "execution_count": null,
      "outputs": [
        {
          "output_type": "stream",
          "name": "stdout",
          "text": [
            "+---------+---------+--------------------+--------------------+-------+---------+-------+--------------+--------------------+-----------+\n",
            "|   tconst|titleType|        primaryTitle|       originalTitle|isAdult|startYear|endYear|runtimeMinutes|              genres|      genre|\n",
            "+---------+---------+--------------------+--------------------+-------+---------+-------+--------------+--------------------+-----------+\n",
            "|tt0011801|    movie|    Tötet nicht mehr|    Tötet nicht mehr|      0|     2019|     \\N|            \\N|        Action,Crime|     Action|\n",
            "|tt0016906|    movie|          Frivolinas|          Frivolinas|      0|     2014|     \\N|            80|      Comedy,Musical|     Comedy|\n",
            "|tt0034413|    short|  Youth Gets a Break|  Youth Gets a Break|      0|     2001|     \\N|            20|               Short|      Short|\n",
            "|tt0035423|    movie|      Kate & Leopold|      Kate & Leopold|      0|     2001|     \\N|           118|Comedy,Fantasy,Ro...|     Comedy|\n",
            "|tt0056840|    short|            Aufsätze|            Aufsätze|      0|     2021|     \\N|            10|               Short|      Short|\n",
            "|tt0060366|    short|A Embalagem de Vidro|A Embalagem de Vidro|      0|     2020|     \\N|            11|   Documentary,Short|Documentary|\n",
            "|tt0065392|    movie|  Bucharest Memories|Amintiri bucurestene|      0|     2020|     \\N|            \\N|         Documentary|Documentary|\n",
            "|tt0067230|    short|  I Miss Sonia Henie|  I Miss Sonia Henie|      0|     2009|     \\N|            20|        Comedy,Short|     Comedy|\n",
            "|tt0068943|    short|Between Wroclaw a...|Miedzy Wroclawiem...|      0|     2010|     \\N|            11|   Documentary,Short|Documentary|\n",
            "|tt0069049|    movie|The Other Side of...|The Other Side of...|      0|     2018|     \\N|           122|               Drama|      Drama|\n",
            "|tt0079644|    movie|       November 1828|       November 1828|      0|     2001|     \\N|           140|           Drama,War|      Drama|\n",
            "|tt0083060|    movie|    The Drive to Win|              Sha Ou|      0|     2019|     \\N|            \\N|         Drama,Sport|      Drama|\n",
            "|tt0089067|    movie|El día de los alb...|El día de los alb...|      0|     2001|     \\N|            90|              Comedy|     Comedy|\n",
            "|tt0089435|    short|               Kokoa|               Kokoa|      0|     2019|     \\N|            13|     Animation,Short|  Animation|\n",
            "|tt0102362|    movie|              Istota|              Istota|      0|     2000|     \\N|            80|       Drama,Romance|      Drama|\n",
            "|tt0103902|  tvMovie|        Bye Bye Baby|        Bye Bye Baby|      0|     2001|     \\N|           100|              Comedy|     Comedy|\n",
            "|tt0108270|    short|    Symphony 92.4 FM|    Symphony 92.4 FM|      0|     2013|     \\N|            \\N|               Short|      Short|\n",
            "|tt0109173|    movie|    Auf allen Meeren|    Auf allen Meeren|      0|     2002|     \\N|            95|         Documentary|Documentary|\n",
            "|tt0110476|    movie|  Master i Margarita|  Master i Margarita|      0|     2006|     \\N|           125|       Drama,Fantasy|      Drama|\n",
            "|tt0111522|    video|Twister: A Musica...|Twister: A Musica...|      0|     2000|     \\N|           128|       Action,Comedy|     Action|\n",
            "+---------+---------+--------------------+--------------------+-------+---------+-------+--------------+--------------------+-----------+\n",
            "only showing top 20 rows\n",
            "\n"
          ]
        }
      ]
    },
    {
      "cell_type": "code",
      "source": [
        "(\n",
        "    df_titles_subset\n",
        "    .agg(f.countDistinct('genre').alias('distinct_genres'),)\n",
        "    .show()\n",
        ")"
      ],
      "metadata": {
        "colab": {
          "base_uri": "https://localhost:8080/"
        },
        "id": "InEug6iqqbJQ",
        "outputId": "040652d3-ab96-4219-bbfe-43f7af06f531"
      },
      "execution_count": null,
      "outputs": [
        {
          "output_type": "stream",
          "name": "stdout",
          "text": [
            "+---------------+\n",
            "|distinct_genres|\n",
            "+---------------+\n",
            "|             28|\n",
            "+---------------+\n",
            "\n"
          ]
        }
      ]
    },
    {
      "cell_type": "code",
      "source": [
        "(\n",
        "    df_titles_subset\n",
        "    .withColumn('runtimeMinutes', f.col('runtimeMinutes').cast('int'))\n",
        "    .agg(f.sum('runtimeMinutes').alias('total_runtimeMinutes'),\n",
        "         f.mean('runtimeMinutes').alias('mean_runtimeMinutes'),\n",
        "         f.min('runtimeMinutes').alias('min_runtimeMinutes'),\n",
        "         f.max('runtimeMinutes').alias('min_runtimeMinutes'),\n",
        "         f.percentile_approx('runtimeMinutes', 0.5, f.lit(100000000)).alias('median_runtimeMinutes'),\n",
        "         f.stddev('runtimeMinutes').alias('std_runtimeMinutes'),\n",
        "        )\n",
        "    .show()\n",
        ")"
      ],
      "metadata": {
        "colab": {
          "base_uri": "https://localhost:8080/"
        },
        "id": "mUkAbDgZutbv",
        "outputId": "85ece8a4-01a0-49ba-b334-d0102c4337cb"
      },
      "execution_count": null,
      "outputs": [
        {
          "output_type": "stream",
          "name": "stdout",
          "text": [
            "+--------------------+-------------------+------------------+------------------+---------------------+------------------+\n",
            "|total_runtimeMinutes|mean_runtimeMinutes|min_runtimeMinutes|min_runtimeMinutes|median_runtimeMinutes|std_runtimeMinutes|\n",
            "+--------------------+-------------------+------------------+------------------+---------------------+------------------+\n",
            "|            34147922|  40.63308412571678|                 0|             51420|                   26| 86.46996705982639|\n",
            "+--------------------+-------------------+------------------+------------------+---------------------+------------------+\n",
            "\n"
          ]
        }
      ]
    },
    {
      "cell_type": "code",
      "source": [
        "(\n",
        "  df_titles_subset\n",
        "  .withColumn('runtimeMinutes', f.col('runtimeMinutes').cast('int')).select('runtimeMinutes').describe().toPandas()\n",
        ")"
      ],
      "metadata": {
        "colab": {
          "base_uri": "https://localhost:8080/",
          "height": 206
        },
        "id": "4Xdy3cp7wycY",
        "outputId": "756cdbeb-5a37-44ab-cf13-515499b57f7e"
      },
      "execution_count": null,
      "outputs": [
        {
          "output_type": "execute_result",
          "data": {
            "text/plain": [
              "  summary     runtimeMinutes\n",
              "0   count             840397\n",
              "1    mean  40.63308412571678\n",
              "2  stddev  86.46996705982639\n",
              "3     min                  0\n",
              "4     max              51420"
            ],
            "text/html": [
              "\n",
              "  <div id=\"df-61691961-3e79-4b50-85e0-d6fccfc9225b\">\n",
              "    <div class=\"colab-df-container\">\n",
              "      <div>\n",
              "<style scoped>\n",
              "    .dataframe tbody tr th:only-of-type {\n",
              "        vertical-align: middle;\n",
              "    }\n",
              "\n",
              "    .dataframe tbody tr th {\n",
              "        vertical-align: top;\n",
              "    }\n",
              "\n",
              "    .dataframe thead th {\n",
              "        text-align: right;\n",
              "    }\n",
              "</style>\n",
              "<table border=\"1\" class=\"dataframe\">\n",
              "  <thead>\n",
              "    <tr style=\"text-align: right;\">\n",
              "      <th></th>\n",
              "      <th>summary</th>\n",
              "      <th>runtimeMinutes</th>\n",
              "    </tr>\n",
              "  </thead>\n",
              "  <tbody>\n",
              "    <tr>\n",
              "      <th>0</th>\n",
              "      <td>count</td>\n",
              "      <td>840397</td>\n",
              "    </tr>\n",
              "    <tr>\n",
              "      <th>1</th>\n",
              "      <td>mean</td>\n",
              "      <td>40.63308412571678</td>\n",
              "    </tr>\n",
              "    <tr>\n",
              "      <th>2</th>\n",
              "      <td>stddev</td>\n",
              "      <td>86.46996705982639</td>\n",
              "    </tr>\n",
              "    <tr>\n",
              "      <th>3</th>\n",
              "      <td>min</td>\n",
              "      <td>0</td>\n",
              "    </tr>\n",
              "    <tr>\n",
              "      <th>4</th>\n",
              "      <td>max</td>\n",
              "      <td>51420</td>\n",
              "    </tr>\n",
              "  </tbody>\n",
              "</table>\n",
              "</div>\n",
              "      <button class=\"colab-df-convert\" onclick=\"convertToInteractive('df-61691961-3e79-4b50-85e0-d6fccfc9225b')\"\n",
              "              title=\"Convert this dataframe to an interactive table.\"\n",
              "              style=\"display:none;\">\n",
              "        \n",
              "  <svg xmlns=\"http://www.w3.org/2000/svg\" height=\"24px\"viewBox=\"0 0 24 24\"\n",
              "       width=\"24px\">\n",
              "    <path d=\"M0 0h24v24H0V0z\" fill=\"none\"/>\n",
              "    <path d=\"M18.56 5.44l.94 2.06.94-2.06 2.06-.94-2.06-.94-.94-2.06-.94 2.06-2.06.94zm-11 1L8.5 8.5l.94-2.06 2.06-.94-2.06-.94L8.5 2.5l-.94 2.06-2.06.94zm10 10l.94 2.06.94-2.06 2.06-.94-2.06-.94-.94-2.06-.94 2.06-2.06.94z\"/><path d=\"M17.41 7.96l-1.37-1.37c-.4-.4-.92-.59-1.43-.59-.52 0-1.04.2-1.43.59L10.3 9.45l-7.72 7.72c-.78.78-.78 2.05 0 2.83L4 21.41c.39.39.9.59 1.41.59.51 0 1.02-.2 1.41-.59l7.78-7.78 2.81-2.81c.8-.78.8-2.07 0-2.86zM5.41 20L4 18.59l7.72-7.72 1.47 1.35L5.41 20z\"/>\n",
              "  </svg>\n",
              "      </button>\n",
              "      \n",
              "  <style>\n",
              "    .colab-df-container {\n",
              "      display:flex;\n",
              "      flex-wrap:wrap;\n",
              "      gap: 12px;\n",
              "    }\n",
              "\n",
              "    .colab-df-convert {\n",
              "      background-color: #E8F0FE;\n",
              "      border: none;\n",
              "      border-radius: 50%;\n",
              "      cursor: pointer;\n",
              "      display: none;\n",
              "      fill: #1967D2;\n",
              "      height: 32px;\n",
              "      padding: 0 0 0 0;\n",
              "      width: 32px;\n",
              "    }\n",
              "\n",
              "    .colab-df-convert:hover {\n",
              "      background-color: #E2EBFA;\n",
              "      box-shadow: 0px 1px 2px rgba(60, 64, 67, 0.3), 0px 1px 3px 1px rgba(60, 64, 67, 0.15);\n",
              "      fill: #174EA6;\n",
              "    }\n",
              "\n",
              "    [theme=dark] .colab-df-convert {\n",
              "      background-color: #3B4455;\n",
              "      fill: #D2E3FC;\n",
              "    }\n",
              "\n",
              "    [theme=dark] .colab-df-convert:hover {\n",
              "      background-color: #434B5C;\n",
              "      box-shadow: 0px 1px 3px 1px rgba(0, 0, 0, 0.15);\n",
              "      filter: drop-shadow(0px 1px 2px rgba(0, 0, 0, 0.3));\n",
              "      fill: #FFFFFF;\n",
              "    }\n",
              "  </style>\n",
              "\n",
              "      <script>\n",
              "        const buttonEl =\n",
              "          document.querySelector('#df-61691961-3e79-4b50-85e0-d6fccfc9225b button.colab-df-convert');\n",
              "        buttonEl.style.display =\n",
              "          google.colab.kernel.accessAllowed ? 'block' : 'none';\n",
              "\n",
              "        async function convertToInteractive(key) {\n",
              "          const element = document.querySelector('#df-61691961-3e79-4b50-85e0-d6fccfc9225b');\n",
              "          const dataTable =\n",
              "            await google.colab.kernel.invokeFunction('convertToInteractive',\n",
              "                                                     [key], {});\n",
              "          if (!dataTable) return;\n",
              "\n",
              "          const docLinkHtml = 'Like what you see? Visit the ' +\n",
              "            '<a target=\"_blank\" href=https://colab.research.google.com/notebooks/data_table.ipynb>data table notebook</a>'\n",
              "            + ' to learn more about interactive tables.';\n",
              "          element.innerHTML = '';\n",
              "          dataTable['output_type'] = 'display_data';\n",
              "          await google.colab.output.renderOutput(dataTable, element);\n",
              "          const docLink = document.createElement('div');\n",
              "          docLink.innerHTML = docLinkHtml;\n",
              "          element.appendChild(docLink);\n",
              "        }\n",
              "      </script>\n",
              "    </div>\n",
              "  </div>\n",
              "  "
            ]
          },
          "metadata": {},
          "execution_count": 125
        }
      ]
    },
    {
      "cell_type": "markdown",
      "source": [
        "### **Agrupamentos**"
      ],
      "metadata": {
        "id": "7oG2Vlvw2kIg"
      }
    },
    {
      "cell_type": "code",
      "source": [
        "df_titles_subset.show()"
      ],
      "metadata": {
        "colab": {
          "base_uri": "https://localhost:8080/"
        },
        "id": "2xJfK1-C2ivk",
        "outputId": "8297b1a0-2403-4db2-c27f-fb901c413d02"
      },
      "execution_count": null,
      "outputs": [
        {
          "output_type": "stream",
          "name": "stdout",
          "text": [
            "+---------+---------+--------------------+--------------------+-------+---------+-------+--------------+--------------------+-----------+\n",
            "|   tconst|titleType|        primaryTitle|       originalTitle|isAdult|startYear|endYear|runtimeMinutes|              genres|      genre|\n",
            "+---------+---------+--------------------+--------------------+-------+---------+-------+--------------+--------------------+-----------+\n",
            "|tt0011801|    movie|    Tötet nicht mehr|    Tötet nicht mehr|      0|     2019|     \\N|            \\N|        Action,Crime|     Action|\n",
            "|tt0016906|    movie|          Frivolinas|          Frivolinas|      0|     2014|     \\N|            80|      Comedy,Musical|     Comedy|\n",
            "|tt0034413|    short|  Youth Gets a Break|  Youth Gets a Break|      0|     2001|     \\N|            20|               Short|      Short|\n",
            "|tt0035423|    movie|      Kate & Leopold|      Kate & Leopold|      0|     2001|     \\N|           118|Comedy,Fantasy,Ro...|     Comedy|\n",
            "|tt0056840|    short|            Aufsätze|            Aufsätze|      0|     2021|     \\N|            10|               Short|      Short|\n",
            "|tt0060366|    short|A Embalagem de Vidro|A Embalagem de Vidro|      0|     2020|     \\N|            11|   Documentary,Short|Documentary|\n",
            "|tt0065392|    movie|  Bucharest Memories|Amintiri bucurestene|      0|     2020|     \\N|            \\N|         Documentary|Documentary|\n",
            "|tt0067230|    short|  I Miss Sonia Henie|  I Miss Sonia Henie|      0|     2009|     \\N|            20|        Comedy,Short|     Comedy|\n",
            "|tt0068943|    short|Between Wroclaw a...|Miedzy Wroclawiem...|      0|     2010|     \\N|            11|   Documentary,Short|Documentary|\n",
            "|tt0069049|    movie|The Other Side of...|The Other Side of...|      0|     2018|     \\N|           122|               Drama|      Drama|\n",
            "|tt0079644|    movie|       November 1828|       November 1828|      0|     2001|     \\N|           140|           Drama,War|      Drama|\n",
            "|tt0083060|    movie|    The Drive to Win|              Sha Ou|      0|     2019|     \\N|            \\N|         Drama,Sport|      Drama|\n",
            "|tt0089067|    movie|El día de los alb...|El día de los alb...|      0|     2001|     \\N|            90|              Comedy|     Comedy|\n",
            "|tt0089435|    short|               Kokoa|               Kokoa|      0|     2019|     \\N|            13|     Animation,Short|  Animation|\n",
            "|tt0102362|    movie|              Istota|              Istota|      0|     2000|     \\N|            80|       Drama,Romance|      Drama|\n",
            "|tt0103902|  tvMovie|        Bye Bye Baby|        Bye Bye Baby|      0|     2001|     \\N|           100|              Comedy|     Comedy|\n",
            "|tt0108270|    short|    Symphony 92.4 FM|    Symphony 92.4 FM|      0|     2013|     \\N|            \\N|               Short|      Short|\n",
            "|tt0109173|    movie|    Auf allen Meeren|    Auf allen Meeren|      0|     2002|     \\N|            95|         Documentary|Documentary|\n",
            "|tt0110476|    movie|  Master i Margarita|  Master i Margarita|      0|     2006|     \\N|           125|       Drama,Fantasy|      Drama|\n",
            "|tt0111522|    video|Twister: A Musica...|Twister: A Musica...|      0|     2000|     \\N|           128|       Action,Comedy|     Action|\n",
            "+---------+---------+--------------------+--------------------+-------+---------+-------+--------------+--------------------+-----------+\n",
            "only showing top 20 rows\n",
            "\n"
          ]
        }
      ]
    },
    {
      "cell_type": "code",
      "source": [
        "(\n",
        "    df_titles_subset\n",
        "    .groupby('genre')\n",
        "    .count()\n",
        "    .orderBy(f.col('count').desc())\n",
        "    .show()\n",
        ")"
      ],
      "metadata": {
        "colab": {
          "base_uri": "https://localhost:8080/"
        },
        "id": "rw8RCCwT2xh1",
        "outputId": "0cd1103c-19fb-41dc-980e-d2af1f1cc445"
      },
      "execution_count": null,
      "outputs": [
        {
          "output_type": "stream",
          "name": "stdout",
          "text": [
            "+-----------+------+\n",
            "|      genre| count|\n",
            "+-----------+------+\n",
            "|     Comedy|482555|\n",
            "|      Drama|461226|\n",
            "|Documentary|242843|\n",
            "|         \\N|181985|\n",
            "|  Talk-Show|172340|\n",
            "|       News|169102|\n",
            "| Reality-TV|121897|\n",
            "|     Action|113694|\n",
            "|      Adult|110823|\n",
            "|  Animation| 87062|\n",
            "|      Music| 76238|\n",
            "|      Crime| 75333|\n",
            "|      Short| 72025|\n",
            "|  Adventure| 60493|\n",
            "|  Game-Show| 59597|\n",
            "|     Family| 59248|\n",
            "|      Sport| 39531|\n",
            "|  Biography| 30490|\n",
            "|     Horror| 30114|\n",
            "|    Romance| 28373|\n",
            "+-----------+------+\n",
            "only showing top 20 rows\n",
            "\n"
          ]
        }
      ]
    },
    {
      "cell_type": "code",
      "source": [
        "(\n",
        "    df_titles_subset\n",
        "    .groupby('genre')\n",
        "    .agg(f.mean('runtimeMinutes').alias('mean_runtimeMinutes'),)\n",
        "    .orderBy(f.col('mean_runtimeMinutes').desc())\n",
        "    .show()\n",
        ")"
      ],
      "metadata": {
        "colab": {
          "base_uri": "https://localhost:8080/"
        },
        "id": "m5vI1rG_3Nxt",
        "outputId": "3da549f6-7b8b-408e-f52d-47937db07c26"
      },
      "execution_count": null,
      "outputs": [
        {
          "output_type": "stream",
          "name": "stdout",
          "text": [
            "+-----------+-------------------+\n",
            "|      genre|mean_runtimeMinutes|\n",
            "+-----------+-------------------+\n",
            "|      Adult|  96.12180183189955|\n",
            "|        War|  88.08875739644971|\n",
            "|      Sport|   83.2083174360931|\n",
            "|   Thriller|  78.66688353936239|\n",
            "|    Western|  71.18300653594771|\n",
            "|       News|  55.07611959785873|\n",
            "|         \\N|  53.39527395481693|\n",
            "|      Crime| 50.117881045586564|\n",
            "|  Biography|  49.75553886594067|\n",
            "|  Talk-Show|  48.03969917396129|\n",
            "|  Game-Show|  47.85591766723842|\n",
            "|Documentary| 47.652738826369415|\n",
            "|    Romance| 45.681195516811954|\n",
            "|    Musical|  45.07896287566293|\n",
            "|     Action| 42.819091988672696|\n",
            "|    History| 41.640278381905176|\n",
            "|     Family|   40.8547451937748|\n",
            "|      Drama| 39.864539215753354|\n",
            "|    Mystery| 37.790748898678416|\n",
            "|  Adventure|  37.63279402379969|\n",
            "+-----------+-------------------+\n",
            "only showing top 20 rows\n",
            "\n"
          ]
        }
      ]
    },
    {
      "cell_type": "code",
      "source": [
        "(\n",
        "    df_titles_subset\n",
        "    .groupby('genre','startYear')\n",
        "    .agg(f.mean('runtimeMinutes').alias('mean_runtimeMinutes'),)\n",
        "    .orderBy('startYear',f.col('mean_runtimeMinutes').desc())\n",
        "    .show()\n",
        ")"
      ],
      "metadata": {
        "colab": {
          "base_uri": "https://localhost:8080/"
        },
        "id": "9LbKD00J30Qi",
        "outputId": "7cb6a05e-095c-4588-a2a9-e70b28857c40"
      },
      "execution_count": null,
      "outputs": [
        {
          "output_type": "stream",
          "name": "stdout",
          "text": [
            "+-----------+---------+-------------------+\n",
            "|      genre|startYear|mean_runtimeMinutes|\n",
            "+-----------+---------+-------------------+\n",
            "|        War|     2000|              125.0|\n",
            "|      Adult|     2000|  95.32581967213115|\n",
            "|    Western|     2000|               95.0|\n",
            "|   Thriller|     2000|  91.30434782608695|\n",
            "|      Sport|     2000|  89.66666666666667|\n",
            "|  Talk-Show|     2000|  81.04597701149426|\n",
            "|  Biography|     2000|  75.46231155778895|\n",
            "|  Adventure|     2000|  72.22198275862068|\n",
            "|     Horror|     2000|  66.46491228070175|\n",
            "|    History|     2000|  64.41176470588235|\n",
            "|      Crime|     2000|  63.43599257884972|\n",
            "|    Mystery|     2000|  62.92307692307692|\n",
            "|         \\N|     2000|  60.42767295597484|\n",
            "|       News|     2000|  56.22935779816514|\n",
            "|    Musical|     2000|  53.94285714285714|\n",
            "|      Drama|     2000|  52.42663656884876|\n",
            "|Documentary|     2000|  51.05493207324277|\n",
            "|     Comedy|     2000|  49.98434004474273|\n",
            "|    Romance|     2000|  49.34090909090909|\n",
            "|     Action|     2000|  47.56431852986218|\n",
            "+-----------+---------+-------------------+\n",
            "only showing top 20 rows\n",
            "\n"
          ]
        }
      ]
    },
    {
      "cell_type": "code",
      "source": [
        "(\n",
        "    df_titles_subset\n",
        "    .groupby('genre','startYear')\n",
        "    .agg(f.mean('runtimeMinutes').alias('mean_runtimeMinutes'),)\n",
        "    .orderBy(f.col('mean_runtimeMinutes').desc())\n",
        "    .filter('startYear = 2021')\n",
        "    .show()\n",
        ")"
      ],
      "metadata": {
        "colab": {
          "base_uri": "https://localhost:8080/"
        },
        "id": "bRNb8PPa4N6H",
        "outputId": "7d43bb53-7f75-4416-847d-a6139f105a32"
      },
      "execution_count": null,
      "outputs": [
        {
          "output_type": "stream",
          "name": "stdout",
          "text": [
            "+-----------+---------+-------------------+\n",
            "|      genre|startYear|mean_runtimeMinutes|\n",
            "+-----------+---------+-------------------+\n",
            "|      Sport|     2021| 112.94909090909091|\n",
            "|        War|     2021|               98.8|\n",
            "|   Thriller|     2021|  90.18131868131869|\n",
            "|    Western|     2021|               87.2|\n",
            "|  Biography|     2021|  73.21686746987952|\n",
            "|      Adult|     2021|  65.50697674418605|\n",
            "|         \\N|     2021| 62.910614525139664|\n",
            "|       News|     2021| 61.015263157894736|\n",
            "|  Game-Show|     2021| 55.456043956043956|\n",
            "|  Adventure|     2021|  54.11656441717791|\n",
            "|     Action|     2021|  51.58875219683655|\n",
            "|      Crime|     2021|   50.6560595802302|\n",
            "| Reality-TV|     2021|  50.26706827309237|\n",
            "|  Talk-Show|     2021| 47.535616438356165|\n",
            "|Documentary|     2021| 45.415835279133944|\n",
            "|    Romance|     2021|  44.22488038277512|\n",
            "|    Mystery|     2021| 41.809248554913296|\n",
            "|      Drama|     2021|  41.00237746891002|\n",
            "|     Family|     2021| 40.721461187214615|\n",
            "|    History|     2021| 40.489583333333336|\n",
            "+-----------+---------+-------------------+\n",
            "only showing top 20 rows\n",
            "\n"
          ]
        }
      ]
    },
    {
      "cell_type": "code",
      "source": [
        "(\n",
        "    df_titles_subset\n",
        "    .groupby('genre')\n",
        "    .agg(f.collect_list(f.col('titleType')).alias('title_type_list'))\n",
        "    .orderBy('genre')\n",
        "    .show()\n",
        ")"
      ],
      "metadata": {
        "colab": {
          "base_uri": "https://localhost:8080/"
        },
        "id": "xHf781mI42t2",
        "outputId": "1c4463e8-7133-4889-8aef-be929a159b98"
      },
      "execution_count": null,
      "outputs": [
        {
          "output_type": "stream",
          "name": "stdout",
          "text": [
            "+-----------+--------------------+\n",
            "|      genre|     title_type_list|\n",
            "+-----------+--------------------+\n",
            "|     Action|[movie, video, mo...|\n",
            "|      Adult|[video, video, vi...|\n",
            "|  Adventure|[tvMovie, movie, ...|\n",
            "|  Animation|[short, short, mo...|\n",
            "|  Biography|[movie, movie, mo...|\n",
            "|     Comedy|[movie, movie, sh...|\n",
            "|      Crime|[movie, movie, mo...|\n",
            "|Documentary|[short, movie, sh...|\n",
            "|      Drama|[movie, movie, mo...|\n",
            "|     Family|[movie, movie, tv...|\n",
            "|    Fantasy|[movie, movie, sh...|\n",
            "|  Game-Show|[tvSeries, tvSeri...|\n",
            "|    History|[tvMovie, tvEpiso...|\n",
            "|     Horror|[movie, movie, mo...|\n",
            "|      Music|[tvEpisode, tvSer...|\n",
            "|    Musical|[movie, movie, tv...|\n",
            "|    Mystery|[short, movie, mo...|\n",
            "|       News|[tvSeries, tvSeri...|\n",
            "| Reality-TV|[tvSpecial, tvSer...|\n",
            "|    Romance|[movie, movie, mo...|\n",
            "+-----------+--------------------+\n",
            "only showing top 20 rows\n",
            "\n"
          ]
        }
      ]
    },
    {
      "cell_type": "code",
      "source": [
        "(\n",
        "    df_titles_subset\n",
        "    .groupby('genre')\n",
        "    .agg(f.collect_list(f.col('titleType')).alias('title_type_list'),\n",
        "         f.count(f.lit(1)).alias('count')\n",
        "         )\n",
        "    .withColumn('n',f.size(f.col('title_type_list')))\n",
        "    .orderBy('genre')\n",
        "    .show()\n",
        ")"
      ],
      "metadata": {
        "colab": {
          "base_uri": "https://localhost:8080/"
        },
        "id": "ldIVyb9U5sjd",
        "outputId": "f52a273e-3793-4893-e16a-62d3d5147325"
      },
      "execution_count": null,
      "outputs": [
        {
          "output_type": "stream",
          "name": "stdout",
          "text": [
            "+-----------+--------------------+------+------+\n",
            "|      genre|     title_type_list| count|     n|\n",
            "+-----------+--------------------+------+------+\n",
            "|     Action|[movie, video, mo...|113694|113694|\n",
            "|      Adult|[video, video, vi...|110823|110823|\n",
            "|  Adventure|[tvMovie, movie, ...| 60493| 60493|\n",
            "|  Animation|[short, short, mo...| 87062| 87062|\n",
            "|  Biography|[movie, movie, mo...| 30490| 30490|\n",
            "|     Comedy|[movie, movie, sh...|482555|482555|\n",
            "|      Crime|[movie, movie, mo...| 75333| 75333|\n",
            "|Documentary|[short, movie, sh...|242843|242843|\n",
            "|      Drama|[movie, movie, mo...|461226|461226|\n",
            "|     Family|[movie, movie, tv...| 59248| 59248|\n",
            "|    Fantasy|[movie, movie, sh...| 14015| 14015|\n",
            "|  Game-Show|[tvSeries, tvSeri...| 59597| 59597|\n",
            "|    History|[tvMovie, tvEpiso...|  9620|  9620|\n",
            "|     Horror|[movie, movie, mo...| 30114| 30114|\n",
            "|      Music|[tvEpisode, tvSer...| 76238| 76238|\n",
            "|    Musical|[movie, movie, tv...|  5147|  5147|\n",
            "|    Mystery|[short, movie, mo...|  8759|  8759|\n",
            "|       News|[tvSeries, tvSeri...|169102|169102|\n",
            "| Reality-TV|[tvSpecial, tvSer...|121897|121897|\n",
            "|    Romance|[movie, movie, mo...| 28373| 28373|\n",
            "+-----------+--------------------+------+------+\n",
            "only showing top 20 rows\n",
            "\n"
          ]
        }
      ]
    },
    {
      "cell_type": "code",
      "source": [
        "(\n",
        "    df_titles_subset\n",
        "    .groupby('genre')\n",
        "    .agg(f.collect_set(f.col('titleType')).alias('title_type_list'),\n",
        "         f.countDistinct(f.col('titleType')).alias('n_distinct')\n",
        "         )\n",
        "    .withColumn('n',f.size(f.col('title_type_list')))\n",
        "    .orderBy('genre')\n",
        "    .show()\n",
        ")"
      ],
      "metadata": {
        "colab": {
          "base_uri": "https://localhost:8080/"
        },
        "id": "_6W2tMud6uTl",
        "outputId": "b8d3e74a-a851-4dcf-d8cc-2ee9fe0d7371"
      },
      "execution_count": null,
      "outputs": [
        {
          "output_type": "stream",
          "name": "stdout",
          "text": [
            "+-----------+--------------------+----------+---+\n",
            "|      genre|     title_type_list|n_distinct|  n|\n",
            "+-----------+--------------------+----------+---+\n",
            "|     Action|[tvSpecial, video...|        10| 10|\n",
            "|      Adult|[tvSpecial, video...|        10| 10|\n",
            "|  Adventure|[tvSpecial, video...|        10| 10|\n",
            "|  Animation|[tvSpecial, video...|        10| 10|\n",
            "|  Biography|[tvSpecial, video...|        10| 10|\n",
            "|     Comedy|[tvSpecial, video...|        10| 10|\n",
            "|      Crime|[tvSpecial, video...|        10| 10|\n",
            "|Documentary|[tvSpecial, video...|        10| 10|\n",
            "|      Drama|[tvSpecial, video...|        10| 10|\n",
            "|     Family|[tvSpecial, video...|        10| 10|\n",
            "|    Fantasy|[tvSpecial, video...|        10| 10|\n",
            "|  Game-Show|[tvSpecial, video...|        10| 10|\n",
            "|    History|[tvSpecial, video...|        10| 10|\n",
            "|     Horror|[tvSpecial, video...|        10| 10|\n",
            "|      Music|[tvSpecial, video...|        10| 10|\n",
            "|    Musical|[tvSpecial, video...|        10| 10|\n",
            "|    Mystery|[tvSpecial, video...|        10| 10|\n",
            "|       News|[tvSpecial, video...|        10| 10|\n",
            "| Reality-TV|[tvSpecial, video...|        10| 10|\n",
            "|    Romance|[tvSpecial, video...|        10| 10|\n",
            "+-----------+--------------------+----------+---+\n",
            "only showing top 20 rows\n",
            "\n"
          ]
        }
      ]
    },
    {
      "cell_type": "code",
      "source": [
        "(\n",
        "    df_titles_subset\n",
        "    .groupby('genre')\n",
        "    .agg(f.collect_list(f.col('titleType')).alias('title_type_list'),\n",
        "         f.count(f.lit(1)).alias('count')\n",
        "         )\n",
        "    .withColumn('tipos_filmes',f.explode(f.col('title_type_list')))\n",
        "    .select('genre','tipos_filmes')\n",
        "    .show()\n",
        ")"
      ],
      "metadata": {
        "colab": {
          "base_uri": "https://localhost:8080/"
        },
        "id": "GAxLhhKo7lit",
        "outputId": "479abab7-7e15-4ab1-f8d0-4b2088d3568a"
      },
      "execution_count": null,
      "outputs": [
        {
          "output_type": "stream",
          "name": "stdout",
          "text": [
            "+-----+------------+\n",
            "|genre|tipos_filmes|\n",
            "+-----+------------+\n",
            "|Crime|       movie|\n",
            "|Crime|       movie|\n",
            "|Crime|       movie|\n",
            "|Crime|       movie|\n",
            "|Crime|       movie|\n",
            "|Crime|       movie|\n",
            "|Crime|       movie|\n",
            "|Crime|       movie|\n",
            "|Crime|       movie|\n",
            "|Crime|       movie|\n",
            "|Crime|       movie|\n",
            "|Crime|       movie|\n",
            "|Crime|       movie|\n",
            "|Crime|tvMiniSeries|\n",
            "|Crime|       movie|\n",
            "|Crime|       movie|\n",
            "|Crime|   tvEpisode|\n",
            "|Crime|       movie|\n",
            "|Crime|       movie|\n",
            "|Crime|       movie|\n",
            "+-----+------------+\n",
            "only showing top 20 rows\n",
            "\n"
          ]
        }
      ]
    },
    {
      "cell_type": "markdown",
      "source": [
        "### **Pivotação**"
      ],
      "metadata": {
        "id": "ZbFb57rF7-XF"
      }
    },
    {
      "cell_type": "code",
      "source": [
        "(\n",
        "    df_titles_subset\n",
        "    .drop('genre')\n",
        "    .withColumn('genres',f.explode(f.split(f.col('genres'), ',')))\n",
        "    .groupby('tconst','primaryTitle')\n",
        "    .pivot('genres')\n",
        "    .count()\n",
        "    .na.fill(0)\n",
        "    .orderBy('tconst')\n",
        "    .show()\n",
        ")"
      ],
      "metadata": {
        "colab": {
          "base_uri": "https://localhost:8080/"
        },
        "id": "tSUVEGNO79Cu",
        "outputId": "92a5deff-d361-4b28-b6e7-21d35a402128"
      },
      "execution_count": null,
      "outputs": [
        {
          "output_type": "stream",
          "name": "stdout",
          "text": [
            "+---------+--------------------+------+-----+---------+---------+---------+------+-----+-----------+-----+------+-------+---------+-------+------+-----+-------+-------+----+----------+-------+------+-----+-----+---------+--------+---+-------+---+\n",
            "|   tconst|        primaryTitle|Action|Adult|Adventure|Animation|Biography|Comedy|Crime|Documentary|Drama|Family|Fantasy|Game-Show|History|Horror|Music|Musical|Mystery|News|Reality-TV|Romance|Sci-Fi|Short|Sport|Talk-Show|Thriller|War|Western| \\N|\n",
            "+---------+--------------------+------+-----+---------+---------+---------+------+-----+-----------+-----+------+-------+---------+-------+------+-----+-------+-------+----+----------+-------+------+-----+-----+---------+--------+---+-------+---+\n",
            "|tt0011801|    Tötet nicht mehr|     1|    0|        0|        0|        0|     0|    1|          0|    0|     0|      0|        0|      0|     0|    0|      0|      0|   0|         0|      0|     0|    0|    0|        0|       0|  0|      0|  0|\n",
            "|tt0016906|          Frivolinas|     0|    0|        0|        0|        0|     1|    0|          0|    0|     0|      0|        0|      0|     0|    0|      1|      0|   0|         0|      0|     0|    0|    0|        0|       0|  0|      0|  0|\n",
            "|tt0034413|  Youth Gets a Break|     0|    0|        0|        0|        0|     0|    0|          0|    0|     0|      0|        0|      0|     0|    0|      0|      0|   0|         0|      0|     0|    1|    0|        0|       0|  0|      0|  0|\n",
            "|tt0035423|      Kate & Leopold|     0|    0|        0|        0|        0|     1|    0|          0|    0|     0|      1|        0|      0|     0|    0|      0|      0|   0|         0|      1|     0|    0|    0|        0|       0|  0|      0|  0|\n",
            "|tt0056840|            Aufsätze|     0|    0|        0|        0|        0|     0|    0|          0|    0|     0|      0|        0|      0|     0|    0|      0|      0|   0|         0|      0|     0|    1|    0|        0|       0|  0|      0|  0|\n",
            "|tt0060366|A Embalagem de Vidro|     0|    0|        0|        0|        0|     0|    0|          1|    0|     0|      0|        0|      0|     0|    0|      0|      0|   0|         0|      0|     0|    1|    0|        0|       0|  0|      0|  0|\n",
            "|tt0065392|  Bucharest Memories|     0|    0|        0|        0|        0|     0|    0|          1|    0|     0|      0|        0|      0|     0|    0|      0|      0|   0|         0|      0|     0|    0|    0|        0|       0|  0|      0|  0|\n",
            "|tt0067230|  I Miss Sonia Henie|     0|    0|        0|        0|        0|     1|    0|          0|    0|     0|      0|        0|      0|     0|    0|      0|      0|   0|         0|      0|     0|    1|    0|        0|       0|  0|      0|  0|\n",
            "|tt0068943|Between Wroclaw a...|     0|    0|        0|        0|        0|     0|    0|          1|    0|     0|      0|        0|      0|     0|    0|      0|      0|   0|         0|      0|     0|    1|    0|        0|       0|  0|      0|  0|\n",
            "|tt0069049|The Other Side of...|     0|    0|        0|        0|        0|     0|    0|          0|    1|     0|      0|        0|      0|     0|    0|      0|      0|   0|         0|      0|     0|    0|    0|        0|       0|  0|      0|  0|\n",
            "|tt0079644|       November 1828|     0|    0|        0|        0|        0|     0|    0|          0|    1|     0|      0|        0|      0|     0|    0|      0|      0|   0|         0|      0|     0|    0|    0|        0|       0|  1|      0|  0|\n",
            "|tt0083060|    The Drive to Win|     0|    0|        0|        0|        0|     0|    0|          0|    1|     0|      0|        0|      0|     0|    0|      0|      0|   0|         0|      0|     0|    0|    1|        0|       0|  0|      0|  0|\n",
            "|tt0089067|El día de los alb...|     0|    0|        0|        0|        0|     1|    0|          0|    0|     0|      0|        0|      0|     0|    0|      0|      0|   0|         0|      0|     0|    0|    0|        0|       0|  0|      0|  0|\n",
            "|tt0089435|               Kokoa|     0|    0|        0|        1|        0|     0|    0|          0|    0|     0|      0|        0|      0|     0|    0|      0|      0|   0|         0|      0|     0|    1|    0|        0|       0|  0|      0|  0|\n",
            "|tt0102362|              Istota|     0|    0|        0|        0|        0|     0|    0|          0|    1|     0|      0|        0|      0|     0|    0|      0|      0|   0|         0|      1|     0|    0|    0|        0|       0|  0|      0|  0|\n",
            "|tt0103902|        Bye Bye Baby|     0|    0|        0|        0|        0|     1|    0|          0|    0|     0|      0|        0|      0|     0|    0|      0|      0|   0|         0|      0|     0|    0|    0|        0|       0|  0|      0|  0|\n",
            "|tt0108270|    Symphony 92.4 FM|     0|    0|        0|        0|        0|     0|    0|          0|    0|     0|      0|        0|      0|     0|    0|      0|      0|   0|         0|      0|     0|    1|    0|        0|       0|  0|      0|  0|\n",
            "|tt0109173|    Auf allen Meeren|     0|    0|        0|        0|        0|     0|    0|          1|    0|     0|      0|        0|      0|     0|    0|      0|      0|   0|         0|      0|     0|    0|    0|        0|       0|  0|      0|  0|\n",
            "|tt0110476|  Master i Margarita|     0|    0|        0|        0|        0|     0|    0|          0|    1|     0|      1|        0|      0|     0|    0|      0|      0|   0|         0|      0|     0|    0|    0|        0|       0|  0|      0|  0|\n",
            "|tt0111522|Twister: A Musica...|     1|    0|        0|        0|        0|     1|    0|          0|    0|     0|      0|        0|      0|     0|    0|      0|      0|   0|         0|      0|     0|    0|    0|        0|       0|  0|      0|  0|\n",
            "+---------+--------------------+------+-----+---------+---------+---------+------+-----+-----------+-----+------+-------+---------+-------+------+-----+-------+-------+----+----------+-------+------+-----+-----+---------+--------+---+-------+---+\n",
            "only showing top 20 rows\n",
            "\n"
          ]
        }
      ]
    },
    {
      "cell_type": "code",
      "source": [
        "(\n",
        "    df_titles_subset\n",
        "    .drop('genre')\n",
        "    .withColumn('genres',f.explode(f.split(f.col('genres'), ',')))\n",
        "    .groupby('startYear')\n",
        "    .pivot('genres')\n",
        "    .agg(f.mean('runtimeMinutes'))\n",
        "    .na.fill(0)\n",
        "    .orderBy('startYear')\n",
        "    .show()\n",
        ")"
      ],
      "metadata": {
        "colab": {
          "base_uri": "https://localhost:8080/"
        },
        "id": "3IXOz1Dz9YcU",
        "outputId": "633cf54a-f527-4024-ba29-73160276f5b4"
      },
      "execution_count": null,
      "outputs": [
        {
          "output_type": "stream",
          "name": "stdout",
          "text": [
            "+---------+------------------+------------------+------------------+------------------+------------------+------------------+------------------+------------------+------------------+------------------+------------------+------------------+------------------+------------------+------------------+------------------+------------------+------------------+------------------+------------------+------------------+------------------+------------------+------------------+------------------+------------------+------------------+------------------+\n",
            "|startYear|            Action|             Adult|         Adventure|         Animation|         Biography|            Comedy|             Crime|       Documentary|             Drama|            Family|           Fantasy|         Game-Show|           History|            Horror|             Music|           Musical|           Mystery|              News|        Reality-TV|           Romance|            Sci-Fi|             Short|             Sport|         Talk-Show|          Thriller|               War|           Western|                \\N|\n",
            "+---------+------------------+------------------+------------------+------------------+------------------+------------------+------------------+------------------+------------------+------------------+------------------+------------------+------------------+------------------+------------------+------------------+------------------+------------------+------------------+------------------+------------------+------------------+------------------+------------------+------------------+------------------+------------------+------------------+\n",
            "|     2000| 47.56431852986218| 95.24539877300613|47.130212765957445|23.172888015717092| 75.70388349514563| 45.21278285033743| 64.65555555555555|51.897896357106205| 54.63748787584869|39.711431742508324| 51.38964577656676| 33.41743119266055| 63.31182795698925| 63.96376811594203| 36.82005899705015| 78.85714285714286|56.139013452914796| 52.50898203592814| 43.75757575757576|53.590308370044056| 43.11926605504587|13.853157690817513| 82.76020408163265| 58.09871244635193| 79.03492063492064| 78.73584905660377| 48.31578947368421| 60.42767295597484|\n",
            "|     2001| 50.86633309506791| 97.65774907749078| 48.20413922859831|24.037735849056602| 74.26229508196721| 43.99894810659187| 65.08496732026144| 49.73016564952049| 57.21039260969977|38.800925925925924| 47.33615221987315| 39.72199170124481| 68.97905759162303| 65.29457364341086| 38.06491712707182| 62.28089887640449| 63.35698924731183| 50.34265734265734| 39.94011976047904|52.824635922330096| 40.40689655172414|13.418360433604336| 70.15384615384616|47.652830188679246| 79.29141104294479|  64.8695652173913|59.578947368421055| 69.38983050847457|\n",
            "|     2002| 50.90268456375839|100.04358759430008| 38.42675159235669|22.173820879703232| 75.85714285714286| 44.05555555555556|63.132768361581924| 52.28724721419728| 56.46031746031746|36.058387395736794|47.371848739495796| 47.48275862068966| 58.54716981132076| 58.75942028985507|43.520055325034576| 66.68539325842697| 60.43071161048689| 54.33757961783439| 43.61421319796954|57.758545454545455|  47.2007874015748|13.805539526832083|  77.1068376068376| 52.70610687022901| 75.00874635568513|             81.55| 69.66666666666667| 64.71171171171171|\n",
            "|     2003|48.970666666666666|101.37794773741237|38.922734026745914|22.628513030148184| 72.70466321243524| 43.49141824751581| 62.98070175438596| 50.32415394824154| 55.40759282436379| 38.85256950294861|46.055045871559635| 54.34756097560975| 69.60330578512396| 59.16624685138539|44.506524317912216|55.325581395348834| 59.00530035335689| 50.05555555555556| 45.15686274509804| 54.46341463414634| 39.63898916967509|13.753221957040573| 79.35555555555555|51.803212851405625| 71.00802139037434| 74.98947368421052| 49.68181818181818|63.546728971962615|\n",
            "|     2004| 49.77217496962333|106.23698481561821|38.634262406526176| 22.18815331010453| 66.19702602230483| 41.14465894465894| 60.50361010830325| 55.05976315064721|54.440127515441326|  35.7571189279732|39.886939571150094| 47.64768683274021| 69.34265734265735| 56.14502529510961| 52.34394250513347| 56.75539568345324|61.638532110091745|48.285714285714285| 44.04056795131846| 55.58713136729222| 39.92424242424242|13.577981651376147| 76.86754966887418| 53.49097472924188|  73.4895104895105| 77.43307086614173|              53.2| 69.57380952380953|\n",
            "|     2005| 47.94982290436836|106.94099051633299|34.610579987253026| 22.18673426277989|  65.6092715231788|40.513683753258036| 60.23328025477707| 51.99925742574258| 51.69315423207639| 34.80801687763713| 37.09180790960452| 50.52556818181818| 70.82456140350877| 56.38578680203046| 49.12101910828026|55.701388888888886| 57.45140664961637| 51.42857142857143| 42.85885167464115| 51.94493700419972|39.212471131639724|13.581642358909322| 68.51694915254237|51.656167979002625| 61.47879858657244| 61.80714285714286| 43.90909090909091| 68.91067538126362|\n",
            "|     2006| 43.64018422567646|106.05707762557077|33.539746543778804| 22.14780200761509|54.836322869955154| 38.59322995461422|57.383156297420335| 50.05578607653297| 50.83118067163045|31.701308139534884|   33.641158221303|            51.288| 52.58212058212058| 51.58937823834197|44.767263427109974|60.083333333333336|56.565320665083135| 47.21705426356589| 39.22586520947177| 53.07350689127106| 36.61394101876676| 13.17990758682367| 68.83941605839416| 51.34137931034483| 66.88025889967638| 57.73809523809524|33.785714285714285|60.554655870445345|\n",
            "|     2007| 44.81818181818182|107.76142433234422|35.785129174543165| 21.82930200414651|63.462006079027354|36.718023255813954| 54.42710340398202|49.321843769120946| 48.42570177697657| 33.18478260869565| 38.28754365541327|52.333333333333336|53.575221238938056| 48.19278606965174|43.446676970633696| 52.21145374449339| 52.91644908616188|42.501234567901236|36.932178932178935| 52.48411829134721| 36.19318181818182| 12.95075003318731| 71.32032854209446|          55.71875| 61.38160136286201|  65.2295918367347|42.189189189189186|      58.232421875|\n",
            "|     2008| 44.09891598915989|102.84128809660724| 35.99145299145299| 21.54824103099965|  60.6810551558753| 36.60996974040452|53.519369665134604| 49.91726618705036| 45.95730183965478| 34.97612437534703|36.373714285714286| 46.60151515151515| 61.56007067137809| 43.81837160751566|   39.697320782042| 49.88284518828452| 52.96341463414634|44.067460317460316|37.073689956331876|49.498824451410655|32.261343012704174| 12.94221685158739| 69.61290322580645| 55.56603773584906|57.757246376811594| 63.78666666666667|38.369565217391305|50.160982264665755|\n",
            "|     2009|42.217021276595744| 107.7126582278481| 35.97082494969819|20.102564102564102| 48.09257142857143| 33.76423267326733| 51.67607802874743| 47.92044537679522| 42.64154641011937| 32.08016304347826| 33.04955752212389| 48.69337979094077| 51.92631578947368| 43.80142970611597| 37.04119850187266| 46.26851851851852| 47.20521172638436|49.857971014492755|37.706039076376555| 46.22970479704797| 33.57184325108853|12.639780521262002| 60.27568493150685| 59.31823899371069| 54.56140350877193|58.219298245614034| 34.57446808510638|43.648681055155876|\n",
            "|     2010| 41.20616203879802|  94.1768131286395| 35.72913686218407| 18.64562182741117|41.569640062597806|31.100100435219282| 48.75656660412758|46.493014268727705|39.587196819085484| 37.38850415512465|27.380835380835382| 45.61993769470405|            47.545|34.671760797342195|31.064806480648066| 44.51470588235294|  40.6100068540096| 67.83906976744186| 37.11334622823985|43.541642567958355|28.338618346545868|12.093171158279672|  57.4822256568779| 70.17957166392092| 49.93490054249548| 54.13636363636363|35.206896551724135| 51.22397476340694|\n",
            "|     2011| 39.01800916830386|105.17991631799163|  32.2969881814716|18.400478898533372| 40.66197183098591|29.424715768660406|          46.51875| 45.97781363453005|38.889508246792914| 37.36363636363637|26.734265734265733| 43.77152899824253| 47.01232539030403|34.946316390633925|28.971784232365145| 45.19484240687679| 38.17650834403081| 59.72769089236431| 37.00763825236786|42.111111111111114| 26.50485436893204|11.769980784285815| 60.29421768707483| 71.13809910641754| 47.41506533435819| 53.83576642335766| 41.14942528735632|   63.743264659271|\n",
            "|     2012| 36.64648375906654|109.42044198895027|30.348530519969856| 18.71145804293281|  39.2906683480454|29.772544357051398| 45.77910685805423| 50.09954858636256| 36.88631534211645| 28.05768578215134|26.547351524879616|44.808306709265175| 47.38067772170152|34.630630630630634|26.071109456440805| 45.20855614973262|39.221243808475506|45.379464285714285| 34.64365041042974|40.111045828437135|26.523183925811438|11.631548974943053| 56.37310195227766|52.641333333333336|45.996392496392495|51.985781990521325| 35.41747572815534| 61.92093023255814|\n",
            "|     2013| 37.91367521367521|100.10174880763115| 32.19668246445497|17.326620689655172|41.263188073394495|29.336404402772114|46.715723707046166| 43.52634606534745| 37.56602175754023| 28.67677399187246|25.629411764705882| 47.64926590538336| 44.89158249158249|33.947926267281105|25.329198793161247| 45.68769716088328|38.193139841688655| 41.37886178861788| 36.73245146148923| 41.58044420368364| 26.55749636098981|11.469581636867883| 61.09542483660131| 48.70550724637681| 49.22267920094007| 41.13257575757576|36.077777777777776| 58.30596026490066|\n",
            "|     2014| 37.90323480200781|100.24776119402985| 31.59384309831182|17.447457627118645| 42.12106918238994|29.451463074779376| 43.77095310136157|43.215996435334745|37.249801841351136|28.521629302178717| 27.29342492639843|46.126801152737755| 44.88721804511278| 33.23060796645702|25.564224548049477|41.918088737201366| 39.07516505840528|44.840684068406844| 35.73224043715847| 41.50535586765056|24.202007528230865| 11.39915919902644| 70.26082365364309|54.555862831858406|  47.6435432230523|41.032085561497325|         38.734375| 48.97073170731707|\n",
            "|     2015| 39.52549575070822| 95.38268684957427|  34.8857938718663|18.280509554140128| 50.14591593973037| 30.67113129020053| 45.14544922446591|  44.3525903015575| 39.58384370406663| 28.31144836687562|30.883708467309752| 42.38773006134969| 48.90229885057471| 32.05983263598326|24.259283177268323| 41.48502994011976| 44.56786985256736|51.202650038971164| 35.88628966639544|45.006358087487286|26.665648854961834|11.359160657159897| 71.09742647058823| 49.78271707519734|46.855466666666665| 52.73360655737705| 37.82692307692308|43.600201409869086|\n",
            "|     2016|            40.124| 87.41032464076636| 33.56081708449396|17.353313041442284| 52.37323943661972|29.920368879455463| 46.26491646778043|42.999030799052335| 39.89566749711369|29.540331491712706|33.600187265917604| 40.89144434222631| 45.30421909696521|33.683970099667775| 22.55674580196873| 38.61661341853035|42.256736893679566| 55.54309063893017|36.663273453093815| 46.68367634620806| 29.10427226647357|11.117342273697044|63.278528528528525|  47.8065447545717| 45.51482213438735| 51.96911196911197| 39.69291338582677|48.090809628008756|\n",
            "|     2017| 42.67775881683732| 80.00897571277719| 36.85205479452055|19.202625298329355| 52.42259786476868|32.057235890014475|47.842261904761905| 43.71484128652512| 40.05695191909634|31.865760111576012|35.814008518693804|  46.6491849751949| 49.72029520295203|34.201101928374655|22.316908713692946|39.229551451187334| 41.41900237529691| 59.03103288559518| 37.63981792994261| 45.83816493104419|  30.3734693877551|11.035010399128454| 67.84347048300536| 50.79651474530831|             46.12|58.169724770642205|            39.144| 36.88759042849193|\n",
            "|     2018| 42.78442404501036| 76.83774338492262|34.896039603960396|18.555980617189494| 51.50870010235415| 32.75245502396103| 46.47213578500707| 44.17890449137099|40.308144879573454|31.242971044901385|             38.08| 44.18495077355837| 51.32526230831316|34.014877362283876|18.555445789083723|39.461300309597526| 43.58057514921324| 40.39688856729378| 38.43341176470588| 47.13008613008613|29.302097902097902|11.045041933892453| 72.27677806341046|48.233884768967485|47.176807760141095|56.666666666666664|         37.265625| 42.58647540983606|\n",
            "|     2019| 44.69972367209088| 77.44753261486103| 36.06437768240343|19.451822548742584|58.484276729559745| 33.51424207026687|  46.0890429218875| 46.36661928452973| 42.76839874296572| 32.85883565172591|36.937849162011176|49.708955223880594| 50.87570621468927|  33.5941722972973|16.531026785714285| 41.89568345323741| 45.64195056780227| 49.90541702493551| 42.40068674062335| 50.30308955807587|29.333333333333332|10.621342701871878| 69.36039603960396| 50.28200371057514| 49.16545643153527| 64.77714285714286| 42.58620689655172| 60.44497228820269|\n",
            "+---------+------------------+------------------+------------------+------------------+------------------+------------------+------------------+------------------+------------------+------------------+------------------+------------------+------------------+------------------+------------------+------------------+------------------+------------------+------------------+------------------+------------------+------------------+------------------+------------------+------------------+------------------+------------------+------------------+\n",
            "only showing top 20 rows\n",
            "\n"
          ]
        }
      ]
    },
    {
      "cell_type": "markdown",
      "source": [
        "# **Aula 4.2**- Manipulando dados com Spark - Parte II"
      ],
      "metadata": {
        "id": "X4fzQ-3k-yk-"
      }
    },
    {
      "cell_type": "markdown",
      "source": [
        "### **Window Functions**"
      ],
      "metadata": {
        "id": "b8MzrbhQ_Pnk"
      }
    },
    {
      "cell_type": "markdown",
      "source": [
        "Window functions são funções que realizam cálculos similares à uma agregação, mas que não resultam em um DataFrame agregado. Ao invés disso, os resultados são colocados em uma nova coluna, segundo a partição (ou agrupamento) especificado. Exemplos mais comuns:\n",
        "- `row_number`\n",
        "- `rank() / dense_rank() / percent_rank()`\n",
        "- `lag()`\n",
        "- `cume_dist()`\n",
        "- `collect_list() / collect_set()`\n",
        "\n",
        "Para usar as funções dessa forma, devemos criar uma janela (window) da \n",
        "seguinte forma:\n",
        "\n",
        "  `from pyspark.sql.window import window`\n",
        "\n",
        "  `w = windowm.partitionBy({columns}).orderBy({columns}).rowsBetween({lower},{upper})`\n",
        "  \n",
        "- `partitionBy()` : agrupamentos em que os cálculos serão realizados. É análogo\n",
        "ao `groupBy()`.\n",
        "- `orderBy()` : algumas funções como `row_number()` e `lag()` dependem da \n",
        "ordenação das linhas do agrupamento. Essa função é usada para especificar essa\n",
        "ordem. \n",
        "- `rowsBetween()` : esse método é usado para especificar janelas deslizantes. A partir dele é possível definir um intervalo de linhas, relativas à linha atual, \n",
        "em que a função vai ser aplicada. Caso isso não seja especificado, as operações\n",
        "são realizadas em todo o grupo. Muito útil para construir **médias móveis**. Os seguintes objetos ajudam na construção desse intervalo.\n",
        "- `Window.currentRow` : define a linha para qual o valre está sendo calculado como um dos limites de cálculo.\n",
        "- `Window.unboundedPreceding` : define que não há limites para as linhas anteriores à linhas para qual o valor está sendo calculado, isto é, a função irá considerar todas as linhas do grupo que já passaram. Deve ser usado no primeiro argumento (start). \n",
        "- `Window.unboundedFollowing` : define que não há limites para as linhas posteriores à linha para qual o valore está sendo calculado, isto é, a função irá considerar todas as linhas do grupo que ainda não passaram. Deve ser usado\n",
        "no segundo argumento (end). \n",
        "\n",
        "Depois disso, basta utilizar a função `over()` para indicar que aquela  função deve ser realizada na janela. Exemplo:\n",
        "\n",
        "  `df.withColumn('rn',f.row_number().over(w))`"
      ],
      "metadata": {
        "id": "NkoaTMcfCAPr"
      }
    },
    {
      "cell_type": "code",
      "source": [
        "from pyspark.sql.window import Window"
      ],
      "metadata": {
        "id": "vJbPlYiS_OqN"
      },
      "execution_count": null,
      "outputs": []
    },
    {
      "cell_type": "code",
      "source": [
        "df_titles.show(5)"
      ],
      "metadata": {
        "colab": {
          "base_uri": "https://localhost:8080/"
        },
        "id": "R0dYQKI--x5R",
        "outputId": "94a4efc0-6c07-4f76-9d67-a019f4b71ab1"
      },
      "execution_count": null,
      "outputs": [
        {
          "output_type": "stream",
          "name": "stdout",
          "text": [
            "+---------+---------+--------------------+--------------------+-------+---------+-------+--------------+--------------------+\n",
            "|   tconst|titleType|        primaryTitle|       originalTitle|isAdult|startYear|endYear|runtimeMinutes|              genres|\n",
            "+---------+---------+--------------------+--------------------+-------+---------+-------+--------------+--------------------+\n",
            "|tt0000001|    short|          Carmencita|          Carmencita|      0|     1894|     \\N|             1|   Documentary,Short|\n",
            "|tt0000002|    short|Le clown et ses c...|Le clown et ses c...|      0|     1892|     \\N|             5|     Animation,Short|\n",
            "|tt0000003|    short|      Pauvre Pierrot|      Pauvre Pierrot|      0|     1892|     \\N|             4|Animation,Comedy,...|\n",
            "|tt0000004|    short|         Un bon bock|         Un bon bock|      0|     1892|     \\N|            12|     Animation,Short|\n",
            "|tt0000005|    short|    Blacksmith Scene|    Blacksmith Scene|      0|     1893|     \\N|             1|        Comedy,Short|\n",
            "+---------+---------+--------------------+--------------------+-------+---------+-------+--------------+--------------------+\n",
            "only showing top 5 rows\n",
            "\n"
          ]
        }
      ]
    },
    {
      "cell_type": "code",
      "source": [
        "df_titles_subset = (\n",
        "    df_titles\n",
        "    .filter(\"cast(startYear as int) >= 2000\")\n",
        "    .sample(fraction = 0.5)\n",
        "    .withColumn('genre', f.split('genres',',').getItem(0))\n",
        ") "
      ],
      "metadata": {
        "id": "hJ55xtTGKa8F"
      },
      "execution_count": null,
      "outputs": []
    },
    {
      "cell_type": "code",
      "source": [
        "w = Window.partitionBy('genre').orderBy(f.desc('startYear'))\n",
        "\n",
        "(\n",
        "    df_titles_subset\n",
        "    .withColumn('genre',f.split('genres',',').getItem(0))\n",
        "    .withColumn('startYear', f.col('startYear').cast('int'))\n",
        "    .withColumn('rn', f.rank().over(w))\n",
        "    .filter('startYear <= 2021')\n",
        "    .show()\n",
        ")"
      ],
      "metadata": {
        "colab": {
          "base_uri": "https://localhost:8080/"
        },
        "id": "NAjD240KI9w-",
        "outputId": "195a81bd-c916-40d0-c836-3e9d5c2b56d9"
      },
      "execution_count": null,
      "outputs": [
        {
          "output_type": "stream",
          "name": "stdout",
          "text": [
            "+----------+---------+--------------------+--------------------+-------+---------+-------+--------------+--------------------+---------+---+\n",
            "|    tconst|titleType|        primaryTitle|       originalTitle|isAdult|startYear|endYear|runtimeMinutes|              genres|    genre| rn|\n",
            "+----------+---------+--------------------+--------------------+-------+---------+-------+--------------+--------------------+---------+---+\n",
            "|tt10075380|    movie| Realm of Terracotta| Realm of Terracotta|      0|     2021|     \\N|           111|Adventure,Animati...|Adventure|286|\n",
            "|tt10084832|    movie|               Nomad|               Nomad|      0|     2021|     \\N|            \\N|Adventure,Drama,R...|Adventure|286|\n",
            "|tt10108708|    movie|               Zinga|               Zinga|      0|     2021|     \\N|            \\N|Adventure,Fantasy...|Adventure|286|\n",
            "|tt10121862|tvEpisode|        Episode #1.1|        Episode #1.1|      0|     2021|     \\N|            \\N|    Adventure,Comedy|Adventure|286|\n",
            "|tt10155932|    movie|          Cinderella|          Cinderella|      0|     2021|     \\N|           113|Adventure,Comedy,...|Adventure|286|\n",
            "|tt10164206|    movie|The Maltese Conne...|The Maltese Conne...|      0|     2021|     \\N|            93|           Adventure|Adventure|286|\n",
            "|tt10247646|    movie|The Perfect Mistr...|The Perfect Mistr...|      0|     2021|     \\N|            \\N|Adventure,Drama,R...|Adventure|286|\n",
            "|tt10265034|    movie|                Land|                Land|      0|     2021|     \\N|            89|     Adventure,Drama|Adventure|286|\n",
            "|tt10270250|    movie| Dusty to Meet Rusty| Dusty to Meet Rusty|      0|     2021|     \\N|            \\N|     Adventure,Drama|Adventure|286|\n",
            "|tt10309118| tvSeries|            Birdgirl|            Birdgirl|      0|     2021|     \\N|            \\N|Adventure,Animati...|Adventure|286|\n",
            "|tt10345678|tvEpisode|           Chez Bash|           Chez Bash|      0|     2021|     \\N|            \\N|Adventure,Animati...|Adventure|286|\n",
            "|tt10345684|tvEpisode|    Learning to Lose|    Learning to Lose|      0|     2021|     \\N|            \\N|Adventure,Animati...|Adventure|286|\n",
            "|tt10345692|tvEpisode|           Hands Off|           Hands Off|      0|     2021|     \\N|            \\N|Adventure,Animati...|Adventure|286|\n",
            "|tt10345706|tvEpisode|        Gnasher Dash|        Gnasher Dash|      0|     2021|     \\N|            \\N|Adventure,Animati...|Adventure|286|\n",
            "|tt10345712|tvEpisode|            Monitors|            Monitors|      0|     2021|     \\N|            \\N|Adventure,Animati...|Adventure|286|\n",
            "|tt10345722|tvEpisode| Failing To Register| Failing To Register|      0|     2021|     \\N|            \\N|Adventure,Animati...|Adventure|286|\n",
            "|tt10345724|tvEpisode|      School Of Life|      School Of Life|      0|     2021|     \\N|            \\N|Adventure,Animati...|Adventure|286|\n",
            "|tt10345734|tvEpisode|          Puppy Love|          Puppy Love|      0|     2021|     \\N|            \\N|Adventure,Animati...|Adventure|286|\n",
            "|tt10345736|tvEpisode| Eventful Tentacales| Eventful Tentacales|      0|     2021|     \\N|            \\N|Adventure,Animati...|Adventure|286|\n",
            "|tt10345740|tvEpisode|       Growing Pains|       Growing Pains|      0|     2021|     \\N|            \\N|Adventure,Animati...|Adventure|286|\n",
            "+----------+---------+--------------------+--------------------+-------+---------+-------+--------------+--------------------+---------+---+\n",
            "only showing top 20 rows\n",
            "\n"
          ]
        }
      ]
    },
    {
      "cell_type": "code",
      "source": [
        "w = Window.partitionBy('genre').orderBy(f.desc('startYear'))\n",
        "\n",
        "(\n",
        "    df_titles_subset\n",
        "    .withColumn('genre',f.split('genres',',').getItem(0))\n",
        "    .withColumn('startYear', f.col('startYear').cast('int'))\n",
        "    .withColumn('rn', f.percent_rank().over(w))\n",
        "    .filter('startYear <= 2021')\n",
        "    .show()\n",
        ")"
      ],
      "metadata": {
        "colab": {
          "base_uri": "https://localhost:8080/"
        },
        "id": "CK5OQWo7RwWL",
        "outputId": "c1b296a2-0aae-4cd4-f629-9848cdf21240"
      },
      "execution_count": null,
      "outputs": [
        {
          "output_type": "stream",
          "name": "stdout",
          "text": [
            "+----------+---------+--------------------+--------------------+-------+---------+-------+--------------+--------------------+---------+--------------------+\n",
            "|    tconst|titleType|        primaryTitle|       originalTitle|isAdult|startYear|endYear|runtimeMinutes|              genres|    genre|                  rn|\n",
            "+----------+---------+--------------------+--------------------+-------+---------+-------+--------------+--------------------+---------+--------------------+\n",
            "|tt10075380|    movie| Realm of Terracotta| Realm of Terracotta|      0|     2021|     \\N|           111|Adventure,Animati...|Adventure|0.004708486841018355|\n",
            "|tt10084832|    movie|               Nomad|               Nomad|      0|     2021|     \\N|            \\N|Adventure,Drama,R...|Adventure|0.004708486841018355|\n",
            "|tt10108708|    movie|               Zinga|               Zinga|      0|     2021|     \\N|            \\N|Adventure,Fantasy...|Adventure|0.004708486841018355|\n",
            "|tt10121862|tvEpisode|        Episode #1.1|        Episode #1.1|      0|     2021|     \\N|            \\N|    Adventure,Comedy|Adventure|0.004708486841018355|\n",
            "|tt10155932|    movie|          Cinderella|          Cinderella|      0|     2021|     \\N|           113|Adventure,Comedy,...|Adventure|0.004708486841018355|\n",
            "|tt10164206|    movie|The Maltese Conne...|The Maltese Conne...|      0|     2021|     \\N|            93|           Adventure|Adventure|0.004708486841018355|\n",
            "|tt10247646|    movie|The Perfect Mistr...|The Perfect Mistr...|      0|     2021|     \\N|            \\N|Adventure,Drama,R...|Adventure|0.004708486841018355|\n",
            "|tt10265034|    movie|                Land|                Land|      0|     2021|     \\N|            89|     Adventure,Drama|Adventure|0.004708486841018355|\n",
            "|tt10270250|    movie| Dusty to Meet Rusty| Dusty to Meet Rusty|      0|     2021|     \\N|            \\N|     Adventure,Drama|Adventure|0.004708486841018355|\n",
            "|tt10309118| tvSeries|            Birdgirl|            Birdgirl|      0|     2021|     \\N|            \\N|Adventure,Animati...|Adventure|0.004708486841018355|\n",
            "|tt10345678|tvEpisode|           Chez Bash|           Chez Bash|      0|     2021|     \\N|            \\N|Adventure,Animati...|Adventure|0.004708486841018355|\n",
            "|tt10345684|tvEpisode|    Learning to Lose|    Learning to Lose|      0|     2021|     \\N|            \\N|Adventure,Animati...|Adventure|0.004708486841018355|\n",
            "|tt10345692|tvEpisode|           Hands Off|           Hands Off|      0|     2021|     \\N|            \\N|Adventure,Animati...|Adventure|0.004708486841018355|\n",
            "|tt10345706|tvEpisode|        Gnasher Dash|        Gnasher Dash|      0|     2021|     \\N|            \\N|Adventure,Animati...|Adventure|0.004708486841018355|\n",
            "|tt10345712|tvEpisode|            Monitors|            Monitors|      0|     2021|     \\N|            \\N|Adventure,Animati...|Adventure|0.004708486841018355|\n",
            "|tt10345722|tvEpisode| Failing To Register| Failing To Register|      0|     2021|     \\N|            \\N|Adventure,Animati...|Adventure|0.004708486841018355|\n",
            "|tt10345724|tvEpisode|      School Of Life|      School Of Life|      0|     2021|     \\N|            \\N|Adventure,Animati...|Adventure|0.004708486841018355|\n",
            "|tt10345734|tvEpisode|          Puppy Love|          Puppy Love|      0|     2021|     \\N|            \\N|Adventure,Animati...|Adventure|0.004708486841018355|\n",
            "|tt10345736|tvEpisode| Eventful Tentacales| Eventful Tentacales|      0|     2021|     \\N|            \\N|Adventure,Animati...|Adventure|0.004708486841018355|\n",
            "|tt10345740|tvEpisode|       Growing Pains|       Growing Pains|      0|     2021|     \\N|            \\N|Adventure,Animati...|Adventure|0.004708486841018355|\n",
            "+----------+---------+--------------------+--------------------+-------+---------+-------+--------------+--------------------+---------+--------------------+\n",
            "only showing top 20 rows\n",
            "\n"
          ]
        }
      ]
    },
    {
      "cell_type": "code",
      "source": [
        "w = Window.partitionBy('titleType','startYear').orderBy('titleType','startYear')\n",
        "\n",
        "(\n",
        "    df_titles_subset\n",
        "    .withColumn('genre',f.split('genres',',').getItem(0))\n",
        "    .withColumn('runtimeMinutes', f.col('runtimeMinutes').cast('int'))\n",
        "    .withColumn('total_minutes', f.sum(f.col('runtimeMinutes')).over(w))\n",
        "    .withColumn('mean_minutes', f.mean(f.col('runtimeMinutes')).over(w))\n",
        "    .withColumn('relative_minutes', f.col('runtimeMinutes') / f.col('total_minutes'))\n",
        "    .withColumn('lag_runtime', f.lag('runtimeMinutes').over(w))\n",
        "    .filter('runtimeMinutes is not null')\n",
        "    .show()\n",
        ")"
      ],
      "metadata": {
        "colab": {
          "base_uri": "https://localhost:8080/"
        },
        "id": "UbGmAFg6R3zk",
        "outputId": "b9700430-c52c-464d-d3e5-8b2f4bc5b653"
      },
      "execution_count": null,
      "outputs": [
        {
          "output_type": "stream",
          "name": "stdout",
          "text": [
            "+---------+---------+--------------------+--------------------+-------+---------+-------+--------------+--------------------+-----------+-------------+-----------------+--------------------+-----------+\n",
            "|   tconst|titleType|        primaryTitle|       originalTitle|isAdult|startYear|endYear|runtimeMinutes|              genres|      genre|total_minutes|     mean_minutes|    relative_minutes|lag_runtime|\n",
            "+---------+---------+--------------------+--------------------+-------+---------+-------+--------------+--------------------+-----------+-------------+-----------------+--------------------+-----------+\n",
            "|tt0015414|    movie|La tierra de los ...|La tierra de los ...|      0|     2000|     \\N|            60|                  \\N|         \\N|       173332|91.13144058885383|3.461565088962223E-4|       null|\n",
            "|tt0113026|    movie|     The Fantasticks|     The Fantasticks|      0|     2000|     \\N|            86|     Musical,Romance|    Musical|       173332|91.13144058885383|4.961576627512519E-4|       null|\n",
            "|tt0113092|    movie|       For the Cause|       For the Cause|      0|     2000|     \\N|           100|Action,Adventure,...|     Action|       173332|91.13144058885383|5.769275148270371E-4|       null|\n",
            "|tt0115937|    movie|         Consequence|         Consequence|      0|     2000|     \\N|            91|               Drama|      Drama|       173332|91.13144058885383|5.250040384926038E-4|        100|\n",
            "|tt0116391|    movie|                Gang|                Gang|      0|     2000|     \\N|           152|  Action,Crime,Drama|     Action|       173332|91.13144058885383|8.769298225370964E-4|         91|\n",
            "|tt0116628|    movie|    The Incorporated|    The Incorporated|      0|     2000|     \\N|            86|     Action,Thriller|     Action|       173332|91.13144058885383|4.961576627512519E-4|        152|\n",
            "|tt0119273|    movie|    Heavy Metal 2000|    Heavy Metal 2000|      0|     2000|     \\N|            88|Action,Adventure,...|     Action|       173332|91.13144058885383|5.076962130477927E-4|       null|\n",
            "|tt0119495|    movie|            Love 101|            Love 101|      0|     2000|     \\N|            86|Comedy,Drama,Romance|     Comedy|       173332|91.13144058885383|4.961576627512519E-4|         88|\n",
            "|tt0119806|    movie|      Nothing Sacred|      Nothing Sacred|      0|     2000|     \\N|            98|      Comedy,Romance|     Comedy|       173332|91.13144058885383|5.653889645304964E-4|         86|\n",
            "|tt0119866|    movie|       Passionnément|       Passionnément|      0|     2000|     \\N|           104|       Drama,Romance|      Drama|       173332|91.13144058885383|6.000046154201186E-4|         98|\n",
            "|tt0119966|    movie|Pushing the Envelope|Pushing the Envelope|      0|     2000|     \\N|            75|      Drama,Thriller|      Drama|       173332|91.13144058885383|4.326956361202778...|        104|\n",
            "|tt0120117|    movie|             Shikari|             Shikari|      0|     2000|     \\N|           160|Crime,Drama,Thriller|      Crime|       173332|91.13144058885383|9.230840237232594E-4|         75|\n",
            "|tt0120202|    movie|      State and Main|      State and Main|      0|     2000|     \\N|           105|        Comedy,Drama|     Comedy|       173332|91.13144058885383| 6.05773890568389E-4|        160|\n",
            "|tt0120454|    movie|               Vinyl|               Vinyl|      0|     2000|     \\N|           180|         Documentary|Documentary|       173332|91.13144058885383|0.001038469526688...|        105|\n",
            "|tt0120485|    movie|       Way Past Cool|       Way Past Cool|      0|     2000|     \\N|            96|               Drama|      Drama|       173332|91.13144058885383|5.538504142339557E-4|        180|\n",
            "|tt0120626|    movie|      April Captains|   Capitães de Abril|      0|     2000|     \\N|           123|   Drama,History,War|      Drama|       173332|91.13144058885383|7.096208432372556E-4|         96|\n",
            "|tt0120673|    movie|              Foiled|              Foiled|      0|     2000|     \\N|            78| Action,Drama,Sci-Fi|     Action|       173332|91.13144058885383| 4.50003461565089E-4|        123|\n",
            "|tt0120698|    movie|      The Highwayman|      The Highwayman|      0|     2000|     \\N|            94|Comedy,Drama,Thri...|     Comedy|       173332|91.13144058885383| 5.42311863937415E-4|         78|\n",
            "|tt0120755|    movie|Mission: Impossib...|Mission: Impossib...|      0|     2000|     \\N|           123|Action,Adventure,...|     Action|       173332|91.13144058885383|7.096208432372556E-4|       null|\n",
            "|tt0120917|    movie|The Emperor's New...|The Emperor's New...|      0|     2000|     \\N|            78|Adventure,Animati...|  Adventure|       173332|91.13144058885383| 4.50003461565089E-4|        123|\n",
            "+---------+---------+--------------------+--------------------+-------+---------+-------+--------------+--------------------+-----------+-------------+-----------------+--------------------+-----------+\n",
            "only showing top 20 rows\n",
            "\n"
          ]
        }
      ]
    },
    {
      "cell_type": "code",
      "source": [
        "w = Window.partitionBy('titleType').orderBy('startYear').rowsBetween(-2, Window.currentRow)\n",
        "(\n",
        "    df_titles_subset\n",
        "    .withColumn('runtimeMinutes', f.col('runtimeMinutes').cast('int'))\n",
        "    .groupby('titleType','startYear')\n",
        "    .agg(f.expr('mean(runtimeMinutes) as media_minutes'))\n",
        "    .orderBy('titleType','startYear')\n",
        "    .withColumn('media_movel_3anos', f.round(f.mean('media_minutes').over(w),3))\n",
        "    .show()\n",
        ")"
      ],
      "metadata": {
        "colab": {
          "base_uri": "https://localhost:8080/"
        },
        "id": "sZ2_7gDIWc90",
        "outputId": "01e488da-5112-4928-e5f1-2dfd7bdac850"
      },
      "execution_count": null,
      "outputs": [
        {
          "output_type": "stream",
          "name": "stdout",
          "text": [
            "+---------+---------+-----------------+-----------------+\n",
            "|titleType|startYear|    media_minutes|media_movel_3anos|\n",
            "+---------+---------+-----------------+-----------------+\n",
            "|    movie|     2000|91.13144058885383|           91.131|\n",
            "|    movie|     2001|90.35232168501676|           90.742|\n",
            "|    movie|     2002|91.40670289855072|           90.963|\n",
            "|    movie|     2003|90.03873684210527|           90.599|\n",
            "|    movie|     2004|89.91844369622147|           90.455|\n",
            "|    movie|     2005| 89.7909604519774|           89.916|\n",
            "|    movie|     2006|89.58861340679522|           89.766|\n",
            "|    movie|     2007|88.62984822934233|           89.336|\n",
            "|    movie|     2008|87.59727722772277|           88.605|\n",
            "|    movie|     2009|87.44955489614243|           87.892|\n",
            "|    movie|     2010|87.73045977011495|           87.592|\n",
            "|    movie|     2011|89.64911308203992|           88.276|\n",
            "|    movie|     2012|95.98164035689774|            91.12|\n",
            "|    movie|     2013|89.10375060886507|           91.578|\n",
            "|    movie|     2014|87.55792821444798|           90.881|\n",
            "|    movie|     2015|90.28223772073008|           88.981|\n",
            "|    movie|     2016|89.11153009427122|           88.984|\n",
            "|    movie|     2017|90.00211894335358|           89.799|\n",
            "|    movie|     2018|91.71185701830863|           90.275|\n",
            "|    movie|     2019|  97.217999126256|           92.977|\n",
            "+---------+---------+-----------------+-----------------+\n",
            "only showing top 20 rows\n",
            "\n"
          ]
        }
      ]
    },
    {
      "cell_type": "code",
      "source": [
        "a = (90.35232168501676 + 91.40670289855072 + 90.03873684210527)/3.\n",
        "a"
      ],
      "metadata": {
        "colab": {
          "base_uri": "https://localhost:8080/"
        },
        "id": "ce_zmu1VZb9d",
        "outputId": "d40c751a-9a94-4e79-ebcd-066e3dfdcbb0"
      },
      "execution_count": null,
      "outputs": [
        {
          "output_type": "execute_result",
          "data": {
            "text/plain": [
              "90.59925380855759"
            ]
          },
          "metadata": {},
          "execution_count": 208
        }
      ]
    },
    {
      "cell_type": "code",
      "source": [
        "# Aqui temos uma média incremental. Ela sempre pega todos os valores para trás. Diferente do \n",
        "# caso anterior. Que sempre pegava duas 3 para trás. \n",
        "w = Window.partitionBy('titleType').orderBy('startYear').rowsBetween(Window.unboundedPreceding, Window.currentRow)\n",
        "(\n",
        "    df_titles_subset\n",
        "    .withColumn('runtimeMinutes', f.col('runtimeMinutes').cast('int'))\n",
        "    .groupby('titleType','startYear')\n",
        "    .agg(f.expr('mean(runtimeMinutes) as media_minutes'))\n",
        "    .orderBy('titleType','startYear')\n",
        "    .withColumn('media_movel_3anos', f.round(f.mean('media_minutes').over(w),3))\n",
        "    .show()\n",
        ")"
      ],
      "metadata": {
        "colab": {
          "base_uri": "https://localhost:8080/"
        },
        "id": "B9zF1p-yc710",
        "outputId": "4f6156a7-1cbc-4e7b-e54b-60a60c2e97d4"
      },
      "execution_count": null,
      "outputs": [
        {
          "output_type": "stream",
          "name": "stdout",
          "text": [
            "+---------+---------+-----------------+-----------------+\n",
            "|titleType|startYear|    media_minutes|media_movel_3anos|\n",
            "+---------+---------+-----------------+-----------------+\n",
            "|    movie|     2000|91.13144058885383|           91.131|\n",
            "|    movie|     2001|90.35232168501676|           90.742|\n",
            "|    movie|     2002|91.40670289855072|           90.963|\n",
            "|    movie|     2003|90.03873684210527|           90.732|\n",
            "|    movie|     2004|89.91844369622147|            90.57|\n",
            "|    movie|     2005| 89.7909604519774|            90.44|\n",
            "|    movie|     2006|89.58861340679522|           90.318|\n",
            "|    movie|     2007|88.62984822934233|           90.107|\n",
            "|    movie|     2008|87.59727722772277|           89.828|\n",
            "|    movie|     2009|87.44955489614243|            89.59|\n",
            "|    movie|     2010|87.73045977011495|           89.421|\n",
            "|    movie|     2011|89.64911308203992|            89.44|\n",
            "|    movie|     2012|95.98164035689774|           89.943|\n",
            "|    movie|     2013|89.10375060886507|           89.883|\n",
            "|    movie|     2014|87.55792821444798|           89.728|\n",
            "|    movie|     2015|90.28223772073008|           89.763|\n",
            "|    movie|     2016|89.11153009427122|           89.725|\n",
            "|    movie|     2017|90.00211894335358|            89.74|\n",
            "|    movie|     2018|91.71185701830863|           89.844|\n",
            "|    movie|     2019|  97.217999126256|           90.213|\n",
            "+---------+---------+-----------------+-----------------+\n",
            "only showing top 20 rows\n",
            "\n"
          ]
        }
      ]
    },
    {
      "cell_type": "code",
      "source": [
        "(91.13144058885383 + 90.35232168501676 + 91.40670289855072 + 90.03873684210527+ 89.91844369622147)/5."
      ],
      "metadata": {
        "colab": {
          "base_uri": "https://localhost:8080/"
        },
        "id": "waD7DOY4d5pU",
        "outputId": "51ffc635-ff55-417b-a4f1-c11d4727a9ab"
      },
      "execution_count": null,
      "outputs": [
        {
          "output_type": "execute_result",
          "data": {
            "text/plain": [
              "90.5695291421496"
            ]
          },
          "metadata": {},
          "execution_count": 211
        }
      ]
    },
    {
      "cell_type": "code",
      "source": [
        "w = Window.partitionBy('titleType','startYear')\n",
        "(\n",
        "    df_titles_subset\n",
        "    .withColumn('lista_titulos', f.collect_set(f.col('tconst')).over(w))\n",
        "    .show()\n",
        ")"
      ],
      "metadata": {
        "colab": {
          "base_uri": "https://localhost:8080/"
        },
        "id": "vHEo8jNBeSIe",
        "outputId": "ed4ce92b-0f51-4bdc-8cca-eff7a6420280"
      },
      "execution_count": null,
      "outputs": [
        {
          "output_type": "stream",
          "name": "stdout",
          "text": [
            "+---------+---------+--------------------+--------------------+-------+---------+-------+--------------+--------------------+-----------+--------------------+\n",
            "|   tconst|titleType|        primaryTitle|       originalTitle|isAdult|startYear|endYear|runtimeMinutes|              genres|      genre|       lista_titulos|\n",
            "+---------+---------+--------------------+--------------------+-------+---------+-------+--------------+--------------------+-----------+--------------------+\n",
            "|tt0015414|    movie|La tierra de los ...|La tierra de los ...|      0|     2000|     \\N|            60|                  \\N|         \\N|[tt0238387, tt024...|\n",
            "|tt0107706|    movie|             Nothing|             Nothing|      0|     2000|     \\N|            \\N|                  \\N|         \\N|[tt0238387, tt024...|\n",
            "|tt0113026|    movie|     The Fantasticks|     The Fantasticks|      0|     2000|     \\N|            86|     Musical,Romance|    Musical|[tt0238387, tt024...|\n",
            "|tt0113086|    movie|Florentino y el d...|Florentino y el d...|      0|     2000|     \\N|            \\N|               Drama|      Drama|[tt0238387, tt024...|\n",
            "|tt0113092|    movie|       For the Cause|       For the Cause|      0|     2000|     \\N|           100|Action,Adventure,...|     Action|[tt0238387, tt024...|\n",
            "|tt0115937|    movie|         Consequence|         Consequence|      0|     2000|     \\N|            91|               Drama|      Drama|[tt0238387, tt024...|\n",
            "|tt0116391|    movie|                Gang|                Gang|      0|     2000|     \\N|           152|  Action,Crime,Drama|     Action|[tt0238387, tt024...|\n",
            "|tt0116628|    movie|    The Incorporated|    The Incorporated|      0|     2000|     \\N|            86|     Action,Thriller|     Action|[tt0238387, tt024...|\n",
            "|tt0116847|    movie|           Leftovers|           Leftovers|      0|     2000|     \\N|            \\N|                  \\N|         \\N|[tt0238387, tt024...|\n",
            "|tt0119273|    movie|    Heavy Metal 2000|    Heavy Metal 2000|      0|     2000|     \\N|            88|Action,Adventure,...|     Action|[tt0238387, tt024...|\n",
            "|tt0119495|    movie|            Love 101|            Love 101|      0|     2000|     \\N|            86|Comedy,Drama,Romance|     Comedy|[tt0238387, tt024...|\n",
            "|tt0119806|    movie|      Nothing Sacred|      Nothing Sacred|      0|     2000|     \\N|            98|      Comedy,Romance|     Comedy|[tt0238387, tt024...|\n",
            "|tt0119866|    movie|       Passionnément|       Passionnément|      0|     2000|     \\N|           104|       Drama,Romance|      Drama|[tt0238387, tt024...|\n",
            "|tt0119966|    movie|Pushing the Envelope|Pushing the Envelope|      0|     2000|     \\N|            75|      Drama,Thriller|      Drama|[tt0238387, tt024...|\n",
            "|tt0120117|    movie|             Shikari|             Shikari|      0|     2000|     \\N|           160|Crime,Drama,Thriller|      Crime|[tt0238387, tt024...|\n",
            "|tt0120202|    movie|      State and Main|      State and Main|      0|     2000|     \\N|           105|        Comedy,Drama|     Comedy|[tt0238387, tt024...|\n",
            "|tt0120454|    movie|               Vinyl|               Vinyl|      0|     2000|     \\N|           180|         Documentary|Documentary|[tt0238387, tt024...|\n",
            "|tt0120485|    movie|       Way Past Cool|       Way Past Cool|      0|     2000|     \\N|            96|               Drama|      Drama|[tt0238387, tt024...|\n",
            "|tt0120626|    movie|      April Captains|   Capitães de Abril|      0|     2000|     \\N|           123|   Drama,History,War|      Drama|[tt0238387, tt024...|\n",
            "|tt0120673|    movie|              Foiled|              Foiled|      0|     2000|     \\N|            78| Action,Drama,Sci-Fi|     Action|[tt0238387, tt024...|\n",
            "+---------+---------+--------------------+--------------------+-------+---------+-------+--------------+--------------------+-----------+--------------------+\n",
            "only showing top 20 rows\n",
            "\n"
          ]
        }
      ]
    },
    {
      "cell_type": "code",
      "source": [
        "#w = Window.partitionBy('titleType','startYear')\n",
        "#(\n",
        "#    df_titles_subset\n",
        "#    .withColumn('lista_titulos', f.collect_set(f.col('tconst')).over(w))\n",
        "#    .withColumn('titulos_distintos', f.size(f.col('lista_titulos')))\n",
        "#    .select('titleType','startYear','titulos_distintos')\n",
        "#    .orderBy(f.col('titulos_distintos').desc())\n",
        "#    .show()\n",
        "#)"
      ],
      "metadata": {
        "colab": {
          "base_uri": "https://localhost:8080/",
          "height": 536
        },
        "id": "9UA2TBuTfLZ7",
        "outputId": "3ced09ff-c4d7-4bde-ed34-aa12983243d8"
      },
      "execution_count": null,
      "outputs": [
        {
          "output_type": "stream",
          "name": "stderr",
          "text": [
            "ERROR:root:KeyboardInterrupt while sending command.\n",
            "Traceback (most recent call last):\n",
            "  File \"/usr/local/lib/python3.7/dist-packages/py4j/java_gateway.py\", line 1038, in send_command\n",
            "    response = connection.send_command(command)\n",
            "  File \"/usr/local/lib/python3.7/dist-packages/py4j/clientserver.py\", line 475, in send_command\n",
            "    answer = smart_decode(self.stream.readline()[:-1])\n",
            "  File \"/usr/lib/python3.7/socket.py\", line 589, in readinto\n",
            "    return self._sock.recv_into(b)\n",
            "KeyboardInterrupt\n"
          ]
        },
        {
          "output_type": "error",
          "ename": "KeyboardInterrupt",
          "evalue": "ignored",
          "traceback": [
            "\u001b[0;31m---------------------------------------------------------------------------\u001b[0m",
            "\u001b[0;31mKeyboardInterrupt\u001b[0m                         Traceback (most recent call last)",
            "\u001b[0;32m<ipython-input-215-de08083a23a9>\u001b[0m in \u001b[0;36m<module>\u001b[0;34m()\u001b[0m\n\u001b[1;32m      5\u001b[0m     \u001b[0;34m.\u001b[0m\u001b[0mwithColumn\u001b[0m\u001b[0;34m(\u001b[0m\u001b[0;34m'titulos_distintos'\u001b[0m\u001b[0;34m,\u001b[0m \u001b[0mf\u001b[0m\u001b[0;34m.\u001b[0m\u001b[0msize\u001b[0m\u001b[0;34m(\u001b[0m\u001b[0mf\u001b[0m\u001b[0;34m.\u001b[0m\u001b[0mcol\u001b[0m\u001b[0;34m(\u001b[0m\u001b[0;34m'lista_titulos'\u001b[0m\u001b[0;34m)\u001b[0m\u001b[0;34m)\u001b[0m\u001b[0;34m)\u001b[0m\u001b[0;34m\u001b[0m\u001b[0;34m\u001b[0m\u001b[0m\n\u001b[1;32m      6\u001b[0m     \u001b[0;34m.\u001b[0m\u001b[0mselect\u001b[0m\u001b[0;34m(\u001b[0m\u001b[0;34m'titleType'\u001b[0m\u001b[0;34m,\u001b[0m\u001b[0;34m'startYear'\u001b[0m\u001b[0;34m,\u001b[0m\u001b[0;34m'titulos_distintos'\u001b[0m\u001b[0;34m)\u001b[0m\u001b[0;34m\u001b[0m\u001b[0;34m\u001b[0m\u001b[0m\n\u001b[0;32m----> 7\u001b[0;31m     \u001b[0;34m.\u001b[0m\u001b[0morderBy\u001b[0m\u001b[0;34m(\u001b[0m\u001b[0mf\u001b[0m\u001b[0;34m.\u001b[0m\u001b[0mcol\u001b[0m\u001b[0;34m(\u001b[0m\u001b[0;34m'titulos_distintos'\u001b[0m\u001b[0;34m)\u001b[0m\u001b[0;34m.\u001b[0m\u001b[0mdesc\u001b[0m\u001b[0;34m(\u001b[0m\u001b[0;34m)\u001b[0m\u001b[0;34m)\u001b[0m\u001b[0;34m\u001b[0m\u001b[0;34m\u001b[0m\u001b[0m\n\u001b[0m\u001b[1;32m      8\u001b[0m     \u001b[0;34m.\u001b[0m\u001b[0mshow\u001b[0m\u001b[0;34m(\u001b[0m\u001b[0;34m)\u001b[0m\u001b[0;34m\u001b[0m\u001b[0;34m\u001b[0m\u001b[0m\n\u001b[1;32m      9\u001b[0m )\n",
            "\u001b[0;32m/usr/local/lib/python3.7/dist-packages/pyspark/sql/dataframe.py\u001b[0m in \u001b[0;36mshow\u001b[0;34m(self, n, truncate, vertical)\u001b[0m\n\u001b[1;32m    492\u001b[0m \u001b[0;34m\u001b[0m\u001b[0m\n\u001b[1;32m    493\u001b[0m         \u001b[0;32mif\u001b[0m \u001b[0misinstance\u001b[0m\u001b[0;34m(\u001b[0m\u001b[0mtruncate\u001b[0m\u001b[0;34m,\u001b[0m \u001b[0mbool\u001b[0m\u001b[0;34m)\u001b[0m \u001b[0;32mand\u001b[0m \u001b[0mtruncate\u001b[0m\u001b[0;34m:\u001b[0m\u001b[0;34m\u001b[0m\u001b[0;34m\u001b[0m\u001b[0m\n\u001b[0;32m--> 494\u001b[0;31m             \u001b[0mprint\u001b[0m\u001b[0;34m(\u001b[0m\u001b[0mself\u001b[0m\u001b[0;34m.\u001b[0m\u001b[0m_jdf\u001b[0m\u001b[0;34m.\u001b[0m\u001b[0mshowString\u001b[0m\u001b[0;34m(\u001b[0m\u001b[0mn\u001b[0m\u001b[0;34m,\u001b[0m \u001b[0;36m20\u001b[0m\u001b[0;34m,\u001b[0m \u001b[0mvertical\u001b[0m\u001b[0;34m)\u001b[0m\u001b[0;34m)\u001b[0m\u001b[0;34m\u001b[0m\u001b[0;34m\u001b[0m\u001b[0m\n\u001b[0m\u001b[1;32m    495\u001b[0m         \u001b[0;32melse\u001b[0m\u001b[0;34m:\u001b[0m\u001b[0;34m\u001b[0m\u001b[0;34m\u001b[0m\u001b[0m\n\u001b[1;32m    496\u001b[0m             \u001b[0;32mtry\u001b[0m\u001b[0;34m:\u001b[0m\u001b[0;34m\u001b[0m\u001b[0;34m\u001b[0m\u001b[0m\n",
            "\u001b[0;32m/usr/local/lib/python3.7/dist-packages/py4j/java_gateway.py\u001b[0m in \u001b[0;36m__call__\u001b[0;34m(self, *args)\u001b[0m\n\u001b[1;32m   1318\u001b[0m             \u001b[0mproto\u001b[0m\u001b[0;34m.\u001b[0m\u001b[0mEND_COMMAND_PART\u001b[0m\u001b[0;34m\u001b[0m\u001b[0;34m\u001b[0m\u001b[0m\n\u001b[1;32m   1319\u001b[0m \u001b[0;34m\u001b[0m\u001b[0m\n\u001b[0;32m-> 1320\u001b[0;31m         \u001b[0manswer\u001b[0m \u001b[0;34m=\u001b[0m \u001b[0mself\u001b[0m\u001b[0;34m.\u001b[0m\u001b[0mgateway_client\u001b[0m\u001b[0;34m.\u001b[0m\u001b[0msend_command\u001b[0m\u001b[0;34m(\u001b[0m\u001b[0mcommand\u001b[0m\u001b[0;34m)\u001b[0m\u001b[0;34m\u001b[0m\u001b[0;34m\u001b[0m\u001b[0m\n\u001b[0m\u001b[1;32m   1321\u001b[0m         return_value = get_return_value(\n\u001b[1;32m   1322\u001b[0m             answer, self.gateway_client, self.target_id, self.name)\n",
            "\u001b[0;32m/usr/local/lib/python3.7/dist-packages/py4j/java_gateway.py\u001b[0m in \u001b[0;36msend_command\u001b[0;34m(self, command, retry, binary)\u001b[0m\n\u001b[1;32m   1036\u001b[0m         \u001b[0mconnection\u001b[0m \u001b[0;34m=\u001b[0m \u001b[0mself\u001b[0m\u001b[0;34m.\u001b[0m\u001b[0m_get_connection\u001b[0m\u001b[0;34m(\u001b[0m\u001b[0;34m)\u001b[0m\u001b[0;34m\u001b[0m\u001b[0;34m\u001b[0m\u001b[0m\n\u001b[1;32m   1037\u001b[0m         \u001b[0;32mtry\u001b[0m\u001b[0;34m:\u001b[0m\u001b[0;34m\u001b[0m\u001b[0;34m\u001b[0m\u001b[0m\n\u001b[0;32m-> 1038\u001b[0;31m             \u001b[0mresponse\u001b[0m \u001b[0;34m=\u001b[0m \u001b[0mconnection\u001b[0m\u001b[0;34m.\u001b[0m\u001b[0msend_command\u001b[0m\u001b[0;34m(\u001b[0m\u001b[0mcommand\u001b[0m\u001b[0;34m)\u001b[0m\u001b[0;34m\u001b[0m\u001b[0;34m\u001b[0m\u001b[0m\n\u001b[0m\u001b[1;32m   1039\u001b[0m             \u001b[0;32mif\u001b[0m \u001b[0mbinary\u001b[0m\u001b[0;34m:\u001b[0m\u001b[0;34m\u001b[0m\u001b[0;34m\u001b[0m\u001b[0m\n\u001b[1;32m   1040\u001b[0m                 \u001b[0;32mreturn\u001b[0m \u001b[0mresponse\u001b[0m\u001b[0;34m,\u001b[0m \u001b[0mself\u001b[0m\u001b[0;34m.\u001b[0m\u001b[0m_create_connection_guard\u001b[0m\u001b[0;34m(\u001b[0m\u001b[0mconnection\u001b[0m\u001b[0;34m)\u001b[0m\u001b[0;34m\u001b[0m\u001b[0;34m\u001b[0m\u001b[0m\n",
            "\u001b[0;32m/usr/local/lib/python3.7/dist-packages/py4j/clientserver.py\u001b[0m in \u001b[0;36msend_command\u001b[0;34m(self, command)\u001b[0m\n\u001b[1;32m    473\u001b[0m         \u001b[0;32mtry\u001b[0m\u001b[0;34m:\u001b[0m\u001b[0;34m\u001b[0m\u001b[0;34m\u001b[0m\u001b[0m\n\u001b[1;32m    474\u001b[0m             \u001b[0;32mwhile\u001b[0m \u001b[0;32mTrue\u001b[0m\u001b[0;34m:\u001b[0m\u001b[0;34m\u001b[0m\u001b[0;34m\u001b[0m\u001b[0m\n\u001b[0;32m--> 475\u001b[0;31m                 \u001b[0manswer\u001b[0m \u001b[0;34m=\u001b[0m \u001b[0msmart_decode\u001b[0m\u001b[0;34m(\u001b[0m\u001b[0mself\u001b[0m\u001b[0;34m.\u001b[0m\u001b[0mstream\u001b[0m\u001b[0;34m.\u001b[0m\u001b[0mreadline\u001b[0m\u001b[0;34m(\u001b[0m\u001b[0;34m)\u001b[0m\u001b[0;34m[\u001b[0m\u001b[0;34m:\u001b[0m\u001b[0;34m-\u001b[0m\u001b[0;36m1\u001b[0m\u001b[0;34m]\u001b[0m\u001b[0;34m)\u001b[0m\u001b[0;34m\u001b[0m\u001b[0;34m\u001b[0m\u001b[0m\n\u001b[0m\u001b[1;32m    476\u001b[0m                 \u001b[0mlogger\u001b[0m\u001b[0;34m.\u001b[0m\u001b[0mdebug\u001b[0m\u001b[0;34m(\u001b[0m\u001b[0;34m\"Answer received: {0}\"\u001b[0m\u001b[0;34m.\u001b[0m\u001b[0mformat\u001b[0m\u001b[0;34m(\u001b[0m\u001b[0manswer\u001b[0m\u001b[0;34m)\u001b[0m\u001b[0;34m)\u001b[0m\u001b[0;34m\u001b[0m\u001b[0;34m\u001b[0m\u001b[0m\n\u001b[1;32m    477\u001b[0m                 \u001b[0;31m# Happens when a the other end is dead. There might be an empty\u001b[0m\u001b[0;34m\u001b[0m\u001b[0;34m\u001b[0m\u001b[0;34m\u001b[0m\u001b[0m\n",
            "\u001b[0;32m/usr/lib/python3.7/socket.py\u001b[0m in \u001b[0;36mreadinto\u001b[0;34m(self, b)\u001b[0m\n\u001b[1;32m    587\u001b[0m         \u001b[0;32mwhile\u001b[0m \u001b[0;32mTrue\u001b[0m\u001b[0;34m:\u001b[0m\u001b[0;34m\u001b[0m\u001b[0;34m\u001b[0m\u001b[0m\n\u001b[1;32m    588\u001b[0m             \u001b[0;32mtry\u001b[0m\u001b[0;34m:\u001b[0m\u001b[0;34m\u001b[0m\u001b[0;34m\u001b[0m\u001b[0m\n\u001b[0;32m--> 589\u001b[0;31m                 \u001b[0;32mreturn\u001b[0m \u001b[0mself\u001b[0m\u001b[0;34m.\u001b[0m\u001b[0m_sock\u001b[0m\u001b[0;34m.\u001b[0m\u001b[0mrecv_into\u001b[0m\u001b[0;34m(\u001b[0m\u001b[0mb\u001b[0m\u001b[0;34m)\u001b[0m\u001b[0;34m\u001b[0m\u001b[0;34m\u001b[0m\u001b[0m\n\u001b[0m\u001b[1;32m    590\u001b[0m             \u001b[0;32mexcept\u001b[0m \u001b[0mtimeout\u001b[0m\u001b[0;34m:\u001b[0m\u001b[0;34m\u001b[0m\u001b[0;34m\u001b[0m\u001b[0m\n\u001b[1;32m    591\u001b[0m                 \u001b[0mself\u001b[0m\u001b[0;34m.\u001b[0m\u001b[0m_timeout_occurred\u001b[0m \u001b[0;34m=\u001b[0m \u001b[0;32mTrue\u001b[0m\u001b[0;34m\u001b[0m\u001b[0;34m\u001b[0m\u001b[0m\n",
            "\u001b[0;31mKeyboardInterrupt\u001b[0m: "
          ]
        }
      ]
    },
    {
      "cell_type": "code",
      "source": [
        "#(\n",
        "#    df_titles_subset\n",
        "#    .groupby('titleType','startYear')\n",
        "#    .agg(f.countDistinct(f.col('tconst')).alias('titulos_distintos'))\n",
        "#    .orderBy(f.col('titulos_distintos').desc())\n",
        "#    .show()\n",
        "#)"
      ],
      "metadata": {
        "colab": {
          "base_uri": "https://localhost:8080/",
          "height": 536
        },
        "id": "iCe7_ncRhQ-5",
        "outputId": "9c3ecbad-4230-4039-ee35-64b0503efe33"
      },
      "execution_count": null,
      "outputs": [
        {
          "output_type": "stream",
          "name": "stderr",
          "text": [
            "ERROR:root:KeyboardInterrupt while sending command.\n",
            "Traceback (most recent call last):\n",
            "  File \"/usr/local/lib/python3.7/dist-packages/py4j/java_gateway.py\", line 1038, in send_command\n",
            "    response = connection.send_command(command)\n",
            "  File \"/usr/local/lib/python3.7/dist-packages/py4j/clientserver.py\", line 475, in send_command\n",
            "    answer = smart_decode(self.stream.readline()[:-1])\n",
            "  File \"/usr/lib/python3.7/socket.py\", line 589, in readinto\n",
            "    return self._sock.recv_into(b)\n",
            "KeyboardInterrupt\n"
          ]
        },
        {
          "output_type": "error",
          "ename": "KeyboardInterrupt",
          "evalue": "ignored",
          "traceback": [
            "\u001b[0;31m---------------------------------------------------------------------------\u001b[0m",
            "\u001b[0;31mKeyboardInterrupt\u001b[0m                         Traceback (most recent call last)",
            "\u001b[0;32m<ipython-input-219-5cec9976b2e8>\u001b[0m in \u001b[0;36m<module>\u001b[0;34m()\u001b[0m\n\u001b[1;32m      3\u001b[0m     \u001b[0;34m.\u001b[0m\u001b[0mgroupby\u001b[0m\u001b[0;34m(\u001b[0m\u001b[0;34m'titleType'\u001b[0m\u001b[0;34m,\u001b[0m\u001b[0;34m'startYear'\u001b[0m\u001b[0;34m)\u001b[0m\u001b[0;34m\u001b[0m\u001b[0;34m\u001b[0m\u001b[0m\n\u001b[1;32m      4\u001b[0m     \u001b[0;34m.\u001b[0m\u001b[0magg\u001b[0m\u001b[0;34m(\u001b[0m\u001b[0mf\u001b[0m\u001b[0;34m.\u001b[0m\u001b[0mcountDistinct\u001b[0m\u001b[0;34m(\u001b[0m\u001b[0mf\u001b[0m\u001b[0;34m.\u001b[0m\u001b[0mcol\u001b[0m\u001b[0;34m(\u001b[0m\u001b[0;34m'tconst'\u001b[0m\u001b[0;34m)\u001b[0m\u001b[0;34m)\u001b[0m\u001b[0;34m.\u001b[0m\u001b[0malias\u001b[0m\u001b[0;34m(\u001b[0m\u001b[0;34m'titulos_distintos'\u001b[0m\u001b[0;34m)\u001b[0m\u001b[0;34m)\u001b[0m\u001b[0;34m\u001b[0m\u001b[0;34m\u001b[0m\u001b[0m\n\u001b[0;32m----> 5\u001b[0;31m     \u001b[0;34m.\u001b[0m\u001b[0morderBy\u001b[0m\u001b[0;34m(\u001b[0m\u001b[0mf\u001b[0m\u001b[0;34m.\u001b[0m\u001b[0mcol\u001b[0m\u001b[0;34m(\u001b[0m\u001b[0;34m'titulos_distintos'\u001b[0m\u001b[0;34m)\u001b[0m\u001b[0;34m.\u001b[0m\u001b[0mdesc\u001b[0m\u001b[0;34m(\u001b[0m\u001b[0;34m)\u001b[0m\u001b[0;34m)\u001b[0m\u001b[0;34m\u001b[0m\u001b[0;34m\u001b[0m\u001b[0m\n\u001b[0m\u001b[1;32m      6\u001b[0m     \u001b[0;34m.\u001b[0m\u001b[0mshow\u001b[0m\u001b[0;34m(\u001b[0m\u001b[0;34m)\u001b[0m\u001b[0;34m\u001b[0m\u001b[0;34m\u001b[0m\u001b[0m\n\u001b[1;32m      7\u001b[0m )\n",
            "\u001b[0;32m/usr/local/lib/python3.7/dist-packages/pyspark/sql/dataframe.py\u001b[0m in \u001b[0;36mshow\u001b[0;34m(self, n, truncate, vertical)\u001b[0m\n\u001b[1;32m    492\u001b[0m \u001b[0;34m\u001b[0m\u001b[0m\n\u001b[1;32m    493\u001b[0m         \u001b[0;32mif\u001b[0m \u001b[0misinstance\u001b[0m\u001b[0;34m(\u001b[0m\u001b[0mtruncate\u001b[0m\u001b[0;34m,\u001b[0m \u001b[0mbool\u001b[0m\u001b[0;34m)\u001b[0m \u001b[0;32mand\u001b[0m \u001b[0mtruncate\u001b[0m\u001b[0;34m:\u001b[0m\u001b[0;34m\u001b[0m\u001b[0;34m\u001b[0m\u001b[0m\n\u001b[0;32m--> 494\u001b[0;31m             \u001b[0mprint\u001b[0m\u001b[0;34m(\u001b[0m\u001b[0mself\u001b[0m\u001b[0;34m.\u001b[0m\u001b[0m_jdf\u001b[0m\u001b[0;34m.\u001b[0m\u001b[0mshowString\u001b[0m\u001b[0;34m(\u001b[0m\u001b[0mn\u001b[0m\u001b[0;34m,\u001b[0m \u001b[0;36m20\u001b[0m\u001b[0;34m,\u001b[0m \u001b[0mvertical\u001b[0m\u001b[0;34m)\u001b[0m\u001b[0;34m)\u001b[0m\u001b[0;34m\u001b[0m\u001b[0;34m\u001b[0m\u001b[0m\n\u001b[0m\u001b[1;32m    495\u001b[0m         \u001b[0;32melse\u001b[0m\u001b[0;34m:\u001b[0m\u001b[0;34m\u001b[0m\u001b[0;34m\u001b[0m\u001b[0m\n\u001b[1;32m    496\u001b[0m             \u001b[0;32mtry\u001b[0m\u001b[0;34m:\u001b[0m\u001b[0;34m\u001b[0m\u001b[0;34m\u001b[0m\u001b[0m\n",
            "\u001b[0;32m/usr/local/lib/python3.7/dist-packages/py4j/java_gateway.py\u001b[0m in \u001b[0;36m__call__\u001b[0;34m(self, *args)\u001b[0m\n\u001b[1;32m   1318\u001b[0m             \u001b[0mproto\u001b[0m\u001b[0;34m.\u001b[0m\u001b[0mEND_COMMAND_PART\u001b[0m\u001b[0;34m\u001b[0m\u001b[0;34m\u001b[0m\u001b[0m\n\u001b[1;32m   1319\u001b[0m \u001b[0;34m\u001b[0m\u001b[0m\n\u001b[0;32m-> 1320\u001b[0;31m         \u001b[0manswer\u001b[0m \u001b[0;34m=\u001b[0m \u001b[0mself\u001b[0m\u001b[0;34m.\u001b[0m\u001b[0mgateway_client\u001b[0m\u001b[0;34m.\u001b[0m\u001b[0msend_command\u001b[0m\u001b[0;34m(\u001b[0m\u001b[0mcommand\u001b[0m\u001b[0;34m)\u001b[0m\u001b[0;34m\u001b[0m\u001b[0;34m\u001b[0m\u001b[0m\n\u001b[0m\u001b[1;32m   1321\u001b[0m         return_value = get_return_value(\n\u001b[1;32m   1322\u001b[0m             answer, self.gateway_client, self.target_id, self.name)\n",
            "\u001b[0;32m/usr/local/lib/python3.7/dist-packages/py4j/java_gateway.py\u001b[0m in \u001b[0;36msend_command\u001b[0;34m(self, command, retry, binary)\u001b[0m\n\u001b[1;32m   1036\u001b[0m         \u001b[0mconnection\u001b[0m \u001b[0;34m=\u001b[0m \u001b[0mself\u001b[0m\u001b[0;34m.\u001b[0m\u001b[0m_get_connection\u001b[0m\u001b[0;34m(\u001b[0m\u001b[0;34m)\u001b[0m\u001b[0;34m\u001b[0m\u001b[0;34m\u001b[0m\u001b[0m\n\u001b[1;32m   1037\u001b[0m         \u001b[0;32mtry\u001b[0m\u001b[0;34m:\u001b[0m\u001b[0;34m\u001b[0m\u001b[0;34m\u001b[0m\u001b[0m\n\u001b[0;32m-> 1038\u001b[0;31m             \u001b[0mresponse\u001b[0m \u001b[0;34m=\u001b[0m \u001b[0mconnection\u001b[0m\u001b[0;34m.\u001b[0m\u001b[0msend_command\u001b[0m\u001b[0;34m(\u001b[0m\u001b[0mcommand\u001b[0m\u001b[0;34m)\u001b[0m\u001b[0;34m\u001b[0m\u001b[0;34m\u001b[0m\u001b[0m\n\u001b[0m\u001b[1;32m   1039\u001b[0m             \u001b[0;32mif\u001b[0m \u001b[0mbinary\u001b[0m\u001b[0;34m:\u001b[0m\u001b[0;34m\u001b[0m\u001b[0;34m\u001b[0m\u001b[0m\n\u001b[1;32m   1040\u001b[0m                 \u001b[0;32mreturn\u001b[0m \u001b[0mresponse\u001b[0m\u001b[0;34m,\u001b[0m \u001b[0mself\u001b[0m\u001b[0;34m.\u001b[0m\u001b[0m_create_connection_guard\u001b[0m\u001b[0;34m(\u001b[0m\u001b[0mconnection\u001b[0m\u001b[0;34m)\u001b[0m\u001b[0;34m\u001b[0m\u001b[0;34m\u001b[0m\u001b[0m\n",
            "\u001b[0;32m/usr/local/lib/python3.7/dist-packages/py4j/clientserver.py\u001b[0m in \u001b[0;36msend_command\u001b[0;34m(self, command)\u001b[0m\n\u001b[1;32m    473\u001b[0m         \u001b[0;32mtry\u001b[0m\u001b[0;34m:\u001b[0m\u001b[0;34m\u001b[0m\u001b[0;34m\u001b[0m\u001b[0m\n\u001b[1;32m    474\u001b[0m             \u001b[0;32mwhile\u001b[0m \u001b[0;32mTrue\u001b[0m\u001b[0;34m:\u001b[0m\u001b[0;34m\u001b[0m\u001b[0;34m\u001b[0m\u001b[0m\n\u001b[0;32m--> 475\u001b[0;31m                 \u001b[0manswer\u001b[0m \u001b[0;34m=\u001b[0m \u001b[0msmart_decode\u001b[0m\u001b[0;34m(\u001b[0m\u001b[0mself\u001b[0m\u001b[0;34m.\u001b[0m\u001b[0mstream\u001b[0m\u001b[0;34m.\u001b[0m\u001b[0mreadline\u001b[0m\u001b[0;34m(\u001b[0m\u001b[0;34m)\u001b[0m\u001b[0;34m[\u001b[0m\u001b[0;34m:\u001b[0m\u001b[0;34m-\u001b[0m\u001b[0;36m1\u001b[0m\u001b[0;34m]\u001b[0m\u001b[0;34m)\u001b[0m\u001b[0;34m\u001b[0m\u001b[0;34m\u001b[0m\u001b[0m\n\u001b[0m\u001b[1;32m    476\u001b[0m                 \u001b[0mlogger\u001b[0m\u001b[0;34m.\u001b[0m\u001b[0mdebug\u001b[0m\u001b[0;34m(\u001b[0m\u001b[0;34m\"Answer received: {0}\"\u001b[0m\u001b[0;34m.\u001b[0m\u001b[0mformat\u001b[0m\u001b[0;34m(\u001b[0m\u001b[0manswer\u001b[0m\u001b[0;34m)\u001b[0m\u001b[0;34m)\u001b[0m\u001b[0;34m\u001b[0m\u001b[0;34m\u001b[0m\u001b[0m\n\u001b[1;32m    477\u001b[0m                 \u001b[0;31m# Happens when a the other end is dead. There might be an empty\u001b[0m\u001b[0;34m\u001b[0m\u001b[0;34m\u001b[0m\u001b[0;34m\u001b[0m\u001b[0m\n",
            "\u001b[0;32m/usr/lib/python3.7/socket.py\u001b[0m in \u001b[0;36mreadinto\u001b[0;34m(self, b)\u001b[0m\n\u001b[1;32m    587\u001b[0m         \u001b[0;32mwhile\u001b[0m \u001b[0;32mTrue\u001b[0m\u001b[0;34m:\u001b[0m\u001b[0;34m\u001b[0m\u001b[0;34m\u001b[0m\u001b[0m\n\u001b[1;32m    588\u001b[0m             \u001b[0;32mtry\u001b[0m\u001b[0;34m:\u001b[0m\u001b[0;34m\u001b[0m\u001b[0;34m\u001b[0m\u001b[0m\n\u001b[0;32m--> 589\u001b[0;31m                 \u001b[0;32mreturn\u001b[0m \u001b[0mself\u001b[0m\u001b[0;34m.\u001b[0m\u001b[0m_sock\u001b[0m\u001b[0;34m.\u001b[0m\u001b[0mrecv_into\u001b[0m\u001b[0;34m(\u001b[0m\u001b[0mb\u001b[0m\u001b[0;34m)\u001b[0m\u001b[0;34m\u001b[0m\u001b[0;34m\u001b[0m\u001b[0m\n\u001b[0m\u001b[1;32m    590\u001b[0m             \u001b[0;32mexcept\u001b[0m \u001b[0mtimeout\u001b[0m\u001b[0;34m:\u001b[0m\u001b[0;34m\u001b[0m\u001b[0;34m\u001b[0m\u001b[0m\n\u001b[1;32m    591\u001b[0m                 \u001b[0mself\u001b[0m\u001b[0;34m.\u001b[0m\u001b[0m_timeout_occurred\u001b[0m \u001b[0;34m=\u001b[0m \u001b[0;32mTrue\u001b[0m\u001b[0;34m\u001b[0m\u001b[0;34m\u001b[0m\u001b[0m\n",
            "\u001b[0;31mKeyboardInterrupt\u001b[0m: "
          ]
        }
      ]
    },
    {
      "cell_type": "markdown",
      "source": [
        "### **Usando Windows para evitar joins**\n",
        "\n",
        "**Objetivo :** Título mais recente por gênero\n",
        "\n",
        "Caminho natual :\n",
        "\n",
        "  `df1 = df_titles.goupby('genre').agg(f.max(f.col('startYear').alias('startYear')))`\n",
        "  \n",
        "  `df2 = df_titles.join(df1,['genre','startYear'])`\n",
        "\n",
        "**Alternativa :**"
      ],
      "metadata": {
        "id": "lI14BcnNh1km"
      }
    },
    {
      "cell_type": "code",
      "source": [
        "#w = Window.partitionBy('genre')\n",
        "#(\n",
        "#    df_titles_subset\n",
        "#    .withColumn('max_data', f.max(f.col('startYear')).over(w))\n",
        "#    .filter('startYear = max_data')\n",
        "#    .show()\n",
        "#)"
      ],
      "metadata": {
        "id": "c_FgwW8xiDYA"
      },
      "execution_count": null,
      "outputs": []
    },
    {
      "cell_type": "markdown",
      "source": [
        "# **Aula 4.3**- Manipulando dados com Spark - Parte II"
      ],
      "metadata": {
        "id": "4ffLIdmsc19X"
      }
    },
    {
      "cell_type": "markdown",
      "source": [
        "### Tipos de Joins\n",
        "\n",
        "Os joins no pyspark são especificados pela função `join()`, da seguinte forma:\n",
        "\n",
        "`df1.join(df2,{key_columns},{join_type})`\n",
        "\n",
        "- `key_columns` : colunas que vão ser utilizadas para fazer a junção das tabelas. Pode ser especifida como\n",
        "  - Uma única string -> só uma coluna é chave, mesmos nomes nas duas tabelas. \n",
        "  - Uma lista de string ou de colunas (col()) -> mais de uma coluna é chave, mesmos nomes nas duas tabelas.\n",
        "  - Com nomes diferentes, é necessário fazer uma especificação do tipo: \n",
        "  `f.col(column1) == f.col(column2)`. Caso existam mais de uma coluna como chave, essas especificações devem ser colocadas em uma lista. \n",
        "- `join_type`: o tipo de join a ser realizado. As opções são: \n",
        "  - `inner (default)`:: INNER JOIN do SQL\n",
        "  - `outer / full / fullouter / full_outer`:: FULL_OUTER JOIN so SQL\n",
        "  - `left / left_outer / left_outer / `:: LEFT JOIN do SQL\n",
        "  - `right / rightouter / right_outer`:: RIGHT JOIN do SQL \n",
        "  - `semi / leftsemi / left_semi`:: realiza um LEFT JOIN do SQL e retorna somente as colunas do DataFrame da esquerda que também estão no DataFrame da Direita. \n",
        "  - `anti / leftanti / left_anti`:: realiza um LEFT JOIN do SQL e retorna somente as colunas do DataFrame da esquerda que não estão no DataFrame da Direita. "
      ],
      "metadata": {
        "id": "OzUlBh5MdVzk"
      }
    },
    {
      "cell_type": "code",
      "source": [
        "df_titles.show()"
      ],
      "metadata": {
        "id": "8l1BBkNRvTcx",
        "colab": {
          "base_uri": "https://localhost:8080/"
        },
        "outputId": "9b805ccf-e87c-4ab1-f92d-728ddf06ffce"
      },
      "execution_count": 5,
      "outputs": [
        {
          "output_type": "stream",
          "name": "stdout",
          "text": [
            "+---------+---------+--------------------+--------------------+-------+---------+-------+--------------+--------------------+\n",
            "|   tconst|titleType|        primaryTitle|       originalTitle|isAdult|startYear|endYear|runtimeMinutes|              genres|\n",
            "+---------+---------+--------------------+--------------------+-------+---------+-------+--------------+--------------------+\n",
            "|tt0000001|    short|          Carmencita|          Carmencita|      0|     1894|     \\N|             1|   Documentary,Short|\n",
            "|tt0000002|    short|Le clown et ses c...|Le clown et ses c...|      0|     1892|     \\N|             5|     Animation,Short|\n",
            "|tt0000003|    short|      Pauvre Pierrot|      Pauvre Pierrot|      0|     1892|     \\N|             4|Animation,Comedy,...|\n",
            "|tt0000004|    short|         Un bon bock|         Un bon bock|      0|     1892|     \\N|            12|     Animation,Short|\n",
            "|tt0000005|    short|    Blacksmith Scene|    Blacksmith Scene|      0|     1893|     \\N|             1|        Comedy,Short|\n",
            "|tt0000006|    short|   Chinese Opium Den|   Chinese Opium Den|      0|     1894|     \\N|             1|               Short|\n",
            "|tt0000007|    short|Corbett and Court...|Corbett and Court...|      0|     1894|     \\N|             1|         Short,Sport|\n",
            "|tt0000008|    short|Edison Kinetoscop...|Edison Kinetoscop...|      0|     1894|     \\N|             1|   Documentary,Short|\n",
            "|tt0000009|    short|          Miss Jerry|          Miss Jerry|      0|     1894|     \\N|            40|       Romance,Short|\n",
            "|tt0000010|    short| Leaving the Factory|La sortie de l'us...|      0|     1895|     \\N|             1|   Documentary,Short|\n",
            "|tt0000011|    short|Akrobatisches Pot...|Akrobatisches Pot...|      0|     1895|     \\N|             1|   Documentary,Short|\n",
            "|tt0000012|    short|The Arrival of a ...|L'arrivée d'un tr...|      0|     1896|     \\N|             1|   Documentary,Short|\n",
            "|tt0000013|    short|The Photographica...|Le débarquement d...|      0|     1895|     \\N|             1|   Documentary,Short|\n",
            "|tt0000014|    short| The Waterer Watered|   L'arroseur arrosé|      0|     1895|     \\N|             1|        Comedy,Short|\n",
            "|tt0000015|    short| Autour d'une cabine| Autour d'une cabine|      0|     1894|     \\N|             2|     Animation,Short|\n",
            "|tt0000016|    short|Boat Leaving the ...|Barque sortant du...|      0|     1895|     \\N|             1|   Documentary,Short|\n",
            "|tt0000017|    short|Italienischer Bau...|Italienischer Bau...|      0|     1895|     \\N|             1|   Documentary,Short|\n",
            "|tt0000018|    short|Das boxende Känguruh|Das boxende Känguruh|      0|     1895|     \\N|             1|               Short|\n",
            "|tt0000019|    short|    The Clown Barber|    The Clown Barber|      0|     1898|     \\N|            \\N|        Comedy,Short|\n",
            "|tt0000020|    short|      The Derby 1895|      The Derby 1895|      0|     1895|     \\N|             1|Documentary,Short...|\n",
            "+---------+---------+--------------------+--------------------+-------+---------+-------+--------------+--------------------+\n",
            "only showing top 20 rows\n",
            "\n"
          ]
        }
      ]
    },
    {
      "cell_type": "code",
      "source": [
        "imdb_path = '/content/drive/MyDrive/igti_bootcamps/eng_dados_cloud/mod3/title_ratings.tsv'"
      ],
      "metadata": {
        "id": "_VPBXCVXg8ML"
      },
      "execution_count": 11,
      "outputs": []
    },
    {
      "cell_type": "code",
      "source": [
        "options_dict = {\n",
        "    'sep' : '\\t' , \n",
        "    'header' : 'True'\n",
        "}\n",
        "\n",
        "df_ratings = (\n",
        "      spark.read\n",
        "    .format('csv')\n",
        "    .options(**options_dict)  \n",
        "    .load(imdb_path)\n",
        ")\n",
        "\n",
        "df_ratings.show(5)"
      ],
      "metadata": {
        "colab": {
          "base_uri": "https://localhost:8080/"
        },
        "id": "IYd6SWVQi76D",
        "outputId": "d14f5b96-24e7-4950-8402-bf3c4795901a"
      },
      "execution_count": 12,
      "outputs": [
        {
          "output_type": "stream",
          "name": "stdout",
          "text": [
            "+---------+-------------+--------+\n",
            "|   tconst|averageRating|numVotes|\n",
            "+---------+-------------+--------+\n",
            "|tt0000001|          5.7|    1879|\n",
            "|tt0000002|          5.9|     248|\n",
            "|tt0000003|          6.5|    1652|\n",
            "|tt0000004|          5.8|     161|\n",
            "|tt0000005|          6.2|    2476|\n",
            "+---------+-------------+--------+\n",
            "only showing top 5 rows\n",
            "\n"
          ]
        }
      ]
    },
    {
      "cell_type": "code",
      "source": [
        "(\n",
        "    df_titles\n",
        "    .join(df_ratings, 'tconst')\n",
        "    .show()\n",
        ")"
      ],
      "metadata": {
        "colab": {
          "base_uri": "https://localhost:8080/"
        },
        "id": "fFfStqzGjveB",
        "outputId": "927c08de-4edc-49ba-e598-c41e69570dd1"
      },
      "execution_count": 13,
      "outputs": [
        {
          "output_type": "stream",
          "name": "stdout",
          "text": [
            "+---------+---------+--------------------+--------------------+-------+---------+-------+--------------+--------------------+-------------+--------+\n",
            "|   tconst|titleType|        primaryTitle|       originalTitle|isAdult|startYear|endYear|runtimeMinutes|              genres|averageRating|numVotes|\n",
            "+---------+---------+--------------------+--------------------+-------+---------+-------+--------------+--------------------+-------------+--------+\n",
            "|tt0000008|    short|Edison Kinetoscop...|Edison Kinetoscop...|      0|     1894|     \\N|             1|   Documentary,Short|          5.4|    2017|\n",
            "|tt0000015|    short| Autour d'une cabine| Autour d'une cabine|      0|     1894|     \\N|             2|     Animation,Short|          6.2|     994|\n",
            "|tt0000019|    short|    The Clown Barber|    The Clown Barber|      0|     1898|     \\N|            \\N|        Comedy,Short|          5.2|      30|\n",
            "|tt0000051|    short|The Bohemian Enca...|Campement de bohé...|      0|     1896|     \\N|            \\N|   Documentary,Short|          3.8|      33|\n",
            "|tt0000058|    short|Cortège de tzar a...|Cortège de tzar a...|      0|     1896|     \\N|            \\N|   Documentary,Short|          4.3|      31|\n",
            "|tt0000065|    short|Dessinateur: Rein...|Dessinateur: Rein...|      0|     1896|     \\N|            \\N|               Short|          3.6|      27|\n",
            "|tt0000095|    short|The Mysterious Paper|    Le papier protée|      0|     1896|     \\N|            \\N|               Short|          4.8|      33|\n",
            "|tt0000108|    short|Rip Leaving Sleep...|Rip Leaving Sleep...|      0|     1896|     \\N|             1|         Drama,Short|          4.4|     519|\n",
            "|tt0000142|    short|Buffalo Bill and ...|Buffalo Bill and ...|      0|     1897|     \\N|            \\N|          News,Short|          4.7|      28|\n",
            "|tt0000145|    short|           En classe|           En classe|      0|     1897|     \\N|            \\N|        Comedy,Short|          3.9|      13|\n",
            "|tt0000146|    short|Le cocher de fiac...|Le cocher de fiac...|      0|     1897|     \\N|            \\N|        Comedy,Short|          5.1|      26|\n",
            "|tt0000169|    short|Slagsmål i gamla ...|Slagsmål i gamla ...|      0|     1897|     \\N|             1|               Short|          3.8|      45|\n",
            "|tt0000172|    short|     The X-Ray Fiend|     The X-Ray Fiend|      0|     1897|     \\N|             1| Comedy,Horror,Short|          6.1|     853|\n",
            "|tt0000174|    short|Výstavní párkar a...|Výstavní párkar a...|      0|     1898|     \\N|             1|        Comedy,Short|          4.6|     125|\n",
            "|tt0000175|    short|A Sea Cave Near L...|A Sea Cave Near L...|      0|     1896|     \\N|             1|   Documentary,Short|          5.0|     206|\n",
            "|tt0000186|    short|   Le cuirassé Maine|   Le cuirassé Maine|      0|     1898|     \\N|            \\N|           Short,War|          4.2|      21|\n",
            "|tt0000188|    short|        The Deserter|        The Deserter|      0|     1898|     \\N|            \\N|         Drama,Short|          4.0|      11|\n",
            "|tt0000214|    short|Tearing Down the ...|Tearing Down the ...|      0|     1898|     \\N|            \\N|           Short,War|          4.4|      92|\n",
            "|tt0000242|    short|The Sign of the C...|Le diable au couvent|      0|     1899|     \\N|             3|Fantasy,Horror,Short|          6.4|    1134|\n",
            "|tt0000264|    short|Summoning the Spi...|   Évocation spirite|      0|     1899|     \\N|             1|Fantasy,Horror,Short|          5.7|     417|\n",
            "+---------+---------+--------------------+--------------------+-------+---------+-------+--------------+--------------------+-------------+--------+\n",
            "only showing top 20 rows\n",
            "\n"
          ]
        }
      ]
    },
    {
      "cell_type": "code",
      "source": [
        "(\n",
        "    df_titles\n",
        "    .join(df_ratings, 'tconst')\n",
        "    .count()\n",
        ")"
      ],
      "metadata": {
        "colab": {
          "base_uri": "https://localhost:8080/"
        },
        "id": "1RM3Wm-flvsU",
        "outputId": "91e776ea-61bf-4969-aad5-a9a0c8782497"
      },
      "execution_count": 14,
      "outputs": [
        {
          "output_type": "execute_result",
          "data": {
            "text/plain": [
              "1227178"
            ]
          },
          "metadata": {},
          "execution_count": 14
        }
      ]
    },
    {
      "cell_type": "code",
      "source": [
        "(\n",
        "    df_titles\n",
        "    .join(df_ratings, 'tconst', 'left')\n",
        "    .filter('averageRating is null')\n",
        "    .show()\n",
        ")"
      ],
      "metadata": {
        "colab": {
          "base_uri": "https://localhost:8080/"
        },
        "id": "PHGwsrj4l9NM",
        "outputId": "b7d7af04-7636-4a88-8cf9-96ab18de2991"
      },
      "execution_count": 15,
      "outputs": [
        {
          "output_type": "stream",
          "name": "stdout",
          "text": [
            "+---------+---------+--------------------+--------------------+-------+---------+-------+--------------+--------------------+-------------+--------+\n",
            "|   tconst|titleType|        primaryTitle|       originalTitle|isAdult|startYear|endYear|runtimeMinutes|              genres|averageRating|numVotes|\n",
            "+---------+---------+--------------------+--------------------+-------+---------+-------+--------------+--------------------+-------------+--------+\n",
            "|tt0000195|    short| Les farces de Jocko| Les farces de Jocko|      0|     1898|     \\N|            \\N|        Comedy,Short|         null|    null|\n",
            "|tt0000212|    short|Saida do Paquete ...|Saida do Paquete ...|      0|     1898|     \\N|            \\N|               Short|         null|    null|\n",
            "|tt0000221|    short|Aspectos da Praia...|Aspectos da Praia...|      0|     1899|     \\N|            \\N|   Documentary,Short|         null|    null|\n",
            "|tt0000267|    short|           L'angélus|           L'angélus|      0|     1900|     \\N|            \\N|               Short|         null|    null|\n",
            "|tt0000305|    short|          L'Habanera|          L'Habanera|      0|     1900|     \\N|            \\N|               Short|         null|    null|\n",
            "|tt0000314|    short|      Leçon de danse|      Leçon de danse|      0|     1900|     \\N|            \\N|               Short|         null|    null|\n",
            "|tt0000372|    short|     Scène d'ivresse|     Scène d'ivresse|      0|     1901|     \\N|            \\N|               Short|         null|    null|\n",
            "|tt0000395|    short|  La fiole enchantée|  La fiole enchantée|      0|     1902|     \\N|            \\N|               Short|         null|    null|\n",
            "|tt0000401|    short|Le marchand de ba...|Le marchand de ba...|      0|     1902|     \\N|            \\N|        Comedy,Short|         null|    null|\n",
            "|tt0000504|    short|Coso y Paseo de S...|Coso y Paseo de S...|      0|     1905|     \\N|            \\N|   Documentary,Short|         null|    null|\n",
            "|tt0000549|    short|En foræring til m...|En foræring til m...|      0|     1906|     \\N|            \\N|               Short|         null|    null|\n",
            "|tt0000579|    short|The Bandit Makes ...|The Bandit Makes ...|      0|     1908|     \\N|            \\N|       Short,Western|         null|    null|\n",
            "|tt0000667|    short|Corrida de toros ...|Corrida de toros ...|      0|     1908|     \\N|             9|Documentary,Short...|         null|    null|\n",
            "|tt0000688|    short|The Flower Girl o...|The Flower Girl o...|      0|     1908|     \\N|            \\N|         Drama,Short|         null|    null|\n",
            "|tt0000703|    short|      Hulda's Lovers|      Hulda's Lovers|      0|     1908|     \\N|            \\N|        Comedy,Short|         null|    null|\n",
            "|tt0000716|    short|   Lonesome Junction|   Lonesome Junction|      0|     1908|     \\N|            \\N|Comedy,Short,Western|         null|    null|\n",
            "|tt0000725|    short|        Mixed Babies|        Mixed Babies|      0|     1908|     \\N|            \\N|        Comedy,Short|         null|    null|\n",
            "|tt0000766|    short|The Stage-Struck ...|The Stage-Struck ...|      0|     1908|     \\N|            \\N|               Short|         null|    null|\n",
            "|tt0000788|    short|    The Yellow Peril|    The Yellow Peril|      0|     1908|     \\N|            \\N|        Comedy,Short|         null|    null|\n",
            "|tt0000810|    short|     The Black Sheep|     The Black Sheep|      0|     1909|     \\N|            \\N|         Drama,Short|         null|    null|\n",
            "+---------+---------+--------------------+--------------------+-------+---------+-------+--------------+--------------------+-------------+--------+\n",
            "only showing top 20 rows\n",
            "\n"
          ]
        }
      ]
    },
    {
      "cell_type": "code",
      "source": [
        "(\n",
        "    df_titles\n",
        "    .withColumnRenamed('tconst','id_title')\n",
        "    .join(df_ratings, f.col('tconst') == f.col('id_title'))\n",
        "    .show()\n",
        ")"
      ],
      "metadata": {
        "colab": {
          "base_uri": "https://localhost:8080/"
        },
        "id": "0D-7zkvbmSyv",
        "outputId": "68c3c438-1431-4aeb-a013-f85db136bf39"
      },
      "execution_count": 19,
      "outputs": [
        {
          "output_type": "stream",
          "name": "stdout",
          "text": [
            "+---------+---------+--------------------+--------------------+-------+---------+-------+--------------+--------------------+---------+-------------+--------+\n",
            "| id_title|titleType|        primaryTitle|       originalTitle|isAdult|startYear|endYear|runtimeMinutes|              genres|   tconst|averageRating|numVotes|\n",
            "+---------+---------+--------------------+--------------------+-------+---------+-------+--------------+--------------------+---------+-------------+--------+\n",
            "|tt0000008|    short|Edison Kinetoscop...|Edison Kinetoscop...|      0|     1894|     \\N|             1|   Documentary,Short|tt0000008|          5.4|    2017|\n",
            "|tt0000015|    short| Autour d'une cabine| Autour d'une cabine|      0|     1894|     \\N|             2|     Animation,Short|tt0000015|          6.2|     994|\n",
            "|tt0000019|    short|    The Clown Barber|    The Clown Barber|      0|     1898|     \\N|            \\N|        Comedy,Short|tt0000019|          5.2|      30|\n",
            "|tt0000051|    short|The Bohemian Enca...|Campement de bohé...|      0|     1896|     \\N|            \\N|   Documentary,Short|tt0000051|          3.8|      33|\n",
            "|tt0000058|    short|Cortège de tzar a...|Cortège de tzar a...|      0|     1896|     \\N|            \\N|   Documentary,Short|tt0000058|          4.3|      31|\n",
            "|tt0000065|    short|Dessinateur: Rein...|Dessinateur: Rein...|      0|     1896|     \\N|            \\N|               Short|tt0000065|          3.6|      27|\n",
            "|tt0000095|    short|The Mysterious Paper|    Le papier protée|      0|     1896|     \\N|            \\N|               Short|tt0000095|          4.8|      33|\n",
            "|tt0000108|    short|Rip Leaving Sleep...|Rip Leaving Sleep...|      0|     1896|     \\N|             1|         Drama,Short|tt0000108|          4.4|     519|\n",
            "|tt0000142|    short|Buffalo Bill and ...|Buffalo Bill and ...|      0|     1897|     \\N|            \\N|          News,Short|tt0000142|          4.7|      28|\n",
            "|tt0000145|    short|           En classe|           En classe|      0|     1897|     \\N|            \\N|        Comedy,Short|tt0000145|          3.9|      13|\n",
            "|tt0000146|    short|Le cocher de fiac...|Le cocher de fiac...|      0|     1897|     \\N|            \\N|        Comedy,Short|tt0000146|          5.1|      26|\n",
            "|tt0000169|    short|Slagsmål i gamla ...|Slagsmål i gamla ...|      0|     1897|     \\N|             1|               Short|tt0000169|          3.8|      45|\n",
            "|tt0000172|    short|     The X-Ray Fiend|     The X-Ray Fiend|      0|     1897|     \\N|             1| Comedy,Horror,Short|tt0000172|          6.1|     853|\n",
            "|tt0000174|    short|Výstavní párkar a...|Výstavní párkar a...|      0|     1898|     \\N|             1|        Comedy,Short|tt0000174|          4.6|     125|\n",
            "|tt0000175|    short|A Sea Cave Near L...|A Sea Cave Near L...|      0|     1896|     \\N|             1|   Documentary,Short|tt0000175|          5.0|     206|\n",
            "|tt0000186|    short|   Le cuirassé Maine|   Le cuirassé Maine|      0|     1898|     \\N|            \\N|           Short,War|tt0000186|          4.2|      21|\n",
            "|tt0000188|    short|        The Deserter|        The Deserter|      0|     1898|     \\N|            \\N|         Drama,Short|tt0000188|          4.0|      11|\n",
            "|tt0000214|    short|Tearing Down the ...|Tearing Down the ...|      0|     1898|     \\N|            \\N|           Short,War|tt0000214|          4.4|      92|\n",
            "|tt0000242|    short|The Sign of the C...|Le diable au couvent|      0|     1899|     \\N|             3|Fantasy,Horror,Short|tt0000242|          6.4|    1134|\n",
            "|tt0000264|    short|Summoning the Spi...|   Évocation spirite|      0|     1899|     \\N|             1|Fantasy,Horror,Short|tt0000264|          5.7|     417|\n",
            "+---------+---------+--------------------+--------------------+-------+---------+-------+--------------+--------------------+---------+-------------+--------+\n",
            "only showing top 20 rows\n",
            "\n"
          ]
        }
      ]
    },
    {
      "cell_type": "code",
      "source": [
        "(\n",
        "    df_titles\n",
        "    .withColumnRenamed('tconst','id_title')\n",
        "    .join(df_ratings, f.col('tconst') == f.col('id_title'))\n",
        "    .withColumn('averageRating', f.expr('averageRating + 1'))\n",
        "    .show()\n",
        ")"
      ],
      "metadata": {
        "colab": {
          "base_uri": "https://localhost:8080/"
        },
        "id": "drxXjJfjoIGg",
        "outputId": "ee8ce05c-120a-4f8b-e209-6c45ce0ac246"
      },
      "execution_count": 20,
      "outputs": [
        {
          "output_type": "stream",
          "name": "stdout",
          "text": [
            "+---------+---------+--------------------+--------------------+-------+---------+-------+--------------+--------------------+---------+-------------+--------+\n",
            "| id_title|titleType|        primaryTitle|       originalTitle|isAdult|startYear|endYear|runtimeMinutes|              genres|   tconst|averageRating|numVotes|\n",
            "+---------+---------+--------------------+--------------------+-------+---------+-------+--------------+--------------------+---------+-------------+--------+\n",
            "|tt0000008|    short|Edison Kinetoscop...|Edison Kinetoscop...|      0|     1894|     \\N|             1|   Documentary,Short|tt0000008|          6.4|    2017|\n",
            "|tt0000015|    short| Autour d'une cabine| Autour d'une cabine|      0|     1894|     \\N|             2|     Animation,Short|tt0000015|          7.2|     994|\n",
            "|tt0000019|    short|    The Clown Barber|    The Clown Barber|      0|     1898|     \\N|            \\N|        Comedy,Short|tt0000019|          6.2|      30|\n",
            "|tt0000051|    short|The Bohemian Enca...|Campement de bohé...|      0|     1896|     \\N|            \\N|   Documentary,Short|tt0000051|          4.8|      33|\n",
            "|tt0000058|    short|Cortège de tzar a...|Cortège de tzar a...|      0|     1896|     \\N|            \\N|   Documentary,Short|tt0000058|          5.3|      31|\n",
            "|tt0000065|    short|Dessinateur: Rein...|Dessinateur: Rein...|      0|     1896|     \\N|            \\N|               Short|tt0000065|          4.6|      27|\n",
            "|tt0000095|    short|The Mysterious Paper|    Le papier protée|      0|     1896|     \\N|            \\N|               Short|tt0000095|          5.8|      33|\n",
            "|tt0000108|    short|Rip Leaving Sleep...|Rip Leaving Sleep...|      0|     1896|     \\N|             1|         Drama,Short|tt0000108|          5.4|     519|\n",
            "|tt0000142|    short|Buffalo Bill and ...|Buffalo Bill and ...|      0|     1897|     \\N|            \\N|          News,Short|tt0000142|          5.7|      28|\n",
            "|tt0000145|    short|           En classe|           En classe|      0|     1897|     \\N|            \\N|        Comedy,Short|tt0000145|          4.9|      13|\n",
            "|tt0000146|    short|Le cocher de fiac...|Le cocher de fiac...|      0|     1897|     \\N|            \\N|        Comedy,Short|tt0000146|          6.1|      26|\n",
            "|tt0000169|    short|Slagsmål i gamla ...|Slagsmål i gamla ...|      0|     1897|     \\N|             1|               Short|tt0000169|          4.8|      45|\n",
            "|tt0000172|    short|     The X-Ray Fiend|     The X-Ray Fiend|      0|     1897|     \\N|             1| Comedy,Horror,Short|tt0000172|          7.1|     853|\n",
            "|tt0000174|    short|Výstavní párkar a...|Výstavní párkar a...|      0|     1898|     \\N|             1|        Comedy,Short|tt0000174|          5.6|     125|\n",
            "|tt0000175|    short|A Sea Cave Near L...|A Sea Cave Near L...|      0|     1896|     \\N|             1|   Documentary,Short|tt0000175|          6.0|     206|\n",
            "|tt0000186|    short|   Le cuirassé Maine|   Le cuirassé Maine|      0|     1898|     \\N|            \\N|           Short,War|tt0000186|          5.2|      21|\n",
            "|tt0000188|    short|        The Deserter|        The Deserter|      0|     1898|     \\N|            \\N|         Drama,Short|tt0000188|          5.0|      11|\n",
            "|tt0000214|    short|Tearing Down the ...|Tearing Down the ...|      0|     1898|     \\N|            \\N|           Short,War|tt0000214|          5.4|      92|\n",
            "|tt0000242|    short|The Sign of the C...|Le diable au couvent|      0|     1899|     \\N|             3|Fantasy,Horror,Short|tt0000242|          7.4|    1134|\n",
            "|tt0000264|    short|Summoning the Spi...|   Évocation spirite|      0|     1899|     \\N|             1|Fantasy,Horror,Short|tt0000264|          6.7|     417|\n",
            "+---------+---------+--------------------+--------------------+-------+---------+-------+--------------+--------------------+---------+-------------+--------+\n",
            "only showing top 20 rows\n",
            "\n"
          ]
        }
      ]
    },
    {
      "cell_type": "markdown",
      "source": [
        "### Utilizando semi e anti join"
      ],
      "metadata": {
        "id": "BOV-6MJwpBv1"
      }
    },
    {
      "cell_type": "code",
      "source": [
        "df_ratings.select('tconst').distinct().count()"
      ],
      "metadata": {
        "colab": {
          "base_uri": "https://localhost:8080/"
        },
        "id": "-UeIpraUpxm-",
        "outputId": "830ca0be-4a89-4987-bb27-642faae9d5bc"
      },
      "execution_count": 22,
      "outputs": [
        {
          "output_type": "execute_result",
          "data": {
            "text/plain": [
              "1242221"
            ]
          },
          "metadata": {},
          "execution_count": 22
        }
      ]
    },
    {
      "cell_type": "code",
      "source": [
        "df_titles.select('tconst').distinct().count()"
      ],
      "metadata": {
        "colab": {
          "base_uri": "https://localhost:8080/"
        },
        "id": "iU45WTSbp6p7",
        "outputId": "76a08b4b-c6e9-4acc-a623-ef5e5b89f9f2"
      },
      "execution_count": 23,
      "outputs": [
        {
          "output_type": "execute_result",
          "data": {
            "text/plain": [
              "8328316"
            ]
          },
          "metadata": {},
          "execution_count": 23
        }
      ]
    },
    {
      "cell_type": "code",
      "source": [
        "(\n",
        "    df_titles\n",
        "    .join(df_ratings, 'tconst','inner')\n",
        "    .distinct()\n",
        "    .count()\n",
        ")"
      ],
      "metadata": {
        "colab": {
          "base_uri": "https://localhost:8080/"
        },
        "id": "iROJvwprpL25",
        "outputId": "bdc46d22-cfa6-40e6-c953-21c14321573a"
      },
      "execution_count": 25,
      "outputs": [
        {
          "output_type": "execute_result",
          "data": {
            "text/plain": [
              "1227178"
            ]
          },
          "metadata": {},
          "execution_count": 25
        }
      ]
    },
    {
      "cell_type": "code",
      "source": [
        "(\n",
        "    df_titles\n",
        "    .join(df_ratings, 'tconst','semi')\n",
        "    .count()\n",
        ")"
      ],
      "metadata": {
        "colab": {
          "base_uri": "https://localhost:8080/"
        },
        "id": "7fGmcOBTsBvS",
        "outputId": "9e8079c0-4397-49c0-ac24-8a927e409de4"
      },
      "execution_count": 26,
      "outputs": [
        {
          "output_type": "execute_result",
          "data": {
            "text/plain": [
              "1227178"
            ]
          },
          "metadata": {},
          "execution_count": 26
        }
      ]
    },
    {
      "cell_type": "code",
      "source": [
        "(\n",
        "    df_titles\n",
        "    .join(df_ratings, 'tconst','left_anti')\n",
        "    .count()\n",
        ")"
      ],
      "metadata": {
        "colab": {
          "base_uri": "https://localhost:8080/"
        },
        "id": "aq14oIXvsFhK",
        "outputId": "59d66e12-ef46-4a4e-d547-31a6e3f5beab"
      },
      "execution_count": 27,
      "outputs": [
        {
          "output_type": "execute_result",
          "data": {
            "text/plain": [
              "7101138"
            ]
          },
          "metadata": {},
          "execution_count": 27
        }
      ]
    },
    {
      "cell_type": "code",
      "source": [
        "1227178 + 7101138 == df_titles.count()"
      ],
      "metadata": {
        "colab": {
          "base_uri": "https://localhost:8080/"
        },
        "id": "_pL4BN7RtDuJ",
        "outputId": "ebc4d58c-a136-4b75-bf39-28800d21d9a7"
      },
      "execution_count": 31,
      "outputs": [
        {
          "output_type": "execute_result",
          "data": {
            "text/plain": [
              "True"
            ]
          },
          "metadata": {},
          "execution_count": 31
        }
      ]
    },
    {
      "cell_type": "markdown",
      "source": [
        "### **Union** \n",
        "\n",
        "Existem três formas de unir DataFrames no pyspark:\n",
        "\n",
        "- `union() / unionAll()`: empilha os Dataframes, preservando linhas duplicadas. as colunas são unidas por posição, e por isso a ordem delas deve ser a mesma entre os dois DF's. \n",
        "- `unionByname()`: empilha os DataFrames, preservando linhas duplicadas. As colunas são unidas por nome, e por tanto não precisam estar ordenadas da mesma forma.  "
      ],
      "metadata": {
        "id": "Mbm5vlzJtXuo"
      }
    },
    {
      "cell_type": "code",
      "source": [
        "df1 = df_titles.sample(fraction = .5)\n",
        "df2 = df_titles.join(df1, ['tconst'], 'anti')"
      ],
      "metadata": {
        "id": "RvQxirGWtWdN"
      },
      "execution_count": 32,
      "outputs": []
    },
    {
      "cell_type": "code",
      "source": [
        "df1.count()"
      ],
      "metadata": {
        "colab": {
          "base_uri": "https://localhost:8080/"
        },
        "id": "wvtdeFLVuTDl",
        "outputId": "307c4a51-d3b4-4043-84f9-12e5a4bcb0e5"
      },
      "execution_count": 33,
      "outputs": [
        {
          "output_type": "execute_result",
          "data": {
            "text/plain": [
              "4164377"
            ]
          },
          "metadata": {},
          "execution_count": 33
        }
      ]
    },
    {
      "cell_type": "code",
      "source": [
        "df2.count()"
      ],
      "metadata": {
        "colab": {
          "base_uri": "https://localhost:8080/"
        },
        "id": "xW4MbrhruUt4",
        "outputId": "8201a8df-c56b-40c0-b431-feba85bf6b52"
      },
      "execution_count": 34,
      "outputs": [
        {
          "output_type": "execute_result",
          "data": {
            "text/plain": [
              "4163939"
            ]
          },
          "metadata": {},
          "execution_count": 34
        }
      ]
    },
    {
      "cell_type": "code",
      "source": [
        "df1.union(df2).count()"
      ],
      "metadata": {
        "colab": {
          "base_uri": "https://localhost:8080/"
        },
        "id": "wnTCIDDRuvXL",
        "outputId": "5ab88944-eaa4-4001-a017-d81dfaea188a"
      },
      "execution_count": 35,
      "outputs": [
        {
          "output_type": "execute_result",
          "data": {
            "text/plain": [
              "8328316"
            ]
          },
          "metadata": {},
          "execution_count": 35
        }
      ]
    },
    {
      "cell_type": "code",
      "source": [
        "df3 = df_titles.sample(fraction = 0.05)"
      ],
      "metadata": {
        "id": "cnf1SHNUvALc"
      },
      "execution_count": 36,
      "outputs": []
    },
    {
      "cell_type": "code",
      "source": [
        "df3.count()"
      ],
      "metadata": {
        "colab": {
          "base_uri": "https://localhost:8080/"
        },
        "id": "p-4PRMNzvFat",
        "outputId": "0df30186-aa8d-4695-af3f-1a6748605ec6"
      },
      "execution_count": 37,
      "outputs": [
        {
          "output_type": "execute_result",
          "data": {
            "text/plain": [
              "417977"
            ]
          },
          "metadata": {},
          "execution_count": 37
        }
      ]
    },
    {
      "cell_type": "code",
      "source": [
        "df3.union(df3).count()"
      ],
      "metadata": {
        "colab": {
          "base_uri": "https://localhost:8080/"
        },
        "id": "MfrsTBqsvMBs",
        "outputId": "67ee8f4a-b076-47c1-a4fe-354a46a27880"
      },
      "execution_count": 38,
      "outputs": [
        {
          "output_type": "execute_result",
          "data": {
            "text/plain": [
              "835954"
            ]
          },
          "metadata": {},
          "execution_count": 38
        }
      ]
    },
    {
      "cell_type": "code",
      "source": [
        "df2 = df2.select(df2.columns[::-1])"
      ],
      "metadata": {
        "id": "v3r8jF5HvZh3"
      },
      "execution_count": 39,
      "outputs": []
    },
    {
      "cell_type": "code",
      "source": [
        "df1.union(df2).filter('genres rlike \"[0-9]\"').show()"
      ],
      "metadata": {
        "colab": {
          "base_uri": "https://localhost:8080/"
        },
        "id": "u2xK5pCCvfDH",
        "outputId": "a49b9424-de85-455b-e9c8-ebacdc4e94ed"
      },
      "execution_count": 40,
      "outputs": [
        {
          "output_type": "stream",
          "name": "stdout",
          "text": [
            "+--------------------+---------+------------+-------------+-------+--------------------+--------------------+--------------+---------+\n",
            "|              tconst|titleType|primaryTitle|originalTitle|isAdult|           startYear|             endYear|runtimeMinutes|   genres|\n",
            "+--------------------+---------+------------+-------------+-------+--------------------+--------------------+--------------+---------+\n",
            "|       Short,Western|       \\N|          \\N|         1910|      0|A Cowboy's Vindic...|A Cowboy's Vindic...|         short|tt0001170|\n",
            "|               Short|       19|          \\N|         1911|      0|    A Devoted Friend|    A Devoted Friend|         short|tt0001581|\n",
            "| Drama,Romance,Short|       \\N|          \\N|         1911|      0|        Her Two Sons|        Her Two Sons|         short|tt0001664|\n",
            "|         Drama,Short|       \\N|          \\N|         1911|      0|The Lighthouse Ke...|The Lighthouse Ke...|         short|tt0001732|\n",
            "|         Drama,Short|       12|          \\N|         1912|      0|Le martyre de Sai...|Le martyre de Sai...|         short|tt0002347|\n",
            "|Comedy,Romance,Short|       \\N|          \\N|         1913|      0|  Knights and Ladies|  Knights and Ladies|         short|tt0003043|\n",
            "|              Action|      300|          \\N|         1914|      0|Lucille Love: The...|Lucille Love: The...|         movie|tt0004272|\n",
            "|         Crime,Drama|       \\N|          \\N|         1915|      0| Mysteries of London| Mysteries of London|         movie|tt0005793|\n",
            "|         Drama,Short|       \\N|          \\N|         1915|      0|  Out of the Silence|  Out of the Silence|         short|tt0005849|\n",
            "|               Drama|       50|          \\N|         1916|      0|The Valley of Dec...|The Valley of Dec...|         movie|tt0006204|\n",
            "|      Comedy,Western|       50|          \\N|         1916|      0|  Blue Blood and Red|  Blue Blood and Red|         movie|tt0006441|\n",
            "|               Drama|       50|          \\N|         1916|      0|The Devil's Bondw...|The Devil's Bondw...|         movie|tt0006587|\n",
            "|        Comedy,Short|       \\N|          \\N|         1916|      0|A Lady in the Lib...|A Lady in the Lib...|         short|tt0006906|\n",
            "|               Drama|       \\N|          \\N|         1916|      0|The Making of Mad...|The Making of Mad...|         movie|tt0007011|\n",
            "|               Drama|       \\N|          \\N|         1916|      0|           Pendennis|           Pendennis|         movie|tt0007169|\n",
            "|               Short|       \\N|          \\N|         1916|      0|Svartsjukans följder|Svartsjukans följder|         short|tt0007419|\n",
            "|               Drama|       \\N|          \\N|         1915|      0|Whoso Is Without Sin|Whoso Is Without Sin|         movie|tt0007565|\n",
            "|               Drama|       \\N|          \\N|         1917|      0|       Rosie O'Grady|       Rosie O'Grady|         movie|tt0008522|\n",
            "|               Drama|       \\N|          \\N|         1917|      0|         Teni liubvi|         Teni liubvi|         movie|tt0008661|\n",
            "|               Drama|       \\N|          \\N|         1918|      0|      Blue-Eyed Mary|      Blue-Eyed Mary|         movie|tt0008893|\n",
            "+--------------------+---------+------------+-------------+-------+--------------------+--------------------+--------------+---------+\n",
            "only showing top 20 rows\n",
            "\n"
          ]
        }
      ]
    },
    {
      "cell_type": "code",
      "source": [
        "df1.unionByName(df2).filter('genres rlike \"[0-9]\"').show()"
      ],
      "metadata": {
        "colab": {
          "base_uri": "https://localhost:8080/"
        },
        "id": "mYW9LuZQwYf5",
        "outputId": "d3091ee4-9387-4626-c583-c986878950be"
      },
      "execution_count": 41,
      "outputs": [
        {
          "output_type": "stream",
          "name": "stdout",
          "text": [
            "+------+---------+------------+-------------+-------+---------+-------+--------------+------+\n",
            "|tconst|titleType|primaryTitle|originalTitle|isAdult|startYear|endYear|runtimeMinutes|genres|\n",
            "+------+---------+------------+-------------+-------+---------+-------+--------------+------+\n",
            "+------+---------+------------+-------------+-------+---------+-------+--------------+------+\n",
            "\n"
          ]
        }
      ]
    }
  ]
}