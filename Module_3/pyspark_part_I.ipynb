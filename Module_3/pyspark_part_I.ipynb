{
  "cells": [
    {
      "cell_type": "markdown",
      "metadata": {
        "id": "ZYQOAaUMcZaK"
      },
      "source": [
        "# **Módulo 3 - Manipulando dados com Spark - Parte I**\n",
        "\n",
        "## **Importando bibliotecas do Spark**"
      ]
    },
    {
      "cell_type": "code",
      "execution_count": null,
      "metadata": {
        "id": "-UnIpb1plxFh"
      },
      "outputs": [],
      "source": [
        "%%bash\n",
        "\n",
        "# Instal Java\n",
        "apt-get install openjdk-8-jdk-headless -qq > /dev/null\n",
        "\n",
        "# Install PySpark\n",
        "pip install -q pyspark"
      ]
    },
    {
      "cell_type": "code",
      "execution_count": null,
      "metadata": {
        "id": "_w5Uk758dqZv"
      },
      "outputs": [],
      "source": [
        "import os\n",
        "os.environ['JAVA_HOME'] = '/usr/lib/jvm/java-8-openjdk-amd64'\n",
        "\n",
        "from pyspark.sql import SparkSession\n",
        "\n",
        "spark = SparkSession.builder.master(\"local[*]\").getOrCreate()"
      ]
    },
    {
      "cell_type": "markdown",
      "metadata": {
        "id": "8skAk9tlAFqr"
      },
      "source": [
        "**OBS :** A preparação do ambiente não é igual ao da aula porque estou fazendo \n",
        "o exercício no Google Colab. "
      ]
    },
    {
      "cell_type": "code",
      "execution_count": null,
      "metadata": {
        "id": "rcGWi-Is_bwi"
      },
      "outputs": [],
      "source": [
        "df = spark.createDataFrame([('Fulano','1'),\n",
        "                            ('Ciclano','2')], \n",
        "                           schema='nome STRING, id STRING')"
      ]
    },
    {
      "cell_type": "code",
      "execution_count": null,
      "metadata": {
        "colab": {
          "base_uri": "https://localhost:8080/"
        },
        "id": "XOzcRlzV_-7j",
        "outputId": "07bbea09-4a78-4c79-b04f-ebca293fefb5"
      },
      "outputs": [
        {
          "name": "stdout",
          "output_type": "stream",
          "text": [
            "+-------+---+\n",
            "|   nome| id|\n",
            "+-------+---+\n",
            "| Fulano|  1|\n",
            "|Ciclano|  2|\n",
            "+-------+---+\n",
            "\n"
          ]
        }
      ],
      "source": [
        "df.show()"
      ]
    },
    {
      "cell_type": "markdown",
      "metadata": {
        "id": "SiQRcC1kPpPg"
      },
      "source": [
        "## **Acessando os Tipos do Spark**"
      ]
    },
    {
      "cell_type": "code",
      "execution_count": null,
      "metadata": {
        "id": "sU0NoVPTBI4H"
      },
      "outputs": [],
      "source": [
        "from pyspark.sql.types import *\n",
        "from pyspark.sql.functions import col"
      ]
    },
    {
      "cell_type": "code",
      "execution_count": null,
      "metadata": {
        "id": "-jY0eugiPvE9"
      },
      "outputs": [],
      "source": [
        "int_type = IntegerType()"
      ]
    },
    {
      "cell_type": "code",
      "execution_count": null,
      "metadata": {
        "id": "u5-jdi2BPzMm"
      },
      "outputs": [],
      "source": [
        "array_type = ArrayType(IntegerType())"
      ]
    },
    {
      "cell_type": "code",
      "execution_count": null,
      "metadata": {
        "colab": {
          "base_uri": "https://localhost:8080/"
        },
        "id": "WwfLTywOP6tO",
        "outputId": "94c8806c-05f7-49a4-9e53-076c83367b38"
      },
      "outputs": [
        {
          "data": {
            "text/plain": [
              "ArrayType(IntegerType,true)"
            ]
          },
          "execution_count": 9,
          "metadata": {},
          "output_type": "execute_result"
        }
      ],
      "source": [
        "array_type"
      ]
    },
    {
      "cell_type": "markdown",
      "metadata": {
        "id": "t9qd-9OvPh7_"
      },
      "source": [
        "## **Convertendo os tipos de Colunas**"
      ]
    },
    {
      "cell_type": "code",
      "execution_count": null,
      "metadata": {
        "colab": {
          "base_uri": "https://localhost:8080/"
        },
        "id": "Va-9KbQOPgXy",
        "outputId": "b4d7aadb-edf6-4354-b19d-5a75fc4a8343"
      },
      "outputs": [
        {
          "data": {
            "text/plain": [
              "[('nome', 'string'), ('id', 'string')]"
            ]
          },
          "execution_count": 10,
          "metadata": {},
          "output_type": "execute_result"
        }
      ],
      "source": [
        "df.dtypes"
      ]
    },
    {
      "cell_type": "code",
      "execution_count": null,
      "metadata": {
        "colab": {
          "base_uri": "https://localhost:8080/"
        },
        "id": "WWe0QTr6QHKn",
        "outputId": "b8b3efec-2c1d-416a-8bbd-014b24f6d7ba"
      },
      "outputs": [
        {
          "data": {
            "text/plain": [
              "DataFrame[nome: string, id: int]"
            ]
          },
          "execution_count": 11,
          "metadata": {},
          "output_type": "execute_result"
        }
      ],
      "source": [
        "df.select('nome',col('id').cast(IntegerType()))"
      ]
    },
    {
      "cell_type": "code",
      "execution_count": null,
      "metadata": {
        "colab": {
          "base_uri": "https://localhost:8080/"
        },
        "id": "OUrwbs5yRmxP",
        "outputId": "4e3af4d3-8bca-4e8f-86e0-86b5c1989bf0"
      },
      "outputs": [
        {
          "name": "stdout",
          "output_type": "stream",
          "text": [
            "+-------+---+\n",
            "|   nome| id|\n",
            "+-------+---+\n",
            "| Fulano|  1|\n",
            "|Ciclano|  2|\n",
            "+-------+---+\n",
            "\n"
          ]
        }
      ],
      "source": [
        "df.show()"
      ]
    },
    {
      "cell_type": "code",
      "execution_count": null,
      "metadata": {
        "colab": {
          "base_uri": "https://localhost:8080/"
        },
        "id": "ig6ppuTXRYmH",
        "outputId": "547ebd4c-6560-4290-d8a6-1ae963a5015d"
      },
      "outputs": [
        {
          "data": {
            "text/plain": [
              "DataFrame[nome: string, id: int]"
            ]
          },
          "execution_count": 13,
          "metadata": {},
          "output_type": "execute_result"
        }
      ],
      "source": [
        "df.select('nome',col('id').cast('int'))"
      ]
    },
    {
      "cell_type": "code",
      "execution_count": null,
      "metadata": {
        "colab": {
          "base_uri": "https://localhost:8080/"
        },
        "id": "-Nvb5PjbRijA",
        "outputId": "3fb88b07-b52e-4294-d61b-1a7bbf19825b"
      },
      "outputs": [
        {
          "name": "stdout",
          "output_type": "stream",
          "text": [
            "+-------+---+\n",
            "|   nome| id|\n",
            "+-------+---+\n",
            "| Fulano|  1|\n",
            "|Ciclano|  2|\n",
            "+-------+---+\n",
            "\n"
          ]
        }
      ],
      "source": [
        "df.show()"
      ]
    },
    {
      "cell_type": "markdown",
      "metadata": {
        "id": "iaYo-SYpTbKq"
      },
      "source": [
        "## **Schema e Criação de DataFrames**\n",
        "\n",
        "Um schema no Spark é uma especificação de tipos de colunas de um DataFrame. Eles são usadaos na leitura de dados externos e criação de DataFrames, e podem\n",
        "ser passados diretamente no Spark ou podem ser inferidos. Passar um schema na \n",
        "leitura traz benefícios interessantes como : \n",
        "\n",
        "  - Evita que o Spark faça inferência de tipos, o que é custoso e demorado \n",
        "  dependendo do tamanho do arquivo, laém de propenso a erros; \n",
        "  - Permite que usuário identifique erros nos dados logo na leitura, caso \n",
        "  não sigam o schema especificado. "
      ]
    },
    {
      "cell_type": "code",
      "execution_count": null,
      "metadata": {
        "id": "7blgQfXFTWYQ"
      },
      "outputs": [],
      "source": [
        "df = spark.createDataFrame([('Fulano'  ,1),\n",
        "                            ('Ciclano' ,2),\n",
        "                            ('Beltrano',3),\n",
        "                            ('Deltrano',4)], \n",
        "                            schema=['nome','id'])"
      ]
    },
    {
      "cell_type": "code",
      "execution_count": null,
      "metadata": {
        "colab": {
          "base_uri": "https://localhost:8080/"
        },
        "id": "NZGXtlagBI4h",
        "outputId": "0cca7612-b68e-4bac-d72e-3ecb34e6a842"
      },
      "outputs": [
        {
          "name": "stdout",
          "output_type": "stream",
          "text": [
            "+--------+---+\n",
            "|    nome| id|\n",
            "+--------+---+\n",
            "|  Fulano|  1|\n",
            "| Ciclano|  2|\n",
            "|Beltrano|  3|\n",
            "|Deltrano|  4|\n",
            "+--------+---+\n",
            "\n"
          ]
        }
      ],
      "source": [
        "df.show()"
      ]
    },
    {
      "cell_type": "code",
      "execution_count": null,
      "metadata": {
        "colab": {
          "base_uri": "https://localhost:8080/"
        },
        "id": "_vpIewuFCgwp",
        "outputId": "7fc9fd08-77d4-4c00-8cd3-5dd4593eb5f8"
      },
      "outputs": [
        {
          "data": {
            "text/plain": [
              "[('nome', 'string'), ('id', 'bigint')]"
            ]
          },
          "execution_count": 17,
          "metadata": {},
          "output_type": "execute_result"
        }
      ],
      "source": [
        "df.dtypes"
      ]
    },
    {
      "cell_type": "markdown",
      "metadata": {
        "id": "f0IOIeAIDa98"
      },
      "source": [
        "## **Criando schemas programaticamente**"
      ]
    },
    {
      "cell_type": "code",
      "execution_count": null,
      "metadata": {
        "id": "5YIDaDTxDXZA"
      },
      "outputs": [],
      "source": [
        "schema = \\\n",
        "  StructType([\n",
        "    StructField('nome',StringType()),\n",
        "    StructField('id'  ,IntegerType())\n",
        "  ])"
      ]
    },
    {
      "cell_type": "code",
      "execution_count": null,
      "metadata": {
        "id": "uIQbagUbEnDI"
      },
      "outputs": [],
      "source": [
        "df = spark.createDataFrame([('Fulano'  ,1),\n",
        "                            ('Ciclano' ,2),\n",
        "                            ('Beltrano',3),\n",
        "                            ('Deltrano',4)], \n",
        "                            schema=schema)"
      ]
    },
    {
      "cell_type": "code",
      "execution_count": null,
      "metadata": {
        "colab": {
          "base_uri": "https://localhost:8080/"
        },
        "id": "s-4udmByErA-",
        "outputId": "f9a77fdc-3d38-4309-c2f3-d56c3d2facf1"
      },
      "outputs": [
        {
          "name": "stdout",
          "output_type": "stream",
          "text": [
            "+--------+---+\n",
            "|    nome| id|\n",
            "+--------+---+\n",
            "|  Fulano|  1|\n",
            "| Ciclano|  2|\n",
            "|Beltrano|  3|\n",
            "|Deltrano|  4|\n",
            "+--------+---+\n",
            "\n"
          ]
        }
      ],
      "source": [
        "df.show()"
      ]
    },
    {
      "cell_type": "code",
      "execution_count": null,
      "metadata": {
        "colab": {
          "base_uri": "https://localhost:8080/"
        },
        "id": "zyY_cKXaEuLA",
        "outputId": "cec86b76-4ad7-4c1c-8ba7-1dc0cc29e245"
      },
      "outputs": [
        {
          "data": {
            "text/plain": [
              "[('nome', 'string'), ('id', 'int')]"
            ]
          },
          "execution_count": 21,
          "metadata": {},
          "output_type": "execute_result"
        }
      ],
      "source": [
        "df.dtypes"
      ]
    },
    {
      "cell_type": "markdown",
      "metadata": {
        "id": "lWF-8DZcFV1i"
      },
      "source": [
        "## **Criando schemas com DDL**"
      ]
    },
    {
      "cell_type": "code",
      "execution_count": null,
      "metadata": {
        "id": "NN2q2UkuFyX5"
      },
      "outputs": [],
      "source": [
        "schema = 'nome STRING, id INT' "
      ]
    },
    {
      "cell_type": "code",
      "execution_count": null,
      "metadata": {
        "id": "HsVGAtCSF7t5"
      },
      "outputs": [],
      "source": [
        "df = spark.createDataFrame([('Fulano'  ,1),\n",
        "                            ('Ciclano' ,2),\n",
        "                            ('Beltrano',3),\n",
        "                            ('Deltrano',4)], \n",
        "                            schema=schema)"
      ]
    },
    {
      "cell_type": "code",
      "execution_count": null,
      "metadata": {
        "colab": {
          "base_uri": "https://localhost:8080/"
        },
        "id": "RhudxUSZGASS",
        "outputId": "85ffbe88-8708-4273-ab8e-fd669d06629a"
      },
      "outputs": [
        {
          "name": "stdout",
          "output_type": "stream",
          "text": [
            "+--------+---+\n",
            "|    nome| id|\n",
            "+--------+---+\n",
            "|  Fulano|  1|\n",
            "| Ciclano|  2|\n",
            "|Beltrano|  3|\n",
            "|Deltrano|  4|\n",
            "+--------+---+\n",
            "\n"
          ]
        }
      ],
      "source": [
        "df.show()"
      ]
    },
    {
      "cell_type": "code",
      "execution_count": null,
      "metadata": {
        "colab": {
          "base_uri": "https://localhost:8080/"
        },
        "id": "_vJqFLmwGCZo",
        "outputId": "f313dadb-a5b3-4b3a-8188-00e88a1a5e9e"
      },
      "outputs": [
        {
          "data": {
            "text/plain": [
              "[('nome', 'string'), ('id', 'int')]"
            ]
          },
          "execution_count": 25,
          "metadata": {},
          "output_type": "execute_result"
        }
      ],
      "source": [
        "df.dtypes"
      ]
    },
    {
      "cell_type": "markdown",
      "metadata": {
        "id": "husCstajGxVV"
      },
      "source": [
        "## **Criando DataFrames**"
      ]
    },
    {
      "cell_type": "code",
      "execution_count": null,
      "metadata": {
        "id": "SuHaW4CUG2S3"
      },
      "outputs": [],
      "source": [
        "data = [('Fulano'  ,1),\n",
        "        ('Ciclano' ,2),\n",
        "        ('Beltrano',3),\n",
        "        ('Deltrano',4)]"
      ]
    },
    {
      "cell_type": "code",
      "execution_count": null,
      "metadata": {
        "id": "ZcljhesaIRP7"
      },
      "outputs": [],
      "source": [
        "schema = 'nome STRING, id INT' "
      ]
    },
    {
      "cell_type": "code",
      "execution_count": null,
      "metadata": {
        "id": "3kkhykYPG_oL"
      },
      "outputs": [],
      "source": [
        "df = spark.createDataFrame(data,schema=schema)"
      ]
    },
    {
      "cell_type": "code",
      "execution_count": null,
      "metadata": {
        "colab": {
          "base_uri": "https://localhost:8080/"
        },
        "id": "6Ixy6n8LHPx5",
        "outputId": "80900513-217d-4542-e7f8-6d1ac4d97283"
      },
      "outputs": [
        {
          "data": {
            "text/plain": [
              "[('nome', 'string'), ('id', 'int')]"
            ]
          },
          "execution_count": 29,
          "metadata": {},
          "output_type": "execute_result"
        }
      ],
      "source": [
        "df.dtypes"
      ]
    },
    {
      "cell_type": "code",
      "execution_count": null,
      "metadata": {
        "colab": {
          "base_uri": "https://localhost:8080/"
        },
        "id": "3Qg3Dn2RIELo",
        "outputId": "d37d551e-28ce-4cb9-b01b-3e25af1803aa"
      },
      "outputs": [
        {
          "name": "stdout",
          "output_type": "stream",
          "text": [
            "root\n",
            " |-- nome: string (nullable = true)\n",
            " |-- id: integer (nullable = true)\n",
            "\n"
          ]
        }
      ],
      "source": [
        "df.printSchema()"
      ]
    },
    {
      "cell_type": "code",
      "execution_count": null,
      "metadata": {
        "colab": {
          "base_uri": "https://localhost:8080/"
        },
        "id": "8pbM_FQoIIdH",
        "outputId": "43372acc-0d69-4985-d65c-32b7f495a553"
      },
      "outputs": [
        {
          "name": "stdout",
          "output_type": "stream",
          "text": [
            "+---+\n",
            "| id|\n",
            "+---+\n",
            "|  0|\n",
            "|  1|\n",
            "|  2|\n",
            "|  3|\n",
            "|  4|\n",
            "|  5|\n",
            "|  6|\n",
            "|  7|\n",
            "|  8|\n",
            "|  9|\n",
            "| 10|\n",
            "| 11|\n",
            "| 12|\n",
            "| 13|\n",
            "| 14|\n",
            "| 15|\n",
            "| 16|\n",
            "| 17|\n",
            "| 18|\n",
            "| 19|\n",
            "+---+\n",
            "only showing top 20 rows\n",
            "\n"
          ]
        }
      ],
      "source": [
        "spark.range(100).show()"
      ]
    },
    {
      "cell_type": "markdown",
      "metadata": {
        "id": "5qg_kW12KrzM"
      },
      "source": [
        "## **Leitura e Escrita de Dados**"
      ]
    },
    {
      "cell_type": "code",
      "execution_count": null,
      "metadata": {
        "id": "6BX9gGlMOTXa"
      },
      "outputs": [],
      "source": [
        "link_tab = '/content/drive/MyDrive/igti_bootcamps/eng_dados_cloud/mod3/tab_cnae.csv'"
      ]
    },
    {
      "cell_type": "markdown",
      "metadata": {
        "id": "wh2RsPm9Orgv"
      },
      "source": [
        "### **DataFrameReader**\n",
        "\n",
        "      `spark.read.format(format).option(args).load(file_path)`\n",
        "\n",
        "### **DataFrameWriter**\n",
        "\n",
        "      `spark.write.format(format).option(args).load(file_path)`\n",
        "\n",
        "### **Lendo e Escrevendo CSV**\n",
        "Opções mais comuns : \n",
        "  - header\n",
        "  - inferSchema\n",
        "  - sep\n",
        "  - encoding"
      ]
    },
    {
      "cell_type": "code",
      "execution_count": null,
      "metadata": {
        "id": "CpsxO-pKIwpo"
      },
      "outputs": [],
      "source": [
        "#df = spark.read.format('csv').load(link_tab)\n",
        "df = spark.read.csv(link_tab,sep=',',header=True)"
      ]
    },
    {
      "cell_type": "code",
      "execution_count": null,
      "metadata": {
        "colab": {
          "base_uri": "https://localhost:8080/"
        },
        "id": "nzB9qGuIRzIR",
        "outputId": "e979ebb1-4a3e-4647-ebe0-60a144cce2d7"
      },
      "outputs": [
        {
          "name": "stdout",
          "output_type": "stream",
          "text": [
            "+------+--------------------+---------+-----------+\n",
            "|  CNAE|           DESCRIÇÃO|CÓD.SETOR| NOME SETOR|\n",
            "+------+--------------------+---------+-----------+\n",
            "|111301|    Cultivo de arroz|        1|AGRICULTURA|\n",
            "|111302|    Cultivo de milho|        1|AGRICULTURA|\n",
            "|111303|    Cultivo de trigo|        1|AGRICULTURA|\n",
            "|111399|Cultivo de outros...|        1|AGRICULTURA|\n",
            "|112101|Cultivo de algodã...|        1|AGRICULTURA|\n",
            "+------+--------------------+---------+-----------+\n",
            "\n"
          ]
        }
      ],
      "source": [
        "df.limit(5).show()"
      ]
    },
    {
      "cell_type": "markdown",
      "metadata": {
        "id": "PeQYhy08SnZQ"
      },
      "source": [
        "## **Definindo o schema**"
      ]
    },
    {
      "cell_type": "code",
      "execution_count": null,
      "metadata": {
        "id": "45I0vDwbSmPG"
      },
      "outputs": [],
      "source": [
        "schema = 'cod_cnae STRING, descricao STRING, cod_setor INT, nome_setor STRING '"
      ]
    },
    {
      "cell_type": "code",
      "execution_count": null,
      "metadata": {
        "id": "oOWwilsuTEXd"
      },
      "outputs": [],
      "source": [
        "df = spark.read.csv(link_tab,sep=',',header=True, schema=schema)"
      ]
    },
    {
      "cell_type": "code",
      "execution_count": null,
      "metadata": {
        "colab": {
          "base_uri": "https://localhost:8080/"
        },
        "id": "CKCUSC11UjL8",
        "outputId": "38cddac8-4e69-4143-f176-2c235defba2f"
      },
      "outputs": [
        {
          "data": {
            "text/plain": [
              "[('cod_cnae', 'string'),\n",
              " ('descricao', 'string'),\n",
              " ('cod_setor', 'int'),\n",
              " ('nome_setor', 'string')]"
            ]
          },
          "execution_count": 37,
          "metadata": {},
          "output_type": "execute_result"
        }
      ],
      "source": [
        "df.dtypes"
      ]
    },
    {
      "cell_type": "markdown",
      "metadata": {
        "id": "pwSdM89kUv1O"
      },
      "source": [
        "outra forma de fazer seria"
      ]
    },
    {
      "cell_type": "code",
      "execution_count": null,
      "metadata": {
        "colab": {
          "base_uri": "https://localhost:8080/"
        },
        "id": "j5Eevu8lU0LF",
        "outputId": "c5f14f98-4d2b-4aa3-810e-5403670b6f23"
      },
      "outputs": [
        {
          "name": "stdout",
          "output_type": "stream",
          "text": [
            "+--------+--------------------+---------+-----------+\n",
            "|cod_cnae|           descricao|cod_setor| nome_setor|\n",
            "+--------+--------------------+---------+-----------+\n",
            "|  111301|    Cultivo de arroz|        1|AGRICULTURA|\n",
            "|  111302|    Cultivo de milho|        1|AGRICULTURA|\n",
            "|  111303|    Cultivo de trigo|        1|AGRICULTURA|\n",
            "|  111399|Cultivo de outros...|        1|AGRICULTURA|\n",
            "|  112101|Cultivo de algodã...|        1|AGRICULTURA|\n",
            "+--------+--------------------+---------+-----------+\n",
            "\n"
          ]
        }
      ],
      "source": [
        "df = (\n",
        "    spark.read\n",
        "    .format('csv')\n",
        "    .option('header','true')\n",
        "    .option('sep',',')\n",
        "    .schema(schema)\n",
        "    .load(link_tab)\n",
        "    )\n",
        "\n",
        "df.limit(5).show()"
      ]
    },
    {
      "cell_type": "code",
      "execution_count": null,
      "metadata": {
        "colab": {
          "base_uri": "https://localhost:8080/"
        },
        "id": "egPhxkJXVOs6",
        "outputId": "5504a2df-50f0-40d0-8d4c-96ea84a2c8a5"
      },
      "outputs": [
        {
          "name": "stdout",
          "output_type": "stream",
          "text": [
            "+--------+--------------------+---------+-----------+\n",
            "|cod_cnae|           descricao|cod_setor| nome_setor|\n",
            "+--------+--------------------+---------+-----------+\n",
            "|  111301|    Cultivo de arroz|        1|AGRICULTURA|\n",
            "|  111302|    Cultivo de milho|        1|AGRICULTURA|\n",
            "|  111303|    Cultivo de trigo|        1|AGRICULTURA|\n",
            "|  111399|Cultivo de outros...|        1|AGRICULTURA|\n",
            "|  112101|Cultivo de algodã...|        1|AGRICULTURA|\n",
            "+--------+--------------------+---------+-----------+\n",
            "only showing top 5 rows\n",
            "\n"
          ]
        }
      ],
      "source": [
        "df = (\n",
        "    spark.read\n",
        "    .format('csv')\n",
        "    .options(header=True,sep=',')  \n",
        "    .schema(schema)\n",
        "    .load(link_tab)\n",
        ")\n",
        "df.show(5)"
      ]
    },
    {
      "cell_type": "markdown",
      "metadata": {
        "id": "nUtfDfgXWatV"
      },
      "source": [
        "**OBS :** Utilizando o método \"options\" podemos parametrizar melhor nossa função\n",
        " usando um dicionário"
      ]
    },
    {
      "cell_type": "code",
      "execution_count": null,
      "metadata": {
        "colab": {
          "base_uri": "https://localhost:8080/"
        },
        "id": "gsLFLB6xWG2N",
        "outputId": "87373928-d347-444f-bd2a-b1199f9f7b30"
      },
      "outputs": [
        {
          "name": "stdout",
          "output_type": "stream",
          "text": [
            "+--------+--------------------+---------+-----------+\n",
            "|cod_cnae|           descricao|cod_setor| nome_setor|\n",
            "+--------+--------------------+---------+-----------+\n",
            "|  111301|    Cultivo de arroz|        1|AGRICULTURA|\n",
            "|  111302|    Cultivo de milho|        1|AGRICULTURA|\n",
            "|  111303|    Cultivo de trigo|        1|AGRICULTURA|\n",
            "|  111399|Cultivo de outros...|        1|AGRICULTURA|\n",
            "|  112101|Cultivo de algodã...|        1|AGRICULTURA|\n",
            "+--------+--------------------+---------+-----------+\n",
            "only showing top 5 rows\n",
            "\n"
          ]
        }
      ],
      "source": [
        "options_dict = {\n",
        "    'sep' : ',' , \n",
        "    'header' : 'True'\n",
        "}\n",
        "\n",
        "df = (\n",
        "      spark.read\n",
        "    .format('csv')\n",
        "    .options(**options_dict)  \n",
        "    .schema(schema)\n",
        "    .load(link_tab)\n",
        ")\n",
        "df.show(5)"
      ]
    },
    {
      "cell_type": "code",
      "execution_count": null,
      "metadata": {
        "colab": {
          "base_uri": "https://localhost:8080/"
        },
        "id": "XWFonWIFWFqZ",
        "outputId": "a41fc6ad-3c26-4af2-9ec1-eca9d0bc0ba9"
      },
      "outputs": [
        {
          "name": "stdout",
          "output_type": "stream",
          "text": [
            "root\n",
            " |-- cod_cnae: string (nullable = true)\n",
            " |-- descricao: string (nullable = true)\n",
            " |-- cod_setor: integer (nullable = true)\n",
            " |-- nome_setor: string (nullable = true)\n",
            "\n"
          ]
        }
      ],
      "source": [
        "df.printSchema()"
      ]
    },
    {
      "cell_type": "code",
      "execution_count": null,
      "metadata": {
        "id": "le_8x-efaV61"
      },
      "outputs": [],
      "source": [
        "schema = 'cod_cnae INT, descricao STRING, cod_setor INT, nome_setor STRING '"
      ]
    },
    {
      "cell_type": "code",
      "execution_count": null,
      "metadata": {
        "colab": {
          "base_uri": "https://localhost:8080/"
        },
        "id": "jJ7CSqVCasAw",
        "outputId": "f9e642c4-84d0-4834-e02d-7d5ac0b460bb"
      },
      "outputs": [
        {
          "name": "stdout",
          "output_type": "stream",
          "text": [
            "+--------+--------------------+---------+-----------+\n",
            "|cod_cnae|           descricao|cod_setor| nome_setor|\n",
            "+--------+--------------------+---------+-----------+\n",
            "|  111301|    Cultivo de arroz|        1|AGRICULTURA|\n",
            "|  111302|    Cultivo de milho|        1|AGRICULTURA|\n",
            "|  111303|    Cultivo de trigo|        1|AGRICULTURA|\n",
            "|  111399|Cultivo de outros...|        1|AGRICULTURA|\n",
            "|  112101|Cultivo de algodã...|        1|AGRICULTURA|\n",
            "+--------+--------------------+---------+-----------+\n",
            "only showing top 5 rows\n",
            "\n"
          ]
        }
      ],
      "source": [
        "options_dict = {\n",
        "    'sep' : ',' , \n",
        "    'header' : 'True'\n",
        "}\n",
        "\n",
        "df = (\n",
        "      spark.read\n",
        "    .format('csv')\n",
        "    .options(**options_dict)  \n",
        "    .schema(schema)\n",
        "    .load(link_tab)\n",
        ")\n",
        "df.show(5)"
      ]
    },
    {
      "cell_type": "code",
      "execution_count": null,
      "metadata": {
        "colab": {
          "base_uri": "https://localhost:8080/"
        },
        "id": "ItbH1E0Uaund",
        "outputId": "17c01feb-d87b-413a-8568-09c8ac74d329"
      },
      "outputs": [
        {
          "name": "stdout",
          "output_type": "stream",
          "text": [
            "root\n",
            " |-- cod_cnae: integer (nullable = true)\n",
            " |-- descricao: string (nullable = true)\n",
            " |-- cod_setor: integer (nullable = true)\n",
            " |-- nome_setor: string (nullable = true)\n",
            "\n"
          ]
        }
      ],
      "source": [
        "df.printSchema()"
      ]
    },
    {
      "cell_type": "code",
      "execution_count": null,
      "metadata": {
        "id": "hW2evH4Pa8X5"
      },
      "outputs": [],
      "source": [
        "path_save = '/content/drive/MyDrive/igti_bootcamps/eng_dados_cloud/mod3/'"
      ]
    },
    {
      "cell_type": "code",
      "execution_count": null,
      "metadata": {
        "colab": {
          "base_uri": "https://localhost:8080/",
          "height": 329
        },
        "id": "h1jPwXbOaxh1",
        "outputId": "9586cc58-eca7-4a7a-f4d2-b43a75368b58"
      },
      "outputs": [
        {
          "ename": "AnalysisException",
          "evalue": "ignored",
          "output_type": "error",
          "traceback": [
            "\u001b[0;31m---------------------------------------------------------------------------\u001b[0m",
            "\u001b[0;31mAnalysisException\u001b[0m                         Traceback (most recent call last)",
            "\u001b[0;32m<ipython-input-46-964befd0edd4>\u001b[0m in \u001b[0;36m<module>\u001b[0;34m()\u001b[0m\n\u001b[0;32m----> 1\u001b[0;31m \u001b[0mdf\u001b[0m\u001b[0;34m.\u001b[0m\u001b[0mwrite\u001b[0m\u001b[0;34m.\u001b[0m\u001b[0mformat\u001b[0m\u001b[0;34m(\u001b[0m\u001b[0;34m'csv'\u001b[0m\u001b[0;34m)\u001b[0m\u001b[0;34m.\u001b[0m\u001b[0msave\u001b[0m\u001b[0;34m(\u001b[0m\u001b[0mpath_save\u001b[0m \u001b[0;34m+\u001b[0m \u001b[0;34m'df_cnae_teste'\u001b[0m\u001b[0;34m,\u001b[0m\u001b[0mheader\u001b[0m\u001b[0;34m=\u001b[0m\u001b[0;32mTrue\u001b[0m\u001b[0;34m)\u001b[0m\u001b[0;34m\u001b[0m\u001b[0;34m\u001b[0m\u001b[0m\n\u001b[0m",
            "\u001b[0;32m/usr/local/lib/python3.7/dist-packages/pyspark/sql/readwriter.py\u001b[0m in \u001b[0;36msave\u001b[0;34m(self, path, format, mode, partitionBy, **options)\u001b[0m\n\u001b[1;32m    738\u001b[0m             \u001b[0mself\u001b[0m\u001b[0;34m.\u001b[0m\u001b[0m_jwrite\u001b[0m\u001b[0;34m.\u001b[0m\u001b[0msave\u001b[0m\u001b[0;34m(\u001b[0m\u001b[0;34m)\u001b[0m\u001b[0;34m\u001b[0m\u001b[0;34m\u001b[0m\u001b[0m\n\u001b[1;32m    739\u001b[0m         \u001b[0;32melse\u001b[0m\u001b[0;34m:\u001b[0m\u001b[0;34m\u001b[0m\u001b[0;34m\u001b[0m\u001b[0m\n\u001b[0;32m--> 740\u001b[0;31m             \u001b[0mself\u001b[0m\u001b[0;34m.\u001b[0m\u001b[0m_jwrite\u001b[0m\u001b[0;34m.\u001b[0m\u001b[0msave\u001b[0m\u001b[0;34m(\u001b[0m\u001b[0mpath\u001b[0m\u001b[0;34m)\u001b[0m\u001b[0;34m\u001b[0m\u001b[0;34m\u001b[0m\u001b[0m\n\u001b[0m\u001b[1;32m    741\u001b[0m \u001b[0;34m\u001b[0m\u001b[0m\n\u001b[1;32m    742\u001b[0m     \u001b[0;34m@\u001b[0m\u001b[0msince\u001b[0m\u001b[0;34m(\u001b[0m\u001b[0;36m1.4\u001b[0m\u001b[0;34m)\u001b[0m\u001b[0;34m\u001b[0m\u001b[0;34m\u001b[0m\u001b[0m\n",
            "\u001b[0;32m/usr/local/lib/python3.7/dist-packages/py4j/java_gateway.py\u001b[0m in \u001b[0;36m__call__\u001b[0;34m(self, *args)\u001b[0m\n\u001b[1;32m   1308\u001b[0m         \u001b[0manswer\u001b[0m \u001b[0;34m=\u001b[0m \u001b[0mself\u001b[0m\u001b[0;34m.\u001b[0m\u001b[0mgateway_client\u001b[0m\u001b[0;34m.\u001b[0m\u001b[0msend_command\u001b[0m\u001b[0;34m(\u001b[0m\u001b[0mcommand\u001b[0m\u001b[0;34m)\u001b[0m\u001b[0;34m\u001b[0m\u001b[0;34m\u001b[0m\u001b[0m\n\u001b[1;32m   1309\u001b[0m         return_value = get_return_value(\n\u001b[0;32m-> 1310\u001b[0;31m             answer, self.gateway_client, self.target_id, self.name)\n\u001b[0m\u001b[1;32m   1311\u001b[0m \u001b[0;34m\u001b[0m\u001b[0m\n\u001b[1;32m   1312\u001b[0m         \u001b[0;32mfor\u001b[0m \u001b[0mtemp_arg\u001b[0m \u001b[0;32min\u001b[0m \u001b[0mtemp_args\u001b[0m\u001b[0;34m:\u001b[0m\u001b[0;34m\u001b[0m\u001b[0;34m\u001b[0m\u001b[0m\n",
            "\u001b[0;32m/usr/local/lib/python3.7/dist-packages/pyspark/sql/utils.py\u001b[0m in \u001b[0;36mdeco\u001b[0;34m(*a, **kw)\u001b[0m\n\u001b[1;32m    115\u001b[0m                 \u001b[0;31m# Hide where the exception came from that shows a non-Pythonic\u001b[0m\u001b[0;34m\u001b[0m\u001b[0;34m\u001b[0m\u001b[0;34m\u001b[0m\u001b[0m\n\u001b[1;32m    116\u001b[0m                 \u001b[0;31m# JVM exception message.\u001b[0m\u001b[0;34m\u001b[0m\u001b[0;34m\u001b[0m\u001b[0;34m\u001b[0m\u001b[0m\n\u001b[0;32m--> 117\u001b[0;31m                 \u001b[0;32mraise\u001b[0m \u001b[0mconverted\u001b[0m \u001b[0;32mfrom\u001b[0m \u001b[0;32mNone\u001b[0m\u001b[0;34m\u001b[0m\u001b[0;34m\u001b[0m\u001b[0m\n\u001b[0m\u001b[1;32m    118\u001b[0m             \u001b[0;32melse\u001b[0m\u001b[0;34m:\u001b[0m\u001b[0;34m\u001b[0m\u001b[0;34m\u001b[0m\u001b[0m\n\u001b[1;32m    119\u001b[0m                 \u001b[0;32mraise\u001b[0m\u001b[0;34m\u001b[0m\u001b[0;34m\u001b[0m\u001b[0m\n",
            "\u001b[0;31mAnalysisException\u001b[0m: path file:/content/drive/MyDrive/igti_bootcamps/eng_dados_cloud/mod3/df_cnae_teste already exists."
          ]
        }
      ],
      "source": [
        "#df.write.format('csv').save(path_save + 'df_cnae_teste',header=True)"
      ]
    },
    {
      "cell_type": "code",
      "execution_count": null,
      "metadata": {
        "colab": {
          "base_uri": "https://localhost:8080/"
        },
        "id": "ak-adfrrbZea",
        "outputId": "776378a1-8f35-403c-d759-978e97da6008"
      },
      "outputs": [
        {
          "name": "stdout",
          "output_type": "stream",
          "text": [
            "root\n",
            " |-- cod_cnae: string (nullable = true)\n",
            " |-- descricao: string (nullable = true)\n",
            " |-- cod_setor: string (nullable = true)\n",
            " |-- nome_setor: string (nullable = true)\n",
            "\n"
          ]
        }
      ],
      "source": [
        "spark.read.format('csv').load(path_save + 'df_cnae_teste',header=True).printSchema()"
      ]
    },
    {
      "cell_type": "code",
      "execution_count": null,
      "metadata": {
        "id": "vAcKHd-ncUO4"
      },
      "outputs": [],
      "source": [
        "df.toPandas().to_csv(\n",
        "    path_save + 'df_cnae_teste.csv',\n",
        "    index=False, header=True\n",
        "    )"
      ]
    }
  ],
  "metadata": {
    "colab": {
      "authorship_tag": "ABX9TyNhklriGCpwV/m5AfLw4VBZ",
      "mount_file_id": "1FvRFSbtRX7-WnSqW2y-8xHwZLTzU8bDt",
      "name": "EDC_cap3.ipynb",
      "provenance": [],
      "toc_visible": true
    },
    "kernelspec": {
      "display_name": "Python 3",
      "name": "python3"
    },
    "language_info": {
      "name": "python"
    }
  },
  "nbformat": 4,
  "nbformat_minor": 0
}
