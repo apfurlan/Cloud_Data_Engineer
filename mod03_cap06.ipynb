{
  "cells": [
    {
      "cell_type": "code",
      "execution_count": 5,
      "metadata": {
        "id": "RZekYaaSZyjY"
      },
      "outputs": [],
      "source": [
        "%%bash\n",
        "\n",
        "# Instal Java\n",
        "apt-get install openjdk-8-jdk-headless -qq > /dev/null\n",
        "\n",
        "# Install PySpark\n",
        "pip install -q pyspark"
      ]
    },
    {
      "cell_type": "code",
      "execution_count": 6,
      "metadata": {
        "id": "iXRO5hfLaA4i"
      },
      "outputs": [],
      "source": [
        "import os\n",
        "os.environ['JAVA_HOME'] = '/usr/lib/jvm/java-8-openjdk-amd64'\n",
        "\n",
        "from pyspark.sql import SparkSession\n",
        "\n",
        "#spark = SparkSession.builder.master(\"local[*]\").getOrCreate()"
      ]
    },
    {
      "cell_type": "code",
      "execution_count": null,
      "metadata": {
        "id": "SEDiR49tcNAG"
      },
      "outputs": [],
      "source": [
        "from os.path import abspath\n",
        "warehouse_location = abspath('../content/drive/MyDrive/igti_bootcamps/eng_dados_cloud/mod3/spark-warehouse')"
      ]
    },
    {
      "cell_type": "markdown",
      "metadata": {
        "id": "l5w91KYsamsy"
      },
      "source": [
        "# Class 01 - **Configuring and Scaling Spark**"
      ]
    },
    {
      "cell_type": "code",
      "execution_count": null,
      "metadata": {
        "colab": {
          "base_uri": "https://localhost:8080/"
        },
        "id": "li34NGeDy7Bi",
        "outputId": "242c8481-8919-47d1-b450-9ce5c0b9f7a3"
      },
      "outputs": [
        {
          "name": "stdout",
          "output_type": "stream",
          "text": [
            "Collecting findspark\n",
            "  Downloading findspark-2.0.1-py2.py3-none-any.whl (4.4 kB)\n",
            "Installing collected packages: findspark\n",
            "Successfully installed findspark-2.0.1\n"
          ]
        }
      ],
      "source": [
        "!pip install findspark"
      ]
    },
    {
      "cell_type": "code",
      "execution_count": null,
      "metadata": {
        "id": "CtjykB7Dzeji"
      },
      "outputs": [],
      "source": [
        "import findspark\n",
        "\n",
        "findspark.init()"
      ]
    },
    {
      "cell_type": "code",
      "execution_count": null,
      "metadata": {
        "id": "_fRNvtutaXXu"
      },
      "outputs": [],
      "source": [
        "spark = (\n",
        "    SparkSession\n",
        "    .builder\n",
        "    .config('spark.serializer','org.apache.spark.serializer.KryoSerializer')\n",
        "    .config('spark.driver.memory','8g')\n",
        "    .getOrCreate()\n",
        ") "
      ]
    },
    {
      "cell_type": "code",
      "execution_count": null,
      "metadata": {
        "colab": {
          "base_uri": "https://localhost:8080/",
          "height": 35
        },
        "id": "abaBmCYiBgHd",
        "outputId": "d1c09e4a-0e0e-4b6f-ab02-71be1a51c4c3"
      },
      "outputs": [
        {
          "data": {
            "application/vnd.google.colaboratory.intrinsic+json": {
              "type": "string"
            },
            "text/plain": [
              "'8g'"
            ]
          },
          "execution_count": 13,
          "metadata": {},
          "output_type": "execute_result"
        }
      ],
      "source": [
        "spark.conf.get('spark.driver.memory')"
      ]
    },
    {
      "cell_type": "code",
      "execution_count": null,
      "metadata": {
        "colab": {
          "base_uri": "https://localhost:8080/",
          "height": 35
        },
        "id": "JziR82hfI9zz",
        "outputId": "f58d3bdf-a867-4425-f7b5-30984defec80"
      },
      "outputs": [
        {
          "data": {
            "application/vnd.google.colaboratory.intrinsic+json": {
              "type": "string"
            },
            "text/plain": [
              "'org.apache.spark.serializer.KryoSerializer'"
            ]
          },
          "execution_count": 14,
          "metadata": {},
          "output_type": "execute_result"
        }
      ],
      "source": [
        "spark.conf.get('spark.serializer')"
      ]
    },
    {
      "cell_type": "markdown",
      "metadata": {
        "id": "pDIXLGnXdds8"
      },
      "source": [
        " - `spark.master` : Select the deploy mode of Spark application.\n",
        " - `spark.driver.memory` : Amount of memory used by the driver of application\n",
        " - `spark.executor.memory` : Amount of memory used by the executor\n",
        " - `spark.serializer` : Class used to perform an serialization along the execution. It is recommended to use the value 'org.apache.spark.serializer.KryoSerializer' to gain processing speed. It is 10x faster than the default.\n",
        " - `spark.executor.heartbeatInterval` : Interval between executor messages to driver. Increasing this value prevents the application from suffering from timeouts.\n",
        " - `spark.sql.adaptive.enabled` : Set the Adaptive Query Execution. It is a program that updates the execution plan along the run with metrics collected during the process. Enabling this setting can optimize processing significantly. \n",
        " - `spark.sql.shuffle.partitions` : Number of partitions used in shuffle operations like joins and agg. \n",
        " - `spark.sql.broadcastTimeout` : Timeout limit in seconds."
      ]
    },
    {
      "cell_type": "markdown",
      "metadata": {
        "id": "ATQg2Zma_OHj"
      },
      "source": [
        "**Making Spark Scalable**\n",
        "\n",
        "- `spark.dynamicAllocation.enabled` : Enable dynamic allocation\n",
        "- `spark.dynamicAllocation.executorIdleTimeout` : configure the maximum idle time of an executor.  \n",
        "- `spark.synamicAllocation.initialExecutors` : Initial quantity of executors \n",
        "- `spark.dynamicAllocation.maxExecutors` : Maximum quantity of executors\n",
        "- `spark.dynamicAllocation.minExecutors` : Minimum quantity of executors"
      ]
    },
    {
      "cell_type": "code",
      "execution_count": null,
      "metadata": {
        "id": "2PnDiIHQauG_"
      },
      "outputs": [],
      "source": [
        "spark.conf.set('spark.sql.shuffle.partitions',100)"
      ]
    },
    {
      "cell_type": "code",
      "execution_count": null,
      "metadata": {
        "colab": {
          "base_uri": "https://localhost:8080/",
          "height": 35
        },
        "id": "oJbdkCr0B89W",
        "outputId": "435790fc-98e6-4d51-93ac-bb197900c810"
      },
      "outputs": [
        {
          "data": {
            "application/vnd.google.colaboratory.intrinsic+json": {
              "type": "string"
            },
            "text/plain": [
              "'100'"
            ]
          },
          "execution_count": 18,
          "metadata": {},
          "output_type": "execute_result"
        }
      ],
      "source": [
        "spark.conf.get('spark.sql.shuffle.partitions')"
      ]
    },
    {
      "cell_type": "markdown",
      "metadata": {
        "id": "cgAvQ24s9W_z"
      },
      "source": [
        "\n",
        "\n",
        "---\n",
        "\n"
      ]
    },
    {
      "cell_type": "markdown",
      "metadata": {
        "id": "3fqXVAvMCtgv"
      },
      "source": [
        "# Class 02 - **In-memory Data Persistence**"
      ]
    },
    {
      "cell_type": "code",
      "execution_count": 7,
      "metadata": {
        "id": "YZZ0z7zXNk0M"
      },
      "outputs": [],
      "source": [
        "import pyspark.sql.functions as f"
      ]
    },
    {
      "cell_type": "code",
      "execution_count": 8,
      "metadata": {
        "id": "tAQC_jV4JMCo"
      },
      "outputs": [],
      "source": [
        "spark = (\n",
        "    SparkSession\n",
        "    .builder\n",
        "    .getOrCreate()\n",
        ") "
      ]
    },
    {
      "cell_type": "code",
      "execution_count": 9,
      "metadata": {
        "id": "No8sE32LC53I"
      },
      "outputs": [],
      "source": [
        "imdb_path = '/content/drive/MyDrive/igti_bootcamps/eng_dados_cloud/mod3/title_basics.csv'"
      ]
    },
    {
      "cell_type": "code",
      "execution_count": 10,
      "metadata": {
        "colab": {
          "base_uri": "https://localhost:8080/"
        },
        "id": "Fe0fDE4SF51L",
        "outputId": "9d69e354-462d-49bf-a1c0-53ff48b14f3d"
      },
      "outputs": [
        {
          "output_type": "stream",
          "name": "stdout",
          "text": [
            "+---------+---------+--------------------+--------------------+-------+---------+-------+--------------+--------------------+\n",
            "|   tconst|titleType|        primaryTitle|       originalTitle|isAdult|startYear|endYear|runtimeMinutes|              genres|\n",
            "+---------+---------+--------------------+--------------------+-------+---------+-------+--------------+--------------------+\n",
            "|tt0000001|    short|          Carmencita|          Carmencita|      0|     1894|     \\N|             1|   Documentary,Short|\n",
            "|tt0000002|    short|Le clown et ses c...|Le clown et ses c...|      0|     1892|     \\N|             5|     Animation,Short|\n",
            "|tt0000003|    short|      Pauvre Pierrot|      Pauvre Pierrot|      0|     1892|     \\N|             4|Animation,Comedy,...|\n",
            "|tt0000004|    short|         Un bon bock|         Un bon bock|      0|     1892|     \\N|            12|     Animation,Short|\n",
            "|tt0000005|    short|    Blacksmith Scene|    Blacksmith Scene|      0|     1893|     \\N|             1|        Comedy,Short|\n",
            "+---------+---------+--------------------+--------------------+-------+---------+-------+--------------+--------------------+\n",
            "only showing top 5 rows\n",
            "\n"
          ]
        }
      ],
      "source": [
        "options_dict = {\n",
        "    'sep' : '\\t' , \n",
        "    'header' : 'True'\n",
        "}\n",
        "\n",
        "df_titles = (\n",
        "      spark.read\n",
        "    .format('csv')\n",
        "    .options(**options_dict)  \n",
        "    .load(imdb_path)\n",
        ")\n",
        "\n",
        "df_titles.show(5)"
      ]
    },
    {
      "cell_type": "code",
      "execution_count": 14,
      "metadata": {
        "id": "GCOWWD7MJRP6"
      },
      "outputs": [],
      "source": [
        "df_titles_sample = df_titles.sample(fraction=0.1)"
      ]
    },
    {
      "cell_type": "code",
      "execution_count": 15,
      "metadata": {
        "colab": {
          "base_uri": "https://localhost:8080/"
        },
        "id": "kFpVJ_jAJWu0",
        "outputId": "3330dfb2-5da8-4bbb-85c1-74ab0b474e85"
      },
      "outputs": [
        {
          "output_type": "stream",
          "name": "stdout",
          "text": [
            "+---------+---------+--------------------+--------------------+-------+---------+-------+--------------+--------------------+\n",
            "|   tconst|titleType|        primaryTitle|       originalTitle|isAdult|startYear|endYear|runtimeMinutes|              genres|\n",
            "+---------+---------+--------------------+--------------------+-------+---------+-------+--------------+--------------------+\n",
            "|tt0000020|    short|      The Derby 1895|      The Derby 1895|      0|     1895|     \\N|             1|Documentary,Short...|\n",
            "|tt0000030|    short|  Rough Sea at Dover|  Rough Sea at Dover|      0|     1895|     \\N|             1|   Documentary,Short|\n",
            "|tt0000041|    short|   Bataille de neige|   Bataille de neige|      0|     1897|     \\N|             1|Comedy,Documentar...|\n",
            "|tt0000048|    short| The Boxing Kangaroo| The Boxing Kangaroo|      0|     1896|     \\N|            \\N|               Short|\n",
            "|tt0000057|    short|Cortège de tzar a...|Cortège de tzar a...|      0|     1896|     \\N|            \\N|   Documentary,Short|\n",
            "|tt0000060|    short|     Dancing Darkies|     Dancing Darkies|      0|     1896|     \\N|            \\N|   Documentary,Short|\n",
            "|tt0000061|    short|       Dancing Girls|       Dancing Girls|      0|     1896|     \\N|            \\N|               Short|\n",
            "|tt0000066|    short|Dessinateur: Von ...|Dessinateur: Von ...|      0|     1896|     \\N|            \\N|               Short|\n",
            "|tt0000073|    short|Effets de mer sur...|Effets de mer sur...|      0|     1896|     \\N|            \\N|   Documentary,Short|\n",
            "|tt0000075|    short|The Conjuring of ...|Escamotage d'une ...|      0|     1896|     \\N|             1|        Horror,Short|\n",
            "|tt0000092|    short|Marée montante su...|Marée montante su...|      0|     1896|     \\N|            \\N|   Documentary,Short|\n",
            "|tt0000093|    short|           Melbourne|           Melbourne|      0|     1896|     \\N|            \\N|   Documentary,Short|\n",
            "|tt0000095|    short|The Mysterious Paper|    Le papier protée|      0|     1896|     \\N|            \\N|               Short|\n",
            "|tt0000113|    short|Rip's Twenty Year...|Rip's Twenty Year...|      0|     1896|     \\N|             0|         Drama,Short|\n",
            "|tt0000114|    short|French Regiment G...|         Le régiment|      0|     1896|     \\N|            \\N|   Documentary,Short|\n",
            "|tt0000120|    short|Rescue on the Riv...|Sauvetage en rivi...|      0|     1896|     \\N|            \\N|   Documentary,Short|\n",
            "|tt0000129|    short|     Un petit diable|     Un petit diable|      0|     1896|     \\N|            \\N|               Short|\n",
            "|tt0000138|    short|   The Bewitched Inn|L'auberge ensorcelée|      0|     1897|     \\N|             2| Comedy,Horror,Short|\n",
            "|tt0000142|    short|Buffalo Bill and ...|Buffalo Bill and ...|      0|     1897|     \\N|            \\N|          News,Short|\n",
            "|tt0000144|    short| Chez le magnétiseur| Chez le magnétiseur|      0|     1897|     \\N|             1|        Comedy,Short|\n",
            "+---------+---------+--------------------+--------------------+-------+---------+-------+--------------+--------------------+\n",
            "only showing top 20 rows\n",
            "\n"
          ]
        }
      ],
      "source": [
        "df_titles_sample.show()"
      ]
    },
    {
      "cell_type": "code",
      "execution_count": 11,
      "metadata": {
        "id": "Z6SKmm1oKMbM"
      },
      "outputs": [],
      "source": [
        "ratings_path = '/content/drive/MyDrive/igti_bootcamps/eng_dados_cloud/mod3/title_ratings.tsv'"
      ]
    },
    {
      "cell_type": "code",
      "execution_count": 12,
      "metadata": {
        "colab": {
          "base_uri": "https://localhost:8080/"
        },
        "id": "MFjJKWPrKlWI",
        "outputId": "2b092f1a-5156-45da-be90-9d94abc46cc9"
      },
      "outputs": [
        {
          "output_type": "stream",
          "name": "stdout",
          "text": [
            "+---------+-------------+--------+\n",
            "|   tconst|averageRating|numVotes|\n",
            "+---------+-------------+--------+\n",
            "|tt0000001|          5.7|    1879|\n",
            "|tt0000002|          5.9|     248|\n",
            "|tt0000003|          6.5|    1652|\n",
            "|tt0000004|          5.8|     161|\n",
            "|tt0000005|          6.2|    2476|\n",
            "+---------+-------------+--------+\n",
            "only showing top 5 rows\n",
            "\n"
          ]
        }
      ],
      "source": [
        "options_dict = {\n",
        "    'sep' : '\\t' , \n",
        "    'header' : 'True'\n",
        "}\n",
        "\n",
        "df_ratings = (\n",
        "      spark.read\n",
        "    .format('csv')\n",
        "    .options(**options_dict)  \n",
        "    .load(ratings_path)\n",
        ")\n",
        "\n",
        "df_ratings.show(5)"
      ]
    },
    {
      "cell_type": "code",
      "execution_count": 16,
      "metadata": {
        "id": "vwnyGsNvLLBv"
      },
      "outputs": [],
      "source": [
        "int_cols = ['startYear','endYear','runtimeMinutes','isAdult']\n",
        "\n",
        "for c in int_cols : \n",
        "  df_titles_sample = (\n",
        "      df_titles_sample\n",
        "      .withColumn(c,f.col(c).cast('int'))\n",
        "  )\n",
        "\n",
        "#limpa as string\n",
        "str_cols = ['primaryTitle','originalTitle','titleType']\n",
        "for c in str_cols: \n",
        "  df_titles_sample = (\n",
        "      df_titles_sample \n",
        "      .withColumn(c, f.initcap(f.trim(f.col(c))))\n",
        "  )"
      ]
    },
    {
      "cell_type": "code",
      "execution_count": 17,
      "metadata": {
        "colab": {
          "base_uri": "https://localhost:8080/"
        },
        "id": "owNXJIE3NuvL",
        "outputId": "6d66f034-47d6-4ad4-dd15-8bf761b2b99b"
      },
      "outputs": [
        {
          "output_type": "stream",
          "name": "stdout",
          "text": [
            "+---------+---------+--------------------+--------------------+-------+---------+-------+--------------+--------------------+\n",
            "|   tconst|titleType|        primaryTitle|       originalTitle|isAdult|startYear|endYear|runtimeMinutes|              genres|\n",
            "+---------+---------+--------------------+--------------------+-------+---------+-------+--------------+--------------------+\n",
            "|tt0000020|    Short|      The Derby 1895|      The Derby 1895|      0|     1895|   null|             1|Documentary,Short...|\n",
            "|tt0000030|    Short|  Rough Sea At Dover|  Rough Sea At Dover|      0|     1895|   null|             1|   Documentary,Short|\n",
            "|tt0000041|    Short|   Bataille De Neige|   Bataille De Neige|      0|     1897|   null|             1|Comedy,Documentar...|\n",
            "|tt0000048|    Short| The Boxing Kangaroo| The Boxing Kangaroo|      0|     1896|   null|          null|               Short|\n",
            "|tt0000057|    Short|Cortège De Tzar A...|Cortège De Tzar A...|      0|     1896|   null|          null|   Documentary,Short|\n",
            "|tt0000060|    Short|     Dancing Darkies|     Dancing Darkies|      0|     1896|   null|          null|   Documentary,Short|\n",
            "|tt0000061|    Short|       Dancing Girls|       Dancing Girls|      0|     1896|   null|          null|               Short|\n",
            "|tt0000066|    Short|Dessinateur: Von ...|Dessinateur: Von ...|      0|     1896|   null|          null|               Short|\n",
            "|tt0000073|    Short|Effets De Mer Sur...|Effets De Mer Sur...|      0|     1896|   null|          null|   Documentary,Short|\n",
            "|tt0000075|    Short|The Conjuring Of ...|Escamotage D'une ...|      0|     1896|   null|             1|        Horror,Short|\n",
            "|tt0000092|    Short|Marée Montante Su...|Marée Montante Su...|      0|     1896|   null|          null|   Documentary,Short|\n",
            "|tt0000093|    Short|           Melbourne|           Melbourne|      0|     1896|   null|          null|   Documentary,Short|\n",
            "|tt0000095|    Short|The Mysterious Paper|    Le Papier Protée|      0|     1896|   null|          null|               Short|\n",
            "|tt0000113|    Short|Rip's Twenty Year...|Rip's Twenty Year...|      0|     1896|   null|             0|         Drama,Short|\n",
            "|tt0000114|    Short|French Regiment G...|         Le Régiment|      0|     1896|   null|          null|   Documentary,Short|\n",
            "|tt0000120|    Short|Rescue On The Riv...|Sauvetage En Rivi...|      0|     1896|   null|          null|   Documentary,Short|\n",
            "|tt0000129|    Short|     Un Petit Diable|     Un Petit Diable|      0|     1896|   null|          null|               Short|\n",
            "|tt0000138|    Short|   The Bewitched Inn|L'auberge Ensorcelée|      0|     1897|   null|             2| Comedy,Horror,Short|\n",
            "|tt0000142|    Short|Buffalo Bill And ...|Buffalo Bill And ...|      0|     1897|   null|          null|          News,Short|\n",
            "|tt0000144|    Short| Chez Le Magnétiseur| Chez Le Magnétiseur|      0|     1897|   null|             1|        Comedy,Short|\n",
            "+---------+---------+--------------------+--------------------+-------+---------+-------+--------------+--------------------+\n",
            "only showing top 20 rows\n",
            "\n"
          ]
        }
      ],
      "source": [
        "df_titles_sample.show()"
      ]
    },
    {
      "cell_type": "code",
      "execution_count": 18,
      "metadata": {
        "colab": {
          "base_uri": "https://localhost:8080/"
        },
        "id": "VtdVP5drN5_t",
        "outputId": "d371078a-ad7d-47f5-a16e-25dd277dbcf7"
      },
      "outputs": [
        {
          "output_type": "stream",
          "name": "stdout",
          "text": [
            "root\n",
            " |-- tconst: string (nullable = true)\n",
            " |-- titleType: string (nullable = true)\n",
            " |-- primaryTitle: string (nullable = true)\n",
            " |-- originalTitle: string (nullable = true)\n",
            " |-- isAdult: integer (nullable = true)\n",
            " |-- startYear: integer (nullable = true)\n",
            " |-- endYear: integer (nullable = true)\n",
            " |-- runtimeMinutes: integer (nullable = true)\n",
            " |-- genres: string (nullable = true)\n",
            "\n"
          ]
        }
      ],
      "source": [
        "df_titles_sample.printSchema()"
      ]
    },
    {
      "cell_type": "code",
      "execution_count": 19,
      "metadata": {
        "id": "eEq-h6z_OFRL"
      },
      "outputs": [],
      "source": [
        "df_join = (\n",
        "    df_titles_sample\n",
        "    .replace('\\\\N',None)\n",
        "    .withColumn('genres',f.split(f.col('genres'),','))\n",
        "    .join(df_ratings,'tconst','left')\n",
        ")"
      ]
    },
    {
      "cell_type": "code",
      "execution_count": 20,
      "metadata": {
        "colab": {
          "base_uri": "https://localhost:8080/"
        },
        "id": "2AbvJi0AO589",
        "outputId": "c82acdd5-96dc-4ada-8be5-cc59d6186455"
      },
      "outputs": [
        {
          "output_type": "stream",
          "name": "stdout",
          "text": [
            "+----------+---------+--------------------+--------------------+-------+---------+-------+--------------+--------------------+-------------+--------+\n",
            "|    tconst|titleType|        primaryTitle|       originalTitle|isAdult|startYear|endYear|runtimeMinutes|              genres|averageRating|numVotes|\n",
            "+----------+---------+--------------------+--------------------+-------+---------+-------+--------------+--------------------+-------------+--------+\n",
            "| tt0000030|    Short|  Rough Sea At Dover|  Rough Sea At Dover|      0|     1895|   null|             1|[Documentary, Short]|          5.2|     800|\n",
            "| tt0000041|    Short|   Bataille De Neige|   Bataille De Neige|      0|     1897|   null|             1|[Comedy, Document...|          6.8|    1730|\n",
            "| tt0000048|    Short| The Boxing Kangaroo| The Boxing Kangaroo|      0|     1896|   null|          null|             [Short]|          4.9|     176|\n",
            "| tt0000061|    Short|       Dancing Girls|       Dancing Girls|      0|     1896|   null|          null|             [Short]|          4.1|      23|\n",
            "| tt0000073|    Short|Effets De Mer Sur...|Effets De Mer Sur...|      0|     1896|   null|          null|[Documentary, Short]|          3.6|      29|\n",
            "| tt0000075|    Short|The Conjuring Of ...|Escamotage D'une ...|      0|     1896|   null|             1|     [Horror, Short]|          6.3|    1813|\n",
            "| tt0000092|    Short|Marée Montante Su...|Marée Montante Su...|      0|     1896|   null|          null|[Documentary, Short]|          4.7|      28|\n",
            "| tt0000095|    Short|The Mysterious Paper|    Le Papier Protée|      0|     1896|   null|          null|             [Short]|          4.8|      33|\n",
            "| tt0000142|    Short|Buffalo Bill And ...|Buffalo Bill And ...|      0|     1897|   null|          null|       [News, Short]|          4.7|      28|\n",
            "| tt0000145|    Short|           En Classe|           En Classe|      0|     1897|   null|          null|     [Comedy, Short]|          3.9|      13|\n",
            "| tt1111172|Tvepisode|        Episode #2.6|        Episode #2.6|      0|     2007|   null|          null|         [Talk-Show]|         null|    null|\n",
            "| tt1111178|Tvepisode|Accidental Encoun...|Accidental Encoun...|      0|     2005|   null|          null|        [Reality-TV]|         null|    null|\n",
            "|tt11111812|Tvepisode|La Imminent Sentè...|La Imminent Sentè...|      0|     2019|   null|          null|         [Talk-Show]|         null|    null|\n",
            "|tt11111878|Tvepisode|Episode Dated 15 ...|Episode Dated 15 ...|      0|     2019|   null|          null|                null|         null|    null|\n",
            "|tt11111914| Tvseries|       Shock Theatre|       Shock Theatre|      0|     1975|   1979|          null|[Fantasy, Horror,...|         null|    null|\n",
            "|tt11112014|Tvepisode|        Episode #1.5|        Episode #1.5|      0|     1987|   null|          null|             [Drama]|         null|    null|\n",
            "| tt1111203|Tvepisode|I'm A Queen In Dr...|I'm A Queen In Dr...|      0|     1996|   null|          null|         [Talk-Show]|         null|    null|\n",
            "|tt11112034|Tvepisode|W-1 Ryota Hama 5t...|W-1 Ryota Hama 5t...|      0|     2013|   null|          null|             [Sport]|         null|    null|\n",
            "|tt11112052|Tvepisode|           Roy Keane|           Roy Keane|      0|     2011|   null|          null|             [Sport]|         null|    null|\n",
            "|tt11112094|Tvepisode|W-1 Wrestle-1 Tou...|W-1 Wrestle-1 Tou...|      0|     2013|   null|          null|             [Sport]|         null|    null|\n",
            "+----------+---------+--------------------+--------------------+-------+---------+-------+--------------+--------------------+-------------+--------+\n",
            "only showing top 20 rows\n",
            "\n"
          ]
        }
      ],
      "source": [
        "df_join.show()"
      ]
    },
    {
      "cell_type": "code",
      "execution_count": 21,
      "metadata": {
        "id": "8UQjX_PzPSSi"
      },
      "outputs": [],
      "source": [
        "df_final = (\n",
        "    df_join.withColumn('genres', f.explode(f.col('genres')))\n",
        "    .groupBy('titleType')\n",
        "    .pivot('genres')\n",
        "    .agg(f.round(f.mean('averageRating'),2))\n",
        "    .fillna(0)\n",
        ")"
      ]
    },
    {
      "cell_type": "code",
      "execution_count": 22,
      "metadata": {
        "colab": {
          "base_uri": "https://localhost:8080/"
        },
        "id": "vnxEBP0RQQDS",
        "outputId": "cc5b6bc2-e3c5-49d8-c14a-c71c076408bc"
      },
      "outputs": [
        {
          "output_type": "stream",
          "name": "stdout",
          "text": [
            "+------------+------+-----+---------+---------+---------+------+-----+-----------+-----+------+-------+---------+---------+-------+------+-----+-------+-------+----+----------+-------+------+-----+-----+---------+--------+----+-------+\n",
            "|   titleType|Action|Adult|Adventure|Animation|Biography|Comedy|Crime|Documentary|Drama|Family|Fantasy|Film-Noir|Game-Show|History|Horror|Music|Musical|Mystery|News|Reality-TV|Romance|Sci-Fi|Short|Sport|Talk-Show|Thriller| War|Western|\n",
            "+------------+------+-----+---------+---------+---------+------+-----+-----------+-----+------+-------+---------+---------+-------+------+-----+-------+-------+----+----------+-------+------+-----+-----+---------+--------+----+-------+\n",
            "|   Tvepisode|  7.45| 6.49|     7.36|     7.28|     7.41|  7.35|  7.5|       7.51| 7.56|  7.33|    7.5|      0.0|     7.08|   7.65|  7.36| 7.09|    7.4|   7.53|6.88|      7.01|   7.43|  7.43| 7.04| 7.15|     6.93|    7.43| 7.8|    7.7|\n",
            "|       Video|  5.98| 6.49|     5.86|     6.34|     7.29|  6.36| 5.75|       6.94| 6.12|  6.55|   6.24|      0.0|      6.0|   6.58|  5.14| 7.83|    7.1|   6.07|6.04|      6.14|    6.4|  5.85| 6.81| 7.18|     7.71|    5.26|6.53|   5.83|\n",
            "|   Videogame|   6.9| 7.65|     7.18|     6.83|      0.0|  7.25| 7.36|        0.0| 7.46|  6.75|   7.16|      0.0|     6.33|   7.24|  7.17| 7.36|   8.75|    7.5| 0.0|       6.5|   6.44|  6.88|  0.0| 6.75|      0.0|    6.65|6.98|   7.43|\n",
            "|Tvminiseries|  6.81| 6.02|     6.97|     6.79|     7.19|   6.9| 6.88|       7.52| 7.04|  7.38|   7.02|      0.0|      5.5|    7.5|  6.93| 7.49|   6.33|   7.04|6.07|      6.65|   6.73|  6.69| 6.67| 7.33|     7.99|    6.68|7.31|   7.48|\n",
            "|     Tvmovie|  5.45| 6.13|     5.93|     6.73|     6.95|  6.52| 6.23|       7.07| 6.52|  6.43|   6.32|      0.0|      0.0|   7.14|  5.42|  7.5|   7.29|   6.02|6.45|      5.66|   6.09|  5.58|  8.2| 7.07|      5.6|    5.49|7.13|   6.71|\n",
            "|    Tvseries|  6.95| 6.03|     7.21|     6.94|     7.17|   6.8| 6.94|       7.28| 6.97|  6.91|   7.12|      0.0|     5.88|   7.38|  6.94| 6.36|   6.82|   7.19|5.91|      6.09|   6.86|  6.75| 6.98| 7.15|     6.22|    7.09|7.46|   7.52|\n",
            "|       Movie|  5.68| 5.73|     5.86|     6.36|     6.96|  5.89| 5.95|        7.2| 6.22|  6.16|   5.96|      6.5|      0.0|   6.81|  4.96| 6.76|   6.12|   5.84|7.14|      7.55|   6.05|  5.26|  0.0| 6.58|      0.0|    5.53|6.38|    5.9|\n",
            "|     Tvshort|  7.54|  0.0|     6.17|     6.86|      6.6|  6.85|  6.5|       6.38| 6.81|   6.9|   6.58|      0.0|      0.0|    9.1|  7.44|  5.8|   6.87|   6.84| 8.6|       7.2|   6.35|   7.0| 6.87|  7.4|      7.6|     6.6| 0.0|    7.4|\n",
            "|       Short|  7.13| 6.15|     7.09|     6.51|     7.49|  6.81| 7.25|       6.67| 7.08|  6.94|   7.01|      0.0|      0.0|   7.16|  6.62| 6.63|   6.65|   7.26|6.37|       5.5|   7.12|  6.84| 6.78| 6.35|     6.85|    7.08|6.76|   6.26|\n",
            "|   Tvspecial|  6.93|  6.6|     5.83|     6.03|     6.96|  6.92| 8.55|       7.15|  6.9|   6.4|   7.54|      0.0|     6.43|   6.82|   6.9| 7.06|   6.91|   7.25|5.23|      6.05|   6.55|   0.0| 5.26| 6.82|     6.34|     0.0| 0.0|    0.0|\n",
            "+------------+------+-----+---------+---------+---------+------+-----+-----------+-----+------+-------+---------+---------+-------+------+-----+-------+-------+----+----------+-------+------+-----+-----+---------+--------+----+-------+\n",
            "\n"
          ]
        }
      ],
      "source": [
        "df_final.show()"
      ]
    },
    {
      "cell_type": "code",
      "execution_count": 23,
      "metadata": {
        "colab": {
          "base_uri": "https://localhost:8080/"
        },
        "id": "PCVsW7LBSA5V",
        "outputId": "f79b0751-a349-4d21-a6ba-8d395023a4fd"
      },
      "outputs": [
        {
          "output_type": "stream",
          "name": "stdout",
          "text": [
            "== Physical Plan ==\n",
            "AdaptiveSparkPlan (21)\n",
            "+- HashAggregate (20)\n",
            "   +- Exchange (19)\n",
            "      +- HashAggregate (18)\n",
            "         +- HashAggregate (17)\n",
            "            +- Exchange (16)\n",
            "               +- HashAggregate (15)\n",
            "                  +- Project (14)\n",
            "                     +- Generate (13)\n",
            "                        +- Project (12)\n",
            "                           +- SortMergeJoin LeftOuter (11)\n",
            "                              :- Sort (6)\n",
            "                              :  +- Exchange (5)\n",
            "                              :     +- Project (4)\n",
            "                              :        +- Filter (3)\n",
            "                              :           +- Sample (2)\n",
            "                              :              +- Scan csv  (1)\n",
            "                              +- Sort (10)\n",
            "                                 +- Exchange (9)\n",
            "                                    +- Filter (8)\n",
            "                                       +- Scan csv  (7)\n",
            "\n",
            "\n",
            "(1) Scan csv \n",
            "Output [3]: [tconst#16, titleType#17, genres#24]\n",
            "Batched: false\n",
            "Location: InMemoryFileIndex [file:/content/drive/MyDrive/igti_bootcamps/eng_dados_cloud/mod3/title_basics.csv]\n",
            "ReadSchema: struct<tconst:string,titleType:string,genres:string>\n",
            "\n",
            "(2) Sample\n",
            "Input [3]: [tconst#16, titleType#17, genres#24]\n",
            "Arguments: 0.0, 0.1, false, -6331102326265878918\n",
            "\n",
            "(3) Filter\n",
            "Input [3]: [tconst#16, titleType#17, genres#24]\n",
            "Condition : ((size(split(CASE WHEN (genres#24 = \\N) THEN null ELSE genres#24 END, ,, -1), true) > 0) AND isnotnull(split(CASE WHEN (genres#24 = \\N) THEN null ELSE genres#24 END, ,, -1)))\n",
            "\n",
            "(4) Project\n",
            "Output [3]: [CASE WHEN (tconst#16 = \\N) THEN null ELSE tconst#16 END AS tconst#289, CASE WHEN (initcap(trim(titleType#17, None)) = \\N) THEN null ELSE initcap(trim(titleType#17, None)) END AS titleType#290, split(CASE WHEN (genres#24 = \\N) THEN null ELSE genres#24 END, ,, -1) AS genres#303]\n",
            "Input [3]: [tconst#16, titleType#17, genres#24]\n",
            "\n",
            "(5) Exchange\n",
            "Input [3]: [tconst#289, titleType#290, genres#303]\n",
            "Arguments: hashpartitioning(tconst#289, 200), ENSURE_REQUIREMENTS, [id=#914]\n",
            "\n",
            "(6) Sort\n",
            "Input [3]: [tconst#289, titleType#290, genres#303]\n",
            "Arguments: [tconst#289 ASC NULLS FIRST], false, 0\n",
            "\n",
            "(7) Scan csv \n",
            "Output [2]: [tconst#96, averageRating#97]\n",
            "Batched: false\n",
            "Location: InMemoryFileIndex [file:/content/drive/MyDrive/igti_bootcamps/eng_dados_cloud/mod3/title_ratings.tsv]\n",
            "PushedFilters: [IsNotNull(tconst)]\n",
            "ReadSchema: struct<tconst:string,averageRating:string>\n",
            "\n",
            "(8) Filter\n",
            "Input [2]: [tconst#96, averageRating#97]\n",
            "Condition : isnotnull(tconst#96)\n",
            "\n",
            "(9) Exchange\n",
            "Input [2]: [tconst#96, averageRating#97]\n",
            "Arguments: hashpartitioning(tconst#96, 200), ENSURE_REQUIREMENTS, [id=#915]\n",
            "\n",
            "(10) Sort\n",
            "Input [2]: [tconst#96, averageRating#97]\n",
            "Arguments: [tconst#96 ASC NULLS FIRST], false, 0\n",
            "\n",
            "(11) SortMergeJoin\n",
            "Left keys [1]: [tconst#289]\n",
            "Right keys [1]: [tconst#96]\n",
            "Join condition: None\n",
            "\n",
            "(12) Project\n",
            "Output [3]: [titleType#290, genres#303, averageRating#97]\n",
            "Input [5]: [tconst#289, titleType#290, genres#303, tconst#96, averageRating#97]\n",
            "\n",
            "(13) Generate\n",
            "Input [3]: [titleType#290, genres#303, averageRating#97]\n",
            "Arguments: explode(genres#303), [titleType#290, averageRating#97], false, [genres#382]\n",
            "\n",
            "(14) Project\n",
            "Output [3]: [titleType#290, genres#382, averageRating#97]\n",
            "Input [3]: [titleType#290, averageRating#97, genres#382]\n",
            "\n",
            "(15) HashAggregate\n",
            "Input [3]: [titleType#290, genres#382, averageRating#97]\n",
            "Keys [2]: [titleType#290, genres#382]\n",
            "Functions [1]: [partial_avg(cast(averageRating#97 as double))]\n",
            "Aggregate Attributes [2]: [sum#758, count#759L]\n",
            "Results [4]: [titleType#290, genres#382, sum#760, count#761L]\n",
            "\n",
            "(16) Exchange\n",
            "Input [4]: [titleType#290, genres#382, sum#760, count#761L]\n",
            "Arguments: hashpartitioning(titleType#290, genres#382, 200), ENSURE_REQUIREMENTS, [id=#924]\n",
            "\n",
            "(17) HashAggregate\n",
            "Input [4]: [titleType#290, genres#382, sum#760, count#761L]\n",
            "Keys [2]: [titleType#290, genres#382]\n",
            "Functions [1]: [avg(cast(averageRating#97 as double))]\n",
            "Aggregate Attributes [1]: [avg(cast(averageRating#97 as double))#411]\n",
            "Results [3]: [titleType#290, genres#382, round(avg(cast(averageRating#97 as double))#411, 2) AS round(avg(CAST(averageRating AS DOUBLE)), 2)#413]\n",
            "\n",
            "(18) HashAggregate\n",
            "Input [3]: [titleType#290, genres#382, round(avg(CAST(averageRating AS DOUBLE)), 2)#413]\n",
            "Keys [1]: [titleType#290]\n",
            "Functions [1]: [partial_pivotfirst(genres#382, round(avg(CAST(averageRating AS DOUBLE)), 2)#413, Action, Adult, Adventure, Animation, Biography, Comedy, Crime, Documentary, Drama, Family, Fantasy, Film-Noir, Game-Show, History, Horror, Music, Musical, Mystery, News, Reality-TV, Romance, Sci-Fi, Short, Sport, Talk-Show, Thriller, War, Western, 0, 0)]\n",
            "Aggregate Attributes [28]: [Action#414, Adult#415, Adventure#416, Animation#417, Biography#418, Comedy#419, Crime#420, Documentary#421, Drama#422, Family#423, Fantasy#424, Film-Noir#425, Game-Show#426, History#427, Horror#428, Music#429, Musical#430, Mystery#431, News#432, Reality-TV#433, Romance#434, Sci-Fi#435, Short#436, Sport#437, Talk-Show#438, Thriller#439, War#440, Western#441]\n",
            "Results [29]: [titleType#290, Action#442, Adult#443, Adventure#444, Animation#445, Biography#446, Comedy#447, Crime#448, Documentary#449, Drama#450, Family#451, Fantasy#452, Film-Noir#453, Game-Show#454, History#455, Horror#456, Music#457, Musical#458, Mystery#459, News#460, Reality-TV#461, Romance#462, Sci-Fi#463, Short#464, Sport#465, Talk-Show#466, Thriller#467, War#468, Western#469]\n",
            "\n",
            "(19) Exchange\n",
            "Input [29]: [titleType#290, Action#442, Adult#443, Adventure#444, Animation#445, Biography#446, Comedy#447, Crime#448, Documentary#449, Drama#450, Family#451, Fantasy#452, Film-Noir#453, Game-Show#454, History#455, Horror#456, Music#457, Musical#458, Mystery#459, News#460, Reality-TV#461, Romance#462, Sci-Fi#463, Short#464, Sport#465, Talk-Show#466, Thriller#467, War#468, Western#469]\n",
            "Arguments: hashpartitioning(titleType#290, 200), ENSURE_REQUIREMENTS, [id=#928]\n",
            "\n",
            "(20) HashAggregate\n",
            "Input [29]: [titleType#290, Action#442, Adult#443, Adventure#444, Animation#445, Biography#446, Comedy#447, Crime#448, Documentary#449, Drama#450, Family#451, Fantasy#452, Film-Noir#453, Game-Show#454, History#455, Horror#456, Music#457, Musical#458, Mystery#459, News#460, Reality-TV#461, Romance#462, Sci-Fi#463, Short#464, Sport#465, Talk-Show#466, Thriller#467, War#468, Western#469]\n",
            "Keys [1]: [titleType#290]\n",
            "Functions [1]: [pivotfirst(genres#382, round(avg(CAST(averageRating AS DOUBLE)), 2)#413, Action, Adult, Adventure, Animation, Biography, Comedy, Crime, Documentary, Drama, Family, Fantasy, Film-Noir, Game-Show, History, Horror, Music, Musical, Mystery, News, Reality-TV, Romance, Sci-Fi, Short, Sport, Talk-Show, Thriller, War, Western, 0, 0)]\n",
            "Aggregate Attributes [1]: [pivotfirst(genres#382, round(avg(CAST(averageRating AS DOUBLE)), 2)#413, Action, Adult, Adventure, Animation, Biography, Comedy, Crime, Documentary, Drama, Family, Fantasy, Film-Noir, Game-Show, History, Horror, Music, Musical, Mystery, News, Reality-TV, Romance, Sci-Fi, ... 8 more fields)#470]\n",
            "Results [29]: [titleType#290, coalesce(nanvl(pivotfirst(genres#382, round(avg(CAST(averageRating AS DOUBLE)), 2)#413, Action, Adult, Adventure, Animation, Biography, Comedy, Crime, Documentary, Drama, Family, Fantasy, Film-Noir, Game-Show, History, Horror, Music, Musical, Mystery, News, Reality-TV, Romance, Sci-Fi, ... 8 more fields)#470[0], null), 0.0) AS Action#614, coalesce(nanvl(pivotfirst(genres#382, round(avg(CAST(averageRating AS DOUBLE)), 2)#413, Action, Adult, Adventure, Animation, Biography, Comedy, Crime, Documentary, Drama, Family, Fantasy, Film-Noir, Game-Show, History, Horror, Music, Musical, Mystery, News, Reality-TV, Romance, Sci-Fi, ... 8 more fields)#470[1], null), 0.0) AS Adult#615, coalesce(nanvl(pivotfirst(genres#382, round(avg(CAST(averageRating AS DOUBLE)), 2)#413, Action, Adult, Adventure, Animation, Biography, Comedy, Crime, Documentary, Drama, Family, Fantasy, Film-Noir, Game-Show, History, Horror, Music, Musical, Mystery, News, Reality-TV, Romance, Sci-Fi, ... 8 more fields)#470[2], null), 0.0) AS Adventure#616, coalesce(nanvl(pivotfirst(genres#382, round(avg(CAST(averageRating AS DOUBLE)), 2)#413, Action, Adult, Adventure, Animation, Biography, Comedy, Crime, Documentary, Drama, Family, Fantasy, Film-Noir, Game-Show, History, Horror, Music, Musical, Mystery, News, Reality-TV, Romance, Sci-Fi, ... 8 more fields)#470[3], null), 0.0) AS Animation#617, coalesce(nanvl(pivotfirst(genres#382, round(avg(CAST(averageRating AS DOUBLE)), 2)#413, Action, Adult, Adventure, Animation, Biography, Comedy, Crime, Documentary, Drama, Family, Fantasy, Film-Noir, Game-Show, History, Horror, Music, Musical, Mystery, News, Reality-TV, Romance, Sci-Fi, ... 8 more fields)#470[4], null), 0.0) AS Biography#618, coalesce(nanvl(pivotfirst(genres#382, round(avg(CAST(averageRating AS DOUBLE)), 2)#413, Action, Adult, Adventure, Animation, Biography, Comedy, Crime, Documentary, Drama, Family, Fantasy, Film-Noir, Game-Show, History, Horror, Music, Musical, Mystery, News, Reality-TV, Romance, Sci-Fi, ... 8 more fields)#470[5], null), 0.0) AS Comedy#619, coalesce(nanvl(pivotfirst(genres#382, round(avg(CAST(averageRating AS DOUBLE)), 2)#413, Action, Adult, Adventure, Animation, Biography, Comedy, Crime, Documentary, Drama, Family, Fantasy, Film-Noir, Game-Show, History, Horror, Music, Musical, Mystery, News, Reality-TV, Romance, Sci-Fi, ... 8 more fields)#470[6], null), 0.0) AS Crime#620, coalesce(nanvl(pivotfirst(genres#382, round(avg(CAST(averageRating AS DOUBLE)), 2)#413, Action, Adult, Adventure, Animation, Biography, Comedy, Crime, Documentary, Drama, Family, Fantasy, Film-Noir, Game-Show, History, Horror, Music, Musical, Mystery, News, Reality-TV, Romance, Sci-Fi, ... 8 more fields)#470[7], null), 0.0) AS Documentary#621, coalesce(nanvl(pivotfirst(genres#382, round(avg(CAST(averageRating AS DOUBLE)), 2)#413, Action, Adult, Adventure, Animation, Biography, Comedy, Crime, Documentary, Drama, Family, Fantasy, Film-Noir, Game-Show, History, Horror, Music, Musical, Mystery, News, Reality-TV, Romance, Sci-Fi, ... 8 more fields)#470[8], null), 0.0) AS Drama#622, coalesce(nanvl(pivotfirst(genres#382, round(avg(CAST(averageRating AS DOUBLE)), 2)#413, Action, Adult, Adventure, Animation, Biography, Comedy, Crime, Documentary, Drama, Family, Fantasy, Film-Noir, Game-Show, History, Horror, Music, Musical, Mystery, News, Reality-TV, Romance, Sci-Fi, ... 8 more fields)#470[9], null), 0.0) AS Family#623, coalesce(nanvl(pivotfirst(genres#382, round(avg(CAST(averageRating AS DOUBLE)), 2)#413, Action, Adult, Adventure, Animation, Biography, Comedy, Crime, Documentary, Drama, Family, Fantasy, Film-Noir, Game-Show, History, Horror, Music, Musical, Mystery, News, Reality-TV, Romance, Sci-Fi, ... 8 more fields)#470[10], null), 0.0) AS Fantasy#624, coalesce(nanvl(pivotfirst(genres#382, round(avg(CAST(averageRating AS DOUBLE)), 2)#413, Action, Adult, Adventure, Animation, Biography, Comedy, Crime, Documentary, Drama, Family, Fantasy, Film-Noir, Game-Show, History, Horror, Music, Musical, Mystery, News, Reality-TV, Romance, Sci-Fi, ... 8 more fields)#470[11], null), 0.0) AS Film-Noir#625, coalesce(nanvl(pivotfirst(genres#382, round(avg(CAST(averageRating AS DOUBLE)), 2)#413, Action, Adult, Adventure, Animation, Biography, Comedy, Crime, Documentary, Drama, Family, Fantasy, Film-Noir, Game-Show, History, Horror, Music, Musical, Mystery, News, Reality-TV, Romance, Sci-Fi, ... 8 more fields)#470[12], null), 0.0) AS Game-Show#626, coalesce(nanvl(pivotfirst(genres#382, round(avg(CAST(averageRating AS DOUBLE)), 2)#413, Action, Adult, Adventure, Animation, Biography, Comedy, Crime, Documentary, Drama, Family, Fantasy, Film-Noir, Game-Show, History, Horror, Music, Musical, Mystery, News, Reality-TV, Romance, Sci-Fi, ... 8 more fields)#470[13], null), 0.0) AS History#627, coalesce(nanvl(pivotfirst(genres#382, round(avg(CAST(averageRating AS DOUBLE)), 2)#413, Action, Adult, Adventure, Animation, Biography, Comedy, Crime, Documentary, Drama, Family, Fantasy, Film-Noir, Game-Show, History, Horror, Music, Musical, Mystery, News, Reality-TV, Romance, Sci-Fi, ... 8 more fields)#470[14], null), 0.0) AS Horror#628, coalesce(nanvl(pivotfirst(genres#382, round(avg(CAST(averageRating AS DOUBLE)), 2)#413, Action, Adult, Adventure, Animation, Biography, Comedy, Crime, Documentary, Drama, Family, Fantasy, Film-Noir, Game-Show, History, Horror, Music, Musical, Mystery, News, Reality-TV, Romance, Sci-Fi, ... 8 more fields)#470[15], null), 0.0) AS Music#629, coalesce(nanvl(pivotfirst(genres#382, round(avg(CAST(averageRating AS DOUBLE)), 2)#413, Action, Adult, Adventure, Animation, Biography, Comedy, Crime, Documentary, Drama, Family, Fantasy, Film-Noir, Game-Show, History, Horror, Music, Musical, Mystery, News, Reality-TV, Romance, Sci-Fi, ... 8 more fields)#470[16], null), 0.0) AS Musical#630, coalesce(nanvl(pivotfirst(genres#382, round(avg(CAST(averageRating AS DOUBLE)), 2)#413, Action, Adult, Adventure, Animation, Biography, Comedy, Crime, Documentary, Drama, Family, Fantasy, Film-Noir, Game-Show, History, Horror, Music, Musical, Mystery, News, Reality-TV, Romance, Sci-Fi, ... 8 more fields)#470[17], null), 0.0) AS Mystery#631, coalesce(nanvl(pivotfirst(genres#382, round(avg(CAST(averageRating AS DOUBLE)), 2)#413, Action, Adult, Adventure, Animation, Biography, Comedy, Crime, Documentary, Drama, Family, Fantasy, Film-Noir, Game-Show, History, Horror, Music, Musical, Mystery, News, Reality-TV, Romance, Sci-Fi, ... 8 more fields)#470[18], null), 0.0) AS News#632, coalesce(nanvl(pivotfirst(genres#382, round(avg(CAST(averageRating AS DOUBLE)), 2)#413, Action, Adult, Adventure, Animation, Biography, Comedy, Crime, Documentary, Drama, Family, Fantasy, Film-Noir, Game-Show, History, Horror, Music, Musical, Mystery, News, Reality-TV, Romance, Sci-Fi, ... 8 more fields)#470[19], null), 0.0) AS Reality-TV#633, coalesce(nanvl(pivotfirst(genres#382, round(avg(CAST(averageRating AS DOUBLE)), 2)#413, Action, Adult, Adventure, Animation, Biography, Comedy, Crime, Documentary, Drama, Family, Fantasy, Film-Noir, Game-Show, History, Horror, Music, Musical, Mystery, News, Reality-TV, Romance, Sci-Fi, ... 8 more fields)#470[20], null), 0.0) AS Romance#634, coalesce(nanvl(pivotfirst(genres#382, round(avg(CAST(averageRating AS DOUBLE)), 2)#413, Action, Adult, Adventure, Animation, Biography, Comedy, Crime, Documentary, Drama, Family, Fantasy, Film-Noir, Game-Show, History, Horror, Music, Musical, Mystery, News, Reality-TV, Romance, Sci-Fi, ... 8 more fields)#470[21], null), 0.0) AS Sci-Fi#635, coalesce(nanvl(pivotfirst(genres#382, round(avg(CAST(averageRating AS DOUBLE)), 2)#413, Action, Adult, Adventure, Animation, Biography, Comedy, Crime, Documentary, Drama, Family, Fantasy, Film-Noir, Game-Show, History, Horror, Music, Musical, Mystery, News, Reality-TV, Romance, Sci-Fi, ... 8 more fields)#470[22], null), 0.0) AS Short#636, coalesce(nanvl(pivotfirst(genres#382, round(avg(CAST(averageRating AS DOUBLE)), 2)#413, Action, Adult, Adventure, Animation, Biography, Comedy, Crime, Documentary, Drama, Family, Fantasy, Film-Noir, Game-Show, History, Horror, Music, Musical, Mystery, News, Reality-TV, Romance, Sci-Fi, ... 8 more fields)#470[23], null), 0.0) AS Sport#637, coalesce(nanvl(pivotfirst(genres#382, round(avg(CAST(averageRating AS DOUBLE)), 2)#413, Action, Adult, Adventure, Animation, Biography, Comedy, Crime, Documentary, Drama, Family, Fantasy, Film-Noir, Game-Show, History, Horror, Music, Musical, Mystery, News, Reality-TV, Romance, Sci-Fi, ... 8 more fields)#470[24], null), 0.0) AS Talk-Show#638, coalesce(nanvl(pivotfirst(genres#382, round(avg(CAST(averageRating AS DOUBLE)), 2)#413, Action, Adult, Adventure, Animation, Biography, Comedy, Crime, Documentary, Drama, Family, Fantasy, Film-Noir, Game-Show, History, Horror, Music, Musical, Mystery, News, Reality-TV, Romance, Sci-Fi, ... 8 more fields)#470[25], null), 0.0) AS Thriller#639, coalesce(nanvl(pivotfirst(genres#382, round(avg(CAST(averageRating AS DOUBLE)), 2)#413, Action, Adult, Adventure, Animation, Biography, Comedy, Crime, Documentary, Drama, Family, Fantasy, Film-Noir, Game-Show, History, Horror, Music, Musical, Mystery, News, Reality-TV, Romance, Sci-Fi, ... 8 more fields)#470[26], null), 0.0) AS War#640, coalesce(nanvl(pivotfirst(genres#382, round(avg(CAST(averageRating AS DOUBLE)), 2)#413, Action, Adult, Adventure, Animation, Biography, Comedy, Crime, Documentary, Drama, Family, Fantasy, Film-Noir, Game-Show, History, Horror, Music, Musical, Mystery, News, Reality-TV, Romance, Sci-Fi, ... 8 more fields)#470[27], null), 0.0) AS Western#641]\n",
            "\n",
            "(21) AdaptiveSparkPlan\n",
            "Output [29]: [titleType#290, Action#614, Adult#615, Adventure#616, Animation#617, Biography#618, Comedy#619, Crime#620, Documentary#621, Drama#622, Family#623, Fantasy#624, Film-Noir#625, Game-Show#626, History#627, Horror#628, Music#629, Musical#630, Mystery#631, News#632, Reality-TV#633, Romance#634, Sci-Fi#635, Short#636, Sport#637, Talk-Show#638, Thriller#639, War#640, Western#641]\n",
            "Arguments: isFinalPlan=false\n",
            "\n",
            "\n"
          ]
        }
      ],
      "source": [
        "df_final.explain('formatted')"
      ]
    },
    {
      "cell_type": "code",
      "execution_count": null,
      "metadata": {
        "colab": {
          "base_uri": "https://localhost:8080/"
        },
        "id": "sAjELZBXScvB",
        "outputId": "6a4784bd-5f36-4339-b7ce-1afd2b7752cb"
      },
      "outputs": [
        {
          "name": "stdout",
          "output_type": "stream",
          "text": [
            "+------------+------+-----+---------+---------+---------+------+-----+-----------+-----+------+-------+---------+---------+-------+------+-----+-------+-------+----+----------+-------+------+-----+-----+---------+--------+----+-------+\n",
            "|   titleType|Action|Adult|Adventure|Animation|Biography|Comedy|Crime|Documentary|Drama|Family|Fantasy|Film-Noir|Game-Show|History|Horror|Music|Musical|Mystery|News|Reality-TV|Romance|Sci-Fi|Short|Sport|Talk-Show|Thriller| War|Western|\n",
            "+------------+------+-----+---------+---------+---------+------+-----+-----------+-----+------+-------+---------+---------+-------+------+-----+-------+-------+----+----------+-------+------+-----+-----+---------+--------+----+-------+\n",
            "|     Tvmovie|  5.25|  6.5|     5.89|     6.78|     6.77|  6.47| 6.29|       7.08| 6.51|  6.29|   6.45|      0.0|      0.0|    7.0|  5.65| 7.38|   7.14|   6.03|6.97|      7.58|   6.07|  5.44|  0.0| 6.98|      0.0|    5.67|7.02|   6.27|\n",
            "|    Tvseries|  6.95| 6.15|     6.95|     6.93|     7.19|  6.86| 7.14|       7.28| 7.02|  6.92|   6.98|      0.0|     5.82|   7.27|  7.04| 6.38|   6.42|   7.25|5.76|      6.24|   6.91|  6.95| 7.14|  7.2|     6.14|    7.13| 7.2|    7.4|\n",
            "|   Tvepisode|  7.46| 6.52|     7.36|     7.29|     7.47|  7.35| 7.52|       7.51| 7.56|  7.32|   7.48|      0.0|     7.05|   7.58|  7.36| 7.08|   7.19|   7.53|6.82|      7.04|   7.44|   7.4| 6.94| 7.15|     6.89|    7.44|7.76|   7.67|\n",
            "|       Video|  5.77| 6.53|      5.9|     6.33|     7.32|  6.31| 5.51|       6.95| 5.99|  6.45|   6.12|      0.0|     7.45|   6.94|  4.97| 7.74|   6.53|   5.73|6.73|      6.55|   6.15|  5.84| 6.86| 7.11|     7.25|    4.85|6.67|   5.22|\n",
            "|   Videogame|   7.0|  0.0|     7.21|     6.97|      0.0|  7.15| 7.31|        4.5| 7.44|  6.75|    7.1|      0.0|     5.92|   7.07|  7.05| 6.88|   7.35|   7.39| 0.0|       0.0|   7.27|  7.02|  7.4| 6.56|      0.0|    6.71| 7.2|    7.2|\n",
            "|       Movie|  5.63| 5.72|     5.82|     6.25|     6.84|  5.88| 5.95|       7.19|  6.2|  6.17|   5.85|     6.55|      0.0|   6.72|  4.94| 6.74|   6.15|   5.91|7.02|      5.75|   6.06|  5.26|  9.3| 6.58|      0.0|    5.56|6.37|   5.89|\n",
            "|     Tvshort|  7.11|  0.0|     7.05|     6.93|      6.9|  6.91| 7.47|       6.81| 6.73|  7.08|    6.8|      0.0|      0.0|    8.6|  6.26| 8.35|    6.3|   8.07| 6.9|       0.0|   6.37|  6.81| 6.94|  7.5|     7.55|    6.47| 0.0|    0.0|\n",
            "|       Short|  7.08| 6.08|     7.17|     6.51|     7.19|  6.79| 7.23|       6.64| 7.09|   6.9|   6.94|      0.0|      0.0|   7.24|   6.7|  6.7|   6.92|   7.28|6.35|      5.98|   7.05|  6.78|  6.8| 6.68|      0.0|    7.21|6.81|    6.7|\n",
            "|Tvminiseries|   6.7| 6.32|     7.07|      6.8|      7.2|  7.11| 7.11|       7.57| 7.12|  7.05|   7.07|      0.0|      7.5|    7.5|   6.8| 7.17|   6.98|    7.2|6.45|      6.88|   6.96|  6.68| 7.21| 7.43|     6.96|    7.12|7.17|   7.45|\n",
            "|   Tvspecial|  6.83|  6.8|     6.85|     6.15|     6.14|  6.74|  8.9|       7.01| 7.39|  6.51|   6.67|      0.0|     6.68|    6.9|  7.45| 6.98|   7.04|    0.0|5.63|      6.26|   6.07|   7.0| 5.29| 6.94|     6.34|     0.0| 0.0|    0.0|\n",
            "+------------+------+-----+---------+---------+---------+------+-----+-----------+-----+------+-------+---------+---------+-------+------+-----+-------+-------+----+----------+-------+------+-----+-----+---------+--------+----+-------+\n",
            "\n",
            "CPU times: user 119 ms, sys: 11.8 ms, total: 130 ms\n",
            "Wall time: 20.4 s\n"
          ]
        }
      ],
      "source": [
        "%%time\n",
        "\n",
        "df_final.show()"
      ]
    },
    {
      "cell_type": "code",
      "execution_count": null,
      "metadata": {
        "colab": {
          "base_uri": "https://localhost:8080/"
        },
        "id": "hpMIg5hRSzSp",
        "outputId": "eaec69ef-f928-4f50-9ec1-5769b0adf330"
      },
      "outputs": [
        {
          "data": {
            "text/plain": [
              "10"
            ]
          },
          "execution_count": 66,
          "metadata": {},
          "output_type": "execute_result"
        }
      ],
      "source": [
        "df_final.cache()\n",
        "df_final.count()"
      ]
    },
    {
      "cell_type": "code",
      "execution_count": null,
      "metadata": {
        "colab": {
          "base_uri": "https://localhost:8080/"
        },
        "id": "3tc8KTyOT1NM",
        "outputId": "87e0919d-4cbd-4302-eaa9-e9ac71546c04"
      },
      "outputs": [
        {
          "name": "stdout",
          "output_type": "stream",
          "text": [
            "+------------+------+-----+---------+---------+---------+------+-----+-----------+-----+------+-------+---------+---------+-------+------+-----+-------+-------+----+----------+-------+------+-----+-----+---------+--------+----+-------+\n",
            "|   titleType|Action|Adult|Adventure|Animation|Biography|Comedy|Crime|Documentary|Drama|Family|Fantasy|Film-Noir|Game-Show|History|Horror|Music|Musical|Mystery|News|Reality-TV|Romance|Sci-Fi|Short|Sport|Talk-Show|Thriller| War|Western|\n",
            "+------------+------+-----+---------+---------+---------+------+-----+-----------+-----+------+-------+---------+---------+-------+------+-----+-------+-------+----+----------+-------+------+-----+-----+---------+--------+----+-------+\n",
            "|     Tvmovie|  5.25|  6.5|     5.89|     6.78|     6.77|  6.47| 6.29|       7.08| 6.51|  6.29|   6.45|      0.0|      0.0|    7.0|  5.65| 7.38|   7.14|   6.03|6.97|      7.58|   6.07|  5.44|  0.0| 6.98|      0.0|    5.67|7.02|   6.27|\n",
            "|    Tvseries|  6.95| 6.15|     6.95|     6.93|     7.19|  6.86| 7.14|       7.28| 7.02|  6.92|   6.98|      0.0|     5.82|   7.27|  7.04| 6.38|   6.42|   7.25|5.76|      6.24|   6.91|  6.95| 7.14|  7.2|     6.14|    7.13| 7.2|    7.4|\n",
            "|   Tvepisode|  7.46| 6.52|     7.36|     7.29|     7.47|  7.35| 7.52|       7.51| 7.56|  7.32|   7.48|      0.0|     7.05|   7.58|  7.36| 7.08|   7.19|   7.53|6.82|      7.04|   7.44|   7.4| 6.94| 7.15|     6.89|    7.44|7.76|   7.67|\n",
            "|       Video|  5.77| 6.53|      5.9|     6.33|     7.32|  6.31| 5.51|       6.95| 5.99|  6.45|   6.12|      0.0|     7.45|   6.94|  4.97| 7.74|   6.53|   5.73|6.73|      6.55|   6.15|  5.84| 6.86| 7.11|     7.25|    4.85|6.67|   5.22|\n",
            "|   Videogame|   7.0|  0.0|     7.21|     6.97|      0.0|  7.15| 7.31|        4.5| 7.44|  6.75|    7.1|      0.0|     5.92|   7.07|  7.05| 6.88|   7.35|   7.39| 0.0|       0.0|   7.27|  7.02|  7.4| 6.56|      0.0|    6.71| 7.2|    7.2|\n",
            "|       Movie|  5.63| 5.72|     5.82|     6.25|     6.84|  5.88| 5.95|       7.19|  6.2|  6.17|   5.85|     6.55|      0.0|   6.72|  4.94| 6.74|   6.15|   5.91|7.02|      5.75|   6.06|  5.26|  9.3| 6.58|      0.0|    5.56|6.37|   5.89|\n",
            "|     Tvshort|  7.11|  0.0|     7.05|     6.93|      6.9|  6.91| 7.47|       6.81| 6.73|  7.08|    6.8|      0.0|      0.0|    8.6|  6.26| 8.35|    6.3|   8.07| 6.9|       0.0|   6.37|  6.81| 6.94|  7.5|     7.55|    6.47| 0.0|    0.0|\n",
            "|       Short|  7.08| 6.08|     7.17|     6.51|     7.19|  6.79| 7.23|       6.64| 7.09|   6.9|   6.94|      0.0|      0.0|   7.24|   6.7|  6.7|   6.92|   7.28|6.35|      5.98|   7.05|  6.78|  6.8| 6.68|      0.0|    7.21|6.81|    6.7|\n",
            "|Tvminiseries|   6.7| 6.32|     7.07|      6.8|      7.2|  7.11| 7.11|       7.57| 7.12|  7.05|   7.07|      0.0|      7.5|    7.5|   6.8| 7.17|   6.98|    7.2|6.45|      6.88|   6.96|  6.68| 7.21| 7.43|     6.96|    7.12|7.17|   7.45|\n",
            "|   Tvspecial|  6.83|  6.8|     6.85|     6.15|     6.14|  6.74|  8.9|       7.01| 7.39|  6.51|   6.67|      0.0|     6.68|    6.9|  7.45| 6.98|   7.04|    0.0|5.63|      6.26|   6.07|   7.0| 5.29| 6.94|     6.34|     0.0| 0.0|    0.0|\n",
            "+------------+------+-----+---------+---------+---------+------+-----+-----------+-----+------+-------+---------+---------+-------+------+-----+-------+-------+----+----------+-------+------+-----+-----+---------+--------+----+-------+\n",
            "\n",
            "CPU times: user 10.3 ms, sys: 954 µs, total: 11.3 ms\n",
            "Wall time: 1.39 s\n"
          ]
        }
      ],
      "source": [
        "%%time\n",
        "\n",
        "df_final.show()"
      ]
    },
    {
      "cell_type": "code",
      "execution_count": null,
      "metadata": {
        "colab": {
          "base_uri": "https://localhost:8080/"
        },
        "id": "CnVsrH4kZb_J",
        "outputId": "49a81746-5383-46b1-a8a2-537ee47854ec"
      },
      "outputs": [
        {
          "data": {
            "text/plain": [
              "DataFrame[titleType: string, Action: double, Adult: double, Adventure: double, Animation: double, Biography: double, Comedy: double, Crime: double, Documentary: double, Drama: double, Family: double, Fantasy: double, Film-Noir: double, Game-Show: double, History: double, Horror: double, Music: double, Musical: double, Mystery: double, News: double, Reality-TV: double, Romance: double, Sci-Fi: double, Short: double, Sport: double, Talk-Show: double, Thriller: double, War: double, Western: double]"
            ]
          },
          "execution_count": 68,
          "metadata": {},
          "output_type": "execute_result"
        }
      ],
      "source": [
        "df_final.unpersist()"
      ]
    },
    {
      "cell_type": "code",
      "execution_count": null,
      "metadata": {
        "colab": {
          "base_uri": "https://localhost:8080/"
        },
        "id": "fN7spu2XahDE",
        "outputId": "4020a525-6f06-4209-ce0c-257a3bb5a167"
      },
      "outputs": [
        {
          "name": "stdout",
          "output_type": "stream",
          "text": [
            "+------------+------+-----+---------+---------+---------+------+-----+-----------+-----+------+-------+---------+---------+-------+------+-----+-------+-------+----+----------+-------+------+-----+-----+---------+--------+----+-------+\n",
            "|   titleType|Action|Adult|Adventure|Animation|Biography|Comedy|Crime|Documentary|Drama|Family|Fantasy|Film-Noir|Game-Show|History|Horror|Music|Musical|Mystery|News|Reality-TV|Romance|Sci-Fi|Short|Sport|Talk-Show|Thriller| War|Western|\n",
            "+------------+------+-----+---------+---------+---------+------+-----+-----------+-----+------+-------+---------+---------+-------+------+-----+-------+-------+----+----------+-------+------+-----+-----+---------+--------+----+-------+\n",
            "|     Tvmovie|  5.25|  6.5|     5.89|     6.78|     6.77|  6.47| 6.29|       7.08| 6.51|  6.29|   6.45|      0.0|      0.0|    7.0|  5.65| 7.38|   7.14|   6.03|6.97|      7.58|   6.07|  5.44|  0.0| 6.98|      0.0|    5.67|7.02|   6.27|\n",
            "|    Tvseries|  6.95| 6.15|     6.95|     6.93|     7.19|  6.86| 7.14|       7.28| 7.02|  6.92|   6.98|      0.0|     5.82|   7.27|  7.04| 6.38|   6.42|   7.25|5.76|      6.24|   6.91|  6.95| 7.14|  7.2|     6.14|    7.13| 7.2|    7.4|\n",
            "|   Tvepisode|  7.46| 6.52|     7.36|     7.29|     7.47|  7.35| 7.52|       7.51| 7.56|  7.32|   7.48|      0.0|     7.05|   7.58|  7.36| 7.08|   7.19|   7.53|6.82|      7.04|   7.44|   7.4| 6.94| 7.15|     6.89|    7.44|7.76|   7.67|\n",
            "|       Video|  5.77| 6.53|      5.9|     6.33|     7.32|  6.31| 5.51|       6.95| 5.99|  6.45|   6.12|      0.0|     7.45|   6.94|  4.97| 7.74|   6.53|   5.73|6.73|      6.55|   6.15|  5.84| 6.86| 7.11|     7.25|    4.85|6.67|   5.22|\n",
            "|   Videogame|   7.0|  0.0|     7.21|     6.97|      0.0|  7.15| 7.31|        4.5| 7.44|  6.75|    7.1|      0.0|     5.92|   7.07|  7.05| 6.88|   7.35|   7.39| 0.0|       0.0|   7.27|  7.02|  7.4| 6.56|      0.0|    6.71| 7.2|    7.2|\n",
            "|       Movie|  5.63| 5.72|     5.82|     6.25|     6.84|  5.88| 5.95|       7.19|  6.2|  6.17|   5.85|     6.55|      0.0|   6.72|  4.94| 6.74|   6.15|   5.91|7.02|      5.75|   6.06|  5.26|  9.3| 6.58|      0.0|    5.56|6.37|   5.89|\n",
            "|     Tvshort|  7.11|  0.0|     7.05|     6.93|      6.9|  6.91| 7.47|       6.81| 6.73|  7.08|    6.8|      0.0|      0.0|    8.6|  6.26| 8.35|    6.3|   8.07| 6.9|       0.0|   6.37|  6.81| 6.94|  7.5|     7.55|    6.47| 0.0|    0.0|\n",
            "|       Short|  7.08| 6.08|     7.17|     6.51|     7.19|  6.79| 7.23|       6.64| 7.09|   6.9|   6.94|      0.0|      0.0|   7.24|   6.7|  6.7|   6.92|   7.28|6.35|      5.98|   7.05|  6.78|  6.8| 6.68|      0.0|    7.21|6.81|    6.7|\n",
            "|Tvminiseries|   6.7| 6.32|     7.07|      6.8|      7.2|  7.11| 7.11|       7.57| 7.12|  7.05|   7.07|      0.0|      7.5|    7.5|   6.8| 7.17|   6.98|    7.2|6.45|      6.88|   6.96|  6.68| 7.21| 7.43|     6.96|    7.12|7.17|   7.45|\n",
            "|   Tvspecial|  6.83|  6.8|     6.85|     6.15|     6.14|  6.74|  8.9|       7.01| 7.39|  6.51|   6.67|      0.0|     6.68|    6.9|  7.45| 6.98|   7.04|    0.0|5.63|      6.26|   6.07|   7.0| 5.29| 6.94|     6.34|     0.0| 0.0|    0.0|\n",
            "+------------+------+-----+---------+---------+---------+------+-----+-----------+-----+------+-------+---------+---------+-------+------+-----+-------+-------+----+----------+-------+------+-----+-----+---------+--------+----+-------+\n",
            "\n",
            "CPU times: user 105 ms, sys: 14.5 ms, total: 120 ms\n",
            "Wall time: 19.3 s\n"
          ]
        }
      ],
      "source": [
        "%%time\n",
        "\n",
        "df_final.show()"
      ]
    },
    {
      "cell_type": "code",
      "execution_count": null,
      "metadata": {
        "colab": {
          "base_uri": "https://localhost:8080/"
        },
        "id": "IEKEbYJSapOE",
        "outputId": "95884a01-b31a-49bd-8a9a-657170cf4f0d"
      },
      "outputs": [
        {
          "name": "stdout",
          "output_type": "stream",
          "text": [
            "CPU times: user 78.5 ms, sys: 10.8 ms, total: 89.3 ms\n",
            "Wall time: 14.2 s\n"
          ]
        },
        {
          "data": {
            "text/plain": [
              "831093"
            ]
          },
          "execution_count": 78,
          "metadata": {},
          "output_type": "execute_result"
        }
      ],
      "source": [
        "%%time\n",
        "df_join.count()"
      ]
    },
    {
      "cell_type": "code",
      "execution_count": null,
      "metadata": {
        "colab": {
          "base_uri": "https://localhost:8080/"
        },
        "id": "0vnsVUGoceMf",
        "outputId": "4a811f46-6138-4eab-f73f-54f5e52ba095"
      },
      "outputs": [
        {
          "name": "stdout",
          "output_type": "stream",
          "text": [
            "CPU times: user 178 ms, sys: 23.2 ms, total: 201 ms\n",
            "Wall time: 33 s\n"
          ]
        }
      ],
      "source": [
        "%%time\n",
        "df_join.cache()\n",
        "df_join.count()"
      ]
    },
    {
      "cell_type": "code",
      "execution_count": null,
      "metadata": {
        "colab": {
          "base_uri": "https://localhost:8080/"
        },
        "id": "x_i8neOkdKw9",
        "outputId": "758d1d83-034f-4a0a-d3db-70946252b25d"
      },
      "outputs": [
        {
          "name": "stdout",
          "output_type": "stream",
          "text": [
            "CPU times: user 3.89 ms, sys: 81 µs, total: 3.97 ms\n",
            "Wall time: 546 ms\n"
          ]
        },
        {
          "data": {
            "text/plain": [
              "831093"
            ]
          },
          "execution_count": 80,
          "metadata": {},
          "output_type": "execute_result"
        }
      ],
      "source": [
        "%%time\n",
        "df_join.count()"
      ]
    },
    {
      "cell_type": "markdown",
      "metadata": {
        "id": "jibuA6Ujd--O"
      },
      "source": [
        "## **Removing persisted data**"
      ]
    },
    {
      "cell_type": "code",
      "execution_count": null,
      "metadata": {
        "colab": {
          "base_uri": "https://localhost:8080/",
          "height": 219
        },
        "id": "UGdnfR8od9-U",
        "outputId": "8e71904a-bb23-45b7-9aea-4c017cbb835e"
      },
      "outputs": [
        {
          "data": {
            "text/html": [
              "\n",
              "            <div>\n",
              "                <p><b>SparkSession - in-memory</b></p>\n",
              "                \n",
              "        <div>\n",
              "            <p><b>SparkContext</b></p>\n",
              "\n",
              "            <p><a href=\"http://69a9babcb406:4040\">Spark UI</a></p>\n",
              "\n",
              "            <dl>\n",
              "              <dt>Version</dt>\n",
              "                <dd><code>v3.2.1</code></dd>\n",
              "              <dt>Master</dt>\n",
              "                <dd><code>local[*]</code></dd>\n",
              "              <dt>AppName</dt>\n",
              "                <dd><code>pyspark-shell</code></dd>\n",
              "            </dl>\n",
              "        </div>\n",
              "        \n",
              "            </div>\n",
              "        "
            ],
            "text/plain": [
              "<pyspark.sql.session.SparkSession at 0x7fc25fb62790>"
            ]
          },
          "execution_count": 81,
          "metadata": {},
          "output_type": "execute_result"
        }
      ],
      "source": [
        "spark"
      ]
    },
    {
      "cell_type": "code",
      "execution_count": null,
      "metadata": {
        "id": "MfQPrvBIf4c1"
      },
      "outputs": [],
      "source": [
        "spark.catalog.clearCache()"
      ]
    },
    {
      "cell_type": "markdown",
      "metadata": {
        "id": "-J1Tqhy69SXw"
      },
      "source": [
        "\n",
        "\n",
        "---\n",
        "\n"
      ]
    },
    {
      "cell_type": "markdown",
      "metadata": {
        "id": "Ju8T9fEbgyQs"
      },
      "source": [
        "# Class 03 - **Strategies to Partition Data**"
      ]
    },
    {
      "cell_type": "code",
      "execution_count": null,
      "metadata": {
        "id": "aE9Y-RezkA9o"
      },
      "outputs": [],
      "source": [
        "imdb_path = '/content/drive/MyDrive/igti_bootcamps/eng_dados_cloud/mod3/title_basics.csv'"
      ]
    },
    {
      "cell_type": "code",
      "execution_count": null,
      "metadata": {
        "colab": {
          "base_uri": "https://localhost:8080/"
        },
        "id": "oNq_pHzEkBoz",
        "outputId": "fe292e2b-01c0-4001-a4e1-78a00d7b1519"
      },
      "outputs": [
        {
          "name": "stdout",
          "output_type": "stream",
          "text": [
            "+---------+---------+--------------------+--------------------+-------+---------+-------+--------------+--------------------+\n",
            "|   tconst|titleType|        primaryTitle|       originalTitle|isAdult|startYear|endYear|runtimeMinutes|              genres|\n",
            "+---------+---------+--------------------+--------------------+-------+---------+-------+--------------+--------------------+\n",
            "|tt0000001|    short|          Carmencita|          Carmencita|      0|     1894|     \\N|             1|   Documentary,Short|\n",
            "|tt0000002|    short|Le clown et ses c...|Le clown et ses c...|      0|     1892|     \\N|             5|     Animation,Short|\n",
            "|tt0000003|    short|      Pauvre Pierrot|      Pauvre Pierrot|      0|     1892|     \\N|             4|Animation,Comedy,...|\n",
            "|tt0000004|    short|         Un bon bock|         Un bon bock|      0|     1892|     \\N|            12|     Animation,Short|\n",
            "|tt0000005|    short|    Blacksmith Scene|    Blacksmith Scene|      0|     1893|     \\N|             1|        Comedy,Short|\n",
            "+---------+---------+--------------------+--------------------+-------+---------+-------+--------------+--------------------+\n",
            "only showing top 5 rows\n",
            "\n"
          ]
        }
      ],
      "source": [
        "options_dict = {\n",
        "    'sep' : '\\t' , \n",
        "    'header' : 'True'\n",
        "}\n",
        "\n",
        "df_titles = (\n",
        "      spark.read\n",
        "    .format('csv')\n",
        "    .options(**options_dict)  \n",
        "    .load(imdb_path)\n",
        ")\n",
        "\n",
        "df_titles.show(5)"
      ]
    },
    {
      "cell_type": "code",
      "execution_count": null,
      "metadata": {
        "colab": {
          "base_uri": "https://localhost:8080/"
        },
        "id": "qEBslz6IhMwr",
        "outputId": "f9a27a26-d655-4500-d92e-f4a37351acc4"
      },
      "outputs": [
        {
          "name": "stdout",
          "output_type": "stream",
          "text": [
            "+---------+-------------+--------+\n",
            "|   tconst|averageRating|numVotes|\n",
            "+---------+-------------+--------+\n",
            "|tt0000001|          5.7|    1879|\n",
            "|tt0000002|          5.9|     248|\n",
            "|tt0000003|          6.5|    1652|\n",
            "|tt0000004|          5.8|     161|\n",
            "|tt0000005|          6.2|    2476|\n",
            "|tt0000006|          5.2|     165|\n",
            "|tt0000007|          5.4|     771|\n",
            "|tt0000008|          5.4|    2017|\n",
            "|tt0000009|          5.3|     193|\n",
            "|tt0000010|          6.9|    6784|\n",
            "|tt0000011|          5.3|     345|\n",
            "|tt0000012|          7.4|   11652|\n",
            "|tt0000013|          5.7|    1798|\n",
            "|tt0000014|          7.1|    5222|\n",
            "|tt0000015|          6.2|     994|\n",
            "|tt0000016|          5.9|    1407|\n",
            "|tt0000017|          4.6|     306|\n",
            "|tt0000018|          5.3|     562|\n",
            "|tt0000019|          5.2|      30|\n",
            "|tt0000020|          4.8|     332|\n",
            "+---------+-------------+--------+\n",
            "only showing top 20 rows\n",
            "\n"
          ]
        }
      ],
      "source": [
        "df_ratings.show()"
      ]
    },
    {
      "cell_type": "markdown",
      "metadata": {
        "id": "VHOPRF02i-xY"
      },
      "source": [
        "## **Bucketing**"
      ]
    },
    {
      "cell_type": "code",
      "execution_count": 24,
      "metadata": {
        "id": "WNG-atD8i83h"
      },
      "outputs": [],
      "source": [
        "df_titles.write.format('parquet').bucketBy(5,'tconst').saveAsTable('title_basics')"
      ]
    },
    {
      "cell_type": "code",
      "execution_count": null,
      "metadata": {
        "id": "Ppn8eUlDxKFq"
      },
      "outputs": [],
      "source": [
        "df_ratings.write.format('parquet').bucketBy(5,'tconst').saveAsTable('title_ratings')"
      ]
    },
    {
      "cell_type": "code",
      "execution_count": null,
      "metadata": {
        "id": "1aVoWxk3x-MB"
      },
      "outputs": [],
      "source": [
        "df_titles_bucket = spark.sql('SELECT * FROM  title_basics')"
      ]
    },
    {
      "cell_type": "code",
      "execution_count": null,
      "metadata": {
        "id": "aEe7mVntyHFz"
      },
      "outputs": [],
      "source": [
        "df_ratings_bucket = spark.sql('SELECT * FROM title_ratings')"
      ]
    },
    {
      "cell_type": "code",
      "execution_count": null,
      "metadata": {
        "colab": {
          "base_uri": "https://localhost:8080/"
        },
        "id": "fA3WfHGexWKb",
        "outputId": "b35c9db6-eb5a-4db6-84da-486d2bf6b974"
      },
      "outputs": [
        {
          "name": "stdout",
          "output_type": "stream",
          "text": [
            "CPU times: user 114 ms, sys: 14.4 ms, total: 128 ms\n",
            "Wall time: 17.2 s\n"
          ]
        },
        {
          "data": {
            "text/plain": [
              "1227178"
            ]
          },
          "execution_count": 22,
          "metadata": {},
          "output_type": "execute_result"
        }
      ],
      "source": [
        "%%time \n",
        "\n",
        "df_titles.join(df_ratings,'tconst').count()"
      ]
    },
    {
      "cell_type": "code",
      "execution_count": null,
      "metadata": {
        "colab": {
          "base_uri": "https://localhost:8080/"
        },
        "id": "1vesrpeXySJ4",
        "outputId": "2d9bd9ba-4067-48af-bda4-4bf6f1477322"
      },
      "outputs": [
        {
          "name": "stdout",
          "output_type": "stream",
          "text": [
            "CPU times: user 9 µs, sys: 1 µs, total: 10 µs\n",
            "Wall time: 14.8 µs\n"
          ]
        },
        {
          "data": {
            "text/plain": [
              "1227178"
            ]
          },
          "execution_count": 23,
          "metadata": {},
          "output_type": "execute_result"
        }
      ],
      "source": [
        "%time\n",
        "\n",
        "df_titles_bucket.join(df_ratings_bucket,'tconst').count()"
      ]
    },
    {
      "cell_type": "markdown",
      "metadata": {
        "id": "0Xlwg-IeyvKq"
      },
      "source": [
        "## **Partitioning by Column**"
      ]
    },
    {
      "cell_type": "code",
      "execution_count": null,
      "metadata": {
        "colab": {
          "base_uri": "https://localhost:8080/"
        },
        "id": "eyo93hHyyuUw",
        "outputId": "7323642a-6a8c-4d89-8927-a8cfca3d72e8"
      },
      "outputs": [
        {
          "name": "stdout",
          "output_type": "stream",
          "text": [
            "== Physical Plan ==\n",
            "* Filter (2)\n",
            "+- Scan csv  (1)\n",
            "\n",
            "\n",
            "(1) Scan csv \n",
            "Output [9]: [tconst#16, titleType#17, primaryTitle#18, originalTitle#19, isAdult#20, startYear#21, endYear#22, runtimeMinutes#23, genres#24]\n",
            "Batched: false\n",
            "Location: InMemoryFileIndex [file:/content/drive/MyDrive/igti_bootcamps/eng_dados_cloud/mod3/title_basics.csv]\n",
            "PushedFilters: [IsNotNull(titleType), EqualTo(titleType,short)]\n",
            "ReadSchema: struct<tconst:string,titleType:string,primaryTitle:string,originalTitle:string,isAdult:string,startYear:string,endYear:string,runtimeMinutes:string,genres:string>\n",
            "\n",
            "(2) Filter [codegen id : 1]\n",
            "Input [9]: [tconst#16, titleType#17, primaryTitle#18, originalTitle#19, isAdult#20, startYear#21, endYear#22, runtimeMinutes#23, genres#24]\n",
            "Condition : (isnotnull(titleType#17) AND (titleType#17 = short))\n",
            "\n",
            "\n"
          ]
        }
      ],
      "source": [
        "df_titles.filter('titleType = \"short\"').explain(\"formatted\")"
      ]
    },
    {
      "cell_type": "code",
      "execution_count": null,
      "metadata": {
        "id": "shw32EnwzsF6"
      },
      "outputs": [],
      "source": [
        "(\n",
        "    df_titles\n",
        "    .write\n",
        "    .format('parquet')\n",
        "    .partitionBy('titleType')\n",
        "    .save('df_titles_partitioned')\n",
        ")"
      ]
    },
    {
      "cell_type": "code",
      "execution_count": null,
      "metadata": {
        "id": "mfnYa2QU0B4m"
      },
      "outputs": [],
      "source": [
        "df_titles_partitions = spark.read.parquet('/content/df_titles_partitioned')"
      ]
    },
    {
      "cell_type": "code",
      "execution_count": null,
      "metadata": {
        "colab": {
          "base_uri": "https://localhost:8080/"
        },
        "id": "irtxFRDu3FhB",
        "outputId": "6cde63ec-28aa-434f-fbf3-a4f832d71950"
      },
      "outputs": [
        {
          "name": "stdout",
          "output_type": "stream",
          "text": [
            "== Physical Plan ==\n",
            "* ColumnarToRow (2)\n",
            "+- Scan parquet  (1)\n",
            "\n",
            "\n",
            "(1) Scan parquet \n",
            "Output [9]: [tconst#318, primaryTitle#319, originalTitle#320, isAdult#321, startYear#322, endYear#323, runtimeMinutes#324, genres#325, titleType#326]\n",
            "Batched: true\n",
            "Location: InMemoryFileIndex [file:/content/df_titles_partitioned]\n",
            "PartitionFilters: [isnotnull(titleType#326), (titleType#326 = short)]\n",
            "ReadSchema: struct<tconst:string,primaryTitle:string,originalTitle:string,isAdult:string,startYear:string,endYear:string,runtimeMinutes:string,genres:string>\n",
            "\n",
            "(2) ColumnarToRow [codegen id : 1]\n",
            "Input [9]: [tconst#318, primaryTitle#319, originalTitle#320, isAdult#321, startYear#322, endYear#323, runtimeMinutes#324, genres#325, titleType#326]\n",
            "\n",
            "\n"
          ]
        }
      ],
      "source": [
        "df_titles_partitions.filter('titleType = \"short\"').explain(\"formatted\")"
      ]
    },
    {
      "cell_type": "markdown",
      "metadata": {
        "id": "8YrLrthm9Bnp"
      },
      "source": [
        "The filter operation does not appear in the execution plan. In cell [24], when we had the data frame without column partitions, a filter step was \n",
        "necessary. "
      ]
    },
    {
      "cell_type": "markdown",
      "metadata": {
        "id": "hWbbjtps9OHB"
      },
      "source": [
        "\n",
        "\n",
        "---\n",
        "\n"
      ]
    },
    {
      "cell_type": "markdown",
      "metadata": {
        "id": "XJdUqtSy9LtE"
      },
      "source": [
        "# Class 04 - **Repartitioning  Dataframes**"
      ]
    },
    {
      "cell_type": "code",
      "execution_count": null,
      "metadata": {
        "colab": {
          "base_uri": "https://localhost:8080/"
        },
        "id": "RARC_Qf89wJ9",
        "outputId": "abe7f4f0-7807-4aa0-9b08-88ddae6495c0"
      },
      "outputs": [
        {
          "data": {
            "text/plain": [
              "6"
            ]
          },
          "execution_count": 33,
          "metadata": {},
          "output_type": "execute_result"
        }
      ],
      "source": [
        "df_titles.rdd.getNumPartitions()"
      ]
    },
    {
      "cell_type": "code",
      "execution_count": null,
      "metadata": {
        "colab": {
          "base_uri": "https://localhost:8080/"
        },
        "id": "AZ4elVG1_snJ",
        "outputId": "6cb2ef5c-a0a0-4675-c450-14dcdbc969a8"
      },
      "outputs": [
        {
          "data": {
            "text/plain": [
              "12"
            ]
          },
          "execution_count": 35,
          "metadata": {},
          "output_type": "execute_result"
        }
      ],
      "source": [
        "df_titles.repartition(12).rdd.getNumPartitions()"
      ]
    },
    {
      "cell_type": "code",
      "execution_count": null,
      "metadata": {
        "colab": {
          "base_uri": "https://localhost:8080/"
        },
        "id": "bUdRZEV_AaC4",
        "outputId": "13609426-a3de-4894-9def-cb308f746bbc"
      },
      "outputs": [
        {
          "data": {
            "text/plain": [
              "6"
            ]
          },
          "execution_count": 36,
          "metadata": {},
          "output_type": "execute_result"
        }
      ],
      "source": [
        "df_titles.coalesce(12).rdd.getNumPartitions()"
      ]
    },
    {
      "cell_type": "markdown",
      "metadata": {
        "id": "idCZ6fZjAl8B"
      },
      "source": [
        "the method coalesce can not be used to increase the number of partitions. "
      ]
    },
    {
      "cell_type": "code",
      "execution_count": null,
      "metadata": {
        "colab": {
          "base_uri": "https://localhost:8080/"
        },
        "id": "5WdpCK8WAlLJ",
        "outputId": "7488fd78-403e-40f3-de55-d8df9444da67"
      },
      "outputs": [
        {
          "name": "stdout",
          "output_type": "stream",
          "text": [
            "== Physical Plan ==\n",
            "AdaptiveSparkPlan (3)\n",
            "+- Exchange (2)\n",
            "   +- Scan csv  (1)\n",
            "\n",
            "\n",
            "(1) Scan csv \n",
            "Output [9]: [tconst#16, titleType#17, primaryTitle#18, originalTitle#19, isAdult#20, startYear#21, endYear#22, runtimeMinutes#23, genres#24]\n",
            "Batched: false\n",
            "Location: InMemoryFileIndex [file:/content/drive/MyDrive/igti_bootcamps/eng_dados_cloud/mod3/title_basics.csv]\n",
            "ReadSchema: struct<tconst:string,titleType:string,primaryTitle:string,originalTitle:string,isAdult:string,startYear:string,endYear:string,runtimeMinutes:string,genres:string>\n",
            "\n",
            "(2) Exchange\n",
            "Input [9]: [tconst#16, titleType#17, primaryTitle#18, originalTitle#19, isAdult#20, startYear#21, endYear#22, runtimeMinutes#23, genres#24]\n",
            "Arguments: RoundRobinPartitioning(12), REPARTITION_BY_NUM, [id=#645]\n",
            "\n",
            "(3) AdaptiveSparkPlan\n",
            "Output [9]: [tconst#16, titleType#17, primaryTitle#18, originalTitle#19, isAdult#20, startYear#21, endYear#22, runtimeMinutes#23, genres#24]\n",
            "Arguments: isFinalPlan=false\n",
            "\n",
            "\n"
          ]
        }
      ],
      "source": [
        "df_titles.repartition(12).explain('formatted')"
      ]
    },
    {
      "cell_type": "code",
      "execution_count": null,
      "metadata": {
        "colab": {
          "base_uri": "https://localhost:8080/"
        },
        "id": "XYRCNj_VBHSO",
        "outputId": "ff39720f-70f3-4797-9d19-4667ca2e7b9e"
      },
      "outputs": [
        {
          "name": "stdout",
          "output_type": "stream",
          "text": [
            "== Physical Plan ==\n",
            "Coalesce (2)\n",
            "+- Scan csv  (1)\n",
            "\n",
            "\n",
            "(1) Scan csv \n",
            "Output [9]: [tconst#16, titleType#17, primaryTitle#18, originalTitle#19, isAdult#20, startYear#21, endYear#22, runtimeMinutes#23, genres#24]\n",
            "Batched: false\n",
            "Location: InMemoryFileIndex [file:/content/drive/MyDrive/igti_bootcamps/eng_dados_cloud/mod3/title_basics.csv]\n",
            "ReadSchema: struct<tconst:string,titleType:string,primaryTitle:string,originalTitle:string,isAdult:string,startYear:string,endYear:string,runtimeMinutes:string,genres:string>\n",
            "\n",
            "(2) Coalesce\n",
            "Input [9]: [tconst#16, titleType#17, primaryTitle#18, originalTitle#19, isAdult#20, startYear#21, endYear#22, runtimeMinutes#23, genres#24]\n",
            "Arguments: 6\n",
            "\n",
            "\n"
          ]
        }
      ],
      "source": [
        "df_titles.coalesce(6).explain('formatted')"
      ]
    },
    {
      "cell_type": "markdown",
      "metadata": {
        "id": "5F44RbOiBTk9"
      },
      "source": [
        "The function coalesce does not perform shuffle of the data. Observe that the execution plan does not exhibit the `Exchange`. The use of coalesce in the repartitioning process makes it more performative. "
      ]
    },
    {
      "cell_type": "markdown",
      "metadata": {
        "id": "Hpq1rELZENvB"
      },
      "source": [
        "\n",
        "\n",
        "---\n",
        "\n"
      ]
    },
    {
      "cell_type": "markdown",
      "metadata": {
        "id": "BS-NncEZEOlJ"
      },
      "source": [
        "# Class 05 - Determining which JOIN to use"
      ]
    },
    {
      "cell_type": "markdown",
      "metadata": {
        "id": "X59-LViWGADq"
      },
      "source": [
        "- **Broadcast Hash Join (BHJ) :** The strategy is to send the complete data to each of the executors in order to perform the shuffle only once. Spark uses this method in some configurations like `spark.sql.autoBroadcastJoinThreshold`. \n",
        "- **Sort Merge Join (SMJ) :** It is Spark's default algorithm. In this case data is sent between the executors via shuffle and then sorted so that the data is partitioned correctly and in the same order. \n",
        "- **Shuffle Hash Join (SHJ) :** It is an algorithm that also uses shuffle, but it compensates this operation by using a hash map that excludes the need to sort the data. The only condition is that one of the DataFrames is significantly smaller than the other, but not by as much as the BHJ."
      ]
    },
    {
      "cell_type": "code",
      "execution_count": null,
      "metadata": {
        "colab": {
          "base_uri": "https://localhost:8080/"
        },
        "id": "eWU_y95mOEil",
        "outputId": "0cadd67a-501d-4daa-b440-0373ec23b7f2"
      },
      "outputs": [
        {
          "name": "stdout",
          "output_type": "stream",
          "text": [
            "+---------+---------+--------------------+--------------------+-------+---------+-------+--------------+--------------------+\n",
            "|   tconst|titleType|        primaryTitle|       originalTitle|isAdult|startYear|endYear|runtimeMinutes|              genres|\n",
            "+---------+---------+--------------------+--------------------+-------+---------+-------+--------------+--------------------+\n",
            "|tt0000001|    short|          Carmencita|          Carmencita|      0|     1894|     \\N|             1|   Documentary,Short|\n",
            "|tt0000002|    short|Le clown et ses c...|Le clown et ses c...|      0|     1892|     \\N|             5|     Animation,Short|\n",
            "|tt0000003|    short|      Pauvre Pierrot|      Pauvre Pierrot|      0|     1892|     \\N|             4|Animation,Comedy,...|\n",
            "|tt0000004|    short|         Un bon bock|         Un bon bock|      0|     1892|     \\N|            12|     Animation,Short|\n",
            "|tt0000005|    short|    Blacksmith Scene|    Blacksmith Scene|      0|     1893|     \\N|             1|        Comedy,Short|\n",
            "|tt0000006|    short|   Chinese Opium Den|   Chinese Opium Den|      0|     1894|     \\N|             1|               Short|\n",
            "|tt0000007|    short|Corbett and Court...|Corbett and Court...|      0|     1894|     \\N|             1|         Short,Sport|\n",
            "|tt0000008|    short|Edison Kinetoscop...|Edison Kinetoscop...|      0|     1894|     \\N|             1|   Documentary,Short|\n",
            "|tt0000009|    short|          Miss Jerry|          Miss Jerry|      0|     1894|     \\N|            40|       Romance,Short|\n",
            "|tt0000010|    short| Leaving the Factory|La sortie de l'us...|      0|     1895|     \\N|             1|   Documentary,Short|\n",
            "|tt0000011|    short|Akrobatisches Pot...|Akrobatisches Pot...|      0|     1895|     \\N|             1|   Documentary,Short|\n",
            "|tt0000012|    short|The Arrival of a ...|L'arrivée d'un tr...|      0|     1896|     \\N|             1|   Documentary,Short|\n",
            "|tt0000013|    short|The Photographica...|Le débarquement d...|      0|     1895|     \\N|             1|   Documentary,Short|\n",
            "|tt0000014|    short| The Waterer Watered|   L'arroseur arrosé|      0|     1895|     \\N|             1|        Comedy,Short|\n",
            "|tt0000015|    short| Autour d'une cabine| Autour d'une cabine|      0|     1894|     \\N|             2|     Animation,Short|\n",
            "|tt0000016|    short|Boat Leaving the ...|Barque sortant du...|      0|     1895|     \\N|             1|   Documentary,Short|\n",
            "|tt0000017|    short|Italienischer Bau...|Italienischer Bau...|      0|     1895|     \\N|             1|   Documentary,Short|\n",
            "|tt0000018|    short|Das boxende Känguruh|Das boxende Känguruh|      0|     1895|     \\N|             1|               Short|\n",
            "|tt0000019|    short|    The Clown Barber|    The Clown Barber|      0|     1898|     \\N|            \\N|        Comedy,Short|\n",
            "|tt0000020|    short|      The Derby 1895|      The Derby 1895|      0|     1895|     \\N|             1|Documentary,Short...|\n",
            "+---------+---------+--------------------+--------------------+-------+---------+-------+--------------+--------------------+\n",
            "only showing top 20 rows\n",
            "\n"
          ]
        }
      ],
      "source": [
        "df_titles.show()"
      ]
    },
    {
      "cell_type": "code",
      "execution_count": null,
      "metadata": {
        "colab": {
          "base_uri": "https://localhost:8080/"
        },
        "id": "RbqEadGVOJOY",
        "outputId": "ed7c919d-c221-4570-e4e4-56d828caee8c"
      },
      "outputs": [
        {
          "name": "stdout",
          "output_type": "stream",
          "text": [
            "+---------+-------------+--------+\n",
            "|   tconst|averageRating|numVotes|\n",
            "+---------+-------------+--------+\n",
            "|tt0000001|          5.7|    1879|\n",
            "|tt0000002|          5.9|     248|\n",
            "|tt0000003|          6.5|    1652|\n",
            "|tt0000004|          5.8|     161|\n",
            "|tt0000005|          6.2|    2476|\n",
            "|tt0000006|          5.2|     165|\n",
            "|tt0000007|          5.4|     771|\n",
            "|tt0000008|          5.4|    2017|\n",
            "|tt0000009|          5.3|     193|\n",
            "|tt0000010|          6.9|    6784|\n",
            "|tt0000011|          5.3|     345|\n",
            "|tt0000012|          7.4|   11652|\n",
            "|tt0000013|          5.7|    1798|\n",
            "|tt0000014|          7.1|    5222|\n",
            "|tt0000015|          6.2|     994|\n",
            "|tt0000016|          5.9|    1407|\n",
            "|tt0000017|          4.6|     306|\n",
            "|tt0000018|          5.3|     562|\n",
            "|tt0000019|          5.2|      30|\n",
            "|tt0000020|          4.8|     332|\n",
            "+---------+-------------+--------+\n",
            "only showing top 20 rows\n",
            "\n"
          ]
        }
      ],
      "source": [
        "df_ratings.show()"
      ]
    },
    {
      "cell_type": "code",
      "execution_count": null,
      "metadata": {
        "colab": {
          "base_uri": "https://localhost:8080/"
        },
        "id": "vXMh0-psOOD5",
        "outputId": "3373a536-d9dd-40bc-f2dd-98d1482699fe"
      },
      "outputs": [
        {
          "name": "stdout",
          "output_type": "stream",
          "text": [
            "== Physical Plan ==\n",
            "AdaptiveSparkPlan (11)\n",
            "+- Project (10)\n",
            "   +- SortMergeJoin Inner (9)\n",
            "      :- Sort (4)\n",
            "      :  +- Exchange (3)\n",
            "      :     +- Filter (2)\n",
            "      :        +- Scan csv  (1)\n",
            "      +- Sort (8)\n",
            "         +- Exchange (7)\n",
            "            +- Filter (6)\n",
            "               +- Scan csv  (5)\n",
            "\n",
            "\n",
            "(1) Scan csv \n",
            "Output [9]: [tconst#16, titleType#17, primaryTitle#18, originalTitle#19, isAdult#20, startYear#21, endYear#22, runtimeMinutes#23, genres#24]\n",
            "Batched: false\n",
            "Location: InMemoryFileIndex [file:/content/drive/MyDrive/igti_bootcamps/eng_dados_cloud/mod3/title_basics.csv]\n",
            "PushedFilters: [IsNotNull(tconst)]\n",
            "ReadSchema: struct<tconst:string,titleType:string,primaryTitle:string,originalTitle:string,isAdult:string,startYear:string,endYear:string,runtimeMinutes:string,genres:string>\n",
            "\n",
            "(2) Filter\n",
            "Input [9]: [tconst#16, titleType#17, primaryTitle#18, originalTitle#19, isAdult#20, startYear#21, endYear#22, runtimeMinutes#23, genres#24]\n",
            "Condition : isnotnull(tconst#16)\n",
            "\n",
            "(3) Exchange\n",
            "Input [9]: [tconst#16, titleType#17, primaryTitle#18, originalTitle#19, isAdult#20, startYear#21, endYear#22, runtimeMinutes#23, genres#24]\n",
            "Arguments: hashpartitioning(tconst#16, 200), ENSURE_REQUIREMENTS, [id=#693]\n",
            "\n",
            "(4) Sort\n",
            "Input [9]: [tconst#16, titleType#17, primaryTitle#18, originalTitle#19, isAdult#20, startYear#21, endYear#22, runtimeMinutes#23, genres#24]\n",
            "Arguments: [tconst#16 ASC NULLS FIRST], false, 0\n",
            "\n",
            "(5) Scan csv \n",
            "Output [3]: [tconst#114, averageRating#115, numVotes#116]\n",
            "Batched: false\n",
            "Location: InMemoryFileIndex [file:/content/drive/MyDrive/igti_bootcamps/eng_dados_cloud/mod3/title_ratings.tsv]\n",
            "PushedFilters: [IsNotNull(tconst)]\n",
            "ReadSchema: struct<tconst:string,averageRating:string,numVotes:string>\n",
            "\n",
            "(6) Filter\n",
            "Input [3]: [tconst#114, averageRating#115, numVotes#116]\n",
            "Condition : isnotnull(tconst#114)\n",
            "\n",
            "(7) Exchange\n",
            "Input [3]: [tconst#114, averageRating#115, numVotes#116]\n",
            "Arguments: hashpartitioning(tconst#114, 200), ENSURE_REQUIREMENTS, [id=#694]\n",
            "\n",
            "(8) Sort\n",
            "Input [3]: [tconst#114, averageRating#115, numVotes#116]\n",
            "Arguments: [tconst#114 ASC NULLS FIRST], false, 0\n",
            "\n",
            "(9) SortMergeJoin\n",
            "Left keys [1]: [tconst#16]\n",
            "Right keys [1]: [tconst#114]\n",
            "Join condition: None\n",
            "\n",
            "(10) Project\n",
            "Output [11]: [tconst#16, titleType#17, primaryTitle#18, originalTitle#19, isAdult#20, startYear#21, endYear#22, runtimeMinutes#23, genres#24, averageRating#115, numVotes#116]\n",
            "Input [12]: [tconst#16, titleType#17, primaryTitle#18, originalTitle#19, isAdult#20, startYear#21, endYear#22, runtimeMinutes#23, genres#24, tconst#114, averageRating#115, numVotes#116]\n",
            "\n",
            "(11) AdaptiveSparkPlan\n",
            "Output [11]: [tconst#16, titleType#17, primaryTitle#18, originalTitle#19, isAdult#20, startYear#21, endYear#22, runtimeMinutes#23, genres#24, averageRating#115, numVotes#116]\n",
            "Arguments: isFinalPlan=false\n",
            "\n",
            "\n"
          ]
        }
      ],
      "source": [
        "df_titles.join(df_ratings.hint('merge'), 'tconst').explain('formatted')"
      ]
    },
    {
      "cell_type": "markdown",
      "metadata": {
        "id": "bzTBAxNsOhz8"
      },
      "source": [
        "The method will exchange data between the executor, sort the data and at the end will perform the merge. This strategy is very expensive. "
      ]
    },
    {
      "cell_type": "code",
      "execution_count": null,
      "metadata": {
        "colab": {
          "base_uri": "https://localhost:8080/"
        },
        "id": "ZTLXeKG3OhFq",
        "outputId": "a64cad07-0a2d-45b1-cfe0-adbd98c30bbb"
      },
      "outputs": [
        {
          "name": "stdout",
          "output_type": "stream",
          "text": [
            "== Physical Plan ==\n",
            "AdaptiveSparkPlan (9)\n",
            "+- Project (8)\n",
            "   +- ShuffledHashJoin Inner BuildRight (7)\n",
            "      :- Exchange (3)\n",
            "      :  +- Filter (2)\n",
            "      :     +- Scan csv  (1)\n",
            "      +- Exchange (6)\n",
            "         +- Filter (5)\n",
            "            +- Scan csv  (4)\n",
            "\n",
            "\n",
            "(1) Scan csv \n",
            "Output [9]: [tconst#16, titleType#17, primaryTitle#18, originalTitle#19, isAdult#20, startYear#21, endYear#22, runtimeMinutes#23, genres#24]\n",
            "Batched: false\n",
            "Location: InMemoryFileIndex [file:/content/drive/MyDrive/igti_bootcamps/eng_dados_cloud/mod3/title_basics.csv]\n",
            "PushedFilters: [IsNotNull(tconst)]\n",
            "ReadSchema: struct<tconst:string,titleType:string,primaryTitle:string,originalTitle:string,isAdult:string,startYear:string,endYear:string,runtimeMinutes:string,genres:string>\n",
            "\n",
            "(2) Filter\n",
            "Input [9]: [tconst#16, titleType#17, primaryTitle#18, originalTitle#19, isAdult#20, startYear#21, endYear#22, runtimeMinutes#23, genres#24]\n",
            "Condition : isnotnull(tconst#16)\n",
            "\n",
            "(3) Exchange\n",
            "Input [9]: [tconst#16, titleType#17, primaryTitle#18, originalTitle#19, isAdult#20, startYear#21, endYear#22, runtimeMinutes#23, genres#24]\n",
            "Arguments: hashpartitioning(tconst#16, 200), ENSURE_REQUIREMENTS, [id=#726]\n",
            "\n",
            "(4) Scan csv \n",
            "Output [3]: [tconst#114, averageRating#115, numVotes#116]\n",
            "Batched: false\n",
            "Location: InMemoryFileIndex [file:/content/drive/MyDrive/igti_bootcamps/eng_dados_cloud/mod3/title_ratings.tsv]\n",
            "PushedFilters: [IsNotNull(tconst)]\n",
            "ReadSchema: struct<tconst:string,averageRating:string,numVotes:string>\n",
            "\n",
            "(5) Filter\n",
            "Input [3]: [tconst#114, averageRating#115, numVotes#116]\n",
            "Condition : isnotnull(tconst#114)\n",
            "\n",
            "(6) Exchange\n",
            "Input [3]: [tconst#114, averageRating#115, numVotes#116]\n",
            "Arguments: hashpartitioning(tconst#114, 200), ENSURE_REQUIREMENTS, [id=#727]\n",
            "\n",
            "(7) ShuffledHashJoin\n",
            "Left keys [1]: [tconst#16]\n",
            "Right keys [1]: [tconst#114]\n",
            "Join condition: None\n",
            "\n",
            "(8) Project\n",
            "Output [11]: [tconst#16, titleType#17, primaryTitle#18, originalTitle#19, isAdult#20, startYear#21, endYear#22, runtimeMinutes#23, genres#24, averageRating#115, numVotes#116]\n",
            "Input [12]: [tconst#16, titleType#17, primaryTitle#18, originalTitle#19, isAdult#20, startYear#21, endYear#22, runtimeMinutes#23, genres#24, tconst#114, averageRating#115, numVotes#116]\n",
            "\n",
            "(9) AdaptiveSparkPlan\n",
            "Output [11]: [tconst#16, titleType#17, primaryTitle#18, originalTitle#19, isAdult#20, startYear#21, endYear#22, runtimeMinutes#23, genres#24, averageRating#115, numVotes#116]\n",
            "Arguments: isFinalPlan=false\n",
            "\n",
            "\n"
          ]
        }
      ],
      "source": [
        "df_titles.join(df_ratings.hint('shuffle_hash'), 'tconst').explain('formatted')"
      ]
    },
    {
      "cell_type": "markdown",
      "metadata": {
        "id": "ymBpHQ3EPCxT"
      },
      "source": [
        "Observe that sort operation does not appear in this strategy. For this reason, this algorithm is more efficient than SMJ. "
      ]
    },
    {
      "cell_type": "code",
      "execution_count": null,
      "metadata": {
        "colab": {
          "base_uri": "https://localhost:8080/"
        },
        "id": "hnlvppXbPmGg",
        "outputId": "d864a0d8-b8b8-4c5a-b2ac-497ed6b22076"
      },
      "outputs": [
        {
          "name": "stdout",
          "output_type": "stream",
          "text": [
            "== Physical Plan ==\n",
            "AdaptiveSparkPlan (8)\n",
            "+- Project (7)\n",
            "   +- BroadcastHashJoin Inner BuildRight (6)\n",
            "      :- Filter (2)\n",
            "      :  +- Scan csv  (1)\n",
            "      +- BroadcastExchange (5)\n",
            "         +- Filter (4)\n",
            "            +- Scan csv  (3)\n",
            "\n",
            "\n",
            "(1) Scan csv \n",
            "Output [9]: [tconst#16, titleType#17, primaryTitle#18, originalTitle#19, isAdult#20, startYear#21, endYear#22, runtimeMinutes#23, genres#24]\n",
            "Batched: false\n",
            "Location: InMemoryFileIndex [file:/content/drive/MyDrive/igti_bootcamps/eng_dados_cloud/mod3/title_basics.csv]\n",
            "PushedFilters: [IsNotNull(tconst)]\n",
            "ReadSchema: struct<tconst:string,titleType:string,primaryTitle:string,originalTitle:string,isAdult:string,startYear:string,endYear:string,runtimeMinutes:string,genres:string>\n",
            "\n",
            "(2) Filter\n",
            "Input [9]: [tconst#16, titleType#17, primaryTitle#18, originalTitle#19, isAdult#20, startYear#21, endYear#22, runtimeMinutes#23, genres#24]\n",
            "Condition : isnotnull(tconst#16)\n",
            "\n",
            "(3) Scan csv \n",
            "Output [3]: [tconst#114, averageRating#115, numVotes#116]\n",
            "Batched: false\n",
            "Location: InMemoryFileIndex [file:/content/drive/MyDrive/igti_bootcamps/eng_dados_cloud/mod3/title_ratings.tsv]\n",
            "PushedFilters: [IsNotNull(tconst)]\n",
            "ReadSchema: struct<tconst:string,averageRating:string,numVotes:string>\n",
            "\n",
            "(4) Filter\n",
            "Input [3]: [tconst#114, averageRating#115, numVotes#116]\n",
            "Condition : isnotnull(tconst#114)\n",
            "\n",
            "(5) BroadcastExchange\n",
            "Input [3]: [tconst#114, averageRating#115, numVotes#116]\n",
            "Arguments: HashedRelationBroadcastMode(List(input[0, string, false]),false), [id=#756]\n",
            "\n",
            "(6) BroadcastHashJoin\n",
            "Left keys [1]: [tconst#16]\n",
            "Right keys [1]: [tconst#114]\n",
            "Join condition: None\n",
            "\n",
            "(7) Project\n",
            "Output [11]: [tconst#16, titleType#17, primaryTitle#18, originalTitle#19, isAdult#20, startYear#21, endYear#22, runtimeMinutes#23, genres#24, averageRating#115, numVotes#116]\n",
            "Input [12]: [tconst#16, titleType#17, primaryTitle#18, originalTitle#19, isAdult#20, startYear#21, endYear#22, runtimeMinutes#23, genres#24, tconst#114, averageRating#115, numVotes#116]\n",
            "\n",
            "(8) AdaptiveSparkPlan\n",
            "Output [11]: [tconst#16, titleType#17, primaryTitle#18, originalTitle#19, isAdult#20, startYear#21, endYear#22, runtimeMinutes#23, genres#24, averageRating#115, numVotes#116]\n",
            "Arguments: isFinalPlan=false\n",
            "\n",
            "\n"
          ]
        }
      ],
      "source": [
        "df_titles.join(df_ratings.hint('broadcast'), 'tconst').explain('formatted')"
      ]
    },
    {
      "cell_type": "markdown",
      "metadata": {
        "id": "9iEH_rDBP3pP"
      },
      "source": [
        "This is the most efficient execution plan. Operation like, sort and exchange do not appear in this case. "
      ]
    },
    {
      "cell_type": "code",
      "execution_count": null,
      "metadata": {
        "colab": {
          "base_uri": "https://localhost:8080/"
        },
        "id": "pnXqLdCVPraV",
        "outputId": "ba6b2773-127f-4c83-f1f4-973bb560a57e"
      },
      "outputs": [
        {
          "name": "stdout",
          "output_type": "stream",
          "text": [
            "== Physical Plan ==\n",
            "AdaptiveSparkPlan (8)\n",
            "+- Project (7)\n",
            "   +- BroadcastHashJoin Inner BuildRight (6)\n",
            "      :- Filter (2)\n",
            "      :  +- Scan csv  (1)\n",
            "      +- BroadcastExchange (5)\n",
            "         +- Filter (4)\n",
            "            +- Scan csv  (3)\n",
            "\n",
            "\n",
            "(1) Scan csv \n",
            "Output [9]: [tconst#16, titleType#17, primaryTitle#18, originalTitle#19, isAdult#20, startYear#21, endYear#22, runtimeMinutes#23, genres#24]\n",
            "Batched: false\n",
            "Location: InMemoryFileIndex [file:/content/drive/MyDrive/igti_bootcamps/eng_dados_cloud/mod3/title_basics.csv]\n",
            "PushedFilters: [IsNotNull(tconst)]\n",
            "ReadSchema: struct<tconst:string,titleType:string,primaryTitle:string,originalTitle:string,isAdult:string,startYear:string,endYear:string,runtimeMinutes:string,genres:string>\n",
            "\n",
            "(2) Filter\n",
            "Input [9]: [tconst#16, titleType#17, primaryTitle#18, originalTitle#19, isAdult#20, startYear#21, endYear#22, runtimeMinutes#23, genres#24]\n",
            "Condition : isnotnull(tconst#16)\n",
            "\n",
            "(3) Scan csv \n",
            "Output [3]: [tconst#114, averageRating#115, numVotes#116]\n",
            "Batched: false\n",
            "Location: InMemoryFileIndex [file:/content/drive/MyDrive/igti_bootcamps/eng_dados_cloud/mod3/title_ratings.tsv]\n",
            "PushedFilters: [IsNotNull(tconst)]\n",
            "ReadSchema: struct<tconst:string,averageRating:string,numVotes:string>\n",
            "\n",
            "(4) Filter\n",
            "Input [3]: [tconst#114, averageRating#115, numVotes#116]\n",
            "Condition : isnotnull(tconst#114)\n",
            "\n",
            "(5) BroadcastExchange\n",
            "Input [3]: [tconst#114, averageRating#115, numVotes#116]\n",
            "Arguments: HashedRelationBroadcastMode(List(input[0, string, false]),false), [id=#785]\n",
            "\n",
            "(6) BroadcastHashJoin\n",
            "Left keys [1]: [tconst#16]\n",
            "Right keys [1]: [tconst#114]\n",
            "Join condition: None\n",
            "\n",
            "(7) Project\n",
            "Output [11]: [tconst#16, titleType#17, primaryTitle#18, originalTitle#19, isAdult#20, startYear#21, endYear#22, runtimeMinutes#23, genres#24, averageRating#115, numVotes#116]\n",
            "Input [12]: [tconst#16, titleType#17, primaryTitle#18, originalTitle#19, isAdult#20, startYear#21, endYear#22, runtimeMinutes#23, genres#24, tconst#114, averageRating#115, numVotes#116]\n",
            "\n",
            "(8) AdaptiveSparkPlan\n",
            "Output [11]: [tconst#16, titleType#17, primaryTitle#18, originalTitle#19, isAdult#20, startYear#21, endYear#22, runtimeMinutes#23, genres#24, averageRating#115, numVotes#116]\n",
            "Arguments: isFinalPlan=false\n",
            "\n",
            "\n"
          ]
        }
      ],
      "source": [
        "df_titles.join(f.broadcast(df_ratings), 'tconst').explain('formatted')"
      ]
    },
    {
      "cell_type": "code",
      "execution_count": 2,
      "metadata": {
        "id": "HNJE3QgOQjsk"
      },
      "outputs": [],
      "source": [
        "import time\n",
        "import numpy as np"
      ]
    },
    {
      "cell_type": "markdown",
      "metadata": {
        "id": "ltDS8I4FQwDs"
      },
      "source": [
        "### **Sort Merge Join**"
      ]
    },
    {
      "cell_type": "code",
      "execution_count": null,
      "metadata": {
        "colab": {
          "base_uri": "https://localhost:8080/"
        },
        "id": "y9-I48zjQnJH",
        "outputId": "d90f9ef8-9386-4dca-ba28-13efb2c5615a"
      },
      "outputs": [
        {
          "name": "stdout",
          "output_type": "stream",
          "text": [
            "Average : 24.74466092348099 \n",
            " STD : 1.147800849570479\n"
          ]
        }
      ],
      "source": [
        "times = []\n",
        "for i in range(100) : \n",
        "  start = time.time()\n",
        "  df_titles.join(df_ratings.hint('merge'),'tconst').count()\n",
        "  end = time.time()\n",
        "  times.append(end - start)\n",
        "\n",
        "print('Average :', np.mean(times), '\\n', 'STD :', np.std(times))"
      ]
    },
    {
      "cell_type": "markdown",
      "metadata": {
        "id": "HilqdM7_RdnY"
      },
      "source": [
        "### **Shuffle Hash Join**"
      ]
    },
    {
      "cell_type": "code",
      "execution_count": null,
      "metadata": {
        "colab": {
          "background_save": true
        },
        "id": "JE5QpWL2RdGe",
        "outputId": "72d54e8c-8c7f-4712-9058-0f8c35a102d3"
      },
      "outputs": [
        {
          "name": "stdout",
          "output_type": "stream",
          "text": [
            "Average : 20.06209766149521 \n",
            " STD : 1.2726082816190447\n"
          ]
        }
      ],
      "source": [
        "times = []\n",
        "for i in range(100) : \n",
        "  start = time.time()\n",
        "  df_titles.join(df_ratings.hint('shuffle_hash'),'tconst').count()\n",
        "  end = time.time()\n",
        "  times.append(end - start)\n",
        "\n",
        "print('Average :', np.mean(times), '\\n', 'STD :', np.std(times))"
      ]
    },
    {
      "cell_type": "markdown",
      "source": [
        "### **Broadcast Join**"
      ],
      "metadata": {
        "id": "L8KR628Uicba"
      }
    },
    {
      "cell_type": "code",
      "source": [
        "times = []\n",
        "for i in range(100) : \n",
        "  start = time.time()\n",
        "  df_titles.join(df_ratings.hint('broadcast'),'tconst').count()\n",
        "  end = time.time()\n",
        "  times.append(end - start)\n",
        "\n",
        "print('Average :', np.mean(times), '\\n', 'STD :', np.std(times))"
      ],
      "metadata": {
        "colab": {
          "base_uri": "https://localhost:8080/"
        },
        "id": "_8Fy-AUZinQ-",
        "outputId": "5b5067b8-c4c9-403e-86f1-0611fb6961f0"
      },
      "execution_count": 25,
      "outputs": [
        {
          "output_type": "stream",
          "name": "stdout",
          "text": [
            "Average : 17.349860653877258 \n",
            " STD : 0.5105059343897671\n"
          ]
        }
      ]
    }
  ],
  "metadata": {
    "colab": {
      "collapsed_sections": [],
      "name": "mod3_cap6.ipynb",
      "toc_visible": true,
      "provenance": []
    },
    "kernelspec": {
      "display_name": "Python 3",
      "name": "python3"
    },
    "language_info": {
      "name": "python"
    }
  },
  "nbformat": 4,
  "nbformat_minor": 0
}