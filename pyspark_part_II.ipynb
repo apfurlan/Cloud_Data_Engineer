{
  "nbformat": 4,
  "nbformat_minor": 0,
  "metadata": {
    "colab": {
      "name": "EDC_cap3.ipynb",
      "provenance": [],
      "toc_visible": true,
      "mount_file_id": "1FvRFSbtRX7-WnSqW2y-8xHwZLTzU8bDt",
      "authorship_tag": "ABX9TyNhklriGCpwV/m5AfLw4VBZ"
    },
    "kernelspec": {
      "name": "python3",
      "display_name": "Python 3"
    },
    "language_info": {
      "name": "python"
    }
  },
  "cells": [
    {
      "cell_type": "markdown",
      "metadata": {
        "id": "ZYQOAaUMcZaK"
      },
      "source": [
        "# **Módulo 3 - Manipulando dados com Spark - Parte I**\n",
        "\n",
        "## **Importando bibliotecas do Spark**"
      ]
    },
    {
      "cell_type": "code",
      "metadata": {
        "id": "-UnIpb1plxFh"
      },
      "source": [
        "%%bash\n",
        "\n",
        "# Instal Java\n",
        "apt-get install openjdk-8-jdk-headless -qq > /dev/null\n",
        "\n",
        "# Install PySpark\n",
        "pip install -q pyspark"
      ],
      "execution_count": null,
      "outputs": []
    },
    {
      "cell_type": "code",
      "metadata": {
        "id": "_w5Uk758dqZv"
      },
      "source": [
        "import os\n",
        "os.environ['JAVA_HOME'] = '/usr/lib/jvm/java-8-openjdk-amd64'\n",
        "\n",
        "from pyspark.sql import SparkSession\n",
        "\n",
        "spark = SparkSession.builder.master(\"local[*]\").getOrCreate()"
      ],
      "execution_count": null,
      "outputs": []
    },
    {
      "cell_type": "markdown",
      "metadata": {
        "id": "8skAk9tlAFqr"
      },
      "source": [
        "**OBS :** A preparação do ambiente não é igual ao da aula porque estou fazendo \n",
        "o exercício no Google Colab. "
      ]
    },
    {
      "cell_type": "code",
      "metadata": {
        "id": "rcGWi-Is_bwi"
      },
      "source": [
        "df = spark.createDataFrame([('Fulano','1'),\n",
        "                            ('Ciclano','2')], \n",
        "                           schema='nome STRING, id STRING')"
      ],
      "execution_count": null,
      "outputs": []
    },
    {
      "cell_type": "code",
      "metadata": {
        "colab": {
          "base_uri": "https://localhost:8080/"
        },
        "id": "XOzcRlzV_-7j",
        "outputId": "07bbea09-4a78-4c79-b04f-ebca293fefb5"
      },
      "source": [
        "df.show()"
      ],
      "execution_count": null,
      "outputs": [
        {
          "output_type": "stream",
          "name": "stdout",
          "text": [
            "+-------+---+\n",
            "|   nome| id|\n",
            "+-------+---+\n",
            "| Fulano|  1|\n",
            "|Ciclano|  2|\n",
            "+-------+---+\n",
            "\n"
          ]
        }
      ]
    },
    {
      "cell_type": "markdown",
      "metadata": {
        "id": "SiQRcC1kPpPg"
      },
      "source": [
        "## **Acessando os Tipos do Spark**"
      ]
    },
    {
      "cell_type": "code",
      "metadata": {
        "id": "sU0NoVPTBI4H"
      },
      "source": [
        "from pyspark.sql.types import *\n",
        "from pyspark.sql.functions import col"
      ],
      "execution_count": null,
      "outputs": []
    },
    {
      "cell_type": "code",
      "metadata": {
        "id": "-jY0eugiPvE9"
      },
      "source": [
        "int_type = IntegerType()"
      ],
      "execution_count": null,
      "outputs": []
    },
    {
      "cell_type": "code",
      "metadata": {
        "id": "u5-jdi2BPzMm"
      },
      "source": [
        "array_type = ArrayType(IntegerType())"
      ],
      "execution_count": null,
      "outputs": []
    },
    {
      "cell_type": "code",
      "metadata": {
        "colab": {
          "base_uri": "https://localhost:8080/"
        },
        "id": "WwfLTywOP6tO",
        "outputId": "94c8806c-05f7-49a4-9e53-076c83367b38"
      },
      "source": [
        "array_type"
      ],
      "execution_count": null,
      "outputs": [
        {
          "output_type": "execute_result",
          "data": {
            "text/plain": [
              "ArrayType(IntegerType,true)"
            ]
          },
          "metadata": {},
          "execution_count": 9
        }
      ]
    },
    {
      "cell_type": "markdown",
      "metadata": {
        "id": "t9qd-9OvPh7_"
      },
      "source": [
        "## **Convertendo os tipos de Colunas**"
      ]
    },
    {
      "cell_type": "code",
      "metadata": {
        "colab": {
          "base_uri": "https://localhost:8080/"
        },
        "id": "Va-9KbQOPgXy",
        "outputId": "b4d7aadb-edf6-4354-b19d-5a75fc4a8343"
      },
      "source": [
        "df.dtypes"
      ],
      "execution_count": null,
      "outputs": [
        {
          "output_type": "execute_result",
          "data": {
            "text/plain": [
              "[('nome', 'string'), ('id', 'string')]"
            ]
          },
          "metadata": {},
          "execution_count": 10
        }
      ]
    },
    {
      "cell_type": "code",
      "metadata": {
        "colab": {
          "base_uri": "https://localhost:8080/"
        },
        "id": "WWe0QTr6QHKn",
        "outputId": "b8b3efec-2c1d-416a-8bbd-014b24f6d7ba"
      },
      "source": [
        "df.select('nome',col('id').cast(IntegerType()))"
      ],
      "execution_count": null,
      "outputs": [
        {
          "output_type": "execute_result",
          "data": {
            "text/plain": [
              "DataFrame[nome: string, id: int]"
            ]
          },
          "metadata": {},
          "execution_count": 11
        }
      ]
    },
    {
      "cell_type": "code",
      "metadata": {
        "colab": {
          "base_uri": "https://localhost:8080/"
        },
        "id": "OUrwbs5yRmxP",
        "outputId": "4e3af4d3-8bca-4e8f-86e0-86b5c1989bf0"
      },
      "source": [
        "df.show()"
      ],
      "execution_count": null,
      "outputs": [
        {
          "output_type": "stream",
          "name": "stdout",
          "text": [
            "+-------+---+\n",
            "|   nome| id|\n",
            "+-------+---+\n",
            "| Fulano|  1|\n",
            "|Ciclano|  2|\n",
            "+-------+---+\n",
            "\n"
          ]
        }
      ]
    },
    {
      "cell_type": "code",
      "metadata": {
        "colab": {
          "base_uri": "https://localhost:8080/"
        },
        "id": "ig6ppuTXRYmH",
        "outputId": "547ebd4c-6560-4290-d8a6-1ae963a5015d"
      },
      "source": [
        "df.select('nome',col('id').cast('int'))"
      ],
      "execution_count": null,
      "outputs": [
        {
          "output_type": "execute_result",
          "data": {
            "text/plain": [
              "DataFrame[nome: string, id: int]"
            ]
          },
          "metadata": {},
          "execution_count": 13
        }
      ]
    },
    {
      "cell_type": "code",
      "metadata": {
        "colab": {
          "base_uri": "https://localhost:8080/"
        },
        "id": "-Nvb5PjbRijA",
        "outputId": "3fb88b07-b52e-4294-d61b-1a7bbf19825b"
      },
      "source": [
        "df.show()"
      ],
      "execution_count": null,
      "outputs": [
        {
          "output_type": "stream",
          "name": "stdout",
          "text": [
            "+-------+---+\n",
            "|   nome| id|\n",
            "+-------+---+\n",
            "| Fulano|  1|\n",
            "|Ciclano|  2|\n",
            "+-------+---+\n",
            "\n"
          ]
        }
      ]
    },
    {
      "cell_type": "markdown",
      "metadata": {
        "id": "iaYo-SYpTbKq"
      },
      "source": [
        "## **Schema e Criação de DataFrames**\n",
        "\n",
        "Um schema no Spark é uma especificação de tipos de colunas de um DataFrame. Eles são usadaos na leitura de dados externos e criação de DataFrames, e podem\n",
        "ser passados diretamente no Spark ou podem ser inferidos. Passar um schema na \n",
        "leitura traz benefícios interessantes como : \n",
        "\n",
        "  - Evita que o Spark faça inferência de tipos, o que é custoso e demorado \n",
        "  dependendo do tamanho do arquivo, laém de propenso a erros; \n",
        "  - Permite que usuário identifique erros nos dados logo na leitura, caso \n",
        "  não sigam o schema especificado. "
      ]
    },
    {
      "cell_type": "code",
      "metadata": {
        "id": "7blgQfXFTWYQ"
      },
      "source": [
        "df = spark.createDataFrame([('Fulano'  ,1),\n",
        "                            ('Ciclano' ,2),\n",
        "                            ('Beltrano',3),\n",
        "                            ('Deltrano',4)], \n",
        "                            schema=['nome','id'])"
      ],
      "execution_count": null,
      "outputs": []
    },
    {
      "cell_type": "code",
      "metadata": {
        "colab": {
          "base_uri": "https://localhost:8080/"
        },
        "id": "NZGXtlagBI4h",
        "outputId": "0cca7612-b68e-4bac-d72e-3ecb34e6a842"
      },
      "source": [
        "df.show()"
      ],
      "execution_count": null,
      "outputs": [
        {
          "output_type": "stream",
          "name": "stdout",
          "text": [
            "+--------+---+\n",
            "|    nome| id|\n",
            "+--------+---+\n",
            "|  Fulano|  1|\n",
            "| Ciclano|  2|\n",
            "|Beltrano|  3|\n",
            "|Deltrano|  4|\n",
            "+--------+---+\n",
            "\n"
          ]
        }
      ]
    },
    {
      "cell_type": "code",
      "metadata": {
        "colab": {
          "base_uri": "https://localhost:8080/"
        },
        "id": "_vpIewuFCgwp",
        "outputId": "7fc9fd08-77d4-4c00-8cd3-5dd4593eb5f8"
      },
      "source": [
        "df.dtypes"
      ],
      "execution_count": null,
      "outputs": [
        {
          "output_type": "execute_result",
          "data": {
            "text/plain": [
              "[('nome', 'string'), ('id', 'bigint')]"
            ]
          },
          "metadata": {},
          "execution_count": 17
        }
      ]
    },
    {
      "cell_type": "markdown",
      "metadata": {
        "id": "f0IOIeAIDa98"
      },
      "source": [
        "## **Criando schemas programaticamente**"
      ]
    },
    {
      "cell_type": "code",
      "metadata": {
        "id": "5YIDaDTxDXZA"
      },
      "source": [
        "schema = \\\n",
        "  StructType([\n",
        "    StructField('nome',StringType()),\n",
        "    StructField('id'  ,IntegerType())\n",
        "  ])"
      ],
      "execution_count": null,
      "outputs": []
    },
    {
      "cell_type": "code",
      "metadata": {
        "id": "uIQbagUbEnDI"
      },
      "source": [
        "df = spark.createDataFrame([('Fulano'  ,1),\n",
        "                            ('Ciclano' ,2),\n",
        "                            ('Beltrano',3),\n",
        "                            ('Deltrano',4)], \n",
        "                            schema=schema)"
      ],
      "execution_count": null,
      "outputs": []
    },
    {
      "cell_type": "code",
      "metadata": {
        "colab": {
          "base_uri": "https://localhost:8080/"
        },
        "id": "s-4udmByErA-",
        "outputId": "f9a77fdc-3d38-4309-c2f3-d56c3d2facf1"
      },
      "source": [
        "df.show()"
      ],
      "execution_count": null,
      "outputs": [
        {
          "output_type": "stream",
          "name": "stdout",
          "text": [
            "+--------+---+\n",
            "|    nome| id|\n",
            "+--------+---+\n",
            "|  Fulano|  1|\n",
            "| Ciclano|  2|\n",
            "|Beltrano|  3|\n",
            "|Deltrano|  4|\n",
            "+--------+---+\n",
            "\n"
          ]
        }
      ]
    },
    {
      "cell_type": "code",
      "metadata": {
        "colab": {
          "base_uri": "https://localhost:8080/"
        },
        "id": "zyY_cKXaEuLA",
        "outputId": "cec86b76-4ad7-4c1c-8ba7-1dc0cc29e245"
      },
      "source": [
        "df.dtypes"
      ],
      "execution_count": null,
      "outputs": [
        {
          "output_type": "execute_result",
          "data": {
            "text/plain": [
              "[('nome', 'string'), ('id', 'int')]"
            ]
          },
          "metadata": {},
          "execution_count": 21
        }
      ]
    },
    {
      "cell_type": "markdown",
      "metadata": {
        "id": "lWF-8DZcFV1i"
      },
      "source": [
        "## **Criando schemas com DDL**"
      ]
    },
    {
      "cell_type": "code",
      "metadata": {
        "id": "NN2q2UkuFyX5"
      },
      "source": [
        "schema = 'nome STRING, id INT' "
      ],
      "execution_count": null,
      "outputs": []
    },
    {
      "cell_type": "code",
      "metadata": {
        "id": "HsVGAtCSF7t5"
      },
      "source": [
        "df = spark.createDataFrame([('Fulano'  ,1),\n",
        "                            ('Ciclano' ,2),\n",
        "                            ('Beltrano',3),\n",
        "                            ('Deltrano',4)], \n",
        "                            schema=schema)"
      ],
      "execution_count": null,
      "outputs": []
    },
    {
      "cell_type": "code",
      "metadata": {
        "colab": {
          "base_uri": "https://localhost:8080/"
        },
        "id": "RhudxUSZGASS",
        "outputId": "85ffbe88-8708-4273-ab8e-fd669d06629a"
      },
      "source": [
        "df.show()"
      ],
      "execution_count": null,
      "outputs": [
        {
          "output_type": "stream",
          "name": "stdout",
          "text": [
            "+--------+---+\n",
            "|    nome| id|\n",
            "+--------+---+\n",
            "|  Fulano|  1|\n",
            "| Ciclano|  2|\n",
            "|Beltrano|  3|\n",
            "|Deltrano|  4|\n",
            "+--------+---+\n",
            "\n"
          ]
        }
      ]
    },
    {
      "cell_type": "code",
      "metadata": {
        "colab": {
          "base_uri": "https://localhost:8080/"
        },
        "id": "_vJqFLmwGCZo",
        "outputId": "f313dadb-a5b3-4b3a-8188-00e88a1a5e9e"
      },
      "source": [
        "df.dtypes"
      ],
      "execution_count": null,
      "outputs": [
        {
          "output_type": "execute_result",
          "data": {
            "text/plain": [
              "[('nome', 'string'), ('id', 'int')]"
            ]
          },
          "metadata": {},
          "execution_count": 25
        }
      ]
    },
    {
      "cell_type": "markdown",
      "metadata": {
        "id": "husCstajGxVV"
      },
      "source": [
        "## **Criando DataFrames**"
      ]
    },
    {
      "cell_type": "code",
      "metadata": {
        "id": "SuHaW4CUG2S3"
      },
      "source": [
        "data = [('Fulano'  ,1),\n",
        "        ('Ciclano' ,2),\n",
        "        ('Beltrano',3),\n",
        "        ('Deltrano',4)]"
      ],
      "execution_count": null,
      "outputs": []
    },
    {
      "cell_type": "code",
      "metadata": {
        "id": "ZcljhesaIRP7"
      },
      "source": [
        "schema = 'nome STRING, id INT' "
      ],
      "execution_count": null,
      "outputs": []
    },
    {
      "cell_type": "code",
      "metadata": {
        "id": "3kkhykYPG_oL"
      },
      "source": [
        "df = spark.createDataFrame(data,schema=schema)"
      ],
      "execution_count": null,
      "outputs": []
    },
    {
      "cell_type": "code",
      "metadata": {
        "colab": {
          "base_uri": "https://localhost:8080/"
        },
        "id": "6Ixy6n8LHPx5",
        "outputId": "80900513-217d-4542-e7f8-6d1ac4d97283"
      },
      "source": [
        "df.dtypes"
      ],
      "execution_count": null,
      "outputs": [
        {
          "output_type": "execute_result",
          "data": {
            "text/plain": [
              "[('nome', 'string'), ('id', 'int')]"
            ]
          },
          "metadata": {},
          "execution_count": 29
        }
      ]
    },
    {
      "cell_type": "code",
      "metadata": {
        "colab": {
          "base_uri": "https://localhost:8080/"
        },
        "id": "3Qg3Dn2RIELo",
        "outputId": "d37d551e-28ce-4cb9-b01b-3e25af1803aa"
      },
      "source": [
        "df.printSchema()"
      ],
      "execution_count": null,
      "outputs": [
        {
          "output_type": "stream",
          "name": "stdout",
          "text": [
            "root\n",
            " |-- nome: string (nullable = true)\n",
            " |-- id: integer (nullable = true)\n",
            "\n"
          ]
        }
      ]
    },
    {
      "cell_type": "code",
      "metadata": {
        "colab": {
          "base_uri": "https://localhost:8080/"
        },
        "id": "8pbM_FQoIIdH",
        "outputId": "43372acc-0d69-4985-d65c-32b7f495a553"
      },
      "source": [
        "spark.range(100).show()"
      ],
      "execution_count": null,
      "outputs": [
        {
          "output_type": "stream",
          "name": "stdout",
          "text": [
            "+---+\n",
            "| id|\n",
            "+---+\n",
            "|  0|\n",
            "|  1|\n",
            "|  2|\n",
            "|  3|\n",
            "|  4|\n",
            "|  5|\n",
            "|  6|\n",
            "|  7|\n",
            "|  8|\n",
            "|  9|\n",
            "| 10|\n",
            "| 11|\n",
            "| 12|\n",
            "| 13|\n",
            "| 14|\n",
            "| 15|\n",
            "| 16|\n",
            "| 17|\n",
            "| 18|\n",
            "| 19|\n",
            "+---+\n",
            "only showing top 20 rows\n",
            "\n"
          ]
        }
      ]
    },
    {
      "cell_type": "markdown",
      "metadata": {
        "id": "5qg_kW12KrzM"
      },
      "source": [
        "## **Leitura e Escrita de Dados**"
      ]
    },
    {
      "cell_type": "code",
      "metadata": {
        "id": "6BX9gGlMOTXa"
      },
      "source": [
        "link_tab = '/content/drive/MyDrive/igti_bootcamps/eng_dados_cloud/mod3/tab_cnae.csv'"
      ],
      "execution_count": null,
      "outputs": []
    },
    {
      "cell_type": "markdown",
      "metadata": {
        "id": "wh2RsPm9Orgv"
      },
      "source": [
        "### **DataFrameReader**\n",
        "\n",
        "      `spark.read.format(format).option(args).load(file_path)`\n",
        "\n",
        "### **DataFrameWriter**\n",
        "\n",
        "      `spark.write.format(format).option(args).load(file_path)`\n",
        "\n",
        "### **Lendo e Escrevendo CSV**\n",
        "Opções mais comuns : \n",
        "  - header\n",
        "  - inferSchema\n",
        "  - sep\n",
        "  - encoding"
      ]
    },
    {
      "cell_type": "code",
      "metadata": {
        "id": "CpsxO-pKIwpo"
      },
      "source": [
        "#df = spark.read.format('csv').load(link_tab)\n",
        "df = spark.read.csv(link_tab,sep=',',header=True)"
      ],
      "execution_count": null,
      "outputs": []
    },
    {
      "cell_type": "code",
      "metadata": {
        "colab": {
          "base_uri": "https://localhost:8080/"
        },
        "id": "nzB9qGuIRzIR",
        "outputId": "e979ebb1-4a3e-4647-ebe0-60a144cce2d7"
      },
      "source": [
        "df.limit(5).show()"
      ],
      "execution_count": null,
      "outputs": [
        {
          "output_type": "stream",
          "name": "stdout",
          "text": [
            "+------+--------------------+---------+-----------+\n",
            "|  CNAE|           DESCRIÇÃO|CÓD.SETOR| NOME SETOR|\n",
            "+------+--------------------+---------+-----------+\n",
            "|111301|    Cultivo de arroz|        1|AGRICULTURA|\n",
            "|111302|    Cultivo de milho|        1|AGRICULTURA|\n",
            "|111303|    Cultivo de trigo|        1|AGRICULTURA|\n",
            "|111399|Cultivo de outros...|        1|AGRICULTURA|\n",
            "|112101|Cultivo de algodã...|        1|AGRICULTURA|\n",
            "+------+--------------------+---------+-----------+\n",
            "\n"
          ]
        }
      ]
    },
    {
      "cell_type": "markdown",
      "metadata": {
        "id": "PeQYhy08SnZQ"
      },
      "source": [
        "## **Definindo o schema**"
      ]
    },
    {
      "cell_type": "code",
      "metadata": {
        "id": "45I0vDwbSmPG"
      },
      "source": [
        "schema = 'cod_cnae STRING, descricao STRING, cod_setor INT, nome_setor STRING '"
      ],
      "execution_count": null,
      "outputs": []
    },
    {
      "cell_type": "code",
      "metadata": {
        "id": "oOWwilsuTEXd"
      },
      "source": [
        "df = spark.read.csv(link_tab,sep=',',header=True, schema=schema)"
      ],
      "execution_count": null,
      "outputs": []
    },
    {
      "cell_type": "code",
      "metadata": {
        "colab": {
          "base_uri": "https://localhost:8080/"
        },
        "id": "CKCUSC11UjL8",
        "outputId": "38cddac8-4e69-4143-f176-2c235defba2f"
      },
      "source": [
        "df.dtypes"
      ],
      "execution_count": null,
      "outputs": [
        {
          "output_type": "execute_result",
          "data": {
            "text/plain": [
              "[('cod_cnae', 'string'),\n",
              " ('descricao', 'string'),\n",
              " ('cod_setor', 'int'),\n",
              " ('nome_setor', 'string')]"
            ]
          },
          "metadata": {},
          "execution_count": 37
        }
      ]
    },
    {
      "cell_type": "markdown",
      "metadata": {
        "id": "pwSdM89kUv1O"
      },
      "source": [
        "outra forma de fazer seria"
      ]
    },
    {
      "cell_type": "code",
      "metadata": {
        "colab": {
          "base_uri": "https://localhost:8080/"
        },
        "id": "j5Eevu8lU0LF",
        "outputId": "c5f14f98-4d2b-4aa3-810e-5403670b6f23"
      },
      "source": [
        "df = (\n",
        "    spark.read\n",
        "    .format('csv')\n",
        "    .option('header','true')\n",
        "    .option('sep',',')\n",
        "    .schema(schema)\n",
        "    .load(link_tab)\n",
        "    )\n",
        "\n",
        "df.limit(5).show()"
      ],
      "execution_count": null,
      "outputs": [
        {
          "output_type": "stream",
          "name": "stdout",
          "text": [
            "+--------+--------------------+---------+-----------+\n",
            "|cod_cnae|           descricao|cod_setor| nome_setor|\n",
            "+--------+--------------------+---------+-----------+\n",
            "|  111301|    Cultivo de arroz|        1|AGRICULTURA|\n",
            "|  111302|    Cultivo de milho|        1|AGRICULTURA|\n",
            "|  111303|    Cultivo de trigo|        1|AGRICULTURA|\n",
            "|  111399|Cultivo de outros...|        1|AGRICULTURA|\n",
            "|  112101|Cultivo de algodã...|        1|AGRICULTURA|\n",
            "+--------+--------------------+---------+-----------+\n",
            "\n"
          ]
        }
      ]
    },
    {
      "cell_type": "code",
      "metadata": {
        "colab": {
          "base_uri": "https://localhost:8080/"
        },
        "id": "egPhxkJXVOs6",
        "outputId": "5504a2df-50f0-40d0-8d4c-96ea84a2c8a5"
      },
      "source": [
        "df = (\n",
        "    spark.read\n",
        "    .format('csv')\n",
        "    .options(header=True,sep=',')  \n",
        "    .schema(schema)\n",
        "    .load(link_tab)\n",
        ")\n",
        "df.show(5)"
      ],
      "execution_count": null,
      "outputs": [
        {
          "output_type": "stream",
          "name": "stdout",
          "text": [
            "+--------+--------------------+---------+-----------+\n",
            "|cod_cnae|           descricao|cod_setor| nome_setor|\n",
            "+--------+--------------------+---------+-----------+\n",
            "|  111301|    Cultivo de arroz|        1|AGRICULTURA|\n",
            "|  111302|    Cultivo de milho|        1|AGRICULTURA|\n",
            "|  111303|    Cultivo de trigo|        1|AGRICULTURA|\n",
            "|  111399|Cultivo de outros...|        1|AGRICULTURA|\n",
            "|  112101|Cultivo de algodã...|        1|AGRICULTURA|\n",
            "+--------+--------------------+---------+-----------+\n",
            "only showing top 5 rows\n",
            "\n"
          ]
        }
      ]
    },
    {
      "cell_type": "markdown",
      "metadata": {
        "id": "nUtfDfgXWatV"
      },
      "source": [
        "**OBS :** Utilizando o método \"options\" podemos parametrizar melhor nossa função\n",
        " usando um dicionário"
      ]
    },
    {
      "cell_type": "code",
      "metadata": {
        "colab": {
          "base_uri": "https://localhost:8080/"
        },
        "id": "gsLFLB6xWG2N",
        "outputId": "87373928-d347-444f-bd2a-b1199f9f7b30"
      },
      "source": [
        "options_dict = {\n",
        "    'sep' : ',' , \n",
        "    'header' : 'True'\n",
        "}\n",
        "\n",
        "df = (\n",
        "      spark.read\n",
        "    .format('csv')\n",
        "    .options(**options_dict)  \n",
        "    .schema(schema)\n",
        "    .load(link_tab)\n",
        ")\n",
        "df.show(5)"
      ],
      "execution_count": null,
      "outputs": [
        {
          "output_type": "stream",
          "name": "stdout",
          "text": [
            "+--------+--------------------+---------+-----------+\n",
            "|cod_cnae|           descricao|cod_setor| nome_setor|\n",
            "+--------+--------------------+---------+-----------+\n",
            "|  111301|    Cultivo de arroz|        1|AGRICULTURA|\n",
            "|  111302|    Cultivo de milho|        1|AGRICULTURA|\n",
            "|  111303|    Cultivo de trigo|        1|AGRICULTURA|\n",
            "|  111399|Cultivo de outros...|        1|AGRICULTURA|\n",
            "|  112101|Cultivo de algodã...|        1|AGRICULTURA|\n",
            "+--------+--------------------+---------+-----------+\n",
            "only showing top 5 rows\n",
            "\n"
          ]
        }
      ]
    },
    {
      "cell_type": "code",
      "metadata": {
        "colab": {
          "base_uri": "https://localhost:8080/"
        },
        "id": "XWFonWIFWFqZ",
        "outputId": "a41fc6ad-3c26-4af2-9ec1-eca9d0bc0ba9"
      },
      "source": [
        "df.printSchema()"
      ],
      "execution_count": null,
      "outputs": [
        {
          "output_type": "stream",
          "name": "stdout",
          "text": [
            "root\n",
            " |-- cod_cnae: string (nullable = true)\n",
            " |-- descricao: string (nullable = true)\n",
            " |-- cod_setor: integer (nullable = true)\n",
            " |-- nome_setor: string (nullable = true)\n",
            "\n"
          ]
        }
      ]
    },
    {
      "cell_type": "code",
      "metadata": {
        "id": "le_8x-efaV61"
      },
      "source": [
        "schema = 'cod_cnae INT, descricao STRING, cod_setor INT, nome_setor STRING '"
      ],
      "execution_count": null,
      "outputs": []
    },
    {
      "cell_type": "code",
      "metadata": {
        "colab": {
          "base_uri": "https://localhost:8080/"
        },
        "id": "jJ7CSqVCasAw",
        "outputId": "f9e642c4-84d0-4834-e02d-7d5ac0b460bb"
      },
      "source": [
        "options_dict = {\n",
        "    'sep' : ',' , \n",
        "    'header' : 'True'\n",
        "}\n",
        "\n",
        "df = (\n",
        "      spark.read\n",
        "    .format('csv')\n",
        "    .options(**options_dict)  \n",
        "    .schema(schema)\n",
        "    .load(link_tab)\n",
        ")\n",
        "df.show(5)"
      ],
      "execution_count": null,
      "outputs": [
        {
          "output_type": "stream",
          "name": "stdout",
          "text": [
            "+--------+--------------------+---------+-----------+\n",
            "|cod_cnae|           descricao|cod_setor| nome_setor|\n",
            "+--------+--------------------+---------+-----------+\n",
            "|  111301|    Cultivo de arroz|        1|AGRICULTURA|\n",
            "|  111302|    Cultivo de milho|        1|AGRICULTURA|\n",
            "|  111303|    Cultivo de trigo|        1|AGRICULTURA|\n",
            "|  111399|Cultivo de outros...|        1|AGRICULTURA|\n",
            "|  112101|Cultivo de algodã...|        1|AGRICULTURA|\n",
            "+--------+--------------------+---------+-----------+\n",
            "only showing top 5 rows\n",
            "\n"
          ]
        }
      ]
    },
    {
      "cell_type": "code",
      "metadata": {
        "colab": {
          "base_uri": "https://localhost:8080/"
        },
        "id": "ItbH1E0Uaund",
        "outputId": "17c01feb-d87b-413a-8568-09c8ac74d329"
      },
      "source": [
        "df.printSchema()"
      ],
      "execution_count": null,
      "outputs": [
        {
          "output_type": "stream",
          "name": "stdout",
          "text": [
            "root\n",
            " |-- cod_cnae: integer (nullable = true)\n",
            " |-- descricao: string (nullable = true)\n",
            " |-- cod_setor: integer (nullable = true)\n",
            " |-- nome_setor: string (nullable = true)\n",
            "\n"
          ]
        }
      ]
    },
    {
      "cell_type": "code",
      "metadata": {
        "id": "hW2evH4Pa8X5"
      },
      "source": [
        "path_save = '/content/drive/MyDrive/igti_bootcamps/eng_dados_cloud/mod3/'"
      ],
      "execution_count": null,
      "outputs": []
    },
    {
      "cell_type": "code",
      "metadata": {
        "id": "h1jPwXbOaxh1",
        "colab": {
          "base_uri": "https://localhost:8080/",
          "height": 329
        },
        "outputId": "9586cc58-eca7-4a7a-f4d2-b43a75368b58"
      },
      "source": [
        "#df.write.format('csv').save(path_save + 'df_cnae_teste',header=True)"
      ],
      "execution_count": null,
      "outputs": [
        {
          "output_type": "error",
          "ename": "AnalysisException",
          "evalue": "ignored",
          "traceback": [
            "\u001b[0;31m---------------------------------------------------------------------------\u001b[0m",
            "\u001b[0;31mAnalysisException\u001b[0m                         Traceback (most recent call last)",
            "\u001b[0;32m<ipython-input-46-964befd0edd4>\u001b[0m in \u001b[0;36m<module>\u001b[0;34m()\u001b[0m\n\u001b[0;32m----> 1\u001b[0;31m \u001b[0mdf\u001b[0m\u001b[0;34m.\u001b[0m\u001b[0mwrite\u001b[0m\u001b[0;34m.\u001b[0m\u001b[0mformat\u001b[0m\u001b[0;34m(\u001b[0m\u001b[0;34m'csv'\u001b[0m\u001b[0;34m)\u001b[0m\u001b[0;34m.\u001b[0m\u001b[0msave\u001b[0m\u001b[0;34m(\u001b[0m\u001b[0mpath_save\u001b[0m \u001b[0;34m+\u001b[0m \u001b[0;34m'df_cnae_teste'\u001b[0m\u001b[0;34m,\u001b[0m\u001b[0mheader\u001b[0m\u001b[0;34m=\u001b[0m\u001b[0;32mTrue\u001b[0m\u001b[0;34m)\u001b[0m\u001b[0;34m\u001b[0m\u001b[0;34m\u001b[0m\u001b[0m\n\u001b[0m",
            "\u001b[0;32m/usr/local/lib/python3.7/dist-packages/pyspark/sql/readwriter.py\u001b[0m in \u001b[0;36msave\u001b[0;34m(self, path, format, mode, partitionBy, **options)\u001b[0m\n\u001b[1;32m    738\u001b[0m             \u001b[0mself\u001b[0m\u001b[0;34m.\u001b[0m\u001b[0m_jwrite\u001b[0m\u001b[0;34m.\u001b[0m\u001b[0msave\u001b[0m\u001b[0;34m(\u001b[0m\u001b[0;34m)\u001b[0m\u001b[0;34m\u001b[0m\u001b[0;34m\u001b[0m\u001b[0m\n\u001b[1;32m    739\u001b[0m         \u001b[0;32melse\u001b[0m\u001b[0;34m:\u001b[0m\u001b[0;34m\u001b[0m\u001b[0;34m\u001b[0m\u001b[0m\n\u001b[0;32m--> 740\u001b[0;31m             \u001b[0mself\u001b[0m\u001b[0;34m.\u001b[0m\u001b[0m_jwrite\u001b[0m\u001b[0;34m.\u001b[0m\u001b[0msave\u001b[0m\u001b[0;34m(\u001b[0m\u001b[0mpath\u001b[0m\u001b[0;34m)\u001b[0m\u001b[0;34m\u001b[0m\u001b[0;34m\u001b[0m\u001b[0m\n\u001b[0m\u001b[1;32m    741\u001b[0m \u001b[0;34m\u001b[0m\u001b[0m\n\u001b[1;32m    742\u001b[0m     \u001b[0;34m@\u001b[0m\u001b[0msince\u001b[0m\u001b[0;34m(\u001b[0m\u001b[0;36m1.4\u001b[0m\u001b[0;34m)\u001b[0m\u001b[0;34m\u001b[0m\u001b[0;34m\u001b[0m\u001b[0m\n",
            "\u001b[0;32m/usr/local/lib/python3.7/dist-packages/py4j/java_gateway.py\u001b[0m in \u001b[0;36m__call__\u001b[0;34m(self, *args)\u001b[0m\n\u001b[1;32m   1308\u001b[0m         \u001b[0manswer\u001b[0m \u001b[0;34m=\u001b[0m \u001b[0mself\u001b[0m\u001b[0;34m.\u001b[0m\u001b[0mgateway_client\u001b[0m\u001b[0;34m.\u001b[0m\u001b[0msend_command\u001b[0m\u001b[0;34m(\u001b[0m\u001b[0mcommand\u001b[0m\u001b[0;34m)\u001b[0m\u001b[0;34m\u001b[0m\u001b[0;34m\u001b[0m\u001b[0m\n\u001b[1;32m   1309\u001b[0m         return_value = get_return_value(\n\u001b[0;32m-> 1310\u001b[0;31m             answer, self.gateway_client, self.target_id, self.name)\n\u001b[0m\u001b[1;32m   1311\u001b[0m \u001b[0;34m\u001b[0m\u001b[0m\n\u001b[1;32m   1312\u001b[0m         \u001b[0;32mfor\u001b[0m \u001b[0mtemp_arg\u001b[0m \u001b[0;32min\u001b[0m \u001b[0mtemp_args\u001b[0m\u001b[0;34m:\u001b[0m\u001b[0;34m\u001b[0m\u001b[0;34m\u001b[0m\u001b[0m\n",
            "\u001b[0;32m/usr/local/lib/python3.7/dist-packages/pyspark/sql/utils.py\u001b[0m in \u001b[0;36mdeco\u001b[0;34m(*a, **kw)\u001b[0m\n\u001b[1;32m    115\u001b[0m                 \u001b[0;31m# Hide where the exception came from that shows a non-Pythonic\u001b[0m\u001b[0;34m\u001b[0m\u001b[0;34m\u001b[0m\u001b[0;34m\u001b[0m\u001b[0m\n\u001b[1;32m    116\u001b[0m                 \u001b[0;31m# JVM exception message.\u001b[0m\u001b[0;34m\u001b[0m\u001b[0;34m\u001b[0m\u001b[0;34m\u001b[0m\u001b[0m\n\u001b[0;32m--> 117\u001b[0;31m                 \u001b[0;32mraise\u001b[0m \u001b[0mconverted\u001b[0m \u001b[0;32mfrom\u001b[0m \u001b[0;32mNone\u001b[0m\u001b[0;34m\u001b[0m\u001b[0;34m\u001b[0m\u001b[0m\n\u001b[0m\u001b[1;32m    118\u001b[0m             \u001b[0;32melse\u001b[0m\u001b[0;34m:\u001b[0m\u001b[0;34m\u001b[0m\u001b[0;34m\u001b[0m\u001b[0m\n\u001b[1;32m    119\u001b[0m                 \u001b[0;32mraise\u001b[0m\u001b[0;34m\u001b[0m\u001b[0;34m\u001b[0m\u001b[0m\n",
            "\u001b[0;31mAnalysisException\u001b[0m: path file:/content/drive/MyDrive/igti_bootcamps/eng_dados_cloud/mod3/df_cnae_teste already exists."
          ]
        }
      ]
    },
    {
      "cell_type": "code",
      "metadata": {
        "colab": {
          "base_uri": "https://localhost:8080/"
        },
        "id": "ak-adfrrbZea",
        "outputId": "776378a1-8f35-403c-d759-978e97da6008"
      },
      "source": [
        "spark.read.format('csv').load(path_save + 'df_cnae_teste',header=True).printSchema()"
      ],
      "execution_count": null,
      "outputs": [
        {
          "output_type": "stream",
          "name": "stdout",
          "text": [
            "root\n",
            " |-- cod_cnae: string (nullable = true)\n",
            " |-- descricao: string (nullable = true)\n",
            " |-- cod_setor: string (nullable = true)\n",
            " |-- nome_setor: string (nullable = true)\n",
            "\n"
          ]
        }
      ]
    },
    {
      "cell_type": "code",
      "metadata": {
        "id": "vAcKHd-ncUO4"
      },
      "source": [
        "df.toPandas().to_csv(\n",
        "    path_save + 'df_cnae_teste.csv',\n",
        "    index=False, header=True\n",
        "    )"
      ],
      "execution_count": null,
      "outputs": []
    },
    {
      "cell_type": "markdown",
      "metadata": {
        "id": "JlTK8cUTDLIk"
      },
      "source": [
        "# **Aula 3.4.2 -** Leitura e escrita de dados - Parte II"
      ]
    },
    {
      "cell_type": "markdown",
      "metadata": {
        "id": "13hLby6vbrCP"
      },
      "source": [
        "## **Lendo e Escrevendo JSON**"
      ]
    },
    {
      "cell_type": "code",
      "metadata": {
        "id": "L30rJvoibpgo"
      },
      "source": [
        "df.write.format('json') \\\n",
        "  .save(path_save + 'df_cnae_teste.json')"
      ],
      "execution_count": null,
      "outputs": []
    },
    {
      "cell_type": "code",
      "metadata": {
        "id": "7_Lh3EpJ8Vm5"
      },
      "source": [
        "df_json = spark.read.format('json') \\\n",
        "  .load(path_save + 'df_cnae_teste.json')"
      ],
      "execution_count": null,
      "outputs": []
    },
    {
      "cell_type": "code",
      "metadata": {
        "colab": {
          "base_uri": "https://localhost:8080/"
        },
        "id": "yrbUBVq78tah",
        "outputId": "087c28c9-f014-45e3-e9a4-7f33ad5cb4c2"
      },
      "source": [
        "df_json.show()"
      ],
      "execution_count": null,
      "outputs": [
        {
          "output_type": "stream",
          "name": "stdout",
          "text": [
            "+--------+---------+--------------------+-----------+\n",
            "|cod_cnae|cod_setor|           descricao| nome_setor|\n",
            "+--------+---------+--------------------+-----------+\n",
            "|  111301|        1|    Cultivo de arroz|AGRICULTURA|\n",
            "|  111302|        1|    Cultivo de milho|AGRICULTURA|\n",
            "|  111303|        1|    Cultivo de trigo|AGRICULTURA|\n",
            "|  111399|        1|Cultivo de outros...|AGRICULTURA|\n",
            "|  112101|        1|Cultivo de algodã...|AGRICULTURA|\n",
            "|  112102|        1|     Cultivo de juta|AGRICULTURA|\n",
            "|  112199|        1|Cultivo de outras...|AGRICULTURA|\n",
            "|  113000|        1|Cultivo de cana-d...|AGRICULTURA|\n",
            "|  114800|        1|     Cultivo de fumo|AGRICULTURA|\n",
            "|  115600|        1|     Cultivo de soja|AGRICULTURA|\n",
            "|  116401|        1| Cultivo de amendoim|AGRICULTURA|\n",
            "|  116402|        1| Cultivo de girassol|AGRICULTURA|\n",
            "|  116403|        1|   Cultivo de mamona|AGRICULTURA|\n",
            "|  116499|        1|Cultivo de outras...|AGRICULTURA|\n",
            "|  119901|        1|  Cultivo de abacaxi|AGRICULTURA|\n",
            "|  119902|        1|     Cultivo de alho|AGRICULTURA|\n",
            "|  119903|        1|Cultivo de batata...|AGRICULTURA|\n",
            "|  119904|        1|   Cultivo de cebola|AGRICULTURA|\n",
            "|  119905|        1|   Cultivo de feijão|AGRICULTURA|\n",
            "|  119906|        1| Cultivo de mandioca|AGRICULTURA|\n",
            "+--------+---------+--------------------+-----------+\n",
            "only showing top 20 rows\n",
            "\n"
          ]
        }
      ]
    },
    {
      "cell_type": "code",
      "metadata": {
        "colab": {
          "base_uri": "https://localhost:8080/"
        },
        "id": "pyisu7OP8xeR",
        "outputId": "7a7d87e9-89fb-4fe0-8837-fd0943b7328b"
      },
      "source": [
        "df_json.printSchema()"
      ],
      "execution_count": null,
      "outputs": [
        {
          "output_type": "stream",
          "name": "stdout",
          "text": [
            "root\n",
            " |-- cod_cnae: long (nullable = true)\n",
            " |-- cod_setor: long (nullable = true)\n",
            " |-- descricao: string (nullable = true)\n",
            " |-- nome_setor: string (nullable = true)\n",
            "\n"
          ]
        }
      ]
    },
    {
      "cell_type": "markdown",
      "metadata": {
        "id": "aXQSIJA587i7"
      },
      "source": [
        "## **Lendo e Escrevendo ORC**\n",
        "\n"
      ]
    },
    {
      "cell_type": "code",
      "metadata": {
        "id": "K9juI3Q68_1o"
      },
      "source": [
        "df.write.format('orc').save(path_save + 'df_cnae_teste.orc')"
      ],
      "execution_count": null,
      "outputs": []
    },
    {
      "cell_type": "code",
      "metadata": {
        "id": "xAOK40KF-x_U"
      },
      "source": [
        "df_orc = spark.read.format('orc').load(path_save + 'df_cnae_teste.orc')"
      ],
      "execution_count": null,
      "outputs": []
    },
    {
      "cell_type": "code",
      "metadata": {
        "colab": {
          "base_uri": "https://localhost:8080/"
        },
        "id": "6A1UtGyt_FXs",
        "outputId": "4928566a-f3af-40e3-9b69-c8574c37d596"
      },
      "source": [
        "df_orc.show(5)"
      ],
      "execution_count": null,
      "outputs": [
        {
          "output_type": "stream",
          "name": "stdout",
          "text": [
            "+--------+--------------------+---------+-----------+\n",
            "|cod_cnae|           descricao|cod_setor| nome_setor|\n",
            "+--------+--------------------+---------+-----------+\n",
            "|  111301|    Cultivo de arroz|        1|AGRICULTURA|\n",
            "|  111302|    Cultivo de milho|        1|AGRICULTURA|\n",
            "|  111303|    Cultivo de trigo|        1|AGRICULTURA|\n",
            "|  111399|Cultivo de outros...|        1|AGRICULTURA|\n",
            "|  112101|Cultivo de algodã...|        1|AGRICULTURA|\n",
            "+--------+--------------------+---------+-----------+\n",
            "only showing top 5 rows\n",
            "\n"
          ]
        }
      ]
    },
    {
      "cell_type": "code",
      "metadata": {
        "colab": {
          "base_uri": "https://localhost:8080/"
        },
        "id": "kUlupl80-9fO",
        "outputId": "f4834c51-6821-4e38-feda-00666111c3e8"
      },
      "source": [
        "df_orc.printSchema()"
      ],
      "execution_count": null,
      "outputs": [
        {
          "output_type": "stream",
          "name": "stdout",
          "text": [
            "root\n",
            " |-- cod_cnae: integer (nullable = true)\n",
            " |-- descricao: string (nullable = true)\n",
            " |-- cod_setor: integer (nullable = true)\n",
            " |-- nome_setor: string (nullable = true)\n",
            "\n"
          ]
        }
      ]
    },
    {
      "cell_type": "markdown",
      "metadata": {
        "id": "Yk79I1Q19Tqa"
      },
      "source": [
        "## **Lendo e Escrevendo Parquet**\n",
        "\n",
        "  - Armazenamento colunar, em contraste com o CSV, que armazena baseado nas linhas. Assim, quando uma query é realizada é possível ignorar os dados não relevantes de maneira rápida e fácil, resultando em operações bem mais eficientes; \n",
        "  - Preservação de metadados, incluindo os tipos das colunas, o que garante eficiência e praticidade na escrita e leitura (não é necessário especificar schemas para arquivos parquet);\n",
        "  - Suporte a dados estruturados de forma aninhada, como listas;\n",
        "  - Otimizado para processar dados particionados com volume na casa dos gigabytes para cada arquivo;\n",
        "  - Compressão de dados na escrita, de forma a ocupar menos espaço;\n",
        "  - Integração com ferramentas como AWS athena, Amazon Redshift Spectrum, Google Big Query e Google Dataproc. "
      ]
    },
    {
      "cell_type": "code",
      "metadata": {
        "id": "kPPt_eH7_nl4"
      },
      "source": [
        "df.write.format('parquet').save(path_save + 'df_cnae_teste.pq')"
      ],
      "execution_count": null,
      "outputs": []
    },
    {
      "cell_type": "code",
      "metadata": {
        "id": "-EJoZHCF_vYq"
      },
      "source": [
        "df_parquet = spark.read.format('parquet').load(path_save + 'df_cnae_teste.pq')"
      ],
      "execution_count": null,
      "outputs": []
    },
    {
      "cell_type": "code",
      "metadata": {
        "colab": {
          "base_uri": "https://localhost:8080/"
        },
        "id": "Qo_GC2ZEACzh",
        "outputId": "be8a3acb-cacf-4d77-c356-6f637fade315"
      },
      "source": [
        "df_parquet.show(5)"
      ],
      "execution_count": null,
      "outputs": [
        {
          "output_type": "stream",
          "name": "stdout",
          "text": [
            "+--------+--------------------+---------+-----------+\n",
            "|cod_cnae|           descricao|cod_setor| nome_setor|\n",
            "+--------+--------------------+---------+-----------+\n",
            "|  111301|    Cultivo de arroz|        1|AGRICULTURA|\n",
            "|  111302|    Cultivo de milho|        1|AGRICULTURA|\n",
            "|  111303|    Cultivo de trigo|        1|AGRICULTURA|\n",
            "|  111399|Cultivo de outros...|        1|AGRICULTURA|\n",
            "|  112101|Cultivo de algodã...|        1|AGRICULTURA|\n",
            "+--------+--------------------+---------+-----------+\n",
            "only showing top 5 rows\n",
            "\n"
          ]
        }
      ]
    },
    {
      "cell_type": "code",
      "metadata": {
        "colab": {
          "base_uri": "https://localhost:8080/"
        },
        "id": "6-x8p_VfBKqn",
        "outputId": "0a65b970-96f0-4a36-ada3-99f63a072dfa"
      },
      "source": [
        "df_parquet.printSchema()"
      ],
      "execution_count": null,
      "outputs": [
        {
          "output_type": "stream",
          "name": "stdout",
          "text": [
            "root\n",
            " |-- cod_cnae: integer (nullable = true)\n",
            " |-- descricao: string (nullable = true)\n",
            " |-- cod_setor: integer (nullable = true)\n",
            " |-- nome_setor: string (nullable = true)\n",
            "\n"
          ]
        }
      ]
    },
    {
      "cell_type": "markdown",
      "metadata": {
        "id": "MKRXHeNiBRke"
      },
      "source": [
        "mode : \n",
        "  \n",
        "  - append : arquivos empilhados aos já existentes\n",
        "  - ignore : retorna um erro silencioso\n",
        "  - overwrite : sobrescreve os dados já exsitentes\n",
        "  -  error (default) : retorne erro se já existem dados"
      ]
    },
    {
      "cell_type": "code",
      "metadata": {
        "id": "-u4Enx7iBPhP"
      },
      "source": [
        "df.write.format('parquet').save(path_save + 'df_cnae_teste.pq', \n",
        "                                mode='overwrite'\n",
        "                                )"
      ],
      "execution_count": null,
      "outputs": []
    },
    {
      "cell_type": "markdown",
      "metadata": {
        "id": "IGYlBpwWCDHj"
      },
      "source": [
        "ou"
      ]
    },
    {
      "cell_type": "code",
      "metadata": {
        "id": "l-AkkhGzCCsm"
      },
      "source": [
        "df.write.format('parquet').mode('overwrite').save(path_save + 'df_cnae_teste.pq')"
      ],
      "execution_count": null,
      "outputs": []
    },
    {
      "cell_type": "markdown",
      "metadata": {
        "id": "LHVwZ1o2C6XF"
      },
      "source": [
        "# **Aula 3.5.1 -** Operações básicas com DataFrames - Parte I\n",
        "\n",
        "## **Manipulação dos Dados**"
      ]
    },
    {
      "cell_type": "code",
      "metadata": {
        "id": "X0YdzZERC4Nm"
      },
      "source": [
        "imdb_path = '/content/drive/MyDrive/igti_bootcamps/eng_dados_cloud/mod3/title_basics.csv'"
      ],
      "execution_count": null,
      "outputs": []
    },
    {
      "cell_type": "code",
      "metadata": {
        "colab": {
          "base_uri": "https://localhost:8080/"
        },
        "id": "YONEC-anKxI1",
        "outputId": "442eb81e-5839-4078-c35d-7ff616343896"
      },
      "source": [
        "options_dict = {\n",
        "    'sep' : '\\t' , \n",
        "    'header' : 'True'\n",
        "}\n",
        "\n",
        "df_titles = (\n",
        "      spark.read\n",
        "    .format('csv')\n",
        "    .options(**options_dict)  \n",
        "    .load(imdb_path)\n",
        ")\n",
        "\n",
        "df_titles.show(5)"
      ],
      "execution_count": null,
      "outputs": [
        {
          "output_type": "stream",
          "name": "stdout",
          "text": [
            "+---------+---------+--------------------+--------------------+-------+---------+-------+--------------+--------------------+\n",
            "|   tconst|titleType|        primaryTitle|       originalTitle|isAdult|startYear|endYear|runtimeMinutes|              genres|\n",
            "+---------+---------+--------------------+--------------------+-------+---------+-------+--------------+--------------------+\n",
            "|tt0000001|    short|          Carmencita|          Carmencita|      0|     1894|     \\N|             1|   Documentary,Short|\n",
            "|tt0000002|    short|Le clown et ses c...|Le clown et ses c...|      0|     1892|     \\N|             5|     Animation,Short|\n",
            "|tt0000003|    short|      Pauvre Pierrot|      Pauvre Pierrot|      0|     1892|     \\N|             4|Animation,Comedy,...|\n",
            "|tt0000004|    short|         Un bon bock|         Un bon bock|      0|     1892|     \\N|            12|     Animation,Short|\n",
            "|tt0000005|    short|    Blacksmith Scene|    Blacksmith Scene|      0|     1893|     \\N|             1|        Comedy,Short|\n",
            "+---------+---------+--------------------+--------------------+-------+---------+-------+--------------+--------------------+\n",
            "only showing top 5 rows\n",
            "\n"
          ]
        }
      ]
    },
    {
      "cell_type": "markdown",
      "metadata": {
        "id": "Q1zDDQhoMVYX"
      },
      "source": [
        "## **Colunas e Expressões**\n",
        "\n",
        "As colunas são a principal unidade de manipulação de dados do Spark"
      ]
    },
    {
      "cell_type": "code",
      "metadata": {
        "id": "97JNjP-MMUVp"
      },
      "source": [
        "from pyspark.sql.functions import col,round"
      ],
      "execution_count": null,
      "outputs": []
    },
    {
      "cell_type": "code",
      "metadata": {
        "colab": {
          "base_uri": "https://localhost:8080/"
        },
        "id": "IiNgObEwLe8D",
        "outputId": "0b46732c-f07d-4ab3-be7b-99d2ef5ae5ed"
      },
      "source": [
        "(\n",
        "    df_titles.select('tconst','primaryTitle','runtimeMinutes',)\n",
        "    .withColumn('runtimeHours',col('runTimeMinutes').cast('int')/60)\n",
        "    .show(5)\n",
        ")"
      ],
      "execution_count": null,
      "outputs": [
        {
          "output_type": "stream",
          "name": "stdout",
          "text": [
            "+---------+--------------------+--------------+--------------------+\n",
            "|   tconst|        primaryTitle|runtimeMinutes|        runtimeHours|\n",
            "+---------+--------------------+--------------+--------------------+\n",
            "|tt0000001|          Carmencita|             1|0.016666666666666666|\n",
            "|tt0000002|Le clown et ses c...|             5| 0.08333333333333333|\n",
            "|tt0000003|      Pauvre Pierrot|             4| 0.06666666666666667|\n",
            "|tt0000004|         Un bon bock|            12|                 0.2|\n",
            "|tt0000005|    Blacksmith Scene|             1|0.016666666666666666|\n",
            "+---------+--------------------+--------------+--------------------+\n",
            "only showing top 5 rows\n",
            "\n"
          ]
        }
      ]
    },
    {
      "cell_type": "code",
      "metadata": {
        "colab": {
          "base_uri": "https://localhost:8080/"
        },
        "id": "9Yu445bfN55l",
        "outputId": "dea47d6e-0e4d-432d-907c-923ef6ef6dc3"
      },
      "source": [
        "(\n",
        "    df_titles.select('tconst','primaryTitle','runtimeMinutes',)\n",
        "    .withColumn('runtimeHours',round(col('runTimeMinutes').cast('int')/60,3))\n",
        "    .show(5)\n",
        ")"
      ],
      "execution_count": null,
      "outputs": [
        {
          "output_type": "stream",
          "name": "stdout",
          "text": [
            "+---------+--------------------+--------------+------------+\n",
            "|   tconst|        primaryTitle|runtimeMinutes|runtimeHours|\n",
            "+---------+--------------------+--------------+------------+\n",
            "|tt0000001|          Carmencita|             1|       0.017|\n",
            "|tt0000002|Le clown et ses c...|             5|       0.083|\n",
            "|tt0000003|      Pauvre Pierrot|             4|       0.067|\n",
            "|tt0000004|         Un bon bock|            12|         0.2|\n",
            "|tt0000005|    Blacksmith Scene|             1|       0.017|\n",
            "+---------+--------------------+--------------+------------+\n",
            "only showing top 5 rows\n",
            "\n"
          ]
        }
      ]
    },
    {
      "cell_type": "code",
      "metadata": {
        "colab": {
          "base_uri": "https://localhost:8080/"
        },
        "id": "mpxPIn5GON9H",
        "outputId": "f26f7504-f59f-492d-8e94-06b784c9511f"
      },
      "source": [
        "df_titles['runtimeMinutes']"
      ],
      "execution_count": null,
      "outputs": [
        {
          "output_type": "execute_result",
          "data": {
            "text/plain": [
              "Column<'runtimeMinutes'>"
            ]
          },
          "metadata": {},
          "execution_count": 75
        }
      ]
    },
    {
      "cell_type": "markdown",
      "metadata": {
        "id": "XNbd-vTLNmZp"
      },
      "source": [
        "Forma \"pandas\" de selecionar\n",
        "\n",
        "  1. df.coluna\n",
        "  2. df['coluna']"
      ]
    },
    {
      "cell_type": "code",
      "metadata": {
        "colab": {
          "base_uri": "https://localhost:8080/"
        },
        "id": "sSgDoHhpNla-",
        "outputId": "476ff675-4606-4473-da68-9e25e82c12c5"
      },
      "source": [
        "(\n",
        "    df_titles.select('tconst','primaryTitle','runtimeMinutes',)\n",
        "    .withColumn('runtimeHours',round(col('runTimeMinutes').cast('int')/60,3))\n",
        "    .show(5)\n",
        ")"
      ],
      "execution_count": null,
      "outputs": [
        {
          "output_type": "stream",
          "name": "stdout",
          "text": [
            "+---------+--------------------+--------------+------------+\n",
            "|   tconst|        primaryTitle|runtimeMinutes|runtimeHours|\n",
            "+---------+--------------------+--------------+------------+\n",
            "|tt0000001|          Carmencita|             1|       0.017|\n",
            "|tt0000002|Le clown et ses c...|             5|       0.083|\n",
            "|tt0000003|      Pauvre Pierrot|             4|       0.067|\n",
            "|tt0000004|         Un bon bock|            12|         0.2|\n",
            "|tt0000005|    Blacksmith Scene|             1|       0.017|\n",
            "+---------+--------------------+--------------+------------+\n",
            "only showing top 5 rows\n",
            "\n"
          ]
        }
      ]
    },
    {
      "cell_type": "code",
      "metadata": {
        "colab": {
          "base_uri": "https://localhost:8080/",
          "height": 422
        },
        "id": "9AK-HZPDPrmL",
        "outputId": "1a111477-0e8f-48f7-8e91-47d4797ecbcc"
      },
      "source": [
        "(\n",
        "    df_titles.select('tconst','primaryTitle','runtimeMinutes',)\n",
        "    .withColumn('runtimeHours',df_titles['runtimeMinutes'].cast('int')/60)\n",
        "    .withColumn('hours_plus2' ,df_titles['runtimeHours'] + 2)\n",
        "    .show(5)\n",
        ")"
      ],
      "execution_count": null,
      "outputs": [
        {
          "output_type": "error",
          "ename": "AnalysisException",
          "evalue": "ignored",
          "traceback": [
            "\u001b[0;31m---------------------------------------------------------------------------\u001b[0m",
            "\u001b[0;31mAnalysisException\u001b[0m                         Traceback (most recent call last)",
            "\u001b[0;32m<ipython-input-77-88d1c89b3174>\u001b[0m in \u001b[0;36m<module>\u001b[0;34m()\u001b[0m\n\u001b[1;32m      2\u001b[0m     \u001b[0mdf_titles\u001b[0m\u001b[0;34m.\u001b[0m\u001b[0mselect\u001b[0m\u001b[0;34m(\u001b[0m\u001b[0;34m'tconst'\u001b[0m\u001b[0;34m,\u001b[0m\u001b[0;34m'primaryTitle'\u001b[0m\u001b[0;34m,\u001b[0m\u001b[0;34m'runtimeMinutes'\u001b[0m\u001b[0;34m,\u001b[0m\u001b[0;34m)\u001b[0m\u001b[0;34m\u001b[0m\u001b[0;34m\u001b[0m\u001b[0m\n\u001b[1;32m      3\u001b[0m     \u001b[0;34m.\u001b[0m\u001b[0mwithColumn\u001b[0m\u001b[0;34m(\u001b[0m\u001b[0;34m'runtimeHours'\u001b[0m\u001b[0;34m,\u001b[0m\u001b[0mdf_titles\u001b[0m\u001b[0;34m[\u001b[0m\u001b[0;34m'runtimeMinutes'\u001b[0m\u001b[0;34m]\u001b[0m\u001b[0;34m.\u001b[0m\u001b[0mcast\u001b[0m\u001b[0;34m(\u001b[0m\u001b[0;34m'int'\u001b[0m\u001b[0;34m)\u001b[0m\u001b[0;34m/\u001b[0m\u001b[0;36m60\u001b[0m\u001b[0;34m)\u001b[0m\u001b[0;34m\u001b[0m\u001b[0;34m\u001b[0m\u001b[0m\n\u001b[0;32m----> 4\u001b[0;31m     \u001b[0;34m.\u001b[0m\u001b[0mwithColumn\u001b[0m\u001b[0;34m(\u001b[0m\u001b[0;34m'hours_plus2'\u001b[0m \u001b[0;34m,\u001b[0m\u001b[0mdf_titles\u001b[0m\u001b[0;34m[\u001b[0m\u001b[0;34m'runtimeHours'\u001b[0m\u001b[0;34m]\u001b[0m \u001b[0;34m+\u001b[0m \u001b[0;36m2\u001b[0m\u001b[0;34m)\u001b[0m\u001b[0;34m\u001b[0m\u001b[0;34m\u001b[0m\u001b[0m\n\u001b[0m\u001b[1;32m      5\u001b[0m     \u001b[0;34m.\u001b[0m\u001b[0mshow\u001b[0m\u001b[0;34m(\u001b[0m\u001b[0;36m5\u001b[0m\u001b[0;34m)\u001b[0m\u001b[0;34m\u001b[0m\u001b[0;34m\u001b[0m\u001b[0m\n\u001b[1;32m      6\u001b[0m )\n",
            "\u001b[0;32m/usr/local/lib/python3.7/dist-packages/pyspark/sql/dataframe.py\u001b[0m in \u001b[0;36m__getitem__\u001b[0;34m(self, item)\u001b[0m\n\u001b[1;32m   1634\u001b[0m         \"\"\"\n\u001b[1;32m   1635\u001b[0m         \u001b[0;32mif\u001b[0m \u001b[0misinstance\u001b[0m\u001b[0;34m(\u001b[0m\u001b[0mitem\u001b[0m\u001b[0;34m,\u001b[0m \u001b[0mstr\u001b[0m\u001b[0;34m)\u001b[0m\u001b[0;34m:\u001b[0m\u001b[0;34m\u001b[0m\u001b[0;34m\u001b[0m\u001b[0m\n\u001b[0;32m-> 1636\u001b[0;31m             \u001b[0mjc\u001b[0m \u001b[0;34m=\u001b[0m \u001b[0mself\u001b[0m\u001b[0;34m.\u001b[0m\u001b[0m_jdf\u001b[0m\u001b[0;34m.\u001b[0m\u001b[0mapply\u001b[0m\u001b[0;34m(\u001b[0m\u001b[0mitem\u001b[0m\u001b[0;34m)\u001b[0m\u001b[0;34m\u001b[0m\u001b[0;34m\u001b[0m\u001b[0m\n\u001b[0m\u001b[1;32m   1637\u001b[0m             \u001b[0;32mreturn\u001b[0m \u001b[0mColumn\u001b[0m\u001b[0;34m(\u001b[0m\u001b[0mjc\u001b[0m\u001b[0;34m)\u001b[0m\u001b[0;34m\u001b[0m\u001b[0;34m\u001b[0m\u001b[0m\n\u001b[1;32m   1638\u001b[0m         \u001b[0;32melif\u001b[0m \u001b[0misinstance\u001b[0m\u001b[0;34m(\u001b[0m\u001b[0mitem\u001b[0m\u001b[0;34m,\u001b[0m \u001b[0mColumn\u001b[0m\u001b[0;34m)\u001b[0m\u001b[0;34m:\u001b[0m\u001b[0;34m\u001b[0m\u001b[0;34m\u001b[0m\u001b[0m\n",
            "\u001b[0;32m/usr/local/lib/python3.7/dist-packages/py4j/java_gateway.py\u001b[0m in \u001b[0;36m__call__\u001b[0;34m(self, *args)\u001b[0m\n\u001b[1;32m   1308\u001b[0m         \u001b[0manswer\u001b[0m \u001b[0;34m=\u001b[0m \u001b[0mself\u001b[0m\u001b[0;34m.\u001b[0m\u001b[0mgateway_client\u001b[0m\u001b[0;34m.\u001b[0m\u001b[0msend_command\u001b[0m\u001b[0;34m(\u001b[0m\u001b[0mcommand\u001b[0m\u001b[0;34m)\u001b[0m\u001b[0;34m\u001b[0m\u001b[0;34m\u001b[0m\u001b[0m\n\u001b[1;32m   1309\u001b[0m         return_value = get_return_value(\n\u001b[0;32m-> 1310\u001b[0;31m             answer, self.gateway_client, self.target_id, self.name)\n\u001b[0m\u001b[1;32m   1311\u001b[0m \u001b[0;34m\u001b[0m\u001b[0m\n\u001b[1;32m   1312\u001b[0m         \u001b[0;32mfor\u001b[0m \u001b[0mtemp_arg\u001b[0m \u001b[0;32min\u001b[0m \u001b[0mtemp_args\u001b[0m\u001b[0;34m:\u001b[0m\u001b[0;34m\u001b[0m\u001b[0;34m\u001b[0m\u001b[0m\n",
            "\u001b[0;32m/usr/local/lib/python3.7/dist-packages/pyspark/sql/utils.py\u001b[0m in \u001b[0;36mdeco\u001b[0;34m(*a, **kw)\u001b[0m\n\u001b[1;32m    115\u001b[0m                 \u001b[0;31m# Hide where the exception came from that shows a non-Pythonic\u001b[0m\u001b[0;34m\u001b[0m\u001b[0;34m\u001b[0m\u001b[0;34m\u001b[0m\u001b[0m\n\u001b[1;32m    116\u001b[0m                 \u001b[0;31m# JVM exception message.\u001b[0m\u001b[0;34m\u001b[0m\u001b[0;34m\u001b[0m\u001b[0;34m\u001b[0m\u001b[0m\n\u001b[0;32m--> 117\u001b[0;31m                 \u001b[0;32mraise\u001b[0m \u001b[0mconverted\u001b[0m \u001b[0;32mfrom\u001b[0m \u001b[0;32mNone\u001b[0m\u001b[0;34m\u001b[0m\u001b[0;34m\u001b[0m\u001b[0m\n\u001b[0m\u001b[1;32m    118\u001b[0m             \u001b[0;32melse\u001b[0m\u001b[0;34m:\u001b[0m\u001b[0;34m\u001b[0m\u001b[0;34m\u001b[0m\u001b[0m\n\u001b[1;32m    119\u001b[0m                 \u001b[0;32mraise\u001b[0m\u001b[0;34m\u001b[0m\u001b[0;34m\u001b[0m\u001b[0m\n",
            "\u001b[0;31mAnalysisException\u001b[0m: Cannot resolve column name \"runtimeHours\" among (tconst, titleType, primaryTitle, originalTitle, isAdult, startYear, endYear, runtimeMinutes, genres)"
          ]
        }
      ]
    },
    {
      "cell_type": "code",
      "metadata": {
        "colab": {
          "base_uri": "https://localhost:8080/"
        },
        "id": "8Dg_Pa59OeoV",
        "outputId": "984cdb27-342d-4913-9e59-a54eaf4aa0f6"
      },
      "source": [
        "(\n",
        "    df_titles.select('tconst','primaryTitle','runtimeMinutes',)\n",
        "    .withColumn('runtimeHours',col('runtimeMinutes').cast('int')/60)\n",
        "    .withColumn('hours_plus2' ,col('runtimeHours') + 2)\n",
        "    .show(5)\n",
        ")"
      ],
      "execution_count": null,
      "outputs": [
        {
          "output_type": "stream",
          "name": "stdout",
          "text": [
            "+---------+--------------------+--------------+--------------------+------------------+\n",
            "|   tconst|        primaryTitle|runtimeMinutes|        runtimeHours|       hours_plus2|\n",
            "+---------+--------------------+--------------+--------------------+------------------+\n",
            "|tt0000001|          Carmencita|             1|0.016666666666666666|2.0166666666666666|\n",
            "|tt0000002|Le clown et ses c...|             5| 0.08333333333333333|2.0833333333333335|\n",
            "|tt0000003|      Pauvre Pierrot|             4| 0.06666666666666667| 2.066666666666667|\n",
            "|tt0000004|         Un bon bock|            12|                 0.2|               2.2|\n",
            "|tt0000005|    Blacksmith Scene|             1|0.016666666666666666|2.0166666666666666|\n",
            "+---------+--------------------+--------------+--------------------+------------------+\n",
            "only showing top 5 rows\n",
            "\n"
          ]
        }
      ]
    },
    {
      "cell_type": "markdown",
      "metadata": {
        "id": "Z5IECVlGP20n"
      },
      "source": [
        "### **Expressões**"
      ]
    },
    {
      "cell_type": "code",
      "metadata": {
        "id": "0_h36DaGP-BN"
      },
      "source": [
        "from pyspark.sql.functions import expr"
      ],
      "execution_count": null,
      "outputs": []
    },
    {
      "cell_type": "code",
      "metadata": {
        "colab": {
          "base_uri": "https://localhost:8080/"
        },
        "id": "59700kpEQFsW",
        "outputId": "de4840a1-3b63-4a39-b0d3-ecf675b03bd1"
      },
      "source": [
        "(\n",
        "    df_titles.select('tconst','primaryTitle','runtimeMinutes',)\n",
        "    .withColumn('runtimeHours',expr('cast(runtimeMinutes as INT)/60'))\n",
        "    .show(5)\n",
        ")"
      ],
      "execution_count": null,
      "outputs": [
        {
          "output_type": "stream",
          "name": "stdout",
          "text": [
            "+---------+--------------------+--------------+--------------------+\n",
            "|   tconst|        primaryTitle|runtimeMinutes|        runtimeHours|\n",
            "+---------+--------------------+--------------+--------------------+\n",
            "|tt0000001|          Carmencita|             1|0.016666666666666666|\n",
            "|tt0000002|Le clown et ses c...|             5| 0.08333333333333333|\n",
            "|tt0000003|      Pauvre Pierrot|             4| 0.06666666666666667|\n",
            "|tt0000004|         Un bon bock|            12|                 0.2|\n",
            "|tt0000005|    Blacksmith Scene|             1|0.016666666666666666|\n",
            "+---------+--------------------+--------------+--------------------+\n",
            "only showing top 5 rows\n",
            "\n"
          ]
        }
      ]
    },
    {
      "cell_type": "code",
      "metadata": {
        "colab": {
          "base_uri": "https://localhost:8080/"
        },
        "id": "2i7le0oYRChf",
        "outputId": "ba4e224a-b221-4cb3-c9f1-ef70587a523d"
      },
      "source": [
        "(\n",
        "    df_titles.select('tconst','primaryTitle','runtimeMinutes',)\n",
        "    .withColumn('runtimeHours',expr('round(cast(runtimeMinutes as INT)/60,3)'))\n",
        "    .show(5)\n",
        ")"
      ],
      "execution_count": null,
      "outputs": [
        {
          "output_type": "stream",
          "name": "stdout",
          "text": [
            "+---------+--------------------+--------------+------------+\n",
            "|   tconst|        primaryTitle|runtimeMinutes|runtimeHours|\n",
            "+---------+--------------------+--------------+------------+\n",
            "|tt0000001|          Carmencita|             1|       0.017|\n",
            "|tt0000002|Le clown et ses c...|             5|       0.083|\n",
            "|tt0000003|      Pauvre Pierrot|             4|       0.067|\n",
            "|tt0000004|         Un bon bock|            12|         0.2|\n",
            "|tt0000005|    Blacksmith Scene|             1|       0.017|\n",
            "+---------+--------------------+--------------+------------+\n",
            "only showing top 5 rows\n",
            "\n"
          ]
        }
      ]
    },
    {
      "cell_type": "markdown",
      "metadata": {
        "id": "M2mvlH2wRTvN"
      },
      "source": [
        "# **Aula 3.5.2 -** Operações básicas com DataFrames - Parte II\n",
        "\n",
        "## **Manipulação dos Dados**"
      ]
    },
    {
      "cell_type": "code",
      "metadata": {
        "id": "fGPxWkEfRLVF",
        "colab": {
          "base_uri": "https://localhost:8080/"
        },
        "outputId": "24e4fb92-8f60-4a5b-f71d-c1c2d4c985c5"
      },
      "source": [
        "df_titles.show(5)"
      ],
      "execution_count": null,
      "outputs": [
        {
          "output_type": "stream",
          "name": "stdout",
          "text": [
            "+---------+---------+--------------------+--------------------+-------+---------+-------+--------------+--------------------+\n",
            "|   tconst|titleType|        primaryTitle|       originalTitle|isAdult|startYear|endYear|runtimeMinutes|              genres|\n",
            "+---------+---------+--------------------+--------------------+-------+---------+-------+--------------+--------------------+\n",
            "|tt0000001|    short|          Carmencita|          Carmencita|      0|     1894|     \\N|             1|   Documentary,Short|\n",
            "|tt0000002|    short|Le clown et ses c...|Le clown et ses c...|      0|     1892|     \\N|             5|     Animation,Short|\n",
            "|tt0000003|    short|      Pauvre Pierrot|      Pauvre Pierrot|      0|     1892|     \\N|             4|Animation,Comedy,...|\n",
            "|tt0000004|    short|         Un bon bock|         Un bon bock|      0|     1892|     \\N|            12|     Animation,Short|\n",
            "|tt0000005|    short|    Blacksmith Scene|    Blacksmith Scene|      0|     1893|     \\N|             1|        Comedy,Short|\n",
            "+---------+---------+--------------------+--------------------+-------+---------+-------+--------------+--------------------+\n",
            "only showing top 5 rows\n",
            "\n"
          ]
        }
      ]
    },
    {
      "cell_type": "code",
      "metadata": {
        "colab": {
          "base_uri": "https://localhost:8080/"
        },
        "id": "OM5PD0rxSiYZ",
        "outputId": "66c8c440-af31-4631-9e02-c2d407d72681"
      },
      "source": [
        "df_titles.select('tconst','primaryTitle','genres').show(5)"
      ],
      "execution_count": null,
      "outputs": [
        {
          "output_type": "stream",
          "name": "stdout",
          "text": [
            "+---------+--------------------+--------------------+\n",
            "|   tconst|        primaryTitle|              genres|\n",
            "+---------+--------------------+--------------------+\n",
            "|tt0000001|          Carmencita|   Documentary,Short|\n",
            "|tt0000002|Le clown et ses c...|     Animation,Short|\n",
            "|tt0000003|      Pauvre Pierrot|Animation,Comedy,...|\n",
            "|tt0000004|         Un bon bock|     Animation,Short|\n",
            "|tt0000005|    Blacksmith Scene|        Comedy,Short|\n",
            "+---------+--------------------+--------------------+\n",
            "only showing top 5 rows\n",
            "\n"
          ]
        }
      ]
    },
    {
      "cell_type": "code",
      "metadata": {
        "colab": {
          "base_uri": "https://localhost:8080/"
        },
        "id": "ccRf0O9CS2gF",
        "outputId": "aa64fb9d-1da5-48dc-a0df-2bc65c9c8a23"
      },
      "source": [
        "df_titles.columns"
      ],
      "execution_count": null,
      "outputs": [
        {
          "output_type": "execute_result",
          "data": {
            "text/plain": [
              "['tconst',\n",
              " 'titleType',\n",
              " 'primaryTitle',\n",
              " 'originalTitle',\n",
              " 'isAdult',\n",
              " 'startYear',\n",
              " 'endYear',\n",
              " 'runtimeMinutes',\n",
              " 'genres']"
            ]
          },
          "metadata": {},
          "execution_count": 85
        }
      ]
    },
    {
      "cell_type": "code",
      "metadata": {
        "id": "PqylwJMiTLTm"
      },
      "source": [
        "select_cols = [c for c in df_titles.columns if c.find('Title') != -1]"
      ],
      "execution_count": null,
      "outputs": []
    },
    {
      "cell_type": "code",
      "metadata": {
        "colab": {
          "base_uri": "https://localhost:8080/"
        },
        "id": "Cc_wJkLDTbUV",
        "outputId": "ac921129-d88a-4d6e-c15f-1dbc8f6dcd63"
      },
      "source": [
        "df_titles.select(select_cols).show(5)"
      ],
      "execution_count": null,
      "outputs": [
        {
          "output_type": "stream",
          "name": "stdout",
          "text": [
            "+--------------------+--------------------+\n",
            "|        primaryTitle|       originalTitle|\n",
            "+--------------------+--------------------+\n",
            "|          Carmencita|          Carmencita|\n",
            "|Le clown et ses c...|Le clown et ses c...|\n",
            "|      Pauvre Pierrot|      Pauvre Pierrot|\n",
            "|         Un bon bock|         Un bon bock|\n",
            "|    Blacksmith Scene|    Blacksmith Scene|\n",
            "+--------------------+--------------------+\n",
            "only showing top 5 rows\n",
            "\n"
          ]
        }
      ]
    },
    {
      "cell_type": "code",
      "metadata": {
        "colab": {
          "base_uri": "https://localhost:8080/"
        },
        "id": "XYvTR8SMSv3W",
        "outputId": "833775b6-849f-4c08-e2c8-99572592fa7b"
      },
      "source": [
        "cols = ['tconst','primaryTitle','genres']\n",
        "df_titles.select(cols).show(10)"
      ],
      "execution_count": null,
      "outputs": [
        {
          "output_type": "stream",
          "name": "stdout",
          "text": [
            "+---------+--------------------+--------------------+\n",
            "|   tconst|        primaryTitle|              genres|\n",
            "+---------+--------------------+--------------------+\n",
            "|tt0000001|          Carmencita|   Documentary,Short|\n",
            "|tt0000002|Le clown et ses c...|     Animation,Short|\n",
            "|tt0000003|      Pauvre Pierrot|Animation,Comedy,...|\n",
            "|tt0000004|         Un bon bock|     Animation,Short|\n",
            "|tt0000005|    Blacksmith Scene|        Comedy,Short|\n",
            "|tt0000006|   Chinese Opium Den|               Short|\n",
            "|tt0000007|Corbett and Court...|         Short,Sport|\n",
            "|tt0000008|Edison Kinetoscop...|   Documentary,Short|\n",
            "|tt0000009|          Miss Jerry|       Romance,Short|\n",
            "|tt0000010| Leaving the Factory|   Documentary,Short|\n",
            "+---------+--------------------+--------------------+\n",
            "only showing top 10 rows\n",
            "\n"
          ]
        }
      ]
    },
    {
      "cell_type": "code",
      "metadata": {
        "colab": {
          "base_uri": "https://localhost:8080/"
        },
        "id": "3YvjJhNIToSP",
        "outputId": "599c4a0d-0ff3-436c-e428-43a03de0b0da"
      },
      "source": [
        "cols = ['primaryTitle','genres']\n",
        "df_titles.select('tconst',*cols).show(5)"
      ],
      "execution_count": null,
      "outputs": [
        {
          "output_type": "stream",
          "name": "stdout",
          "text": [
            "+---------+--------------------+--------------------+\n",
            "|   tconst|        primaryTitle|              genres|\n",
            "+---------+--------------------+--------------------+\n",
            "|tt0000001|          Carmencita|   Documentary,Short|\n",
            "|tt0000002|Le clown et ses c...|     Animation,Short|\n",
            "|tt0000003|      Pauvre Pierrot|Animation,Comedy,...|\n",
            "|tt0000004|         Un bon bock|     Animation,Short|\n",
            "|tt0000005|    Blacksmith Scene|        Comedy,Short|\n",
            "+---------+--------------------+--------------------+\n",
            "only showing top 5 rows\n",
            "\n"
          ]
        }
      ]
    },
    {
      "cell_type": "code",
      "metadata": {
        "colab": {
          "base_uri": "https://localhost:8080/"
        },
        "id": "Ew9-XQwgT7QW",
        "outputId": "53e45b37-9ea6-4446-b9ba-6cd38da9f34a"
      },
      "source": [
        "df_titles.select('*').show(5)"
      ],
      "execution_count": null,
      "outputs": [
        {
          "output_type": "stream",
          "name": "stdout",
          "text": [
            "+---------+---------+--------------------+--------------------+-------+---------+-------+--------------+--------------------+\n",
            "|   tconst|titleType|        primaryTitle|       originalTitle|isAdult|startYear|endYear|runtimeMinutes|              genres|\n",
            "+---------+---------+--------------------+--------------------+-------+---------+-------+--------------+--------------------+\n",
            "|tt0000001|    short|          Carmencita|          Carmencita|      0|     1894|     \\N|             1|   Documentary,Short|\n",
            "|tt0000002|    short|Le clown et ses c...|Le clown et ses c...|      0|     1892|     \\N|             5|     Animation,Short|\n",
            "|tt0000003|    short|      Pauvre Pierrot|      Pauvre Pierrot|      0|     1892|     \\N|             4|Animation,Comedy,...|\n",
            "|tt0000004|    short|         Un bon bock|         Un bon bock|      0|     1892|     \\N|            12|     Animation,Short|\n",
            "|tt0000005|    short|    Blacksmith Scene|    Blacksmith Scene|      0|     1893|     \\N|             1|        Comedy,Short|\n",
            "+---------+---------+--------------------+--------------------+-------+---------+-------+--------------+--------------------+\n",
            "only showing top 5 rows\n",
            "\n"
          ]
        }
      ]
    },
    {
      "cell_type": "markdown",
      "metadata": {
        "id": "escA6JCOUDrb"
      },
      "source": [
        "**Observações :**\n",
        "\n",
        "  - Podemos realizar operações sobre colunas selecionadas\n",
        "  - A ordem em que as colunas são selecionadas é a ordem em que elas vão ser inseridas no DataFrame resultante."
      ]
    },
    {
      "cell_type": "code",
      "metadata": {
        "colab": {
          "base_uri": "https://localhost:8080/"
        },
        "id": "dD8CE-BsUBM2",
        "outputId": "1236a7e1-4280-48b4-855b-d1fef6e1cff0"
      },
      "source": [
        "from pyspark.sql.functions import upper\n",
        "\n",
        "df_titles.select('tconst',\n",
        "                 'genres',\n",
        "                 upper('primaryTitle').alias('primaryTitle')).show(5)"
      ],
      "execution_count": null,
      "outputs": [
        {
          "output_type": "stream",
          "name": "stdout",
          "text": [
            "+---------+--------------------+--------------------+\n",
            "|   tconst|              genres|        primaryTitle|\n",
            "+---------+--------------------+--------------------+\n",
            "|tt0000001|   Documentary,Short|          CARMENCITA|\n",
            "|tt0000002|     Animation,Short|LE CLOWN ET SES C...|\n",
            "|tt0000003|Animation,Comedy,...|      PAUVRE PIERROT|\n",
            "|tt0000004|     Animation,Short|         UN BON BOCK|\n",
            "|tt0000005|        Comedy,Short|    BLACKSMITH SCENE|\n",
            "+---------+--------------------+--------------------+\n",
            "only showing top 5 rows\n",
            "\n"
          ]
        }
      ]
    },
    {
      "cell_type": "markdown",
      "metadata": {
        "id": "xpZLfuusU3ce"
      },
      "source": [
        "**Selecionando valores distintos**"
      ]
    },
    {
      "cell_type": "code",
      "metadata": {
        "colab": {
          "base_uri": "https://localhost:8080/"
        },
        "id": "P5c5StIeUyDi",
        "outputId": "d3ad6c52-faad-4c00-e3c9-24a8eaa729f1"
      },
      "source": [
        "df_titles.select('startYear').distinct().show()"
      ],
      "execution_count": null,
      "outputs": [
        {
          "output_type": "stream",
          "name": "stdout",
          "text": [
            "+---------+\n",
            "|startYear|\n",
            "+---------+\n",
            "|     1903|\n",
            "|     1953|\n",
            "|     1897|\n",
            "|     1957|\n",
            "|     1987|\n",
            "|     1956|\n",
            "|     1936|\n",
            "|     2016|\n",
            "|     2020|\n",
            "|     2012|\n",
            "|     1958|\n",
            "|     1910|\n",
            "|     1943|\n",
            "|     1915|\n",
            "|     1972|\n",
            "|     1931|\n",
            "|     1911|\n",
            "|     1926|\n",
            "|     1938|\n",
            "|     1988|\n",
            "+---------+\n",
            "only showing top 20 rows\n",
            "\n"
          ]
        }
      ]
    },
    {
      "cell_type": "code",
      "metadata": {
        "colab": {
          "base_uri": "https://localhost:8080/"
        },
        "id": "YT0rwPtdWrva",
        "outputId": "5c5fd60c-b761-4536-afd8-c342fdfae730"
      },
      "source": [
        "df_titles.distinct().show(5)"
      ],
      "execution_count": null,
      "outputs": [
        {
          "output_type": "stream",
          "name": "stdout",
          "text": [
            "+---------+---------+--------------------+--------------------+-------+---------+-------+--------------+--------------------+\n",
            "|   tconst|titleType|        primaryTitle|       originalTitle|isAdult|startYear|endYear|runtimeMinutes|              genres|\n",
            "+---------+---------+--------------------+--------------------+-------+---------+-------+--------------+--------------------+\n",
            "|tt0000033|    short|  Horse Trick Riders|          La voltige|      0|     1895|     \\N|             1|Comedy,Documentar...|\n",
            "|tt0000132|    short|          Card Party|Une partie de cartes|      0|     1896|     \\N|             1|     Biography,Short|\n",
            "|tt0214902|    short|        The Magician|         Le magicien|      0|     1898|     \\N|             1|Fantasy,Horror,Short|\n",
            "|tt0225248|    short|Canada Vignettes:...|Canada Vignettes:...|      0|     1979|     \\N|             1|     Animation,Short|\n",
            "|tt0245776|    short|       The Biter Bit|       The Biter Bit|      0|     1899|     \\N|             1|        Comedy,Short|\n",
            "+---------+---------+--------------------+--------------------+-------+---------+-------+--------------+--------------------+\n",
            "only showing top 5 rows\n",
            "\n"
          ]
        }
      ]
    },
    {
      "cell_type": "code",
      "metadata": {
        "colab": {
          "base_uri": "https://localhost:8080/"
        },
        "id": "0zYdvTxCXAoo",
        "outputId": "be66ae95-1013-4720-a656-8b7f2bc46538"
      },
      "source": [
        "df_titles.count()"
      ],
      "execution_count": null,
      "outputs": [
        {
          "output_type": "execute_result",
          "data": {
            "text/plain": [
              "8328316"
            ]
          },
          "metadata": {},
          "execution_count": 98
        }
      ]
    },
    {
      "cell_type": "code",
      "metadata": {
        "colab": {
          "base_uri": "https://localhost:8080/"
        },
        "id": "vYnwEs2cXclI",
        "outputId": "999067d9-6e61-4560-835c-b8b1325f4303"
      },
      "source": [
        "df_titles.distinct().explain('formatted')"
      ],
      "execution_count": null,
      "outputs": [
        {
          "output_type": "stream",
          "name": "stdout",
          "text": [
            "== Physical Plan ==\n",
            "AdaptiveSparkPlan (5)\n",
            "+- HashAggregate (4)\n",
            "   +- Exchange (3)\n",
            "      +- HashAggregate (2)\n",
            "         +- Scan csv  (1)\n",
            "\n",
            "\n",
            "(1) Scan csv \n",
            "Output [9]: [tconst#530, titleType#531, primaryTitle#532, originalTitle#533, isAdult#534, startYear#535, endYear#536, runtimeMinutes#537, genres#538]\n",
            "Batched: false\n",
            "Location: InMemoryFileIndex [file:/content/drive/MyDrive/igti_bootcamps/eng_dados_cloud/mod3/title_basics.csv]\n",
            "ReadSchema: struct<tconst:string,titleType:string,primaryTitle:string,originalTitle:string,isAdult:string,startYear:string,endYear:string,runtimeMinutes:string,genres:string>\n",
            "\n",
            "(2) HashAggregate\n",
            "Input [9]: [tconst#530, titleType#531, primaryTitle#532, originalTitle#533, isAdult#534, startYear#535, endYear#536, runtimeMinutes#537, genres#538]\n",
            "Keys [9]: [runtimeMinutes#537, tconst#530, titleType#531, originalTitle#533, startYear#535, endYear#536, primaryTitle#532, isAdult#534, genres#538]\n",
            "Functions: []\n",
            "Aggregate Attributes: []\n",
            "Results [9]: [runtimeMinutes#537, tconst#530, titleType#531, originalTitle#533, startYear#535, endYear#536, primaryTitle#532, isAdult#534, genres#538]\n",
            "\n",
            "(3) Exchange\n",
            "Input [9]: [runtimeMinutes#537, tconst#530, titleType#531, originalTitle#533, startYear#535, endYear#536, primaryTitle#532, isAdult#534, genres#538]\n",
            "Arguments: hashpartitioning(runtimeMinutes#537, tconst#530, titleType#531, originalTitle#533, startYear#535, endYear#536, primaryTitle#532, isAdult#534, genres#538, 200), ENSURE_REQUIREMENTS, [id=#680]\n",
            "\n",
            "(4) HashAggregate\n",
            "Input [9]: [runtimeMinutes#537, tconst#530, titleType#531, originalTitle#533, startYear#535, endYear#536, primaryTitle#532, isAdult#534, genres#538]\n",
            "Keys [9]: [runtimeMinutes#537, tconst#530, titleType#531, originalTitle#533, startYear#535, endYear#536, primaryTitle#532, isAdult#534, genres#538]\n",
            "Functions: []\n",
            "Aggregate Attributes: []\n",
            "Results [9]: [tconst#530, titleType#531, primaryTitle#532, originalTitle#533, isAdult#534, startYear#535, endYear#536, runtimeMinutes#537, genres#538]\n",
            "\n",
            "(5) AdaptiveSparkPlan\n",
            "Output [9]: [tconst#530, titleType#531, primaryTitle#532, originalTitle#533, isAdult#534, startYear#535, endYear#536, runtimeMinutes#537, genres#538]\n",
            "Arguments: isFinalPlan=false\n",
            "\n",
            "\n"
          ]
        }
      ]
    },
    {
      "cell_type": "markdown",
      "metadata": {
        "id": "-fX36Q2eXuUa"
      },
      "source": [
        "**Filtros**\n",
        "\n",
        "Operadores lógicos : \n",
        "   - e   : &\n",
        "   - ou  : |\n",
        "   - não : ~\n",
        "\n",
        "Para fazer o filtro, pode ser usado tanto a função `filter()` como `where()` "
      ]
    },
    {
      "cell_type": "markdown",
      "metadata": {
        "id": "Rs0sRrH7YYVP"
      },
      "source": [
        "**Filtros com uma condição**"
      ]
    },
    {
      "cell_type": "code",
      "metadata": {
        "colab": {
          "base_uri": "https://localhost:8080/"
        },
        "id": "c1_M-ZUhYXb-",
        "outputId": "3c9476fe-6651-4038-8193-5d293dd62004"
      },
      "source": [
        "(\n",
        "    df_titles.filter(col('titleType') == 'movie').show(5)\n",
        ")"
      ],
      "execution_count": null,
      "outputs": [
        {
          "output_type": "stream",
          "name": "stdout",
          "text": [
            "+---------+---------+------------------+------------------+-------+---------+-------+--------------+------+\n",
            "|   tconst|titleType|      primaryTitle|     originalTitle|isAdult|startYear|endYear|runtimeMinutes|genres|\n",
            "+---------+---------+------------------+------------------+-------+---------+-------+--------------+------+\n",
            "|tt0000502|    movie|          Bohemios|          Bohemios|      0|     1905|     \\N|           100|    \\N|\n",
            "|tt0000591|    movie|  The Prodigal Son| L'enfant prodigue|      0|     1907|     \\N|            90| Drama|\n",
            "|tt0000615|    movie|Robbery Under Arms|Robbery Under Arms|      0|     1907|     \\N|            \\N| Drama|\n",
            "|tt0000630|    movie|            Hamlet|            Amleto|      0|     1908|     \\N|            \\N| Drama|\n",
            "|tt0000675|    movie|       Don Quijote|       Don Quijote|      0|     1908|     \\N|            \\N| Drama|\n",
            "+---------+---------+------------------+------------------+-------+---------+-------+--------------+------+\n",
            "only showing top 5 rows\n",
            "\n"
          ]
        }
      ]
    },
    {
      "cell_type": "code",
      "metadata": {
        "colab": {
          "base_uri": "https://localhost:8080/"
        },
        "id": "epkcQU4KX_S1",
        "outputId": "5426f443-ca25-4fbf-e4f8-99cbd06e8dfc"
      },
      "source": [
        "(\n",
        "    df_titles.where(col('titleType') == 'movie').show()\n",
        ")"
      ],
      "execution_count": null,
      "outputs": [
        {
          "output_type": "stream",
          "name": "stdout",
          "text": [
            "+---------+---------+--------------------+--------------------+-------+---------+-------+--------------+-----------------+\n",
            "|   tconst|titleType|        primaryTitle|       originalTitle|isAdult|startYear|endYear|runtimeMinutes|           genres|\n",
            "+---------+---------+--------------------+--------------------+-------+---------+-------+--------------+-----------------+\n",
            "|tt0000502|    movie|            Bohemios|            Bohemios|      0|     1905|     \\N|           100|               \\N|\n",
            "|tt0000591|    movie|    The Prodigal Son|   L'enfant prodigue|      0|     1907|     \\N|            90|            Drama|\n",
            "|tt0000615|    movie|  Robbery Under Arms|  Robbery Under Arms|      0|     1907|     \\N|            \\N|            Drama|\n",
            "|tt0000630|    movie|              Hamlet|              Amleto|      0|     1908|     \\N|            \\N|            Drama|\n",
            "|tt0000675|    movie|         Don Quijote|         Don Quijote|      0|     1908|     \\N|            \\N|            Drama|\n",
            "|tt0000679|    movie|The Fairylogue an...|The Fairylogue an...|      0|     1908|     \\N|           120|Adventure,Fantasy|\n",
            "|tt0000739|    movie|El pastorcito de ...|El pastorcito de ...|      0|     1908|     \\N|            \\N|            Drama|\n",
            "|tt0000793|    movie|       Andreas Hofer|       Andreas Hofer|      0|     1909|     \\N|            \\N|            Drama|\n",
            "|tt0000814|    movie|La bocana de Mar ...|La bocana de Mar ...|      0|     1909|     \\N|            \\N|               \\N|\n",
            "|tt0000838|    movie|  A Cultura do Cacau|  A Cultura do Cacau|      0|     1909|     \\N|            \\N|               \\N|\n",
            "|tt0000842|    movie|De Garraf a Barce...|De Garraf a Barce...|      0|     1909|     \\N|            \\N|               \\N|\n",
            "|tt0000846|    movie|Un día en Xochimilco|Un día en Xochimilco|      0|     1909|     \\N|            \\N|               \\N|\n",
            "|tt0000850|    movie|    Los dos hermanos|    Los dos hermanos|      0|     1909|     \\N|            \\N|               \\N|\n",
            "|tt0000859|    movie|Fabricación del c...|Fabricación del c...|      0|     1909|     \\N|            \\N|               \\N|\n",
            "|tt0000862|    movie|          Faldgruben|          Faldgruben|      0|     1909|     \\N|            \\N|               \\N|\n",
            "|tt0000867|    movie|     Fiesta de toros|     Fiesta de toros|      0|     1909|     \\N|            \\N|               \\N|\n",
            "|tt0000868|    movie|Fiestas de Santa ...|Fiestas de Santa ...|      0|     1909|     \\N|            \\N|               \\N|\n",
            "|tt0000869|    movie|Fiestas en La Gar...|Fiestas en La Gar...|      0|     1909|     \\N|            \\N|               \\N|\n",
            "|tt0000879|    movie|Gira política de ...|Gira política de ...|      0|     1909|     \\N|            \\N|               \\N|\n",
            "|tt0000886|    movie|Hamlet, Prince of...|              Hamlet|      0|     1910|     \\N|            \\N|            Drama|\n",
            "+---------+---------+--------------------+--------------------+-------+---------+-------+--------------+-----------------+\n",
            "only showing top 20 rows\n",
            "\n"
          ]
        }
      ]
    },
    {
      "cell_type": "code",
      "metadata": {
        "colab": {
          "base_uri": "https://localhost:8080/"
        },
        "id": "mF1y9cAUZpTV",
        "outputId": "2a6e1898-7330-4315-8845-09f707322b32"
      },
      "source": [
        "(\n",
        "    df_titles.where(col('titleType') == 'movie').count()\n",
        ")"
      ],
      "execution_count": null,
      "outputs": [
        {
          "output_type": "execute_result",
          "data": {
            "text/plain": [
              "591977"
            ]
          },
          "metadata": {},
          "execution_count": 106
        }
      ]
    },
    {
      "cell_type": "code",
      "metadata": {
        "colab": {
          "base_uri": "https://localhost:8080/"
        },
        "id": "9V_rm1vbZ1J0",
        "outputId": "687697b9-035b-49c7-9a1c-f7b71953df98"
      },
      "source": [
        "(\n",
        "    df_titles.filter((col('titleType') == 'movie') & (col('runTimeMinutes') <= 90)).show()\n",
        ")"
      ],
      "execution_count": null,
      "outputs": [
        {
          "output_type": "stream",
          "name": "stdout",
          "text": [
            "+---------+---------+--------------------+--------------------+-------+---------+-------+--------------+--------------------+\n",
            "|   tconst|titleType|        primaryTitle|       originalTitle|isAdult|startYear|endYear|runtimeMinutes|              genres|\n",
            "+---------+---------+--------------------+--------------------+-------+---------+-------+--------------+--------------------+\n",
            "|tt0000591|    movie|    The Prodigal Son|   L'enfant prodigue|      0|     1907|     \\N|            90|               Drama|\n",
            "|tt0001184|    movie|Don Juan de Serra...|Don Juan de Serra...|      0|     1910|     \\N|            58|     Adventure,Drama|\n",
            "|tt0001258|    movie|The White Slave T...|Den hvide slaveha...|      0|     1910|     \\N|            45|               Drama|\n",
            "|tt0001285|    movie|   The Life of Moses|   The Life of Moses|      0|     1909|     \\N|            50|Biography,Drama,F...|\n",
            "|tt0001498|    movie|The Battle of Tra...|The Battle of Tra...|      0|     1911|     \\N|            51|                 War|\n",
            "|tt0001592|    movie|In the Prime of Life|       Ekspeditricen|      0|     1911|     \\N|            52|               Drama|\n",
            "|tt0001630|    movie|    Der fremde Vogel|    Der fremde Vogel|      0|     1911|     \\N|            45|                  \\N|\n",
            "|tt0001790|    movie|Les Misérables, P...|Les misérables - ...|      0|     1913|     \\N|            60|               Drama|\n",
            "|tt0001812|    movie|         Oedipus Rex|         Oedipus Rex|      0|     1911|     \\N|            56|               Drama|\n",
            "|tt0001892|    movie|      Den sorte drøm|      Den sorte drøm|      0|     1911|     \\N|            53|               Drama|\n",
            "|tt0001911|    movie|         Nell Gwynne|Sweet Nell of Old...|      0|     1911|     \\N|            50|Biography,Drama,H...|\n",
            "|tt0001964|    movie|       The Traitress|      Die Verräterin|      0|     1911|     \\N|            48|               Drama|\n",
            "|tt0002026|    movie|Anny - Story of a...|Anny - en gatepig...|      0|     1912|     \\N|            68|       Drama,Romance|\n",
            "|tt0002094|    movie|          Charles IV|          Charles IV|      0|     1912|     \\N|            50|                  \\N|\n",
            "|tt0002130|    movie|     Dante's Inferno|           L'Inferno|      0|     1911|     \\N|            71|Adventure,Drama,F...|\n",
            "|tt0002153|    movie|The Great Circus ...|Dødsspring til he...|      0|     1912|     \\N|            45|               Drama|\n",
            "|tt0002186|    movie|   The Flying Circus| Den flyvende cirkus|      0|     1912|     \\N|            46|               Drama|\n",
            "|tt0002199|    movie|From the Manger t...|From the Manger t...|      0|     1912|     \\N|            60|     Biography,Drama|\n",
            "|tt0002315|    movie|El lobo de la sierra|El lobo de la sierra|      0|     1912|     \\N|            76|                  \\N|\n",
            "|tt0002423|    movie|             Passion|      Madame DuBarry|      0|     1919|     \\N|            85|Biography,Drama,R...|\n",
            "+---------+---------+--------------------+--------------------+-------+---------+-------+--------------+--------------------+\n",
            "only showing top 20 rows\n",
            "\n"
          ]
        }
      ]
    },
    {
      "cell_type": "code",
      "metadata": {
        "colab": {
          "base_uri": "https://localhost:8080/"
        },
        "id": "KCYmJ85EaL3S",
        "outputId": "b146eec1-1392-4035-80fc-767db2740dad"
      },
      "source": [
        "(\n",
        "    df_titles.filter(((col('titleType') == 'movie') | (col('titleType') == 'tvSeries')) & (col('runtimeMinutes') <= 90)).show()\n",
        ")"
      ],
      "execution_count": null,
      "outputs": [
        {
          "output_type": "stream",
          "name": "stdout",
          "text": [
            "+---------+---------+--------------------+--------------------+-------+---------+-------+--------------+--------------------+\n",
            "|   tconst|titleType|        primaryTitle|       originalTitle|isAdult|startYear|endYear|runtimeMinutes|              genres|\n",
            "+---------+---------+--------------------+--------------------+-------+---------+-------+--------------+--------------------+\n",
            "|tt0000591|    movie|    The Prodigal Son|   L'enfant prodigue|      0|     1907|     \\N|            90|               Drama|\n",
            "|tt0001184|    movie|Don Juan de Serra...|Don Juan de Serra...|      0|     1910|     \\N|            58|     Adventure,Drama|\n",
            "|tt0001258|    movie|The White Slave T...|Den hvide slaveha...|      0|     1910|     \\N|            45|               Drama|\n",
            "|tt0001285|    movie|   The Life of Moses|   The Life of Moses|      0|     1909|     \\N|            50|Biography,Drama,F...|\n",
            "|tt0001498|    movie|The Battle of Tra...|The Battle of Tra...|      0|     1911|     \\N|            51|                 War|\n",
            "|tt0001592|    movie|In the Prime of Life|       Ekspeditricen|      0|     1911|     \\N|            52|               Drama|\n",
            "|tt0001630|    movie|    Der fremde Vogel|    Der fremde Vogel|      0|     1911|     \\N|            45|                  \\N|\n",
            "|tt0001790|    movie|Les Misérables, P...|Les misérables - ...|      0|     1913|     \\N|            60|               Drama|\n",
            "|tt0001812|    movie|         Oedipus Rex|         Oedipus Rex|      0|     1911|     \\N|            56|               Drama|\n",
            "|tt0001892|    movie|      Den sorte drøm|      Den sorte drøm|      0|     1911|     \\N|            53|               Drama|\n",
            "|tt0001911|    movie|         Nell Gwynne|Sweet Nell of Old...|      0|     1911|     \\N|            50|Biography,Drama,H...|\n",
            "|tt0001964|    movie|       The Traitress|      Die Verräterin|      0|     1911|     \\N|            48|               Drama|\n",
            "|tt0002026|    movie|Anny - Story of a...|Anny - en gatepig...|      0|     1912|     \\N|            68|       Drama,Romance|\n",
            "|tt0002094|    movie|          Charles IV|          Charles IV|      0|     1912|     \\N|            50|                  \\N|\n",
            "|tt0002130|    movie|     Dante's Inferno|           L'Inferno|      0|     1911|     \\N|            71|Adventure,Drama,F...|\n",
            "|tt0002153|    movie|The Great Circus ...|Dødsspring til he...|      0|     1912|     \\N|            45|               Drama|\n",
            "|tt0002186|    movie|   The Flying Circus| Den flyvende cirkus|      0|     1912|     \\N|            46|               Drama|\n",
            "|tt0002199|    movie|From the Manger t...|From the Manger t...|      0|     1912|     \\N|            60|     Biography,Drama|\n",
            "|tt0002315|    movie|El lobo de la sierra|El lobo de la sierra|      0|     1912|     \\N|            76|                  \\N|\n",
            "|tt0002423|    movie|             Passion|      Madame DuBarry|      0|     1919|     \\N|            85|Biography,Drama,R...|\n",
            "+---------+---------+--------------------+--------------------+-------+---------+-------+--------------+--------------------+\n",
            "only showing top 20 rows\n",
            "\n"
          ]
        }
      ]
    },
    {
      "cell_type": "code",
      "metadata": {
        "colab": {
          "base_uri": "https://localhost:8080/"
        },
        "id": "F0inqNeJa58D",
        "outputId": "e4afc112-de9d-439c-ba96-c0b9bb353359"
      },
      "source": [
        "(\n",
        "df_titles.filter( ((col('titleType') == 'movie') & (col('titleType') == 'tvSeries') & (col('runtimeMinutes') <= 90)) ).count()\n",
        ")"
      ],
      "execution_count": null,
      "outputs": [
        {
          "output_type": "execute_result",
          "data": {
            "text/plain": [
              "0"
            ]
          },
          "metadata": {},
          "execution_count": 114
        }
      ]
    },
    {
      "cell_type": "code",
      "metadata": {
        "colab": {
          "base_uri": "https://localhost:8080/"
        },
        "id": "z95f5JM4aoab",
        "outputId": "03e84c9d-485f-42b4-f056-4765b85c1394"
      },
      "source": [
        "(\n",
        "    df_titles.filter(((col('titleType') == 'movie') | (col('titleType') == 'tvSeries')) & (col('runtimeMinutes') <= 90)).count()\n",
        ")"
      ],
      "execution_count": null,
      "outputs": [
        {
          "output_type": "execute_result",
          "data": {
            "text/plain": [
              "296182"
            ]
          },
          "metadata": {},
          "execution_count": 111
        }
      ]
    },
    {
      "cell_type": "code",
      "metadata": {
        "colab": {
          "base_uri": "https://localhost:8080/"
        },
        "id": "k_oq-7Z_aw7K",
        "outputId": "5cac5b90-c6c1-486f-e5dd-db0f24f89210"
      },
      "source": [
        "df_titles.filter((col('titleType').isin('movie','tvSeries')) & (col('runtimeMinutes') <= 90)).show(5)"
      ],
      "execution_count": null,
      "outputs": [
        {
          "output_type": "stream",
          "name": "stdout",
          "text": [
            "+---------+---------+--------------------+--------------------+-------+---------+-------+--------------+--------------------+\n",
            "|   tconst|titleType|        primaryTitle|       originalTitle|isAdult|startYear|endYear|runtimeMinutes|              genres|\n",
            "+---------+---------+--------------------+--------------------+-------+---------+-------+--------------+--------------------+\n",
            "|tt0000591|    movie|    The Prodigal Son|   L'enfant prodigue|      0|     1907|     \\N|            90|               Drama|\n",
            "|tt0001184|    movie|Don Juan de Serra...|Don Juan de Serra...|      0|     1910|     \\N|            58|     Adventure,Drama|\n",
            "|tt0001258|    movie|The White Slave T...|Den hvide slaveha...|      0|     1910|     \\N|            45|               Drama|\n",
            "|tt0001285|    movie|   The Life of Moses|   The Life of Moses|      0|     1909|     \\N|            50|Biography,Drama,F...|\n",
            "|tt0001498|    movie|The Battle of Tra...|The Battle of Tra...|      0|     1911|     \\N|            51|                 War|\n",
            "+---------+---------+--------------------+--------------------+-------+---------+-------+--------------+--------------------+\n",
            "only showing top 5 rows\n",
            "\n"
          ]
        }
      ]
    },
    {
      "cell_type": "code",
      "metadata": {
        "colab": {
          "base_uri": "https://localhost:8080/"
        },
        "id": "TqSKvRuBb18s",
        "outputId": "938e839e-7851-47f5-a8a0-df7c246ee219"
      },
      "source": [
        "(\n",
        "df_titles\n",
        ".filter(col('titleType').isin('movie','tvSeries'))\n",
        ".filter(col('runtimeMinutes') <= 90)\n",
        ".count()\n",
        ")"
      ],
      "execution_count": null,
      "outputs": [
        {
          "output_type": "execute_result",
          "data": {
            "text/plain": [
              "296182"
            ]
          },
          "metadata": {},
          "execution_count": 120
        }
      ]
    },
    {
      "cell_type": "markdown",
      "metadata": {
        "id": "YBqhjdj_cZV8"
      },
      "source": [
        "**Filtros utilizando expressões**"
      ]
    },
    {
      "cell_type": "code",
      "metadata": {
        "colab": {
          "base_uri": "https://localhost:8080/"
        },
        "id": "U25H4_kNcYYq",
        "outputId": "29971e3c-ff22-4b21-8b24-baf4efccfe7d"
      },
      "source": [
        "(\n",
        "    df_titles\n",
        "    .filter('titleType == \"movie\"')\n",
        "    .filter('runtimeMinutes <= 90')\n",
        "    .show(5)\n",
        ")"
      ],
      "execution_count": null,
      "outputs": [
        {
          "output_type": "stream",
          "name": "stdout",
          "text": [
            "+---------+---------+--------------------+--------------------+-------+---------+-------+--------------+--------------------+\n",
            "|   tconst|titleType|        primaryTitle|       originalTitle|isAdult|startYear|endYear|runtimeMinutes|              genres|\n",
            "+---------+---------+--------------------+--------------------+-------+---------+-------+--------------+--------------------+\n",
            "|tt0000591|    movie|    The Prodigal Son|   L'enfant prodigue|      0|     1907|     \\N|            90|               Drama|\n",
            "|tt0001184|    movie|Don Juan de Serra...|Don Juan de Serra...|      0|     1910|     \\N|            58|     Adventure,Drama|\n",
            "|tt0001258|    movie|The White Slave T...|Den hvide slaveha...|      0|     1910|     \\N|            45|               Drama|\n",
            "|tt0001285|    movie|   The Life of Moses|   The Life of Moses|      0|     1909|     \\N|            50|Biography,Drama,F...|\n",
            "|tt0001498|    movie|The Battle of Tra...|The Battle of Tra...|      0|     1911|     \\N|            51|                 War|\n",
            "+---------+---------+--------------------+--------------------+-------+---------+-------+--------------+--------------------+\n",
            "only showing top 5 rows\n",
            "\n"
          ]
        }
      ]
    },
    {
      "cell_type": "code",
      "metadata": {
        "colab": {
          "base_uri": "https://localhost:8080/"
        },
        "id": "I82r4_rFcpgn",
        "outputId": "d1866770-6375-41b5-8fb0-5a4afa91ecc1"
      },
      "source": [
        "(\n",
        "    df_titles\n",
        "    .filter('titleType in (\"movie\",\"tvSeries\") and runtimeMinutes <= 90')\n",
        "    .show(5)\n",
        ")"
      ],
      "execution_count": null,
      "outputs": [
        {
          "output_type": "stream",
          "name": "stdout",
          "text": [
            "+---------+---------+--------------------+--------------------+-------+---------+-------+--------------+--------------------+\n",
            "|   tconst|titleType|        primaryTitle|       originalTitle|isAdult|startYear|endYear|runtimeMinutes|              genres|\n",
            "+---------+---------+--------------------+--------------------+-------+---------+-------+--------------+--------------------+\n",
            "|tt0000591|    movie|    The Prodigal Son|   L'enfant prodigue|      0|     1907|     \\N|            90|               Drama|\n",
            "|tt0001184|    movie|Don Juan de Serra...|Don Juan de Serra...|      0|     1910|     \\N|            58|     Adventure,Drama|\n",
            "|tt0001258|    movie|The White Slave T...|Den hvide slaveha...|      0|     1910|     \\N|            45|               Drama|\n",
            "|tt0001285|    movie|   The Life of Moses|   The Life of Moses|      0|     1909|     \\N|            50|Biography,Drama,F...|\n",
            "|tt0001498|    movie|The Battle of Tra...|The Battle of Tra...|      0|     1911|     \\N|            51|                 War|\n",
            "+---------+---------+--------------------+--------------------+-------+---------+-------+--------------+--------------------+\n",
            "only showing top 5 rows\n",
            "\n"
          ]
        }
      ]
    },
    {
      "cell_type": "markdown",
      "metadata": {
        "id": "3IiU5I7HdWeO"
      },
      "source": [
        "**Observações**\n",
        "\n",
        "Quando nos referimos às colunas por meio da função `col()`, temos acesso à diversos métodos das colunas que podem ser utilizados para auxiliar na filtragem do DataFrame. Alguns deles são :\n",
        "\n",
        "  - `isin()` : checa se a coluna contém os valores listados na função.\n",
        "  - `contains` : utilizado para verificar se uma coluna de texto contém algum padrão especificado (não aceita regex). Aceita uma outra coluna de text.\n",
        "  - `like()` : utilizado para verificar se uma coluna de texto contém algum padrão especificado (não aceita regex). Funciona de forma similar so \"LIKE\" do SQL.\n",
        "  - `rlike()` : utilizado para verificar se uma coluna de texto contém algum padrão especificado (**aceita regex**). Funciona de forma similar ao \"RLIKE\" do SQL\n",
        "  - `startswith()` : utilizado para verificar se uma coluna de texto começa com algum padrão especificado (**aceita regex**).\n",
        "  - `endswith()` :  utilizado para verificar se uma coluna de texto termina com algum padrão especificado (**aceita regex**).\n",
        "  - `between()` : checa se os valores da coluna estão dentro do intervalo especificado. Os dois lados do intervalo são inclusivos\n",
        "  - `isNull()` : retorna True se o valor da coluna é nulo\n",
        "  - `isNotNull()` : retorna True se o valor da coluna é não nulo\n",
        "\n",
        "Outros métodos úteis :\n",
        "\n",
        "  - `alias()/name()` : usado para renomear as colunas em operações como select() e agg()\n",
        "  - `astype()/cast()` : usado para mudar o tipo das colunas. Aceita tanto um\n",
        "  string como um tipo especificado pelo módulo pyspark.sql.types\n",
        "  - `substr()` : utilizado para cortar uma string com base em índices dos caracteres.  "
      ]
    },
    {
      "cell_type": "code",
      "metadata": {
        "colab": {
          "base_uri": "https://localhost:8080/"
        },
        "id": "aBXE4FyQgMRe",
        "outputId": "d8d7a28b-4492-4802-a4d1-5c8e5fd581d0"
      },
      "source": [
        "(\n",
        "  df_titles\n",
        " .filter(col('primaryTitle').like('%Avengers%'))\n",
        " .filter(col('titleType') == 'movie')\n",
        " .show(5)\n",
        ")"
      ],
      "execution_count": null,
      "outputs": [
        {
          "output_type": "stream",
          "name": "stdout",
          "text": [
            "+---------+---------+--------------------+--------------------+-------+---------+-------+--------------+--------------------+\n",
            "|   tconst|titleType|        primaryTitle|       originalTitle|isAdult|startYear|endYear|runtimeMinutes|              genres|\n",
            "+---------+---------+--------------------+--------------------+-------+---------+-------+--------------+--------------------+\n",
            "|tt0034639|    movie|        The Avengers|   The Day Will Dawn|      0|     1942|     \\N|            98|           Drama,War|\n",
            "|tt0036194|    movie|The People's Aven...|   Narodnye mstiteli|      0|     1943|     \\N|            55|     Documentary,War|\n",
            "|tt0058651|    movie|  The Three Avengers| Gli invincibili tre|      0|     1964|     \\N|           101|Action,Adventure,...|\n",
            "|tt0069746|    movie|Avengers of the Reef|Avengers of the Reef|      0|     1973|     \\N|            84|    Adventure,Family|\n",
            "|tt0074513|    movie|The Shaolin Avengers|Fang Shi Yu yu Hu...|      0|     1976|     \\N|            97|        Action,Drama|\n",
            "+---------+---------+--------------------+--------------------+-------+---------+-------+--------------+--------------------+\n",
            "only showing top 5 rows\n",
            "\n"
          ]
        }
      ]
    },
    {
      "cell_type": "code",
      "metadata": {
        "colab": {
          "base_uri": "https://localhost:8080/"
        },
        "id": "XbbhPITeg9u3",
        "outputId": "f06cd843-5eb4-4e98-e6b3-0ca12a4e1e87"
      },
      "source": [
        "(\n",
        "    df_titles.\n",
        "    withColumn('startYear',col('startYear').cast('int'))\n",
        "    .filter(col('startYear').isNotNull())\n",
        "    .show()\n",
        ")"
      ],
      "execution_count": null,
      "outputs": [
        {
          "output_type": "stream",
          "name": "stdout",
          "text": [
            "+---------+---------+--------------------+--------------------+-------+---------+-------+--------------+--------------------+\n",
            "|   tconst|titleType|        primaryTitle|       originalTitle|isAdult|startYear|endYear|runtimeMinutes|              genres|\n",
            "+---------+---------+--------------------+--------------------+-------+---------+-------+--------------+--------------------+\n",
            "|tt0000001|    short|          Carmencita|          Carmencita|      0|     1894|     \\N|             1|   Documentary,Short|\n",
            "|tt0000002|    short|Le clown et ses c...|Le clown et ses c...|      0|     1892|     \\N|             5|     Animation,Short|\n",
            "|tt0000003|    short|      Pauvre Pierrot|      Pauvre Pierrot|      0|     1892|     \\N|             4|Animation,Comedy,...|\n",
            "|tt0000004|    short|         Un bon bock|         Un bon bock|      0|     1892|     \\N|            12|     Animation,Short|\n",
            "|tt0000005|    short|    Blacksmith Scene|    Blacksmith Scene|      0|     1893|     \\N|             1|        Comedy,Short|\n",
            "|tt0000006|    short|   Chinese Opium Den|   Chinese Opium Den|      0|     1894|     \\N|             1|               Short|\n",
            "|tt0000007|    short|Corbett and Court...|Corbett and Court...|      0|     1894|     \\N|             1|         Short,Sport|\n",
            "|tt0000008|    short|Edison Kinetoscop...|Edison Kinetoscop...|      0|     1894|     \\N|             1|   Documentary,Short|\n",
            "|tt0000009|    short|          Miss Jerry|          Miss Jerry|      0|     1894|     \\N|            40|       Romance,Short|\n",
            "|tt0000010|    short| Leaving the Factory|La sortie de l'us...|      0|     1895|     \\N|             1|   Documentary,Short|\n",
            "|tt0000011|    short|Akrobatisches Pot...|Akrobatisches Pot...|      0|     1895|     \\N|             1|   Documentary,Short|\n",
            "|tt0000012|    short|The Arrival of a ...|L'arrivée d'un tr...|      0|     1896|     \\N|             1|   Documentary,Short|\n",
            "|tt0000013|    short|The Photographica...|Le débarquement d...|      0|     1895|     \\N|             1|   Documentary,Short|\n",
            "|tt0000014|    short| The Waterer Watered|   L'arroseur arrosé|      0|     1895|     \\N|             1|        Comedy,Short|\n",
            "|tt0000015|    short| Autour d'une cabine| Autour d'une cabine|      0|     1894|     \\N|             2|     Animation,Short|\n",
            "|tt0000016|    short|Boat Leaving the ...|Barque sortant du...|      0|     1895|     \\N|             1|   Documentary,Short|\n",
            "|tt0000017|    short|Italienischer Bau...|Italienischer Bau...|      0|     1895|     \\N|             1|   Documentary,Short|\n",
            "|tt0000018|    short|Das boxende Känguruh|Das boxende Känguruh|      0|     1895|     \\N|             1|               Short|\n",
            "|tt0000019|    short|    The Clown Barber|    The Clown Barber|      0|     1898|     \\N|            \\N|        Comedy,Short|\n",
            "|tt0000020|    short|      The Derby 1895|      The Derby 1895|      0|     1895|     \\N|             1|Documentary,Short...|\n",
            "+---------+---------+--------------------+--------------------+-------+---------+-------+--------------+--------------------+\n",
            "only showing top 20 rows\n",
            "\n"
          ]
        }
      ]
    },
    {
      "cell_type": "markdown",
      "metadata": {
        "id": "QN1n0flbWxHp"
      },
      "source": [
        "# **Aula 3.5.3 -** Operações básicas com DataFrames - Parte III\n",
        "\n",
        "**Ordenando o DataFrame**\n",
        "\n",
        "A ordenação do DataFrame pode ser feita utilizando funções `orderBy()` ou `sort()`. Algumas funções auxiliares importantes para serem usadas ao ordenar : \n",
        "\n",
        "  - `asc()`: ordena a coluna de forma ascendente (default)\n",
        "  - `desc()` : ordena a coluna de forma descrescente\n",
        "  - `asc_nulls_first()/desc_nulls_first()`: ordena a coluna de forma ascendente e descendente, respectivamente, mantendo os campos nulos primeiro\n",
        "  - `asc_nulls_last()/desc_nulls_last()`: ordena a coluna de forma ascendente e\n",
        "  decrescente, respectivamente, mantendo os campos nulos por último"
      ]
    },
    {
      "cell_type": "code",
      "metadata": {
        "id": "rTXmprItW0kn",
        "colab": {
          "base_uri": "https://localhost:8080/"
        },
        "outputId": "6fac3c70-a868-4049-e455-cedcc7685efb"
      },
      "source": [
        "df_titles.show(5)"
      ],
      "execution_count": null,
      "outputs": [
        {
          "output_type": "stream",
          "name": "stdout",
          "text": [
            "+---------+---------+--------------------+--------------------+-------+---------+-------+--------------+--------------------+\n",
            "|   tconst|titleType|        primaryTitle|       originalTitle|isAdult|startYear|endYear|runtimeMinutes|              genres|\n",
            "+---------+---------+--------------------+--------------------+-------+---------+-------+--------------+--------------------+\n",
            "|tt0000001|    short|          Carmencita|          Carmencita|      0|     1894|     \\N|             1|   Documentary,Short|\n",
            "|tt0000002|    short|Le clown et ses c...|Le clown et ses c...|      0|     1892|     \\N|             5|     Animation,Short|\n",
            "|tt0000003|    short|      Pauvre Pierrot|      Pauvre Pierrot|      0|     1892|     \\N|             4|Animation,Comedy,...|\n",
            "|tt0000004|    short|         Un bon bock|         Un bon bock|      0|     1892|     \\N|            12|     Animation,Short|\n",
            "|tt0000005|    short|    Blacksmith Scene|    Blacksmith Scene|      0|     1893|     \\N|             1|        Comedy,Short|\n",
            "+---------+---------+--------------------+--------------------+-------+---------+-------+--------------+--------------------+\n",
            "only showing top 5 rows\n",
            "\n"
          ]
        }
      ]
    },
    {
      "cell_type": "code",
      "metadata": {
        "colab": {
          "base_uri": "https://localhost:8080/"
        },
        "id": "fN52wVVu4fCj",
        "outputId": "e208e162-cd2b-4ab4-cfe8-83ab11ba1cd0"
      },
      "source": [
        "df_titles.orderBy(col('startYear').cast('int')).show()"
      ],
      "execution_count": null,
      "outputs": [
        {
          "output_type": "stream",
          "name": "stdout",
          "text": [
            "+----------+---------+--------------------+--------------------+-------+---------+-------+--------------+-------------+\n",
            "|    tconst|titleType|        primaryTitle|       originalTitle|isAdult|startYear|endYear|runtimeMinutes|       genres|\n",
            "+----------+---------+--------------------+--------------------+-------+---------+-------+--------------+-------------+\n",
            "|tt11112784|    movie|   Perfect Strangers|   Perfect Strangers|      0|       \\N|     \\N|            \\N| Comedy,Drama|\n",
            "|tt11113108|tvEpisode|      Episode #1.759|      Episode #1.759|      0|       \\N|     \\N|            \\N|Comedy,Family|\n",
            "|tt11112532|    movie|                Agra|                Agra|      0|       \\N|     \\N|            \\N|        Drama|\n",
            "|tt11113062|tvEpisode|      Episode #1.741|      Episode #1.741|      0|       \\N|     \\N|            \\N|Comedy,Family|\n",
            "|tt11112858|    movie|Lizards: A Pop Opera|Lizards: A Pop Opera|      0|       \\N|     \\N|            \\N|        Drama|\n",
            "|tt11113066|tvEpisode|      Episode #1.742|      Episode #1.742|      0|       \\N|     \\N|            \\N|Comedy,Family|\n",
            "|tt11111996| tvSeries|       Captain Carol|       Captain Carol|      0|       \\N|     \\N|            \\N|        Drama|\n",
            "|tt11113068|tvEpisode|      Episode #1.743|      Episode #1.743|      0|       \\N|     \\N|            \\N|Comedy,Family|\n",
            "|tt11112084|    short|Salt. Pepper. Pea...|Salt. Pepper. Pea...|      0|       \\N|     \\N|            \\N|  Crime,Short|\n",
            "|tt11113072|tvEpisode|      Episode #1.744|      Episode #1.744|      0|       \\N|     \\N|            \\N|Comedy,Family|\n",
            "| tt1111226|tvEpisode|BR549 and Stoll V...|BR549 and Stoll V...|      0|       \\N|     \\N|            \\N|        Music|\n",
            "|tt11113074|tvEpisode|      Episode #1.745|      Episode #1.745|      0|       \\N|     \\N|            \\N|Comedy,Family|\n",
            "| tt1111228|tvEpisode|Janiva Magness an...|Janiva Magness an...|      0|       \\N|     \\N|            \\N|        Music|\n",
            "|tt11113076|tvEpisode|      Episode #1.746|      Episode #1.746|      0|       \\N|     \\N|            \\N|Comedy,Family|\n",
            "| tt1111230|tvEpisode|Tony Trischka and...|Tony Trischka and...|      0|       \\N|     \\N|            \\N|        Music|\n",
            "|tt11113080|tvEpisode|      Episode #1.747|      Episode #1.747|      0|       \\N|     \\N|            \\N|Comedy,Family|\n",
            "|tt11112078|    movie|  Un día 28 de enero|  Un día 28 de enero|      0|       \\N|     \\N|            \\N|  Documentary|\n",
            "|tt11113082|tvEpisode|      Episode #1.749|      Episode #1.749|      0|       \\N|     \\N|            \\N|Comedy,Family|\n",
            "|tt11112536|    movie|        Fashion Week|        Fashion Week|      0|       \\N|     \\N|            \\N|       Comedy|\n",
            "|tt11113084|tvEpisode|      Episode #1.748|      Episode #1.748|      0|       \\N|     \\N|            \\N|Comedy,Family|\n",
            "+----------+---------+--------------------+--------------------+-------+---------+-------+--------------+-------------+\n",
            "only showing top 20 rows\n",
            "\n"
          ]
        }
      ]
    },
    {
      "cell_type": "code",
      "metadata": {
        "colab": {
          "base_uri": "https://localhost:8080/"
        },
        "id": "-dWK-Ptk99XH",
        "outputId": "d16183d7-ef78-4ff8-921e-e350709900d4"
      },
      "source": [
        "df_titles.orderBy('startYear','runtimeMinutes').filter('titleType == \"movie\"').show()"
      ],
      "execution_count": null,
      "outputs": [
        {
          "output_type": "stream",
          "name": "stdout",
          "text": [
            "+---------+---------+--------------------+--------------------+-------+---------+-------+--------------+--------------------+\n",
            "|   tconst|titleType|        primaryTitle|       originalTitle|isAdult|startYear|endYear|runtimeMinutes|              genres|\n",
            "+---------+---------+--------------------+--------------------+-------+---------+-------+--------------+--------------------+\n",
            "|tt2210499|    movie|          Birmingham|          Birmingham|      0|     1896|     \\N|            61|         Documentary|\n",
            "|tt0229676|    movie|Reproduction of t...|Reproduction of t...|      0|     1897|     \\N|            \\N|Documentary,News,...|\n",
            "|tt0138342|    movie|      O Campo Grande|      O Campo Grande|      0|     1898|     \\N|            \\N|         Documentary|\n",
            "|tt0138349|    movie|O Carnaval em Lisboa|O Carnaval em Lisboa|      0|     1898|     \\N|            \\N|         Documentary|\n",
            "|tt0138759|    movie|A Rua Augusta em ...|A Rua Augusta em ...|      0|     1898|     \\N|            \\N|         Documentary|\n",
            "|tt0235357|    movie|Dressing Paper Dolls|Dressing Paper Dolls|      0|     1898|     \\N|            \\N|         Documentary|\n",
            "|tt0138774|    movie|Saída dos Operári...|Saída dos Operári...|      0|     1898|     \\N|            \\N|         Documentary|\n",
            "|tt0236940|    movie|69th Regiment Pas...|69th Regiment Pas...|      0|     1898|     \\N|            \\N|         Documentary|\n",
            "|tt0221040|    movie|Buck Dance, Ute I...|Buck Dance, Ute I...|      0|     1898|     \\N|            \\N|         Documentary|\n",
            "|tt0230366|    movie|Jeffries-Sharkey ...|Jeffries-Sharkey ...|      0|     1899|     \\N|           135|Documentary,News,...|\n",
            "|tt0138724|    movie|A Procissão da Se...|A Procissão da Se...|      0|     1899|     \\N|            \\N|         Documentary|\n",
            "|tt0230765|    movie|Sharkey-McCoy Fig...|Sharkey-McCoy Fig...|      0|     1899|     \\N|            \\N|Documentary,News,...|\n",
            "|tt0246629|    movie|   A Football Tackle|   A Football Tackle|      0|     1899|     \\N|            \\N|   Documentary,Sport|\n",
            "|tt0257347|    movie|2nd Company Gover...|2nd Company Gover...|      0|     1899|     \\N|            \\N|         Documentary|\n",
            "|tt0138382|    movie|O Cortejo da Proc...|O Cortejo da Proc...|      0|     1899|     \\N|            \\N|         Documentary|\n",
            "|tt0254716|    movie|Professor Billy O...|Professor Billy O...|      0|     1899|     \\N|            \\N|         Documentary|\n",
            "|tt0138568|    movie|O Lançamento ao T...|O Lançamento ao T...|      0|     1899|     \\N|            \\N|         Documentary|\n",
            "|tt0266894|    movie|The Republican Na...|The Republican Na...|      0|     1900|     \\N|            53|         Documentary|\n",
            "|tt0291338|    movie|      May Day Parade|      May Day Parade|      0|     1900|     \\N|            66|    Documentary,News|\n",
            "|tt0291199|    movie|General Bell's Ex...|General Bell's Ex...|      0|     1900|     \\N|            \\N|         Documentary|\n",
            "+---------+---------+--------------------+--------------------+-------+---------+-------+--------------+--------------------+\n",
            "only showing top 20 rows\n",
            "\n"
          ]
        }
      ]
    },
    {
      "cell_type": "code",
      "metadata": {
        "colab": {
          "base_uri": "https://localhost:8080/"
        },
        "id": "Y2PshGyG-pK6",
        "outputId": "adc1341e-78cb-4dc7-cd81-89138a4462bb"
      },
      "source": [
        "from pyspark.sql.functions import desc\n",
        "\n",
        "df_titles.orderBy('startYear',desc('runtimeMinutes')).filter('titleType == \"movie\"').show()"
      ],
      "execution_count": null,
      "outputs": [
        {
          "output_type": "stream",
          "name": "stdout",
          "text": [
            "+---------+---------+--------------------+--------------------+-------+---------+-------+--------------+--------------------+\n",
            "|   tconst|titleType|        primaryTitle|       originalTitle|isAdult|startYear|endYear|runtimeMinutes|              genres|\n",
            "+---------+---------+--------------------+--------------------+-------+---------+-------+--------------+--------------------+\n",
            "|tt2210499|    movie|          Birmingham|          Birmingham|      0|     1896|     \\N|            61|         Documentary|\n",
            "|tt0229676|    movie|Reproduction of t...|Reproduction of t...|      0|     1897|     \\N|            \\N|Documentary,News,...|\n",
            "|tt0236940|    movie|69th Regiment Pas...|69th Regiment Pas...|      0|     1898|     \\N|            \\N|         Documentary|\n",
            "|tt0235357|    movie|Dressing Paper Dolls|Dressing Paper Dolls|      0|     1898|     \\N|            \\N|         Documentary|\n",
            "|tt0138349|    movie|O Carnaval em Lisboa|O Carnaval em Lisboa|      0|     1898|     \\N|            \\N|         Documentary|\n",
            "|tt0138774|    movie|Saída dos Operári...|Saída dos Operári...|      0|     1898|     \\N|            \\N|         Documentary|\n",
            "|tt0138759|    movie|A Rua Augusta em ...|A Rua Augusta em ...|      0|     1898|     \\N|            \\N|         Documentary|\n",
            "|tt0221040|    movie|Buck Dance, Ute I...|Buck Dance, Ute I...|      0|     1898|     \\N|            \\N|         Documentary|\n",
            "|tt0138342|    movie|      O Campo Grande|      O Campo Grande|      0|     1898|     \\N|            \\N|         Documentary|\n",
            "|tt0138382|    movie|O Cortejo da Proc...|O Cortejo da Proc...|      0|     1899|     \\N|            \\N|         Documentary|\n",
            "|tt0254716|    movie|Professor Billy O...|Professor Billy O...|      0|     1899|     \\N|            \\N|         Documentary|\n",
            "|tt0138568|    movie|O Lançamento ao T...|O Lançamento ao T...|      0|     1899|     \\N|            \\N|         Documentary|\n",
            "|tt0230765|    movie|Sharkey-McCoy Fig...|Sharkey-McCoy Fig...|      0|     1899|     \\N|            \\N|Documentary,News,...|\n",
            "|tt0138724|    movie|A Procissão da Se...|A Procissão da Se...|      0|     1899|     \\N|            \\N|         Documentary|\n",
            "|tt0257347|    movie|2nd Company Gover...|2nd Company Gover...|      0|     1899|     \\N|            \\N|         Documentary|\n",
            "|tt0246629|    movie|   A Football Tackle|   A Football Tackle|      0|     1899|     \\N|            \\N|   Documentary,Sport|\n",
            "|tt0230366|    movie|Jeffries-Sharkey ...|Jeffries-Sharkey ...|      0|     1899|     \\N|           135|Documentary,News,...|\n",
            "|tt0327448|    movie| At Break-Neck Speed| At Break-Neck Speed|      0|     1900|     \\N|            \\N|         Documentary|\n",
            "|tt0266332|    movie|Birdseye View of ...|Birdseye View of ...|      0|     1900|     \\N|            \\N|         Documentary|\n",
            "|tt0291199|    movie|General Bell's Ex...|General Bell's Ex...|      0|     1900|     \\N|            \\N|         Documentary|\n",
            "+---------+---------+--------------------+--------------------+-------+---------+-------+--------------+--------------------+\n",
            "only showing top 20 rows\n",
            "\n"
          ]
        }
      ]
    },
    {
      "cell_type": "code",
      "metadata": {
        "colab": {
          "base_uri": "https://localhost:8080/"
        },
        "id": "rIUoPMt6_FBh",
        "outputId": "9c96168a-abb5-466d-bcbd-ec2a8fc8d1f5"
      },
      "source": [
        "df_titles.orderBy(desc('startYear')).filter('titleType == \"movie\"').show()"
      ],
      "execution_count": null,
      "outputs": [
        {
          "output_type": "stream",
          "name": "stdout",
          "text": [
            "+----------+---------+--------------------+--------------------+-------+---------+-------+--------------+--------------------+\n",
            "|    tconst|titleType|        primaryTitle|       originalTitle|isAdult|startYear|endYear|runtimeMinutes|              genres|\n",
            "+----------+---------+--------------------+--------------------+-------+---------+-------+--------------+--------------------+\n",
            "|tt11115868|    movie|        The Shinobis|        The Shinobis|      0|       \\N|     \\N|            \\N|              Action|\n",
            "|tt11116102|    movie|              Deeper|              Deeper|      0|       \\N|     \\N|            \\N|             Romance|\n",
            "|tt11116112|    movie|Untitled Elliott ...|Untitled Elliott ...|      0|       \\N|     \\N|            \\N|                  \\N|\n",
            "|tt11112784|    movie|   Perfect Strangers|   Perfect Strangers|      0|       \\N|     \\N|            \\N|        Comedy,Drama|\n",
            "|tt11116440|    movie|               Shame|               Shame|      0|       \\N|     \\N|            \\N|                  \\N|\n",
            "|tt11112072|    movie|       Hell Can Wait|       Hell Can Wait|      0|       \\N|     \\N|            \\N|              Comedy|\n",
            "|tt11116516|    movie|        Spiritwalker|        Spiritwalker|      0|       \\N|     \\N|            \\N|      Fantasy,Horror|\n",
            "|tt11112202|    movie|                Kajo|                Kajo|      0|       \\N|     \\N|            \\N|   Adventure,Romance|\n",
            "|tt11116536|    movie|           3rd Floor|           3rd Floor|      0|       \\N|     \\N|            \\N|              Horror|\n",
            "|tt11112536|    movie|        Fashion Week|        Fashion Week|      0|       \\N|     \\N|            \\N|              Comedy|\n",
            "|tt11116608|    movie| Jukdo Surfing Diary| Jukdo Surfing Diary|      0|       \\N|     \\N|            \\N|               Drama|\n",
            "|tt11112496|    movie|Tera Kya Hoga Lam...|Tera Kya Hoga Lam...|      0|       \\N|     \\N|           135|                  \\N|\n",
            "|tt11116642|    movie|          Press Play|          Press Play|      0|       \\N|     \\N|            \\N|               Music|\n",
            "|tt11114804|    movie|     Ratsasan Remake|     Ratsasan Remake|      0|       \\N|     \\N|            \\N|Action,Crime,Thri...|\n",
            "|tt11116680|    movie|Untitled Fania Re...|Untitled Fania Re...|      0|       \\N|     \\N|            \\N|                  \\N|\n",
            "|tt11114870|    movie|Untitled Coral Re...|Untitled Coral Re...|      0|       \\N|     \\N|            \\N|         Documentary|\n",
            "|tt11116716|    movie|               Raven|               Raven|      0|       \\N|     \\N|            \\N|              Action|\n",
            "|tt11112760|    movie|               Crack|               Crack|      0|       \\N|     \\N|           122|               Drama|\n",
            "|tt11116920|    movie|         Hack Attack|         Hack Attack|      0|       \\N|     \\N|            \\N|              Action|\n",
            "|tt11120738|    movie|            Chiquito|            Chiquito|      0|       \\N|     \\N|            \\N|               Drama|\n",
            "+----------+---------+--------------------+--------------------+-------+---------+-------+--------------+--------------------+\n",
            "only showing top 20 rows\n",
            "\n"
          ]
        }
      ]
    },
    {
      "cell_type": "code",
      "metadata": {
        "colab": {
          "base_uri": "https://localhost:8080/"
        },
        "id": "88r5tjTq45PB",
        "outputId": "8c126daa-b33c-48d1-b6d5-3c59e7ea9162"
      },
      "source": [
        "from pyspark.sql.functions import desc\n",
        "\n",
        "(\n",
        " df_titles.withColumn('startYear' , col('startYear').cast('int'))\n",
        " .orderBy('startYear')\n",
        " .filter('titleType == \"movie\"')\n",
        " .show()\n",
        ")"
      ],
      "execution_count": null,
      "outputs": [
        {
          "output_type": "stream",
          "name": "stdout",
          "text": [
            "+----------+---------+--------------------+--------------------+-------+---------+-------+--------------+--------------------+\n",
            "|    tconst|titleType|        primaryTitle|       originalTitle|isAdult|startYear|endYear|runtimeMinutes|              genres|\n",
            "+----------+---------+--------------------+--------------------+-------+---------+-------+--------------+--------------------+\n",
            "|tt11116440|    movie|               Shame|               Shame|      0|     null|     \\N|            \\N|                  \\N|\n",
            "|tt11122910|    movie|       Durgo Rahasya|       Durgo Rahasya|      0|     null|     \\N|            \\N|      Drama,Thriller|\n",
            "|tt11116516|    movie|        Spiritwalker|        Spiritwalker|      0|     null|     \\N|            \\N|      Fantasy,Horror|\n",
            "|tt11112072|    movie|       Hell Can Wait|       Hell Can Wait|      0|     null|     \\N|            \\N|              Comedy|\n",
            "|tt11116536|    movie|           3rd Floor|           3rd Floor|      0|     null|     \\N|            \\N|              Horror|\n",
            "|tt11112202|    movie|                Kajo|                Kajo|      0|     null|     \\N|            \\N|   Adventure,Romance|\n",
            "|tt11116608|    movie| Jukdo Surfing Diary| Jukdo Surfing Diary|      0|     null|     \\N|            \\N|               Drama|\n",
            "|tt11112496|    movie|Tera Kya Hoga Lam...|Tera Kya Hoga Lam...|      0|     null|     \\N|           135|                  \\N|\n",
            "|tt11116642|    movie|          Press Play|          Press Play|      0|     null|     \\N|            \\N|               Music|\n",
            "|tt11112704|    movie|              Jism 3|              Jism 3|      0|     null|     \\N|           135|            Thriller|\n",
            "|tt11116680|    movie|Untitled Fania Re...|Untitled Fania Re...|      0|     null|     \\N|            \\N|                  \\N|\n",
            "|tt11112784|    movie|   Perfect Strangers|   Perfect Strangers|      0|     null|     \\N|            \\N|        Comedy,Drama|\n",
            "|tt11116716|    movie|               Raven|               Raven|      0|     null|     \\N|            \\N|              Action|\n",
            "|tt11112858|    movie|Lizards: A Pop Opera|Lizards: A Pop Opera|      0|     null|     \\N|            \\N|               Drama|\n",
            "|tt11116920|    movie|         Hack Attack|         Hack Attack|      0|     null|     \\N|            \\N|              Action|\n",
            "|tt11114804|    movie|     Ratsasan Remake|     Ratsasan Remake|      0|     null|     \\N|            \\N|Action,Crime,Thri...|\n",
            "| tt1111959|    movie|                Will|                Will|      0|     null|     \\N|            \\N|               Drama|\n",
            "|tt11114870|    movie|Untitled Coral Re...|Untitled Coral Re...|      0|     null|     \\N|            \\N|         Documentary|\n",
            "|tt11120378|    movie|The Once and Futu...|The Once and Futu...|      0|     null|     \\N|            \\N|       Comedy,Horror|\n",
            "|tt11115868|    movie|        The Shinobis|        The Shinobis|      0|     null|     \\N|            \\N|              Action|\n",
            "+----------+---------+--------------------+--------------------+-------+---------+-------+--------------+--------------------+\n",
            "only showing top 20 rows\n",
            "\n"
          ]
        }
      ]
    },
    {
      "cell_type": "code",
      "metadata": {
        "colab": {
          "base_uri": "https://localhost:8080/"
        },
        "id": "gWaFdjO4_sEP",
        "outputId": "2c5daf06-c196-499f-8b71-4c49a3d284a0"
      },
      "source": [
        "from pyspark.sql.functions import asc_nulls_first\n",
        "\n",
        "(\n",
        "  df_titles\n",
        " .withColumn('startYear',col('startYear').cast('int'))\n",
        " .orderBy(asc_nulls_first('startYear'))\n",
        " .show(5)   \n",
        ")"
      ],
      "execution_count": null,
      "outputs": [
        {
          "output_type": "stream",
          "name": "stdout",
          "text": [
            "+---------+---------+--------------------+--------------------+-------+---------+-------+--------------+------------+\n",
            "|   tconst|titleType|        primaryTitle|       originalTitle|isAdult|startYear|endYear|runtimeMinutes|      genres|\n",
            "+---------+---------+--------------------+--------------------+-------+---------+-------+--------------+------------+\n",
            "|tt0067098|tvEpisode|         Willi Forst|         Willi Forst|      0|     null|     \\N|            55|          \\N|\n",
            "|tt0092975|tvEpisode|Erste Liebe und H...|Erste Liebe und H...|      0|     null|     \\N|            \\N| Documentary|\n",
            "|tt0071158|tvEpisode|  The Arcata Promise|  The Arcata Promise|      0|     null|     \\N|            \\N|       Drama|\n",
            "|tt0073399|    movie|Atlantic City Jac...|           The Money|      0|     null|     \\N|            88|Action,Drama|\n",
            "|tt0085677|tvEpisode|        High Country|        High Country|      0|     null|     \\N|            \\N|       Sport|\n",
            "+---------+---------+--------------------+--------------------+-------+---------+-------+--------------+------------+\n",
            "only showing top 5 rows\n",
            "\n"
          ]
        }
      ]
    },
    {
      "cell_type": "markdown",
      "metadata": {
        "id": "Lk4WcCfSFATh"
      },
      "source": [
        "**Renomeando Colunas**\n",
        "\n",
        "Para renomear colunas, é utilizada a função `withColumnRename()` , da seguinte forma\n",
        "\n",
        "  `df.withColumnRenamed(\"nome_antigo\",\"nome_novo\")`"
      ]
    },
    {
      "cell_type": "code",
      "metadata": {
        "colab": {
          "base_uri": "https://localhost:8080/"
        },
        "id": "pFwuj29kE_Wn",
        "outputId": "4c3d1fdf-eaee-4c81-e340-2e3468a17253"
      },
      "source": [
        "(\n",
        "    df_titles\n",
        "    .withColumnRenamed('primaryTitle','nome_filme')\n",
        "    .show(5)\n",
        ")"
      ],
      "execution_count": null,
      "outputs": [
        {
          "output_type": "stream",
          "name": "stdout",
          "text": [
            "+---------+---------+--------------------+--------------------+-------+---------+-------+--------------+--------------------+\n",
            "|   tconst|titleType|          nome_filme|       originalTitle|isAdult|startYear|endYear|runtimeMinutes|              genres|\n",
            "+---------+---------+--------------------+--------------------+-------+---------+-------+--------------+--------------------+\n",
            "|tt0000001|    short|          Carmencita|          Carmencita|      0|     1894|     \\N|             1|   Documentary,Short|\n",
            "|tt0000002|    short|Le clown et ses c...|Le clown et ses c...|      0|     1892|     \\N|             5|     Animation,Short|\n",
            "|tt0000003|    short|      Pauvre Pierrot|      Pauvre Pierrot|      0|     1892|     \\N|             4|Animation,Comedy,...|\n",
            "|tt0000004|    short|         Un bon bock|         Un bon bock|      0|     1892|     \\N|            12|     Animation,Short|\n",
            "|tt0000005|    short|    Blacksmith Scene|    Blacksmith Scene|      0|     1893|     \\N|             1|        Comedy,Short|\n",
            "+---------+---------+--------------------+--------------------+-------+---------+-------+--------------+--------------------+\n",
            "only showing top 5 rows\n",
            "\n"
          ]
        }
      ]
    },
    {
      "cell_type": "code",
      "metadata": {
        "colab": {
          "base_uri": "https://localhost:8080/"
        },
        "id": "9tNs3DeqG5cT",
        "outputId": "2cf91167-3687-4eef-c4d6-45756bfca9ac"
      },
      "source": [
        "(\n",
        "    df_titles\n",
        "    .withColumnRenamed('primaryTitle','nome_filme')\n",
        "    .select('nome_filme','titleType','startYear','runtimeMinutes')\n",
        "    .show()\n",
        ")"
      ],
      "execution_count": null,
      "outputs": [
        {
          "output_type": "stream",
          "name": "stdout",
          "text": [
            "+--------------------+---------+---------+--------------+\n",
            "|          nome_filme|titleType|startYear|runtimeMinutes|\n",
            "+--------------------+---------+---------+--------------+\n",
            "|          Carmencita|    short|     1894|             1|\n",
            "|Le clown et ses c...|    short|     1892|             5|\n",
            "|      Pauvre Pierrot|    short|     1892|             4|\n",
            "|         Un bon bock|    short|     1892|            12|\n",
            "|    Blacksmith Scene|    short|     1893|             1|\n",
            "|   Chinese Opium Den|    short|     1894|             1|\n",
            "|Corbett and Court...|    short|     1894|             1|\n",
            "|Edison Kinetoscop...|    short|     1894|             1|\n",
            "|          Miss Jerry|    short|     1894|            40|\n",
            "| Leaving the Factory|    short|     1895|             1|\n",
            "|Akrobatisches Pot...|    short|     1895|             1|\n",
            "|The Arrival of a ...|    short|     1896|             1|\n",
            "|The Photographica...|    short|     1895|             1|\n",
            "| The Waterer Watered|    short|     1895|             1|\n",
            "| Autour d'une cabine|    short|     1894|             2|\n",
            "|Boat Leaving the ...|    short|     1895|             1|\n",
            "|Italienischer Bau...|    short|     1895|             1|\n",
            "|Das boxende Känguruh|    short|     1895|             1|\n",
            "|    The Clown Barber|    short|     1898|            \\N|\n",
            "|      The Derby 1895|    short|     1895|             1|\n",
            "+--------------------+---------+---------+--------------+\n",
            "only showing top 20 rows\n",
            "\n"
          ]
        }
      ]
    },
    {
      "cell_type": "code",
      "metadata": {
        "colab": {
          "base_uri": "https://localhost:8080/"
        },
        "id": "SSxCssPJHc5m",
        "outputId": "6b3e7b43-6c9b-4f1f-9d13-7e53edb9ce76"
      },
      "source": [
        "(\n",
        "    df_titles.selectExpr('primaryTitle as nome_filme', 'titleType', \n",
        "                         'startYear','runtimeMinutes').show(5)\n",
        ")"
      ],
      "execution_count": null,
      "outputs": [
        {
          "output_type": "stream",
          "name": "stdout",
          "text": [
            "+--------------------+---------+---------+--------------+\n",
            "|          nome_filme|titleType|startYear|runtimeMinutes|\n",
            "+--------------------+---------+---------+--------------+\n",
            "|          Carmencita|    short|     1894|             1|\n",
            "|Le clown et ses c...|    short|     1892|             5|\n",
            "|      Pauvre Pierrot|    short|     1892|             4|\n",
            "|         Un bon bock|    short|     1892|            12|\n",
            "|    Blacksmith Scene|    short|     1893|             1|\n",
            "+--------------------+---------+---------+--------------+\n",
            "only showing top 5 rows\n",
            "\n"
          ]
        }
      ]
    },
    {
      "cell_type": "code",
      "metadata": {
        "colab": {
          "base_uri": "https://localhost:8080/",
          "height": 226
        },
        "id": "0tWq84YeH2mB",
        "outputId": "e6586278-a81d-4da7-abaa-2d2bda84cf41"
      },
      "source": [
        "df_renamed = df_titles\n",
        "for c in df_titles.columns : \n",
        "  df_renamed = df_renamed.withColumnRenamed(c,c+'_suffx')\n",
        "\n",
        "df_renamed.limit(5).toPandas()"
      ],
      "execution_count": null,
      "outputs": [
        {
          "output_type": "execute_result",
          "data": {
            "text/html": [
              "<div>\n",
              "<style scoped>\n",
              "    .dataframe tbody tr th:only-of-type {\n",
              "        vertical-align: middle;\n",
              "    }\n",
              "\n",
              "    .dataframe tbody tr th {\n",
              "        vertical-align: top;\n",
              "    }\n",
              "\n",
              "    .dataframe thead th {\n",
              "        text-align: right;\n",
              "    }\n",
              "</style>\n",
              "<table border=\"1\" class=\"dataframe\">\n",
              "  <thead>\n",
              "    <tr style=\"text-align: right;\">\n",
              "      <th></th>\n",
              "      <th>tconst_suffx</th>\n",
              "      <th>titleType_suffx</th>\n",
              "      <th>primaryTitle_suffx</th>\n",
              "      <th>originalTitle_suffx</th>\n",
              "      <th>isAdult_suffx</th>\n",
              "      <th>startYear_suffx</th>\n",
              "      <th>endYear_suffx</th>\n",
              "      <th>runtimeMinutes_suffx</th>\n",
              "      <th>genres_suffx</th>\n",
              "    </tr>\n",
              "  </thead>\n",
              "  <tbody>\n",
              "    <tr>\n",
              "      <th>0</th>\n",
              "      <td>tt0000001</td>\n",
              "      <td>short</td>\n",
              "      <td>Carmencita</td>\n",
              "      <td>Carmencita</td>\n",
              "      <td>0</td>\n",
              "      <td>1894</td>\n",
              "      <td>\\N</td>\n",
              "      <td>1</td>\n",
              "      <td>Documentary,Short</td>\n",
              "    </tr>\n",
              "    <tr>\n",
              "      <th>1</th>\n",
              "      <td>tt0000002</td>\n",
              "      <td>short</td>\n",
              "      <td>Le clown et ses chiens</td>\n",
              "      <td>Le clown et ses chiens</td>\n",
              "      <td>0</td>\n",
              "      <td>1892</td>\n",
              "      <td>\\N</td>\n",
              "      <td>5</td>\n",
              "      <td>Animation,Short</td>\n",
              "    </tr>\n",
              "    <tr>\n",
              "      <th>2</th>\n",
              "      <td>tt0000003</td>\n",
              "      <td>short</td>\n",
              "      <td>Pauvre Pierrot</td>\n",
              "      <td>Pauvre Pierrot</td>\n",
              "      <td>0</td>\n",
              "      <td>1892</td>\n",
              "      <td>\\N</td>\n",
              "      <td>4</td>\n",
              "      <td>Animation,Comedy,Romance</td>\n",
              "    </tr>\n",
              "    <tr>\n",
              "      <th>3</th>\n",
              "      <td>tt0000004</td>\n",
              "      <td>short</td>\n",
              "      <td>Un bon bock</td>\n",
              "      <td>Un bon bock</td>\n",
              "      <td>0</td>\n",
              "      <td>1892</td>\n",
              "      <td>\\N</td>\n",
              "      <td>12</td>\n",
              "      <td>Animation,Short</td>\n",
              "    </tr>\n",
              "    <tr>\n",
              "      <th>4</th>\n",
              "      <td>tt0000005</td>\n",
              "      <td>short</td>\n",
              "      <td>Blacksmith Scene</td>\n",
              "      <td>Blacksmith Scene</td>\n",
              "      <td>0</td>\n",
              "      <td>1893</td>\n",
              "      <td>\\N</td>\n",
              "      <td>1</td>\n",
              "      <td>Comedy,Short</td>\n",
              "    </tr>\n",
              "  </tbody>\n",
              "</table>\n",
              "</div>"
            ],
            "text/plain": [
              "  tconst_suffx titleType_suffx  ... runtimeMinutes_suffx              genres_suffx\n",
              "0    tt0000001           short  ...                    1         Documentary,Short\n",
              "1    tt0000002           short  ...                    5           Animation,Short\n",
              "2    tt0000003           short  ...                    4  Animation,Comedy,Romance\n",
              "3    tt0000004           short  ...                   12           Animation,Short\n",
              "4    tt0000005           short  ...                    1              Comedy,Short\n",
              "\n",
              "[5 rows x 9 columns]"
            ]
          },
          "metadata": {},
          "execution_count": 27
        }
      ]
    },
    {
      "cell_type": "markdown",
      "metadata": {
        "id": "9PDUl0X4I0JG"
      },
      "source": [
        "**Criando e Alterando Colunas**\n",
        "\n",
        "Para criar ou alterar colunas é utilizada a função `withColumn()`, da seguinte forma : \n",
        "  - `df.withColumn(\"nome_da_coluna\", {expressão geradora da coluna})`"
      ]
    },
    {
      "cell_type": "code",
      "metadata": {
        "colab": {
          "base_uri": "https://localhost:8080/"
        },
        "id": "mHAtgaKHIzH5",
        "outputId": "10c65132-8ce9-41a3-8ebe-06c9667fa39e"
      },
      "source": [
        "from pyspark.sql.functions import upper\n",
        "\n",
        "(\n",
        "    df_titles\n",
        "    .select('tconst','primaryTitle','runtimeMinutes',)\n",
        "    .withColumn(\"primaryTitle_2\",upper('primaryTitle'))\n",
        "    .show(5)\n",
        ")"
      ],
      "execution_count": null,
      "outputs": [
        {
          "output_type": "stream",
          "name": "stdout",
          "text": [
            "+---------+--------------------+--------------+--------------------+\n",
            "|   tconst|        primaryTitle|runtimeMinutes|      primaryTitle_2|\n",
            "+---------+--------------------+--------------+--------------------+\n",
            "|tt0000001|          Carmencita|             1|          CARMENCITA|\n",
            "|tt0000002|Le clown et ses c...|             5|LE CLOWN ET SES C...|\n",
            "|tt0000003|      Pauvre Pierrot|             4|      PAUVRE PIERROT|\n",
            "|tt0000004|         Un bon bock|            12|         UN BON BOCK|\n",
            "|tt0000005|    Blacksmith Scene|             1|    BLACKSMITH SCENE|\n",
            "+---------+--------------------+--------------+--------------------+\n",
            "only showing top 5 rows\n",
            "\n"
          ]
        }
      ]
    },
    {
      "cell_type": "markdown",
      "metadata": {
        "id": "OOcQhWReK2CB"
      },
      "source": [
        "**Criando colunas a partir de constantes**"
      ]
    },
    {
      "cell_type": "code",
      "metadata": {
        "colab": {
          "base_uri": "https://localhost:8080/"
        },
        "id": "6cRDc77YK1W0",
        "outputId": "2cf42acb-ed59-485b-de72-b9ad87c04de7"
      },
      "source": [
        "from pyspark.sql.functions import lit\n",
        "\n",
        "(\n",
        "    df_titles\n",
        "    .select('tconst','primaryTitle','runtimeMinutes',)\n",
        "    .withColumn('pais',lit('Brasil'))\n",
        "    .show(5)\n",
        ")"
      ],
      "execution_count": null,
      "outputs": [
        {
          "output_type": "stream",
          "name": "stdout",
          "text": [
            "+---------+--------------------+--------------+------+\n",
            "|   tconst|        primaryTitle|runtimeMinutes|  pais|\n",
            "+---------+--------------------+--------------+------+\n",
            "|tt0000001|          Carmencita|             1|Brasil|\n",
            "|tt0000002|Le clown et ses c...|             5|Brasil|\n",
            "|tt0000003|      Pauvre Pierrot|             4|Brasil|\n",
            "|tt0000004|         Un bon bock|            12|Brasil|\n",
            "|tt0000005|    Blacksmith Scene|             1|Brasil|\n",
            "+---------+--------------------+--------------+------+\n",
            "only showing top 5 rows\n",
            "\n"
          ]
        }
      ]
    },
    {
      "cell_type": "markdown",
      "metadata": {
        "id": "Cd7WzeJ_LRY1"
      },
      "source": [
        "**Criando colunas condicionais**"
      ]
    },
    {
      "cell_type": "code",
      "metadata": {
        "colab": {
          "base_uri": "https://localhost:8080/"
        },
        "id": "nceDWdYKJzCP",
        "outputId": "95e901d5-0cf5-49cd-af9b-75649ce6a0de"
      },
      "source": [
        "from pyspark.sql.functions import when\n",
        "\n",
        "(\n",
        "    df_titles\n",
        "    .select('tconst','primaryTitle','runtimeMinutes',)\n",
        "    .withColumn('runtimeMinutes',col('runtimeMinutes').cast('int'))\n",
        "    .withColumn(\"categoria_runtime\", when(col('runtimeMinutes') <=60,'curto')\n",
        "                                    .when((col('runtimeMinutes') > 60) & (col('runtimeMinutes') < 120),'normal')\n",
        "                                    .when(col('runtimeMinutes') >=120, 'longo')\n",
        "                                    .when(col('runtimeMinutes').isNull(), 'nulo')\n",
        "                                    .otherwise('Erro'))\n",
        "    .filter('runtimeMinutes > 60')\n",
        "    .show(25)\n",
        ")"
      ],
      "execution_count": null,
      "outputs": [
        {
          "output_type": "stream",
          "name": "stdout",
          "text": [
            "+---------+--------------------+--------------+-----------------+\n",
            "|   tconst|        primaryTitle|runtimeMinutes|categoria_runtime|\n",
            "+---------+--------------------+--------------+-----------------+\n",
            "|tt0000502|            Bohemios|           100|           normal|\n",
            "|tt0000574|The Story of the ...|            70|           normal|\n",
            "|tt0000591|    The Prodigal Son|            90|           normal|\n",
            "|tt0000679|The Fairylogue an...|           120|            longo|\n",
            "|tt0001756|Lucha por la here...|            92|           normal|\n",
            "|tt0002026|Anny - Story of a...|            68|           normal|\n",
            "|tt0002101|           Cleopatra|           100|           normal|\n",
            "|tt0002130|     Dante's Inferno|            71|           normal|\n",
            "|tt0002315|El lobo de la sierra|            76|           normal|\n",
            "|tt0002423|             Passion|            85|           normal|\n",
            "|tt0002445|          Quo Vadis?|           120|            longo|\n",
            "|tt0002452|The Independence ...|           120|            longo|\n",
            "|tt0002625|          Ana Kadova|            92|           normal|\n",
            "|tt0002646|            Atlantis|           121|            longo|\n",
            "|tt0002685|        Blodets röst|            89|           normal|\n",
            "|tt0002767|The Count of Mont...|            69|           normal|\n",
            "|tt0002820|          East Lynne|            69|           normal|\n",
            "|tt0002885|   From Dusk to Dawn|            90|           normal|\n",
            "|tt0002898|Germinal; or, The...|           150|            longo|\n",
            "|tt0002922|              Hamlet|            64|           normal|\n",
            "|tt0002973|Dr. Mawson in the...|            68|           normal|\n",
            "|tt0003014|       Ingeborg Holm|            96|           normal|\n",
            "|tt0003037|Fantomas: The Man...|            61|           normal|\n",
            "|tt0003076|   Livets konflikter|            64|           normal|\n",
            "|tt0003102|    Love Everlasting|            90|           normal|\n",
            "+---------+--------------------+--------------+-----------------+\n",
            "only showing top 25 rows\n",
            "\n"
          ]
        }
      ]
    },
    {
      "cell_type": "code",
      "metadata": {
        "colab": {
          "base_uri": "https://localhost:8080/"
        },
        "id": "xbgh_MAAMaRM",
        "outputId": "a14f11bb-a210-4ed8-b47a-15dcda0f8c15"
      },
      "source": [
        "from pyspark.sql.functions import when,expr\n",
        "\n",
        "predicado = \"\"\"\n",
        "\n",
        "CASE WHEN runtimeMinutes <= 60 THEN 'curto'\n",
        "     WHEN runtimeMinutes > 60 AND runtimeMinutes < 120 THEN 'normal'\n",
        "     WHEN runtimeMinutes >= 120 THEN 'longo'\n",
        "     WHEN runtimeMinutes IS NULL THEN 'nulo'\n",
        "     ELSE 'Erro'\n",
        "END\n",
        "\n",
        "\"\"\"\n",
        "\n",
        "(\n",
        "    df_titles\n",
        "    .select('tconst','primaryTitle','runtimeMinutes',)\n",
        "    .withColumn('runtimeMinutes',col('runtimeMinutes').cast('int'))\n",
        "    .withColumn(\"categoria_runtime\", expr(predicado))\n",
        "    .filter('runtimeMinutes > 60')\n",
        "    .show(25)\n",
        ")"
      ],
      "execution_count": null,
      "outputs": [
        {
          "output_type": "stream",
          "name": "stdout",
          "text": [
            "+---------+--------------------+--------------+-----------------+\n",
            "|   tconst|        primaryTitle|runtimeMinutes|categoria_runtime|\n",
            "+---------+--------------------+--------------+-----------------+\n",
            "|tt0000502|            Bohemios|           100|           normal|\n",
            "|tt0000574|The Story of the ...|            70|           normal|\n",
            "|tt0000591|    The Prodigal Son|            90|           normal|\n",
            "|tt0000679|The Fairylogue an...|           120|            longo|\n",
            "|tt0001756|Lucha por la here...|            92|           normal|\n",
            "|tt0002026|Anny - Story of a...|            68|           normal|\n",
            "|tt0002101|           Cleopatra|           100|           normal|\n",
            "|tt0002130|     Dante's Inferno|            71|           normal|\n",
            "|tt0002315|El lobo de la sierra|            76|           normal|\n",
            "|tt0002423|             Passion|            85|           normal|\n",
            "|tt0002445|          Quo Vadis?|           120|            longo|\n",
            "|tt0002452|The Independence ...|           120|            longo|\n",
            "|tt0002625|          Ana Kadova|            92|           normal|\n",
            "|tt0002646|            Atlantis|           121|            longo|\n",
            "|tt0002685|        Blodets röst|            89|           normal|\n",
            "|tt0002767|The Count of Mont...|            69|           normal|\n",
            "|tt0002820|          East Lynne|            69|           normal|\n",
            "|tt0002885|   From Dusk to Dawn|            90|           normal|\n",
            "|tt0002898|Germinal; or, The...|           150|            longo|\n",
            "|tt0002922|              Hamlet|            64|           normal|\n",
            "|tt0002973|Dr. Mawson in the...|            68|           normal|\n",
            "|tt0003014|       Ingeborg Holm|            96|           normal|\n",
            "|tt0003037|Fantomas: The Man...|            61|           normal|\n",
            "|tt0003076|   Livets konflikter|            64|           normal|\n",
            "|tt0003102|    Love Everlasting|            90|           normal|\n",
            "+---------+--------------------+--------------+-----------------+\n",
            "only showing top 25 rows\n",
            "\n"
          ]
        }
      ]
    },
    {
      "cell_type": "markdown",
      "metadata": {
        "id": "PIpaFVSERn3I"
      },
      "source": [
        "# **Aula 3.6 -** Trabalhando com diferentes tipos de dados\n"
      ]
    },
    {
      "cell_type": "code",
      "metadata": {
        "id": "G8LcYHN5Rmks"
      },
      "source": [
        "import pyspark.sql.functions as f"
      ],
      "execution_count": null,
      "outputs": []
    },
    {
      "cell_type": "markdown",
      "metadata": {
        "id": "elNhD-U9M5bo"
      },
      "source": [
        "**Valores Numéricos**\n",
        "\n",
        "  - `round()` : arredonda o valor numérico\n",
        "  - `ceil` : arredonda o valor numérico para o maior inteiro mais próximo\n",
        "  - `floor()` : arredonda o valure numérico para o menor inteiro mais próximo\n",
        "  - `sqrt()` : retorna a raiz quadrada do valor\n",
        "  - `exp()` : retorna a exponencial do valor\n",
        "  - `log()` : retorna o logaritmo natual do valor\n",
        "  - `log10()` : retorna o logaritmo na base 10 do valor\n",
        "  - `greatest()` : retorna o maior valor dentre os valores das colunas. Análogo ao `max()`, mas entre colunas. \n",
        "  - `least()` : retorna o menor valor dentre os valores das colunas. Análogo ao `min()`, mas entre colunas"
      ]
    },
    {
      "cell_type": "code",
      "metadata": {
        "colab": {
          "base_uri": "https://localhost:8080/"
        },
        "id": "6acwb3c5M4Jb",
        "outputId": "c9701a28-f2ae-449f-bb2b-c15882370fae"
      },
      "source": [
        "df_titles.show(5)"
      ],
      "execution_count": null,
      "outputs": [
        {
          "output_type": "stream",
          "name": "stdout",
          "text": [
            "+---------+---------+--------------------+--------------------+-------+---------+-------+--------------+--------------------+\n",
            "|   tconst|titleType|        primaryTitle|       originalTitle|isAdult|startYear|endYear|runtimeMinutes|              genres|\n",
            "+---------+---------+--------------------+--------------------+-------+---------+-------+--------------+--------------------+\n",
            "|tt0000001|    short|          Carmencita|          Carmencita|      0|     1894|     \\N|             1|   Documentary,Short|\n",
            "|tt0000002|    short|Le clown et ses c...|Le clown et ses c...|      0|     1892|     \\N|             5|     Animation,Short|\n",
            "|tt0000003|    short|      Pauvre Pierrot|      Pauvre Pierrot|      0|     1892|     \\N|             4|Animation,Comedy,...|\n",
            "|tt0000004|    short|         Un bon bock|         Un bon bock|      0|     1892|     \\N|            12|     Animation,Short|\n",
            "|tt0000005|    short|    Blacksmith Scene|    Blacksmith Scene|      0|     1893|     \\N|             1|        Comedy,Short|\n",
            "+---------+---------+--------------------+--------------------+-------+---------+-------+--------------+--------------------+\n",
            "only showing top 5 rows\n",
            "\n"
          ]
        }
      ]
    },
    {
      "cell_type": "code",
      "metadata": {
        "colab": {
          "base_uri": "https://localhost:8080/",
          "height": 261
        },
        "id": "VmRzmd-rOZeq",
        "outputId": "2df953f8-c0f1-49f3-8c7e-fbda5717c780"
      },
      "source": [
        "(\n",
        "    df_titles\n",
        "    .withColumn('runtimeMinutes',f.col('runtimeMinutes').cast('int'))\n",
        "    .withColumn('random_normal',f.randn(123))\n",
        "    .withColumn('dummy_division',f.col('runtimeMinutes')/f.col('random_normal'))\n",
        "    .withColumn('dummy_division',f.round(f.col('random_normal'),3))\n",
        "    .withColumn('dummy_round',f.col('runtimeMinutes')*f.col('random_normal'))\n",
        "    .withColumn('dummy_sum',f.col('runtimeMinutes')+f.col('random_normal'))\n",
        "    .withColumn('dummy_sub',f.col('runtimeMinutes')-f.col('random_normal'))\n",
        "    .withColumn('dummy_exp',f.col('runtimeMinutes')**f.col('random_normal'))\n",
        "    .limit(5)\n",
        "    .toPandas()\n",
        ")"
      ],
      "execution_count": null,
      "outputs": [
        {
          "output_type": "execute_result",
          "data": {
            "text/html": [
              "<div>\n",
              "<style scoped>\n",
              "    .dataframe tbody tr th:only-of-type {\n",
              "        vertical-align: middle;\n",
              "    }\n",
              "\n",
              "    .dataframe tbody tr th {\n",
              "        vertical-align: top;\n",
              "    }\n",
              "\n",
              "    .dataframe thead th {\n",
              "        text-align: right;\n",
              "    }\n",
              "</style>\n",
              "<table border=\"1\" class=\"dataframe\">\n",
              "  <thead>\n",
              "    <tr style=\"text-align: right;\">\n",
              "      <th></th>\n",
              "      <th>tconst</th>\n",
              "      <th>titleType</th>\n",
              "      <th>primaryTitle</th>\n",
              "      <th>originalTitle</th>\n",
              "      <th>isAdult</th>\n",
              "      <th>startYear</th>\n",
              "      <th>endYear</th>\n",
              "      <th>runtimeMinutes</th>\n",
              "      <th>genres</th>\n",
              "      <th>random_normal</th>\n",
              "      <th>dummy_division</th>\n",
              "      <th>dummy_round</th>\n",
              "      <th>dummy_sum</th>\n",
              "      <th>dummy_sub</th>\n",
              "      <th>dummy_exp</th>\n",
              "    </tr>\n",
              "  </thead>\n",
              "  <tbody>\n",
              "    <tr>\n",
              "      <th>0</th>\n",
              "      <td>tt0000001</td>\n",
              "      <td>short</td>\n",
              "      <td>Carmencita</td>\n",
              "      <td>Carmencita</td>\n",
              "      <td>0</td>\n",
              "      <td>1894</td>\n",
              "      <td>\\N</td>\n",
              "      <td>1</td>\n",
              "      <td>Documentary,Short</td>\n",
              "      <td>-0.992755</td>\n",
              "      <td>-0.993</td>\n",
              "      <td>-0.992755</td>\n",
              "      <td>0.007245</td>\n",
              "      <td>1.992755</td>\n",
              "      <td>1.000000</td>\n",
              "    </tr>\n",
              "    <tr>\n",
              "      <th>1</th>\n",
              "      <td>tt0000002</td>\n",
              "      <td>short</td>\n",
              "      <td>Le clown et ses chiens</td>\n",
              "      <td>Le clown et ses chiens</td>\n",
              "      <td>0</td>\n",
              "      <td>1892</td>\n",
              "      <td>\\N</td>\n",
              "      <td>5</td>\n",
              "      <td>Animation,Short</td>\n",
              "      <td>0.431839</td>\n",
              "      <td>0.432</td>\n",
              "      <td>2.159195</td>\n",
              "      <td>5.431839</td>\n",
              "      <td>4.568161</td>\n",
              "      <td>2.003745</td>\n",
              "    </tr>\n",
              "    <tr>\n",
              "      <th>2</th>\n",
              "      <td>tt0000003</td>\n",
              "      <td>short</td>\n",
              "      <td>Pauvre Pierrot</td>\n",
              "      <td>Pauvre Pierrot</td>\n",
              "      <td>0</td>\n",
              "      <td>1892</td>\n",
              "      <td>\\N</td>\n",
              "      <td>4</td>\n",
              "      <td>Animation,Comedy,Romance</td>\n",
              "      <td>0.250836</td>\n",
              "      <td>0.251</td>\n",
              "      <td>1.003345</td>\n",
              "      <td>4.250836</td>\n",
              "      <td>3.749164</td>\n",
              "      <td>1.415854</td>\n",
              "    </tr>\n",
              "    <tr>\n",
              "      <th>3</th>\n",
              "      <td>tt0000004</td>\n",
              "      <td>short</td>\n",
              "      <td>Un bon bock</td>\n",
              "      <td>Un bon bock</td>\n",
              "      <td>0</td>\n",
              "      <td>1892</td>\n",
              "      <td>\\N</td>\n",
              "      <td>12</td>\n",
              "      <td>Animation,Short</td>\n",
              "      <td>-0.104760</td>\n",
              "      <td>-0.105</td>\n",
              "      <td>-1.257121</td>\n",
              "      <td>11.895240</td>\n",
              "      <td>12.104760</td>\n",
              "      <td>0.770806</td>\n",
              "    </tr>\n",
              "    <tr>\n",
              "      <th>4</th>\n",
              "      <td>tt0000005</td>\n",
              "      <td>short</td>\n",
              "      <td>Blacksmith Scene</td>\n",
              "      <td>Blacksmith Scene</td>\n",
              "      <td>0</td>\n",
              "      <td>1893</td>\n",
              "      <td>\\N</td>\n",
              "      <td>1</td>\n",
              "      <td>Comedy,Short</td>\n",
              "      <td>-1.301178</td>\n",
              "      <td>-1.301</td>\n",
              "      <td>-1.301178</td>\n",
              "      <td>-0.301178</td>\n",
              "      <td>2.301178</td>\n",
              "      <td>1.000000</td>\n",
              "    </tr>\n",
              "  </tbody>\n",
              "</table>\n",
              "</div>"
            ],
            "text/plain": [
              "      tconst titleType            primaryTitle  ...  dummy_sum  dummy_sub dummy_exp\n",
              "0  tt0000001     short              Carmencita  ...   0.007245   1.992755  1.000000\n",
              "1  tt0000002     short  Le clown et ses chiens  ...   5.431839   4.568161  2.003745\n",
              "2  tt0000003     short          Pauvre Pierrot  ...   4.250836   3.749164  1.415854\n",
              "3  tt0000004     short             Un bon bock  ...  11.895240  12.104760  0.770806\n",
              "4  tt0000005     short        Blacksmith Scene  ...  -0.301178   2.301178  1.000000\n",
              "\n",
              "[5 rows x 15 columns]"
            ]
          },
          "metadata": {},
          "execution_count": 7
        }
      ]
    },
    {
      "cell_type": "markdown",
      "metadata": {
        "id": "wz3iC_DNK46Z"
      },
      "source": [
        "**Strings**\n",
        "\n",
        "  - `upper()` : retorna o string em letras maiúsculas\n",
        "  - `lower()` : retorna o string em letras minúsculas\n",
        "  - `initcap()` : retorna a primeira letra de cada palavra no string em letras maiúsculas\n",
        "  - `trim()` : retira os espaços em branco do início e do final do string\n",
        "  - `ltrim()/rtrim()` : retira os espaços em branco no início e do final do string, respectivamente\n",
        "  - `lpad()/rpad()` : acrescenta um carctere no início e no final do srting, respectivamente, até que string tenha um determinado comprimento\n",
        "  - `length()` : retorna o comprimento do stirng, em quantidade de caracteres\n",
        "  - `split()` : quebra o string a partir de um padrão e retorna um array com os strings resultantes\n",
        "  - `concat()` : concatena uma ou mais colunas de string\n",
        "  - `concat_ws` : concatena uma ou mais colunas de string, com um separador entre elas\n",
        "  - `regexp_extract()` : retorna um match no string a partir de um padrão regex\n",
        "  - `regex_replace()` : substitui um match no string a partir de um padrão regex com outros caracteres\n",
        "  - `substring()` : retornamos caracteres do sting que estão entre os índices especificados. Análogo a f.col().substring() "
      ]
    },
    {
      "cell_type": "code",
      "metadata": {
        "colab": {
          "base_uri": "https://localhost:8080/",
          "height": 330
        },
        "id": "Yv6xt05-K4E3",
        "outputId": "8b06295b-c2eb-4c4b-b34a-3fc47357e0a9"
      },
      "source": [
        "(\n",
        "    df_titles\n",
        "    .withColumn('primarytitle',f.upper(f.col('primaryTitle')))\n",
        "    .withColumn('titleType',f.trim(f.initcap(f.col('titleType'))))\n",
        "    .withColumn('genres_array',f.split(f.col('genres'),','))\n",
        "    .withColumn('num_cost',f.substring(f.col('tconst'),3,7))\n",
        "    .limit(5)\n",
        "    .toPandas()\n",
        ")"
      ],
      "execution_count": null,
      "outputs": [
        {
          "output_type": "execute_result",
          "data": {
            "text/html": [
              "<div>\n",
              "<style scoped>\n",
              "    .dataframe tbody tr th:only-of-type {\n",
              "        vertical-align: middle;\n",
              "    }\n",
              "\n",
              "    .dataframe tbody tr th {\n",
              "        vertical-align: top;\n",
              "    }\n",
              "\n",
              "    .dataframe thead th {\n",
              "        text-align: right;\n",
              "    }\n",
              "</style>\n",
              "<table border=\"1\" class=\"dataframe\">\n",
              "  <thead>\n",
              "    <tr style=\"text-align: right;\">\n",
              "      <th></th>\n",
              "      <th>tconst</th>\n",
              "      <th>titleType</th>\n",
              "      <th>primarytitle</th>\n",
              "      <th>originalTitle</th>\n",
              "      <th>isAdult</th>\n",
              "      <th>startYear</th>\n",
              "      <th>endYear</th>\n",
              "      <th>runtimeMinutes</th>\n",
              "      <th>genres</th>\n",
              "      <th>genres_array</th>\n",
              "      <th>num_cost</th>\n",
              "    </tr>\n",
              "  </thead>\n",
              "  <tbody>\n",
              "    <tr>\n",
              "      <th>0</th>\n",
              "      <td>tt0000001</td>\n",
              "      <td>Short</td>\n",
              "      <td>CARMENCITA</td>\n",
              "      <td>Carmencita</td>\n",
              "      <td>0</td>\n",
              "      <td>1894</td>\n",
              "      <td>\\N</td>\n",
              "      <td>1</td>\n",
              "      <td>Documentary,Short</td>\n",
              "      <td>[Documentary, Short]</td>\n",
              "      <td>0000001</td>\n",
              "    </tr>\n",
              "    <tr>\n",
              "      <th>1</th>\n",
              "      <td>tt0000002</td>\n",
              "      <td>Short</td>\n",
              "      <td>LE CLOWN ET SES CHIENS</td>\n",
              "      <td>Le clown et ses chiens</td>\n",
              "      <td>0</td>\n",
              "      <td>1892</td>\n",
              "      <td>\\N</td>\n",
              "      <td>5</td>\n",
              "      <td>Animation,Short</td>\n",
              "      <td>[Animation, Short]</td>\n",
              "      <td>0000002</td>\n",
              "    </tr>\n",
              "    <tr>\n",
              "      <th>2</th>\n",
              "      <td>tt0000003</td>\n",
              "      <td>Short</td>\n",
              "      <td>PAUVRE PIERROT</td>\n",
              "      <td>Pauvre Pierrot</td>\n",
              "      <td>0</td>\n",
              "      <td>1892</td>\n",
              "      <td>\\N</td>\n",
              "      <td>4</td>\n",
              "      <td>Animation,Comedy,Romance</td>\n",
              "      <td>[Animation, Comedy, Romance]</td>\n",
              "      <td>0000003</td>\n",
              "    </tr>\n",
              "    <tr>\n",
              "      <th>3</th>\n",
              "      <td>tt0000004</td>\n",
              "      <td>Short</td>\n",
              "      <td>UN BON BOCK</td>\n",
              "      <td>Un bon bock</td>\n",
              "      <td>0</td>\n",
              "      <td>1892</td>\n",
              "      <td>\\N</td>\n",
              "      <td>12</td>\n",
              "      <td>Animation,Short</td>\n",
              "      <td>[Animation, Short]</td>\n",
              "      <td>0000004</td>\n",
              "    </tr>\n",
              "    <tr>\n",
              "      <th>4</th>\n",
              "      <td>tt0000005</td>\n",
              "      <td>Short</td>\n",
              "      <td>BLACKSMITH SCENE</td>\n",
              "      <td>Blacksmith Scene</td>\n",
              "      <td>0</td>\n",
              "      <td>1893</td>\n",
              "      <td>\\N</td>\n",
              "      <td>1</td>\n",
              "      <td>Comedy,Short</td>\n",
              "      <td>[Comedy, Short]</td>\n",
              "      <td>0000005</td>\n",
              "    </tr>\n",
              "  </tbody>\n",
              "</table>\n",
              "</div>"
            ],
            "text/plain": [
              "      tconst titleType  ...                  genres_array num_cost\n",
              "0  tt0000001     Short  ...          [Documentary, Short]  0000001\n",
              "1  tt0000002     Short  ...            [Animation, Short]  0000002\n",
              "2  tt0000003     Short  ...  [Animation, Comedy, Romance]  0000003\n",
              "3  tt0000004     Short  ...            [Animation, Short]  0000004\n",
              "4  tt0000005     Short  ...               [Comedy, Short]  0000005\n",
              "\n",
              "[5 rows x 11 columns]"
            ]
          },
          "metadata": {},
          "execution_count": 16
        }
      ]
    },
    {
      "cell_type": "markdown",
      "metadata": {
        "id": "217VJY-_PlLW"
      },
      "source": [
        "**Datas**\n",
        "\n",
        "  - `add_months()` : retorna a data depois de adicionar \"x\" meses\n",
        "  - `months_between()` : retorna a diferença entre duas datas em meses\n",
        "  - `date_add()` : retorna a data depois de adicionar \"x\" dias\n",
        "  - `date_sub()` : retorna a data depois de subtrair \"x\" dias\n",
        "  - `next_day` : retorna o dia seguinte de alguma data\n",
        "  - `datediff()` : retorna a diferença entre duas datas em dias\n",
        "  - `current_date` : retorna a data atual\n",
        "  - `dayofweek/dayofmonth()/dayofyear` : retorna o dia relativo à semana, ao mês e ao ano, respectivamente.\n",
        "  - `weekofyear` : retorna a semana relativa ao ano\n",
        "  - `second()/minute()/hour()` : retorna os segundos, os minutos e as horas de uma coluna de date-time, respectivamente\n",
        "  - `month()/year()` : retorna o mês e o ano de uma coluna de data, respectivamente\n",
        "  - `last_day()` : retorna o último dia do mês do qual a data considerada pertence\n",
        "  - `to_date()` : transforma a coluna no tipo data (t.DateType())\n",
        "  - `trunc()` : formata a data para a unidade especificada\n",
        "    - `year` : \"(ano)-01-01\"\n",
        "    - `month` : \"(ano)-(mes)-01\" "
      ]
    },
    {
      "cell_type": "code",
      "metadata": {
        "colab": {
          "base_uri": "https://localhost:8080/"
        },
        "id": "R1a2UazERpen",
        "outputId": "2e988444-953d-414c-9e84-c58508195df7"
      },
      "source": [
        "(\n",
        "    df_titles\n",
        "    .filter('titleType = \"movie\"')\n",
        "    .withColumn('data_ano',f.to_date(f.col('startYear'),'yyyy'))\n",
        "    .withColumn('mes',f.month(f.col('data_ano')))\n",
        "    .withColumn('ano',f.dayofmonth(f.col('data_ano')))\n",
        "    .withColumn('hoje',f.current_date())\n",
        "    .withColumn('trunc',f.trunc(f.col('data_ano'),'week'))\n",
        "    .withColumn('ultimo_dia_mes',f.last_day(f.col('data_ano')))\n",
        "    .withColumn('idade_filme_dias',f.datediff(f.col('hoje'),f.col('data_ano')))\n",
        "    .withColumn('idade_filme_meses',f.floor(f.months_between(f.col('hoje'),f.col('data_ano'))))\n",
        "    .withColumn('idade_filme_anos',f.floor(f.col('idade_filme_dias')/365))\n",
        "    .select('startYear','data_ano','mes','ano','hoje','trunc',\n",
        "            'ultimo_dia_mes','idade_filme_dias','idade_filme_meses','idade_filme_anos')\n",
        "    .show(5)\n",
        ")"
      ],
      "execution_count": null,
      "outputs": [
        {
          "output_type": "stream",
          "name": "stdout",
          "text": [
            "+---------+----------+---+---+----------+----------+--------------+----------------+-----------------+----------------+\n",
            "|startYear|  data_ano|mes|ano|      hoje|     trunc|ultimo_dia_mes|idade_filme_dias|idade_filme_meses|idade_filme_anos|\n",
            "+---------+----------+---+---+----------+----------+--------------+----------------+-----------------+----------------+\n",
            "|     1905|1905-01-01|  1|  1|2021-10-29|1904-12-26|    1905-01-31|           42670|             1401|             116|\n",
            "|     1907|1907-01-01|  1|  1|2021-10-29|1906-12-31|    1907-01-31|           41940|             1377|             114|\n",
            "|     1907|1907-01-01|  1|  1|2021-10-29|1906-12-31|    1907-01-31|           41940|             1377|             114|\n",
            "|     1908|1908-01-01|  1|  1|2021-10-29|1907-12-30|    1908-01-31|           41575|             1365|             113|\n",
            "|     1908|1908-01-01|  1|  1|2021-10-29|1907-12-30|    1908-01-31|           41575|             1365|             113|\n",
            "+---------+----------+---+---+----------+----------+--------------+----------------+-----------------+----------------+\n",
            "only showing top 5 rows\n",
            "\n"
          ]
        }
      ]
    },
    {
      "cell_type": "markdown",
      "metadata": {
        "id": "DFRfYtITahbX"
      },
      "source": [
        "**Arrays**\n",
        "\n",
        "  - `array()` : constrói um array com as colunas selecionadas\n",
        "  - `flatten()` : transforma um array de arrays em um único array\n",
        "  - `explode()` : retorna uma nova linha para cada elemento no array\n",
        "  - `size()` : retorna o número de elementos do array\n",
        "  - `sort_array()` : ordena os elementos do array, de forma crescente ou decrescente\n",
        "  - `reverse()` : reverte a ordem dos elementos de um array \n",
        "  - `array_distinct()` : remove elementos duplicados do array\n",
        "  - `array_contains()` : verifica se o array contém o elemento especificado\n",
        "  - `arrays_overlap()` : a partir de 2 colunas de arrays, verifica se elas tem algum elemento em comum, retornando True ou False\n",
        "  - `array_union()` : a partir de 2 colunas de arrays, retorna o array com os elementos unidos das duas colunas, sem duplicatas\n",
        "  - `array_except()` : a partir de 2 colunas de arrays, retorna um array com os elementos que estão em uma coluna mais não estão na outra, sem duplicatas\n",
        "  - `array_intersect()` : a partir de 2 colunas de arrays, retorna um array com os elementos que estão nas duas colunas, sem duplicatas\n",
        "  - `array_join()` : retorna um string após concaterna os elementos do array usando um delimitador especificado\n",
        "  - `array_max()/array_min()` : retorna o máximo e o mínimo valor do array, respectivamente\n",
        "  - `array_remove()` : remove elementos do array que são iguais a uma valor especificado  \n"
      ]
    },
    {
      "cell_type": "code",
      "metadata": {
        "colab": {
          "base_uri": "https://localhost:8080/"
        },
        "id": "-MCwZXeqagVd",
        "outputId": "f5a49912-b14d-4898-b9b2-d795a66e4ef7"
      },
      "source": [
        "(\n",
        "    df_titles\n",
        "    .filter('titleType = \"movie\"')\n",
        "    .withColumn('genres_array',f.split(f.col('genres'), ','))\n",
        "    .withColumn('first_genre',f.col('genres_array')[0])\n",
        "    .withColumn('genres_string',f.array_join(f.col('genres_array'),','))\n",
        "    .withColumn('n_genres',f.size(f.col('genres_array')))\n",
        "    .withColumn('genres_unico',f.explode(f.col('genres_array')))\n",
        "    .select('genres_array','first_genre','genres_string','n_genres','genres_unico')\n",
        "    .show(20)\n",
        ")"
      ],
      "execution_count": null,
      "outputs": [
        {
          "output_type": "stream",
          "name": "stdout",
          "text": [
            "+--------------------+-----------+-----------------+--------+------------+\n",
            "|        genres_array|first_genre|    genres_string|n_genres|genres_unico|\n",
            "+--------------------+-----------+-----------------+--------+------------+\n",
            "|                [\\N]|         \\N|               \\N|       1|          \\N|\n",
            "|             [Drama]|      Drama|            Drama|       1|       Drama|\n",
            "|             [Drama]|      Drama|            Drama|       1|       Drama|\n",
            "|             [Drama]|      Drama|            Drama|       1|       Drama|\n",
            "|             [Drama]|      Drama|            Drama|       1|       Drama|\n",
            "|[Adventure, Fantasy]|  Adventure|Adventure,Fantasy|       2|   Adventure|\n",
            "|[Adventure, Fantasy]|  Adventure|Adventure,Fantasy|       2|     Fantasy|\n",
            "|             [Drama]|      Drama|            Drama|       1|       Drama|\n",
            "|             [Drama]|      Drama|            Drama|       1|       Drama|\n",
            "|                [\\N]|         \\N|               \\N|       1|          \\N|\n",
            "|                [\\N]|         \\N|               \\N|       1|          \\N|\n",
            "|                [\\N]|         \\N|               \\N|       1|          \\N|\n",
            "|                [\\N]|         \\N|               \\N|       1|          \\N|\n",
            "|                [\\N]|         \\N|               \\N|       1|          \\N|\n",
            "|                [\\N]|         \\N|               \\N|       1|          \\N|\n",
            "|                [\\N]|         \\N|               \\N|       1|          \\N|\n",
            "|                [\\N]|         \\N|               \\N|       1|          \\N|\n",
            "|                [\\N]|         \\N|               \\N|       1|          \\N|\n",
            "|                [\\N]|         \\N|               \\N|       1|          \\N|\n",
            "|                [\\N]|         \\N|               \\N|       1|          \\N|\n",
            "+--------------------+-----------+-----------------+--------+------------+\n",
            "only showing top 20 rows\n",
            "\n"
          ]
        }
      ]
    },
    {
      "cell_type": "markdown",
      "metadata": {
        "id": "0FzOUh7ajtxM"
      },
      "source": [
        "**Nulos**\n",
        "\n",
        "  - `drop()` : retira do DataFrame as linhas com nulos, com base no que foi passado para o argumento how\n",
        "    - any (default) : retira todas as linhas com pelo menos um valor nulo nas colunas\n",
        "    - all : somente retira as linhas com todos os valores nulos nas colunas\n",
        "  - `fill()` : preenche os valores nulos no DataFrame com uma constante, passada pelo usuário\n",
        "  - `replace()` : substitui o valor (não somente os valores nulos) por algum outro passado pelo usuário  "
      ]
    },
    {
      "cell_type": "code",
      "metadata": {
        "colab": {
          "base_uri": "https://localhost:8080/"
        },
        "id": "_3isoJiKkfnw",
        "outputId": "30607076-86de-45b2-ad30-bbbdc90b25d9"
      },
      "source": [
        "(\n",
        "    df_titles\n",
        "    .replace('\\\\N', None, subset=['startYear','endYear'])\n",
        "    .filter('endYear is null and startYear is not null')\n",
        "    #.na.drop(subset=['startYear'])#'0',subset=['endYear'])\n",
        "    .withColumn('coalesce_test',f.coalesce(f.col('startYear'),\n",
        "                                           f.col('startYear'),\n",
        "                                           f.lit('Sem ano')))\n",
        "    .show(5)\n",
        ")"
      ],
      "execution_count": null,
      "outputs": [
        {
          "output_type": "stream",
          "name": "stdout",
          "text": [
            "+---------+---------+--------------------+--------------------+-------+---------+-------+--------------+--------------------+-------------+\n",
            "|   tconst|titleType|        primaryTitle|       originalTitle|isAdult|startYear|endYear|runtimeMinutes|              genres|coalesce_test|\n",
            "+---------+---------+--------------------+--------------------+-------+---------+-------+--------------+--------------------+-------------+\n",
            "|tt0000001|    short|          Carmencita|          Carmencita|      0|     1894|   null|             1|   Documentary,Short|         1894|\n",
            "|tt0000002|    short|Le clown et ses c...|Le clown et ses c...|      0|     1892|   null|             5|     Animation,Short|         1892|\n",
            "|tt0000003|    short|      Pauvre Pierrot|      Pauvre Pierrot|      0|     1892|   null|             4|Animation,Comedy,...|         1892|\n",
            "|tt0000004|    short|         Un bon bock|         Un bon bock|      0|     1892|   null|            12|     Animation,Short|         1892|\n",
            "|tt0000005|    short|    Blacksmith Scene|    Blacksmith Scene|      0|     1893|   null|             1|        Comedy,Short|         1893|\n",
            "+---------+---------+--------------------+--------------------+-------+---------+-------+--------------+--------------------+-------------+\n",
            "only showing top 5 rows\n",
            "\n"
          ]
        }
      ]
    },
    {
      "cell_type": "markdown",
      "metadata": {
        "id": "qBKzWEZOpha_"
      },
      "source": [
        "# **Aula 4.1 -** Manipulando dados com Spark - Parte II"
      ]
    }
  ]
}